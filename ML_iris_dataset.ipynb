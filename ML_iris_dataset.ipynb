{
 "cells": [
  {
   "cell_type": "markdown",
   "metadata": {},
   "source": [
    "## Machine Learning CW2 - September 2022\n",
    "### Comparing classifiers using the Iris Dataset\n",
    "#### Classifiers: Naive Bayes, Random Forest, K-Nearest-Neighbour"
   ]
  },
  {
   "cell_type": "code",
   "execution_count": 327,
   "metadata": {},
   "outputs": [],
   "source": [
    "# import the relevant libraries\n",
    "import pandas as pd\n",
    "import seaborn as sns\n",
    "import numpy as np\n",
    "import matplotlib.pyplot as plt\n",
    "from sklearn import datasets \n",
    "from sklearn.model_selection import train_test_split\n",
    "from sklearn.preprocessing import StandardScaler\n",
    "from sklearn.naive_bayes import GaussianNB\n",
    "from sklearn.ensemble import RandomForestClassifier\n",
    "from sklearn.neighbors import KNeighborsClassifier\n",
    "from sklearn import metrics\n",
    "from sklearn.metrics import accuracy_score ,precision_score,recall_score,f1_score\n",
    "from sklearn.metrics import confusion_matrix, classification_report\n",
    "from sklearn.model_selection import KFold\n",
    "from sklearn.model_selection import GridSearchCV\n",
    "from sklearn.datasets import make_classification\n",
    "from sklearn.model_selection import cross_val_score\n",
    "from sklearn.feature_selection import SelectFromModel\n",
    "import statistics as stat"
   ]
  },
  {
   "cell_type": "code",
   "execution_count": 328,
   "metadata": {},
   "outputs": [
    {
     "name": "stdout",
     "output_type": "stream",
     "text": [
      ".. _iris_dataset:\n",
      "\n",
      "Iris plants dataset\n",
      "--------------------\n",
      "\n",
      "**Data Set Characteristics:**\n",
      "\n",
      "    :Number of Instances: 150 (50 in each of three classes)\n",
      "    :Number of Attributes: 4 numeric, predictive attributes and the class\n",
      "    :Attribute Information:\n",
      "        - sepal length in cm\n",
      "        - sepal width in cm\n",
      "        - petal length in cm\n",
      "        - petal width in cm\n",
      "        - class:\n",
      "                - Iris-Setosa\n",
      "                - Iris-Versicolour\n",
      "                - Iris-Virginica\n",
      "                \n",
      "    :Summary Statistics:\n",
      "\n",
      "    ============== ==== ==== ======= ===== ====================\n",
      "                    Min  Max   Mean    SD   Class Correlation\n",
      "    ============== ==== ==== ======= ===== ====================\n",
      "    sepal length:   4.3  7.9   5.84   0.83    0.7826\n",
      "    sepal width:    2.0  4.4   3.05   0.43   -0.4194\n",
      "    petal length:   1.0  6.9   3.76   1.76    0.9490  (high!)\n",
      "    petal width:    0.1  2.5   1.20   0.76    0.9565  (high!)\n",
      "    ============== ==== ==== ======= ===== ====================\n",
      "\n",
      "    :Missing Attribute Values: None\n",
      "    :Class Distribution: 33.3% for each of 3 classes.\n",
      "    :Creator: R.A. Fisher\n",
      "    :Donor: Michael Marshall (MARSHALL%PLU@io.arc.nasa.gov)\n",
      "    :Date: July, 1988\n",
      "\n",
      "The famous Iris database, first used by Sir R.A. Fisher. The dataset is taken\n",
      "from Fisher's paper. Note that it's the same as in R, but not as in the UCI\n",
      "Machine Learning Repository, which has two wrong data points.\n",
      "\n",
      "This is perhaps the best known database to be found in the\n",
      "pattern recognition literature.  Fisher's paper is a classic in the field and\n",
      "is referenced frequently to this day.  (See Duda & Hart, for example.)  The\n",
      "data set contains 3 classes of 50 instances each, where each class refers to a\n",
      "type of iris plant.  One class is linearly separable from the other 2; the\n",
      "latter are NOT linearly separable from each other.\n",
      "\n",
      ".. topic:: References\n",
      "\n",
      "   - Fisher, R.A. \"The use of multiple measurements in taxonomic problems\"\n",
      "     Annual Eugenics, 7, Part II, 179-188 (1936); also in \"Contributions to\n",
      "     Mathematical Statistics\" (John Wiley, NY, 1950).\n",
      "   - Duda, R.O., & Hart, P.E. (1973) Pattern Classification and Scene Analysis.\n",
      "     (Q327.D83) John Wiley & Sons.  ISBN 0-471-22361-1.  See page 218.\n",
      "   - Dasarathy, B.V. (1980) \"Nosing Around the Neighborhood: A New System\n",
      "     Structure and Classification Rule for Recognition in Partially Exposed\n",
      "     Environments\".  IEEE Transactions on Pattern Analysis and Machine\n",
      "     Intelligence, Vol. PAMI-2, No. 1, 67-71.\n",
      "   - Gates, G.W. (1972) \"The Reduced Nearest Neighbor Rule\".  IEEE Transactions\n",
      "     on Information Theory, May 1972, 431-433.\n",
      "   - See also: 1988 MLC Proceedings, 54-64.  Cheeseman et al\"s AUTOCLASS II\n",
      "     conceptual clustering system finds 3 classes in the data.\n",
      "   - Many, many more ...\n"
     ]
    }
   ],
   "source": [
    "# load the iris dataset and print the description\n",
    "iris = datasets.load_iris()\n",
    "print(iris.DESCR)"
   ]
  },
  {
   "cell_type": "markdown",
   "metadata": {},
   "source": [
    "### Exploratory Data Analysis (EDA)"
   ]
  },
  {
   "cell_type": "code",
   "execution_count": 329,
   "metadata": {},
   "outputs": [
    {
     "name": "stdout",
     "output_type": "stream",
     "text": [
      "['setosa' 'versicolor' 'virginica']\n"
     ]
    }
   ],
   "source": [
    "# print the target names\n",
    "print(iris.target_names)"
   ]
  },
  {
   "cell_type": "code",
   "execution_count": 330,
   "metadata": {},
   "outputs": [
    {
     "name": "stdout",
     "output_type": "stream",
     "text": [
      "(150, 4)\n",
      "(150,)\n"
     ]
    }
   ],
   "source": [
    "# print the shape of the data and target variables\n",
    "print(iris.data.shape)\n",
    "print(iris.target.shape)"
   ]
  },
  {
   "cell_type": "code",
   "execution_count": 331,
   "metadata": {},
   "outputs": [
    {
     "data": {
      "text/plain": [
       "array([50, 50, 50], dtype=int64)"
      ]
     },
     "execution_count": 331,
     "metadata": {},
     "output_type": "execute_result"
    }
   ],
   "source": [
    "# bin count of target variables\n",
    "np.bincount(iris.target)"
   ]
  },
  {
   "cell_type": "code",
   "execution_count": 332,
   "metadata": {},
   "outputs": [
    {
     "data": {
      "text/html": [
       "<div>\n",
       "<style scoped>\n",
       "    .dataframe tbody tr th:only-of-type {\n",
       "        vertical-align: middle;\n",
       "    }\n",
       "\n",
       "    .dataframe tbody tr th {\n",
       "        vertical-align: top;\n",
       "    }\n",
       "\n",
       "    .dataframe thead th {\n",
       "        text-align: right;\n",
       "    }\n",
       "</style>\n",
       "<table border=\"1\" class=\"dataframe\">\n",
       "  <thead>\n",
       "    <tr style=\"text-align: right;\">\n",
       "      <th></th>\n",
       "      <th>sepal length (cm)</th>\n",
       "      <th>sepal width (cm)</th>\n",
       "      <th>petal length (cm)</th>\n",
       "      <th>petal width (cm)</th>\n",
       "      <th>species</th>\n",
       "    </tr>\n",
       "  </thead>\n",
       "  <tbody>\n",
       "    <tr>\n",
       "      <th>0</th>\n",
       "      <td>5.1</td>\n",
       "      <td>3.5</td>\n",
       "      <td>1.4</td>\n",
       "      <td>0.2</td>\n",
       "      <td>setosa</td>\n",
       "    </tr>\n",
       "    <tr>\n",
       "      <th>1</th>\n",
       "      <td>4.9</td>\n",
       "      <td>3.0</td>\n",
       "      <td>1.4</td>\n",
       "      <td>0.2</td>\n",
       "      <td>setosa</td>\n",
       "    </tr>\n",
       "    <tr>\n",
       "      <th>2</th>\n",
       "      <td>4.7</td>\n",
       "      <td>3.2</td>\n",
       "      <td>1.3</td>\n",
       "      <td>0.2</td>\n",
       "      <td>setosa</td>\n",
       "    </tr>\n",
       "    <tr>\n",
       "      <th>3</th>\n",
       "      <td>4.6</td>\n",
       "      <td>3.1</td>\n",
       "      <td>1.5</td>\n",
       "      <td>0.2</td>\n",
       "      <td>setosa</td>\n",
       "    </tr>\n",
       "    <tr>\n",
       "      <th>4</th>\n",
       "      <td>5.0</td>\n",
       "      <td>3.6</td>\n",
       "      <td>1.4</td>\n",
       "      <td>0.2</td>\n",
       "      <td>setosa</td>\n",
       "    </tr>\n",
       "    <tr>\n",
       "      <th>...</th>\n",
       "      <td>...</td>\n",
       "      <td>...</td>\n",
       "      <td>...</td>\n",
       "      <td>...</td>\n",
       "      <td>...</td>\n",
       "    </tr>\n",
       "    <tr>\n",
       "      <th>145</th>\n",
       "      <td>6.7</td>\n",
       "      <td>3.0</td>\n",
       "      <td>5.2</td>\n",
       "      <td>2.3</td>\n",
       "      <td>virginica</td>\n",
       "    </tr>\n",
       "    <tr>\n",
       "      <th>146</th>\n",
       "      <td>6.3</td>\n",
       "      <td>2.5</td>\n",
       "      <td>5.0</td>\n",
       "      <td>1.9</td>\n",
       "      <td>virginica</td>\n",
       "    </tr>\n",
       "    <tr>\n",
       "      <th>147</th>\n",
       "      <td>6.5</td>\n",
       "      <td>3.0</td>\n",
       "      <td>5.2</td>\n",
       "      <td>2.0</td>\n",
       "      <td>virginica</td>\n",
       "    </tr>\n",
       "    <tr>\n",
       "      <th>148</th>\n",
       "      <td>6.2</td>\n",
       "      <td>3.4</td>\n",
       "      <td>5.4</td>\n",
       "      <td>2.3</td>\n",
       "      <td>virginica</td>\n",
       "    </tr>\n",
       "    <tr>\n",
       "      <th>149</th>\n",
       "      <td>5.9</td>\n",
       "      <td>3.0</td>\n",
       "      <td>5.1</td>\n",
       "      <td>1.8</td>\n",
       "      <td>virginica</td>\n",
       "    </tr>\n",
       "  </tbody>\n",
       "</table>\n",
       "<p>150 rows × 5 columns</p>\n",
       "</div>"
      ],
      "text/plain": [
       "     sepal length (cm)  sepal width (cm)  petal length (cm)  petal width (cm)  \\\n",
       "0                  5.1               3.5                1.4               0.2   \n",
       "1                  4.9               3.0                1.4               0.2   \n",
       "2                  4.7               3.2                1.3               0.2   \n",
       "3                  4.6               3.1                1.5               0.2   \n",
       "4                  5.0               3.6                1.4               0.2   \n",
       "..                 ...               ...                ...               ...   \n",
       "145                6.7               3.0                5.2               2.3   \n",
       "146                6.3               2.5                5.0               1.9   \n",
       "147                6.5               3.0                5.2               2.0   \n",
       "148                6.2               3.4                5.4               2.3   \n",
       "149                5.9               3.0                5.1               1.8   \n",
       "\n",
       "       species  \n",
       "0       setosa  \n",
       "1       setosa  \n",
       "2       setosa  \n",
       "3       setosa  \n",
       "4       setosa  \n",
       "..         ...  \n",
       "145  virginica  \n",
       "146  virginica  \n",
       "147  virginica  \n",
       "148  virginica  \n",
       "149  virginica  \n",
       "\n",
       "[150 rows x 5 columns]"
      ]
     },
     "execution_count": 332,
     "metadata": {},
     "output_type": "execute_result"
    }
   ],
   "source": [
    "# create a dataframe with target features and species column\n",
    "df = pd.DataFrame(iris.data, columns=iris.feature_names)\n",
    "df['species'] = np.array([iris.target_names[i] for i in iris.target])\n",
    "df"
   ]
  },
  {
   "cell_type": "code",
   "execution_count": 333,
   "metadata": {},
   "outputs": [
    {
     "data": {
      "text/html": [
       "<div>\n",
       "<style scoped>\n",
       "    .dataframe tbody tr th:only-of-type {\n",
       "        vertical-align: middle;\n",
       "    }\n",
       "\n",
       "    .dataframe tbody tr th {\n",
       "        vertical-align: top;\n",
       "    }\n",
       "\n",
       "    .dataframe thead th {\n",
       "        text-align: right;\n",
       "    }\n",
       "</style>\n",
       "<table border=\"1\" class=\"dataframe\">\n",
       "  <thead>\n",
       "    <tr style=\"text-align: right;\">\n",
       "      <th></th>\n",
       "      <th>sepal length (cm)</th>\n",
       "      <th>sepal width (cm)</th>\n",
       "      <th>petal length (cm)</th>\n",
       "      <th>petal width (cm)</th>\n",
       "    </tr>\n",
       "  </thead>\n",
       "  <tbody>\n",
       "    <tr>\n",
       "      <th>count</th>\n",
       "      <td>150.000000</td>\n",
       "      <td>150.000000</td>\n",
       "      <td>150.000000</td>\n",
       "      <td>150.000000</td>\n",
       "    </tr>\n",
       "    <tr>\n",
       "      <th>mean</th>\n",
       "      <td>5.843333</td>\n",
       "      <td>3.057333</td>\n",
       "      <td>3.758000</td>\n",
       "      <td>1.199333</td>\n",
       "    </tr>\n",
       "    <tr>\n",
       "      <th>std</th>\n",
       "      <td>0.828066</td>\n",
       "      <td>0.435866</td>\n",
       "      <td>1.765298</td>\n",
       "      <td>0.762238</td>\n",
       "    </tr>\n",
       "    <tr>\n",
       "      <th>min</th>\n",
       "      <td>4.300000</td>\n",
       "      <td>2.000000</td>\n",
       "      <td>1.000000</td>\n",
       "      <td>0.100000</td>\n",
       "    </tr>\n",
       "    <tr>\n",
       "      <th>25%</th>\n",
       "      <td>5.100000</td>\n",
       "      <td>2.800000</td>\n",
       "      <td>1.600000</td>\n",
       "      <td>0.300000</td>\n",
       "    </tr>\n",
       "    <tr>\n",
       "      <th>50%</th>\n",
       "      <td>5.800000</td>\n",
       "      <td>3.000000</td>\n",
       "      <td>4.350000</td>\n",
       "      <td>1.300000</td>\n",
       "    </tr>\n",
       "    <tr>\n",
       "      <th>75%</th>\n",
       "      <td>6.400000</td>\n",
       "      <td>3.300000</td>\n",
       "      <td>5.100000</td>\n",
       "      <td>1.800000</td>\n",
       "    </tr>\n",
       "    <tr>\n",
       "      <th>max</th>\n",
       "      <td>7.900000</td>\n",
       "      <td>4.400000</td>\n",
       "      <td>6.900000</td>\n",
       "      <td>2.500000</td>\n",
       "    </tr>\n",
       "  </tbody>\n",
       "</table>\n",
       "</div>"
      ],
      "text/plain": [
       "       sepal length (cm)  sepal width (cm)  petal length (cm)  \\\n",
       "count         150.000000        150.000000         150.000000   \n",
       "mean            5.843333          3.057333           3.758000   \n",
       "std             0.828066          0.435866           1.765298   \n",
       "min             4.300000          2.000000           1.000000   \n",
       "25%             5.100000          2.800000           1.600000   \n",
       "50%             5.800000          3.000000           4.350000   \n",
       "75%             6.400000          3.300000           5.100000   \n",
       "max             7.900000          4.400000           6.900000   \n",
       "\n",
       "       petal width (cm)  \n",
       "count        150.000000  \n",
       "mean           1.199333  \n",
       "std            0.762238  \n",
       "min            0.100000  \n",
       "25%            0.300000  \n",
       "50%            1.300000  \n",
       "75%            1.800000  \n",
       "max            2.500000  "
      ]
     },
     "execution_count": 333,
     "metadata": {},
     "output_type": "execute_result"
    }
   ],
   "source": [
    "# print descriptive statistics\n",
    "df.describe()"
   ]
  },
  {
   "cell_type": "code",
   "execution_count": 334,
   "metadata": {},
   "outputs": [
    {
     "name": "stdout",
     "output_type": "stream",
     "text": [
      "<class 'pandas.core.frame.DataFrame'>\n",
      "RangeIndex: 150 entries, 0 to 149\n",
      "Data columns (total 5 columns):\n",
      " #   Column             Non-Null Count  Dtype  \n",
      "---  ------             --------------  -----  \n",
      " 0   sepal length (cm)  150 non-null    float64\n",
      " 1   sepal width (cm)   150 non-null    float64\n",
      " 2   petal length (cm)  150 non-null    float64\n",
      " 3   petal width (cm)   150 non-null    float64\n",
      " 4   species            150 non-null    object \n",
      "dtypes: float64(4), object(1)\n",
      "memory usage: 6.0+ KB\n"
     ]
    }
   ],
   "source": [
    "# print a summary of the dataset\n",
    "df.info()"
   ]
  },
  {
   "cell_type": "code",
   "execution_count": 335,
   "metadata": {},
   "outputs": [
    {
     "data": {
      "text/plain": [
       "sepal length (cm)    0\n",
       "sepal width (cm)     0\n",
       "petal length (cm)    0\n",
       "petal width (cm)     0\n",
       "species              0\n",
       "dtype: int64"
      ]
     },
     "execution_count": 335,
     "metadata": {},
     "output_type": "execute_result"
    }
   ],
   "source": [
    "# check for null values\n",
    "df.isnull().sum()"
   ]
  },
  {
   "cell_type": "markdown",
   "metadata": {},
   "source": [
    "There are no null values in the dataset"
   ]
  },
  {
   "cell_type": "code",
   "execution_count": 336,
   "metadata": {},
   "outputs": [
    {
     "data": {
      "text/html": [
       "<div>\n",
       "<style scoped>\n",
       "    .dataframe tbody tr th:only-of-type {\n",
       "        vertical-align: middle;\n",
       "    }\n",
       "\n",
       "    .dataframe tbody tr th {\n",
       "        vertical-align: top;\n",
       "    }\n",
       "\n",
       "    .dataframe thead th {\n",
       "        text-align: right;\n",
       "    }\n",
       "</style>\n",
       "<table border=\"1\" class=\"dataframe\">\n",
       "  <thead>\n",
       "    <tr style=\"text-align: right;\">\n",
       "      <th></th>\n",
       "      <th>sepal length (cm)</th>\n",
       "      <th>sepal width (cm)</th>\n",
       "      <th>petal length (cm)</th>\n",
       "      <th>petal width (cm)</th>\n",
       "      <th>species</th>\n",
       "    </tr>\n",
       "  </thead>\n",
       "  <tbody>\n",
       "    <tr>\n",
       "      <th>0</th>\n",
       "      <td>5.1</td>\n",
       "      <td>3.5</td>\n",
       "      <td>1.4</td>\n",
       "      <td>0.2</td>\n",
       "      <td>setosa</td>\n",
       "    </tr>\n",
       "    <tr>\n",
       "      <th>1</th>\n",
       "      <td>4.9</td>\n",
       "      <td>3.0</td>\n",
       "      <td>1.4</td>\n",
       "      <td>0.2</td>\n",
       "      <td>setosa</td>\n",
       "    </tr>\n",
       "    <tr>\n",
       "      <th>2</th>\n",
       "      <td>4.7</td>\n",
       "      <td>3.2</td>\n",
       "      <td>1.3</td>\n",
       "      <td>0.2</td>\n",
       "      <td>setosa</td>\n",
       "    </tr>\n",
       "    <tr>\n",
       "      <th>3</th>\n",
       "      <td>4.6</td>\n",
       "      <td>3.1</td>\n",
       "      <td>1.5</td>\n",
       "      <td>0.2</td>\n",
       "      <td>setosa</td>\n",
       "    </tr>\n",
       "    <tr>\n",
       "      <th>4</th>\n",
       "      <td>5.0</td>\n",
       "      <td>3.6</td>\n",
       "      <td>1.4</td>\n",
       "      <td>0.2</td>\n",
       "      <td>setosa</td>\n",
       "    </tr>\n",
       "  </tbody>\n",
       "</table>\n",
       "</div>"
      ],
      "text/plain": [
       "   sepal length (cm)  sepal width (cm)  petal length (cm)  petal width (cm)  \\\n",
       "0                5.1               3.5                1.4               0.2   \n",
       "1                4.9               3.0                1.4               0.2   \n",
       "2                4.7               3.2                1.3               0.2   \n",
       "3                4.6               3.1                1.5               0.2   \n",
       "4                5.0               3.6                1.4               0.2   \n",
       "\n",
       "  species  \n",
       "0  setosa  \n",
       "1  setosa  \n",
       "2  setosa  \n",
       "3  setosa  \n",
       "4  setosa  "
      ]
     },
     "execution_count": 336,
     "metadata": {},
     "output_type": "execute_result"
    }
   ],
   "source": [
    "# print the first five rows of the dataframe\n",
    "df.head()"
   ]
  },
  {
   "cell_type": "code",
   "execution_count": 337,
   "metadata": {},
   "outputs": [
    {
     "data": {
      "text/plain": [
       "species\n",
       "virginica     50\n",
       "versicolor    50\n",
       "setosa        50\n",
       "dtype: int64"
      ]
     },
     "execution_count": 337,
     "metadata": {},
     "output_type": "execute_result"
    }
   ],
   "source": [
    "# print the value counts for the species\n",
    "df.value_counts(\"species\")"
   ]
  },
  {
   "cell_type": "code",
   "execution_count": 338,
   "metadata": {},
   "outputs": [
    {
     "data": {
      "image/png": "[encoded data removed]",
      "text/plain": [
       "<Figure size 806.85x720 with 20 Axes>"
      ]
     },
     "metadata": {},
     "output_type": "display_data"
    }
   ],
   "source": [
    "# print a seaborn pairplot\n",
    "sns.set(style=\"ticks\", color_codes=True) # change style\n",
    "g = sns.pairplot(df, hue=\"species\")"
   ]
  },
  {
   "cell_type": "code",
   "execution_count": 339,
   "metadata": {},
   "outputs": [
    {
     "data": {
      "image/png": "[encoded data removed]",
      "text/plain": [
       "<Figure size 432x288 with 2 Axes>"
      ]
     },
     "metadata": {},
     "output_type": "display_data"
    }
   ],
   "source": [
    "# print a seaborn heatmap to see the correlations between the variables\n",
    "sns.heatmap(df.corr(), annot=True)\n",
    "plt.show()"
   ]
  },
  {
   "cell_type": "markdown",
   "metadata": {},
   "source": [
    "From the above heatmap, it can be seen that the features are highly correlated. "
   ]
  },
  {
   "cell_type": "code",
   "execution_count": 340,
   "metadata": {},
   "outputs": [
    {
     "data": {
      "text/plain": [
       "<AxesSubplot:xlabel='sepal width (cm)'>"
      ]
     },
     "execution_count": 340,
     "metadata": {},
     "output_type": "execute_result"
    },
    {
     "data": {
      "image/png": "[encoded data removed]",
      "text/plain": [
       "<Figure size 432x288 with 1 Axes>"
      ]
     },
     "metadata": {},
     "output_type": "display_data"
    }
   ],
   "source": [
    "# print Seaborn box plots to see distribution of the data including outliers\n",
    "# box plot: sepal width\n",
    "sns.boxplot(x='sepal width (cm)', data=df)"
   ]
  },
  {
   "cell_type": "code",
   "execution_count": 341,
   "metadata": {},
   "outputs": [
    {
     "data": {
      "text/plain": [
       "<AxesSubplot:xlabel='sepal length (cm)'>"
      ]
     },
     "execution_count": 341,
     "metadata": {},
     "output_type": "execute_result"
    },
    {
     "data": {
      "image/png": "[encoded data removed]",
      "text/plain": [
       "<Figure size 432x288 with 1 Axes>"
      ]
     },
     "metadata": {},
     "output_type": "display_data"
    }
   ],
   "source": [
    "# box plot: sepal length\n",
    "sns.boxplot(x='sepal length (cm)', data=df)"
   ]
  },
  {
   "cell_type": "code",
   "execution_count": 342,
   "metadata": {},
   "outputs": [
    {
     "data": {
      "text/plain": [
       "<AxesSubplot:xlabel='petal width (cm)'>"
      ]
     },
     "execution_count": 342,
     "metadata": {},
     "output_type": "execute_result"
    },
    {
     "data": {
      "image/png": "[encoded data removed]",
      "text/plain": [
       "<Figure size 432x288 with 1 Axes>"
      ]
     },
     "metadata": {},
     "output_type": "display_data"
    }
   ],
   "source": [
    "# box plot: petal width\n",
    "sns.boxplot(x='petal width (cm)', data=df)"
   ]
  },
  {
   "cell_type": "code",
   "execution_count": 343,
   "metadata": {},
   "outputs": [
    {
     "data": {
      "text/plain": [
       "<AxesSubplot:xlabel='petal length (cm)'>"
      ]
     },
     "execution_count": 343,
     "metadata": {},
     "output_type": "execute_result"
    },
    {
     "data": {
      "image/png": "[encoded data removed]",
      "text/plain": [
       "<Figure size 432x288 with 1 Axes>"
      ]
     },
     "metadata": {},
     "output_type": "display_data"
    }
   ],
   "source": [
    "# box plot: petal length\n",
    "sns.boxplot(x='petal length (cm)', data=df)"
   ]
  },
  {
   "cell_type": "markdown",
   "metadata": {},
   "source": [
    "### Split the dataset"
   ]
  },
  {
   "cell_type": "code",
   "execution_count": 344,
   "metadata": {},
   "outputs": [],
   "source": [
    "#Separating the dependent (y) and independent values (X).\n",
    "X=df.iloc[:, :-1].values\n",
    "y=df.iloc[:, -1].values"
   ]
  },
  {
   "cell_type": "code",
   "execution_count": 345,
   "metadata": {},
   "outputs": [
    {
     "data": {
      "text/plain": [
       "array([[5.1, 3.5, 1.4, 0.2],\n",
       "       [4.9, 3. , 1.4, 0.2],\n",
       "       [4.7, 3.2, 1.3, 0.2],\n",
       "       [4.6, 3.1, 1.5, 0.2],\n",
       "       [5. , 3.6, 1.4, 0.2],\n",
       "       [5.4, 3.9, 1.7, 0.4],\n",
       "       [4.6, 3.4, 1.4, 0.3],\n",
       "       [5. , 3.4, 1.5, 0.2],\n",
       "       [4.4, 2.9, 1.4, 0.2],\n",
       "       [4.9, 3.1, 1.5, 0.1],\n",
       "       [5.4, 3.7, 1.5, 0.2],\n",
       "       [4.8, 3.4, 1.6, 0.2],\n",
       "       [4.8, 3. , 1.4, 0.1],\n",
       "       [4.3, 3. , 1.1, 0.1],\n",
       "       [5.8, 4. , 1.2, 0.2],\n",
       "       [5.7, 4.4, 1.5, 0.4],\n",
       "       [5.4, 3.9, 1.3, 0.4],\n",
       "       [5.1, 3.5, 1.4, 0.3],\n",
       "       [5.7, 3.8, 1.7, 0.3],\n",
       "       [5.1, 3.8, 1.5, 0.3],\n",
       "       [5.4, 3.4, 1.7, 0.2],\n",
       "       [5.1, 3.7, 1.5, 0.4],\n",
       "       [4.6, 3.6, 1. , 0.2],\n",
       "       [5.1, 3.3, 1.7, 0.5],\n",
       "       [4.8, 3.4, 1.9, 0.2],\n",
       "       [5. , 3. , 1.6, 0.2],\n",
       "       [5. , 3.4, 1.6, 0.4],\n",
       "       [5.2, 3.5, 1.5, 0.2],\n",
       "       [5.2, 3.4, 1.4, 0.2],\n",
       "       [4.7, 3.2, 1.6, 0.2],\n",
       "       [4.8, 3.1, 1.6, 0.2],\n",
       "       [5.4, 3.4, 1.5, 0.4],\n",
       "       [5.2, 4.1, 1.5, 0.1],\n",
       "       [5.5, 4.2, 1.4, 0.2],\n",
       "       [4.9, 3.1, 1.5, 0.2],\n",
       "       [5. , 3.2, 1.2, 0.2],\n",
       "       [5.5, 3.5, 1.3, 0.2],\n",
       "       [4.9, 3.6, 1.4, 0.1],\n",
       "       [4.4, 3. , 1.3, 0.2],\n",
       "       [5.1, 3.4, 1.5, 0.2],\n",
       "       [5. , 3.5, 1.3, 0.3],\n",
       "       [4.5, 2.3, 1.3, 0.3],\n",
       "       [4.4, 3.2, 1.3, 0.2],\n",
       "       [5. , 3.5, 1.6, 0.6],\n",
       "       [5.1, 3.8, 1.9, 0.4],\n",
       "       [4.8, 3. , 1.4, 0.3],\n",
       "       [5.1, 3.8, 1.6, 0.2],\n",
       "       [4.6, 3.2, 1.4, 0.2],\n",
       "       [5.3, 3.7, 1.5, 0.2],\n",
       "       [5. , 3.3, 1.4, 0.2],\n",
       "       [7. , 3.2, 4.7, 1.4],\n",
       "       [6.4, 3.2, 4.5, 1.5],\n",
       "       [6.9, 3.1, 4.9, 1.5],\n",
       "       [5.5, 2.3, 4. , 1.3],\n",
       "       [6.5, 2.8, 4.6, 1.5],\n",
       "       [5.7, 2.8, 4.5, 1.3],\n",
       "       [6.3, 3.3, 4.7, 1.6],\n",
       "       [4.9, 2.4, 3.3, 1. ],\n",
       "       [6.6, 2.9, 4.6, 1.3],\n",
       "       [5.2, 2.7, 3.9, 1.4],\n",
       "       [5. , 2. , 3.5, 1. ],\n",
       "       [5.9, 3. , 4.2, 1.5],\n",
       "       [6. , 2.2, 4. , 1. ],\n",
       "       [6.1, 2.9, 4.7, 1.4],\n",
       "       [5.6, 2.9, 3.6, 1.3],\n",
       "       [6.7, 3.1, 4.4, 1.4],\n",
       "       [5.6, 3. , 4.5, 1.5],\n",
       "       [5.8, 2.7, 4.1, 1. ],\n",
       "       [6.2, 2.2, 4.5, 1.5],\n",
       "       [5.6, 2.5, 3.9, 1.1],\n",
       "       [5.9, 3.2, 4.8, 1.8],\n",
       "       [6.1, 2.8, 4. , 1.3],\n",
       "       [6.3, 2.5, 4.9, 1.5],\n",
       "       [6.1, 2.8, 4.7, 1.2],\n",
       "       [6.4, 2.9, 4.3, 1.3],\n",
       "       [6.6, 3. , 4.4, 1.4],\n",
       "       [6.8, 2.8, 4.8, 1.4],\n",
       "       [6.7, 3. , 5. , 1.7],\n",
       "       [6. , 2.9, 4.5, 1.5],\n",
       "       [5.7, 2.6, 3.5, 1. ],\n",
       "       [5.5, 2.4, 3.8, 1.1],\n",
       "       [5.5, 2.4, 3.7, 1. ],\n",
       "       [5.8, 2.7, 3.9, 1.2],\n",
       "       [6. , 2.7, 5.1, 1.6],\n",
       "       [5.4, 3. , 4.5, 1.5],\n",
       "       [6. , 3.4, 4.5, 1.6],\n",
       "       [6.7, 3.1, 4.7, 1.5],\n",
       "       [6.3, 2.3, 4.4, 1.3],\n",
       "       [5.6, 3. , 4.1, 1.3],\n",
       "       [5.5, 2.5, 4. , 1.3],\n",
       "       [5.5, 2.6, 4.4, 1.2],\n",
       "       [6.1, 3. , 4.6, 1.4],\n",
       "       [5.8, 2.6, 4. , 1.2],\n",
       "       [5. , 2.3, 3.3, 1. ],\n",
       "       [5.6, 2.7, 4.2, 1.3],\n",
       "       [5.7, 3. , 4.2, 1.2],\n",
       "       [5.7, 2.9, 4.2, 1.3],\n",
       "       [6.2, 2.9, 4.3, 1.3],\n",
       "       [5.1, 2.5, 3. , 1.1],\n",
       "       [5.7, 2.8, 4.1, 1.3],\n",
       "       [6.3, 3.3, 6. , 2.5],\n",
       "       [5.8, 2.7, 5.1, 1.9],\n",
       "       [7.1, 3. , 5.9, 2.1],\n",
       "       [6.3, 2.9, 5.6, 1.8],\n",
       "       [6.5, 3. , 5.8, 2.2],\n",
       "       [7.6, 3. , 6.6, 2.1],\n",
       "       [4.9, 2.5, 4.5, 1.7],\n",
       "       [7.3, 2.9, 6.3, 1.8],\n",
       "       [6.7, 2.5, 5.8, 1.8],\n",
       "       [7.2, 3.6, 6.1, 2.5],\n",
       "       [6.5, 3.2, 5.1, 2. ],\n",
       "       [6.4, 2.7, 5.3, 1.9],\n",
       "       [6.8, 3. , 5.5, 2.1],\n",
       "       [5.7, 2.5, 5. , 2. ],\n",
       "       [5.8, 2.8, 5.1, 2.4],\n",
       "       [6.4, 3.2, 5.3, 2.3],\n",
       "       [6.5, 3. , 5.5, 1.8],\n",
       "       [7.7, 3.8, 6.7, 2.2],\n",
       "       [7.7, 2.6, 6.9, 2.3],\n",
       "       [6. , 2.2, 5. , 1.5],\n",
       "       [6.9, 3.2, 5.7, 2.3],\n",
       "       [5.6, 2.8, 4.9, 2. ],\n",
       "       [7.7, 2.8, 6.7, 2. ],\n",
       "       [6.3, 2.7, 4.9, 1.8],\n",
       "       [6.7, 3.3, 5.7, 2.1],\n",
       "       [7.2, 3.2, 6. , 1.8],\n",
       "       [6.2, 2.8, 4.8, 1.8],\n",
       "       [6.1, 3. , 4.9, 1.8],\n",
       "       [6.4, 2.8, 5.6, 2.1],\n",
       "       [7.2, 3. , 5.8, 1.6],\n",
       "       [7.4, 2.8, 6.1, 1.9],\n",
       "       [7.9, 3.8, 6.4, 2. ],\n",
       "       [6.4, 2.8, 5.6, 2.2],\n",
       "       [6.3, 2.8, 5.1, 1.5],\n",
       "       [6.1, 2.6, 5.6, 1.4],\n",
       "       [7.7, 3. , 6.1, 2.3],\n",
       "       [6.3, 3.4, 5.6, 2.4],\n",
       "       [6.4, 3.1, 5.5, 1.8],\n",
       "       [6. , 3. , 4.8, 1.8],\n",
       "       [6.9, 3.1, 5.4, 2.1],\n",
       "       [6.7, 3.1, 5.6, 2.4],\n",
       "       [6.9, 3.1, 5.1, 2.3],\n",
       "       [5.8, 2.7, 5.1, 1.9],\n",
       "       [6.8, 3.2, 5.9, 2.3],\n",
       "       [6.7, 3.3, 5.7, 2.5],\n",
       "       [6.7, 3. , 5.2, 2.3],\n",
       "       [6.3, 2.5, 5. , 1.9],\n",
       "       [6.5, 3. , 5.2, 2. ],\n",
       "       [6.2, 3.4, 5.4, 2.3],\n",
       "       [5.9, 3. , 5.1, 1.8]])"
      ]
     },
     "execution_count": 345,
     "metadata": {},
     "output_type": "execute_result"
    }
   ],
   "source": [
    "# print the independent values\n",
    "X"
   ]
  },
  {
   "cell_type": "code",
   "execution_count": 346,
   "metadata": {},
   "outputs": [
    {
     "data": {
      "text/plain": [
       "array(['setosa', 'setosa', 'setosa', 'setosa', 'setosa', 'setosa',\n",
       "       'setosa', 'setosa', 'setosa', 'setosa', 'setosa', 'setosa',\n",
       "       'setosa', 'setosa', 'setosa', 'setosa', 'setosa', 'setosa',\n",
       "       'setosa', 'setosa', 'setosa', 'setosa', 'setosa', 'setosa',\n",
       "       'setosa', 'setosa', 'setosa', 'setosa', 'setosa', 'setosa',\n",
       "       'setosa', 'setosa', 'setosa', 'setosa', 'setosa', 'setosa',\n",
       "       'setosa', 'setosa', 'setosa', 'setosa', 'setosa', 'setosa',\n",
       "       'setosa', 'setosa', 'setosa', 'setosa', 'setosa', 'setosa',\n",
       "       'setosa', 'setosa', 'versicolor', 'versicolor', 'versicolor',\n",
       "       'versicolor', 'versicolor', 'versicolor', 'versicolor',\n",
       "       'versicolor', 'versicolor', 'versicolor', 'versicolor',\n",
       "       'versicolor', 'versicolor', 'versicolor', 'versicolor',\n",
       "       'versicolor', 'versicolor', 'versicolor', 'versicolor',\n",
       "       'versicolor', 'versicolor', 'versicolor', 'versicolor',\n",
       "       'versicolor', 'versicolor', 'versicolor', 'versicolor',\n",
       "       'versicolor', 'versicolor', 'versicolor', 'versicolor',\n",
       "       'versicolor', 'versicolor', 'versicolor', 'versicolor',\n",
       "       'versicolor', 'versicolor', 'versicolor', 'versicolor',\n",
       "       'versicolor', 'versicolor', 'versicolor', 'versicolor',\n",
       "       'versicolor', 'versicolor', 'versicolor', 'versicolor',\n",
       "       'versicolor', 'versicolor', 'versicolor', 'virginica', 'virginica',\n",
       "       'virginica', 'virginica', 'virginica', 'virginica', 'virginica',\n",
       "       'virginica', 'virginica', 'virginica', 'virginica', 'virginica',\n",
       "       'virginica', 'virginica', 'virginica', 'virginica', 'virginica',\n",
       "       'virginica', 'virginica', 'virginica', 'virginica', 'virginica',\n",
       "       'virginica', 'virginica', 'virginica', 'virginica', 'virginica',\n",
       "       'virginica', 'virginica', 'virginica', 'virginica', 'virginica',\n",
       "       'virginica', 'virginica', 'virginica', 'virginica', 'virginica',\n",
       "       'virginica', 'virginica', 'virginica', 'virginica', 'virginica',\n",
       "       'virginica', 'virginica', 'virginica', 'virginica', 'virginica',\n",
       "       'virginica', 'virginica', 'virginica'], dtype=object)"
      ]
     },
     "execution_count": 346,
     "metadata": {},
     "output_type": "execute_result"
    }
   ],
   "source": [
    "# print the dependent values\n",
    "y"
   ]
  },
  {
   "cell_type": "code",
   "execution_count": 347,
   "metadata": {},
   "outputs": [],
   "source": [
    "# train_test_split the dataset into X_train, X_test, y_train and y_test\n",
    "X_train, X_test, y_train, y_test = train_test_split(X, y, test_size=0.2, random_state=13)"
   ]
  },
  {
   "cell_type": "code",
   "execution_count": 348,
   "metadata": {},
   "outputs": [
    {
     "data": {
      "text/plain": [
       "((120, 4), (120,))"
      ]
     },
     "execution_count": 348,
     "metadata": {},
     "output_type": "execute_result"
    }
   ],
   "source": [
    "# X_train and y_train shape\n",
    "X_train.shape, y_train.shape"
   ]
  },
  {
   "cell_type": "code",
   "execution_count": 349,
   "metadata": {},
   "outputs": [
    {
     "data": {
      "text/plain": [
       "((30, 4), (30,))"
      ]
     },
     "execution_count": 349,
     "metadata": {},
     "output_type": "execute_result"
    }
   ],
   "source": [
    "# X_test and y_test shape\n",
    "X_test.shape, y_test.shape"
   ]
  },
  {
   "cell_type": "code",
   "execution_count": 350,
   "metadata": {},
   "outputs": [],
   "source": [
    "# Standardize the features by removing the mean and scaling to unit variance\n",
    "# fit and transform the standard scaler to the X training and test data\n",
    "scaler = StandardScaler()\n",
    "X_train = scaler.fit_transform(X_train)\n",
    "X_test = scaler.transform(X_test)"
   ]
  },
  {
   "cell_type": "code",
   "execution_count": 351,
   "metadata": {},
   "outputs": [
    {
     "data": {
      "text/plain": [
       "array([[ 0.70202101,  0.13405605,  1.02897177,  0.84421264],\n",
       "       [-0.73597366,  2.53505988, -1.25129808, -1.41588419],\n",
       "       [-0.49630788,  0.8543572 , -1.25129808, -1.01704357],\n",
       "       [ 1.30118546,  0.13405605,  0.80094479,  1.508947  ],\n",
       "       [ 0.58218812, -1.30654625,  0.74393804,  0.97715951],\n",
       "       [ 0.46235523, -0.34614472,  0.34489082,  0.17947828],\n",
       "       [-0.85580655,  0.61425681, -1.13728459, -0.8840967 ],\n",
       "       [-0.25664211, -0.10604434,  0.45890431,  0.44537202],\n",
       "       [ 0.46235523, -2.0268474 ,  0.45890431,  0.44537202],\n",
       "       [-1.21530522, -0.10604434, -1.30830483, -1.41588419],\n",
       "       [-0.73597366,  1.09445758, -1.25129808, -1.28293731],\n",
       "       [ 0.34252234, -1.06644587,  1.08597852,  0.31242515],\n",
       "       [-0.13680922, -0.34614472,  0.28788407,  0.17947828],\n",
       "       [ 1.66068413,  0.37415643,  1.3140055 ,  0.84421264],\n",
       "       [ 0.8218539 ,  0.37415643,  0.80094479,  1.11010638],\n",
       "       [ 1.66068413,  1.33455796,  1.37101225,  1.77484074],\n",
       "       [-0.85580655,  0.8543572 , -1.25129808, -1.28293731],\n",
       "       [-0.97563944, -1.78674702, -0.22517665, -0.21936234],\n",
       "       [-1.69463678,  0.37415643, -1.36531158, -1.28293731],\n",
       "       [ 0.8218539 , -0.5862451 ,  0.51591105,  0.44537202],\n",
       "       [-0.13680922,  1.81475873, -1.13728459, -1.14999044],\n",
       "       [-0.13680922, -0.10604434,  0.28788407,  0.04653141],\n",
       "       [ 0.10285656,  0.37415643,  0.62992455,  0.84421264],\n",
       "       [ 1.18135257,  0.37415643,  1.25699876,  1.508947  ],\n",
       "       [-1.09547233,  0.13405605, -1.25129808, -1.41588419],\n",
       "       [-0.376475  , -1.54664663,  0.05985708, -0.08641547],\n",
       "       [-1.33513811,  0.37415643, -1.19429134, -1.28293731],\n",
       "       [-0.25664211, -1.30654625,  0.11686383, -0.08641547],\n",
       "       [ 0.70202101, -0.82634548,  0.91495828,  0.97715951],\n",
       "       [ 0.58218812,  0.61425681,  1.3140055 ,  1.77484074],\n",
       "       [-1.454971  ,  0.13405605, -1.25129808, -1.28293731],\n",
       "       [-0.97563944,  1.09445758, -1.19429134, -0.75114983],\n",
       "       [ 0.58218812, -0.34614472,  1.08597852,  0.84421264],\n",
       "       [ 0.58218812,  0.61425681,  0.5729178 ,  0.57831889],\n",
       "       [ 1.78051702, -0.34614472,  1.48502574,  0.84421264],\n",
       "       [ 0.8218539 , -0.10604434,  1.02897177,  0.84421264],\n",
       "       [-0.97563944,  1.33455796, -1.30830483, -1.28293731],\n",
       "       [-1.09547233, -1.30654625,  0.45890431,  0.71126576],\n",
       "       [-0.97563944, -2.50704817, -0.11116316, -0.21936234],\n",
       "       [ 1.06151968, -0.10604434,  0.74393804,  0.71126576],\n",
       "       [-0.61614077,  1.57465834, -1.25129808, -1.28293731],\n",
       "       [-0.49630788,  0.8543572 , -1.13728459, -1.28293731],\n",
       "       [-0.97563944,  0.37415643, -1.42231832, -1.28293731],\n",
       "       [ 1.42101835,  0.37415643,  0.5729178 ,  0.31242515],\n",
       "       [-1.09547233, -1.54664663, -0.22517665, -0.21936234],\n",
       "       [-0.01697633, -0.82634548,  0.23087732, -0.21936234],\n",
       "       [ 1.06151968, -1.30654625,  1.19999201,  0.84421264],\n",
       "       [ 2.14001569, -0.10604434,  1.65604598,  1.24305325],\n",
       "       [-0.376475  , -1.78674702,  0.17387058,  0.17947828],\n",
       "       [ 0.10285656, -0.10604434,  0.80094479,  0.84421264],\n",
       "       [-0.25664211, -0.5862451 ,  0.68693129,  1.11010638],\n",
       "       [ 0.22268945, -2.0268474 ,  0.74393804,  0.44537202],\n",
       "       [-0.97563944,  0.8543572 , -1.19429134, -1.01704357],\n",
       "       [ 0.8218539 , -0.10604434,  0.85795153,  1.11010638],\n",
       "       [ 1.06151968,  0.13405605,  0.40189756,  0.31242515],\n",
       "       [-0.97563944, -0.10604434, -1.19429134, -1.28293731],\n",
       "       [-0.01697633, -1.06644587,  0.17387058,  0.04653141],\n",
       "       [ 1.54085124, -0.10604434,  1.25699876,  1.24305325],\n",
       "       [-0.13680922, -0.5862451 ,  0.23087732,  0.17947828],\n",
       "       [-1.81446967, -0.10604434, -1.47932507, -1.41588419],\n",
       "       [-1.09547233,  1.33455796, -1.30830483, -1.41588419],\n",
       "       [ 0.58218812, -1.30654625,  0.68693129,  0.44537202],\n",
       "       [-0.73597366, -0.82634548,  0.11686383,  0.31242515],\n",
       "       [-0.73597366,  0.8543572 , -1.30830483, -1.28293731],\n",
       "       [-0.376475  , -1.54664663,  0.00285034, -0.21936234],\n",
       "       [ 1.06151968,  0.13405605,  1.08597852,  1.64189387],\n",
       "       [-1.57480389, -1.78674702, -1.36531158, -1.14999044],\n",
       "       [ 0.70202101, -0.5862451 ,  1.08597852,  1.24305325],\n",
       "       [-0.376475  , -1.30654625,  0.17387058,  0.17947828],\n",
       "       [-1.454971  ,  0.37415643, -1.30830483, -1.28293731],\n",
       "       [ 1.06151968,  0.61425681,  1.14298526,  1.24305325],\n",
       "       [-0.85580655,  1.09445758, -1.30830483, -1.28293731],\n",
       "       [-0.49630788,  2.05485911, -1.13728459, -1.01704357],\n",
       "       [-0.85580655,  1.81475873, -1.25129808, -1.14999044],\n",
       "       [-0.25664211, -0.82634548,  0.28788407,  0.17947828],\n",
       "       [-0.376475  ,  1.09445758, -1.36531158, -1.28293731],\n",
       "       [ 0.22268945, -2.0268474 ,  0.17387058, -0.21936234],\n",
       "       [ 0.10285656, -0.10604434,  0.28788407,  0.44537202],\n",
       "       [ 2.49951436,  1.81475873,  1.54203249,  1.11010638],\n",
       "       [ 1.06151968, -0.10604434,  0.85795153,  1.508947  ],\n",
       "       [-0.49630788,  1.57465834, -1.25129808, -1.28293731],\n",
       "       [ 0.22268945, -0.82634548,  0.80094479,  0.57831889],\n",
       "       [-1.69463678, -0.10604434, -1.36531158, -1.28293731],\n",
       "       [ 1.06151968,  0.13405605,  0.5729178 ,  0.44537202],\n",
       "       [-0.13680922, -1.06644587, -0.11116316, -0.21936234],\n",
       "       [ 0.70202101,  0.37415643,  0.91495828,  1.508947  ],\n",
       "       [-1.454971  ,  0.8543572 , -1.30830483, -1.14999044],\n",
       "       [ 1.66068413, -0.10604434,  1.19999201,  0.57831889],\n",
       "       [-0.97563944,  0.8543572 , -1.25129808, -1.28293731],\n",
       "       [ 0.34252234, -0.5862451 ,  0.17387058,  0.17947828],\n",
       "       [-1.21530522, -0.10604434, -1.30830483, -1.14999044],\n",
       "       [-0.13680922, -1.30654625,  0.74393804,  1.11010638],\n",
       "       [ 0.58218812,  0.8543572 ,  1.08597852,  1.64189387],\n",
       "       [-0.97563944,  0.61425681, -1.30830483, -1.28293731],\n",
       "       [ 0.22268945,  0.8543572 ,  0.45890431,  0.57831889],\n",
       "       [-0.25664211, -0.10604434,  0.23087732,  0.17947828],\n",
       "       [ 2.25984858, -0.5862451 ,  1.71305273,  1.11010638],\n",
       "       [ 0.70202101,  0.37415643,  0.45890431,  0.44537202],\n",
       "       [ 1.30118546,  0.37415643,  1.14298526,  1.508947  ],\n",
       "       [ 2.25984858,  1.81475873,  1.71305273,  1.37600012],\n",
       "       [-1.09547233,  0.13405605, -1.25129808, -1.28293731],\n",
       "       [-1.454971  ,  1.33455796, -1.53633181, -1.28293731],\n",
       "       [ 0.94168679, -0.34614472,  0.51591105,  0.17947828],\n",
       "       [ 1.18135257, -0.5862451 ,  0.62992455,  0.31242515],\n",
       "       [-0.97563944,  1.09445758, -1.36531158, -1.14999044],\n",
       "       [-1.21530522,  0.8543572 , -1.19429134, -1.28293731],\n",
       "       [-1.21530522,  0.8543572 , -1.0232711 , -1.28293731],\n",
       "       [-1.09547233, -0.10604434, -1.30830483, -1.28293731],\n",
       "       [-0.01697633, -0.82634548,  0.80094479,  0.97715951],\n",
       "       [ 1.30118546,  0.13405605,  0.97196503,  1.24305325],\n",
       "       [-1.33513811,  0.37415643, -1.36531158, -1.28293731],\n",
       "       [ 1.30118546,  0.13405605,  0.68693129,  0.44537202],\n",
       "       [ 0.94168679, -0.10604434,  0.40189756,  0.31242515],\n",
       "       [ 0.34252234, -0.5862451 ,  0.5729178 ,  0.04653141],\n",
       "       [ 0.46235523,  0.8543572 ,  0.97196503,  1.508947  ],\n",
       "       [ 0.46235523, -0.5862451 ,  0.62992455,  0.84421264],\n",
       "       [-0.85580655, -1.30654625, -0.39619689, -0.08641547],\n",
       "       [-0.49630788,  2.05485911, -1.36531158, -1.01704357],\n",
       "       [ 0.70202101, -0.34614472,  0.34489082,  0.17947828],\n",
       "       [-0.01697633, -0.82634548,  0.11686383,  0.04653141]])"
      ]
     },
     "execution_count": 351,
     "metadata": {},
     "output_type": "execute_result"
    }
   ],
   "source": [
    "# print the X_train array\n",
    "X_train"
   ]
  },
  {
   "cell_type": "markdown",
   "metadata": {},
   "source": [
    "### 1.1 Naïve Bayes Classifier\n",
    "Train a naïve bayes classifier in python"
   ]
  },
  {
   "cell_type": "code",
   "execution_count": 352,
   "metadata": {},
   "outputs": [
    {
     "data": {
      "text/plain": [
       "GaussianNB()"
      ]
     },
     "execution_count": 352,
     "metadata": {},
     "output_type": "execute_result"
    }
   ],
   "source": [
    "# use GaussianNB() to fit the Naive Bayes classifier to the training data\n",
    "nbclassifier = GaussianNB()\n",
    "nbclassifier.fit(X_train, y_train)"
   ]
  },
  {
   "cell_type": "code",
   "execution_count": 353,
   "metadata": {},
   "outputs": [
    {
     "name": "stdout",
     "output_type": "stream",
     "text": [
      "['versicolor' 'versicolor' 'setosa' 'virginica' 'virginica' 'setosa'\n",
      " 'virginica' 'virginica' 'setosa' 'versicolor' 'virginica' 'versicolor'\n",
      " 'versicolor' 'setosa' 'virginica' 'setosa' 'virginica' 'virginica'\n",
      " 'versicolor' 'setosa' 'versicolor' 'setosa' 'setosa' 'virginica'\n",
      " 'versicolor' 'virginica' 'setosa' 'virginica' 'versicolor' 'virginica']\n"
     ]
    }
   ],
   "source": [
    "# Predicting the Test set results\n",
    "y_pred_nb = nbclassifier.predict(X_test)\n",
    "print(y_pred_nb)"
   ]
  },
  {
   "cell_type": "code",
   "execution_count": 354,
   "metadata": {},
   "outputs": [
    {
     "name": "stdout",
     "output_type": "stream",
     "text": [
      "[[ 9  0  0]\n",
      " [ 0  8  0]\n",
      " [ 0  1 12]]\n",
      "Confusion matrix for Naive Bayes \n",
      " [[ 9  0  0]\n",
      " [ 0  8  0]\n",
      " [ 0  1 12]]\n",
      "Classification Report:\n",
      "               precision    recall  f1-score   support\n",
      "\n",
      "      setosa       1.00      1.00      1.00         9\n",
      "  versicolor       0.89      1.00      0.94         8\n",
      "   virginica       1.00      0.92      0.96        13\n",
      "\n",
      "    accuracy                           0.97        30\n",
      "   macro avg       0.96      0.97      0.97        30\n",
      "weighted avg       0.97      0.97      0.97        30\n",
      "\n"
     ]
    }
   ],
   "source": [
    "# print a confusion matrix for the test and predicted data\n",
    "cm_nb = confusion_matrix(y_test, y_pred_nb)\n",
    "print(cm_nb)\n",
    "acc_nb = accuracy_score(y_test,y_pred_nb)\n",
    "print('Confusion matrix for Naive Bayes \\n',cm_nb)\n",
    "print('Classification Report:\\n', classification_report(y_test, y_pred_nb))"
   ]
  },
  {
   "cell_type": "code",
   "execution_count": 355,
   "metadata": {
    "scrolled": true
   },
   "outputs": [
    {
     "data": {
      "image/png": "[encoded data removed]",
      "text/plain": [
       "<Figure size 432x288 with 1 Axes>"
      ]
     },
     "metadata": {},
     "output_type": "display_data"
    }
   ],
   "source": [
    "# print a Seaborn heatmap\n",
    "sns.heatmap(cm_nb.T, square=True, annot=True, fmt='d', cbar=False)\n",
    "plt.xlabel('true label')\n",
    "plt.ylabel('predicted label');"
   ]
  },
  {
   "cell_type": "markdown",
   "metadata": {},
   "source": [
    "### 1.2 Random Forst Classifier\n",
    "Train a random forest classifier in python. Use your code to fit the data given above.\n",
    "\n",
    "Evaluate feature performance of the model.\n",
    "\n",
    "Visualise the feature importance. "
   ]
  },
  {
   "cell_type": "code",
   "execution_count": 356,
   "metadata": {},
   "outputs": [],
   "source": [
    "# use RandomForestClassifier with random state = 13 to replicate results\n",
    "rf = RandomForestClassifier(n_estimators=10000, random_state=13, n_jobs=-1)"
   ]
  },
  {
   "cell_type": "code",
   "execution_count": 357,
   "metadata": {},
   "outputs": [
    {
     "data": {
      "text/plain": [
       "RandomForestClassifier(n_estimators=10000, n_jobs=-1, random_state=13)"
      ]
     },
     "execution_count": 357,
     "metadata": {},
     "output_type": "execute_result"
    }
   ],
   "source": [
    "# fit the data\n",
    "rf.fit(iris.data, iris.target_names[iris.target])"
   ]
  },
  {
   "cell_type": "code",
   "execution_count": 358,
   "metadata": {},
   "outputs": [
    {
     "data": {
      "text/plain": [
       "RandomForestClassifier(n_estimators=10000, n_jobs=-1, random_state=13)"
      ]
     },
     "execution_count": 358,
     "metadata": {},
     "output_type": "execute_result"
    }
   ],
   "source": [
    "# fit the classifier to training data\n",
    "rf.fit(X_train, y_train)"
   ]
  },
  {
   "cell_type": "code",
   "execution_count": 359,
   "metadata": {},
   "outputs": [
    {
     "name": "stdout",
     "output_type": "stream",
     "text": [
      "['versicolor' 'versicolor' 'setosa' 'virginica' 'virginica' 'setosa'\n",
      " 'virginica' 'virginica' 'setosa' 'versicolor' 'versicolor' 'versicolor'\n",
      " 'versicolor' 'setosa' 'virginica' 'setosa' 'virginica' 'virginica'\n",
      " 'versicolor' 'setosa' 'versicolor' 'setosa' 'setosa' 'virginica'\n",
      " 'versicolor' 'virginica' 'setosa' 'virginica' 'versicolor' 'virginica']\n"
     ]
    }
   ],
   "source": [
    "# print the predicted data from the X_test data\n",
    "print(rf.predict(X_test))"
   ]
  },
  {
   "cell_type": "code",
   "execution_count": 360,
   "metadata": {},
   "outputs": [
    {
     "name": "stdout",
     "output_type": "stream",
     "text": [
      "['versicolor' 'versicolor' 'setosa' 'virginica' 'virginica' 'setosa'\n",
      " 'virginica' 'virginica' 'setosa' 'versicolor' 'virginica' 'virginica'\n",
      " 'versicolor' 'setosa' 'virginica' 'setosa' 'virginica' 'virginica'\n",
      " 'versicolor' 'setosa' 'versicolor' 'setosa' 'setosa' 'virginica'\n",
      " 'versicolor' 'virginica' 'setosa' 'virginica' 'versicolor' 'virginica']\n"
     ]
    }
   ],
   "source": [
    "# print the y_test data\n",
    "print(y_test)"
   ]
  },
  {
   "cell_type": "markdown",
   "metadata": {},
   "source": [
    "### Identify and select the most important features"
   ]
  },
  {
   "cell_type": "code",
   "execution_count": 361,
   "metadata": {},
   "outputs": [
    {
     "data": {
      "text/plain": [
       "petal width (cm)     0.440700\n",
       "petal length (cm)    0.432017\n",
       "sepal length (cm)    0.103975\n",
       "sepal width (cm)     0.023308\n",
       "dtype: float64"
      ]
     },
     "execution_count": 361,
     "metadata": {},
     "output_type": "execute_result"
    }
   ],
   "source": [
    "# feature_importances identify the features in descending order of importance\n",
    "import pandas as pd\n",
    "feature_imp = pd.Series(rf.feature_importances_,index=iris.feature_names).sort_values(ascending=False)\n",
    "feature_imp"
   ]
  },
  {
   "cell_type": "code",
   "execution_count": 365,
   "metadata": {},
   "outputs": [],
   "source": [
    "# use SelectFromModelto get feature importance with a threshold\n",
    "sfm = SelectFromModel(rf, threshold=0.15) # features of importance >0.15"
   ]
  },
  {
   "cell_type": "code",
   "execution_count": 366,
   "metadata": {},
   "outputs": [
    {
     "data": {
      "text/plain": [
       "SelectFromModel(estimator=RandomForestClassifier(n_estimators=10000, n_jobs=-1,\n",
       "                                                 random_state=13),\n",
       "                threshold=0.15)"
      ]
     },
     "execution_count": 366,
     "metadata": {},
     "output_type": "execute_result"
    }
   ],
   "source": [
    "# train the selector\n",
    "sfm.fit(X_train, y_train)"
   ]
  },
  {
   "cell_type": "code",
   "execution_count": 367,
   "metadata": {},
   "outputs": [],
   "source": [
    "# list of features to use in the SelectFromModel() \n",
    "features = ['Sepal Length','Sepal Width','Petal Length','Petal Width']"
   ]
  },
  {
   "cell_type": "code",
   "execution_count": 368,
   "metadata": {},
   "outputs": [
    {
     "name": "stdout",
     "output_type": "stream",
     "text": [
      "Petal Length\n",
      "Petal Width\n"
     ]
    }
   ],
   "source": [
    "# Print the names of the most important features\n",
    "for x in sfm.get_support(indices=True):\n",
    "    print(features[x])"
   ]
  },
  {
   "cell_type": "markdown",
   "metadata": {},
   "source": [
    "### Subset the data with only the most important features"
   ]
  },
  {
   "cell_type": "code",
   "execution_count": 369,
   "metadata": {},
   "outputs": [],
   "source": [
    "# apply the transform() function to the X_train and X_test data\n",
    "X_importance_train = sfm.transform(X_train)\n",
    "X_importance_test = sfm.transform(X_test)"
   ]
  },
  {
   "cell_type": "markdown",
   "metadata": {},
   "source": [
    "### Train a Random Forest Classifier using the most important features"
   ]
  },
  {
   "cell_type": "code",
   "execution_count": 370,
   "metadata": {},
   "outputs": [
    {
     "data": {
      "text/plain": [
       "RandomForestClassifier(n_estimators=10000, n_jobs=-1, random_state=13)"
      ]
     },
     "execution_count": 370,
     "metadata": {},
     "output_type": "execute_result"
    }
   ],
   "source": [
    "# create classifier : 2-feature model\n",
    "rf_importance = RandomForestClassifier(n_estimators=10000, random_state = 13, n_jobs=-1)\n",
    "# fit the model\n",
    "rf_importance.fit(X_importance_train,y_train)"
   ]
  },
  {
   "cell_type": "markdown",
   "metadata": {},
   "source": [
    "### Compare accuracy between the two"
   ]
  },
  {
   "cell_type": "code",
   "execution_count": 371,
   "metadata": {},
   "outputs": [
    {
     "data": {
      "text/plain": [
       "0.9333333333333333"
      ]
     },
     "execution_count": 371,
     "metadata": {},
     "output_type": "execute_result"
    }
   ],
   "source": [
    "# apply to the 4-feature test data\n",
    "y_pred = rf.predict(X_test)\n",
    "# view the accuracy of the 4-feature model\n",
    "accuracy_score(y_test, y_pred)"
   ]
  },
  {
   "cell_type": "code",
   "execution_count": 372,
   "metadata": {},
   "outputs": [
    {
     "name": "stdout",
     "output_type": "stream",
     "text": [
      "0.9333333333333333\n"
     ]
    }
   ],
   "source": [
    "# another method of getting the accuracy score\n",
    "print(rf.score(X_test, y_test))"
   ]
  },
  {
   "cell_type": "code",
   "execution_count": 374,
   "metadata": {},
   "outputs": [
    {
     "data": {
      "text/plain": [
       "1.0"
      ]
     },
     "execution_count": 374,
     "metadata": {},
     "output_type": "execute_result"
    }
   ],
   "source": [
    "# apply to the 2-feature test data\n",
    "y_importance_pred = rf_importance.predict(X_importance_test)\n",
    "# view the accuracy of the 2-feature model\n",
    "rf_acc_importance = accuracy_score(y_test, y_importance_pred)\n",
    "rf_acc_importance"
   ]
  },
  {
   "cell_type": "code",
   "execution_count": 375,
   "metadata": {},
   "outputs": [
    {
     "name": "stdout",
     "output_type": "stream",
     "text": [
      "1.0\n"
     ]
    }
   ],
   "source": [
    "# using the other method for accuracy\n",
    "print(rf_importance.score(X_importance_test, y_importance_pred))"
   ]
  },
  {
   "cell_type": "markdown",
   "metadata": {},
   "source": [
    "### Tune the model"
   ]
  },
  {
   "cell_type": "code",
   "execution_count": 376,
   "metadata": {},
   "outputs": [],
   "source": [
    "# Tuning parameters\n",
    "rf_params = {'max_samples': [0.1, 0.2, 0.3, 0.4],\n",
    "                'max_features': [1, 2],\n",
    "                'n_estimators':[10, 50, 100],\n",
    "                'max_depth': [8, 9, 10]\n",
    "                }\n",
    "# KFold cross validation split\n",
    "rf_cv = KFold(n_splits=5)"
   ]
  },
  {
   "cell_type": "code",
   "execution_count": 377,
   "metadata": {},
   "outputs": [
    {
     "data": {
      "text/plain": [
       "GridSearchCV(cv=KFold(n_splits=5, random_state=None, shuffle=False),\n",
       "             estimator=RandomForestClassifier(n_estimators=10000, n_jobs=-1,\n",
       "                                              random_state=13),\n",
       "             param_grid={'max_depth': [8, 9, 10], 'max_features': [1, 2],\n",
       "                         'max_samples': [0.1, 0.2, 0.3, 0.4],\n",
       "                         'n_estimators': [10, 50, 100]})"
      ]
     },
     "execution_count": 377,
     "metadata": {},
     "output_type": "execute_result"
    }
   ],
   "source": [
    "# 4-feature model\n",
    "rf_grid = GridSearchCV(estimator=rf, param_grid=rf_params, cv=rf_cv)\n",
    "# fit the grid to the 4-feature model\n",
    "rf_grid.fit(X_train, y_train)"
   ]
  },
  {
   "cell_type": "code",
   "execution_count": 378,
   "metadata": {},
   "outputs": [
    {
     "data": {
      "text/plain": [
       "0.9333333333333333"
      ]
     },
     "execution_count": 378,
     "metadata": {},
     "output_type": "execute_result"
    }
   ],
   "source": [
    "# 4-feature model accuracy score after tuning\n",
    "acc_rf_grid = rf_grid.score(X_test, y_test)\n",
    "acc_rf_grid"
   ]
  },
  {
   "cell_type": "code",
   "execution_count": 379,
   "metadata": {},
   "outputs": [
    {
     "name": "stdout",
     "output_type": "stream",
     "text": [
      "RF best Parameters: RandomForestClassifier(max_depth=8, max_features=1, max_samples=0.4,\n",
      "                       n_estimators=50, n_jobs=-1, random_state=13)\n",
      "RF best Score: 0.9583333333333333\n"
     ]
    }
   ],
   "source": [
    "# print the best parameters and score from 4-feature model\n",
    "print('RF best Parameters:', rf_grid.best_estimator_)\n",
    "print('RF best Score:', rf_grid.best_score_)"
   ]
  },
  {
   "cell_type": "code",
   "execution_count": 380,
   "metadata": {},
   "outputs": [
    {
     "data": {
      "text/plain": [
       "GridSearchCV(cv=KFold(n_splits=5, random_state=None, shuffle=False),\n",
       "             estimator=RandomForestClassifier(n_estimators=10000, n_jobs=-1,\n",
       "                                              random_state=13),\n",
       "             param_grid={'max_depth': [8, 9, 10], 'max_features': [1, 2],\n",
       "                         'max_samples': [0.1, 0.2, 0.3, 0.4],\n",
       "                         'n_estimators': [10, 50, 100]})"
      ]
     },
     "execution_count": 380,
     "metadata": {},
     "output_type": "execute_result"
    }
   ],
   "source": [
    "# GridSearchCV 2-feature importance model\n",
    "rf_importance_grid = GridSearchCV(estimator=rf, param_grid=rf_params, cv=rf_cv)\n",
    "# fit the tuned grid to the 2-feature model\n",
    "rf_importance_grid.fit(X_importance_train, y_train)"
   ]
  },
  {
   "cell_type": "code",
   "execution_count": 381,
   "metadata": {},
   "outputs": [
    {
     "data": {
      "text/plain": [
       "0.9666666666666667"
      ]
     },
     "execution_count": 381,
     "metadata": {},
     "output_type": "execute_result"
    }
   ],
   "source": [
    "# 2-feature importance model accuracy score after tuning\n",
    "acc_rf_importance_grid = rf_importance_grid.score(X_importance_test, y_test)\n",
    "acc_rf_importance_grid"
   ]
  },
  {
   "cell_type": "code",
   "execution_count": 382,
   "metadata": {},
   "outputs": [
    {
     "name": "stdout",
     "output_type": "stream",
     "text": [
      "RF best Parameters: RandomForestClassifier(max_depth=8, max_features=2, max_samples=0.2,\n",
      "                       n_estimators=50, n_jobs=-1, random_state=13)\n",
      "RF best Score: 0.9583333333333334\n"
     ]
    }
   ],
   "source": [
    "# Print the best parameters and score from the 2-feature model\n",
    "print('RF best Parameters:', rf_importance_grid.best_estimator_)\n",
    "print('RF best Score:', rf_importance_grid.best_score_)"
   ]
  },
  {
   "cell_type": "code",
   "execution_count": 383,
   "metadata": {},
   "outputs": [
    {
     "name": "stdout",
     "output_type": "stream",
     "text": [
      "Confusion matrix for Random Forest\n",
      " [[ 9  0  0]\n",
      " [ 0  8  0]\n",
      " [ 0  2 11]]\n",
      "Classification Report:\n",
      "               precision    recall  f1-score   support\n",
      "\n",
      "      setosa       1.00      1.00      1.00         9\n",
      "  versicolor       0.80      1.00      0.89         8\n",
      "   virginica       1.00      0.85      0.92        13\n",
      "\n",
      "    accuracy                           0.93        30\n",
      "   macro avg       0.93      0.95      0.94        30\n",
      "weighted avg       0.95      0.93      0.93        30\n",
      "\n"
     ]
    }
   ],
   "source": [
    "# predict using X_test and print the confusion matrix (y_test, y_pred)\n",
    "y_pred = rf_grid.predict(X_test)\n",
    "cm_rf = confusion_matrix(y_test, y_pred)\n",
    "acc_rf = accuracy_score(y_test,y_pred)\n",
    "print('Confusion matrix for Random Forest\\n',cm_rf)\n",
    "print('Classification Report:\\n', classification_report(y_test, y_pred))"
   ]
  },
  {
   "cell_type": "code",
   "execution_count": 384,
   "metadata": {},
   "outputs": [
    {
     "name": "stdout",
     "output_type": "stream",
     "text": [
      "Confusion matrix for Random Forest\n",
      " [[ 9  0  0]\n",
      " [ 0  8  0]\n",
      " [ 0  1 12]]\n",
      "Classification Report:\n",
      "               precision    recall  f1-score   support\n",
      "\n",
      "      setosa       1.00      1.00      1.00         9\n",
      "  versicolor       0.89      1.00      0.94         8\n",
      "   virginica       1.00      0.92      0.96        13\n",
      "\n",
      "    accuracy                           0.97        30\n",
      "   macro avg       0.96      0.97      0.97        30\n",
      "weighted avg       0.97      0.97      0.97        30\n",
      "\n"
     ]
    }
   ],
   "source": [
    "# predict using test data from the 2-feature model\n",
    "# print the confusion matrix and classification report\n",
    "y_importance_pred= rf_importance_grid.predict(X_important_test)\n",
    "cm_rf_importance = confusion_matrix(y_test, y_importance_pred)\n",
    "acc_rf_importance = accuracy_score(y_test,y_importance_pred)\n",
    "print('Confusion matrix for Random Forest\\n',cm_rf_importance)\n",
    "print('Classification Report:\\n', classification_report(y_test, y_importance_pred))"
   ]
  },
  {
   "cell_type": "code",
   "execution_count": 385,
   "metadata": {},
   "outputs": [
    {
     "data": {
      "image/png": "[encoded data removed]",
      "text/plain": [
       "<Figure size 432x288 with 1 Axes>"
      ]
     },
     "metadata": {},
     "output_type": "display_data"
    }
   ],
   "source": [
    "# print the 4-feature model heatmap\n",
    "sns.heatmap(cm_rf.T, square=True, annot=True, fmt='d', cbar=False)\n",
    "plt.xlabel('true label')\n",
    "plt.ylabel('predicted label');"
   ]
  },
  {
   "cell_type": "code",
   "execution_count": 386,
   "metadata": {},
   "outputs": [
    {
     "data": {
      "image/png": "[encoded data removed]",
      "text/plain": [
       "<Figure size 432x288 with 1 Axes>"
      ]
     },
     "metadata": {},
     "output_type": "display_data"
    }
   ],
   "source": [
    "# 2-feature model heatmap\n",
    "sns.heatmap(cm_rf_important.T, square=True, annot=True, fmt='d', cbar=False)\n",
    "plt.xlabel('true label')\n",
    "plt.ylabel('predicted label');"
   ]
  },
  {
   "cell_type": "markdown",
   "metadata": {},
   "source": [
    "### 1.3 kNN Classifier\n",
    "Train a kNN classifier in python.\n",
    "\n",
    "Use your code to fit the data given above."
   ]
  },
  {
   "cell_type": "code",
   "execution_count": 387,
   "metadata": {},
   "outputs": [
    {
     "data": {
      "text/plain": [
       "KNeighborsClassifier(n_neighbors=3)"
      ]
     },
     "execution_count": 387,
     "metadata": {},
     "output_type": "execute_result"
    }
   ],
   "source": [
    "# define and fit the KNeighborsClassifier() with n_neighbors=3\n",
    "knn = KNeighborsClassifier(n_neighbors=3)\n",
    "knn.fit(X_train, y_train)"
   ]
  },
  {
   "cell_type": "code",
   "execution_count": 388,
   "metadata": {},
   "outputs": [],
   "source": [
    "# predict using X_test\n",
    "y_pred_knn = knn.predict(X_test)"
   ]
  },
  {
   "cell_type": "code",
   "execution_count": 389,
   "metadata": {},
   "outputs": [
    {
     "name": "stdout",
     "output_type": "stream",
     "text": [
      "0.967\n"
     ]
    }
   ],
   "source": [
    "# print the accuracy score, round to 3 \n",
    "acc_knn = round(metrics.accuracy_score(y_test,y_pred_knn),3)\n",
    "print(acc_knn)"
   ]
  },
  {
   "cell_type": "code",
   "execution_count": 390,
   "metadata": {},
   "outputs": [],
   "source": [
    "# Find the optimim value of k\n",
    "k_range  = range(3,30)\n",
    "scores = []\n",
    "for k in k_range:\n",
    "    knn = KNeighborsClassifier(n_neighbors=k)\n",
    "    knn.fit(X_train, y_train)\n",
    "    y_pred_knn = knn.predict(X_test)\n",
    "    acc_knn = round(metrics.accuracy_score(y_test,y_pred_knn),3)\n",
    "    scores.append(acc_knn)"
   ]
  },
  {
   "cell_type": "code",
   "execution_count": 391,
   "metadata": {},
   "outputs": [
    {
     "data": {
      "text/plain": [
       "[<matplotlib.lines.Line2D at 0x2263d778a30>]"
      ]
     },
     "execution_count": 391,
     "metadata": {},
     "output_type": "execute_result"
    },
    {
     "data": {
      "image/png": "[encoded data removed]",
      "text/plain": [
       "<Figure size 432x288 with 1 Axes>"
      ]
     },
     "metadata": {},
     "output_type": "display_data"
    }
   ],
   "source": [
    "#plotting accuracy vs k-value plot\n",
    "plt.plot(k_range,scores)"
   ]
  },
  {
   "cell_type": "code",
   "execution_count": 392,
   "metadata": {},
   "outputs": [],
   "source": [
    "# Apply K Nearest Neighbor for k=9\n",
    "from sklearn.neighbors import KNeighborsClassifier\n",
    "knn_9 = KNeighborsClassifier(n_neighbors=9)\n",
    "knn_9.fit(X_train, y_train)\n",
    "y_pred_knn = knn_9.predict(X_test)"
   ]
  },
  {
   "cell_type": "code",
   "execution_count": 393,
   "metadata": {},
   "outputs": [
    {
     "name": "stdout",
     "output_type": "stream",
     "text": [
      "KNN Accuracy: 0.967\n"
     ]
    }
   ],
   "source": [
    "# Calculate KNN accuracy \n",
    "acc_knn = round(metrics.accuracy_score(y_test,y_pred_knn),3)\n",
    "print('KNN Accuracy: '+ str(round(acc_knn,3)))"
   ]
  },
  {
   "cell_type": "code",
   "execution_count": 394,
   "metadata": {},
   "outputs": [
    {
     "name": "stdout",
     "output_type": "stream",
     "text": [
      "Confusion matrix for KNN\n",
      " [[ 9  0  0]\n",
      " [ 0  8  0]\n",
      " [ 0  1 12]]\n",
      "Classification Report:\n",
      "               precision    recall  f1-score   support\n",
      "\n",
      "      setosa       1.00      1.00      1.00         9\n",
      "  versicolor       0.89      1.00      0.94         8\n",
      "   virginica       1.00      0.92      0.96        13\n",
      "\n",
      "    accuracy                           0.97        30\n",
      "   macro avg       0.96      0.97      0.97        30\n",
      "weighted avg       0.97      0.97      0.97        30\n",
      "\n"
     ]
    }
   ],
   "source": [
    "# print the confusion matrix and classification report for KNN\n",
    "cm_knn = confusion_matrix(y_test, y_pred_knn)\n",
    "acc_knn = accuracy_score(y_test,y_pred_knn)\n",
    "print('Confusion matrix for KNN\\n',cm_knn)\n",
    "print('Classification Report:\\n', classification_report(y_test, y_pred_knn))"
   ]
  },
  {
   "cell_type": "code",
   "execution_count": 395,
   "metadata": {},
   "outputs": [
    {
     "name": "stdout",
     "output_type": "stream",
     "text": [
      "Predicted   setosa  versicolor  virginica  total\n",
      "Actual                                          \n",
      "setosa           9           0          0      9\n",
      "versicolor       0           8          0      8\n",
      "virginica        0           1         12     13\n",
      "total            9           9         12     30\n"
     ]
    }
   ],
   "source": [
    "# cross tabulation predicted vs actual results\n",
    "print(pd.crosstab(y_test, y_pred_knn, \n",
    "                  rownames=['Actual'], \n",
    "                  colnames=['Predicted'], \n",
    "                  margins=True, \n",
    "                  margins_name='total'))"
   ]
  },
  {
   "cell_type": "code",
   "execution_count": 396,
   "metadata": {},
   "outputs": [
    {
     "name": "stdout",
     "output_type": "stream",
     "text": [
      "Accuracy: 96.7 %\n"
     ]
    },
    {
     "data": {
      "text/plain": [
       "array([1.        , 0.93333333, 1.        , 1.        , 1.        ,\n",
       "       0.93333333, 0.93333333, 0.93333333, 1.        , 1.        ])"
      ]
     },
     "execution_count": 396,
     "metadata": {},
     "output_type": "execute_result"
    }
   ],
   "source": [
    "# check the cross validation score for knn_9\n",
    "var=\"%\"\n",
    "print(\"Accuracy: %0.1f\" % (knn_9.score(X_test,y_test)*100), var[0])\n",
    "scores_knn = cross_val_score(knn_9, df.drop('species',axis=1), df.species, cv=10, scoring='accuracy')\n",
    "scores_knn"
   ]
  },
  {
   "cell_type": "markdown",
   "metadata": {},
   "source": [
    "With the cross validation CV=10, the performance of the KNN algorithm can vary from 93% to 100%"
   ]
  },
  {
   "cell_type": "code",
   "execution_count": 397,
   "metadata": {},
   "outputs": [
    {
     "name": "stdout",
     "output_type": "stream",
     "text": [
      "Fitting 10 folds for each of 28 candidates, totalling 280 fits\n"
     ]
    },
    {
     "name": "stderr",
     "output_type": "stream",
     "text": [
      "[Parallel(n_jobs=1)]: Using backend SequentialBackend with 1 concurrent workers.\n",
      "[Parallel(n_jobs=1)]: Done 280 out of 280 | elapsed:    0.3s finished\n"
     ]
    }
   ],
   "source": [
    "from sklearn.model_selection import GridSearchCV\n",
    "k_range = list(range(3,31))\n",
    "param_grid_knn = dict(n_neighbors= k_range)\n",
    "grid_knn = GridSearchCV(knn_9, k_values, cv=10, scoring='accuracy',\n",
    "                       return_train_score = False, verbose=1)\n",
    "grid_search_knn = grid_knn.fit(X_train, y_train)"
   ]
  },
  {
   "cell_type": "code",
   "execution_count": 398,
   "metadata": {},
   "outputs": [
    {
     "name": "stdout",
     "output_type": "stream",
     "text": [
      "{'n_neighbors': 9}\n"
     ]
    }
   ],
   "source": [
    "print(grid_search_knn.best_params_)"
   ]
  },
  {
   "cell_type": "code",
   "execution_count": 399,
   "metadata": {},
   "outputs": [
    {
     "name": "stdout",
     "output_type": "stream",
     "text": [
      "Accuracy for our training dataset with tuning is : 0.97%\n"
     ]
    }
   ],
   "source": [
    "acc_knn = grid_search_knn.best_score_\n",
    "print(\"Accuracy for our training dataset with tuning is : {:.2f}%\".format(acc_knn) )"
   ]
  },
  {
   "cell_type": "markdown",
   "metadata": {},
   "source": [
    "### Find the best Model"
   ]
  },
  {
   "cell_type": "code",
   "execution_count": 401,
   "metadata": {},
   "outputs": [
    {
     "data": {
      "text/html": [
       "<div>\n",
       "<style scoped>\n",
       "    .dataframe tbody tr th:only-of-type {\n",
       "        vertical-align: middle;\n",
       "    }\n",
       "\n",
       "    .dataframe tbody tr th {\n",
       "        vertical-align: top;\n",
       "    }\n",
       "\n",
       "    .dataframe thead th {\n",
       "        text-align: right;\n",
       "    }\n",
       "</style>\n",
       "<table border=\"1\" class=\"dataframe\">\n",
       "  <thead>\n",
       "    <tr style=\"text-align: right;\">\n",
       "      <th></th>\n",
       "      <th>Model</th>\n",
       "      <th>Accuracy_score</th>\n",
       "    </tr>\n",
       "  </thead>\n",
       "  <tbody>\n",
       "    <tr>\n",
       "      <th>0</th>\n",
       "      <td>Random Forest 2-feature</td>\n",
       "      <td>1.000000</td>\n",
       "    </tr>\n",
       "    <tr>\n",
       "      <th>1</th>\n",
       "      <td>Random Forest 2-feature tuned</td>\n",
       "      <td>0.966667</td>\n",
       "    </tr>\n",
       "    <tr>\n",
       "      <th>2</th>\n",
       "      <td>KNN</td>\n",
       "      <td>0.966667</td>\n",
       "    </tr>\n",
       "    <tr>\n",
       "      <th>3</th>\n",
       "      <td>Naive Bayes</td>\n",
       "      <td>0.966667</td>\n",
       "    </tr>\n",
       "    <tr>\n",
       "      <th>4</th>\n",
       "      <td>Random Forest 4-feature</td>\n",
       "      <td>0.933333</td>\n",
       "    </tr>\n",
       "    <tr>\n",
       "      <th>5</th>\n",
       "      <td>Random Forest 4-feature tuned</td>\n",
       "      <td>0.933333</td>\n",
       "    </tr>\n",
       "  </tbody>\n",
       "</table>\n",
       "</div>"
      ],
      "text/plain": [
       "                           Model  Accuracy_score\n",
       "0        Random Forest 2-feature        1.000000\n",
       "1  Random Forest 2-feature tuned        0.966667\n",
       "2                            KNN        0.966667\n",
       "3                    Naive Bayes        0.966667\n",
       "4        Random Forest 4-feature        0.933333\n",
       "5  Random Forest 4-feature tuned        0.933333"
      ]
     },
     "execution_count": 401,
     "metadata": {},
     "output_type": "execute_result"
    }
   ],
   "source": [
    "# find the best model by summarizing the accuaracy scores in descending order\n",
    "import pandas as pd\n",
    "results = pd.DataFrame({'Model': ['Naive Bayes','Random Forest 4-feature',\n",
    "                                  'Random Forest 2-feature',\n",
    "                                  'Random Forest 4-feature tuned',\n",
    "                                  'Random Forest 2-feature tuned','KNN'],\n",
    "    'Accuracy_score': [acc_knn, acc_rf, rf_acc_importance,\n",
    "                       acc_rf_grid, acc_rf_importance_grid, acc_nb]})\n",
    "result_df = results.sort_values(by='Accuracy_score', ascending=False)\n",
    "result_df = result_df.reset_index(drop=True)\n",
    "result_df.head(9)"
   ]
  },
  {
   "cell_type": "markdown",
   "metadata": {},
   "source": [
    "## 2 Code Report [6 marks total]\n",
    "\n",
    "The code for the machine learning project includes the following key points:\n",
    "\n",
    "**1. Load the required libraries:**\n",
    "\n",
    "pandas, numpy, matplotlib, statistics, seaborn and various sklearn libraries for the machine learning.\n",
    "\n",
    "**2. Load the dataset and print a description:**\n",
    "\n",
    "iris dataset\n",
    "\n",
    "**3. Data visualization:**\n",
    "\n",
    "a. Summary of target names: use target_names, data shape: use shape option and bincount (use np.bincount)\n",
    "\n",
    "b. Describe the dataset for the descriptive statistics to summarize the central tendency, dispersion and shape of the dataset: count, mean, std min, 25%, 50%, 75% and max for the target names sepal length, sepal width, petal length and petal width.\n",
    "\n",
    "c. Check for null values\n",
    "\n",
    "d. Get the value_counts of the species virginica, versicolor and setosa.\n",
    "\n",
    "e. Print a Seaborn pairplot for the three species.\n",
    "\n",
    "f. Print a Seaborn heatmap comparing the targets sepal length, sepal width, petal length and petal width.\n",
    "\n",
    "g. Print Seaboorn boxplots for the targets to see outliers.\n",
    "\n",
    "**4. Split the dataset:**\n",
    "\n",
    "Separate the dependent (y) and independent variables (X).\n",
    "\n",
    "train_test_split X,y into X_train, X_test, y_test and y_test.\n",
    "\n",
    "**5. Standardize the features:**\n",
    "\n",
    "Use sklearn StandardScaler() to fit (X_train) and transform (X_test).\n",
    "\n",
    "**6. Train the classifiers:**\n",
    "\n",
    "classifiers: Naive Bayes, Random Forest, K-Nearest-Neighbour.\n",
    "\n",
    "train and fit the algorithms to the training data.\n",
    "\n",
    "Evaluate the trained algorithm.\n",
    "\n",
    "Print confusion matrices and classification reports.\n",
    "\n",
    "Print Seaborn heatmaps.\n",
    "\n",
    "**For Random Forest classifier:**\n",
    "\n",
    "a. Identify and select the most important features using feature_importances_.\n",
    "\n",
    "b. Use SelectFromModel() to get feature importance with a threshold > 0.15\n",
    "Subset the data with only the most important features.\n",
    "\n",
    "c. Train the Random Forest classifier using the most important features (2-feature model).\n",
    "\n",
    "d. Compare the accuracy between the 4-feature and 2-feature models\n",
    "Tune the models.\n",
    "\n",
    "e. Use a KFold (5 folds) cross valudation split.\n",
    "\n",
    "f. Get the best parameters using GridSearchCV().\n",
    "\n",
    "**For KNN:**\n",
    "\n",
    "find the optimal value for k and apply (k=9)\n",
    "\n",
    "Two methods in sklearn were used to find the optimal value of k:\n",
    "\n",
    "a. GridSearchCV()\n",
    "\n",
    "b. Using metrics.accuracy_score\n",
    "\n",
    "\n",
    "**7. Find the best model:**\n",
    "\n",
    "print the 6 models in descending order of accuracy score.\n"
   ]
  },
  {
   "cell_type": "markdown",
   "metadata": {},
   "source": [
    "## 3 Model Questions [14 marks total]\n",
    "\n",
    "Please answer the following questions relating to your classifiers."
   ]
  },
  {
   "cell_type": "markdown",
   "metadata": {},
   "source": [
    "### 3.1 Naïves Bayes Questions [4]\n",
    "\n",
    "**Why do zero probabilities in our Naïve Bayes model cause problems?**\n",
    "\n",
    "The Naïve Bayes classifier assigns a zero probability to samples from a categorical variable that don't appear in the training data. This is known as 'zero frequency'. In any dataset, particularly small datasets, there is the probability of an event not occuring, it's observed frequency is zero, implying a zero probability. \n",
    "\n",
    "**How can we avoid the problem of zero probabilities in our Naïve Bayes model?**\n",
    "\n",
    "This zero frequency can be avoided by using smoothing techniques, for example Laplace estimation, this technique is also known as 'additive smoothing' or 'Lidstone smoothing', or 'add-one smoothing'. Pierre-Simon, marquis de Laplace, born in Normandy in 1749 and died in 1827 in Paris, was a French scholar and polymath led to the development of engineering, mathematics, statistics, physics, astronomy, and philosophy.\n",
    "By adjusting artificially the probability of the rare (but not impossible) event of a zero probability, the problem can be avoided.  \n",
    "The add-one method adds one to each observed number of events, including the zero-count possibilities.  This is called Laplace's Rule of Succession."
   ]
  },
  {
   "cell_type": "markdown",
   "metadata": {},
   "source": [
    "### 3.2 Random Forest Questions [6]\n",
    "\n",
    "**Which feature is the most important from your random forest classifier?**\n",
    "\n",
    "The scores from the feature importance indicate that Petal length and Petal width are much more important than Sepal length and Sepal width. The combination of petal length + petal width is 0.896.\n",
    "\n",
    "**Can any features be removed to increase accuracy of the model, if so which features? **\n",
    "\n",
    "Yes, the Sepal length and Sepal width can be removed and the data can be subset using the SelectFromModel library in sklearn.feature_selection\n",
    "\n",
    "**Explain why it would be useful to remove these features.**\n",
    "\n",
    "Although the Random Forest algorithm has built-in feature selection meaning it isn't necessary to remove irrelevant features, the removal of unnecesary features will improve the performance and the accuracy of the model, especially if they are highly correlated. Having a lot of irrelevant features will serve as noise and reduce performance. Once removed, the 2-feature model improved to 100% accuracy.\n"
   ]
  },
  {
   "cell_type": "markdown",
   "metadata": {},
   "source": [
    "### 3.3 kNN Questions [4]\n",
    "**Do you think the kNN classifier is best suited to the iris dataset?** \n",
    "\n",
    "Yes the KNN classifier is suited to the Iris dataset. \n",
    "\n",
    "It doesn't suffer from the problem of zero probability like the Naive Bayes does. \n",
    "\n",
    "Its an easier algorithm to use compared to Naive Bayes, which would need to have a Laplacian estimator in the even of zero probability problems.  \n",
    "\n",
    "KNN doesn't require any training either.\n",
    "\n",
    "**What ideal qualities would the most appropriate dataset display?**\n",
    "\n",
    "The dataset can contain outliers.\n",
    "\n",
    "Data can be continuous, categorical, discrete, ordinal, and numerical or a combination of any.\n",
    "\n",
    "When aggregating, data must be the arithmetic mean, median and mode for numeric variables and the mode must be used for categorical data.\n",
    "\n",
    "The dataset can contain missing data because KNN can approximate the values of the points closest, based on other variables.\n",
    "\n",
    "Data should be normalized before applying KNN.\n",
    "\n",
    "Data should be smaller than 100000 records.\n",
    "\n",
    "Data should be labelled with no noise."
   ]
  },
  {
   "cell_type": "markdown",
   "metadata": {},
   "source": [
    "## 4 Comparing Models [18 marks total]\n"
   ]
  },
  {
   "cell_type": "markdown",
   "metadata": {},
   "source": [
    "### 4.1 Compare each model [3]\n",
    "\n",
    "**What differences do you see between your Naïve Bayes classifier, your random forest classifier, and your kNN classifier?** \n",
    "\n",
    "**1. Simplicity**\n",
    "\n",
    "Random Forest is a simple algorithm and often outperforms both Naive Bayes and KNN, it's also the easist to explain and understand. Random Forest can work directly from a dataset without having to pre-process it. Naive Bayes has complicated maths. \n",
    "\n",
    "**2. Overfitting**\n",
    "\n",
    "Over-fitting is a problem with decisions trees, but technically Random Forest can avoid over-fitting, but this process is a trade-off in terms of simplicity, it will make it more complex, in addition, the more branches added to a tree,the more the chance of overfitting.\n",
    "\n",
    "**3. Decision boundary**\n",
    "\n",
    "Naive Bayes will work if the decision boundary is linear, elliptic or parabolic.  KNN is best for anything other than these types of decision boundaries. Unlike KNN, Naive Bayes is a linear classifier\n",
    "\n",
    "**4. Training required**\n",
    "\n",
    "KNN requires no training, unlike Naive Bayes and Random Forest algorithms. \n",
    "\n",
    "**5. Performance**\n",
    "\n",
    "Naive Bayes outperforms Random Forest, especially where robotics and computer vision is concerned. Naive Bayes is extremely accurate with big data.  The error rate for KNN decreases as the value of k increases.  \n",
    "\n",
    "**6. Speed**\n",
    "\n",
    "Calculations in KNN are slower for large amounts of data, whereas Naive Bayes is much quicker due to less calculations required."
   ]
  },
  {
   "cell_type": "markdown",
   "metadata": {},
   "source": [
    "### 4.2 Accuracy [6]\n",
    "**Can you explain why there are differences in accuracy between the three classifiers?**\n",
    "\n",
    "The most accurate model was the 2-feature Random Forest model at 100%. All models, except the 2-feature Random Forest model and the 4-feature tuned Random Forest model had the same accuracy after changing the k-value and GridsearchCV() in the case of the KNN algorithm and removing irrelevant features with Random Forest.  Accuracy in the final models (other than the 2-feature Random Forest model) was 0.9666667. \n",
    "\n",
    "The original 4-feature Random Forest model together with its tuned version had an accuracy of 0.933333 before removal of the features. \n",
    "\n",
    "Tuning the Random Forest model didn't make much difference to accuracy, it actually decreased it in the case of the 4-feature one.  The process of choosing the most important features increased the accuracy more than tuning did. Accuracy increased to 0.958333 when using the best_esimator_ and best_score_ functions.  Once the two features, sepal width and sepal length were removed, accuracy increased to 0.9666667. \n",
    "\n",
    "In the KNN model, n_neighbors = 3 produced an accuracy of 0.967, With cross validation, the KNN model was capable of fluctuations of between 93% up to 100%. The best parameters for n_neighbors was k=9."
   ]
  },
  {
   "cell_type": "markdown",
   "metadata": {},
   "source": [
    "### 4.3 Appropriate Use [9]\n",
    "**When would it be appropriate to use each different classifier?**\n",
    "\n",
    "The KNN algorithm works better for small datasets of less than 100000 records, these would be labelled datasets with no noise. KNN is mostly used for classification, it classifies data in relation to how a neighbouring dataset is classified. An odd number of K is generally a better than an even one as this avoids confusion between 2 classes. KNN has low bias but high variance\n",
    "\n",
    "Random Forest algorithm can be used for classification and regression problems.  It provides very high accuracy and can handle missing values. It works well for large and small datasets. It can handle large data sets with high dimensionality. It can also handle collinearity in features and is not influenced by outliers. If you don't need to understand the relationship that features have with the target and the degree of influence they have, then Random Forest is a good algorithm to use. \n",
    "\n",
    "Naive Bayes algorithm is used for supervised classification.  The presence of any other feature. It works well on large datasets.  It works well with text data and is often used in spam filtering. It is often used with categorical features and less so with numerical features.\n",
    "\n",
    "Reference real-world situations and examples of specific data sets and explain why that classifier would be most appropriate for that use-case.\n",
    "\n",
    "A diabetes dataset would work well with KNN - predicting if someone has diabetes or not, either 0 or 1, never NaN or -1.\n",
    "\n",
    "Random Forest can be applied in the real world to fraud detection for bank accounts and credit cards, for detecting and predicting drug sensitivity of a medicine, for identifying a patient's disease from analyzing their medical records, also for predicting estimated profit or loss while purchasing a particular stock.\n",
    "\n",
    "Naive Bayes also work in sentiment analysis, so social media analysis to identify positive and negative customer sentiments. Another application is for recommendation systems, such as for products, movies and songs. It works well for prediction forecasts like will it rain or not. This is achieved easily due to the simplicity of the algorithm. "
   ]
  },
  {
   "cell_type": "markdown",
   "metadata": {},
   "source": [
    "## Bibliography:\n",
    "\n",
    "https://towardsdatascience.com/the-use-of-knn-for-missing-values-cf33d935c637\n",
    "\n",
    "https://www.datasciencecentral.com/comparing-classifiers-decision-trees-knn-naive-bayes/\n",
    "\n",
    "https://github.com/dataprofessor/code/blob/master/python/iris/iris-classification-random-forest.ipynb\n",
    "\n",
    "https://machinelearningknowledge.ai/knn-classifier-in-sklearn-using-gridsearchcv-with-example/\n",
    "\n",
    "https://www.linkedin.com/pulse/using-machine-learning-knn-k-nearest-neighbors-solve-mendes-msc\n",
    "\n",
    "https://setscholars.net/wp-content/uploads/2019/08/Compare-Algorithms-with-iris-dataset.html\n",
    "\n",
    "https://github.com/dataprofessor/code/blob/master/python/iris/iris-classification-random-forest.ipynb\n",
    "\n",
    "https://www.ritchieng.com/machine-learning-evaluate-classification-model/\n",
    "\n",
    "https://chrisalbon.com/code/machine_learning/trees_and_forests/feature_selection_using_random_forest/\n",
    "\n",
    "https://www.kaggle.com/code/sociopath00/random-forest-using-gridsearchcv\n",
    "\n",
    "https://www.kaggle.com/general/208443\n",
    "\n",
    "https://blog.paperspace.com/introduction-to-naive-bayes/\n",
    "\n",
    "https://github.com/akash18rwt/KNN-Models-on-IRIS-Dataset/blob/master/knn_model.ipynb\n"
   ]
  },
  {
   "cell_type": "code",
   "execution_count": null,
   "metadata": {},
   "outputs": [],
   "source": []
  }
 ],
 "metadata": {
  "kernelspec": {
   "display_name": "Python 3",
   "language": "python",
   "name": "python3"
  },
  "language_info": {
   "codemirror_mode": {
    "name": "ipython",
    "version": 3
   },
   "file_extension": ".py",
   "mimetype": "text/x-python",
   "name": "python",
   "nbconvert_exporter": "python",
   "pygments_lexer": "ipython3",
   "version": "3.8.5"
  },
  "nbTranslate": {
   "displayLangs": [
    "*"
   ],
   "hotkey": "alt-t",
   "langInMainMenu": true,
   "sourceLang": "en",
   "targetLang": "fr",
   "useGoogleTranslate": true
  }
 },
 "nbformat": 4,
 "nbformat_minor": 4
}
