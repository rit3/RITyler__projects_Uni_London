{
 "cells": [
  {
   "cell_type": "markdown",
   "metadata": {},
   "source": [
    "## Statistics coursework: \n",
    "### Product Categorisation: \n",
    "#### Data preprocessing, feature extraction, classifier selection, evaluation and future predictions"
   ]
  },
  {
   "cell_type": "markdown",
   "metadata": {},
   "source": [
    "### Import Libraries"
   ]
  },
  {
   "cell_type": "code",
   "execution_count": 1,
   "metadata": {},
   "outputs": [],
   "source": [
    "# Load libraries\n",
    "import nltk\n",
    "import pandas as pd\n",
    "import numpy as np\n",
    "import sklearn\n",
    "from pandas import read_csv\n",
    "from nltk.tokenize import RegexpTokenizer\n",
    "from sklearn.feature_extraction.text import TfidfVectorizer\n",
    "from sklearn.model_selection import train_test_split\n",
    "from sklearn.feature_extraction.text import CountVectorizer\n",
    "from sklearn.metrics import accuracy_score\n",
    "from sklearn import preprocessing\n",
    "from sklearn.preprocessing import LabelEncoder\n",
    "from sklearn.naive_bayes import MultinomialNB\n",
    "from sklearn.naive_bayes import GaussianNB\n",
    "import pickle"
   ]
  },
  {
   "cell_type": "markdown",
   "metadata": {},
   "source": [
    "### Load and explore the data (4 marks)"
   ]
  },
  {
   "cell_type": "code",
   "execution_count": 2,
   "metadata": {},
   "outputs": [],
   "source": [
    "filename = 'product_category_dataset_new.csv'\n",
    "data = pd.read_csv(filename, encoding=\"utf-8\")"
   ]
  },
  {
   "cell_type": "code",
   "execution_count": 3,
   "metadata": {},
   "outputs": [
    {
     "data": {
      "text/html": [
       "<div>\n",
       "<style scoped>\n",
       "    .dataframe tbody tr th:only-of-type {\n",
       "        vertical-align: middle;\n",
       "    }\n",
       "\n",
       "    .dataframe tbody tr th {\n",
       "        vertical-align: top;\n",
       "    }\n",
       "\n",
       "    .dataframe thead th {\n",
       "        text-align: right;\n",
       "    }\n",
       "</style>\n",
       "<table border=\"1\" class=\"dataframe\">\n",
       "  <thead>\n",
       "    <tr style=\"text-align: right;\">\n",
       "      <th></th>\n",
       "      <th>Description</th>\n",
       "      <th>Level_1</th>\n",
       "      <th>Level_2</th>\n",
       "      <th>Level_3</th>\n",
       "    </tr>\n",
       "  </thead>\n",
       "  <tbody>\n",
       "    <tr>\n",
       "      <th>0</th>\n",
       "      <td>gerb cap help keep littl on head cov warm day ...</td>\n",
       "      <td>09BF5150</td>\n",
       "      <td>C7E19</td>\n",
       "      <td>FDCF</td>\n",
       "    </tr>\n",
       "    <tr>\n",
       "      <th>1</th>\n",
       "      <td>newborn inf toddl boy hoody jacket oshkosh b g...</td>\n",
       "      <td>2CEC27F1</td>\n",
       "      <td>ADAD6</td>\n",
       "      <td>ED0D</td>\n",
       "    </tr>\n",
       "    <tr>\n",
       "      <th>2</th>\n",
       "      <td>tut ballet anym leap foxy fash ruffl tul toddl...</td>\n",
       "      <td>09BF5150</td>\n",
       "      <td>C7E19</td>\n",
       "      <td>D06E</td>\n",
       "    </tr>\n",
       "    <tr>\n",
       "      <th>3</th>\n",
       "      <td>newborn inf toddl boy hoody jacket oshkosh b g...</td>\n",
       "      <td>2CEC27F1</td>\n",
       "      <td>ADAD6</td>\n",
       "      <td>98CF</td>\n",
       "    </tr>\n",
       "    <tr>\n",
       "      <th>4</th>\n",
       "      <td>easy keep feel warm cozy inf toddl girl hoody ...</td>\n",
       "      <td>2CEC27F1</td>\n",
       "      <td>ADAD6</td>\n",
       "      <td>3918</td>\n",
       "    </tr>\n",
       "    <tr>\n",
       "      <th>...</th>\n",
       "      <td>...</td>\n",
       "      <td>...</td>\n",
       "      <td>...</td>\n",
       "      <td>...</td>\n",
       "    </tr>\n",
       "    <tr>\n",
       "      <th>10634</th>\n",
       "      <td>term 10 issu on year subscriptionyo sav 75 cov...</td>\n",
       "      <td>90A8B052</td>\n",
       "      <td>C719A</td>\n",
       "      <td>1BE5</td>\n",
       "    </tr>\n",
       "    <tr>\n",
       "      <th>10635</th>\n",
       "      <td>term 12 issu on year subscriptionyo sav 86 cov...</td>\n",
       "      <td>90A8B052</td>\n",
       "      <td>C719A</td>\n",
       "      <td>F45B</td>\n",
       "    </tr>\n",
       "    <tr>\n",
       "      <th>10636</th>\n",
       "      <td>term 9 issu on year subscriptionyo sav 64 cov ...</td>\n",
       "      <td>90A8B052</td>\n",
       "      <td>C719A</td>\n",
       "      <td>A0E2</td>\n",
       "    </tr>\n",
       "    <tr>\n",
       "      <th>10637</th>\n",
       "      <td>term 26 issu on year subscriptionyo sav 54 cov...</td>\n",
       "      <td>90A8B052</td>\n",
       "      <td>C719A</td>\n",
       "      <td>1BE5</td>\n",
       "    </tr>\n",
       "    <tr>\n",
       "      <th>10638</th>\n",
       "      <td>term 12 issu on year subscriptionyo sav 60 cov...</td>\n",
       "      <td>90A8B052</td>\n",
       "      <td>C719A</td>\n",
       "      <td>A0E2</td>\n",
       "    </tr>\n",
       "  </tbody>\n",
       "</table>\n",
       "<p>10639 rows × 4 columns</p>\n",
       "</div>"
      ],
      "text/plain": [
       "                                             Description   Level_1 Level_2  \\\n",
       "0      gerb cap help keep littl on head cov warm day ...  09BF5150   C7E19   \n",
       "1      newborn inf toddl boy hoody jacket oshkosh b g...  2CEC27F1   ADAD6   \n",
       "2      tut ballet anym leap foxy fash ruffl tul toddl...  09BF5150   C7E19   \n",
       "3      newborn inf toddl boy hoody jacket oshkosh b g...  2CEC27F1   ADAD6   \n",
       "4      easy keep feel warm cozy inf toddl girl hoody ...  2CEC27F1   ADAD6   \n",
       "...                                                  ...       ...     ...   \n",
       "10634  term 10 issu on year subscriptionyo sav 75 cov...  90A8B052   C719A   \n",
       "10635  term 12 issu on year subscriptionyo sav 86 cov...  90A8B052   C719A   \n",
       "10636  term 9 issu on year subscriptionyo sav 64 cov ...  90A8B052   C719A   \n",
       "10637  term 26 issu on year subscriptionyo sav 54 cov...  90A8B052   C719A   \n",
       "10638  term 12 issu on year subscriptionyo sav 60 cov...  90A8B052   C719A   \n",
       "\n",
       "      Level_3  \n",
       "0        FDCF  \n",
       "1        ED0D  \n",
       "2        D06E  \n",
       "3        98CF  \n",
       "4        3918  \n",
       "...       ...  \n",
       "10634    1BE5  \n",
       "10635    F45B  \n",
       "10636    A0E2  \n",
       "10637    1BE5  \n",
       "10638    A0E2  \n",
       "\n",
       "[10639 rows x 4 columns]"
      ]
     },
     "execution_count": 3,
     "metadata": {},
     "output_type": "execute_result"
    }
   ],
   "source": [
    "dataset = pd.DataFrame(data, columns = ['Description',\n",
    "                                  'Level_1','Level_2','Level_3'])\n",
    "dataset"
   ]
  },
  {
   "cell_type": "code",
   "execution_count": 4,
   "metadata": {},
   "outputs": [
    {
     "data": {
      "text/plain": [
       "(10639, 4)"
      ]
     },
     "execution_count": 4,
     "metadata": {},
     "output_type": "execute_result"
    }
   ],
   "source": [
    "# print the dataset shape\n",
    "dataset.shape"
   ]
  },
  {
   "cell_type": "code",
   "execution_count": 5,
   "metadata": {},
   "outputs": [
    {
     "data": {
      "text/html": [
       "<div>\n",
       "<style scoped>\n",
       "    .dataframe tbody tr th:only-of-type {\n",
       "        vertical-align: middle;\n",
       "    }\n",
       "\n",
       "    .dataframe tbody tr th {\n",
       "        vertical-align: top;\n",
       "    }\n",
       "\n",
       "    .dataframe thead th {\n",
       "        text-align: right;\n",
       "    }\n",
       "</style>\n",
       "<table border=\"1\" class=\"dataframe\">\n",
       "  <thead>\n",
       "    <tr style=\"text-align: right;\">\n",
       "      <th></th>\n",
       "      <th>Description</th>\n",
       "      <th>Level_1</th>\n",
       "      <th>Level_2</th>\n",
       "      <th>Level_3</th>\n",
       "    </tr>\n",
       "  </thead>\n",
       "  <tbody>\n",
       "    <tr>\n",
       "      <th>0</th>\n",
       "      <td>gerb cap help keep littl on head cov warm day ...</td>\n",
       "      <td>09BF5150</td>\n",
       "      <td>C7E19</td>\n",
       "      <td>FDCF</td>\n",
       "    </tr>\n",
       "    <tr>\n",
       "      <th>1</th>\n",
       "      <td>newborn inf toddl boy hoody jacket oshkosh b g...</td>\n",
       "      <td>2CEC27F1</td>\n",
       "      <td>ADAD6</td>\n",
       "      <td>ED0D</td>\n",
       "    </tr>\n",
       "    <tr>\n",
       "      <th>2</th>\n",
       "      <td>tut ballet anym leap foxy fash ruffl tul toddl...</td>\n",
       "      <td>09BF5150</td>\n",
       "      <td>C7E19</td>\n",
       "      <td>D06E</td>\n",
       "    </tr>\n",
       "    <tr>\n",
       "      <th>3</th>\n",
       "      <td>newborn inf toddl boy hoody jacket oshkosh b g...</td>\n",
       "      <td>2CEC27F1</td>\n",
       "      <td>ADAD6</td>\n",
       "      <td>98CF</td>\n",
       "    </tr>\n",
       "    <tr>\n",
       "      <th>4</th>\n",
       "      <td>easy keep feel warm cozy inf toddl girl hoody ...</td>\n",
       "      <td>2CEC27F1</td>\n",
       "      <td>ADAD6</td>\n",
       "      <td>3918</td>\n",
       "    </tr>\n",
       "    <tr>\n",
       "      <th>5</th>\n",
       "      <td>newborn inf toddl boy hoody jacket oshkosh b g...</td>\n",
       "      <td>2CEC27F1</td>\n",
       "      <td>ADAD6</td>\n",
       "      <td>ED0D</td>\n",
       "    </tr>\n",
       "    <tr>\n",
       "      <th>6</th>\n",
       "      <td>mit warm protect real stay dainty littl hand p...</td>\n",
       "      <td>09BF5150</td>\n",
       "      <td>C7E19</td>\n",
       "      <td>D06E</td>\n",
       "    </tr>\n",
       "    <tr>\n",
       "      <th>7</th>\n",
       "      <td>fal back cozy bas toughskin inf toddl girl mic...</td>\n",
       "      <td>2CEC27F1</td>\n",
       "      <td>ADAD6</td>\n",
       "      <td>3918</td>\n",
       "    </tr>\n",
       "    <tr>\n",
       "      <th>8</th>\n",
       "      <td>ev smal lumberjack nee cozy look cool newborn ...</td>\n",
       "      <td>2CEC27F1</td>\n",
       "      <td>ADAD6</td>\n",
       "      <td>98CF</td>\n",
       "    </tr>\n",
       "    <tr>\n",
       "      <th>9</th>\n",
       "      <td>easy keep feel warm cozy inf toddl girl hoody ...</td>\n",
       "      <td>2CEC27F1</td>\n",
       "      <td>ADAD6</td>\n",
       "      <td>ED0D</td>\n",
       "    </tr>\n",
       "  </tbody>\n",
       "</table>\n",
       "</div>"
      ],
      "text/plain": [
       "                                         Description   Level_1 Level_2 Level_3\n",
       "0  gerb cap help keep littl on head cov warm day ...  09BF5150   C7E19    FDCF\n",
       "1  newborn inf toddl boy hoody jacket oshkosh b g...  2CEC27F1   ADAD6    ED0D\n",
       "2  tut ballet anym leap foxy fash ruffl tul toddl...  09BF5150   C7E19    D06E\n",
       "3  newborn inf toddl boy hoody jacket oshkosh b g...  2CEC27F1   ADAD6    98CF\n",
       "4  easy keep feel warm cozy inf toddl girl hoody ...  2CEC27F1   ADAD6    3918\n",
       "5  newborn inf toddl boy hoody jacket oshkosh b g...  2CEC27F1   ADAD6    ED0D\n",
       "6  mit warm protect real stay dainty littl hand p...  09BF5150   C7E19    D06E\n",
       "7  fal back cozy bas toughskin inf toddl girl mic...  2CEC27F1   ADAD6    3918\n",
       "8  ev smal lumberjack nee cozy look cool newborn ...  2CEC27F1   ADAD6    98CF\n",
       "9  easy keep feel warm cozy inf toddl girl hoody ...  2CEC27F1   ADAD6    ED0D"
      ]
     },
     "execution_count": 5,
     "metadata": {},
     "output_type": "execute_result"
    }
   ],
   "source": [
    "# print first 10 rows with .head()\n",
    "dataset.head(10)"
   ]
  },
  {
   "cell_type": "code",
   "execution_count": 6,
   "metadata": {},
   "outputs": [
    {
     "name": "stdout",
     "output_type": "stream",
     "text": [
      "<class 'pandas.core.frame.DataFrame'>\n",
      "RangeIndex: 10639 entries, 0 to 10638\n",
      "Data columns (total 4 columns):\n",
      " #   Column       Non-Null Count  Dtype \n",
      "---  ------       --------------  ----- \n",
      " 0   Description  10627 non-null  object\n",
      " 1   Level_1      10639 non-null  object\n",
      " 2   Level_2      10639 non-null  object\n",
      " 3   Level_3      10639 non-null  object\n",
      "dtypes: object(4)\n",
      "memory usage: 332.6+ KB\n"
     ]
    }
   ],
   "source": [
    "# Information about the dataset\n",
    "dataset.info()"
   ]
  },
  {
   "cell_type": "code",
   "execution_count": 7,
   "metadata": {},
   "outputs": [
    {
     "name": "stdout",
     "output_type": "stream",
     "text": [
      "                                              Description   Level_1 Level_2  \\\n",
      "count                                               10627     10639   10639   \n",
      "unique                                               9668        15      36   \n",
      "top     glory gorg col fing complet outfit express moo...  B092BA29   2D5A3   \n",
      "freq                                                   24       900     797   \n",
      "\n",
      "       Level_3  \n",
      "count    10639  \n",
      "unique      94  \n",
      "top       28A7  \n",
      "freq       332  \n"
     ]
    }
   ],
   "source": [
    "# Describe the dataset - counts, unique values, frequency, \n",
    "print(dataset.describe())"
   ]
  },
  {
   "cell_type": "markdown",
   "metadata": {},
   "source": [
    "### Deal with Missing Data (4 marks)"
   ]
  },
  {
   "cell_type": "code",
   "execution_count": 8,
   "metadata": {},
   "outputs": [
    {
     "data": {
      "text/plain": [
       "12"
      ]
     },
     "execution_count": 8,
     "metadata": {},
     "output_type": "execute_result"
    }
   ],
   "source": [
    "# Check if data has missing values in the Description column\n",
    "dataset['Description'].isnull().sum()"
   ]
  },
  {
   "cell_type": "code",
   "execution_count": 9,
   "metadata": {},
   "outputs": [
    {
     "name": "stdout",
     "output_type": "stream",
     "text": [
      "9290    0 12 oz bareskin perfect veil light med min fl...\n",
      "1063                                                  NaN\n",
      "3434                                                  NaN\n",
      "3458                                                  NaN\n",
      "7754                                                  NaN\n",
      "7788                                                  NaN\n",
      "7796                                                  NaN\n",
      "7808                                                  NaN\n",
      "7859                                                  NaN\n",
      "7936                                                  NaN\n",
      "7962                                                  NaN\n",
      "7988                                                  NaN\n",
      "8004                                                  NaN\n",
      "Name: Description, dtype: object\n"
     ]
    }
   ],
   "source": [
    "print(dataset['Description'].sort_values(ascending=False).tail(13))"
   ]
  },
  {
   "cell_type": "code",
   "execution_count": 10,
   "metadata": {},
   "outputs": [
    {
     "data": {
      "text/html": [
       "<div>\n",
       "<style scoped>\n",
       "    .dataframe tbody tr th:only-of-type {\n",
       "        vertical-align: middle;\n",
       "    }\n",
       "\n",
       "    .dataframe tbody tr th {\n",
       "        vertical-align: top;\n",
       "    }\n",
       "\n",
       "    .dataframe thead th {\n",
       "        text-align: right;\n",
       "    }\n",
       "</style>\n",
       "<table border=\"1\" class=\"dataframe\">\n",
       "  <thead>\n",
       "    <tr style=\"text-align: right;\">\n",
       "      <th></th>\n",
       "      <th>Description</th>\n",
       "      <th>Level_1</th>\n",
       "      <th>Level_2</th>\n",
       "      <th>Level_3</th>\n",
       "    </tr>\n",
       "  </thead>\n",
       "  <tbody>\n",
       "    <tr>\n",
       "      <th>0</th>\n",
       "      <td>gerb cap help keep littl on head cov warm day ...</td>\n",
       "      <td>09BF5150</td>\n",
       "      <td>C7E19</td>\n",
       "      <td>FDCF</td>\n",
       "    </tr>\n",
       "    <tr>\n",
       "      <th>1</th>\n",
       "      <td>newborn inf toddl boy hoody jacket oshkosh b g...</td>\n",
       "      <td>2CEC27F1</td>\n",
       "      <td>ADAD6</td>\n",
       "      <td>ED0D</td>\n",
       "    </tr>\n",
       "    <tr>\n",
       "      <th>2</th>\n",
       "      <td>tut ballet anym leap foxy fash ruffl tul toddl...</td>\n",
       "      <td>09BF5150</td>\n",
       "      <td>C7E19</td>\n",
       "      <td>D06E</td>\n",
       "    </tr>\n",
       "    <tr>\n",
       "      <th>3</th>\n",
       "      <td>newborn inf toddl boy hoody jacket oshkosh b g...</td>\n",
       "      <td>2CEC27F1</td>\n",
       "      <td>ADAD6</td>\n",
       "      <td>98CF</td>\n",
       "    </tr>\n",
       "    <tr>\n",
       "      <th>4</th>\n",
       "      <td>easy keep feel warm cozy inf toddl girl hoody ...</td>\n",
       "      <td>2CEC27F1</td>\n",
       "      <td>ADAD6</td>\n",
       "      <td>3918</td>\n",
       "    </tr>\n",
       "    <tr>\n",
       "      <th>...</th>\n",
       "      <td>...</td>\n",
       "      <td>...</td>\n",
       "      <td>...</td>\n",
       "      <td>...</td>\n",
       "    </tr>\n",
       "    <tr>\n",
       "      <th>10634</th>\n",
       "      <td>term 10 issu on year subscriptionyo sav 75 cov...</td>\n",
       "      <td>90A8B052</td>\n",
       "      <td>C719A</td>\n",
       "      <td>1BE5</td>\n",
       "    </tr>\n",
       "    <tr>\n",
       "      <th>10635</th>\n",
       "      <td>term 12 issu on year subscriptionyo sav 86 cov...</td>\n",
       "      <td>90A8B052</td>\n",
       "      <td>C719A</td>\n",
       "      <td>F45B</td>\n",
       "    </tr>\n",
       "    <tr>\n",
       "      <th>10636</th>\n",
       "      <td>term 9 issu on year subscriptionyo sav 64 cov ...</td>\n",
       "      <td>90A8B052</td>\n",
       "      <td>C719A</td>\n",
       "      <td>A0E2</td>\n",
       "    </tr>\n",
       "    <tr>\n",
       "      <th>10637</th>\n",
       "      <td>term 26 issu on year subscriptionyo sav 54 cov...</td>\n",
       "      <td>90A8B052</td>\n",
       "      <td>C719A</td>\n",
       "      <td>1BE5</td>\n",
       "    </tr>\n",
       "    <tr>\n",
       "      <th>10638</th>\n",
       "      <td>term 12 issu on year subscriptionyo sav 60 cov...</td>\n",
       "      <td>90A8B052</td>\n",
       "      <td>C719A</td>\n",
       "      <td>A0E2</td>\n",
       "    </tr>\n",
       "  </tbody>\n",
       "</table>\n",
       "<p>10627 rows × 4 columns</p>\n",
       "</div>"
      ],
      "text/plain": [
       "                                             Description   Level_1 Level_2  \\\n",
       "0      gerb cap help keep littl on head cov warm day ...  09BF5150   C7E19   \n",
       "1      newborn inf toddl boy hoody jacket oshkosh b g...  2CEC27F1   ADAD6   \n",
       "2      tut ballet anym leap foxy fash ruffl tul toddl...  09BF5150   C7E19   \n",
       "3      newborn inf toddl boy hoody jacket oshkosh b g...  2CEC27F1   ADAD6   \n",
       "4      easy keep feel warm cozy inf toddl girl hoody ...  2CEC27F1   ADAD6   \n",
       "...                                                  ...       ...     ...   \n",
       "10634  term 10 issu on year subscriptionyo sav 75 cov...  90A8B052   C719A   \n",
       "10635  term 12 issu on year subscriptionyo sav 86 cov...  90A8B052   C719A   \n",
       "10636  term 9 issu on year subscriptionyo sav 64 cov ...  90A8B052   C719A   \n",
       "10637  term 26 issu on year subscriptionyo sav 54 cov...  90A8B052   C719A   \n",
       "10638  term 12 issu on year subscriptionyo sav 60 cov...  90A8B052   C719A   \n",
       "\n",
       "      Level_3  \n",
       "0        FDCF  \n",
       "1        ED0D  \n",
       "2        D06E  \n",
       "3        98CF  \n",
       "4        3918  \n",
       "...       ...  \n",
       "10634    1BE5  \n",
       "10635    F45B  \n",
       "10636    A0E2  \n",
       "10637    1BE5  \n",
       "10638    A0E2  \n",
       "\n",
       "[10627 rows x 4 columns]"
      ]
     },
     "execution_count": 10,
     "metadata": {},
     "output_type": "execute_result"
    }
   ],
   "source": [
    "# Deal with missing values\n",
    "dataset_new = dataset.dropna(how='any', subset=['Description'])\n",
    "dataset_new"
   ]
  },
  {
   "cell_type": "code",
   "execution_count": 11,
   "metadata": {},
   "outputs": [
    {
     "data": {
      "text/plain": [
       "0"
      ]
     },
     "execution_count": 11,
     "metadata": {},
     "output_type": "execute_result"
    }
   ],
   "source": [
    "dataset_new['Description'].isnull().sum()"
   ]
  },
  {
   "cell_type": "markdown",
   "metadata": {},
   "source": [
    "### Drop Classes where the number of instances is < 10 (4 marks)"
   ]
  },
  {
   "cell_type": "code",
   "execution_count": 12,
   "metadata": {},
   "outputs": [
    {
     "data": {
      "text/plain": [
       "B092BA29    900\n",
       "AAC8EE56    890\n",
       "35E04739    890\n",
       "57164AC1    875\n",
       "2CEC27F1    858\n",
       "EFEF723B    800\n",
       "09BF5150    798\n",
       "69286F45    797\n",
       "96F95EEC    587\n",
       "3E1E0D78    579\n",
       "4C3D8686    574\n",
       "4513C920    558\n",
       "014303D1    511\n",
       "90A8B052    506\n",
       "D410C91A    504\n",
       "Name: Level_1, dtype: int64"
      ]
     },
     "execution_count": 12,
     "metadata": {},
     "output_type": "execute_result"
    }
   ],
   "source": [
    "# There are no value counts of less than 10 in Level_1\n",
    "dataset_new['Level_1'].value_counts()"
   ]
  },
  {
   "cell_type": "code",
   "execution_count": 13,
   "metadata": {},
   "outputs": [],
   "source": [
    "# Apply to Level_1 \n",
    "# no need to apply to Level_1"
   ]
  },
  {
   "cell_type": "code",
   "execution_count": 14,
   "metadata": {},
   "outputs": [
    {
     "data": {
      "text/plain": [
       "Series([], Name: Level_2, dtype: int64)"
      ]
     },
     "execution_count": 14,
     "metadata": {},
     "output_type": "execute_result"
    }
   ],
   "source": [
    "# There are 3 instances of value counts of less than 10 in Level_2 \n",
    "dataset_new['Level_2'].value_counts().loc[lambda x:x<10]"
   ]
  },
  {
   "cell_type": "code",
   "execution_count": 15,
   "metadata": {},
   "outputs": [
    {
     "data": {
      "text/html": [
       "<div>\n",
       "<style scoped>\n",
       "    .dataframe tbody tr th:only-of-type {\n",
       "        vertical-align: middle;\n",
       "    }\n",
       "\n",
       "    .dataframe tbody tr th {\n",
       "        vertical-align: top;\n",
       "    }\n",
       "\n",
       "    .dataframe thead th {\n",
       "        text-align: right;\n",
       "    }\n",
       "</style>\n",
       "<table border=\"1\" class=\"dataframe\">\n",
       "  <thead>\n",
       "    <tr style=\"text-align: right;\">\n",
       "      <th></th>\n",
       "      <th>Description</th>\n",
       "      <th>Level_1</th>\n",
       "      <th>Level_2</th>\n",
       "      <th>Level_3</th>\n",
       "    </tr>\n",
       "  </thead>\n",
       "  <tbody>\n",
       "    <tr>\n",
       "      <th>0</th>\n",
       "      <td>gerb cap help keep littl on head cov warm day ...</td>\n",
       "      <td>09BF5150</td>\n",
       "      <td>C7E19</td>\n",
       "      <td>FDCF</td>\n",
       "    </tr>\n",
       "    <tr>\n",
       "      <th>1</th>\n",
       "      <td>newborn inf toddl boy hoody jacket oshkosh b g...</td>\n",
       "      <td>2CEC27F1</td>\n",
       "      <td>ADAD6</td>\n",
       "      <td>ED0D</td>\n",
       "    </tr>\n",
       "    <tr>\n",
       "      <th>2</th>\n",
       "      <td>tut ballet anym leap foxy fash ruffl tul toddl...</td>\n",
       "      <td>09BF5150</td>\n",
       "      <td>C7E19</td>\n",
       "      <td>D06E</td>\n",
       "    </tr>\n",
       "    <tr>\n",
       "      <th>3</th>\n",
       "      <td>newborn inf toddl boy hoody jacket oshkosh b g...</td>\n",
       "      <td>2CEC27F1</td>\n",
       "      <td>ADAD6</td>\n",
       "      <td>98CF</td>\n",
       "    </tr>\n",
       "    <tr>\n",
       "      <th>4</th>\n",
       "      <td>easy keep feel warm cozy inf toddl girl hoody ...</td>\n",
       "      <td>2CEC27F1</td>\n",
       "      <td>ADAD6</td>\n",
       "      <td>3918</td>\n",
       "    </tr>\n",
       "    <tr>\n",
       "      <th>...</th>\n",
       "      <td>...</td>\n",
       "      <td>...</td>\n",
       "      <td>...</td>\n",
       "      <td>...</td>\n",
       "    </tr>\n",
       "    <tr>\n",
       "      <th>10634</th>\n",
       "      <td>term 10 issu on year subscriptionyo sav 75 cov...</td>\n",
       "      <td>90A8B052</td>\n",
       "      <td>C719A</td>\n",
       "      <td>1BE5</td>\n",
       "    </tr>\n",
       "    <tr>\n",
       "      <th>10635</th>\n",
       "      <td>term 12 issu on year subscriptionyo sav 86 cov...</td>\n",
       "      <td>90A8B052</td>\n",
       "      <td>C719A</td>\n",
       "      <td>F45B</td>\n",
       "    </tr>\n",
       "    <tr>\n",
       "      <th>10636</th>\n",
       "      <td>term 9 issu on year subscriptionyo sav 64 cov ...</td>\n",
       "      <td>90A8B052</td>\n",
       "      <td>C719A</td>\n",
       "      <td>A0E2</td>\n",
       "    </tr>\n",
       "    <tr>\n",
       "      <th>10637</th>\n",
       "      <td>term 26 issu on year subscriptionyo sav 54 cov...</td>\n",
       "      <td>90A8B052</td>\n",
       "      <td>C719A</td>\n",
       "      <td>1BE5</td>\n",
       "    </tr>\n",
       "    <tr>\n",
       "      <th>10638</th>\n",
       "      <td>term 12 issu on year subscriptionyo sav 60 cov...</td>\n",
       "      <td>90A8B052</td>\n",
       "      <td>C719A</td>\n",
       "      <td>A0E2</td>\n",
       "    </tr>\n",
       "  </tbody>\n",
       "</table>\n",
       "<p>10627 rows × 4 columns</p>\n",
       "</div>"
      ],
      "text/plain": [
       "                                             Description   Level_1 Level_2  \\\n",
       "0      gerb cap help keep littl on head cov warm day ...  09BF5150   C7E19   \n",
       "1      newborn inf toddl boy hoody jacket oshkosh b g...  2CEC27F1   ADAD6   \n",
       "2      tut ballet anym leap foxy fash ruffl tul toddl...  09BF5150   C7E19   \n",
       "3      newborn inf toddl boy hoody jacket oshkosh b g...  2CEC27F1   ADAD6   \n",
       "4      easy keep feel warm cozy inf toddl girl hoody ...  2CEC27F1   ADAD6   \n",
       "...                                                  ...       ...     ...   \n",
       "10634  term 10 issu on year subscriptionyo sav 75 cov...  90A8B052   C719A   \n",
       "10635  term 12 issu on year subscriptionyo sav 86 cov...  90A8B052   C719A   \n",
       "10636  term 9 issu on year subscriptionyo sav 64 cov ...  90A8B052   C719A   \n",
       "10637  term 26 issu on year subscriptionyo sav 54 cov...  90A8B052   C719A   \n",
       "10638  term 12 issu on year subscriptionyo sav 60 cov...  90A8B052   C719A   \n",
       "\n",
       "      Level_3  \n",
       "0        FDCF  \n",
       "1        ED0D  \n",
       "2        D06E  \n",
       "3        98CF  \n",
       "4        3918  \n",
       "...       ...  \n",
       "10634    1BE5  \n",
       "10635    F45B  \n",
       "10636    A0E2  \n",
       "10637    1BE5  \n",
       "10638    A0E2  \n",
       "\n",
       "[10627 rows x 4 columns]"
      ]
     },
     "execution_count": 15,
     "metadata": {},
     "output_type": "execute_result"
    }
   ],
   "source": [
    "# Apply to Level_2\n",
    "dataset_new.drop(dataset_new['Level_2'].value_counts().loc[lambda x:x<10])"
   ]
  },
  {
   "cell_type": "code",
   "execution_count": 16,
   "metadata": {},
   "outputs": [
    {
     "data": {
      "text/plain": [
       "Series([], Name: Level_3, dtype: int64)"
      ]
     },
     "execution_count": 16,
     "metadata": {},
     "output_type": "execute_result"
    }
   ],
   "source": [
    "# There are 5 instances of value counts of less than 10 in Level_3 \n",
    "dataset_new['Level_3'].value_counts().loc[lambda x:x<10]"
   ]
  },
  {
   "cell_type": "code",
   "execution_count": 17,
   "metadata": {},
   "outputs": [
    {
     "data": {
      "text/html": [
       "<div>\n",
       "<style scoped>\n",
       "    .dataframe tbody tr th:only-of-type {\n",
       "        vertical-align: middle;\n",
       "    }\n",
       "\n",
       "    .dataframe tbody tr th {\n",
       "        vertical-align: top;\n",
       "    }\n",
       "\n",
       "    .dataframe thead th {\n",
       "        text-align: right;\n",
       "    }\n",
       "</style>\n",
       "<table border=\"1\" class=\"dataframe\">\n",
       "  <thead>\n",
       "    <tr style=\"text-align: right;\">\n",
       "      <th></th>\n",
       "      <th>Description</th>\n",
       "      <th>Level_1</th>\n",
       "      <th>Level_2</th>\n",
       "      <th>Level_3</th>\n",
       "    </tr>\n",
       "  </thead>\n",
       "  <tbody>\n",
       "    <tr>\n",
       "      <th>0</th>\n",
       "      <td>gerb cap help keep littl on head cov warm day ...</td>\n",
       "      <td>09BF5150</td>\n",
       "      <td>C7E19</td>\n",
       "      <td>FDCF</td>\n",
       "    </tr>\n",
       "    <tr>\n",
       "      <th>1</th>\n",
       "      <td>newborn inf toddl boy hoody jacket oshkosh b g...</td>\n",
       "      <td>2CEC27F1</td>\n",
       "      <td>ADAD6</td>\n",
       "      <td>ED0D</td>\n",
       "    </tr>\n",
       "    <tr>\n",
       "      <th>2</th>\n",
       "      <td>tut ballet anym leap foxy fash ruffl tul toddl...</td>\n",
       "      <td>09BF5150</td>\n",
       "      <td>C7E19</td>\n",
       "      <td>D06E</td>\n",
       "    </tr>\n",
       "    <tr>\n",
       "      <th>3</th>\n",
       "      <td>newborn inf toddl boy hoody jacket oshkosh b g...</td>\n",
       "      <td>2CEC27F1</td>\n",
       "      <td>ADAD6</td>\n",
       "      <td>98CF</td>\n",
       "    </tr>\n",
       "    <tr>\n",
       "      <th>4</th>\n",
       "      <td>easy keep feel warm cozy inf toddl girl hoody ...</td>\n",
       "      <td>2CEC27F1</td>\n",
       "      <td>ADAD6</td>\n",
       "      <td>3918</td>\n",
       "    </tr>\n",
       "    <tr>\n",
       "      <th>...</th>\n",
       "      <td>...</td>\n",
       "      <td>...</td>\n",
       "      <td>...</td>\n",
       "      <td>...</td>\n",
       "    </tr>\n",
       "    <tr>\n",
       "      <th>10634</th>\n",
       "      <td>term 10 issu on year subscriptionyo sav 75 cov...</td>\n",
       "      <td>90A8B052</td>\n",
       "      <td>C719A</td>\n",
       "      <td>1BE5</td>\n",
       "    </tr>\n",
       "    <tr>\n",
       "      <th>10635</th>\n",
       "      <td>term 12 issu on year subscriptionyo sav 86 cov...</td>\n",
       "      <td>90A8B052</td>\n",
       "      <td>C719A</td>\n",
       "      <td>F45B</td>\n",
       "    </tr>\n",
       "    <tr>\n",
       "      <th>10636</th>\n",
       "      <td>term 9 issu on year subscriptionyo sav 64 cov ...</td>\n",
       "      <td>90A8B052</td>\n",
       "      <td>C719A</td>\n",
       "      <td>A0E2</td>\n",
       "    </tr>\n",
       "    <tr>\n",
       "      <th>10637</th>\n",
       "      <td>term 26 issu on year subscriptionyo sav 54 cov...</td>\n",
       "      <td>90A8B052</td>\n",
       "      <td>C719A</td>\n",
       "      <td>1BE5</td>\n",
       "    </tr>\n",
       "    <tr>\n",
       "      <th>10638</th>\n",
       "      <td>term 12 issu on year subscriptionyo sav 60 cov...</td>\n",
       "      <td>90A8B052</td>\n",
       "      <td>C719A</td>\n",
       "      <td>A0E2</td>\n",
       "    </tr>\n",
       "  </tbody>\n",
       "</table>\n",
       "<p>10627 rows × 4 columns</p>\n",
       "</div>"
      ],
      "text/plain": [
       "                                             Description   Level_1 Level_2  \\\n",
       "0      gerb cap help keep littl on head cov warm day ...  09BF5150   C7E19   \n",
       "1      newborn inf toddl boy hoody jacket oshkosh b g...  2CEC27F1   ADAD6   \n",
       "2      tut ballet anym leap foxy fash ruffl tul toddl...  09BF5150   C7E19   \n",
       "3      newborn inf toddl boy hoody jacket oshkosh b g...  2CEC27F1   ADAD6   \n",
       "4      easy keep feel warm cozy inf toddl girl hoody ...  2CEC27F1   ADAD6   \n",
       "...                                                  ...       ...     ...   \n",
       "10634  term 10 issu on year subscriptionyo sav 75 cov...  90A8B052   C719A   \n",
       "10635  term 12 issu on year subscriptionyo sav 86 cov...  90A8B052   C719A   \n",
       "10636  term 9 issu on year subscriptionyo sav 64 cov ...  90A8B052   C719A   \n",
       "10637  term 26 issu on year subscriptionyo sav 54 cov...  90A8B052   C719A   \n",
       "10638  term 12 issu on year subscriptionyo sav 60 cov...  90A8B052   C719A   \n",
       "\n",
       "      Level_3  \n",
       "0        FDCF  \n",
       "1        ED0D  \n",
       "2        D06E  \n",
       "3        98CF  \n",
       "4        3918  \n",
       "...       ...  \n",
       "10634    1BE5  \n",
       "10635    F45B  \n",
       "10636    A0E2  \n",
       "10637    1BE5  \n",
       "10638    A0E2  \n",
       "\n",
       "[10627 rows x 4 columns]"
      ]
     },
     "execution_count": 17,
     "metadata": {},
     "output_type": "execute_result"
    }
   ],
   "source": [
    "# Apply to Level_3\n",
    "dataset_new.drop(dataset_new['Level_3'].value_counts().loc[lambda x:x<10])"
   ]
  },
  {
   "cell_type": "code",
   "execution_count": 18,
   "metadata": {},
   "outputs": [],
   "source": [
    "df_clean = dataset_new.copy()\n",
    "df_clean['Description'] = df_clean['Description'].astype('str')\n",
    "df_clean['Description'] = df_clean['Description'].str.replace(',', '')"
   ]
  },
  {
   "cell_type": "code",
   "execution_count": 19,
   "metadata": {},
   "outputs": [
    {
     "data": {
      "text/plain": [
       "Description    object\n",
       "Level_1        object\n",
       "Level_2        object\n",
       "Level_3        object\n",
       "dtype: object"
      ]
     },
     "execution_count": 19,
     "metadata": {},
     "output_type": "execute_result"
    }
   ],
   "source": [
    "df_clean.dtypes"
   ]
  },
  {
   "cell_type": "code",
   "execution_count": 20,
   "metadata": {},
   "outputs": [
    {
     "data": {
      "text/plain": [
       "array(['09BF5150', '2CEC27F1', 'AAC8EE56', '4C3D8686', '69286F45',\n",
       "       '57164AC1', '4513C920', '35E04739', 'EFEF723B', '96F95EEC',\n",
       "       '014303D1', '90A8B052', 'B092BA29', '3E1E0D78', 'D410C91A'],\n",
       "      dtype=object)"
      ]
     },
     "execution_count": 20,
     "metadata": {},
     "output_type": "execute_result"
    }
   ],
   "source": [
    "df_clean.Level_1.unique()"
   ]
  },
  {
   "cell_type": "code",
   "execution_count": 21,
   "metadata": {},
   "outputs": [
    {
     "data": {
      "text/plain": [
       "array(['C7E19', 'ADAD6', '914A1', '74974', '2D5A3', '9B69F', '7B638',\n",
       "       'F4055', '0864A', 'F824F', 'B2DB4', '02FA0', 'D5531', 'CB803',\n",
       "       'BAE8A', '31FED', 'E69F5', '390F1', '94728', '36080', '77F62',\n",
       "       'A04D3', '7AED7', '915D4', '6C6B1', '5E038', '262E7', 'AF6B9',\n",
       "       'C719A', '375FE', '5A8AB', '08960', '9D9EE', 'E6162', 'ACD06',\n",
       "       '223B2'], dtype=object)"
      ]
     },
     "execution_count": 21,
     "metadata": {},
     "output_type": "execute_result"
    }
   ],
   "source": [
    "df_clean.Level_2.unique()"
   ]
  },
  {
   "cell_type": "code",
   "execution_count": 22,
   "metadata": {},
   "outputs": [
    {
     "data": {
      "text/plain": [
       "array(['FDCF', 'ED0D', 'D06E', '98CF', '3918', '2212', '224F', 'D97D',\n",
       "       'A2B2', 'C267', 'F72B', '62E8', 'DAEA', '1530', '28A7', '1058',\n",
       "       '0CB9', '4A72', 'D579', '5DE2', '80C4', 'DDDE', '0F8B', '2C26',\n",
       "       '1F75', '5B02', '96B8', '7288', '21DA', 'AE8B', 'D436', '02B3',\n",
       "       '473E', '078B', '6253', '627D', 'FA9E', '2C15', '5BE9', 'CCEE',\n",
       "       '2ABA', '3E82', '20C0', '3DD3', 'B183', '7C00', '98A8', '44C3',\n",
       "       '215F', 'DDD5', '8C88', '6856', '695D', '8B36', 'BB6B', '5912',\n",
       "       '5F7C', '0EBC', 'C563', '5AE1', 'E8E0', '0ED4', 'C5B4', '3E60',\n",
       "       'BBA5', '6539', '16BD', 'A2FA', '3AAD', '6BE5', '29B3', 'A104',\n",
       "       'A0E2', '1BE5', 'F45B', '6B02', 'A675', '1F61', 'CD31', 'AA6B',\n",
       "       '2CFE', '1000', '05A0', 'E3E0', '818C', '2E14', '0B35', '33D1',\n",
       "       'F0EF', '9203', 'F213', 'D55B', '74C9', '8FEF'], dtype=object)"
      ]
     },
     "execution_count": 22,
     "metadata": {},
     "output_type": "execute_result"
    }
   ],
   "source": [
    "df_clean.Level_3.unique()"
   ]
  },
  {
   "cell_type": "markdown",
   "metadata": {},
   "source": [
    "### Now let's write a Function to Prepare Text (4 marks)\n",
    "We will apply it to our DataFrame later on\n",
    "\n",
    "* This function receives a text string and performs the following:\n",
    "* Convert text to lower case\n",
    "* Remove punctuation marks\n",
    "* Apply stemming using the popular Snowball or Porter Stemmer (optional)\n",
    "* Apply NGram Tokenisation\n",
    "* Return the tokenised text as a list of strings"
   ]
  },
  {
   "cell_type": "code",
   "execution_count": 23,
   "metadata": {},
   "outputs": [],
   "source": [
    "from nltk.tokenize import word_tokenize\n",
    "import re\n",
    "from nltk import ngrams\n",
    "from nltk.corpus import stopwords\n",
    "stop_words = set(stopwords.words('english'))\n",
    "from nltk.stem.snowball import SnowballStemmer\n",
    "st = SnowballStemmer(language='english')\n",
    "\n",
    "def process_text(text,n =1):\n",
    "    text = str(text)\n",
    "    # Replace all characters that are non-alphanumeric with spaces\n",
    "    tokinizer = RegexpTokenizer(r'\\w+')\n",
    "    text = text = re.sub(r'[^\\w\\s]','', text)\n",
    "    text = text = re.sub(r'_', '', text)\n",
    "    # Convert text to lowercase\n",
    "    text = text.lower()\n",
    "   \n",
    "    # Apply ngram\n",
    "    tokens = ngrams (nltk.word_tokenize(text),3)\n",
    "    tokenize = [ ' '.join(grams) for grams in tokens]\n",
    "    \n",
    "    return tokenize "
   ]
  },
  {
   "cell_type": "code",
   "execution_count": 24,
   "metadata": {},
   "outputs": [
    {
     "data": {
      "text/plain": [
       "['here were testing',\n",
       " 'were testing the',\n",
       " 'testing the processtext',\n",
       " 'the processtext function',\n",
       " 'processtext function results',\n",
       " 'function results are',\n",
       " 'results are as',\n",
       " 'are as follows']"
      ]
     },
     "execution_count": 24,
     "metadata": {},
     "output_type": "execute_result"
    }
   ],
   "source": [
    "# Here is an example function call\n",
    "process_text(\"Here we're testing the process_text function, results are as follows:\", 3)"
   ]
  },
  {
   "cell_type": "code",
   "execution_count": 25,
   "metadata": {},
   "outputs": [
    {
     "data": {
      "text/plain": [
       "['here were test',\n",
       " 'were test the',\n",
       " 'test the processtext',\n",
       " 'the processtext function',\n",
       " 'processtext function result',\n",
       " 'function result are',\n",
       " 'result are as',\n",
       " 'are as follow']"
      ]
     },
     "execution_count": 25,
     "metadata": {},
     "output_type": "execute_result"
    }
   ],
   "source": [
    "# Results should look like this:\n",
    "['here were test',\n",
    " 'were test the',\n",
    " 'test the processtext',\n",
    " 'the processtext function',\n",
    " 'processtext function result',\n",
    " 'function result are',\n",
    " 'result are as',\n",
    " 'are as follow']"
   ]
  },
  {
   "cell_type": "markdown",
   "metadata": {},
   "source": [
    "### Now let's apply TF-IDF to extract features from plain text (10 marks)"
   ]
  },
  {
   "cell_type": "code",
   "execution_count": 26,
   "metadata": {},
   "outputs": [
    {
     "data": {
      "text/plain": [
       "['0 gerb cap',\n",
       " 'gerb cap help',\n",
       " 'cap help keep',\n",
       " 'help keep littl',\n",
       " 'keep littl on',\n",
       " 'littl on head',\n",
       " 'on head cov',\n",
       " 'head cov warm',\n",
       " 'cov warm day',\n",
       " 'warm day 1',\n",
       " 'day 1 newborn',\n",
       " '1 newborn inf',\n",
       " 'newborn inf toddl',\n",
       " 'inf toddl boy',\n",
       " 'toddl boy hoody',\n",
       " 'boy hoody jacket',\n",
       " 'hoody jacket oshkosh',\n",
       " 'jacket oshkosh b',\n",
       " 'oshkosh b g',\n",
       " 'b g 2',\n",
       " 'g 2 tut',\n",
       " '2 tut ballet',\n",
       " 'tut ballet anym',\n",
       " 'ballet anym leap',\n",
       " 'anym leap foxy',\n",
       " 'leap foxy fash',\n",
       " 'foxy fash ruffl',\n",
       " 'fash ruffl tul',\n",
       " 'ruffl tul toddl',\n",
       " 'tul toddl 3',\n",
       " 'toddl 3 newborn',\n",
       " '3 newborn inf',\n",
       " 'newborn inf toddl',\n",
       " 'inf toddl boy',\n",
       " 'toddl boy hoody',\n",
       " 'boy hoody jacket',\n",
       " 'hoody jacket oshkosh',\n",
       " 'jacket oshkosh b',\n",
       " 'oshkosh b g',\n",
       " 'b g 4',\n",
       " 'g 4 easy',\n",
       " '4 easy keep',\n",
       " 'easy keep feel',\n",
       " 'keep feel warm',\n",
       " 'feel warm cozy',\n",
       " 'warm cozy inf',\n",
       " 'cozy inf toddl',\n",
       " 'inf toddl girl',\n",
       " 'toddl girl hoody',\n",
       " 'girl hoody 10634',\n",
       " 'hoody 10634 term',\n",
       " '10634 term 10',\n",
       " 'term 10 issu',\n",
       " '10 issu on',\n",
       " 'issu on year',\n",
       " 'on year subscriptionyo',\n",
       " 'year subscriptionyo sav',\n",
       " 'subscriptionyo sav 75',\n",
       " 'sav 75 cov',\n",
       " '75 cov 10635',\n",
       " 'cov 10635 term',\n",
       " '10635 term 12',\n",
       " 'term 12 issu',\n",
       " '12 issu on',\n",
       " 'issu on year',\n",
       " 'on year subscriptionyo',\n",
       " 'year subscriptionyo sav',\n",
       " 'subscriptionyo sav 86',\n",
       " 'sav 86 cov',\n",
       " '86 cov 10636',\n",
       " 'cov 10636 term',\n",
       " '10636 term 9',\n",
       " 'term 9 issu',\n",
       " '9 issu on',\n",
       " 'issu on year',\n",
       " 'on year subscriptionyo',\n",
       " 'year subscriptionyo sav',\n",
       " 'subscriptionyo sav 64',\n",
       " 'sav 64 cov',\n",
       " '64 cov 10637',\n",
       " 'cov 10637 term',\n",
       " '10637 term 26',\n",
       " 'term 26 issu',\n",
       " '26 issu on',\n",
       " 'issu on year',\n",
       " 'on year subscriptionyo',\n",
       " 'year subscriptionyo sav',\n",
       " 'subscriptionyo sav 54',\n",
       " 'sav 54 cov',\n",
       " '54 cov 10638',\n",
       " 'cov 10638 term',\n",
       " '10638 term 12',\n",
       " 'term 12 issu',\n",
       " '12 issu on',\n",
       " 'issu on year',\n",
       " 'on year subscriptionyo',\n",
       " 'year subscriptionyo sav',\n",
       " 'subscriptionyo sav 60',\n",
       " 'sav 60 cov',\n",
       " '60 cov name',\n",
       " 'cov name description',\n",
       " 'name description length',\n",
       " 'description length 10627',\n",
       " 'length 10627 dtype',\n",
       " '10627 dtype object']"
      ]
     },
     "execution_count": 26,
     "metadata": {},
     "output_type": "execute_result"
    }
   ],
   "source": [
    "# Might take a while...\n",
    "# Here you apply the process_text function to the Description column of the data\n",
    "text = df_clean.Description\n",
    "process_text(text)"
   ]
  },
  {
   "cell_type": "code",
   "execution_count": 27,
   "metadata": {},
   "outputs": [
    {
     "data": {
      "text/plain": [
       "CountVectorizer()"
      ]
     },
     "execution_count": 27,
     "metadata": {},
     "output_type": "execute_result"
    }
   ],
   "source": [
    "# Then you pass the results to the bag of words tranformer\n",
    "# See here: https://scikit-learn.org/stable/modules/generated/sklearn.feature_extraction.text.CountVectorizer.html\n",
    "vect = CountVectorizer()\n",
    "vect.fit(text)"
   ]
  },
  {
   "cell_type": "code",
   "execution_count": 28,
   "metadata": {},
   "outputs": [],
   "source": [
    "vocab = format(len(vect.vocabulary_))"
   ]
  },
  {
   "cell_type": "code",
   "execution_count": 29,
   "metadata": {},
   "outputs": [
    {
     "data": {
      "text/plain": [
       "\"{'gerb': 7139, 'cap': 3876, 'help': 7750, 'keep': 8667, 'littl': 9237, 'on': 10852, 'head': 7691, 'cov': 4917, 'warm': 15935, 'day': 5213, 'long': 9277, 'design': 5396, 'coordin': 4817, 'layet': 8959, 'item': 8385, 'gre': 7393, 'gift': 7176, 'giv': 7205, 'newborn': 10409, 'inf': 8187, 'toddl': 15108, 'boy': 3474, 'hoody': 7905, 'jacket': 8411, 'oshkosh': 10950, 'gosh': 7330, 'versatil': 15776, 'addit': 2017, 'everyday': 6253, 'cas': 3952, 'wardrob': 15931, 'mad': 9458, 'comfy': 4615, 'cotton': 4866, 'blend': 3222, 'zip': 16464, 'front': 6939, 'includ': 8140, 'fleec': 6643, 'lin': 9169, 'weath': 16013, 'rib': 12767, 'knit': 8786, 'trim': 15298, 'ens': 6130, 'snug': 13836, 'fit': 6582, 'tut': 15393, 'ballet': 2742, 'anym': 2376, 'leap': 8984, 'foxy': 6823, 'fash': 6416, 'ruffl': 12938, 'tul': 15368, 'girl': 7197, 'skirt': 13665, 'toby': 15101, 'adorn': 2074, 'satin': 13078, 'bow': 3457, 'pul': 12271, 'waist': 15895, 'cascad': 3953, 'rippl': 12811, 'puffy': 12270, 'dant': 5194, 'beat': 2887, 'easy': 5903, 'feel': 6471, 'cozy': 4939, 'toughskin': 15186, 'supery': 14534, 'soft': 13856, 'quick': 12355, 'chang': 4077, 'flor': 6672, 'print': 12145, 'ad': 1923, 'col': 4495, 'split': 14047, 'pouch': 11770, 'pocket': 11580, 'provid': 12240, 'plac': 11501, 'carry': 3942, 'favorit': 6432, 'tiny': 15084, 'toy': 15202, 'mit': 9944, 'protect': 12225, 'real': 12491, 'stay': 14181, 'dainty': 5175, 'hand': 7574, 'prev': 11865, 'baby': 2662, 'leav': 8999, 'scratch': 13187, 'mark': 9567, 'tend': 14872, 'skin': 13637, 'fac': 6366, 'thank': 14918, 'gentl': 7117, 'gath': 7074, 'band': 2754, 'cut': 5127, 'fal': 6388, 'back': 2682, 'bas': 2802, 'microfleec': 9846, 'perfect': 11324, 'requir': 12663, 'extr': 6321, 'lay': 8955, 'ins': 8245, 'top': 15149, 'cloth': 4386, 'polk': 11659, 'dot': 5690, 'contrast': 4755, 'whatev': 16070, 'swe': 14597, 'wear': 16008, 'ev': 6240, 'smal': 13759, 'lumberjack': 9363, 'nee': 10367, 'look': 9291, 'cool': 4809, 'modern': 9979, 'plaid': 11514, 'wond': 16245, 'feat': 6445, 'intery': 8301, 'deepest': 5286, 'forest': 6783, 'playroom': 11544, 'solid': 13882, 'mak': 9497, 'tee': 14842, 'get': 7151, 'much': 10145, 'sherp': 13415, 'rock': 12855, 'construct': 4727, 'entir': 6140, 'mat': 9623, 'comfort': 4600, 'attach': 2562, 'hood': 7894, 'monst': 10025, 'ear': 5876, 'wel': 16048, 'complet': 4655, 'sport': 14059, 'larg': 8907, 'clo': 4351, 'appl': 2404, 'whims': 16086, 'ful': 6976, 'leng': 9045, 'bundl': 3716, 'guard': 7479, 'pinch': 11453, 'wind': 16145, 'may': 9651, 'seem': 13266, 'lik': 9153, 'riddl': 12783, 'answ': 2353, 'quest': 12351, 'tim': 15066, 'dur': 5835, 'trendy': 15276, 'thick': 14972, 'faux': 6430, 'cre': 4970, 'meld': 9740, 'form': 6792, 'funct': 6987, 'cuff': 5067, 'hem': 7751, 'inspir': 8261, 'nifty': 10461, 'patch': 11209, 'lapel': 8902, 'styl': 14421, 'cold': 4497, 'wint': 16173, 'three': 15019, 'pair': 11101, 'glov': 7244, 'set': 13316, 'two': 15426, 'stretchy': 14354, 'text': 14908, 'glit': 7230, 'fox': 6822, 'dec': 5261, 'stripes': 14372, 'star': 14158, 'mix': 9948, 'match': 9624, 'heart': 7719, 'fing': 6554, 'effortless': 5969, 'start': 14167, 'flow': 6681, 'button': 3757, 'allov': 2211, 'fun': 6986, 'sleev': 13693, 'toasty': 15097, 'cor': 4824, 'sweatshirt': 14614, 'sup': 14517, 'stray': 14317, 'breez': 3579, 'colorblock': 4561, 'tourna': 15189, 'champ': 4074, 'read': 12487, 'jersey': 8506, 'numb': 10706, 'awesom': 2635, 'athlet': 2549, 'lov': 9327, 'lady': 8862, 'wondr': 16248, 'sequin': 13303, 'along': 2227, 'sid': 13520, 'gir': 7195, 'finest': 6548, 'dol': 5667, 'happy': 7620, 'sweep': 14620, 'hair': 7552, 'flap': 6619, 'gal': 7034, 'flo': 6663, 'headband': 7693, 'boast': 3296, 'worn': 16282, 'cent': 4030, 'behind': 2928, 'tru': 15330, 'saucy': 13089, 'guy': 7522, 'monkey': 10016, 'garn': 7056, 'plenty': 11554, 'smil': 13773, 'sewn': 13342, 'want': 15926, 'snap': 13804, 'photo': 11397, 'dud': 5816, 'darl': 5201, 'cuddl': 5065, 'exceiv': 6276, 'cud': 5064, 'yet': 16398, 'splash': 14034, 'chest': 4136, 'sil': 13537, 'sound': 13923, 'anyon': 2377, 'know': 8796, 'pand': 11129, 'multicol': 10155, 'leopard': 9088, 'striped': 14371, 'allig': 2209, 'scal': 13115, 'rugby': 12944, 'vars': 15721, 'fabr': 6355, 'mess': 9785, 'phy': 11411, 'ed': 5940, 'sint': 13595, '1983': 494, 'sporty': 14064, 'playtim': 11548, 'seam': 13230, 'built': 3699, 'last': 8921, 'body': 3308, 'opt': 10907, 'dinosa': 5550, 'dino': 5549, 'spik': 14020, 'embroid': 6050, 'tyk': 15432, 'already': 2235, 'pretend': 11860, 'alway': 2246, 'crack': 4948, 'everyon': 6255, 'anim': 2332, 'plush': 11569, 'unbeliev': 15491, 'com': 4587, 'togeth': 15117, 'rev': 12733, 'dog': 5662, 'show': 13484, 'too': 15142, 'chil': 4159, 'outsid': 10993, 'puppy': 12295, 'husky': 7998, 'rug': 12943, 'ragl': 12407, 'id': 8052, 'cho': 4191, 'afternoon': 2113, 'writ': 16307, 'across': 1907, 'let': 9093, 'right': 12789, 'amount': 2279, 'stretch': 14344, 'wonderkid': 16246, 'craft': 4954, 'acryl': 1911, 'clos': 4359, 'pack': 11056, 'coat': 4461, 'hat': 7657, 'play': 11535, 'decad': 5262, 'combin': 4590, 'screen': 13195, 'beany': 2882, 'metal': 9800, 'threading': 15015, 'shap': 13365, 'burst': 3736, 'good': 7312, 'smart': 13765, 'combo': 4592, 'spec': 13975, 'camo': 3845, 'class': 4285, 'camoufl': 3846, 'pattern': 11222, 'throughout': 15030, 'ready': 12489, 'go': 7265, 'hunt': 7990, 'transform': 15232, 'onto': 10872, 'breast': 3547, 'touch': 15177, 'outfit': 10979, 'pretty': 11864, 'sparkl': 13963, 'nic': 10453, 'rest': 12695, 'envelop': 6146, 'away': 2633, 'sweet': 14622, 'grown': 7456, 'detail': 5431, 'dress': 5747, 'party': 11189, 'pict': 11430, 'tak': 14714, 'wash': 15948, 'simpl': 13574, 'guar': 7472, 'shel': 13403, 'best': 2991, 'comfiest': 4599, 'celebr': 4017, 'scarf': 13121, 'siz': 13610, 'kid': 8713, 'bit': 3075, 'narrow': 10256, 'adult': 2080, 'scarv': 13123, 'bet': 2994, 'wrap': 16295, 'around': 2481, 'wont': 16250, 'hear': 7716, 'complain': 4652, 'itchy': 8384, 'eith': 5985, 'noth': 10624, 'could': 4894, 'thermacheck': 14950, 'brush': 3653, 'snow': 13821, 'plu': 11559, 'ant': 2354, 'pil': 11444, 'fin': 6544, 'sled': 13687, 'season': 13242, '100': 132, 'polyest': 11669, 'embroidery': 6051, 'striking': 14361, 'sleeveless': 13696, 'scoop': 13173, 'neck': 10329, 'conveny': 4767, 'zipit': 16465, 'also': 2236, 'beauty': 2891, 'ros': 12889, 'sash': 13068, 'tie': 15056, 'gorg': 7326, 'bowth': 3465, 'purpl': 12302, 'ivy': 8400, 'blacksh': 3202, 'chic': 4148, 'tripl': 15308, 'strap': 14297, 'butterf': 3752, 'ashley': 2512, 'an': 2287, 'straps': 14301, 'squ': 14111, 'acc': 1869, 'almost': 2216, 'angel': 2322, 'appear': 2399, 'amy': 2285, 'closet': 4362, 'gold': 7280, 'iv': 8398, 'emm': 6066, 'bubbl': 3675, 'forward': 6809, 'piec': 11432, 'sur': 14546, 'stand': 14147, 'loos': 9303, 'airy': 2164, 'hemlin': 7755, 'slight': 13721, 'ruch': 12933, 'torso': 15169, 'waistband': 15897, 'vis': 15842, 'black': 3191, 'ple': 11550, 'stun': 14417, 'silv': 13558, 'impress': 8107, 'twirl': 15421, 'shimmery': 13421, 'tier': 15059, 'neat': 10325, 'hid': 7793, 'short': 13460, 'cartwheel': 3949, 'confid': 4694, 'sum': 14493, 'oc': 10768, 'blu': 3260, 'tank': 14733, 'swak': 14587, 'part': 11182, 'bring': 3604, 'country': 4905, 'charm': 4099, 'contemp': 4742, 'wov': 16288, 'bod': 3304, 'lac': 8851, 'bal': 2738, 'mult': 10154, 'sem': 13283, 'retro': 12728, 'pink': 11458, 'fresh': 6905, 'fre': 6843, 'fab': 6351, 'max': 9646, 'empir': 6073, 'crinkl': 5003, 'crep': 4986, 'pintuck': 11474, 'eyelet': 6336, 'canyon': 3874, 'riv': 12824, 'peas': 11265, 'elast': 5991, 'pleas': 11551, 'punch': 12283, 'occas': 10778, 'feath': 6446, 'scoot': 13175, 'skort': 13671, 'surpr': 14560, 'carefr': 3915, 'simply': 13579, 'air': 2151, 'subtl': 14468, 'soph': 13909, 'bolero': 3325, 'shrug': 13502, 'dressy': 5760, 'put': 12313, 'tack': 14695, 'flowerslemon': 6686, 'grass': 7382, 'panty': 11146, 'whit': 16097, 'park': 11177, 'bask': 2813, 'sunshin': 14516, 'princess': 12142, 'picn': 11427, 'jewel': 8517, 'youl': 16416, 'she': 13388, 'dig': 5528, 'pb': 11240, 'ey': 6331, 'catch': 3977, 'thin': 14984, 'doubl': 5694, 'posh': 11753, 'appropry': 2425, 'soc': 13848, 'schedule': 13150, 'east': 5900, 'rar': 12448, 'edit': 5949, 'bel': 2934, 'classy': 4289, 'embel': 6039, 'belt': 2945, 'ther': 14943, 'bottom': 3432, 'youngland': 16420, 'famy': 6396, 'cardig': 3910, 'sep': 13296, 'multitud': 10167, 'red': 12537, 'off': 10804, 'maxim': 9647, 'thing': 14985, 'leg': 9011, 'sear': 13238, 'world': 16278, 'way': 15997, 'bord': 3368, 'crop': 5019, 'palet': 11111, 'school': 13158, 'pag': 11087, 'holiday': 7851, 'commun': 4627, 'slip': 13727, 'light': 9137, 'nev': 10403, 'mind': 9901, 'would': 16286, 'del': 5309, 'vibr': 15798, 'enh': 6123, 'delight': 5316, 'prim': 12133, 'prop': 12212, 'find': 6545, 'feminin': 6487, 'roset': 12898, 'self': 13278, 'round': 12915, 'whirl': 16090, 'daisy': 5179, 'paisley': 11102, 'stapl': 14157, 'tot': 15176, 'sens': 13289, 'should': 13468, 'meet': 9729, 'daught': 5207, 'ter': 14881, 'waistbandmatch': 15899, '12': 245, '3m': 1075, '6m': 1464, '12m': 289, '18m': 457, 'xl': 16351, '24m': 773, 'xxl': 16366, '10': 131, 'shim': 13419, 'shin': 13423, 'bright': 3596, 'sun': 14499, 'diamond': 5496, 'rhineston': 12758, 'encrust': 6088, 'enough': 6128, 'wom': 16241, 'papil': 11156, 'topprint': 15155, 'poplin': 11726, 'wait': 15916, 'fairy': 6384, 'fuchs': 6973, 'spin': 14026, 'gard': 7052, 'expery': 6305, 'utmost': 15678, 'prant': 11809, 'friend': 6920, 'glittery': 7232, 'fest': 6500, 'past': 11201, 'kne': 8777, 'fantast': 6403, 'autumn': 2610, 'afford': 2101, 'dressth': 5759, 'mid': 9857, 'night': 10462, 'boot': 3359, 'heel': 7740, 'sand': 13046, 'suit': 14487, 'dont': 5680, 'worry': 16283, 'heat': 7727, 'yo': 16404, 'going': 7279, 'breath': 3573, 'build': 3696, 'lightweight': 9148, 'car': 3898, 'pric': 11872, 'spring': 14082, 'hom': 7864, 'today': 15107, 'timeless': 15071, 'showcas': 13486, 'paint': 11099, 'watercol': 15980, 'gerber': 7140, 'in': 8114, 'art': 2490, 'cheetah': 4122, 'sundress': 14505, 'deep': 5285, 'necklin': 10347, 'halt': 7568, 'chin': 4170, 'cont': 4732, 'rayon': 12468, 'gray': 7389, 'not': 10619, 'typ': 15433, 'closest': 4361, 'im': 8083, 'ship': 13434, 'receiv': 12509, 'random': 12436, 'half': 7563, 'scroll': 13207, 'dropwa': 5787, 'breezy': 3581, 'underlay': 15515, 'ribbon': 12768, 'tied': 15058, 'ribbonpink': 12769, 'us': 15642, 'taffet': 14703, 'crinolin': 5004, 'low': 9333, 'access': 1881, 'pin': 11452, 'remov': 12630, '65': 1428, '35': 1007, 'acet': 1896, 'usanew': 15649, 'box': 3467, 'necklinetripl': 10350, 'silk': 13552, 'waistful': 15903, 'skirtbutton': 13666, 'bead': 2870, 'stat': 14174, 'wid': 16121, 'waistlin': 15906, 'michel': 9831, 'certain': 4041, 'mesh': 9781, 'overlay': 11020, 'lavend': 8951, 'ombr': 10845, 'galaxy': 7037, 'dazzl': 5231, 'yellow': 16390, 'flowersyellow': 6689, 'fashionist': 6417, 'rmla': 12832, 'lilac': 9156, 'hipst': 7825, 'satiny': 13080, 'smoo': 13787, 'hug': 7975, 'drop': 5778, 'flar': 6621, 'wild': 16131, 'person': 11351, 'rainbow': 12413, 'becom': 2898, 'tast': 14756, 'christmas': 4214, 'hol': 7845, 'jol': 8564, 'nor': 10599, 'sant': 13058, 'fluffy': 6703, 'wrist': 16303, 'coll': 4517, 'che': 4106, 'blueber': 3261, 'boulevard': 3447, 'bold': 3324, 'crossback': 5023, 'flair': 6609, 'smock': 13779, 'beam': 2877, 'prid': 12132, 'row': 12920, 'reflect': 12565, 'adjust': 2067, 'grow': 7454, 'cuty': 5142, 'pie': 11431, 'every': 6251, 'hot': 7931, 'sweetheart': 14624, 'shir': 13436, 'clip': 4349, 'swirl': 14638, 'punchy': 12284, 'bestow': 2992, 'diagon': 5490, 'fleuret': 6647, 'dresspanty': 5758, 'lend': 9044, 'impecc': 8097, 'quintess': 12369, 'upon': 15629, 'work': 16264, 'high': 7795, 'scrunched': 13217, 'un': 15484, 'capt': 3895, 'compl': 4651, 'altogeth': 2240, 'flat': 6625, 'must': 10187, 'lito': 9236, 'heav': 7734, 'hap': 7619, 'dreamy': 5745, 'necklac': 10339, 'speechless': 13997, 'fril': 6924, 'ensembl': 6131, 'pend': 11291, 'silverton': 13564, 'chain': 4052, 'eleg': 6007, 'plum': 11562, 'exact': 6272, 'op': 10881, 'ankl': 2338, 'wheth': 16082, 'channel': 4080, 'draculaur': 5717, 'trick': 15288, 'tre': 15254, 'franky': 6840, 'stein': 14204, 'scar': 13120, 'lot': 9317, 'spark': 13962, 'tutu': 15396, 'mattel': 9639, 'pet': 11362, 'confett': 4693, 'discret': 5585, 'hard': 7624, 'eyelash': 6334, 'feast': 6444, 'puff': 12269, 'sway': 14596, 'exud': 6329, 'pois': 11647, 'flut': 6714, 'coatdress': 4464, 'individ': 8172, 'rosettespink': 12900, 'am': 2250, 'silky': 13557, 'ench': 6080, 'graph': 7372, 'aflut': 2107, 'itty': 8395, 'bitty': 3079, 'atop': 2557, 'infus': 8209, 'consist': 4720, 'frock': 6933, 'excus': 6286, 'twist': 15422, 'puck': 12265, 'denim': 5330, 'vest': 15781, 'excit': 6281, 'assort': 2535, 'mingl': 9910, 'grac': 7345, 'mag': 9463, 'child': 4160, 'wasnt': 15973, '1970s': 491, 'bohem': 3320, 'dip': 5554, 'dye': 5855, 'vint': 15824, 'room': 12885, 'relax': 12607, 'fad': 6378, 'groovy': 7444, 'rain': 12411, 'stitch': 14255, 'ap': 2385, 'bonny': 3341, 'jean': 8460, 'trop': 15323, 'pindot': 11455, 'rais': 12420, 'crossov': 5026, 'machin': 9450, 'absolv': 1855, 'year': 16384, 'step': 14210, 'bar': 2773, 'without': 16217, 'zigz': 16461, 'reinforc': 12596, 'glim': 7226, 'spangl': 13957, 'flaunt': 6631, 'perry': 11347, 'spectacul': 13993, 'brooch': 3629, 'envy': 6149, 'pal': 11107, 'flowersblack': 6684, 'stripped': 14376, 'sprouts': 14100, 'glam': 7210, 'velvet': 15747, 'flock': 6665, 'velv': 15746, 'zebr': 16449, 'superst': 14532, 'rag': 12406, 'toe': 15112, 'luxury': 9387, 'sculpt': 13220, 'crisscross': 5011, 'drap': 5726, 'echo': 5923, 'foil': 6737, 'mov': 10111, 'asymmet': 2545, 'rav': 12463, 'review': 12740, 'sprinkle': 14090, 'pinky': 11467, 'crav': 4964, 'abstract': 1859, 'ste': 14184, 'spotlight': 14066, 'exquisit': 6314, 'magn': 9473, 'at': 2546, 'deserv': 5394, 'linedsatin': 9179, 'flowerssatin': 6687, 'hemfunct': 7753, 'everyth': 6258, 'bunch': 3715, 'dynam': 5860, 'dep': 5345, 'ar': 2441, 'green': 7400, 'ston': 14263, 'sassy': 13074, 'leath': 8988, 'bongo': 3340, 'dash': 5204, 'attitud': 2569, 'sheen': 13395, 'spirit': 14031, 'solv': 13890, 'next': 10426, 'rop': 12888, 'tassel': 14753, 'hop': 7915, 'skip': 13664, 'jump': 8599, 'seersuck': 13269, 'check': 4108, 'spandex': 13950, 'stil': 14245, '2fer': 883, 'hip': 7818, 'unorthodox': 15574, 'min': 9899, 'hue': 7973, 'cors': 4853, 'remain': 12619, 'folk': 6745, 'pastel': 11203, 'sho': 13449, 'definit': 5298, 'bliss': 3234, 'blow': 3258, 'pat': 11208, 'funky': 6994, 'ton': 15132, 'pres': 11845, 'cross': 5022, 'lettuc': 9096, 'edg': 5944, 'fig': 6529, 'blast': 3215, 'gon': 7307, 'incred': 8157, 'blossom': 3253, 'watery': 15992, 'awash': 2632, 'accord': 1890, 'sect': 13258, 'big': 3027, 'broach': 3616, 'tradit': 15213, 'buckl': 3683, 'partn': 11186, 'popul': 11732, 'trend': 15269, 'detach': 5430, 'pract': 11803, 'blueberry': 3262, 'confect': 4691, 'guav': 7481, 'bowguav': 3459, 'distinct': 5621, 'fant': 6401, 'brown': 3637, 'ring': 12796, 'mock': 9972, 'alik': 2197, 'pop': 11723, 'cher': 4132, 'young': 16418, 'cheery': 4117, 'skinny': 13650, 'dotsros': 5692, 'rufflingblack': 12942, 'approxim': 2429, 'inch': 8120, 'vary': 15723, 'wed': 16023, 'expect': 6300, 'dearest': 5251, 'gown': 7339, 'rear': 12497, 'volum': 15869, 'zoey': 16480, 'hottest': 7935, 'racerback': 12391, 'sunny': 14512, 'neon': 10385, 'inset': 8252, 'circ': 4252, 'accompl': 1889, 'pick': 11421, 'lurex': 9376, 'threads': 15016, 'test': 14895, 'produc': 12181, 'ord': 10919, 'je': 8458, 'ne': 10320, 'sai': 13011, 'quo': 12376, 'itl': 8390, 'vanill': 15713, 'rosettesvanill': 12901, 'pleatspink': 11552, 'that': 14922, 'bulk': 3703, 'buy': 3767, 'crochet': 5015, 'navy': 10285, 'chiffon': 4158, 'blee': 3220, 'runway': 12952, 'crowd': 5033, 'shift': 13418, 'choos': 4201, 'teal': 14817, 'comply': 4658, 'swing': 14635, 'hour': 7939, 'oodl': 10878, 'luminesc': 9365, 'ditzy': 5632, 'crisp': 5007, 'hint': 7817, 'battl': 2838, 'busy': 3749, 'morn': 10070, 'oh': 10817, 'took': 15143, 'upd': 15617, 'silhouet': 13538, 'playground': 11539, 'birthday': 3063, 'stor': 14270, 'pol': 11649, 'bash': 2808, 'sing': 13588, 'first': 6574, 'program': 12196, 'avail': 2613, 'roy': 12922, 'foc': 6732, 'point': 11644, 'xs': 16359, '6x': 1476, '16': 385, 'flowery': 6690, 'reason': 12498, 'shout': 13482, 'waistbandpanty': 15900, 'velo': 15745, 'corrin': 4850, 'company': 4637, 'enl': 6125, 'miss': 9939, 'cinch': 4243, 'dear': 5250, 'peach': 11253, 'select': 13275, 'crew': 4993, 'loud': 9320, 'orang': 10914, 'imposs': 8105, 'tir': 15086, 'stop': 14269, 'say': 13101, 'turquo': 15386, 'mantr': 9537, 'champagn': 4075, 'byer': 3774, 'collect': 4540, 'perc': 11319, 'cottonallov': 4868, 'fair': 6382, 'isl': 8358, 'patterndec': 11223, 'pom': 11707, 'pomback': 11708, 'buttonscoordin': 3762, 'diap': 5500, 'shiny': 13431, 'chant': 4081, 'winds': 16153, 'amp': 2280, 'fact': 6376, 'christening': 4210, 'keepsak': 8668, 'tea': 14811, 'spread': 14075, 'wing': 16163, 'forev': 6785, 'spot': 14065, 'modest': 9981, 'fus': 7008, 'fuel': 6975, 'pass': 11196, 'felin': 6482, 'hello': 7748, 'kitty': 8762, 'clust': 4402, 'nanet': 10242, 'shirt': 13439, 'peek': 11277, 'benea': 2956, 'left': 9008, 'tight': 15062, '50s': 1260, 'nostalg': 10617, 'cod': 4481, 'stud': 14411, 'goe': 7276, 'propel': 12213, 'territ': 14890, 'ik': 8073, 'jacquard': 8425, 'quinceaner': 12366, 'hous': 7944, 'wu': 16313, 'sag': 13006, 'singl': 13590, 'organz': 10928, 'nam': 10236, 'gam': 7045, 'project': 12198, 'argyl': 2462, 'upsc': 15632, 'import': 8100, 'lif': 9121, 'draw': 5729, 'alon': 2224, 'jewelry': 8520, 'floaty': 6664, 'seamless': 13231, 'array': 2485, 'lipstik': 9220, 'list': 9233, 'shop': 13457, 'hemsatin': 7759, 'rhinestoneheart': 12759, 'necklinecom': 10348, 'month': 10030, '3tshe': 1090, 'many': 9541, 'mud': 10148, 'twinkl': 15418, '18': 431, 'miny': 9927, 'vert': 15779, 'flirty': 6661, 'begin': 2922, 'tulip': 15369, 'see': 13264, 'view': 15813, 'rickrack': 12779, 'dcorback': 5238, 'gifts': 7180, 'bowsyellow': 3464, 'int': 8271, 'panel': 11132, 'drawst': 5734, 'ic': 8043, 'uniform': 15543, 'superb': 14519, 'strike': 14359, 'pos': 11751, 'straight': 14286, 'sprinkled': 14091, 'bon': 3335, 'bejewel': 2933, 'skew': 13630, 'berry': 2986, 'sheet': 13398, 'undeny': 15507, 'try': 15343, 'scrumptious': 13216, 'visit': 15845, 'grandm': 7363, 'cart': 3943, 'favourit': 6435, 'trinket': 15305, 'everywh': 6260, 'zig': 16459, 'zag': 16438, 'cowl': 4933, 'intertwin': 8297, 'pan': 11123, 'bud': 3685, 'yok': 16407, 'weekend': 16030, 'bloom': 3248, 'fast': 6421, 'lush': 9378, 'fush': 7011, 'div': 5633, 'dressgr': 5751, 'wav': 15993, 'unforget': 15541, 'primp': 12141, 'prep': 11837, 'strapless': 14298, 'satisfy': 13083, 'serv': 13310, 'corduroy': 4831, 'jumperaqu': 8600, 'pullov': 12274, 'cabl': 3797, 'turtleneck': 15389, 'fuss': 7012, 'anywh': 2383, 'church': 4233, 'guesswork': 7485, 'marvel': 9591, 'dream': 5744, 'spruce': 14101, 'flash': 6622, 'equip': 6168, 'ecst': 5937, 'tumbl': 15372, 'ooh': 10879, 'ahh': 2137, 'vac': 15689, 'enrich': 6129, 'liv': 9240, 'grey': 7412, 'shawl': 13386, 'sass': 13073, 'silvery': 13566, 'cru': 5037, 'carib': 3922, 'mayb': 9652, 'block': 3239, 'surpl': 14559, 'island': 8359, 'backyard': 2707, 'beig': 2931, 'bowsbeig': 3463, 'headbandpink': 7696, 'bottomcotton': 3434, 'sky': 13674, 'forget': 6787, 'minut': 9923, 'cherry': 4133, 'soir': 13876, 'second': 13253, 'anoth': 2351, 'lead': 8973, 'twig': 15413, 'roseb': 12891, 'decid': 5267, 'gush': 7514, 'shad': 13349, 'springtime': 14088, 'accentu': 1879, 'gig': 7181, 'retail': 12715, '69': 1454, 'bout': 3456, 'cottonnecklin': 4883, 'roundsleev': 12916, 'sleevelessclos': 13697, 'snapc': 13805, 'cle': 4296, 'tumb': 15371, 'dry': 5795, 'norm': 10603, 'bouquet': 3452, 'vivid': 15853, 'spaghett': 13946, 'ladywatch': 8865, 'pirouet': 11481, 'thrill': 15023, 'stag': 14136, 'underskirt': 15519, 'peachy': 11254, 'crink': 5002, 'amid': 2270, 'shea': 13389, 'facet': 6371, 'swelt': 14628, 'temp': 14862, 'surefir': 14547, 'latest': 8927, 'greatest': 7397, '2013': 677, 'headbandbeig': 7694, 'dressbeig': 5748, 'pearl': 11261, 'glass': 7216, 'posit': 11754, 'unev': 15537, 'summery': 14495, 'smel': 13771, 'fragr': 6831, 'rady': 12405, 'pip': 11478, 'resplend': 12691, 'boho': 3321, 'braid': 3502, 'enjoy': 6124, 'least': 8987, 'raw': 12465, 'info': 8203, 'bath': 2826, 'cryst': 5051, 'grand': 7359, 'ent': 6133, 'dressgrand': 5752, 'rich': 12774, 'dram': 5724, 'attract': 2570, 'wherev': 16081, '49': 1206, 'sophia': 13910, 'sold': 13879, 'embrac': 6048, 'eclect': 5924, 'meshdress': 9782, 'inst': 8263, 'outstand': 10996, 'thread': 15013, 'bottompink': 3436, 'tickl': 15052, 'promin': 12205, 'velveteen': 15748, 'proud': 12237, 'optionssear': 10911, 'wrong': 16309, 'rush': 12954, 'undernea': 15516, 'might': 9876, 'stamp': 14145, 'marl': 9573, 'revers': 12736, 'interest': 8284, 'anyth': 2378, 'beadwork': 2875, 'romp': 12878, 'divin': 5639, 'treas': 15256, 'affair': 2096, 'curtsy': 5114, 'up': 15608, 'tac': 14694, 'tulleyellow': 15370, 'main': 9485, 'tiar': 15049, 'handkerchief': 7583, 'precy': 11817, 'twof': 15427, 'appoint': 2421, 'effect': 5964, 'thigh': 14978, 'grady': 7351, 'weav': 16018, 'diff': 5524, 'eventgrac': 6246, 'detailsdown': 5441, 'thetiny': 14963, 'impact': 8094, 'bowwhit': 3466, 'diva': 5634, 'blouson': 3256, 'gar': 7049, 'overs': 11024, 'rufflesguav': 12940, 'wow': 16289, 'fav': 6431, 'rul': 12946, 'kingdom': 8735, 'sateen': 13076, 'underwearcart': 15527, 'monthsc': 10035, 'topha': 15154, 'fan': 6397, 'expos': 6312, 'munec': 10172, 'defin': 5296, 'cummerbund': 5092, 'punctu': 12286, 'twir': 15420, 'majest': 9495, 'flawless': 6638, 'snak': 13802, 'cannot': 3867, 'bodicesleeveless': 3307, 'luxuriousth': 9386, 'purpleyou': 12305, 'cant': 3870, 'nickelodeon': 10458, 'dor': 5685, 'expl': 6307, 'irresist': 8352, 'mod': 9976, 'nod': 10566, '60s': 1392, 'loop': 9300, 'raspberry': 12453, 'mean': 9698, 'wrinkl': 16301, 'getup': 7153, 'mem': 9751, 'andy': 2316, 'dressjust': 5757, 'load': 9249, 'billow': 3038, 'expand': 6299, 'stretching': 14351, 'wallet': 15920, 'bowpink': 3462, 'though': 15010, 'cutout': 5137, '95': 1765, 'pointy': 11646, 'stiletto': 14246, 'sexy': 13345, 'dyed': 5856, 'personalitygold': 11352, 'background': 2690, 'sharp': 13378, 'firework': 6571, 'corkscrew': 4835, 'payet': 11234, 'amaz': 2254, 'tencel': 14871, 'burnout': 3730, 'dul': 5822, 'skoot': 13670, 'hybrid': 8004, 'clev': 4335, 'duet': 5819, 'eq': 6163, 'playd': 11537, 'bia': 3019, 'brand': 3506, 'new': 10407, 'cupcak': 5096, 'sku': 13672, 'adb25296241': 1982, 'burgundy': 3727, 'geomet': 7128, 'tal': 14717, 'got': 7332, 'sug': 14485, 'spic': 14012, 'flount': 6678, 'camer': 3841, 'custom': 5124, 'monogram': 10019, 'easiest': 5897, 'unb': 15489, 'cyc': 5148, 'iron': 8349, 'gushinspir': 7515, 'broad': 3617, 'highlight': 7799, 'sight': 13533, 'seen': 13267, 'soutach': 13933, 'cal': 3813, 'bil': 3032, 'mir': 9928, 'fancy': 6398, 'waterfal': 15982, 'cloud': 4393, 'qual': 12337, 'prem': 11832, 'juny': 8607, 'ind': 8160, 'run': 12949, '1s': 538, '2m': 890, '2l': 889, '1xl': 547, 'valentin': 15699, '2t': 904, '3t': 1089, '4tfeatures': 1237, 'headbandfabr': 7695, 'crinolineaccess': 5005, 'shirttail': 13446, 'equ': 6164, 'aww': 2639, 'strategic': 14305, 'card': 3907, 'yearsskip': 16387, 'bo': 3290, 'ultim': 15461, 'sequ': 13302, 'unoplay': 15572, 'skil': 13633, 'strategy': 14308, 'stack': 14133, 'cardsfirst': 3912, 'stockpil': 14260, 'winsrecommend': 16172, 'ag': 2116, 'wheel': 16074, 'target': 14745, 'gend': 7106, 'mal': 9501, 'group': 7449, 'fict': 6515, 'charact': 4089, 'apparel': 2397, '4t': 1236, 'far': 6408, 'bab': 2650, 'war': 15929, 'heath': 7730, 'galact': 7036, 'display': 5616, 'jed': 8487, 'fem': 6485, 'fiv': 6602, 'rol': 12868, 'allow': 2212, 'ess': 6204, 'turn': 15385, 'gap': 7048, 'nak': 10235, 'bodysuit': 3315, 'man': 9515, 'rad': 12400, 'hes': 7778, 'monthsdesign': 10037, 'lavenderany': 8952, 'chos': 4206, 'slub': 13749, 'basket': 2814, 'patriot': 11219, '4th': 1238, 'july': 8597, 'flag': 6608, 'circo': 4253, 'lucky': 9353, 'beyond': 3005, 'dragonf': 5720, 'fluttery': 6715, 'genuin': 7123, 'nat': 10260, 'drink': 5768, 'buddy': 3687, 'trip': 15307, 'mr': 10129, 'tun': 15378, 'town': 15198, 'sunglass': 14508, 'lens': 9082, 'fram': 6832, 'rub': 12928, 'arm': 2467, 'old': 10831, 'memb': 9752, 'tag': 14705, 'dem': 5321, 'hi': 7790, 'lo': 9248, 'med': 9715, 'weight': 16037, 'turkey': 15384, 'thanksg': 14919, 'neut': 10401, 'highest': 7797, 'sel': 13274, 'cat': 3973, 'makeup': 9499, 'kit': 8745, 'sanrio': 13057, 'handy': 7604, 'nail': 10229, 'lip': 9207, 'gloss': 7242, 'son': 13898, 'logo': 9269, 'bug': 3693, 'pompom': 11712, 'fur': 6999, 'chas': 4102, 'blust': 3279, 'snowflak': 13824, 'gdry': 7089, 'moist': 9988, 'wick': 16118, 'curv': 5115, 'slit': 13733, 'hit': 7828, 'model': 9978, 'aqu': 2436, 'tid': 15053, '177': 425, 'cm': 4405, 'bust': 3744, '32': 965, '81': 1623, '24': 755, '61': 1394, 'regul': 12587, 'crewneck': 4994, 'monthsfit': 10038, 'infantssoft': 8191, 'yarn': 16379, 'cotton3': 4867, 'crotch': 5032, 'twil': 15415, 'khak': 8691, 'stylin': 14433, 'age100': 2119, 'dark': 5199, 'photograph': 11399, 'insid': 8254, 'beach': 2865, 'unty': 15600, 'therm': 14949, 'waffl': 15893, 'tough': 15183, 'maintain': 9489, 'rep': 12642, 'polo': 11663, 'ultr': 15464, 'tap': 14737, 'trap': 15241, 'spac': 13943, 'patrol': 11220, 'bik': 3030, 'motorcyc': 10093, 'daddy': 5172, 'out': 10969, 'dad': 5171, 'mil': 9881, 'watch': 15976, 'hold': 7846, 'balloon': 2744, 'shirtfun': 13441, 'pizzazz': 11496, 'skirtlik': 13667, 'otherw': 10958, 'dimend': 5538, 'onesy': 10859, 'underwear': 15526, 'lap': 8901, 'tagless': 14707, 'valu': 15702, 'mom': 9999, 'unpredict': 15578, 'vent': 15752, 'bear': 2883, 'swaddl': 14584, 'task': 14751, 'footbal': 6761, 'draft': 5718, 'cream': 4972, 'con': 4674, 'pow': 11787, 'kimono': 8726, 'lim': 9160, 'bum': 3710, 'ladybug': 8863, 'obvy': 10767, 'crib': 4997, 'pap': 11147, 'flannel': 6618, 'fold': 6739, 'tab': 14684, 'chambray': 4068, 'placket': 11503, 'keyhol': 8687, 'whol': 16110, 'embody': 6046, 'pint': 11472, 'incomp': 8150, 'refer': 12557, 'fuzzy': 7020, 'beak': 2876, 'gem': 7101, 'hang': 7606, 'scen': 13131, 'paw': 11232, 'collectabilit': 4541, 'onlin': 10862, '169': 399, '2015': 680, 'viacom': 15794, 'intern': 8290, 'tail': 14710, 'someth': 13894, 'deer': 5290, 'found': 6815, 'overh': 11015, 'pepl': 11312, 'pur': 12296, 'camp': 3847, 'collegy': 4547, 'bulldog': 3705, 'univers': 15556, 'rough': 12914, 'prom': 12204, 'trek': 15264, 'rang': 12438, 'inseam': 8247, 'handsom': 7602, 'quart': 12341, 'inc': 8117, 'creep': 4982, 'stripe': 14370, 'underst': 15520, 'supply': 14541, 'checkerboard': 4109, 'aunt': 2588, 'el': 5987, 'american': 2267, 'strong': 14390, 'atp1418': 2559, 'novel': 10633, 'interlock': 8288, 'bra': 3490, 'shelf': 13404, 'coolmax': 4812, '174': 418, 'pad': 11083, 'drapey': 5727, 'pepp': 11313, 'pig': 11439, 'cutest': 5131, 'joe': 8550, 'alongsid': 2228, 'describ': 5366, 'rust': 12956, 'buffalo': 3691, 'espec': 6199, 'newfound': 10413, 'less': 9090, 'label': 8848, 'flav': 6632, 'doz': 5710, 'airpl': 2158, 'fly': 6716, 'pointel': 11645, 'dollh': 5670, 'french': 6900, 'terry': 14891, 'num': 10705, 'rac': 12388, 'win': 16144, 'contestth': 4748, 'term': 14885, 'centerpiec': 4031, 'bedroom': 2905, 'neighb': 10377, 'sued': 14479, 'outsol': 10995, 'grip': 7428, 'sol': 13878, 'tract': 15210, 'boost': 3358, 'bird': 3059, 'surround': 14562, 'seal': 13229, 'escap': 6189, 'socc': 13849, 'team': 14818, 'eat': 5909, 'perform': 11327, 'scoopneck': 13174, 'interwov': 8300, 'yog': 16405, 'slim': 13723, 'skim': 13635, 'basebal': 2804, 'outdo': 10972, 'shy': 13512, 'tel': 14855, 'adv': 2083, 'owl': 11033, 'mirac': 9929, 'think': 14987, 'flight': 6654, 'truck': 15331, 'crush': 5044, 'whenev': 16079, 'track': 15209, 'boxy': 3473, 'vib': 15795, 'don': 5675, 'flurry': 6711, 'dat': 5206, 'henley': 7763, 'elbow': 5998, 'taught': 14778, 'coochy': 4779, 'cooch': 4778, 'coo': 4777, 'tuxedo': 15398, 'atp1400': 2558, 'act': 1916, 'gear': 7090, 'muddy': 10149, 'field': 6520, 'ol': 10829, 'hel': 7745, 'handl': 7585, 'heavy': 7735, 'duty': 5845, 'kind': 8729, 'honeyb': 7887, 'blous': 3255, 'knack': 8776, 'piqu': 11479, 'rambuncty': 12429, 'yard': 16378, 'sec': 13250, 'gingham': 7191, 'laugh': 8937, 'bwy1062': 3771, 'heavyweight': 7736, '220gsm': 725, 'eas': 5892, 'movy': 10117, 'tow': 15191, 'topsshort': 15158, 'sleevescrewneck100': 13703, 'domest': 5673, 'aplomb': 2393, 'near': 10322, 'word': 16263, 'kool': 8817, 'sketch': 13628, 'hooty': 7913, 'topyo': 15162, 'energ': 6104, 'cottonhigh': 4877, 'tshirtmachine': 15348, 'colorsprofess': 4581, 'non': 10575, 'tox': 15199, 'ink': 8227, 'cargo': 3920, 'pant': 11137, 'coveral': 4918, 'sleep': 13689, 'picot': 11428, 'feety': 6476, 'polyestermachin': 11681, 'coldmad': 4501, 'toddlergirl': 15110, 'wish': 16208, 'spel': 14003, 'fight': 6531, 'lego': 9025, 'ninjago': 10484, 'charco': 4090, 'conqu': 4712, 'aw': 2628, 'arch': 2448, 'kang': 8637, '80': 1605, '20': 551, 'outlin': 10987, 'saf': 12984, 'penguin': 11301, 'laid': 8870, 'phrase': 11405, 'skateboard': 13625, 'them': 14938, 'hollywood': 7855, 'suprem': 14545, 'easygo': 5907, 'careto': 3919, 'welt': 16054, '188': 445, 'sprite': 14095, 'frog': 6934, 'coziest': 4938, 'preppy': 11841, 'auth': 2599, 'sea': 13224, 'break': 3540, 'surfac': 14549, 'coolest': 4811, 'tuck': 15363, 'scallop': 13117, 'chimp': 4169, 'understand': 15521, 'chillin': 4168, 'topstitch': 15160, 'sim': 13568, 'anch': 2294, 'mash': 9608, 'childr': 4162, 'gent': 7116, 'king': 8733, 'lambswool': 8878, 'bicyc': 3025, 'al': 2171, 'shirtth': 13447, 'sibl': 13517, '60': 1371, '40': 1098, 'jak': 8430, 'neverland': 10406, 'pir': 11480, 'swashbuckl': 14594, 'dos': 5689, 'meant': 9700, 'designth': 5414, 'screenprint': 13198, 'compass': 4641, 'rucksack': 12934, '50': 1246, 'pron': 12207, 'slant': 13680, '185': 438, '31': 943, '79': 1585, 'poly': 11664, 'woodland': 16256, 'lock': 9258, 'standard': 14148, 'spruces': 14103, 'strut': 14406, 'stuff': 14415, 'sturdy': 14419, '4x4': 1243, 'babydol': 2667, 'gen': 7105, 'crest': 4990, 'athl': 2548, 'dept': 5353, 'sooth': 13907, 'tig': 15061, 'greet': 7406, 'proclaim': 12177, 'sidekick': 13522, 'brim': 3600, 'energy': 6106, 'moth': 10083, 'comfty': 4614, 'bunny': 3720, 'broth': 3633, 'hospit': 7929, 'sent': 13292, 'mail': 9483, 'mon': 10005, 'trail': 15216, 'stell': 14207, 'flashy': 6624, 'level': 9098, 'follow': 6747, 'mav': 9645, 'instead': 8266, 'joy': 8580, 'froggy': 6935, 'upset': 15634, 'welcom': 16049, 'atp1449': 2560, 'sneak': 13812, 'sail': 13013, 'naut': 10277, 'dolm': 5671, 'upgrad': 15623, 'striping': 14375, 'ral': 12425, 'mayhem': 9657, 'roar': 12840, 'competit': 4648, 'screened': 13196, 'train': 15218, 'locomot': 9263, 'story': 14278, 'funny': 6997, 'flex': 6648, 'rex': 12753, 'sign': 13536, 'indo': 8173, 'aboard': 1832, 'illust': 8080, 'steam': 14191, 'choo': 4199, 'bounty': 3451, 'kick': 8709, 'rout': 12918, '66': 1435, 'snowm': 13825, 'unrestrict': 15581, 'troubl': 15326, 'motocross': 10091, 'slid': 13718, 'dr': 5713, 'seuss': 13336, 'distress': 5625, 'fish': 6578, 'aweso': 2634, 'sev': 13337, 'moto': 10090, 'zero': 16453, 'mason': 9610, 'jar': 8440, 'lunch': 9370, 'uncanny': 15495, 'abl': 1829, 'applesauc': 2406, 'clear': 4324, 'rid': 12782, 'withstand': 16219, 'swiss': 14641, 'excel': 6277, 'whooooo': 16113, 'smartest': 13766, 'felt': 6484, 'soar': 13845, 'halloween': 7565, 'costum': 4863, 'twin': 15417, 'indigo': 8169, 'upc': 15614, '802935158968': 1611, 'anytim': 2380, 'sometim': 13895, 'peopl': 11310, 'third': 14994, 'grad': 7347, 'four': 6819, 'salut': 13033, 'frol': 6936, 'twilight': 15416, 'applejack': 2405, 'toddlerfashionista': 15109, 'icon': 8048, 'origin': 10931, 'exclud': 6284, 'dri': 5762, 'problem': 12170, 'wool': 16260, 'dimpl': 5542, 'encirc': 6082, 'crown': 5034, 'quilt': 12365, 'midsect': 9867, 'job': 8547, 'pup': 12292, 'hero': 7772, 'forc': 6769, 'jet': 8515, 'brav': 3518, 'astronaut': 2543, 'bark': 2787, 'fut': 7018, 'wildc': 16132, 'academy': 1867, 'enzym': 6151, 'surf': 14548, 'shown': 13488, 'surfboard': 14554, 'sci': 13165, 'fi': 6509, 'walk': 15919, 'troop': 15322, 'maj': 9494, 'disney': 5605, 'mermaid': 9780, 'reach': 12485, 'cartoon': 3948, 'ordin': 10920, 'squash': 14115, 'tout': 15190, 'pumpkin': 12281, 'leagu': 8979, 'needl': 10368, 'ash': 2511, '99': 1791, '90': 1734, 'kia4808176': 8707, 'seasid': 13241, 'candy': 3861, 'riley': 12791, 'theeleph': 14934, 'sit': 13603, 'chip': 4179, 'tangerin': 14730, 'triceratop': 15286, 'outgo': 10983, 'conscy': 4715, 'par': 11159, 'freedom': 6860, 'ret': 12714, '176': 423, '62': 1403, '89': 1697, 'warn': 15942, 'downright': 5705, 'hangry': 7610, 'food': 6753, 'resembl': 12669, 'mou': 10098, 'grumpy': 7460, 'hungry': 7989, 'starlet': 14163, 'snapsuit': 13809, 'hil': 7807, 'laur': 8944, 'dar': 5198, 'bluebird': 3263, 'zutano': 16496, 'boat': 3297, 'absorb': 1856, 'foot': 6760, 'chug': 4229, 'thoma': 15006, 'imagin': 8084, 'fir': 6566, 'terr': 14886, 'giggl': 7182, 'namet': 10239, 'toothy': 15148, 'grin': 7426, '39s': 1060, '39t': 1061, '85': 1652, '15': 357, 'varieg': 15718, 'enthusiast': 6139, 'fascin': 6415, 'tyrannosaur': 15437, 'playwear': 11549, 'castl': 3968, 'melt': 9747, 'toss': 15175, 'cutesy': 5132, 'caus': 3993, 'duo': 5832, 'cur': 5106, 'synthet': 14662, 'vroom': 15879, 'horizont': 7919, 'hexagon': 7784, 'funnel': 6996, 'extra': 6322, 'trib': 15282, 'musc': 10179, 'drum': 5792, 'lightn': 9144, 'bolt': 3331, 'herit': 7770, 'cottoninterlock': 4878, 'coupl': 4909, 'quit': 12373, 'dirt': 5556, 'dump': 5827, 'trendset': 15275, 'weigh': 16036, 'slow': 13744, 'bind': 3043, 'speak': 13970, 'preh': 11831, 'fetch': 6502, 'mommy': 10002, 'wilt': 16142, 'grab': 7343, 'apprecy': 2423, 'instruct': 8269, '1928': 476, 'mickey': 9835, 'mous': 10104, 'mvp': 10194, 'west': 16061, 'vil': 15818, 'bodyguard': 3312, 'whimsy': 16087, 'zon': 16483, 'cran': 4959, 'bump': 3713, 'tread': 15255, 'intars': 8275, 'toughkin': 15185, 'dap': 5196, 'revv': 12747, 'chief': 4156, 'badg': 2720, 'bumbleb': 3711, 'rockin': 12857, 'roadst': 12838, 'sarasot': 13065, 'springs': 14086, 'sist': 13601, 'infin': 8197, 'bracelet': 3492, 'fear': 6442, 'prob': 12168, 'hypoallerg': 8030, 'cleans': 4316, 'wat': 15975, 'alo': 2217, 'thousand': 15012, 'descriptionpamp': 5384, 'softc': 13859, 'wip': 16177, 'washclo': 15958, 'contain': 4736, 'vitamin': 15849, 'powd': 11788, 'scent': 13132, 'huggy': 7977, 'refil': 12558, 'thorough': 15009, 'pamp': 11122, 'thickc': 14973, 'stronger': 14392, 'refresh': 12572, 'scenthypoallergenicpamp': 13135, '2x': 906, 'competitorlot': 4649, 'alcohol': 2182, '360': 1023, 'bathlik': 2828, 'cleanthick': 4322, 'cleanhypoallergenicalcohol': 4302, 'freealo': 6851, 'nobattery': 10561, 'batterymodel': 2836, '31816shipping': 955, 'pound': 11777, '4product': 1234, '88sku': 1691, 'wm19802297': 16233, 'specificationssku': 13985, 'absb001nyynuaproduct': 1847, 'sensit': 13290, 'clin': 4345, 'prov': 12238, 'mild': 9882, 'perfum': 11330, 'reserv': 12670, 'limit': 9165, 'quant': 12340, 'per': 11318, 'guestpack': 7487, '384number': 1045, '384for': 1044, 'bodyheal': 3313, 'concern': 4677, 'absb001nyynua': 1846, 'messesmaintain': 9790, 'healthy': 7714, 'skinmo': 13648, 'butteralcohol': 3751, 'scentrefil': 13137, 'tub': 15353, 'ten': 14870, 'ethanol': 6221, '11': 204, 'pk': 11499, '70': 1483, '770': 1560, 'dermatolog': 5360, 'parab': 11160, 'trust': 15340, 'repl': 12648, 'dispos': 5617, 'reus': 12731, 'clutch': 4404, 'dispens': 5609, 'org': 10924, 'apricot': 2431, 'oil': 10821, 'chamomil': 4071, 'lindenclin': 9174, 'sls': 13748, 'preserv': 11848, 'chlorine': 4190, 'biodegrad': 3049, 'epamp': 6156, 'hypoallergenicpleas': 8033, 'scentthousand': 13141, 'cleansoftc': 4319, '768': 1556, 'tubclin': 15355, 'osocozy': 10951, '9x9': 1812, '98': 1786, 'count': 4896, 'lionheart': 9206, 'skinprovid': 13655, 'ealcohol': 5874, 'formul': 6795, 'irrit': 8353, 'babyfragr': 2669, 'guest': 7486, '384': 1042, 'heal': 7708, 'bleach': 3217, 'munchkin': 10170, 'glow': 7245, 'system': 14665, 'nighttim': 10469, 'flip': 6656, 'lid': 9116, 'antibact': 2361, 'kil': 8722, 'germ': 7143, 'bacter': 2713, 'desk': 5420, 'purs': 12308, 'briefcas': 3594, 'gym': 7523, 'bag': 2721, 'backpack': 2695, 'wet': 16064, 'bact': 2712, 'towelet': 15195, 'adib000gcolzw': 2030, '56': 1305, 'ct': 5055, '336': 987, '346': 1000, 'flush': 6712, 'lift': 9135, 'height': 7742, 'eey': 5961, 'pigletf': 11443, 'piglet': 11442, 'travel': 15248, 'accid': 1884, 'softgrip': 13865, 'vers': 15774, 'sal': 13017, 'canad': 3855, '448': 1153, 'groin': 7439, 'are': 2454, 'unsc': 15587, 'cellulos': 4027, 'cleanup': 4323, 'mealtim': 9696, 'burt': 3737, 'bee': 2909, 'smooth': 13789, 'pedy': 11275, 'process': 12174, 'nurt': 10717, '72': 1507, 'calm': 3828, 'tabl': 14685, 'direct': 5555, 'trash': 15245, 'receptac': 12510, 'ingredy': 8219, 'eau': 5918, 'barbadens': 2775, 'leaf': 8977, 'juic': 8590, 'glycerin': 7252, 'glycin': 7253, 'soj': 13877, 'soyb': 13940, 'benzyl': 2971, 'caprylyl': 3893, 'capryl': 3891, 'glucosid': 7249, 'cit': 4259, 'acid': 1902, 'polyglyceryl': 11694, 'capr': 3890, 'potass': 11764, 'sorb': 13912, 'sod': 13854, 'benzo': 2969, 'tocopherol': 15104, 'xanth': 16338, 'gum': 7502, 'phenoxyethanol': 11384, 'avoid': 2625, 'dang': 5189, 'suffoc': 14483, 'plast': 11527, 'bed': 2899, 'playp': 11543, 'contact': 4734, 'pac': 11053, 'teeth': 14848, 'ham': 7571, 'bottl': 3383, 'cup': 5093, 'chem': 4126, 'nursery': 10713, 'elimin': 6014, 'unisex': 15548, 'pail': 11094, 'od': 10795, 'bay': 2841, 'bio': 3047, 'punkin': 12289, 'but': 3750, 'comprom': 4668, 'wast': 15974, 'discard': 5566, 'soil': 13874, 'toilet': 15120, 'within': 16216, 'sew': 13341, 'sept': 13300, 'viscos': 15843, 'fib': 6510, 'der': 5354, 'sourc': 13931, 'cushiony': 5122, 'cleantext': 4321, 'messalcohol': 9786, 'freerefreshingcucumb': 6881, 'teaget': 14815, 'onespec': 10857, '33083shipping': 984, '25product': 810, '88': 1671, 'wm19802299': 16234, 'discol': 5572, 'ac': 1865, 'adapt': 1926, 'depot': 5351, 'oint': 10826, 'config': 4696, 'six': 13607, 'setup': 13333, 'accommod': 1886, 'unbleach': 15492, 'detailsumbl': 5453, 'cord': 4825, 'notch': 10621, 'backsheet': 2698, 'overlap': 11019, 'descriptions': 5386, 'unit': 15554, '240': 756, 'blanky': 3212, 'inact': 8115, 'spend': 14004, 'rath': 12458, 'navel': 10281, 'areasku': 2456, 'adib0019qb1p2': 2037, 'ningredy': 10482, 'dimethicon': 5540, 'propyl': 12221, 'glycol': 7254, 'ver': 15763, 'gel': 7096, 'vinyl': 15825, 'isodecano': 8366, 'crosspolym': 5027, 'phosph': 11395, 'sorbit': 13913, 'methylparab': 9811, 'disod': 5606, 'edt': 5956, 'ethylparab': 6228, 'propylparab': 12222, 'bisabolol': 3065, 'triglycerid': 15295, 'extract': 6323, 'hygy': 8023, 'aim': 2147, 'weeblock': 16027, 'ply': 11571, 'lie': 9119, 'secret': 13257, 'weapon': 16006, 'wee': 16026, 'spong': 14051, 'utilit': 15675, 'ye': 16383, 'sanit': 13056, '75': 1528, '270': 832, 'can': 3854, 'carton': 3945, 'knickernappy': 8782, '555283203643': 1300, 'intend': 8278, 'wipes': 16185, '64ct': 1425, 'plan': 11520, 'daip': 5176, 'toughest': 15184, 'pizz': 11493, 'din': 5543, 'freefragr': 6864, 'freesoft': 6883, 'cleanspec': 4320, 'specificationsmult': 13982, 'batterym': 2835, 'informationmodel': 8207, '31811shipping': 954, '75x4': 1545, '38x5': 1050, '5assembled': 1330, 'usaorigin': 15650, 'compon': 4659, 'importedbr': 8101, 'tata19802289': 14763, 'cleanalo': 4298, 'ehypoallergenicalcohol': 5979, 'packsspec': 11081, '33084shipping': 985, '1product': 537, '88x6': 1693, '88x3': 1692, '88assembled': 1686, 'tata19802295': 14766, 'boog': 3345, '120': 246, 'salin': 13023, 'dissolv': 5618, 'muc': 10144, 'nos': 10613, 'tissu': 15089, 'phthalate': 11408, '30': 914, 'emit': 6065, 'end': 6091, 'harsh': 7649, 'phthalates': 11409, 'manufact': 9539, 'facil': 6374, 'nut': 10720, 'glut': 7250, 'whe': 16073, 'crawl': 4965, 'search': 13239, 'df81051': 5479, 'messiest': 9794, 'hydr': 8006, 'nour': 10627, 'wipesgentl': 16192, 'plant': 11524, 'allerg': 2204, 'sulf': 14488, 'neono': 10386, 'support': 14542, 'purplef': 12303, 'runny': 12951, 'meas': 9702, '5in': 1341, '3in': 1071, 'wev': 16067, 'sweaty': 14617, 'workout': 16269, 'messy': 9797, 'inform': 8205, 'complaint': 4653, 'plz': 11572, 'email': 6035, 'edealszon': 5943, 'messeskeep': 9789, 'longcontemp': 9279, 'comp': 4632, 'premo': 11834, 'alocohol': 2218, 'pak': 11106, 'res': 12665, 'stick': 14240, 'odorsth': 10799, 'monthtripl': 10049, 'barry': 2799, 'outgrow': 10984, 'port': 11743, 'handb': 7575, 'eco': 5926, 'techn': 14831, 'detailsitem': 5443, 'ouncesproduc': 10967, 'inchesorigin': 8128, 'importedupc': 8104, '855749004044material': 1657, 'bpa': 3478, 'latex': 8928, 'freestyl': 6886, 'unisexproduc': 15553, 'descriptioncol': 5371, 'turtl': 15388, 'wipebox': 16178, 'ber': 2972, 'recyc': 12536, 'grandmoth': 7364, 'adib009vkb3pg': 2056, 'soap': 13843, 'stickiest': 14241, 'germy': 7149, 'benzethon': 2968, 'chloride': 4189, 'citr': 4260, 'carethick': 3918, 'inchesalcohol': 8122, 'freenow': 6877, 'cucumb': 5063, 'triplec': 15309, '496': 1207, 'cert': 4040, 'frust': 6967, 'descriptionget': 5381, 'heightsku': 7743, 'adib001uhnhiy': 2039, 'unlik': 15560, 'guarantee': 7473, 'cam': 3834, 'goodby': 7314, 'wad': 15892, 'cush': 5121, 'glant': 7214, 'freen': 6875, 'carealo': 3913, 'esensitivequilt': 6193, 'gentlesupremethickest': 7121, 'wipescentedn': 16189, 'esoft': 6196, 'cleansn': 4318, 'refreshingba': 12573, 'freshnesssku': 6909, 'adib0018c81sw': 2036, 'bot': 3380, 'talk': 14719, 'kept': 8677, 'rely': 12617, '1x': 542, 'newest': 10412, 'theyr': 14968, 'promot': 12206, 'packages7': 11063, 'skinshe': 13657, 'butterspec': 3755, '34332shipping': 998, '45product': 1178, '5x6': 1367, 'tata19802292': 14765, 'hypo': 8029, 'waterwip': 15991, 'purest': 12299, 'bir': 3057, 'composit': 4661, 'droplet': 5782, 'fruit': 6966, 'whatsoev': 16072, 'market': 9570, 'technolog': 14838, 'unrival': 15582, 'conv': 4765, 'shampoo': 13359, 'etc': 6216, 'skinc': 13642, 'week': 16028, 'healthc': 7712, 'profess': 12188, 'eight': 5981, 'vehic': 15739, 'thickerget': 14974, '16790shipping': 396, '55product': 1304, '38': 1039, '5sku': 1353, 'wm19802296': 16232, 'condit': 4685, 'clothsgentl': 4388, 'cleansingprotect': 4317, 'conditioningcontain': 4687, 'lansinoh': 8898, 'lanolinworld': 8897, 'lanolinlansinoh': 8896, 'breastf': 3551, 'oft': 10813, 'mintmanufact': 9921, 'descriptionth': 5388, 'elect': 6000, 'retain': 12716, 'capac': 3877, 'mold': 9994, 'ep': 6154, 'approv': 2426, 'microb': 9837, 'inhibit': 8222, 'microorg': 9848, 'unplug': 15576, 'compact': 4634, 'nick': 10456, 'jr': 8583, 'unop': 15571, 'moistthick': 9990, 'messesprovid': 9791, 'babypack': 2677, 'thickest': 14975, 'messfragr': 9793, 'freespec': 6884, '16293': 392, '04shipping': 80, '56x8': 1309, '88x9': 1696, '63assembled': 1412, 'usabr': 15644, 'tata16563095': 14761, '77': 1559, 'innov': 8239, 'ez': 6346, 'friendlykidsgentl': 6921, 'wipeswi': 16201, 'sticky': 14242, 'startl': 14170, 'poor': 11722, 'micro': 9836, 'mildew': 9883, 'auto': 2602, 'shut': 13509, 'window': 16149, 'ass': 2523, 'unexpect': 15538, 'volt': 15867, 'enforc': 6108, 'charg': 4092, 'expend': 6302, 'pillow': 11446, 'purchas': 12297, 'rash': 12451, 'ount': 10968, 'johnson': 8558, 'emol': 6070, 'creamy': 4976, 'unmistak': 15565, 'allergy': 2207, 'fitpamp': 6595, 'brandfavorit': 3507, 'sesam': 13314, 'street': 14328, 'diaperultr': 5509, 'leak': 8980, 'skinthick': 13659, 'easiersingl': 5896, 'tubsens': 15359, 'wipeeasy': 16179, 'cost': 4862, 'insert': 8251, 'dsq': 5805, 'prefold': 11829, 'subject': 14444, '25': 783, 'x4': 16333, 'virgin': 15832, 'lanolin': 8895, 'repel': 12646, 'benefit': 2958, 'antimicrob': 2365, 'laund': 8941, 'extrem': 6328, 'kushy': 8835, 'bin': 3042, 'wood': 16253, '4in': 1224, '13in': 317, 'recommend': 12524, 'stroller': 14387, '64': 1415, 'packs7': 11076, 'occasionshypoallergenicfragr': 10781, '34041shipping': 995, '2product': 903, '75x7': 1546, '94x9': 1764, '0assembled': 119, 'tata19802298': 14767, 'descriptiontravel': 5389, 'optim': 10908, 'adib001xr06rq': 2040, 'stock': 14259, 'expedit': 6301, '400ct': 1101, 'babyg': 2670, '40ct': 1107, 'retriev': 12727, 'transport': 15240, '500': 1247, 'messesun': 9792, 'cleaningfragr': 4306, 'erefil': 6177, 'trendseasy': 15274, 'dispensingalcohol': 5610, 'freeimprov': 6868, 'messrefresh': 9796, 'scentthick': 13140, 'softy': 13872, 'packsf': 11078, 'trendsbest': 15273, 'scentres': 13138, 'delux': 5319, 'common': 4626, 'fil': 6532, 'grap': 7368, 'menthol': 9763, 'stuffy': 14416, 'altern': 2238, 'shutoff': 13510, 'lb': 8963, 'autom': 2606, '25hx5wx10l': 803, 'wipegentl': 16180, '34': 994, 'learn': 8985, 'dryunderwear': 5802, 'underweareasy': 15528, 'potty': 11769, 'packagingprotect': 11065, 'cleaninglearn': 4308, 'harm': 7640, 'react': 12486, 'toyshigh': 15203, 'chairssw': 4060, 'ingredientsno': 8218, 'chemicalsno': 4127, 'petrolatumparab': 11367, 'freealcohol': 6850, 'free30': 6848, '14x6': 356, '10x15cm': 202, '800': 1606, '704': 1490, '8697no': 1663, 'looney': 9299, 'clasp': 4283, 'upandup': 15611, 'sustain': 14573, 'minim': 9913, 'environ': 6148, 'recapt': 12507, 'resourc': 12688, 'strength': 14332, 'reg': 12579, 'trademark': 15212, 'lenz': 9085, 'incorp': 8153, 'chamomill': 4073, 'recutit': 12535, 'matricar': 9636, 'cocoamphodiacet': 4478, 'polysorb': 11702, 'ethyl': 6226, 'brassyl': 3515, 'phenoyethanol': 11385, 'satisfact': 13082, 'money': 10010, '92': 1750, '460': 1181, 'consum': 4731, 'scor': 13177, 'solo': 13887, 'hing': 7816, 'bathroom': 2829, '432': 1138, 'ul': 15459, 'sprout': 14098, 'sprayer': 14072, 'willow': 16139, 'held': 7746, 'rins': 12805, 'spray': 14070, 'switch': 14642, 'control': 4760, 'spraying': 14073, 'hook': 7910, 'hos': 7928, '55': 1293, 'introduc': 8309, 'brass': 3512, 'glid': 7225, 'seven': 13338, 'greenproduc': 7404, 'description3': 5368, 'difficult': 5526, 'detailswip': 5455, 'chamb': 4066, 'pvc': 12317, 'inchesitem': 8127, '302awards': 925, 'notarget': 10620, 'unisexnumb': 15552, '1batteries': 516, 'noproduc': 10598, 'description302': 5369, 'dual': 5811, 'hatch': 7658, 'assembl': 2525, 'warranty': 15945, 'adib004kbsp48': 2043, 'ph': 11375, 'earn': 5884, 'reward': 12748, '4x': 1242, 'subbrand': 14441, 'oz': 11042, 'apply': 2418, 'greasy': 7396, 'fl': 6607, 'wipeshypoallergenicalcohol': 16194, 'freec': 6856, 'lean': 8983, '320': 966, 'buttermo': 3754, 'ingredientseq': 8217, 'refillsspec': 12562, '18981shipping': 450, '15product': 381, 'usasku': 15654, 'wm16213320': 16227, 'packsfragr': 11079, 'scenteddispens': 13134, 'dispensinghuggy': 5611, 'occasionsfragr': 10780, '31886shipping': 958, 'tata19802300': 14769, 'compart': 4640, 'magnet': 9476, 'pocketsintery': 11614, 'stash': 14173, 'itemsremov': 8387, 'pouchchang': 11771, 'pocketins': 11586, 'sidelarg': 13523, 'lab': 8847, 'microbiolog': 9838, 'howev': 7952, '504': 1251, 'luv': 9381, 'pillowy': 11448, 'whites': 16102, 'sizef': 13614, 'lifetim': 9133, 'guaranteeinclud': 7476, 'adaptermad': 1927, 'gunk': 7509, 'emerg': 6056, 'nuroo': 10710, 'babywear': 2679, 'mobl': 9970, 'remark': 12620, 'uninterrupt': 15545, 'accel': 1871, 'brain': 3503, 'develop': 5464, 'reduc': 12549, 'cry': 5048, 'improv': 8110, 'increas': 8156, 'immun': 8091, 'spee': 13995, 'recovery': 12528, 'risk': 12817, 'postpart': 11762, 'depress': 5352, 'breastfee': 3552, 'milk': 9887, 'expert': 6304, 'poss': 11759, 'nuroobaby': 10711, 'hemp': 7758, 'sav': 13094, 'throwing': 15034, 'gain': 7032, '231': 743, 'tata19802299': 14768, 'etripl': 6231, 'messeasy': 9787, '32198shipping': 971, 'wm19802293': 16230, '342': 996, '42': 1122, '140': 327, 'retentioncontain': 12718, 'eflush': 5970, 'safeport': 12996, 'anyw': 2381, 'biggest': 3029, 'scrapes': 13186, 'burn': 3729, 'reliev': 12612, 'chap': 4083, 'rebuild': 12504, 'renew': 12638, 'compost': 4662, 'twelv': 15408, '13': 298, 'mucky': 10147, 'sof': 13855, 'carrot': 3941, 'fee': 6461, 'indispens': 8170, 'dai': 5174, 'routin': 12919, 'magicupc': 9472, '845514000029always': 1646, 'pool': 11720, 'picky': 11426, 'attack': 2564, 'germin': 7147, 'sud': 14477, 'kiss': 8743, 'mustel': 10191, 'scentth': 13139, 'cottonel': 4874, 'kimb': 8724, 'clark': 4280, 'kimtech': 8728, '06211': 89, 'disinfect': 5601, 'andsanit': 2311, 'aredesign': 2457, 'wettask': 16066, 'bucket': 3680, 'enclos': 6083, 'contamin': 4741, 'cleaningsolv': 4311, 'vap': 15716, 'splashes': 14035, 'prepwip': 11842, 'compat': 4642, 'quatern': 12345, 'amin': 2271, 'ex': 6270, '256': 792, 'gentlest': 7120, 'grapefruit': 7369, 'eczem': 5939, 'assocy': 2534, 'award': 2631, 'acceiv': 1870, 'aromatherapy': 2480, 'purpos': 12306, 'deod': 5343, '1x1': 543, 'encas': 6079, 'kleenex': 8769, 'reclos': 12521, 'detailspack': 5449, 'dispensingproduc': 5613, 'descriptionhuggy': 5382, 'adib005ibphtu': 2045, 'pre': 11812, '12312': 262, 'abc': 1828, 'runcontain': 12950, 'hypoallergenic': 8031, 'wipesupc': 16200, '816167010406always': 1627, 'jj': 8535, 'pod': 11638, 'necess': 10328, 'lamin': 8880, 'canva': 3871, 'handlepvc': 7588, 'guaranteejs': 7477, 'thi': 14970, 'defect': 5293, 'restrict': 12703, 'warmerperfect': 15936, 'spoil': 14049, 'laure': 8945, 'tetrasod': 14904, 'dmdm': 5645, 'hydantoin': 8005, 'tocopheryl': 15105, 'parf': 11171, 'sierr': 13529, 'ridg': 12784, 'walnut': 15923, 'woodgrain': 16255, 'connect': 4708, 'discov': 5582, 'involv': 8326, 'habit': 7542, 'middl': 9859, 'bedwet': 2907, 'you': 16414, 'discreet': 5584, 'quiet': 12362, 'superabsorb': 14518, 'tear': 14820, '192': 473, '14': 326, 'deephigh': 5287, 'fabricmad': 6363, '600': 1372, 'deny': 5342, 'extery': 6320, 'paddedgr': 11084, '1989': 497, 'immedy': 8089, 'guaranteedbest': 7475, 'idea': 8054, 'nas': 10257, 'burp': 3732, 'waterproof': 15988, 'tpu': 15205, 'film': 6540, 'mattress': 9642, 'spil': 14022, '21': 704, 'deterg': 5457, 'aid': 2141, 'chaff': 4049, '12pk': 295, 'homemad': 7870, 'repres': 12655, 'prevail': 11866, 'naty': 10274, 'oppos': 10904, 'petrolat': 11366, 'aloeeach': 2220, 'freehypo': 6865, 'gpant': 7340, 'gdiap': 7088, 'laundry': 8943, 'cradl': 4952, 'ecolog': 5929, 'intellig': 8277, 'ded': 5282, 'glob': 7237, '616': 1396, 'pstronggrovia': 12254, '12ct': 284, 'ppo': 11798, '648': 1420, 'fewest': 6507, 'result': 12705, '2pktwo': 902, 'containersalcohol': 4739, 'freehypoallergenicmo': 6867, 'freshnessview': 6910, 'wipeshuggy': 16193, 'rewardsp': 12750, 'redeem': 12539, 'sweepstak': 14621, 'priz': 12166, 'bottomtoday': 3437, 'struggle': 14404, 'systemal': 14666, 'snugfit': 13837, 'boxhuggy': 3470, 'popup': 11733, 'productshuggy': 12185, 'situ': 13604, 'decathlon': 5263, 'lbs': 8964, '36': 1022, '125': 266, 'huggiesp': 7976, 'naturalorg': 10271, 'ahuggiesp': 2139, 'ahuggy': 2140, 'moversregul': 10114, 'jeansdiap': 8466, 'babygoodnitesf': 2671, 'boyskeep': 3476, 'bedwettinghuggieslittl': 2908, 'snugglersgentl': 13840, 'babyhuggieslittl': 2672, 'babyhuggy': 2673, 'moversslip': 10115, 'onsgot': 10870, 'squirmy': 14120, 'kandoo': 8635, 'push': 12312, 'boudreaux': 3443, 'pharmac': 11378, 'respect': 12690, 'spreads': 14079, 'simplest': 13578, 'mi': 9826, 'snuggl': 13839, 'transit': 15234, 'dermatit': 5358, 'sery': 13313, 'pain': 11096, 'uncomfort': 15499, 'ouchy': 10963, 'affect': 2097, 'skinfix': 13643, 'balm': 2745, 'chronic': 4221, 'colloid': 4551, 'oatm': 10757, 'study': 14414, '82': 1630, 'agree': 2132, 'steroid': 14231, 'soy': 13939, '224': 733, 'teakeep': 14816, 'freshpop': 6911, 'dispensingrefil': 5614, 'wipesbox': 16188, 'wipes448': 16186, 'tubsspec': 15361, 'br': 3484, 'tata12024985': 14760, 'wm19802295': 16231, 'skinpamp': 13654, 'resist': 12679, 'stain': 14137, 'wring': 16300, 'drydry': 5797, 'lint': 9203, 'streak': 14318, 'microfib': 9844, 'dish': 5594, 'countertop': 4899, 'etcth': 6218, 'exfo': 6291, 'char': 4088, 'banan': 2752, 'consid': 4719, 'fev': 6505, '10pk': 198, 'area': 2455, 'empow': 6074, 'independ': 8163, 'kandookid': 8636, 'nehemiah': 10375, 'websit': 16021, 'nehemiahmfg': 10376, 'onestm': 10858, '864': 1662, 'countproduc': 4904, 'desitin': 5419, 'diapersleak': 5505, 'diapersumbl': 5507, 'diapersinclud': 5504, 'diapers64': 5501, 'pastespec': 11205, 'yesbattery': 16392, '31819shipping': 957, '7product': 1598, 'importedsku': 8103, 'wm17804195': 16229, 'tenderc': 14873, 'household': 7945, 'scrubbing': 13213, '28': 847, 'extend': 6316, '63': 1409, 'spunlac': 14106, 'paty': 11228, 'packaging80': 11064, 'packmanuf': 11072, 'suppliermedlinemanuf': 14540, 'msc263153specifications': 10139, 'specificationsvalueshp': 13986, 'classification694': 4288, '0latex': 123, 'freeyesunspsc': 6897, 'code53131624packaging': 4482, 'measureconversionnet': 9703, 'gross': 7446, 'cub': 5061, 'ft': 6971, 'hgtineach': 7788, 'ea': 5868, 'each0': 5869, '00500': 16, '7030': 1488, '010884389107157box': 31, 'bx': 3772, '6060': 1378, '0338': 61, '7530884389107151pack': 1532, '7510884389107157': 1531, '884389107150case': 1675, 'cs': 5054, '1920': 474, '00': 0, '70313': 1489, '540884389107158hcpcs': 1285, 'hcpcs': 7683, 'specificationshcpc': 13980, 'disclaim': 5569, 'consolid': 4722, 'medlin': 9727, 'guidelin': 7492, 'reimburs': 12594, 'address': 2019, 'issu': 8374, 'correct': 4847, 'pay': 11233, 'respons': 12693, 'claim': 4271, 'submit': 14448, 'po': 11577, 'delivery': 5317, 'ref': 12556, 'msc263153h': 10138, 'af': 2095, 'aa': 1821, 'ae': 2088, 'inevit': 8185, 'bak': 2734, '216': 714, 'crem': 4984, 'softspun': 13869, 'rashguard': 12452, 'almond': 2215, 'calendul': 3818, 'kirkland': 8742, 'resourcesexceiv': 12689, 'strongfragrance': 14394, 'freehypoallerg': 6866, 'packf': 11069, 'stuck': 14410, 'casu': 3970, 'glacy': 7208, 'thought': 15011, 'research': 12668, 'babyy': 2680, 'hydrop': 8012, 'few': 6506, 'imp': 8093, 'subst': 14464, 'stressing': 14343, 'rat': 12455, 'chart': 4101, 'what': 16069, 'blink': 3233, '30ct': 933, 'debr': 5257, 'crust': 5046, 'eyelid': 6337, 'eyelashesjust': 6335, 'hardw': 7633, 'swishstick': 14640, 'stir': 14254, 'bowl': 3461, 'fix': 6603, 'both': 3381, 'rubdown': 12929, 'annoy': 2345, 'law': 8953, '810': 1624, 'press': 11854, 'lidtripl': 9118, 'tearingextr': 14823, 'cottony': 4891, 'cleaninggr': 4307, 'kidssimply': 8717, 'multipl': 10161, 'thu': 15038, '3pk': 1087, 'minny': 9917, 'club': 4397, 'geny': 7125, 'cleandesign': 4300, 'ageswrap': 2124, '180': 432, 'diapersf': 5502, 'twistaway': 15423, 'solubl': 13888, 'oat': 10756, 'request': 12662, 'teach': 14813, 'attribut': 2571, '48sku': 1205, 'kmp48': 8775, 'uu414': 15681, 'neatcheek': 10326, 'dread': 5743, 'stev': 14233, 'gmo': 7259, 'rip': 12806, 'juicy': 8591, 'icky': 8046, 'residu': 12677, 'countf': 4900, 'spiffiessaf': 14017, 'fluorid': 6708, 'xylitol': 16369, 'clint': 4348, 'toothbrushingn': 15147, 'cavitiesindivid': 3999, 'everytim': 6259, 'pref': 11823, 'spiffy': 14018, 'toothbrush': 15146, 'pastemad': 11204, '84': 1643, 'swaddleb': 14585, 'demand': 5322, 'replac': 12649, 'unsnap': 15591, 'commit': 4625, 'oeko': 10801, 'tex': 14906, '300': 915, 'pep': 11311, '26': 814, 'faceth': 6372, 'grov': 7453, 'warmerultr': 15937, 'terry12': 14892, 'softmo': 13867, 'solutionwip': 13889, 'use500': 15657, 'wipesspec': 16198, 'batteryship': 2837, 'tata16565123': 14762, 'jeep25191671': 8489, 'spongefountain': 14052, 'themedmachin': 14939, 'washableus': 15955, '208': 688, 'meg': 9730, 'spacy': 13944, 'key': 8684, 'cel': 4015, 'phon': 11392, 'sippy': 13597, 'web': 16019, 'feet': 6474, 'wholes': 16111, 'discount': 5581, 'cheap': 4107, '184': 436, 'sleek': 13688, 'babylight': 2675, 'set2': 13318, 'washcloth': 15959, 'trukid': 15336, 'chaf': 4048, 'rosace': 12890, 'itch': 8381, 'kidsand': 8715, 'grownup': 7457, 'due': 5818, 'doesnt': 5661, '576': 1314, 'readyba': 12490, 'basin': 2811, 'nurs': 10712, 'staff': 14135, 'allantoin': 2201, 'tamp': 14724, 'evid': 6262, 'berkleygreen': 2978, 'recogn': 12522, '22': 723, '37': 1033, '17kg': 428, 'alonebreak': 2225, 'flushingsaf': 6713, 'systemsalso': 14672, 'tubspack': 15360, 'refillgentl': 12560, 'discovery': 5583, 'em': 6034, 'soft504': 13857, 'diaperswaterproof': 5508, 'cleanadjust': 4297, 'itprotect': 8393, 'wipesfront': 16191, 'credit': 4981, 'vagin': 15696, 'chair': 4059, 'informationluv': 8206, 'pro': 12167, 'tan': 14726, 'biomirac': 3054, 'soo': 13903, 'sunburn': 14501, 'dam': 5184, 'benzophenon': 2970, 'medel': 9718, 'pump': 12280, '87055': 1667, 'absb0018c81sw': 1843, 'momsdesign': 10004, 'diapersguarantee': 5503, 'packageprotect': 11061, 'velcro': 15744, 'closurehand': 4374, 'adib007ho4w74': 2050, 'road': 12835, 'ti': 15047, 'amo': 2275, 'castello': 3967, 'epitom': 6160, 'farmh': 6412, 'seashel': 13240, 'convert': 4770, 'rail': 12409, 'chifferob': 4157, 'guardrail': 7480, 'bedrail': 2903, 'ampl': 2282, 'bracket': 3493, 'continu': 4751, 'dcor': 5237, '16374': 393, '00shipping': 27, '875': 1668, '75sku': 1542, 'wm12024985': 16226, 'conscienty': 4714, 'nearest': 10323, 'en': 6076, 'sights': 13534, 'hikingc': 7806, 'wipeheavy': 16181, 'bathingid': 2827, 'travel8': 15249, 'towel': 15193, 'bib': 3020, 'bungl': 3719, 'shav': 13385, 'bald': 2739, 'grind': 7427, 'golf': 7305, '480': 1196, 'testedparab': 14897, 'freesulf': 6888, 'youshow': 16424, 'lat': 8923, 'baby2': 2663, 'productsapproxim': 12184, 'widepack': 16122, 'lemongrass': 9042, 'ris': 12813, 'fitcert': 6585, 'innersoft': 8235, 'tpuno': 15206, 'ah': 2135, 'goo': 7311, 'thirsty': 14996, 'pli': 11555, 'gusset': 7516, 'proof': 12210, 'chunky': 4232, 'prefer': 11827, 'rot': 12906, 'colorado': 4558, 'birdy': 3061, 'e2': 5864, 'evolv': 6267, 'revolv': 12746, 'belong': 2943, 'econom': 5932, 'swip': 14637, 'transluc': 15236, 'witch': 16215, 'hazel': 7676, 'period': 11334, 'tush': 15391, 'trio': 15306, 'softpack': 13868, 'bumgeni': 3712, 'dirty': 5560, 'method': 9806, 'econob': 5931, 'adib001gcvkaa': 2038, 'receptackl': 12511, 'ultraabsorb': 15465, 'conto': 4752, 'overnight': 11023, 'nightlight': 10466, 'integr': 8276, '168': 397, '45': 1161, 'packet': 11068, 'scentmad': 13136, 'chamomilefr': 4072, 'parabenhypoallerg': 11161, 'adib005mw8ha6': 2046, 'glitz': 7233, 'glory': 7241, 'hor': 7916, 'avert': 2620, 'sprinkling': 14093, 'pee': 11276, 'teep': 14847, 'strings': 14367, 'although': 2239, 'softest': 13862, 'watercontain': 15981, 'phat': 11382, 'aloemad': 2221, 'cleanres': 4315, '80ct': 1618, 'swim': 14632, 'unsanit': 15585, 'embarrass': 6037, 'dov': 5700, 'tip': 15085, 'ask': 2517, 'meal': 9694, 'throw': 15031, 'orangep': 10915, 'fail': 6381, 'fluid': 6704, 'pit': 11483, 'stow': 14285, 'geni': 7114, 'tray': 15253, '700': 1484, '100ct': 148, '700ct': 1487, 'use700': 15658, '35product': 1021, 'wm16565120': 16228, 'dex': 5477, 'carebear': 3914, 'dappl': 5197, 'forumul': 6808, 'sle': 13685, 'detect': 5456, 'diox': 5552, 'fresheningultr': 6906, 'aloealcohol': 2219, 'hypoallergenicavail': 8032, 'handmad': 7589, 'longst': 9286, 'diapersmachin': 5506, 'whitef': 16099, 'handgrab': 7579, 'bagdispens': 2724, 'timetransluc': 15076, 'refillbp': 12559, 'freewh': 6895, '31817shipping': 956, '95product': 1771, '88x8': 1695, '88x7': 1694, '75assembled': 1533, 'tata19802290': 14764, '30in': 934, 'timecotton': 15068, 'headtowel': 7704, 'jerseymachin': 8508, 'wypal': 16323, '35421': 1013, 'x60': 16335, '19': 462, 'lengthwhit': 9080, '130': 299, 'whitereus': 16101, 'pulp': 12277, 'bondedto': 3337, 'polypropyl': 11699, 'resistanceand': 12680, 'equipmentand': 6169, 'removinglubr': 12633, 'adher': 2023, 'greas': 7394, 'thiswip': 15002, 'workshop': 16273, 'resid': 12675, 'commercialand': 4624, 'among': 2277, 'oth': 10957, 'applyingthin': 2420, 'lubr': 9349, 'andsoil': 2312, 'nkimb': 10537, 'indust': 8181, 'andlab': 2302, 'scot': 13178, 'andkleenguard': 2301, '1870': 442, 'headquart': 7701, 'indalla': 8161, 'tx': 15429, 'uh': 15455, 'safar': 12986, 'silicon': 13541, 'nippl': 10494, 'las': 8917, 'prec': 11813, 'liquid': 9223, 'airflex': 2156, 'valv': 15704, 'england': 6114, 'nuk': 10702, 'mim': 9895, 'loc': 9256, 'saliv': 13024, 'digest': 5529, 'orthodont': 10942, 'nipples': 10501, 'latch': 8924, 'stretches': 14350, 'bisphenol': 3069, 'playtex': 11546, 'boil': 3323, 'soapy': 13844, 'dishwash': 5599, 'rack': 12396, 'collaps': 4519, 'monthssoft': 10041, 'nippleswid': 10523, 'neckf': 10334, 'deco': 5272, 'bottlesflow': 3409, 'gas': 7062, 'enco': 6084, 'wor': 16262, 'nutrit': 10724, 'batch': 2821, 'blad': 3203, 'dial': 5491, 'spatul': 13969, 'recip': 12514, 'book': 3346, 'tool': 15144, 'vs': 15880, 'bought': 3444, 'agr': 2131, 'spent': 14005, 'tri': 15279, 'er': 6172, 'reject': 12601, 'fulls': 6981, 'nippleshap': 10513, 'mouth': 10107, 'freecompat': 6858, 'ventair': 15753, 'linersavail': 9183, 'similac': 13570, '10strongbabies': 199, 'systemsprovid': 14673, 'suck': 14472, 'av': 2612, 'nipples2': 10503, 'breastlik': 3566, 'nippleslop': 10518, 'or': 10912, 'tom': 15126, 'simil': 13569, 'mum': 10169, '0m': 125, 'britain': 3610, '1965': 488, 'reput': 12661, 'intuit': 8312, 'rank': 12440, 'prestigy': 11858, 'assess': 2528, 'vot': 15876, '2006': 584, '2008': 593, '2009': 604, 'peac': 11252, 'mam': 9510, '222843': 731, 'transf': 15228, 'los': 9311, 'freez': 6898, 'fridg': 6919, '200ml': 615, 'reass': 12499, 'mayborn': 9655, 'uk': 15457, 'fastest': 6422, 'americ': 2265, 'leaflet': 8978, 'cleaningth': 4312, 'feedingbas': 6464, 'ventil': 15754, 'swallow': 14588, 'burpsremov': 3733, 'tick': 15050, 'teat': 14827, 'philip': 11388, 'freeth': 6890, 'phillip': 11389, 'tummy': 15374, 'phys': 11413, 'spit': 14033, 'vacu': 15690, 'microwav': 9856, 'steril': 14221, 'clearf': 4325, 'nippleslevel': 10517, 'aboveexclud': 1834, 'bottlesdishwash': 3404, 'onlytwo': 10868, 'mediumf': 9724, 'symbol': 14652, 'conform': 4700, 'bluef': 3264, 'transferpattern': 15230, 'graduationsimprov': 7350, 'parentsins': 11170, 'bottletop': 3430, 'safeprotect': 12997, 'bristl': 3608, 'sor': 13911, 'healinglow': 7710, 'profil': 12189, 'clothinghol': 4387, 'healingdesign': 7709, 'excess': 6279, 'breastmilkbp': 3569, 'suckl': 14473, 'whistl': 16096, 'releas': 12609, 'interchang': 8281, 'rememb': 12623, 'rhythm': 12766, 'discomfort': 5574, 'bornfr': 3375, 'flowcol': 6683, 'pluswid': 11570, 'onant': 10853, 'valvebp': 15705, 'stomach': 14262, 'materialsf': 9628, 'olderclin': 10832, 'colicallow': 4506, 'tummyallow': 15375, 'flowhelp': 6692, 'ov': 11001, 'upfo': 15621, 'holesmak': 7850, '1m': 531, 'spout': 14068, 'born': 3374, 'aggress': 2126, '25mm': 806, 'flangehelp': 6616, 'stim': 14249, 'reflexmim': 12569, 'mouthbp': 10108, 'dehp': 5306, 'freeamed': 6852, '17211': 416, 'packs': 11075, 'flowf': 6691, 'flavorless': 6635, 'siliconeclin': 13544, 'discomfortant': 5575, 'fussy': 7017, 'colicnippl': 4514, 'oldinclud': 10838, 'ult': 15460, 'nipplesmam': 10519, 'gassinessflow': 7069, 'flowmim': 6695, 'behavy': 2927, 'paus': 11230, 'breastfeedingon': 3559, 'feedingmad': 6468, 'bpamilk': 3481, 'naturalatch': 10268, 'nipplemost': 10499, 'motherstandard': 10085, 'sizesavail': 13618, 'flowsilicon': 6697, 'detailso': 5448, 'confus': 4701, 'poundsproduc': 11781, '078300057857item': 100, '5785target': 1317, 'unisexm': 15550, 'freem': 6870, 'siliconec': 13543, '1dishwasher': 523, 'yesbottl': 16393, 'colicfold': 4510, 'foldproduc': 6743, 'adib00116xuu4': 2033, 'germany': 7145, 'packagereus': 11062, 'usec': 15659, 'bottlessingl': 3422, 'developmentf': 5465, 'colicn': 4513, 'for': 6766, 'bottledrink': 3391, 'digestionfit': 5530, 'estrog': 6214, 'structure': 14400, 'peristalt': 11336, 'thereby': 14946, 'botton': 3438, 'stabl': 14132, 'virt': 15834, 'mm': 9957, 'disappear': 5562, 'tm': 15093, 'pigeon': 11440, 'diseas': 5589, 'soak': 13842, 'productsus': 12187, '550w': 1296, '850w': 1654, 'depend': 5347, 'usage3': 15645, '9oz': 1804, '260': 815, 'mls': 9956, 'nibblesbp': 10452, 'path': 11212, 'toward': 15192, 'straw': 14312, 'sip': 13596, 'comotomo': 4630, 'mot': 10082, 'odorless': 10797, 'adib007hkol92': 2049, 'flowmilk': 6694, 'vacuummim': 15693, 'hourglass': 7940, 'intak': 8274, 'detailssilicon': 5450, 'anit': 2335, 'shield': 13417, 'austr': 2595, '845296093011item': 1645, '9301': 1757, '006': 17, 'studio': 14412, 'accustom': 1895, '04080': 70, 'breastpump': 3571, '250': 784, 'ml': 9954, 'breastmilk': 3568, 'nipplesupersoft': 10522, 'leadf': 8975, 'olderdishwash': 10833, 'safe6': 12987, 'bottlesid': 3411, 'babiesdishwash': 2657, 'onlyreplac': 10865, 'nipples8': 10506, 'nippel': 10493, 'dt': 5806, 'uew': 15453, '2y': 913, '520e': 1276, 'dt520': 5809, 'coco': 4477, 'wound': 16287, 'lact': 8859, 'consult': 4730, 'peg': 11283, 'pc': 11243, 'thailand': 14916, 'wir': 16203, 'mws': 10198, 'via': 15792, 'gnd': 7264, 'assum': 2536, 'contin': 4750, '3mth': 1082, 'kiind': 8720, 'pp': 11795, 'nontox': 10592, '110': 205, 'degr': 5304, 'particul': 11185, 'deform': 5301, 'frequ': 6901, 'cheek': 4113, 'strange': 14295, 'pcs': 11246, 'eleph': 6009, 'interf': 8285, 'journey': 8578, 'slop': 13737, 'reflex': 12567, 'trig': 15294, 'proflo': 12191, 'pot': 11763, 'reflux': 12570, 'floright': 6675, 'gulp': 7501, 'polycarbon': 11668, 'fda': 6438, 'evenflo': 6243, 'upjust': 15624, 'reflexgentl': 12568, 'babiesun': 2660, 'eng': 6109, 'flang': 6615, 'latchprem': 8926, 'href': 7963, 'http': 7967, 'www': 16319, 'toysr': 15204, 'categ': 3980, 'index': 8165, 'jsp': 8585, 'categoryid': 3981, '41379036': 1117, 'sr': 14124, 'origkw': 10934, 'bps': 3483, 'toxin': 15201, 'liningcompat': 9189, 'stainless': 14138, 'steel': 14196, 'adib001263pfi': 2034, 'bottlesmay': 3416, 'bpacontain': 3480, 'unbekannt': 15490, '1pack': 535, 'approach': 2424, 'reply': 12653, 'squeez': 14118, 'nitrosamin': 10532, 'harb': 7622, 'nuby': 10699, '97': 1775, 'ingest': 8213, 'rim': 12792, 'suct': 14476, 'decreas': 5281, 'survey': 14565, '131': 302, 'nipplesid': 10515, 'babiesexclud': 2658, 'only4': 10864, 'triangul': 15281, 'contactprotect': 4735, 'breastfeedingsoft': 3563, 'flowmad': 6693, 'comfort24mm': 4601, 'diamet': 5493, 'siliconebp': 13542, 'freeexclud': 6861, 'bottlesinclud': 3412, 'nipplesrecommend': 10520, 'forg': 6786, 'aero': 2091, 'spok': 14050, 'slot': 13740, '2h': 886, 'switzerland': 14644, 'nipplesbet': 10507, 'correctlylik': 4848, 'breastless': 3565, 'symptom': 14657, 'colic6': 4505, 'safesupersoft': 13000, 'siliconemad': 13549, 'bottlesstandard': 3423, 'scf631': 13143, '27': 831, 'newth': 10423, 'whos': 16115, 'elong': 6025, 'milwauk': 9894, 'wi': 16117, 'gaug': 7077, 'bend': 2955, 'radi': 12401, '0mm': 126, '213g': 712, '260mm': 820, 'corrod': 4851, 'fatigu': 6425, 'genr': 7115, '290': 859, 'interfac': 8286, 'confusiond': 4702, 'unw': 15602, 'coliccomotomotm': 4508, 'babysaf': 2678, 'sterilizersmad': 14225, '78132': 1581, 'galv': 7044, 'cls': 4396, 'bottlesdr': 3405, 'groov': 7442, 'bottles': 3396, 'chevron': 4142, 'ease': 5893, 'sink': 13592, 'flowblank': 6682, 'discomfortnippl': 5578, 'agescompat': 2122, 'bottlesmad': 3415, 'freedishwash': 6859, 'newbornsexclud': 10410, 'khe': 8693, '14mm': 350, 'align': 2195, 'cav': 3995, 'grant': 7367, 'tongu': 15137, 'incom': 8149, 'careg': 3916, 'filt': 6541, 'suppl': 14538, 'focus': 6734, 'industry': 8182, 'nutry': 10725, 'lipid': 9212, 'crit': 5012, '293': 864, 'aquasip': 2440, 'tensil': 14877, 'met': 9798, 'oscil': 10948, 'cork': 4834, 'ss': 14129, 'babiesdesign': 2656, 'issuessaf': 8375, '937': 1758, 'naturalwav': 10273, 'success': 14471, 'fam': 6391, 'cornerston': 4839, 'hpa': 7957, 'facebook': 6368, 'twit': 15424, 'instagram': 8264, 'pinterest': 11473, 'youtub': 16426, 'nipplemad': 10498, 'bottlessupersoft': 3424, 'siliconedishwash': 13545, 'safef': 12990, 'elig': 6013, 'pri': 11871, 'upproduc': 15630, 'descriptionrub': 5385, 'liketh': 9154, 'smilk': 13774, 'caut': 3994, 'conjunct': 4706, 'highlightit': 7800, '517t': 1270, 'dt517t': 5807, 'nw': 10729, 'pen': 11289, '02': 52, '44': 1144, 'cm17': 4406, 'discsbet': 5587, 'achiev': 1899, 'ensu': 6132, '264': 825, 'prolock': 12202, '12mm': 291, 'alloy': 2213, 'onlysix': 10866, 'nipples6': 10505, 'lifefact': 9123, 'medicin': 9719, 'bypass': 3775, 'gag': 7031, 'spoon': 14057, 'airplanecarry': 2159, 'onapprov': 10854, 'winningdesign': 16170, 'largeopeningmakesiteasytofillandc': 8910, 'idwindowonthecollarhelpsyourememberwh': 8060, 'sinsid': 13594, 'thecollarismadeoftworingsthatunsnapfromoneanoth': 14932, 'theouterringhasanidwindow': 14942, 'andth': 2313, 'innerringlistscontentind': 8234, 'simplysnaptheouterringoffandbackontodisplay': 13580, 'andm': 2303, 'ablanksettingletsyouwriteinyourowncontentind': 1830, 'bottleslevel': 3413, 'eatersdishwash': 5911, 'adib000056w6f': 2025, 'intermedy': 8289, 'plain': 11517, 'detailsinclud': 5442, 'tactil': 14702, 'known': 8800, 'franceupc': 6833, '741360828841item': 1522, '120006product': 248, 'borosil': 3376, 'shock': 13450, 'theref': 14947, 'healthiest': 7713, 'apart': 2386, '204mm': 685, '222': 730, 'gram': 7356, '32pcs': 979, '264mm': 826, 'nipplesitem': 10516, 'specificationscol': 13978, 'silvers': 13562, '204mmupc': 686, '7613052095035mpn': 1552, 'sch020204n0100sold': 13148, 'b100': 2647, 'nipplesfit': 10511, 'bottlesf': 3407, 'developmentorthodont': 5466, 'angl': 2327, 'movementasymmet': 10113, 'jaw': 8446, 'positioningun': 11756, 'digestionnuk': 5531, 'hygieneperfect': 8022, 'travelsilicon': 15252, 'onun': 10875, 'nipppl': 10526, 'collapseun': 4523, 'respond': 12692, 'cours': 4911, 'spoonsmad': 14058, 'drip': 5770, 'ergonom': 6178, 'grasphandl': 7380, 'tablesperfect': 14689, 'marilyn': 9561, 'monro': 10024, 'wal': 15918, 'daynippl': 5219, 'ontwin': 10874, 'colicergonom': 4509, 'graspwid': 7381, 'easierbp': 5895, 'sterilizeorigin': 14223, 'artwork': 2502, 'regin': 12584, 'nouvelartwork': 10630, 'usahigh': 15647, 'gic': 7174, 'print15': 12146, 'washg': 15964, 'funf': 6992, 'formuladermatolog': 6799, 'testedno': 14896, 'tearsgentl': 14825, 'everydayhypoallergenicus': 6254, 'wax': 15996, 'val': 15697, '53': 1282, 'stringsdesigned': 14368, 'nurseryal': 10714, 'materialsmuralmax': 9629, 'sou': 13917, 'florid': 6674, 'reproduc': 12657, 'dropdown': 5780, 'menu': 9765, 'muralmax': 10174, 'microp': 9849, '60lb': 1388, '11mill': 237, '96': 1772, '7mm': 1596, '174g': 420, 'resistantbaby': 12681, 'bottlesoft': 3419, 'nub': 10695, 'processinclud': 12175, 'bottles0': 3397, 'qt': 12330, 'lamb': 8876, 'weil': 16042, 'guid': 7489, 'andrew': 2308, 'harvard': 7652, 'doct': 5656, 'renown': 12640, 'pion': 11477, 'mouthsavail': 10109, 'gumdrop': 7505, 'petit': 11364, 'preemy': 11822, 'babiesavail': 2653, 'eatersexclud': 5912, 'dbb': 5232, 'remond': 12628, '143000': 331, 'varittin': 15719, 'caoutchouc': 3875, 'et': 6215, 'rgul': 12757, '263mm': 823, 'tors': 15168, '5mm': 1346, '142': 330, '263mmupc': 824, '7613052060842mpn': 1551, 'sre020263n0072sold': 14126, 'express': 6313, 'prick': 12131, 'nipplesheight': 10514, 'inqu': 8242, 'transp': 15238, '292': 862, 'unflat': 15540, 'object': 10760, 'induc': 8177, 'challeng': 4064, 'voy': 15877, 'lesson': 9091, 'comotomotm': 4631, 'squorx': 14123, 'spline': 14044, 'mimick': 9896, 'mass': 9611, 'jap': 8438, 'slippery': 13732, 'fath': 6424, 'freeflow': 6863, '6mth': 1467, 'disk': 5603, 'tubeinclud': 15356, 'captop': 3897, '78184': 1582, 'uslansinoh': 15669, 'nipplessaf': 10521, 'breastfeeding100': 3553, 'freetrust': 6893, 'pg0122401': 11372, 'stretchable': 14345, 'efficy': 5967, 'babieswid': 2661, 'cleaningsaf': 4310, 'sterilizersinnov': 14224, 'ventssqueez': 15758, 'goal': 7266, '0151702': 39, 'property': 12216, 'streaks': 14322, 'ban': 2751, 'colicky': 4511, 'settl': 13332, 'adir': 2066, 'nxgen': 10739, 'practit': 11806, 'engin': 6111, 'strives': 14381, '5oz': 1348, 'chicco': 4151, 'comf': 4598, 'customflow': 5125, '48': 1195, 'const': 4724, 'enduro': 6102, 'mtb': 10141, 'hub': 7969, '302': 923, 'prepack': 11838, '160': 386, 'nippleth': 10525, 'psycholog': 12255, 'symmet': 14653, 'designmam': 5409, 'safelik': 12993, 'cpsia': 4942, 'obsess': 10763, 'unmatch': 15564, 'discomfortnewborn': 5577, 'slowest': 13745, 'safebp': 12988, 'feedingwi': 6470, 'agesinclud': 2123, 'enfamil': 6107, 'nurset': 10715, 'mead': 9692, 'cleft': 4330, 'snappy': 13807, 'bottlesbreast': 3402, 'bottleconto': 3390, 'dribblesrevolv': 5763, 'offset': 10809, 'flownippl': 6696, 'ratestom': 12456, 'fed': 6459, 'designv': 5416, 'collapsingfit': 4524, 'bottlesavail': 3400, 'freemim': 6873, 'breasteasy': 3549, 'bottleslow': 3414, '0monly': 128, 'ddi': 5239, '408772': 1104, 'motherlov': 10084, 'salv': 13034, '120ml': 255, 'distort': 5622, 'enviorn': 6147, 'accompany': 1888, 'mech': 9714, 'nanotech': 10246, 'dens': 5339, 'polypropl': 11698, 'taiw': 14712, 'kingdomupc': 8736, '761269001947california': 1550, 'residentsclick': 12676, 'proposit': 12219, 'warningitem': 15943, 'scf633': 13144, '27target': 846, 'freeproduc': 6880, 'flowth': 6698, 'adib000056w6h': 2026, 'surgery': 14558, 'nipples3': 10504, 'bottlesnon': 3418, 'sinktop': 13593, 'safeperfect': 12995, 'seek': 13265, 'carbon': 3904, '20mm': 698, '20g': 695, 'flywheel': 6727, 'feedingsoft': 6469, 'breastfeedinglarg': 3557, 'properlynippl': 12214, 'strengthen': 14333, 'collapsebp': 4520, 'assist': 2532, 'sucklingnippl': 14474, 'joovy': 8569, 'boob': 3343, 'softst': 13870, 'countnin': 4903, 'convieny': 4773, 'difficul': 5525, 'foam': 6730, 'principl': 12144, 'niplet': 10492, 'invert': 8318, 'protractil': 12236, 'occ': 10777, 'milkbear': 9888, 'duc': 5813, 'teth': 14900, 'painless': 11098, 'dev': 5462, 'protactil': 12224, 'perm': 11339, 'naturalfit': 10269, 'ppsu': 11799, 'phenylacet': 11386, 'sulfon': 14489, 'dent': 5340, 'screw': 13203, 'sma': 13755, 'strengthens': 14337, 'monthsst': 10042, 'monthsx': 10048, 'monthstop': 10045, 'safetwo': 13001, 'nipplesdishwash': 10509, 'dom': 5672, 'pour': 11782, 'snack': 13798, 'cer': 4036, 'glad': 7209, 'titl': 15092, 'breastfeedingadv': 3554, 'valvemad': 15706, 'safecompat': 12989, 'agesbp': 2121, 'siliconewid': 13551, 'feedingcomfort': 6465, 'collapseinnov': 4521, 'discomfortinclud': 5576, 'flowtm': 6699, 'nipplepigeonmodel': 10500, 'suggest': 14486, 'duck': 5814, 'torto': 15173, 'starttry': 14171, 'preferencekit': 11828, 'nippleal': 10497, 'bottlework': 3431, 'x2': 16329, '519s5t': 1271, 'dt519': 5808, '24each': 769, 'thinkbaby': 14988, 'bottlefit': 3392, 'bottlesmed': 3417, 'flowun': 6700, 'positioningangl': 11755, 'celsi': 4028, '0194502': 47, 'thingmilk': 14986, 'bucketth': 3681, 'blockeddesign': 3241, 'cow': 4929, 'calf': 3820, 'breastfeedingshap': 3562, 'babyeasy': 2668, 'babymad': 2676, 'steaminginclud': 14192, 'protectorsmad': 12232, 'freeavail': 6853, '15mm': 379, '21mm': 720, '973': 1777, 'leach': 8972, 'melamin': 9736, 'biolog': 3053, 'headach': 7692, 'tricky': 15289, 'util': 15674, 'conduc': 4688, 'taiwansold': 14713, 'medicinemedicin': 9720, '5cm': 1331, '31gpackage': 961, 'brushtot': 3664, '27cm': 840, 'ident': 8056, 'went': 16057, 'exampl': 6275, 'mellowtm': 9743, '45v68': 1179, 'freesuit': 6887, '6mexclusive': 1465, 'availablecompat': 2614, 'handmedel': 7590, 'beenmad': 2913, 'withoutbp': 16218, '23': 741, '40cm': 1105, '57gpackage': 1320, '522s7t': 1278, 'dt522': 5810, '8mm': 1720, '310mm': 948, '170g': 415, 'lengthstraight': 9078, '312g': 949, 'lengthitem': 9073, 'specificationscolorsilverunit': 13979, 'saleb': 13020, '50weight213glength302mmspoke': 1261, 'typestraight': 15436, 'gaugespok': 7078, 'diameter2': 5494, '0mmdefined': 127, 'colorsilv': 4575, 'disco': 5571, 'lazy': 8962, 'breastp': 3570, 'partsact': 11187, 'againfee': 2117, 'coversfee': 4922, 'x1': 16324, 'compress': 4667, 'particip': 11184, 'said': 13012, 'description6months': 5370, 'disclaimerthes': 5570, 'evalu': 6241, 'diagnos': 5489, 'chok': 4197, 'bulg': 3702, 'momm': 10001, 'confusionergonom': 4703, 'breastant': 3548, 'uplansinoh': 15626, 'freenaturalwav': 6876, 'nipplesy': 10524, 'liquidsexclud': 9226, '689076158787': 1451, 'pes': 11359, 'rec': 12505, '2ct': 880, '4m': 1228, 'appetit': 2402, 'desir': 5418, 'latchbet': 8925, 'dishwah': 5598, '12p': 294, '297': 869, 'rapid': 12445, 'tummyhelp': 15377, 'fussiness1': 7014, 'loseexpert': 9313, 'feedingalso': 6462, 'cuthref': 5133, 'bottlesth': 3425, 'ide': 8053, '2pk': 900, '306': 930, 'breakthrough': 3545, 'nipplesf': 10510, 'zonetm': 16484, 'comfortn': 4611, 'feedingf': 6467, 'colicsupport': 4516, '298': 870, '48020': 1198, 'tingl': 15080, 'nibbl': 10451, 'est': 6208, 'overact': 11003, 'down': 5702, 'interrupt': 8294, 'resolv': 12685, 'firm': 6572, 'upright': 15631, 'reliabrand': 12611, 'ad025fs': 1924, '000c': 12, 'chidlr': 4155, '3mexclusive': 1076, 'facilit': 6375, '2pkmost': 901, 'customflowtm': 5126, 'ventstm': 15759, 'anod': 2348, 'alumin': 2243, 'plat': 11530, 'jmf': 8541, 'gasposit': 7067, 'vacuumal': 15692, 'safelevel': 12992, 'siliconelevel': 13548, 'monthstwo': 10046, 'worldwid': 16281, 'strawberry': 14315, 'grain': 7355, 'diet': 5520, 'snacksport': 13801, 'babyconveny': 2666, 'packageperfect': 11060, 'setphilip': 13326, '260ml': 819, '125ml': 268, 'famili': 6392, 'vit': 15848, 'unsettl': 15589, 'pr': 11800, 'honey': 7886, 'polyethersulfon': 11690, 'tint': 15083, 'eucalypt': 6235, 'lemon': 9040, 'patchoul': 11210, 'peppermint': 11314, 'rosem': 12894, 'spearmint': 13974, '4oz': 1231, 'trit': 15315, '8oz': 1723, 'undertak': 15522, 'bouch': 3440, 'shak': 13357, 'siev': 13530, 'unscrew': 15588, 'clump': 4400, 'video': 15807, 'bouchebaby': 3441, 'colo': 4553, 'buzz': 3768, 'babbl': 2651, 'madison': 9459, 'babyl': 2674, 'breastflow': 3564, 'featuresperfect': 6452, 'formula88': 6797, 'fussinessbreastflow': 7015, 'breastfeedingp': 3560, 'strengths': 14338, 'wean': 16005, 'scd291': 13129, 'brushless': 3659, 'stress': 14339, '250ml': 788, 'gentlev': 7122, 'greenf': 7401, 'deisgn': 5308, 'issuesultr': 8376, 'brushsaf': 3662, 'sterilizersnippl': 14226, 'coliccomotomo': 4507, '150ml': 364, 'grasp': 7379, 'mimijum': 9897, 'skid': 13632, 'zoo': 16485, 'mund': 10171, 'rig': 12788, '885131627261heading': 1677, 'contribut': 4758, 'hiccup': 7792, 'feedingdesign': 6466, 'snacksbottl': 13800, 'simplesilicon': 13577, 'polyvinyl': 11706, 'plug': 11561, 'veget': 15734, 'meat': 9708, 'sac': 12979, 'kidsm': 8716, 'froz': 6963, 'chew': 4144, 'descriptioncustom': 5376, 'imprint': 8109, 'pooh': 11719, '144': 333, 'kdb24207983': 8663, 'suff': 14481, 'specificationsrong': 13983, 'descriptionfrom': 5380, 'lost': 9316, 'reservoir': 12672, 'brushesproduc': 3657, 'featuress': 6453, 'packsku': 11080, 'absb0057ecys0': 1850, 'coast': 4460, 'cag': 3806, 'empty': 6075, 'smallest': 13763, 'infect': 8192, 'confirm': 4698, 'naturalshap': 10272, 'breakproof': 3544, 'barnyard': 2790, 'scat': 13125, 'burnt': 3731, 'caramel': 3900, 'chocol': 4194, 'bubbleg': 3676, '8x12x3': 1729, '1lbs': 529, 'veg': 15732, 'bottleswi': 3428, 'holdventair': 7847, 'guaranteecol': 7474, 'rooky': 12884, 'chicago': 4149, 'licens': 9110, 'organickidztm': 10925, 'skinsoft': 13658, '501': 1250, 'pittsburgh': 11487, 'hors': 7922, 'whal': 16068, '200': 552, 'softflex': 13863, 'anticol': 2363, 'calc': 3815, 'needstrack': 10371, 'daypac': 5220, 'metmot': 9814, 'hydratedenh': 8008, 'endurancewv3906bl': 6101, 'nba': 10289, 'nhl': 10448, 'nca': 10303, 'gripswil': 7430, 'leakmad': 8981, 'gatorad': 7076, 'bottlepr': 3395, 'includedconveny': 8143, 'productpolypropyl': 12183, 'siliconeimportedposit': 13546, 'breastfeedingreduc': 3561, 'gasv': 7072, 'ehelp': 5977, 'earbp': 5879, 'freeposit': 6879, 'hik': 7805, '18oz': 460, 'kle': 8767, 'kanteen': 8640, 'epoxy': 6161, 'brew': 3584, 'winemak': 16159, 'impart': 8095, 'smoothy': 13792, 'scrub': 13211, 'chinainclud': 4171, 'gasbp': 7063, 'freemaintain': 6871, 'pesky': 11360, 'utensil': 15673, 'fork': 6790, 'appet': 2401, 'basix': 2812, 'emerigin': 6057, 'inert': 8184, 'interact': 8280, 'cak': 3809, 'oxid': 11038, 'neg': 10373, 'detailscomotomo': 5440, 'inchesupc': 8129, '700621403647': 1486, '886074000043item': 1679, 'pinkm': 11461, 'upto': 15637, 'touchtm': 15182, 'softflextm': 13864, 'activeflow': 1918, 'beep': 2914, 'thaw': 14925, 'designintegr': 5405, 'colicskid': 4515, 'easydom': 5906, 'bereplac': 2973, 'mixietm': 9950, 'hung': 7988, 'carabin': 3899, 'fent': 6490, 'ford25220659': 6771, 'glancef': 7213, 'oldertw': 10836, 'click': 4340, 'guaranteeun': 7478, 'cleanbp': 4299, 'freef': 6862, 'olderremov': 10834, 'bottlebrand': 3388, 'newinclud': 10414, 'warrantyth': 15946, '000': 1, 'ion': 8329, 'exchang': 6280, 'tds': 14809, 'bottleblu': 3387, 'color26': 4557, 'capacitylightweightmeet': 3880, 'definationdimend': 5297, '88purest': 1690, 'waternsf': 15987, 'leadfilt': 8976, 'technology5': 14839, 'filterleak': 6542, 'assemblyhard': 2527, 'designremov': 5411, 'waterremov': 15989, 'pthe': 12256, 'h5infant': 7536, 'h5': 7533, 'bottleant': 3386, 'tummybottl': 15376, 'cupsinclud': 5102, 'brview': 3667, 'h5bpa': 7535, 'h5pthe': 7537, 'ppav': 11796, 'comb': 4588, 'thermo': 14954, 'bev': 3000, 'condens': 4684, 'freekid': 6869, 'growthmad': 7458, 'foogo': 6757, 'phas': 11381, 'cupsphas': 5104, 'straw10': 14313, 'safeitem': 12991, '041205657132item': 71, 'bs5352vltri3target': 3670, 'unisexminim': 15551, 'poundsmaxim': 11780, 'poundsm': 11779, 'freebattery': 6855, 'mfe': 9822, 'goun': 7335, 'usedesign': 15660, 'bottlesconveny': 3403, 'ziploc': 16466, '2pc': 899, 'midw': 9868, 'intafee': 8273, 'ster': 14217, 'countimagin': 4901, 'youv': 16427, 'steribottl': 14220, 'dayc': 5215, '2000': 553, 'il': 8074, 'a10': 1814, 'liquidsd': 9225, 'exteriorhygy': 6318, 'handlekeep': 7587, 'hours12': 7941, 'boston': 3379, 'sox': 13938, 'detailsth': 5452, '761269001176item': 1549, 'scf145': 13142, '06number': 92, 'descriptionf': 5378, 'adib0009et49k': 2028, 'distribut': 5626, 'setbp': 13319, 'symptomsp': 14658, 'breastextr': 3550, 'newbornsth': 10411, 'brushmam': 3660, 'bottleal': 3384, 'sympto': 14656, 'unbreak': 15494, 'babiesc': 2655, 'breastpumpsdishwash': 3572, 'materialsno': 9630, 'splintering': 14045, 'droppedinclud': 5783, 'earach': 5877, 'proflow': 12193, 'thinksport': 14991, 'ozbrand': 11044, 'newwh': 10424, '2007': 587, 'foremost': 6781, 'adh': 2022, 'strict': 14356, 'policy': 11653, 'typemad': 15434, 'steeldishwash': 14197, 'puls': 12278, 'airflow': 2157, 'millimet': 9892, 'beab': 2864, 'handheld': 7581, 'lump': 9368, 'battery': 2834, 'usemix': 15664, 'bubbleson': 3677, 'buttonremov': 3761, 'upcomfort': 15616, 'strapruns': 14300, 'sizeinclud': 13615, 'travelingbp': 15250, 'freeclick': 6857, 'democlick': 5324, 'kosh': 8822, 'america': 2266, '12oz': 293, 'progress': 12197, 'sampl': 13040, '240ml': 758, 'kik': 8721, 'ounceproduc': 10966, 'descriptioncomotomo': 5373, 'gumsf': 7506, '10oz': 196, '300ml': 919, 'exerc': 6290, 'convex': 4771, 'disc': 5565, 'winny': 16171, 'cuisinart': 5083, 'commerc': 4623, '0product': 130, 'cleanflow': 4301, 'siliconeintegr': 13547, 'regim': 12583, 'explor': 6310, 'lil': 9155, 'goof': 7318, 'cupstom': 5105, '2010': 618, 'lilicout': 9157, 'restraint': 12702, 'audy': 2583, 'preschool': 11846, 'multifunct': 10157, 'stubborn': 14408, 'eyelin': 6338, 'girlsgr': 7200, 'crayon': 4967, 'ds': 5803, 'systemhelp': 14668, 'gasprov': 7068, 'nutrientsvacu': 10723, 'sling': 13725, 'headrest': 7702, 'seat': 13244, 'bathtub': 2831, 'kitch': 8749, '1185686': 230, 'premy': 11835, 'scratching': 13190, 'nest': 10393, 'retract': 12726, 'bru': 3647, 'fandom': 6399, 'straws': 14316, '60ml': 1389, 'bedtim': 2906, 'proflotm': 12192, 'century': 4035, 'juvenil': 8613, 'strollers': 14388, 'gat': 7073, 'inv': 8314, 'nook': 10597, 'cranny': 4962, 'nylon': 10744, 'brushesdesign': 3656, 'nipplesgr': 10512, 'itemsbp': 8386, 'freeperfect': 6878, 'breastfeedinghelp': 3556, 'lipidseasy': 9214, 'benef': 2957, 'refrig': 12574, 'adib00db5f114': 2057, 'guacamol': 7468, 'wareh': 15933, 'estim': 6213, '94': 1761, '2014': 679, '349': 1001, 'ringsdishwash': 12802, 'teddy': 14841, 'leakproof': 8982, 'issembl': 8373, 'soothy': 13908, 'hassl': 7656, 'neopr': 10387, 'koozy': 8818, 'washwi': 15972, 'clearview': 4327, 'scf673': 13145, '17': 411, 'pharmaceut': 11379, 'ach': 1898, 'fond': 6749, 'aristotl': 2466, 'momo': 10003, '150mlcolor': 365, 'rejectionultr': 12602, 'det': 5429, '4hx2': 1223, 'dia': 5485, 'uniq': 15547, 'growl': 7455, 'drain': 5722, 'loprofil': 9304, 'zak': 16441, 'loprofileadjust': 9305, 'ratetoddl': 12457, 'oldertumbl': 10835, 'fiest': 6524, 'log': 9267, 'alm': 2214, 'behavio': 2926, 'sufficy': 14482, 'washington': 15968, 'redskin': 12547, 'holedevelop': 7848, 'sistem': 13602, 'klip': 8771, 'bottlestwo': 3426, 'collapsesix': 4522, 'nipplesbp': 10508, 'freeair': 6849, 'lipidsbp': 9213, 'sig': 13532, 'lit': 9234, 'ecoc': 5927, 'detailsclin': 5439, 'bottletechn': 3429, '075020008619item': 98, 'scf686': 13146, '27material': 843, 'adib0057eebb8': 2044, 'breastmam': 3567, 'cupextr': 5098, 'clipmam': 4350, '6oz': 1468, 'polyeth': 11689, 'sulphon': 14491, 'leech': 9006, 'landfil': 8887, 'planet': 11521, 'profit': 12190, 'institut': 8268, 'prodct': 12178, 'blues': 3268, 'capacityf': 3879, 'vary1': 15724, 'bottlesfilt': 3408, 'waterbp': 15979, 'safereplac': 12998, 'brit': 3609, '60258': 1376, '35818': 1015, 'sulley': 14490, 'bert': 2987, 'brat': 3516, 'bbbuvs02': 2847, 'uv': 15682, 'chick': 4153, 'syr': 14663, 'perf': 11323, 'areol': 2458, 'synergy': 14659, 'backwash': 2706, 'weak': 16002, 'gassy': 7070, 'edison': 5948, 'containergr': 4738, 'storagedishwash': 14272, 'safemeas': 12994, 'markersmad': 9569, 'bpacompat': 3479, 'markersavail': 9568, 'ford25315892': 6772, 'ford4008363': 6774, 'monit': 10015, '20812': 689, 'reintroduc': 12598, 'hul': 7979, 'contract': 4753, 'lunchbox': 9371, 'dnu': 5649, 'wisdom': 16207, 'sweetleaf': 14625, 'steviaclear': 14234, 'servingswi': 13312, 'bor': 3367, 'carbohydr': 3903, 'coff': 4485, 'protein': 12233, 'delicy': 5315, 'aftertast': 2114, 'diabet': 5486, 'dessert': 5424, 'endless': 6097, '885131764300': 1678, 'interv': 8298, 'shatterproof': 13384, 'hazard': 7674, 'bulb': 3701, 'inspect': 8260, 'enlarg': 6126, 'torn': 15165, 'decay': 5264, 'feedingangl': 6463, 'infectionsbp': 8193, 'detailsn': 5446, 'momeasy': 10000, 'bottleoptim': 3393, 'bottlealway': 3385, 'freetechn': 6889, 'chinaupc': 4172, '666519225978item': 1436, '522597batteries': 1277, 'nosku': 10615, 'adib00k5kvc52': 2060, 'bffbnepb': 3011, 'scrubber': 13212, 'merg': 9774, 'bench': 2952, 'tidy': 15055, 'divid': 5638, 'hamp': 7573, 'caddy': 3801, 'philadelph': 11387, 'eagl': 5873, 'streamlined': 14326, 'knew': 8781, 'bestsel': 2993, 'asparag': 2518, 'chi': 4147, 'zesty': 16456, 'bloody': 3247, 'mary': 9593, 'gashelp': 7065, 'infancyvacu': 8190, 'orl': 10937, 'saint': 13015, 'scf699': 13147, 'rosh': 12903, 'hashanah': 7655, 'buildup': 3698, '68': 1446, 'is': 8355, 'strive': 14380, 'bottles2': 3399, 'bottles1': 3398, 'pacifier2': 11055, 'nipples1': 10502, '30102': 921, 'bottleposit': 3394, 'minutesauto': 9925, 'safetywork': 13002, 'bottlesbottl': 3401, 'includedbp': 8141, 'spar': 13959, 'workm': 16268, 'inconsist': 8151, 'shrink': 13494, 'babiesinnov': 2659, 'ventsun': 15760, 'designwid': 5417, 'cleaning100': 4304, 'navig': 10284, 'nightstand': 10468, 'eag': 5872, 'hourssnap': 7943, 'includedtoddl': 8147, 'spoutless': 14069, 'design360': 5397, 'completelycup': 4656, 'ground': 7447, 'rel': 12606, 'jumbo': 8598, 'thermosfuntain': 14959, 'stainlesssteel': 14139, 'bottleshav': 3410, 'thegrow': 14936, 'cornel': 4838, '114': 220, 'kdb24034923': 8662, 'shapebp': 13366, '150': 358, 'whereabout': 16080, 'wireless': 16204, 'mount': 10100, 'publ': 12261, 'keychain': 8686, 'transmit': 15237, 'wand': 15924, 'aud': 2577, 'alert': 2185, 'har': 7621, 'swivel': 14645, 'grocery': 7437, 'highchair': 7796, 'bond': 3336, 'californ': 3823, 'tabletop': 14691, 'extern': 6319, 'smudg': 13794, 'hardest': 7629, 'shallow': 13358, 'astm': 2540, 'f963': 6348, '2oz': 898, '50ml': 1257, '1pc': 536, 'amed': 2263, 'bottlesup': 3427, 'airpump': 2161, 'nipple20': 10496, 'pouches1': 11772, 'set1': 13317, 'nipple1': 10495, 'hum': 7983, 'reshap': 12674, 'ouncecol': 10964, 'pinkf': 11459, 'diffus': 5527, 'celt': 4029, 'aum': 2587, 'om': 10844, 'necklacescould': 10344, 'locket': 9260, 'chambereach': 4067, 'chop': 4202, 'functionsp': 6988, 'bladelock': 3204, 'pouringsteam': 11783, 'results4': 12706, 'steamingus': 14193, 'led': 9004, 'oxo': 11039, '7oz': 1597, 'scd296': 13130, '11brand': 234, 'bottel': 3382, 'furnit': 7004, 'cuipo': 5081, 'rainforest': 12416, 'collab': 4518, 'cast': 3964, 'featurestext': 6454, 'easilywid': 5899, 'cleanp': 4314, 'breastfeedingallow': 3555, 'fluidless': 6705, 'divert': 5637, 'faucet': 6427, 'cupbp': 5095, 'hex': 7783, 'clears': 4326, 'ouncef': 10965, 'mileston': 9884, 'shapepro': 13367, 'fussinessexpert': 7016, 'lose4': 9312, 'babiesbp': 2654, 'adib007vbxkg2': 2052, 'freestand': 6885, 'sterilizationwil': 14222, 'colorergonom': 4563, 'designed1': 5401, 'shat': 13383, 'formula': 6796, 'affordablitiy': 2102, 'easil': 5898, 'trendlin': 15271, 'bottlesorthodont': 3420, 'developmentsim': 5467, 'breastfeedingnuk': 3558, 'colicmad': 4512, 'siliconepack': 13550, 'bottlesquest': 3421, 'recal': 12506, 'marketplac': 9571, '14011shipping': 328, '6product': 1471, 'tata20449577': 14770, 'coop': 4815, 'socy': 13853, 'gradu': 7349, 'ford25315893': 6773, '05544': 82, '4tproduct': 1239, 'description': 5367, 'reind': 12595, 'blanket': 3211, 'importedmsrp': 8102, 'bapt': 2772, 'floppy': 6671, 'xs6': 16360, 's12': 12971, 'm2t': 9410, 'l4t': 8845, '5t': 1355, 'months100': 10031, 'frosty': 6962, 'jan': 8436, 'sliv': 13735, 'vecro': 15730, 'oxford': 11037, '91775': 1747, 'guavapink': 7482, 'breezesnap': 3580, 'dressing100': 5754, 'jerseyimportedmachin': 8507, 'fleecy': 6645, 'rooftop': 12883, 'bazook': 2845, 'launchervehic': 8940, 'ramp': 12431, 'ridin': 12787, 'wheelsfit': 16078, 'spinnnin': 14029, 'rippin': 12810, 'vehiclesteen': 15740, 'mut': 10192, 'ninj': 10483, 'incwh': 8159, 'command': 4619, 'shellra': 13409, 'cannon': 3866, 'door': 5683, 'send': 13288, 'wag': 15894, 'sizemad': 13617, 'burgeon': 3726, 'superhero': 14526, 'teen': 14846, 'ballgam': 2743, 'york': 16410, 'squeak': 14117, '23736': 747, '802935768730': 1612, 'sock': 13850, 'spid': 14014, 'shrinkage': 13495, 'blurb': 3273, 'pajam': 11103, 'pj': 11498, 'flam': 6612, 'bsi': 3671, '31009': 945, 'dc': 5235, 'batm': 2833, 'emblem': 6045, 'clock': 4354, 'tock': 15103, 'soundsbead': 13925, 'stov': 14283, 'musicslid': 10184, 'backsplash': 2700, 'movedeg': 10112, 'bacon': 2709, 'puzzl': 12316, 'fry': 6969, 'sort': 13915, 'cooky': 4808, 'board': 3292, 'beaty': 2888, 'monthssup': 10043, 'hatcol': 7659, 'sweatband': 14599, 'grommet': 7440, 'overview': 11028, 'flop': 6670, 'homework': 7880, 'beanb': 2880, 'bn011964440375upc': 3287, '011964440375': 33, 'corn': 4836, 'ballerin': 2741, 'jiffy': 8529, 'giraff': 7196, 'animalcardig': 2333, 'joobl': 8568, 'gentlemad': 7119, 'peru': 11357, 'doc': 5652, 'mcstuffins': 9686, 'dotty': 5693, 'lamby': 8879, '12776': 272, 'brought': 3634, 'punky': 12290, 'guit': 7498, 'cog': 4488, 'army': 2476, 'actu': 1922, 'desp': 5422, 'goggl': 7278, 'onlysoft': 10867, 'washablef': 15950, 'outfitscart': 10981, 'monthsbodysuit': 10034, 'changesc': 4078, 'undershirt': 15517, 'flowersgreen': 6685, 'cartersmpn': 3944, '111': 212, '818upc': 1628, '714442711706always': 1502, 'luck': 9352, 'ir': 8343, 'beret': 2974, 'koal': 8803, 'headwrap': 7706, 'stretched': 14349, 'rem': 12618, 'llc': 9245, 'purrrrfect': 12307, 'ahead': 2136, 'fabriccontrast': 6359, 'buttoncontrast': 3759, 'placketsmal': 11510, 'appam': 2396, 'rob': 12842, 'primo': 12140, '351w': 1011, 'eurosp': 6239, 'beaniebraid': 2881, 'childrenswear': 4163, '5pk': 1351, 'whitedesign': 16098, 'railway': 12410, 'crook': 5018, 'horn': 7920, 'chuckl': 4228, 'earflap': 5882, 'someon': 13893, '6lbs': 1463, 'knot': 8795, 'includedsnap': 8146, 'dressingcrotch': 5755, 'changesmad': 4079, 'strawberries': 14314, 'rabbit': 12387, 'setmachin': 13324, 'washablefash': 15951, 'pallet': 11115, 'it': 8377, 'booty': 3366, 'glist': 7229, 'if': 8062, 'stink': 14252, 'wig': 16129, 'shark': 13373, 'reel': 12553, 'dors': 5687, 'standup': 14152, 'fring': 6925, 'foursom': 6820, 'tmnt': 15094, 'michelangelo': 9832, 'leonardo': 9087, 'donatello': 5676, 'raphael': 12444, 'playth': 11547, 'dahl': 5173, 'glu': 7248, 'mcqueen': 9685, 'hready': 7962, 'remot': 12629, 'rms': 12833, 'tit': 15090, 'versionsold': 15778, 'assembledready': 2526, 'kitunmatch': 8763, 'craftsm': 4956, 'replica': 12652, 'muse': 10181, 'fleet': 6646, 'abound': 1833, 'deck': 5269, 'majesty': 9496, 'rend': 12635, 'superl': 14527, 'hist': 7827, 'swept': 14629, 'splendor': 14042, '212': 709, 'mast': 9616, 'birch': 3058, 'mapl': 9543, 'rosewood': 12902, 'tho': 15005, 'angry': 2329, 'knock': 8791, 'sleepov': 13690, 'overviewty': 11030, 'boo': 3342, 'bn008421369249upc': 3286, '008421369249': 21, 'hairdo': 7553, 'melondip': 9746, 'sess': 13315, 'tol': 15123, 'indicationatop': 8168, 'dermatitiseczemasev': 5359, 'skinbenefitsslectios': 13641, 'hypersensit': 8027, 'inflam': 8200, 'itchingrest': 8383, 'barrierprev': 2796, 'loss': 9314, 'irritationsuit': 8354, 'adultsfragr': 2082, 'freeavn': 6854, 'skinhypoallerg': 13645, 'comedogenichow': 4595, 'useus': 15666, 'lath': 8929, 'tepid': 14879, 'trixr': 15319, 'slectios': 13686, 'ingredientsavn': 8216, 'softensslectios': 13861, 'responselipid': 12694, 'fatty': 6426, 'ceramid': 4038, 'sterol': 14232, 'barrierglycin': 2795, 'itchingdisod': 8382, 'chel': 4125, 'barriersize400': 2797, '52': 1272, 'tf1000lp': 14913, 'mcarth': 9671, 'plaqu': 11526, 'damp': 5186, 'kiddy': 8714, 'messeng': 9788, 'offspringlayet': 10811, 'superm': 14528, '90798': 1739, 'monhshandmad': 10012, 'hatpink': 7663, 'plaid100': 11515, 'cottonmachin': 4881, 'washimport': 15965, '47': 1191, 'yank': 16376, 'insignia': 8258, 'hologram': 7859, 'outerwear': 10976, 'overal': 11004, 'snowsuit': 13830, '6pk': 1470, 'mic': 9829, 'quot': 12377, 'jerseypink': 8509, 'hairpin': 7557, 'orna': 10941, 'bb': 2846, 'grosgrain': 7445, 'unfast': 15539, 'youngst': 16421, 'carhart': 3921, 'cavi': 3997, 'peaco': 11255, 'mustang': 10188, 'rosebloom': 12892, 'cb8905': 4005, 'nb': 10288, '45617': 1168, 'ga': 7028, 'tech': 14829, 'snazzy': 13811, '2713whistling': 834, 'chainitem': 4055, 'pyi1334': 12321, 'upf': 15620, 'sotto': 13916, 'questo': 12352, 'salmon': 13027, 'jazzyto': 8453, 'cowgirl': 4931, 'kon': 8812, 'positionscomfort': 11757, 'kangaroo': 8638, 'tribut': 15284, 'men': 9756, 'midweight': 9869, 'jog': 8555, 'yr': 16428, 'coldest': 4499, 'ro33rgmade': 12834, 'laceless': 8852, 'banz': 2770, 'embed': 6038, 'brow': 3636, 'austral': 2596, 'stringent': 14364, 'sungl': 14507, 'ophthalm': 10896, 'prescrib': 11847, 'brea': 3535, 'szh1256': 14677, 'detailsk': 5444, 'emboss': 6047, 'jel': 8496, 'wristbandproduc': 16305, 'descriptioncool': 5375, 'kpop': 8825, 'wristband': 16304, '3d': 1068, 'everyonesku': 6257, 'adib009vgjl36': 2055, 'cottonfront': 4875, 'leatheret': 8990, 'portrait': 11748, 'des': 5364, 'fuloon': 6983, '2n1': 896, 'packsec': 11077, 'atv': 2573, '89475': 1703, 'kolpin': 8809, 'punct': 12285, 'polyethyl': 11691, 'nanotechnolog': 10247, 'blind': 3230, 'dril': 5766, '89435': 1702, 'carb': 3902, '09': 106, '016': 45, 'detailsbrand': 5437, 'kolpinmodel': 8810, '89135item': 1700, '89135manufacturer': 1701, '89135': 1699, 'abp': 1835, 'partslink': 11188, '13product': 322, 'descriptionfollow': 5379, 'farth': 6414, 'gallon': 7042, 'utv': 15680, 'pantsp': 11144, 'cuffs100': 5068, 'washableimport': 15952, 'heirloom': 7744, 'dign': 5535, 'teeyellow': 14849, 'pulloverblack': 12275, 'fru': 6965, 'brag': 3501, 'pum': 12279, 'lullababy': 9360, 'sprinkles': 14092, 'mamapr': 9512, 'cazell': 4001, 'suspend': 14570, 'mo': 9965, 'patric': 11217, 'avenu': 2619, 'honest': 7884, 'celebrities100': 4019, 'tshirtthis': 15349, 'tshirt': 15347, 'favoriteprofess': 6433, 'inkssecond': 8230, '2nd': 897, 'halo': 7567, 'rufflesflow': 12939, 'bodysuits': 3316, 'monthsshort': 10040, 'sleevegymb': 13694, 'pm': 11573, '46008': 1183, 'tubby': 15354, 'forwardlock': 6810, 'lev': 9097, 'controls': 4763, 'toast': 15095, 'blendershand': 3224, 'setbubbl': 13320, 'skirtsatin': 13668, 'sashsolid': 13071, 'leggingbow': 9020, 'cottonknit': 4879, 'frontv': 6958, 'lobst': 9253, 'touchon': 15179, 'yearsluxury': 16386, 'cute100': 5130, 'monthshandmad': 10039, 'thins': 14993, 'palm': 11116, 'thumb': 15039, 'network': 10399, 'appliqu100': 2416, 'barret': 2794, 'absb004hdg1cwproduct': 1849, 'deepthread': 5289, '150pillowcase': 366, 'reversibleinclud': 12738, 'pillowcas': 11447, 'sheetfil': 13399, 'polyesterfib': 11679, 'polyesternumb': 11683, '4care': 1215, 'lowest': 9336, 'absb004hdg1cw': 1848, 'scotty': 13180, 'tart': 14748, 'exclaim': 6282, 'rro': 12926, 'hatmachin': 7662, 'washable': 15949, 'giftavail': 7177, 'colorway': 4583, 'rufflestack': 12941, 'monthsth': 10044, 'startdisney': 14168, 'bathtim': 2830, 'washingssnap': 15967, 'seamshug': 13235, 'cottontagless': 4888, 'easieralso': 5894, 'tee0': 14843, 'monthscud': 10036, 'front0': 6940, 'months3': 10032, 'months6': 10033, 'pack0': 11057, 'monthswh': 10047, 'outfitop': 10980, 'uk100': 15458, 'approx': 2428, '3y': 1097, '39': 1051, 'motifship': 10086, 'depict': 5348, 'peruv': 11358, 'polarfleec': 11650, 'acryliclin': 1913, 'polyesterhand': 11680, 'pronto': 12209, '57': 1310, 'backless': 2691, 'etn': 6230, 'aggrav': 2125, 'chestnut': 4139, 'osf': 10949, 'sylvest': 14651, 'dalek': 5182, 'tallphon': 14721, 'compaty': 4644, 'gsm': 7464, '3g': 1069, 'ariel': 2464, 'auror': 2592, 'rapunzel': 12447, 'tian': 15048, 'supergirl': 14524, 'sptwr': 14104, '013764': 36, 'mossyoak': 10079, 'breakup': 3546, 'rwh1003': 12963, 'lifest': 9129, 'outfittingbreath': 10982, 'comfyno': 4616, 'shortssporty': 13464, 'teeathlet': 14844, 'printsw': 12156, 'retard': 12717, 'sprays': 14074, 'chemicalsw': 4128, 'safty': 13005, 'hav': 7667, 'colorsavail': 4571, 'printsperfect': 12155, 'prewalk': 11869, 'entertain': 6136, 'offspringdress': 10810, 'sleepwear': 13691, 'licensed100': 9111, 'washsilky': 15971, 'comfysnap': 4617, 'saucony': 13088, 'tod': 15106, 'dab': 5168, 'physiolog': 11415, 'insol': 8259, 'headwear': 7705, 'chenil': 4131, 'schoolbag': 13159, 'kindergart': 8730, 'bowdenim': 3458, 'constrain': 4725, 'doodl': 5682, 'blackf': 3196, 'bracketsmad': 3495, 'availabledesign': 2615, 'mountcarb': 10102, '9tpg2p3aabp1': 1805, '001': 13, 'r01': 12383, 'sunlight': 14511, 'psi': 12253, 'depart': 5346, 'crummy': 5041, 'bount': 3450, 'comfortablefash': 4602, 'jeffery': 8492, 'prissy': 12162, 'splish': 14046, 'fluoresc': 6707, 'lak': 8873, 'swap': 14592, 'cloch': 4353, 'hibisc': 7791, 'goat': 7267, 'iplay': 8338, 'ecofleec': 5928, 'earwarm': 5891, 'snapibas': 13806, 'rwh1011': 12964, 'cottonth': 4889, 'swimwear': 14634, 'swimsuit': 14633, 'goody': 7316, 'indonesiasku': 8175, 'adib003beds92': 2042, 'acrylichand': 1912, 'herringbon': 7775, 'twic': 15412, 'aloh': 2223, 'luau': 9348, 'espardril': 6198, 'jut': 8612, 'derby': 5355, 'violet': 15827, 'paid': 11092, 'wolf': 16238, 'connoiss': 4710, 'backlit': 2693, 'lcd': 8966, 'knob': 8790, 'chrome': 4218, 'incr': 8155, 'countdown': 4897, 'remind': 12625, 'clockw': 4355, 'bi': 3018, '33': 982, '457256': 1170, 'pebbl': 11268, 'ebony': 5920, 'macass': 9447, 'facepl': 6370, '1200': 247, '3v': 1091, 'toxicodorlessw': 15200, 'basedhypoallergenicdry': 2806, 'link': 9200, 'masculin': 9607, 'cadet': 3802, 'milit': 9886, 'washablevelcro': 15956, 'kore': 8820, 'crim': 4999, 'splendid': 14040, 'fishy': 6581, 'headgear': 7697, 'textil': 14909, 'mor': 10063, 'costumesmanufact': 4864, 'ha': 7540, '149cpkmdchild': 339, '1child': 519, 'ferocy': 6494, 'roam': 12839, '30x30': 940, 'city': 4263, 'spasilk': 13968, 'szh1258': 14678, 'spg': 14008, 'brb000108012mo': 3523, 'sawybyt': 13100, 'elmo97688': 6024, '9b': 1796, '102': 158, '13238': 305, 'rocket': 12856, 'prix': 12165, 'lightyear': 9150, 'inchx30': 8136, 'cottonlap': 4880, 'plus': 11568, 'incid': 8137, 'watermelon': 15986, 'script': 13206, 'fragol': 6830, 'sunk': 14509, 'bruc': 3648, 'springsteen': 14087, '1692015': 400, 'merchand': 9770, 'sony': 13902, 'mus': 10177, 'convers': 4769, 'foldov': 6742, 'pu': 12259, 'setpicot': 13327, 'edgeback': 5945, 'disguisemanufact': 5593, 'dg': 5480, '83868pair': 1641, 'nyc': 10741, 'ultimatemotorcyc': 15462, 'harley': 7639, 'driveway': 5773, 'bat': 2819, 'thrilling': 15025, 'headlight': 7698, 'chargersharp': 4094, '6v': 1474, '4ah': 1213, 'mph': 10127, 'kg': 8690, 'pub': 12260, 'stool': 14268, 'billiard': 3036, 'fixt': 6605, 'meteo': 9805, 'drago': 5719, 'df105lrf': 5478, 'ripcord': 12807, 'launch': 8939, 'descriptioncollect': 5372, 'compet': 4647, 'beyblad': 3004, 'oppon': 10902, 'adib006w99nho': 2048, 'noa': 10560, 'lily': 9159, 'bishop': 3068, 'smockinghand': 13780, 'rosettesdel': 12899, 'hath': 7661, 'cottong': 4876, 'comfortablegr': 4603, 'printslap': 12154, 'dressingmachin': 5756, 'drysnap': 5800, 'closurefold': 4372, 'storagefold': 14273, 'believ': 2936, 'trusty': 15342, 'dinglehopperprincess': 5545, 'edgy': 5947, '9m': 1800, 'sockset': 13852, 'pnk': 11576, 'kerchief': 8680, 'tapestry': 14739, 'ak': 2165, 'charmmykitty': 4100, 'rescu': 12666, 'scap': 13119, 'vault': 15728, 'hotel': 7932, 'jail': 8429, 'sidewalk': 13526, 'unlock': 15563, 'actiontech': 1917, 'playset': 11545, 'dispatch': 5608, 'projectil': 12199, 'blob': 3238, 'elev': 6010, 'lobby': 9252, 'ray': 12467, 'satellit': 13077, 'antenn': 2356, 'ax': 2640, 'bank': 2768, 'setgr': 13323, '23585': 746, 'husband': 7997, 'wif': 16128, 'own': 11034, 'foothil': 6762, 'vermontconveny': 15770, 'comfortablemachin': 4604, 'descriptionsweet': 5387, 'jojo': 8561, 'noveltysku': 10636, '057mpn': 85, '057always': 84, 'mountain': 10101, 'kardash': 8643, 'kollect': 8808, 'schmoozing': 13155, 'pont': 11715, 'minas': 9900, 'robby': 12844, 'ronn': 12879, 'nicol': 10460, 'gauzy': 7081, 'ladylik': 8864, 'forgo': 6788, 'shapewear': 13370, 'harlequin': 7638, 'bodycon': 3310, 'showstop': 13489, 'thrown': 15035, '90cm': 1740, 'skat': 13624, '80cm': 1617, 'nin': 10479, 'effort': 5968, 'inh': 8221, 'carv': 3951, 'flattery': 6630, 'decollet': 5273, 'ottom': 10962, 'cocktail': 4476, 'peekaboo': 11278, 'houndstoo': 7938, 'cleav': 4328, 'seduc': 13263, 'deal': 5247, 'curviest': 5118, 'goldton': 7301, 'abund': 1862, 'buoy': 3721, 'richard': 12775, 'imperfect': 8098, 'downtown': 5707, 'nightl': 10465, 'strikingly': 14362, 'gleam': 7221, 'slinky': 13726, 'sizzl': 13621, 'dusk': 5840, 'dawn': 5211, 'makeov': 9498, 'dart': 5203, 'standby': 14149, 'hect': 7738, 'finess': 6547, 'swoop': 14647, 'opposit': 10905, 'emphas': 6072, 'dan': 5187, 'kay': 8658, 'pencil': 11290, 'descend': 5365, 'embl': 6043, 'glamo': 7211, '130cm': 300, 'bangl': 2766, 'danny': 5193, 'godet': 7274, 'blaz': 3216, 'sex': 13343, 'standout': 14150, 'fiery': 6523, 'metaph': 9804, 'twee': 15402, 'subt': 14467, 'worthy': 16285, 'structured': 14401, 'aur': 2589, 'trapez': 15242, 'filigr': 6534, 'lux': 9382, 'inject': 8224, 'florentin': 6673, 'lav': 8950, 'cosmopolit': 4860, 'ronny': 12880, 'glimps': 7228, 'bombshel': 3333, 'asset': 2529, 'flowy': 6701, 'flaw': 6637, 'cupsfabr': 5101, 'polyestercol': 11678, 'plummet': 11564, 'proport': 12217, 'beachy': 2868, 'prowl': 12245, 'uptown': 15638, 'foolproof': 6759, 'jbs': 8454, '128cm': 279, 'glamourousapprox': 7212, '128cmfabric': 280, 'sizzlin': 13622, 'slend': 13715, 'co': 4457, 'temptress': 14868, 'curvac': 5116, 'flirtiest': 6660, 'etch': 6217, 'delect': 5313, 'intim': 8303, 'iridesc': 8346, 'taup': 14779, 'va': 15688, 'voom': 15875, 'la': 8846, 'mood': 10051, 'strikes': 14360, 'saunt': 13091, 'scub': 13218, '85cm': 1659, 'utop': 15679, 'whittl': 16106, 'sacr': 12982, '135cm': 310, 'driv': 5772, 'emerald': 6055, 'vog': 15860, 'crank': 4961, 'hued': 7974, 'brac': 3491, 'gasp': 7066, 'carpet': 3938, 'bateau': 2824, 'dead': 5243, 'cupsapprox': 5100, '70cmfabric': 1494, 'mesm': 9783, 'pic': 11418, 'monochrom': 10018, 'patio': 11214, 'georget': 7133, 'soon': 13905, 'forgot': 6789, 'priorit': 12158, 'mandarin': 9522, 'lou': 9319, 'primev': 12138, 'goddess': 7273, 'indulg': 8179, 'limitless': 9166, 'headlin': 7699, 'de': 5240, 'summon': 14497, 'shar': 13371, 'grec': 7398, 'scarlet': 13122, 'bustlin': 3747, 'celest': 4020, 'twenty': 15410, 'orn': 10940, 'gala': 7035, 'bugl': 3694, 'arrang': 2484, 'hotty': 7936, 'curvy': 5119, 'bengalin': 2960, 'hith': 7831, 'amongst': 2278, 'paparazz': 11148, 'platform': 11532, 'nud': 10700, 'necksleevelessfl': 10358, 'embellishmentty': 6041, 'skirtwov': 13669, 'constructionfabr': 4728, 'spandexc': 13952, 'covet': 4926, 'lightheart': 9142, 'triangl': 15280, 'culmin': 5087, 'sultry': 14492, 'weekday': 16029, 'teas': 14826, 'trac': 15208, 'supermodel': 14530, 'batw': 2839, 'downward': 5708, 'dowdy': 5701, 'exot': 6298, 'pluck': 11560, 'electr': 6001, 'smokin': 13784, 'swish': 14639, 'phenom': 11383, 'hon': 7883, 'debut': 5260, 'gussy': 7517, 'haut': 7666, 'accout': 1892, 'sexiest': 13344, 'daytim': 5225, 'bedeck': 2901, 'prodigy': 12179, 'lon': 9275, 'length': 9046, 'fortun': 6805, 'panach': 11125, 'thym': 15046, 'swingy': 14636, 'tonight': 15138, 'smok': 13781, 'alarm': 2174, 'illud': 8076, 'daylight': 5218, 'extraordin': 6324, 'nichol': 10455, 'exclam': 6283, 'collid': 4549, 'forefront': 6777, 'facad': 6367, 'correspond': 4849, 'trot': 15325, 'ruff': 12937, 'perky': 11338, 'knif': 8783, 'tremend': 15267, 'smoky': 13785, 'nowh': 10640, 'els': 6026, 'parallel': 11165, 'plung': 11567, 'flyaway': 6720, 'tomorrow': 15131, 'evok': 6266, 'veil': 15741, 'kathy': 8652, 'robert': 12846, 'behold': 2929, 'traff': 15215, 'pinnac': 11468, 'perceiv': 11320, 'queen': 12348, 'hundr': 7987, 'strategically': 14306, 'formalwear': 6794, 'fantas': 6402, 'daydream': 5216, 'bridesmaid': 3591, 'mediter': 9722, 'bd7196': 2862, 'jessic': 8513, 'howard': 7951, 'fierc': 6522, 'sashay': 13069, 'jaclyn': 8424, 'smi': 13772, 'compr': 4665, 'ush': 15668, 'trait': 15222, '75cmfabric': 1534, 'supl': 14537, 'column': 4586, 'earthy': 5888, 'criss': 5010, 'grisb': 7433, 'london': 9276, 'prettiest': 11863, 'footloos': 6763, 'borrow': 3377, 'slouchy': 13742, 'lust': 9379, 'strip': 14369, 'monacrom': 10006, 'chffon': 4146, 'boobtub': 3344, 'workplac': 16270, 'resta': 12696, 'maggy': 9469, 'refin': 12563, 'nawtyfox': 10287, 'boatneck': 3298, 'host': 7930, 'baroqu': 2792, 'peasy': 11266, 'jad': 8427, 'threat': 15017, 'storm': 14276, 'gor': 7324, 'upcom': 15615, 'elab': 5988, 'vict': 15802, 'summertim': 14494, 'indistinct': 8171, 'invis': 8323, 'eth': 6220, 'bril': 3599, 'shimmy': 13422, 'coher': 4491, 'moonlight': 10054, 'workday': 16266, 'starry': 14166, 'synt': 14661, 'bamboo': 2750, 'unnot': 15567, 'loung': 9323, 'nit': 10529, 'stak': 14142, 'ew0122': 6269, 'dishy': 5600, 'foreground': 6778, 'akin': 2169, 'fleck': 6642, 'medal': 9716, 'apostroph': 2395, 'scheme': 13154, 'bistro': 3074, 'girlfriend': 7199, 'impuls': 8112, 'craz': 4968, 'luncheon': 9372, 'capelet': 3883, 'admir': 2068, 'shot': 13466, 'wit': 16214, 'shindig': 13424, 'uncomply': 15501, 'lib': 9106, 'stark': 14162, 'jumpsuit': 8601, '80s': 1621, 'micropl': 9852, 'perhap': 11332, 'derry': 5362, 'corey': 4832, 'hanky': 7613, 'stair': 14140, 'pizazz': 11492, 'tying': 15431, 'scribble': 13205, 'march': 9551, 'cad': 3800, 'epaulet': 6157, 'cloqu': 4357, 'cout': 4916, 'partygo': 11190, 'amand': 2251, 'lan': 8884, 'hardy': 7636, 'splendidly': 14041, 'stupend': 14418, 'trump': 15337, 'arrest': 2486, 'corset': 4854, 'dressesremov': 5750, 'strapscorset': 14303, 'detailexpos': 5433, 'closurefal': 4371, 'lengthm': 9074, 'elastanec': 5992, 'quiz': 12374, 'knowledg': 8798, 'boundless': 3449, 'punny': 12291, 'cue': 5066, 'sarong': 13067, 'graz': 7392, 'catwalk': 3990, 'swanky': 14591, 'cond': 4683, 'fool': 6758, 'glitzy': 7235, 'limb': 9163, 'cour': 4910, 'bling': 3231, 'starlit': 14165, 'quadrupl': 12333, 'dying': 5858, 'cling': 4347, '105cm': 166, 'rin': 12794, 'di': 5481, 'montell': 10028, 'energet': 6105, 'masterpiec': 9619, 'bridg': 3592, 'devast': 5463, 'jazz': 8450, 'openwork': 10893, 'sar': 13063, 'sensu': 13291, 'attir': 2568, 'cumbersom': 5090, 'spheres': 14010, 'chapel': 4084, 'bodice': 3306, 'backzip': 2708, 'back100': 2683, 'cli': 4339, 'croc': 5014, 'mixt': 9952, 'brushstrok': 3663, 'tant': 14735, 'lacey': 8853, 'necklineful': 10349, 'drama': 5725, 'backback': 2686, 'closure100': 4363, 'ew0093': 6268, 'sapphir': 13061, 'domin': 5674, 'belov': 2944, 'pav': 11231, 'garnet': 7057, 'nix': 10535, 'beckon': 2896, 'destin': 5426, 'adam': 1925, 'levin': 9101, 'shearl': 13391, 'fract': 6828, 'pricey': 12124, 'bomb': 3332, 'lastin': 8922, 'cashm': 3959, 'abras': 1838, 'supplex': 14539, 'ski': 13631, 'undersid': 15518, 'aquacheck': 2437, 'membr': 9753, 'cellphon': 4023, 'thermolit': 14956, 'lambskin': 8877, 'zealand': 16448, 'windcheck': 16147, 'squal': 14113, 'windproof': 16152, 'thermcheck': 14953, 'misplac': 9938, 'strauss': 14311, 'linear': 9175, 'furnac': 7003, '650': 1429, 'goos': 7320, 'lightest': 9141, 'warmest': 15938, 'icy': 8051, 'urb': 15641, 'jacketth': 8417, 'bulky': 3704, 'thestruct': 14962, 'covington': 4927, 'cook': 4781, 'fitfit': 6588, 'stretchabledetail': 14346, 'til': 15064, 'measurements': 9706, 'lengthsleevebustshoulderm66cm63cm98cm43cml68cm64cm104cm45cmxl70cm65cm110cm47cm': 9076, 'map': 9542, 'gust': 7518, 'trol': 15321, 'commut': 4628, 'snowstorm': 13829, 'lofty': 9266, 'toastiest': 15096, 'drioff': 5769, 'brisk': 3605, 'deflect': 5300, 'blustery': 3280, 'workvest': 16275, 'frigid': 6923, 'windy': 16158, 'teflon': 14850, 'napp': 10254, 'polyfil': 11693, 'slash': 13682, 'gees': 7094, 'jeal': 8459, '550': 1294, 'primaloft': 12134, 'sleet': 13692, 'seep': 13268, 'arct': 2453, 'etern': 6219, 'chock': 4192, 'chilliest': 4167, 'windbreak': 16146, 'nordictrack': 10601, 'bung': 3718, 'hoodedfit': 7896, 'measurementm': 9705, 'length64cmbust98cm': 9050, '60cm': 1383, 'shoulder40cml': 13470, 'length65cmbust102cm': 9052, '61cm': 1401, 'shoulder41cmxl': 13471, 'length67cmbust106cm': 9056, '62cm': 1407, 'shoulder42cmxxl': 13473, 'length69cmbust110cm': 9060, '63cm': 1413, 'shoulder43cm': 13474, 'hesit': 7779, 'athletech': 2550, 'nordictrackoftentim': 10602, 'conundr': 4764, 'ripstop': 12812, 'smug': 13796, 'hurdl': 7993, 'precipit': 11816, 'sketchy': 13629, 'outwear': 11000, 'staticoverview': 14177, 'colorfit': 4566, 'lengthsleevebustshould': 9075, 'm62cm60cm96cm42cml64cm61cm100cm43cmxl66cm62cm104cm44cmxxl68cm63cm108cm45cm': 9435, 'errand': 6182, 'problemwh': 12172, 'roof': 12882, 'drawcord': 5730, 'ticket': 15051, 'cd': 4010, 'worst': 16284, 'subdu': 14443, 'marbl': 9548, 'barrel': 2793, 'dockersdesign': 5654, 'dock': 5653, 'conserv': 4718, 'dicky': 5513, 'menswear': 9760, 'brok': 3623, 'roebuck': 12864, 'invig': 8321, 'coldstay': 4502, 'harshest': 7650, 'partic': 11183, 'dust': 5841, 'nano': 10245, 'molecul': 9996, 'slough': 13743, 'fido': 6518, 'assn': 2533, 'rak': 12424, 'sandston': 13051, 'chor': 4204, 'topco': 15152, 'midwest': 9870, 'mp3': 10124, 'nord': 10600, 'slopeswrap': 13738, 'throws': 15036, 'jacketwil': 8418, '3in1': 1072, 'snowboard': 13823, 'thru': 15037, 'audio': 2579, 'snowskirt': 13828, '2xl': 910, '58': 1321, '3xl': 1095, '4xl': 1245, 'engl': 6113, 'forecast': 6776, 'resy': 12713, 'reek': 12552, 'thermaskin': 14952, 'gait': 7033, 'slush': 13752, 'bri7004099m': 3588, 'john': 8556, 'henry': 7765, 'stav': 14180, 'styleno': 14428, 'legend': 9019, 'bellow': 2941, 'entry': 6144, 'handwarm': 7603, 'outbutton': 10970, 'trudg': 15333, 'ruin': 12945, 'land': 8886, 'troph': 15324, 'trench': 15268, 'shed': 13394, 'explod': 6309, '124': 264, '3x': 1093, 'polysatin': 11701, 'kenne': 8674, 'waterfowl': 15983, '46': 1180, '442cp802': 1151, 'xxs': 16367, '5x': 1360, '54': 1284, '7x': 1601, '8x': 1728, '9x': 1808, '10x': 201, 'guess': 7484, 'widest': 16125, 'return': 12730, 'rma': 12830, 'refund': 12577, 'unus': 15601, 'agil': 2127, 'robust': 12851, 'jacketbutton': 8412, 'striding': 14358, 'streets': 14330, 'jack': 8410, 'frost': 6961, 'shovel': 13483, 'silkscreen': 13555, 'm3620m': 9413, '681676362021': 1448, 'pea': 11251, 'frontfo': 6948, 'pocketstwo': 11633, 'pocketsshel': 11627, 'polyesterapprox': 11673, 'david': 5209, 'tayl': 14783, 'roc': 12852, 'rocawear': 12853, '29': 858, '5xl': 1370, 'omr223h': 10851, 'alpin': 2233, 'southpol': 13935, 'jock': 8548, 'letterm': 9095, 'mckinley': 9682, 'sheepskin': 13397, 'cappuccino': 3889, 'rejo': 12603, 'melton': 9749, '441cm327': 1145, 'whisp': 16095, 'overstitch': 11026, 'doubt': 5696, 'tuff': 15364, 'gunmet': 7510, 'measurementss': 9707, '41': 1112, '441cm330': 1146, 'tent': 14878, 'campout': 3852, 'coin': 4493, 'invest': 8319, 'natty': 10267, 'plentitud': 11553, 'weatherproof': 16016, 'foldaway': 6740, 'deaf': 5246, 'suav': 14439, 'gril': 7421, 'join': 8559, 'tailg': 14711, 'ditch': 5630, 'polartec': 11651, 'airc': 2153, 'hollow': 7853, 'ingeny': 8212, 'overland': 11018, 'highland': 7798, 'wrinkleoverview': 16302, 'blockfit': 3243, 'littledetail': 9238, '64cmbust': 1423, '98cmsleeve61cmshoulder42m': 1790, '66cmbust': 1438, '104cmsleeve63cmshoulder44m': 164, '69cmbust': 1455, '108cmsleeve65cmshoulder45m': 183, '71cmbust': 1504, '112cmsleeve66cmshoulder46m': 217, 'stylishth': 14436, 'jac': 8409, 'j130': 8403, 'drak': 5723, 'dw205bmll': 5849, 'lst': 9342, 'magnattach': 9474, 'mossy': 10078, 'oak': 10752, 'bottomland': 3435, 'bruno': 3651, 'piattell': 11417, 'execut': 6287, 'portray': 11749, 'diesel': 5519, 'shelt': 13411, 'headphon': 7700, 'smartphon': 13767, 'devil': 5468, 'streetsthis': 14331, 'drystalk': 5801, '2xdrystalker': 909, 'russel': 12955, 'polyfib': 11692, 'blac': 3190, 'steady': 14187, 'lifestyl': 9130, '51': 1262, '580aw146': 1322, 'tham': 14917, 'span': 13949, 'merino': 9777, 'basalt': 2803, 'toggl': 15118, 'barn': 2788, '295': 867, 'varvato': 15722, 'rainco': 12414, 'ita': 8378, 'anorak': 2350, 'rothco': 12909, '9960': 1794, 'hyv': 8035, 'buck': 3679, 'resort': 12687, 'zz': 16501, 'jkt': 8538, 'nik': 10470, 'swoosh': 14648, 'crackl': 4950, 'lucy': 9354, 'rumb': 12947, 'umbrell': 15482, 'clim': 4342, 'unzip': 15607, 'handcraft': 7578, 'closuretwo': 4383, 'collarzip': 4537, 'frontbarrel': 6944, 'cuffschest': 5070, 'pocketsd': 11601, 'pocketsleatherdry': 11615, 'cleanimport': 4303, 'rainboot': 12412, 'wm': 16225, 'bk': 3081, 'resin': 12678, 'stiff': 14244, 'scrape': 13184, 'insign': 8257, 'michael': 9830, 'hob': 7836, 'slack': 13679, 'stad': 14134, 'overdr': 11012, 'nasty': 10259, 'avy': 2627, 'maint': 9488, 'leis': 9037, 'stratosphere': 14309, 'warry': 15947, 'thermost': 14960, 'frict': 6915, 'decorationmeas': 5278, 'lying': 9394, 'underarm': 15508, 'marc': 9549, 'ny': 10740, 'rebel': 12502, '43': 1136, 'mm2ud461': 9959, '5k': 1342, 'umbrella': 15483, 'cowhid': 4932, '4mm': 1230, 'kevl': 8682, 'ykk': 16403, 'umbrel': 15481, '3mm': 1079, 'tellurid': 14861, 'whiskey': 16093, 'j133': 8404, 'aveng': 2618, 'prowess': 12243, 'mar': 9544, 'carmel': 3926, 'caban': 3793, 'post': 11761, 'complex': 4657, 'armhol': 2473, 'mediumcol': 9723, 'brownproduc': 3640, 'adb17078631': 1943, 'articfleec': 2496, 'ruby': 12931, 'rivet': 12827, 'lengthsleevebustshoulderm68cm65cm106cm48cml70cm66': 9077, '5cm110cm49cmxl72cm68cm114cm50cmxxl74cm69': 1332, '5cm118cm51cmxxxl76cm71cm122cm52cm': 1333, 'coatwh': 4470, 'hilt': 7810, 'mercury': 9771, 'kia25307533': 8705, 'techno': 14837, 'viscosestyl': 15844, 'nubuck': 10698, 'trimdetail': 15300, 'ezem': 6347, 'arrow': 2487, 'polyesterstyl': 11686, 'utk': 15677, 'logik': 9268, '8f': 1713, '38f': 1046, '22c': 737, '3c': 1064, 'rangedetail': 12439, '90gsm': 1742, 'br309403l': 3488, 'buckmark': 3684, 'leight': 9036, 'record': 12527, '441tm213': 1149, 'albatro': 2179, 'updraft': 15618, 'fend': 6488, 'weather': 16014, 'printingpolyest': 12150, 'fabric44': 6356, 'fury': 7007, 'invad': 8315, 'montgomery': 10029, 'romano': 12874, 'breathableoverview': 3576, '70cmbust98cmshoulder43cm': 1493, '64cm': 1422, '71cmbust102cmshoulder44cm': 1505, '65cm': 1431, 'length72cmbust106cmshoulder45cm': 9065, '66cm': 1437, 'length73cmbust110cmshoulder46cm': 9066, '67cm': 1445, '3n1': 1083, 'stylesoft': 14430, 'leathermid': 8995, 'jacketzip': 8419, 'lininginsid': 9193, 'shrinkoverview': 13499, 'thermalfit': 14951, 'length69': 9059, 'cmbust106': 4409, 'cmsleeve68': 4444, 'cmshoulder46': 4433, 'length70': 9061, 'cmbust114': 4414, 'cmsleeve69': 4445, 'cmshoulder47': 4434, 'length71': 9063, 'cmbust122': 4418, 'cmsleeve70': 4446, 'cmshoulder48': 4435, 'length72': 9064, 'cmbust128': 4419, 'cmsleeve71': 4447, 'cmshoulder49': 4436, 'tact': 14700, 'gi': 7167, 'oversea': 11025, 'govern': 7338, 'cordur': 4830, 'magazin': 9465, 'grenad': 7409, 'apxg2': 2434, 'bgsd': 3016, 'snorkel': 13819, 'kalkask': 8630, '441cp341': 1147, 'mo7': 9966, 'fai': 6380, 'xxxl': 16368, 'mb': 9660, '2501': 787, 'raindrop': 12415, 'jacketdetail': 8413, '73': 1517, 'circumf': 4258, '59': 1324, '67': 1441, '71': 1498, 'tricot': 15292, 'coil': 4492, 'shockcord': 13451, 'wedg': 16024, 'yd2': 16382, '252': 790, 'flashlight': 6623, 'metro': 9815, 'tek': 14852, 'aerodynam': 2093, 'justin': 8611, 'beib': 2930, 'wayn': 15999, '2517': 789, 'ralph': 12426, 'permit': 11343, 'liningmeas': 9195, '64cmsleeve': 1424, '98cm': 1789, '42cml': 1132, '66cmsleeve': 1439, '102cm': 161, '43cmxl': 1142, '68cmsleeve': 1452, '106cm': 169, '45cmxxl': 1172, '70cmsleeve': 1495, '110cm': 210, '47cm': 1193, 'egear': 5972, 'poncho': 11713, 'rainy': 12419, 'dray': 5741, 'hart': 7651, 'huntington': 7991, 'fli': 6652, 'kmart': 8774, 'shred': 13491, 'tam': 14722, 'vig': 15816, 'bely': 2949, 'mc': 9670, 'mer': 9767, 'blizzard': 3237, 'intens': 8279, 'snowbal': 13822, 'farm': 6411, 'western': 16063, 'snowy': 13831, 'sublim': 14445, 'mwj1008006': 10196, 'fak': 6387, 'length66': 9054, 'cmbust95': 4420, 'cmshoulder43': 4430, 'cmsleeve60': 4437, 'length67': 9055, 'cmbust97': 4421, 'cmshoulder44': 4431, 'cmsleeve61': 4438, 'length68': 9057, 'cmbust99': 4422, 'cmshoulder45': 4432, 'cmsleeve62': 4439, 'cmbust100': 4407, 'cmsleeve63': 4440, 'plackethid': 11506, 'cuffsd': 5071, 'pocketsapprox': 11595, 'anvil': 2373, 'zap': 16442, 'gild': 7184, 'activewear': 1919, 'buff': 3690, 'tour': 15188, 'polyureth': 11704, 'joseph': 8573, 'abboud': 1827, 'seattl': 13245, 'slick': 13717, 'shrugs': 13503, 'flyadjust': 6719, 'elasticband': 5995, 'lined': 9176, '441rp313': 1148, 'placketthr': 11512, 'ce': 4012, 'backtwo': 2703, 'ventsreflect': 15756, 'shoulderszip': 13481, 'liningykk': 9199, 'eveng': 6244, 'orgin': 10929, 'waistzip': 15915, 'sak': 13016, 'fif': 6526, 'conceiv': 4676, 'wmn': 16235, 'desgin': 5395, 'slog': 13736, 'lis': 9229, 'longwear': 9289, 'footwear': 6765, '8540': 1656, 'digit': 5534, 'adida': 2064, 'onix': 10861, 'gravel': 7387, 'kc': 8660, 'orv': 10943, 'workshirt': 16272, '8613': 1661, '7070': 1491, 'c55': 3788, 'printingwood': 12152, 'capfiberglass': 3884, 'resistantpolyest': 12683, 'fabric48': 6357, 'fronty': 6959, 'threesnap': 15020, 'relay': 12608, 'plait': 11519, 'lm133cy9': 9247, 'fiberfil': 6511, '35461': 1014, 'rmd': 12831, 'skul': 13673, 'sin': 13583, 'tattoo': 14777, 'somewh': 13896, 'casualfit': 3971, 'length76': 9067, 'cmbust104': 4408, 'length77': 9068, 'cmbust108': 4410, 'length78': 9069, 'cmbust112': 4412, 'length79': 9070, 'cmbust116': 4415, 'cmsleeve64': 4441, 'clairmont': 4273, 'oilclo': 10822, 'millerain': 9891, '1880s': 446, 'bartack': 2800, '2004': 569, 'bern': 2982, 'bsz101bkr360': 3672, 'august': 2585, 'ramy': 12432, 'spandexmachin': 13953, 'brief': 3593, 'ratio': 12460, 'adb22972096': 1954, 'pocketsfit': 11606, 'length63': 9047, 'cmbust109': 4411, 'cmwaist84': 4449, 'cml': 4423, 'cmbust113': 4413, 'cmwaist86': 4450, 'cmxl': 4454, 'cmbust117': 4416, 'cmwaist90': 4452, 'cmsleeve66': 4442, '5cmxxl': 1334, 'cmbust121': 4417, 'cmwaist94': 4453, 'cmsleeve67': 4443, 'cind': 4244, 'stormflap': 14277, 'nip': 10490, 'savvy': 13097, 'rainjacket': 12417, '6000mm': 1373, 'net': 10396, 'linin': 9187, 'grilon': 7424, 'liningtwo': 9198, 'optionpick': 10909, 'christian': 4211, 'audigy': 2578, 'cr21511': 4945, 'foss': 6811, '9922': 1792, 'metropol': 9816, '24oz': 776, 'shadow': 13351, 'ransom': 12441, 'alpinest': 2234, '320660': 968, 'mart': 9585, '5647320': 1306, 'pony': 11716, 'cwpjk12502': 5147, 'drift': 5764, 'euro': 6237, '310250': 946, 'sellerhigh': 13280, 'leatherdesign': 8989, 'panelstraight': 11134, 'cuffsfo': 5072, 'craftm': 4955, 'intact': 8272, 'handsewn': 7598, 'leatherha': 8991, 'liningha': 9192, 'snapsha': 13808, 'pocketha': 11585, 'mm2aw212': 9958, 'length64': 9049, 'cmwaist82': 4448, 'cmshoulder38': 4426, 'length65': 9051, 'cmshoulder39': 4427, 'cmshoulder40': 4428, 'cmxxl': 4455, 'cmwaist88': 4451, 'cmshoulder41': 4429, 'jk13627': 8536, 'shellnotch': 13408, 'kickin': 8710, 'mwj1014000': 10197, 'leatherheavy': 8992, 'zipperstwo': 16472, 'ventsintern': 15755, 'pda': 11248, 'stalwart': 14144, 'burberry': 3723, 'ven': 15749, 'mustard': 10189, 'gun': 7507, 'throat': 15028, 'engrav': 6122, 'cupro': 5099, 'gors': 7328, 'adb25140149': 1979, 'chlo': 4188, 'youth': 16425, 'whilst': 16083, 'philosoph': 11390, 'etho': 6223, 'meanwhil': 9701, 'polyamid': 11666, '11725949': 226, 'productcod': 12182, '2000020656': 555, 'camel': 3836, 'borg': 3371, 'duffl': 5820, 'pashmin': 11194, 'silksku': 13556, 'adb25139964': 1966, 'angelst': 2325, 'outseam': 10991, 'scrubs': 13215, 'bust36': 3745, 'waist29': 15896, 'adb25140069': 1973, 'pajama': 11104, 'suzl': 14578, '104': 162, '108': 179, 'newloc': 10415, 'hong': 7891, 'kongm': 8815, 'cottonbrand': 4870, 'suzlempn': 14579, '48005dimensions': 1197, 'dayssku': 5224, 'adb22833446': 1950, 'earband': 5878, '761205': 1548, 'adb25140122': 1977, '2xlcolor': 911, 'purpleproduc': 12304, 'preshrunk': 11852, 'sideseam': 13524, 'spun': 14105, 'maroon': 9575, 'cottonupc': 4890, '821780007629sku': 1631, 'adb22985855': 1957, 'n98': 10219, '1998': 505, 'elit': 6016, 'grit': 7434, 'gut': 7521, 'nrib': 10656, 'nclub': 10307, 'nsid': 10665, 'nus': 10718, 'nfabr': 10429, 'nmachin': 10550, 'nimport': 10476, 'adb25140066': 1972, 'adb25140054': 1971, 'blackproduc': 3200, 'pocketsupc': 11634, '821780010734sku': 1632, 'adb24126932': 1959, 'largecol': 8909, 'redproduc': 12545, '821780011079sku': 1634, 'adb24126938': 1961, 'adb15136360': 1928, 'adb15136385': 1933, 'cot': 4865, 'shoelac': 13453, 'adb25139961': 1965, '116': 223, '74': 1519, '118': 227, '106': 168, '84003dimensions': 1644, 'adb22833604': 1953, 'adb25140046': 1970, 'moon': 10053, 'adb15136378': 1932, 'adb25140136': 1978, 'akir': 2170, 'arman': 2470, 'bikin': 3031, 'gay': 7084, 'hugo': 7978, 'boss': 3378, 'indy': 8183, 'metrosex': 9818, 'kor': 8819, 'prad': 11807, 'thong': 15008, 'trunk': 15339, 'zappo': 16443, 'zar': 16444, 'adb25140072': 1974, 'adb25140096': 1975, 'earthton': 5887, 'adb15136369': 1929, 'adb15136373': 1931, 'adb25140150': 1980, 'adb15136370': 1930, 'whiteproduc': 16100, 'adb17074939': 1940, 'androgyny': 2309, 'lyn': 9396, 'waistco': 15902, 'rick': 12777, 'ow': 11032, 'boda': 3305, 'eddy': 5941, 'borgo': 3373, 'jay': 8449, 'versac': 15775, 'jason': 8444, 'root': 12887, 'whip': 16088, 'nmed': 10552, 'tempera': 14863, 'howl': 7953, 'greyproduc': 7414, '821780011164sku': 1635, 'adb24126949': 1962, 'tempt': 14867, 'flirtaty': 6659, 'lycr': 9390, 'nightgown': 10464, 'lukewarm': 9358, 'alkalin': 2199, '63001dimensions': 1410, '82cm': 1637, '86cm': 1664, '100cmwarranty': 147, 'adb17520551': 1946, 'unwash': 15603, 'unworn': 15606, 'restock': 12701, 'payp': 11238, '46003dimensions': 1182, 'adb22833415': 1949, 'adb22978016': 1956, 'ncomposit': 10309, 'nap': 10251, 'cordlocksku': 4828, 'adb24130768': 1963, 'retroreflect': 12729, '42bust': 1130, '44bust': 1155, '101': 156, '74003dimensions': 1521, 'adb22833510': 1952, 'innoc': 8237, '67001dimensions': 1442, '78cm': 1583, '90cmwarranty': 1741, 'adb17520553': 1947, '52001dimensions': 1274, '74cm': 1524, '104cm': 163, '76cmwarranty': 1558, 'adb17520517': 1945, 'adb25140108': 1976, 'idr': 8059, 'bedrid': 2904, 'rehabilit': 12589, 'paralys': 11166, 'adb25099272': 1964, 'adb25140031': 1969, 'elevens': 6011, 'kitschy': 8759, 'cult': 5088, 'acces': 1880, 'priv': 12164, 'deen': 5284, 'ozzy': 11049, 'artesan': 2491, 'knight': 8784, 'jens': 8502, 'defac': 5292, 'adb25192089': 1981, 'rectangul': 12533, '150x45': 367, 'israel': 8372, 'galil': 7039, 'slik': 13722, 'adb5900213': 2011, 'earbud': 5880, 'adb25139976': 1968, '74001dimensions': 1520, 'adb22833498': 1951, 'adb25139967': 1967, '41026dimensions': 1113, 'adb22833399': 1948, '821780010739sku': 1633, 'adb24126937': 1960, 'allison': 2210, 'brittney': 3613, 'camisol': 3844, 'skintight': 13660, 'knockout': 8792, 'backsid': 2699, 'daywear': 5227, 'shoulderad': 13477, 'britney': 3611, 'crimson': 5000, 'colord': 4562, 'supim': 14535, 'jewelneck': 8519, 'invit': 8325, 'hangout': 7609, 'san': 13044, 'bye': 3773, 'vip': 15830, 'unstruct': 15596, 'honeycomb': 7888, '1d': 522, 'lacy': 8860, 'frontsplit': 6956, 'pocketslong': 11618, 'buttery': 3756, 'midchest': 9858, 'scintil': 13166, 'flyway': 6726, 'smoothest': 13790, 'silkiest': 13553, 'chino': 4178, 'mongol': 10011, 'rom': 12872, 'overboard': 11006, 'streaked': 14319, 'fireplac': 6569, 'susp': 14569, 'homespun': 7875, 'drapy': 5728, 'supima': 14536, 'fashionista': 6418, 'counterpart': 4898, 'dangl': 5190, 'rejuv': 12604, 'comfortabletry': 4606, 'lad': 8861, 'borderlin': 3370, 'countless': 4902, 'magaschon': 9464, 'dian': 5498, 'von': 15873, 'furstenberg': 7006, 'alexandr': 2188, 'stylef': 14425, 'mottl': 10096, 'illumin': 8078, 'damask': 5185, 'onlook': 10863, 'arty': 2503, 'wlns': 16224, 'repertoir': 12647, 'reinterpret': 12597, 'lipstick': 9219, 'ub': 15444, 'threaded': 15014, 'sprigged': 14081, 'extrav': 6327, 'confin': 4697, 'drab': 5714, 'smat': 13770, 'uncondit': 15503, 'pear': 11260, 'cowlneck': 4934, 'overbear': 11005, 'sharkbit': 13374, 'merid': 9775, 'speckl': 13989, 'knitwear': 8788, 'hacc': 7543, 'harmony': 7643, 'classythank': 4290, 'string': 14363, 'polyestermeas': 11682, 'exhibit': 6293, 'constrict': 4726, 'mohair': 9983, 'bisqu': 3070, 'alfan': 2189, 'detract': 5459, 'theyv': 14969, 'yep': 16391, 'polymid': 11697, 'revel': 12735, 'cla': 4267, 'catchphras': 3978, 'neckband': 10331, 'skylin': 13676, 'unleash': 15558, 'powerh': 11794, 'exempl': 6289, 'pocketless': 11588, 'tusk': 15392, 'cottonmeas': 4882, 'celin': 4021, 'rachel': 12395, 'svelt': 14580, 'lawn': 8954, 'aug': 2584, 'weightless': 16039, 'ting': 15079, 'aztec': 2645, 'fanny': 6400, '72cm': 1514, '92cm': 1754, '42cm': 1131, '59cm': 1328, 'longlin': 9283, 'ho': 7835, 'bid': 3026, 'pinkfabr': 11460, 'dist': 5619, 'kkassel': 8766, 'clhyellow': 4338, '292010': 863, 'vestno': 15783, 'closuresolid': 4379, 'appeas': 2400, 'classicgr': 4286, 'workweek': 16277, 'thisblack': 15001, 'trous': 15327, 'opaqu': 10883, 'theblack': 14929, 'fuzz': 7019, 'hairy': 7559, 'wintry': 16175, 'dresscrew': 5749, 'necklong': 10352, 'lookth': 9297, 'boyfriend': 3475, 'choir': 4196, 'hood2': 7895, 'wispy': 16213, 'sweatersshort': 14610, 'sleevem': 13699, 'blendc': 3223, 'hoodiebuddy': 7900, 'saw': 13098, 'lineup': 9184, 'az': 2642, 'peafowl': 11257, 'snuf': 13834, 'popcorn': 11724, 'unnecess': 15566, 'tweedy': 15403, 'spandexmeas': 13954, 'giant': 7172, 'nosleev': 10616, 'aprint': 2432, 'noembel': 10567, 'nonumb': 10593, '0lining': 124, 'noclos': 10564, 'aaddit': 1822, 'frontasymmet': 6943, 'fits': 6597, 'smallcol': 13761, 'grayfabr': 7390, 'rayonmeas': 12469, 'strappy': 14299, 'gypsy': 7527, 'ultrasoft': 15475, 'alpac': 2230, 'maison': 9492, 'martin': 9588, 'margiel': 9557, 'angor': 2328, 'drool': 5777, 'franco': 6837, 'ziggy': 16460, 'winky': 16168, 'dressiest': 5753, 'beaut': 2890, 'befit': 2919, 'versatilitysleek': 15777, 'unadorn': 15486, 'unobtrud': 15569, 'collarbon': 4527, 'neckglit': 10337, 'screenprintlong': 13200, 'cutoff': 5136, 'crisply': 5008, 'jon': 8566, 'sweaterth': 14611, '78': 1580, 'nubby': 10696, 'sumptu': 14498, 'bouc': 3439, 'opportun': 10903, 'quoty': 12378, 'rebecc': 12501, 'stripey': 14374, 'vneck': 15858, 'onyx': 10877, 'monday': 10009, 'wednesday': 16025, 'saturday': 13084, 'upward': 15639, 'ribmeas': 12771, 'fred': 6846, 'risto': 12821, 'luxur': 9385, 'paul': 11229, 'ka': 8619, '73cm': 1518, 'ontrend': 10873, 'hoodysequin': 7906, 'screenprintsoft': 13201, 'bell': 2938, 'sclothes': 13168, 'inchbust': 8121, 'inchwa': 8135, 'inchsleev': 8133, 'inchshould': 8132, 'lclothes': 8968, 'mclothes': 9683, 'xlclothes': 16352, 'shoulderhem': 13478, 'sleevesraw': 13710, 'maxmar': 9649, 'okr': 10828, 'pocketsbo': 11598, 'lill': 9158, 'n97': 10218, 'pim': 11451, 'npim': 10643, 'nlill': 10545, 'nmad': 10551, 'funkymetal': 6995, 'sleeveknit': 13695, 'edgey': 5946, 'ponchowash': 11714, 'feelroebuck': 6472, 'ringspun': 12803, 'relig': 12613, 'ricky': 12780, 'streaking': 14321, 'longev': 9281, 'lee': 9005, 'bootcut': 3361, 'cyclon': 5149, 'dung': 5830, 'vik': 15817, '884m': 1676, 'workwear': 16276, 'obsc': 10761, 'unsanf': 15584, 'selvedg': 13282, 'oldest': 10837, 'tokyo': 15122, 'whisk': 16091, 'dockwork': 5655, 'repair': 12644, 'submarin': 14446, 'xlin': 16353, 'wrangl': 16294, 'crazy': 4969, 'ary': 2504, 'checkm': 4110, 'nevad': 10404, '10011753': 144, 'fr': 6826, 'fro55395u': 6930, 'sw': 14581, 'u36': 15441, 'infery': 8195, 'spruced': 14102, 'friday': 6917, 'heft': 7741, 'fro55450i': 6932, 'bitton': 3078, 'mont': 10027, 'streetmoda': 14329, '32x32': 981, '34x32': 1005, '36x32': 1031, '38x32': 1048, 'bm13870': 3282, 'safado': 12985, '812u': 1626, 'spad': 13945, 'loaf': 9250, 'jord': 8570, 'craig': 4958, 'mannequin': 9536, '36x34': 1032, 'pewt': 11371, 'accentspleas': 1874, 'hangin': 7608, 'die': 5516, 'avid': 2621, 'pockets15': 11593, 'knee15': 8780, 'voil': 15863, '100s': 154, 'jeanskinny': 8470, 'fit5': 6583, 'mja8590m': 9953, '887150298477': 1683, 'southern': 13934, 'disappoint': 5563, 'destruct': 5428, 'eastin': 5902, 'liam': 9105, 'fid': 6516, 'barbequ': 2779, '75oz': 1541, 'permang': 11341, 'stonewash': 14266, 'sb42436001': 13110, 'jeansbutton': 8464, 'flyf': 6722, 'designfabr': 5403, '88cm': 1687, 'ecosco': 5933, 'leggingssku': 9022, 'absb00afmlpbq': 1851, 'blackfit': 3198, 'tar': 14742, 'legsb': 9026, 'mroadt': 10135, 'manneqin': 9535, 'sticth': 14243, 'pocketsb': 11596, 'fro55445j': 6931, 'horsesho': 7927, 'fly100': 6717, 'stillw': 14248, 'sb40036001': 13103, 'zac': 16437, 'muscul': 10180, 'm4408pi254': 9426, 'feld': 6481, 'waistband18': 15898, 'atpv': 2561, 'hrc': 7961, '214': 713, 'indur': 8180, 'gra': 7342, 'shion': 13433, '807f': 1615, 'fitb': 6584, 'pockets14': 11592, 'knee14': 8779, '10010330': 141, 'hudson': 7972, 'jeanlow': 8461, 'risetight': 12816, 'fittap': 6599, 'straightsits': 14292, 'hipsfit': 7822, 'thighnarrow': 14981, 'openingembroid': 10888, 'nah': 10228, '25oz': 808, 'sb42136001': 13108, 'greyfit': 7413, 'sz': 14674, 'stitchingb': 14256, 'neuw': 10402, 'iggy': 8065, 'shotgun': 13467, 'barb': 2774, 'mridin': 10131, 'riversid': 12826, 'denimitem': 5333, 'legsit': 9028, 'shank': 13362, 'tobacco': 15100, '32x30': 980, '34x30': 1004, '30x32': 942, '34x34': 1006, 'cmmjc2312185': 4424, '10008400': 134, 'grayson': 7391, 'm4411pi109': 9430, 'monarch': 10007, 'lagun': 8869, 'mb97034001': 9665, 'pantsth': 11145, 'lowr': 9337, 'cop': 4819, 'buddh': 3686, 'drawn': 5733, 'legzip': 9034, 'flymad': 6724, 'usamachin': 15648, 'cold100': 4498, 'flats': 6628, 'aesthet': 2094, 'wantwh': 15927, 'jeansf': 8468, 'waistregul': 15908, 'fitzip': 6601, 'closurestraight': 4380, 'leg100': 9012, 'claud': 4291, '33x32': 993, '40x32': 1110, '1100': 206, 'sportshirt': 14061, 'm4408ld220': 9420, 'mankind': 9534, '1103': 207, 'm4411ljb494': 9429, '625': 1404, 'm4408pi120': 9425, '801d': 1608, '8051195701052': 1614, 'sb42836001': 13111, '10009424': 135, 'c2312185': 3785, 'yig': 16401, 'azrouel': 2644, 'overdy': 11013, 'ryl': 12967, 'mb97634001': 9668, 'washf': 15962, 'cottonstraightregul': 4887, 'closureback': 4366, 'pocketmeas': 11589, 'm4404pi271': 9417, 'heard': 7717, 'outright': 10990, 'snub': 13833, 'creas': 4977, 'sb41436002': 13104, 'm4408ljb316': 9423, 'ranch': 12434, 'cowboy': 4930, 'nelson': 10380, 'sb41736001': 13107, 'akademik': 2166, 'devot': 5470, '2001': 557, 'fabol': 6354, 'rap': 12442, 'lyr': 9400, 'dizz': 5642, 'rasc': 12450, '36x30': 1030, '38x30': 1047, '38x34': 1049, '40x34': 1111, '42x32': 1135, 'a53jn02': 1820, 'nash': 10258, 'm2433sjb482': 9407, 'dean': 5248, 'gordy': 7325, 'm8956smc401': 9440, '375': 1037, 'm4404pi496': 9419, 'zipperstraight100': 16471, 'yesleg': 16395, 'straightclosure': 14287, 'zipperprint': 16469, 'solidsembel': 13884, 'nonenumb': 10582, 'backlin': 2692, 'nostyl': 10618, '4130001613cut': 1116, 'astyl': 2544, '17e': 427, 'pantsaddit': 11143, 'jeansretail': 8475, '54size': 1292, '30x30color': 941, 'blackfabr': 3197, 'denimmeas': 5334, 'm4401bc373': 9415, 'dal': 5181, 'midr': 9864, 'mb96434001': 9663, 'lack': 8856, 'explain': 6308, 'm2231bc395': 9404, 'm2433ljb347': 9406, 'm4408ld397': 9422, 'm4408ljb378': 9424, 'hilfig': 7808, 'm2231ljb436': 9405, 'm4408ld277': 9421, 'hoyl': 7956, 'jackson': 8423, 'bluefit': 3266, 'm4421rs345': 9432, 'm4411slw333': 9431, 'mb97434001': 9666, 'fr55445uj': 6827, 'm4408smc486': 9428, '714': 1501, 'jeansmodern': 8473, 'thighlow': 14980, 'leggraph': 9023, 'bobby': 3301, 'havoc': 7668, 'm4408smc293': 9427, 'dkny': 5644, 'broadway': 3619, 'closureembroid': 4369, 'keag': 8665, 'sb43236001': 13112, 'risky': 12818, 'tufffff': 15365, 'outdoorsm': 10973, 'risky0': 12819, 'fle': 6641, 'whipstitch': 16089, 'rj8778t9': 12829, 'royal': 12923, 'platin': 11533, 'geish': 7095, 'camep154': 3840, 'origam': 10930, 'andr': 2306, 'rj8692t8': 12828, 'bm13854': 3281, 'zath': 16445, '801z': 1609, '00107r0801z': 14, '01': 29, '900': 1735, 'rud': 12935, 'washs': 15970, 'gavin': 7083, 'mb97534001': 9667, 'mb96734001': 9664, '88cmwaist': 1688, '95cm': 1768, '100cm': 145, 'descriptiondenim': 5377, 'lycras': 9393, '95cmhips': 1769, '100cmecosco': 146, 'absb00akwbils': 1852, 'flybrand': 6721, 'waistboot': 15901, 'cutregul': 5140, '10009425': 136, 'mdarem': 9689, 'mb92834018': 9661, 'hipsrelax': 7823, 'legworn': 9033, 'denimembroid': 5331, 'front5': 6941, 'jeansliim': 8471, 'riseslight': 12815, 'legembroid': 9018, 'mtblkb': 10142, 'xtreme': 16362, 'afflict': 2099, 'ufc': 15454, 'vet': 15786, 'randy': 12437, 'conquest': 4713, '28x30': 857, 'xcbc003': 16341, 'tommy': 15130, '711': 1499, 'jeanstru': 8485, 'leglightweight': 9024, 'edmbp109': 5953, 'etiquet': 6229, 'negr': 10374, 'tratamiento': 15246, 'austyn': 2597, 'jeanssmal': 8481, 'pocketbutton': 11584, 'trent': 15278, 'clef': 4329, 'sb41636001': 13106, 'william': 16137, 'rast': 12454, 'look5': 9292, 'mek': 9734, 'genev': 7112, 'thighsit': 14982, 'waistnarrow': 15907, 'openingdark': 10887, 'st': 14130, 'sb41536001': 13105, 'legb': 9016, 'dring': 5767, 'm4': 9414, 'rambl': 12428, 'gunsmok': 7512, '10010839': 142, 'm4610rs375': 9433, 'm5': 9434, 'gulch': 7499, '10010844': 143, 'flat32': 6626, 'jeanslim': 8472, 'm8456pi488': 9439, 'm8456ld229': 9438, 'm4404pi305': 9418, 'mb96134002': 9662, 'brick': 3589, 'berlin': 2979, 'm8454pi273': 9437, 'wowz': 16290, 'm2463lw198': 9408, 'm2464rs384': 9409, 'gri': 7415, 'fullest': 6979, 'sb43836001': 13113, '10010328': 140, '1974': 493, 'taresb': 14743, 'van': 15708, 'v76': 15687, 'jeanss': 8476, '32color': 976, 'outt': 10997, 'ta': 14683, 'da': 5167, 'spank': 13958, 'trist': 15314, 'ment': 9761, 'sb42236001': 13109, 'jeansembroid': 8467, 'pockets5': 11594, 'bootleg': 3363, 'jeansslight': 8480, 'ditress': 5631, 'material5': 9626, 'nautic': 10278, 'ksub': 8831, 'ashtray': 2514, 'winkl': 16167, 'm4401ld196': 9416, 'reckless': 12520, 'mreckl': 10130, 'absb00ao4fvni': 1853, 'stressed': 14340, 'tat': 14759, 'jeanswid': 8486, 'opening5': 10886, 'normandy': 10604, 'embriod': 6049, 'm1normx4': 9402, 'harp': 7644, 'rp9630j3': 12925, 'octagon': 10790, 'enyc': 6150, 'pristin': 12163, 'tilt': 15065, 'southwestern': 13937, 'oomph': 10880, 'sean': 13237, 'eclips': 5925, 'waistlight': 15905, 'destroy': 5427, 'pocketsrelax': 11623, 'fitdistress': 6587, 'pocketszip': 11637, 'closuretradit': 4382, 'jeansskinny': 8479, 'openingslim': 10889, 'waiststitch': 15912, 'pocketstat': 11632, 'drig': 5765, 'bootsit': 3365, 'waistslim': 15911, 'thighbootcut': 14979, 'closureton': 4381, 'legssnap': 9030, 'jeansful': 8469, 'closure5': 4364, 'designfit': 5404, 'skinnym': 13651, 'pocketsdistressedembroid': 11602, 'nightlock': 10467, 'nss': 10677, 'pocketsstraight': 11629, 'washbutton': 15957, 'bullhead': 3708, 'rincon': 12795, 'pensky': 11304, 'designbutton': 5399, 'flym': 6723, 'cottonc': 4871, 'jeanrelax': 8462, 'jeanssit': 8478, 'waiststraight': 15913, 'legbutton': 9017, 'legstraight': 9031, 'benton': 2965, 'bootloos': 3364, 'waistrelax': 15909, 'openingtat': 10892, 'fitmid': 6594, 'riseform': 12814, 'openiingstitch': 10885, 'jeanstap': 8482, 'leg5': 9013, 'essex': 6206, 'thighstraight': 14983, 'straightforward': 14290, 'flyvery': 6725, 'jeanssingl': 8477, 'closurezip': 4385, 'fly5': 6718, 'designloos': 5407, 'fitm': 6593, 'straighten': 14289, 'chillax': 4166, 'woo': 16252, 'gonn': 7310, 'studsbutton': 14413, 'pocketsdoubl': 11603, 'designemboss': 5402, 'backfit': 2689, 'straightmaterial': 14291, 'kim': 8723, 'kourtney': 8824, 'deconstruct': 5274, 'khlo': 8694, 'brows': 3642, 'jeg': 8495, 'springy': 14089, 'glor': 7240, 'vanderbilt': 15709, 'beau': 2889, 'overwhelm': 11031, 'jeansth': 8483, 'demonst': 5325, 'baggy': 2726, 'courtney': 4914, 'streamline': 14325, '526': 1279, '515': 1267, 'elud': 6028, 'gos': 7329, '512': 1264, 'marian': 9558, 'campsit': 3853, 'caf': 3804, 'kk': 8765, '87': 1666, '675': 1443, 'ramon': 12430, 'jeansthank': 8484, 'brunch': 3650, 'designm': 5408, 'laidback': 8871, '545': 1288, 'bootclos': 3360, 'closureprint': 4377, 'noneembel': 10579, 'designnumb': 5410, 'nonestyl': 10584, 'sarah': 13064, 'legaddit': 9014, '6color': 1458, 'bluefabr': 3265, 'stanzino': 14154, 'trendiest': 15270, 'designtummy': 5415, 'panelshap': 11133, 'denimfabr': 5332, 'bootcutclos': 3362, 'pocketsnumb': 11620, 'embellishmentsaddit': 6040, 'oprah': 10906, 'mdz': 9691, 'actress': 1921, 'latin': 8931, 'snakeskin': 13803, 'squat': 14116, 'infinit': 8198, 'luscy': 9377, '09054790': 107, 'silhouetteand': 13539, 'nstyle': 10681, 'noverview': 10638, 'nzip': 10751, 'nbelt': 10296, 'nfront': 10440, 'nback': 10290, 'nfit': 10435, 'nskinny': 10671, 'nankl': 10243, 'nsit': 10668, 'ninseam': 10486, 'n99': 10220, 'pajamas': 11105, 'becky': 2897, 'cj': 4266, 'youd': 16415, 'stanford': 14153, '505': 1252, '09074800': 109, 'nleg': 10542, 'nful': 10441, 'n68': 10214, 'reappear': 12495, 'savviest': 13096, 'expens': 6303, 'triumph': 15316, 'sunset': 14515, 'wak': 15917, '09074899': 111, 'nfloral': 10437, 'nslim': 10673, 'n64': 10213, 'inseamrock': 8248, 'honesty': 7885, 'colomb': 4555, 'le': 8971, 'vant': 15715, 'fel': 6480, 'darn': 5202, 'nyds': 10743, 'billowy': 3039, 'lyocel': 9398, 'midnight': 9861, 'sizingstretch': 13620, 'measurementleng': 9704, '91cm': 1748, '325': 972, 'fisherm': 6579, 'gadget': 7029, 'fineweav': 6553, 'jam': 8432, 'genet': 7111, 'wiskery': 16210, 'paig': 11093, 'laurel': 8946, 'noneleg': 10580, 'leggingclos': 9021, 'bandprint': 2758, 'nonelin': 10581, 'noneaddit': 10578, 'legss': 9029, '93': 1756, 'elasticmeas': 5996, 'pannu': 11135, 'irregul': 8351, 'fer': 6491, 'tarn': 14746, 'resum': 12708, 'bols': 3329, 'toed': 15113, 'fidel': 6517, 'stevy': 14235, 'accomod': 1887, 'twiggy': 15414, 'elliot': 6023, '20x': 703, 'abrad': 1836, 'slimfab': 13724, 'mih': 9879, 'cham': 4065, 'ts': 15345, 'bandolinoblu': 2757, 'andf': 2300, 'rigid': 12790, 'angy': 2330, '34cm': 1002, '24cm': 767, 'siwy': 13606, 'penelop': 11299, 'adriano': 2076, 'goldschmy': 7297, '6885style': 1450, 'shn1013': 13448, '24color': 768, 'lycrameas': 9391, 'jkrorange': 8537, '08': 103, '18listed': 456, 'bermud': 2981, 'egypt': 5976, 'ariann': 2463, 'whiskery': 16092, 'carp': 3936, 'handym': 7605, 'thrifty': 15022, 'wil': 16130, 'doll': 5669, 'jw6064b2': 8615, 'trish': 15312, 'w431b': 15890, 'ventur': 15761, '1369': 312, 'gly': 7251, 'clash': 4282, 'marrakesh': 9579, 'sammy': 13037, '304225': 928, 'c1864zdsize': 3783, 'washfabr': 15963, 'katiebjillsmal': 8653, 'goldfarb': 7291, '107orangephoto': 178, '10list': 192, '6x34': 1477, 'bangladesh': 2767, '1889': 447, 'coog': 4780, 'possess': 11760, 'screams': 13194, 'europ': 6238, 'clubbin': 4398, 'lark': 8914, 'pitch': 11485, 'dawson': 5212, 'zipper98': 16467, 'spandexboot': 13951, 'cutmeas': 5135, 'kut': 8836, 'klo': 8773, 'agav': 2118, 'delgad': 5314, 'cliff': 4341, 'fray': 6842, 'durashield': 5838, 'room2move': 12886, 'splatters': 14038, 'elizabe': 6018, 'seasondress': 13243, 'goldsign': 7299, 'torqu': 15167, 'karry': 8645, 'interlin': 8287, 'marakesh': 9546, 'zipperboot': 16468, 'cut99': 5129, 'spandexrelaxedmeas': 13955, 'jeanscol': 8465, 'fiorucc': 6565, 'naom': 10250, 'campbel': 3849, 'trimsbelt': 15302, 'loopsf': 9301, 'constructionzip': 4729, 'closureslogo': 4378, 'pa': 11052, 'tunis': 15380, 'trekk': 15265, 'colleg': 4546, 'cigaret': 4240, 'js5151b2': 8584, 'legsf': 9027, 'closurebelt': 4367, 'loopsskinny': 9302, 'malibu': 9504, '1363': 311, 'alb': 2176, 'nab': 10222, 'wisk': 16209, '31x32': 964, 'calvin': 3829, 'klein': 8770, '16x30': 410, 'shan': 13361, 'ranaham': 12433, 'jeans': 8463, '27color': 841, 'spandexstyl': 13956, '115212measurements': 222, 'uzmaqu': 15684, 'ehkphoto': 5978, '04': 69, '1list': 530, '06': 88, '07': 94, '1385': 314, 'inseamth': 8249, 'midor': 9862, '09074838': 110, 'navail': 10280, 'n81': 10217, 'roxan': 12921, 'squiggl': 14119, '209': 691, 'unlin': 15562, '1073size': 175, '25color': 799, 'goldfabr': 7290, 'elastercel': 5994, 'pmeas': 11574, 'wanorm': 15925, 'mpmphoto': 10128, '30listed': 935, 'passersby': 11197, 'pra': 11801, 'kel': 8670, 'phrases': 11406, 'izod': 8402, 'natsuk': 10266, 'jeansnatsuk': 8474, 'sharoncohn': 13377, 'aphyellow': 2391, '10listed': 193, 'fet': 6501, 'lovest': 9330, '72201c006': 1510, 'printedf': 12148, 'kylin': 8839, 'hallmark': 7564, 'swan': 14589, 'besom': 2989, '8x32': 1730, 'mebl': 9713, '218ca': 717, '41519style': 1118, 'w108895nv10angel': 15886, 'polyurethanemeas': 11705, 'pocketisy': 11587, 'pocketsspad': 11628, 'midriff': 9866, 'caress': 3917, 'gang': 7047, 'contradict': 4754, 'copacet': 4820, 'loyal': 9340, 'barbz': 2781, 'await': 2629, 'scrollwork': 13210, 'ignit': 8067, 'suffus': 14484, 'spiky': 14021, 'underwir': 15529, 'busty': 3748, 'redefin': 12540, 'swag': 14586, 'skyrocket': 13677, 'attend': 2566, 'ok': 10827, 'khloe': 8695, 'candl': 3860, 'courtesy': 4913, 'chicbr': 4150, 'as': 2505, 'backdrop': 2688, 'strips': 14379, 'dewdrop': 5474, 'benchmark': 2953, 'pitfal': 11486, 'manifesto': 9532, 'adept': 2021, 'bound': 3448, 'synonym': 14660, 'boardroom': 3293, 'decor': 5276, 'song': 13899, 'simon': 13573, 'gauz': 7080, 'decl': 5270, 'overflow': 11014, 'dict': 5514, 'cocomo': 4479, 'tenny': 14876, 'poet': 11641, 'beachsid': 2866, '57cm': 1318, '33cm': 988, '76cm': 1557, 'eventget': 6245, 'ggo': 7159, 'yummy': 16433, 'getaway': 7152, 'singul': 13591, 'spreading': 14078, 'lifelong': 9127, 'zeld': 16452, 'uncomprom': 15502, 'moshk': 10076, 'violin': 15829, 'extrarodin': 6325, 'amend': 2264, 'mauv': 9644, 'reboot': 12503, 'disgu': 5592, 'nerv': 10390, 'medley': 9726, 'boudoir': 3442, 'tug': 15367, 'groovin': 7443, 'yacht': 16371, 'seaworthy': 13247, 'topwh': 15161, 'grapem': 7370, 'latigo': 8930, 'everglad': 6249, 'cruc': 5038, 'brierley': 3595, 'sembl': 13284, 'baubl': 2840, 'collarless': 4530, 'wisp': 16212, 'beg': 2921, 'arboret': 2445, 'blingy': 3232, 'glossy': 7243, 'slithery': 13734, 'pers': 11348, 'otherworld': 10959, 'kaleidoscop': 8628, 'fingerless': 6556, 'presto': 11859, 'drown': 5788, 'backup': 2704, 'vix': 15856, 'topsslim': 15159, 'strapsscoopneckfringed': 14304, 'frontjersey': 6950, 'polyesterc': 11677, 'unparallel': 15575, 'influ': 8201, 'yesteryear': 16397, 'reinv': 12599, 'reminisc': 12626, 'wearablil': 16009, 'playm': 11541, 'pivot': 11488, 'throwback': 15032, 'unsung': 15597, 'strolls': 14389, 'skinniest': 13649, 'snuggest': 13838, 'tang': 14729, 'court': 4912, 'boardwalk': 3294, 'finery': 6546, 'scand': 13118, 'upsid': 15635, 'climb': 4344, 'shear': 13390, 'unr': 15580, 'concert': 4678, 'smit': 13775, 'vying': 15884, 'circul': 4256, 'spicy': 14013, 'drew': 5761, 'laciest': 8855, 'bronz': 3625, 'bandan': 2756, 'pineappl': 11456, 'neckwear': 10363, 'yip': 16402, 'pray': 11811, 'simult': 13582, 'hobo': 7839, 'seiz': 13273, 'entitl': 6141, 'boxtop': 3472, 'immens': 8090, 'revamp': 12734, 'paillet': 11095, 'strand': 14293, 'cutwork': 5141, 'entwin': 6145, 'beguil': 2923, 'apparelwom': 2398, 'indr': 8176, 'spaguett': 13947, 'toastywh': 15098, 'egret': 5975, 'moch': 9971, 'encaps': 6078, 'dew': 5473, 'octob': 10791, 'soooooo': 13906, 'twosom': 15428, 'peer': 11281, 'hazy': 7679, 'lookin': 9295, 'fantasy': 6404, 'marry': 9581, '13z0063': 325, '59850': 1327, 'heus': 7782, 'amaran': 2252, 'parasail': 11169, 'benny': 2961, 'dynamit': 5861, 'thisbas': 15000, 'piecewom': 11434, 'blackberry': 3192, 'rous': 12917, 'stal': 14143, 'sauc': 13086, 'humbl': 7984, 'blousy': 3257, 'payout': 11237, 'claw': 4292, 'erik': 6180, 'sunburst': 14502, 'bustl': 3746, 'topslong': 15157, 'sleevescowl': 13702, 'neckm': 10353, 'aut': 2598, 'cabin': 3795, '030': 59, '544730728': 1287, 'topscrewneck': 15156, 'sleevesfoil': 13704, 'appliquesfabr': 2417, 'smash': 13769, 'inscrib': 8246, 'harry': 7648, 'pinstrip': 11471, 'selv': 13281, 'multitask': 10166, 'ipad': 8333, 'hx15': 8001, 'wx6': 16320, 'compos': 4660, 'dobby': 5651, 'como': 4629, 'pelo': 11288, 'calib': 3821, 'grung': 7461, 'joebrown': 8551, 'sizechart': 13612, 'ct249': 5056, 'html': 7966, 'melang': 9737, 'wwe': 16317, 'punk': 12288, 'wrestl': 16297, '57850': 1316, 'vad': 15694, 'dea': 5241, 'unstop': 15594, 'starw': 14172, 'hb3': 7680, 'tapout': 14740, 'unwind': 15605, 'cvc': 5144, 'goth': 7333, 'shirtscrewneckshort': 13445, 'sleevesm': 13706, 'windowp': 16150, 'bespok': 2990, 'undon': 15533, 'callah': 3825, 'straightedge': 14288, '039897919058': 66, 'shrunk': 13504, 'chamo': 4070, 'shirtmanufact': 13443, 'hait': 7560, 'compel': 4645, 'buttondown': 3760, 'regardless': 12582, 'blam': 3208, '56850': 1308, 'or9080': 10913, 'eery': 5960, 'gh': 7160, 'bass': 2816, 'picstitch': 11429, 'downtim': 5706, 'sarcasm': 13066, 'jungl': 8603, 'cash': 3958, 'sword': 14649, 'foly': 6748, 'beefy': 2911, 'rhino': 12760, 'coverstitch': 4923, 'cottonoff': 4884, 'cottonsoft': 4886, 'brawny': 3521, 'campfir': 3851, 'lur': 9375, 'hind': 7815, 'unequivoc': 15536, 'crushin': 5045, 'untuck': 15599, 'allegy': 2203, 'jax': 8448, 'clay': 4295, 'anarchy': 2291, 'grim': 7425, 'reap': 12494, 'highway': 7804, 'style': 14422, 'striations': 14355, 'peel': 11279, 'griffin': 7419, 'garb': 7051, 'freakin': 6845, 'weighty': 16041, 'loft': 9265, 'raz': 12471, 'ghost': 7163, 'caught': 3991, 'trendplaid': 15272, 'grandp': 7365, 'asid': 2515, 'soldy': 13880, 'watchband': 15977, 'lug': 9355, 'stationery': 14178, 'groom': 7441, 'audubon': 2582, 'shoot': 13455, 'pearlesc': 11262, 'baysid': 2843, 'mascot': 9606, 'washablet': 15954, 'tha': 14915, 'nuan': 10694, 'windowpaneenjoy': 16151, 'broadclo': 3618, 'shirts': 13444, 'ridic': 12786, 'alec': 2184, 'amus': 2284, 'teelook': 14845, 'beef': 2910, 'jazzy': 8452, 'portug': 11750, 'finew': 6552, 'fright': 6922, 'mistak': 9943, 'blueproduc': 3267, 'adb17078823': 1944, 'terrain': 14888, 'keen': 8666, 'gauntlet': 7079, 'inksfirst': 8229, '1st': 539, 'breakfast': 3542, '13v521': 323, 'hendrix': 7762, 'haway': 7671, 'mainland': 9486, 'atmosph': 2556, 'geek': 7093, 'undead': 15506, 'uninvit': 15546, 'layin': 8960, 'feelsup': 6473, 'chisp': 4186, 'cottoncool': 4872, 'dis': 5561, 'handicap': 7582, 'wheelchair': 16077, 'comfortget': 4610, 'adrenalin': 2075, 'junky': 8606, 'mellow': 9742, 'minecraft': 9906, 'arc': 2446, 'shrapnel': 13490, 'repuls': 12660, 'inkschevron': 8228, 'dynasty': 5862, 'ducky': 5815, 'forearm': 6775, 'serg': 13305, 'fort': 6803, 'cinderblock': 4245, 'hee': 7739, 'carl': 3923, 'bratty': 3517, 'infest': 8196, 'licensed3': 9112, 'smack': 13756, '27m': 842, 'sunday': 14504, 'junk': 8605, 'stel': 14206, 'bang': 2764, 'emblazon': 6044, '2012': 661, 'weiland': 16043, 'christopher': 4215, 'sixty': 13609, 'manchest': 9521, 'pastim': 11206, 'becam': 2894, 'chris': 4208, 'largest': 8911, 'gentlem': 7118, '1960': 486, '1970': 490, 'blaqu': 3214, 'branch': 3505, 'elw1358': 6031, 'afraid': 2109, 'cobr': 4472, 'evil': 6263, 'smackdown': 13757, 'bulldoz': 3706, 'couch': 4892, 'pier': 11436, 'cardin': 3911, 'shrinking': 13498, '99299': 1793, 'sahar': 13010, 'wrestleman': 16298, 'hitch': 7829, 'firewood': 6570, 'placketmeas': 11508, 'shold': 13454, 'elw1350': 6030, 'sportco': 14060, 'silkmeas': 13554, 'lt': 9344, 'stringer': 14365, 'pitbul': 11484, 'everybody': 6252, 'zomby': 16482, 'idiot': 8057, 'laps': 8903, 'stewy': 14239, 'squirt': 14122, 'parody': 11179, 'fa13se04': 6349, 'thunder': 15043, 'thunderc': 15044, 'captain': 3896, 'discontinu': 5580, 'stealthy': 14190, 'enemy': 6103, 'lacross': 8858, 'undergon': 15513, 'internet': 8291, 'inquiry': 8243, 'hulkaman': 7982, 'hulk': 7981, 'hog': 7844, 'wwf': 16318, 'gott': 7334, '71cm': 1503, '43cml': 1141, '44cmxl': 1156, '108cm': 182, '45cm': 1171, 'tux': 15397, 'helmet': 7749, 'wetcontrast': 16065, 'details9': 5435, 'exit': 6296, 'patrick': 11218, 'shrunken': 13505, 'slouch': 13741, 'hustlin': 8000, 'hustl': 7999, 'grew': 7411, 'simpson': 13581, 'springfield': 14084, 'unathlet': 15488, 'tv': 15399, 'parad': 11163, 'a03': 1813, 'climacool': 4343, 'coolax': 4810, 'hydrophil': 8013, 'breathabilit': 3574, 'autobot': 2603, 'discern': 5567, 'anthem': 2357, 'just': 8609, 'liberty': 9108, 'bad': 2719, 'beer': 2915, 'mighty': 9877, 'horizon': 7918, 'unless': 15559, 'faul': 6428, 'squad': 14112, 'licky': 9115, '8960': 1705, 'ultraclub': 15466, 'cypress': 5154, '8966': 1706, 'pocketsbutton': 11599, 'grat': 7384, 'madra': 9461, 'penth': 11307, 'spook': 14056, 'proton': 12234, 'ghostbust': 7164, 'pke': 11500, 'paranorm': 11168, 'hyster': 8034, 'underway': 15525, 'caffein': 3805, 'addict': 2016, 'kickstart': 8712, 'bullsey': 3709, 'robot': 12850, 'styleyoung': 14432, 'renegad': 12637, '116389': 225, 'akdmk': 2167, 'frederick': 6847, 'ac67': 1866, 'televid': 14860, 'lantern': 8899, 'gryl': 7462, 'printprint': 12153, 'labelclass': 8849, 'grid': 7416, 'barbecu': 2778, 'walley': 15921, 'lampoon': 8883, 'tempo': 14865, 'franch': 6834, 'loy': 9339, 'intimid': 8304, 'outward': 10999, 'graham': 7353, 'augustin': 2586, 'rf121084': 12755, 'enderm': 6095, 'armo': 2475, '1215484': 260, '091': 112, '886450797031': 1681, 'yoko': 16408, 'ono': 10869, 'lennon': 9081, 'jlw1397': 8540, 'mediumg': 9725, 'look55': 9293, 'polyester2': 11672, 'collarcuff': 4529, 'placketspread': 11511, 'collarpleas': 4531, 'deadpool': 5245, 'disfig': 5591, 'unst': 15593, 'merc': 9768, 'villain': 15820, 'apear': 2388, 'vamp': 15707, 'kyubey': 8841, 'puell': 12268, 'madok': 9460, 'magic': 9470, 'otaku': 10955, 'wolverin': 16240, 'noir': 10569, 'wearwi': 16012, 'perp': 11345, 'skeleton': 13627, 'burg': 3725, 'defend': 5294, 'haterz': 7660, 'neckty': 10361, '1940': 481, 'workroom': 16271, 'fussiest': 7013, 'winetast': 16161, 'brooklyn': 3631, 'mitchel': 9945, 'ness': 10392, 'colorsb': 4572, '1922': 475, 'receipt': 12508, 'detailsku': 5445, 'adb4783120': 1992, 'coconut': 4480, 'collarsku': 4534, 'adb4803449': 2000, 'pocketsleev': 11616, 'thumbholeventil': 15041, 'adb4803509': 2005, 'budget': 3689, 'cremeproduc': 4985, 'bedford': 2902, 'fitsku': 6598, 'adb4803591': 2009, 'parrot': 11180, 'adb4803455': 2001, 'curl': 5110, 'adb4803614': 2010, 'eyeshadow': 6341, 'esc': 6188, 'insetslock': 8253, 'frontinvis': 6949, 'diagnon': 5488, 'seamreflect': 13232, 'shoulderinclud': 13479, 'thumbhol': 15040, 'seamston': 13236, 'detailschest': 5438, 'flapg': 6620, 'washedrol': 15961, 'polyesterreflect': 11685, 'fabricmachin': 6362, 'heatchin': 7728, 'omn': 10849, 'managementomn': 9517, 'protectionsun': 12229, 'pocketpocket': 11590, 'clous': 4394, 'protectiontravel': 12231, 'flatteringextr': 6629, 'renat': 12634, 'gramicc': 7357, 'elbowsshrink': 5999, 'lengthfit': 9071, 'rommy': 12877, 'pineappleproduc': 11457, 'adb4803481': 2004, 'kia25334075': 8706, 'wineproduc': 16160, 'adb4803188': 1999, 'sandproduc': 13048, 'adb4803585': 2008, 'explorationproduc': 6311, 'drireleas': 5771, 'freshguard': 6908, 'xltechnical': 16354, 'resistantc': 12682, 'settingfabr': 13330, 'pinchproof': 11454, 'precid': 11814, 'lash': 8918, 'khakiproduc': 8692, 'adb4803517': 2007, 'adb4803461': 2002, 'adb4783119': 1991, 'carolin': 3931, 'comfortsoft': 4612, 'coverseam': 4921, 'womenupc': 16244, '766369215911sku': 1555, 'adb15385447': 1936, 'reflectivesnap': 12566, 'pocketshand': 11610, 'graphicmachin': 7373, 'bleachus': 3219, 'maroonproduc': 9576, 'perspirationsku': 11356, 'adb15446516': 1938, 'pinkproduc': 11464, 'necklineupc': 10351, '846503081418sku': 1648, 'adb9365683': 2015, 'stylingn': 14434, 'shoulderseam': 13480, 'stitchop': 14257, 'sleevesprincess': 13709, 'texturetechn': 14911, 'hollowc': 7854, 'weightmerino': 16040, 'warmthquick': 15940, 'wickingultraviolet': 16120, '3xlcolor': 1096, 'peonyproduc': 11309, 'buttonssku': 3763, 'adb4783211': 1995, 'tactel': 14701, 'nylontext': 10746, 'chafingmachin': 4051, 'ventssku': 15757, 'adb4776814': 1985, 'dryc': 5796, 'managementthin': 9518, 'seamsextr': 13234, 'backm': 2694, 'athleticdrapy': 2551, 'tankhigh': 14734, 'bralong': 3504, 'hydroskin': 8014, 'womenf': 16242, 'shellform': 13407, 'mobilityoff': 9969, 'days': 5222, 'handpr': 7595, 'shrinkageeasy': 13496, 'missy': 9941, 'sm': 13754, 'adb15413653': 1937, 'layeringfit': 8956, 'stretchodor': 14352, 'controlarmourstretch': 4761, 'polyesterupc': 11687, '707738052089sku': 1492, 'adb4760955': 1984, 'geraniumproduc': 7138, 'adb4783189': 1994, 'dryreflectivityuv': 5799, 'upfsem': 15622, 'fittedimport': 6600, 'printcross': 12147, 'detailclass': 5432, 'adb4803511': 2006, 'willowproduc': 16140, 'adb4783183': 1993, 'cupsmid': 5103, 'stretchclassic': 14348, 'shimmel': 13420, 'windstoppermembr': 16157, 'trichloroethyl': 15287, 'windstop': 16155, 'shellstretch': 13410, 'sliderzip': 13720, 'underflapchn': 15511, 'fabricminim': 6364, 'chafingfl': 4050, 'usagear': 15646, 'trainingcompress': 15220, 'motionmo': 10088, 'bodyantimicrob': 3309, '887162949657': 1684, 'crimsonproduc': 5001, 'placketsku': 11509, 'adb4781848': 1990, 'dwr': 5852, 'rainw': 12418, 'penet': 11300, 'vapo': 15717, 'breathabilitymachin': 3575, 'superficy': 14522, 'trainingloos': 15221, 'motionsign': 10089, 'layerlightweight': 8957, 'mobilityextend': 9968, 'polyesterbasebal': 11675, 'softmachin': 13866, 'bleachchin': 3218, 'comfortableuv': 4607, 'stretchpre': 14353, 'mimim': 9898, 'shrinkageretains': 13497, 'gm': 7256, 'fabricfeminin': 6361, 'neckmad': 10354, '150gm': 363, 'comfortupc': 4613, '712848331207sku': 1500, 'adb8124445': 2013, 'graphicsem': 7375, 'denimproduc': 5335, 'harriton': 7647, 'adb15339425': 1934, 'fitimport': 6590, 'designeasy': 5400, 'fabricfash': 6360, 'protectionomn': 12226, 'managementv': 9519, '40moisture': 1109, 'wicking2': 16119, 'stretchantimicrobialzip': 14347, '887162962465': 1685, 'knithydrolog': 8787, 'insect': 8250, 'blockeromn': 3242, 'protectionrol': 12227, 'sleevezip': 13714, '1232471': 263, '886450730946': 1680, 'protectionsnap': 12228, 'pocketssun': 11630, 'zipperragl': 16470, 'washablemad': 15953, 'breakdown': 3541, 'kia24210899': 8703, 'evap': 6242, 'hemsku': 7760, 'adb4802605': 1997, 'resistantragl': 12684, 'holescontrast': 7849, 'usascreen': 15653, 'ibex': 8041, 'adb4780703': 1988, 'playmad': 11542, 'cottondy': 4873, 'stoneproduc': 14264, 'adb4803169': 1998, 'nectarineproduc': 10366, 'adb4803468': 2003, 'hurley': 7994, 'gts0002060': 7467, '886766400144': 1682, 'managementantimicrob': 9516, 'adb15709162': 1939, 'lycramo': 9392, 'activitysph': 1920, 'placketkeep': 11507, 'separatelymad': 13297, 'adb4780707': 1989, 'betterretrain': 2997, 'alignmentimprov': 2196, 'injuryhelp': 8226, 'paincorrect': 11097, 'imb': 8085, 'injury': 8225, 'purl': 12301, 'deadmau5': 5244, 'dub': 5812, 'funda': 6990, 'nickla': 10459, 'comprehend': 4666, 'collar1': 4525, 'sweaterlong': 14607, 'circuit': 4254, 'interspers': 8296, 'hey': 7787, 'anyway': 2382, 'blur': 3272, 'xx': 16365, 'interpret': 8293, 'vestrib': 15784, 'neckful': 10335, 'frontrib': 6953, 'openingsrib': 10890, 'sheep': 13396, 'vestbutton': 15782, 'frontembroid': 6946, 'hagg': 7549, 'elastanemeas': 5993, 'mockneck': 9974, 'additionsw': 2018, 'unstretch': 15595, 'woe': 16236, 'panace': 11124, 'blood': 3246, 'cred': 4980, 'blitz': 3236, 'refus': 12578, 'lifix': 9134, 'limarsup': 9162, 'lipocket': 9215, 'liintery': 9152, 'earphon': 5885, 'lirib': 9228, 'liful': 9136, 'liscreen': 9230, 'liimport': 9151, 'li': 9104, 'patternv': 11224, 'downy': 5709, 'underco': 15509, 'kashmir': 8647, 'ceremony': 4039, 'debonair': 5256, 'patchwork': 11211, 'rusty': 12957, 'hardc': 7626, 'decim': 5268, 'shell100': 13405, 'liningrib': 9197, 'hoodieappl': 7899, 'chestwov': 4141, 'hoodsherp': 7902, 'liningdrawst': 9190, 'hoodtwo': 7904, 'pocketsrib': 11625, 'collarrusty': 4533, 'pullimport': 12272, 'nonsens': 10590, 'fifty': 6528, 'airspun': 2162, '2x2': 908, 'saddl': 12983, 'cookout': 4803, 'breton': 3583, 'brimbl': 3601, 'kashw': 8648, 'retir': 12724, 'swa': 14582, 'sweaterful': 14606, 'sweaterd': 14603, 'awkward': 2637, 'commando': 4620, 'commend': 4622, 'neckrib': 10357, 'cuffslong': 5073, 'bloomingd': 3251, 'sneaktip': 13813, 'foamposit': 6731, 'ricardo': 12773, 'bury': 3739, 'sweatershirt': 14609, 'length63cmbust102cmsleeve': 9048, 'shoulder39cml': 13469, 'length65cmbust106cmsleeve': 9053, 'shoulder42cmxl': 13472, 'length68cmbust110cmsleeve': 9058, 'shoulder49cmxxl': 13475, 'length70cmbust112cmsleeve': 9062, 'shoulder51cm': 13476, 'navyproduc': 10286, 'armholessku': 2474, 'adb4779577': 1987, 'oakley': 10754, '431861': 1137, 'jerz': 8511, '4528': 1163, 'nublend': 10697, 'brasston': 3514, 'up2': 15609, 'most': 10080, 'cottonb': 4869, 'fg': 6508, 'sweaterv': 14612, 'mismatch': 9937, 'overv': 11027, 'necksolid': 10359, 'blendhenley': 3225, 'sweaterrib': 14608, 'cuffsstyl': 5079, 'timo': 15077, 'dalla': 5183, 'letteringb': 9094, '11315100118bs': 218, 'structures': 14402, 'advnet': 2086, 'mushroom': 10183, 'commem': 4621, 'acrylicmeas': 1914, 'billionair': 3037, 'upland': 15625, 'henrik': 7764, 'vibskov': 15799, 'overcrew': 11009, 'neckembroid': 10333, 'pocket1': 11581, 'pocket2': 11583, 'neckgeomet': 10336, 'cuffsquart': 5075, 'collarrib': 4532, 'tasso': 14755, 'elb': 5997, 'qualityful': 12339, 'pocketsembroid': 11605, 'jsut': 8586, 'myst': 10204, 'frontdrawst': 6945, 'neckwaffl': 10362, 'hoodfleec': 7897, 'liningkangaroo': 9194, 'stripesbe': 14373, 'polyesterb': 11674, 'inspiredsherp': 8262, 'linedhurley': 9177, 'golfm': 7306, 'rocksmi': 12858, 'pocketsful': 11608, 'drawstringlong': 5737, 'quiksilv': 12364, 'collarb': 4526, 'trav': 15247, 'ric': 12772, 'popov': 11727, 'equipo': 6170, 'expir': 6306, 'nullsku': 10704, 'kia16386295': 8697, 'crewnecklong': 4995, 'sleeveslarg': 13705, 'heatgear': 7729, 'mois': 9986, 'outdoorsy': 10974, '511': 1263, 'grizz': 7436, 'tye': 15430, 'griptap': 7431, 'over1': 11002, 'upstrip': 15636, 'smartthread': 13768, 'graffit': 7352, 'screenprinted': 13199, '280g': 850, 'hoodrib': 7901, 'unsight': 15590, 'chuck': 4227, 'surv': 14563, 'collarzipperstyl': 4538, 'rockst': 12859, 'limachin': 9161, 'slap': 13681, 'guernsey': 7483, 'needlework': 10369, 'patternwork': 11225, 'sailbo': 13014, 'carnousty': 3929, 'upembroid': 15619, 'shirtcrewnecklong': 13440, 'charcoalproduc': 4091, 'drawstringupc': 5740, '821780011577sku': 1636, 'adb24126721': 1958, 'wutang': 16316, 'sweater1': 14600, 'analog': 2288, 'endevo': 6096, 'equilibrio': 6166, 'sheild': 13402, 'mishk': 9936, 'lamo': 8881, 'jacketquart': 8415, 'greg': 7407, 'cheststyl': 4140, 'chesthorizont': 4137, 'county': 4907, 'doneg': 5677, 'scratchy': 13191, 'ambassad': 2258, 'antigu': 2364, 'launderedupc': 8942, '846503056140sku': 1647, 'adb15344784': 1935, 'soulland': 13922, 'monrad': 10023, 'lindeberg': 9172, 'shirtkangaroo': 13442, 'frontlong': 6951, 'sleevesunhem': 13713, 'semest': 13285, 'sweaterdoubl': 14605, 'neckgraph': 10338, 'chestlong': 4138, 'sleevesstrip': 13712, 'hemlong': 7756, 'closurev': 4384, 'sweaterdeep': 14604, 'neck5': 10330, 'middlelogo': 9860, 'lightwight': 9149, 'birdsey': 3060, '2x1': 907, 'zipperupc': 16474, '884074018277sku': 1673, 'adb4794624': 1996, 'poly40': 11665, 'didnt': 5515, 'gilbert': 7183, 'windstopp': 16156, 'coach': 4458, 'teamwear': 14819, 'marqu': 9577, 'topcov': 15153, 'sportswear': 14063, '5200': 1273, '5201': 1275, 'insideful': 8255, 'skimpy': 13636, 'comparison': 4639, 'geoffrey': 7126, 'been': 2912, 'sweatercrewneckstrip': 14602, '4662': 1186, 'bgrt': 3015, 'numero': 10707, 'uno': 15568, 'barrio': 2798, 'tijuan': 15063, 'obtain': 10765, 'diary': 5510, 'wimpy': 16143, 'sleeves82': 13701, 'forestproduc': 6784, 'adb4779515': 1986, 'sissy': 13600, 'billabong': 3035, 'oper': 10894, 'polyesterbillabong': 11676, 'sweatshirtbillabong': 14615, 'embroidery300g': 6052, 'drawstringbottl': 5735, 'logotwo': 9270, 'waistimport': 15904, 'hoodstrip': 7903, 'designsoft': 5412, '680': 1447, 'polyesterweb': 11688, 'dnot': 5648, 'hangt': 7611, 'cuffsstrip': 5078, 'prison': 12161, 'the': 14927, 'lukka': 9359, 'closurelong': 4375, 'hawk': 7672, 'dum': 5823, 'sick': 13519, 'cottonscreen': 4885, 'graphicsful': 7376, 'zippertwo': 16473, 'pocketstagless': 11631, 'drawstringmad': 5738, 'exod': 6297, 'parachut': 11162, 'spa': 13942, 'isnt': 8361, 'statuesqu': 14179, 'lodg': 9264, 'nwt': 10738, 'nettiealv': 10398, 'bncpurple': 3289, 'neckstrip': 10360, 'carlo': 3924, 'jockey': 8549, 'sweatp': 14613, 'equest': 6165, 'screens': 13202, 'preticket': 11862, 'adb6860535': 2012, 'moor': 10057, 'teknik': 14854, 'slipov': 13731, 'cricket': 4998, 'graphit': 7378, 'capit': 3886, 'mulish': 10153, 'polyester100': 11670, 'liningful': 9191, 'drawstringsoft': 5739, 'liningq': 9196, 'embroideryscreen': 6054, 'graphicstwo': 7377, 'pocketsimport': 11612, 'orisu': 10936, 'concourt': 4681, 'trilog': 15297, 'baj': 2733, 'rochambeau': 12854, 'canvasdoubl': 3873, 'drawcord1x1': 5731, 'ua': 15442, 'coldgear': 4500, 'sweatshirtid': 14616, 'performancearmo': 11328, 'layersoft': 8958, 'comfortablethr': 4605, 'fitfront': 6589, 'storage7': 14271, 'nylonlight': 10745, 'kany': 8641, 'nebrask': 10327, 'cornhusk': 4840, 'sweatercrew': 14601, 'hal': 7561, 'whatnot': 16071, 'polyesterquiksilv': 11684, 'embroiderylightweight': 6053, 'hoodie240': 7898, 'exag': 6273, 'dy': 5854, 'fleecerib': 6644, 'waisttwo': 15914, 'pocketsg': 11609, 'washedcontrast': 15960, 'drawstringimport': 5736, 'ely': 6032, 'tahar': 14708, 'durkl': 5839, 'bradbury': 3497, 'plndr': 11556, 'zeroxpos': 16454, 'merch': 9769, 'infl': 8199, 'distract': 5624, 'hotpamp': 7933, 'longtim': 9288, 'warmwh': 15941, 'covingtonlook': 4928, 'easystay': 5908, 'andon': 2305, 'larry': 8915, 'foulest': 6813, 'bearablelook': 2884, 'plump': 11565, 'weatherfield': 16015, 'styleinspir': 14426, 'clinch': 4346, 'mackinaw': 9453, 'jou': 8574, 'tunnel': 15381, 'performancehigh': 11329, 'dropsfac': 5785, 'wardrobesnuggl': 15932, 'novemb': 10637, 'heartwarm': 7724, 'pedigr': 11274, 'convint': 4774, 'impost': 8106, 'fashionload': 6419, 'balmy': 2746, 'brut': 3666, 'giacc': 7169, 'stylishov': 14435, 'sizedbutton': 13613, 'overco': 11007, 'cometh': 4597, 'weathertam': 16017, 'coolth': 4813, 'ii': 8071, 'incarn': 8118, 'metic': 9813, 'braet': 3499, 'furry': 7005, 'substitut': 14465, 'splashing': 14036, 'soho': 13873, 'coachm': 4459, 'journ': 8575, 'duvet': 5846, 'despit': 5423, 'dirtiest': 5558, 'fusch': 7009, 'pvs': 12318, 'ltd': 9345, 'impaty': 8096, 'clad': 4268, 'h2j': 7531, 'fronttwo': 6957, 'pocketsremov': 11624, 'trimshel': 15303, 'feathersapprox': 6448, 'dropskeep': 5786, 'superfin': 14523, 'ut': 15671, 'loom': 9298, 'drizz': 5774, 'fickl': 6514, 'ward': 15930, 'jacketso': 8416, 'bodydram': 3311, 'gallery': 7041, 'togglesbutton': 15119, 'smny': 13778, 'fs': 6970, 'microsu': 9855, 'roast': 12841, 'marshmallow': 9584, 'lynx': 9397, 'realt': 12493, 'largewom': 8913, 'warmput': 15939, 'anticip': 2362, 'oftentim': 10815, 'intrigu': 8307, 'featherlight': 6447, 'polarthin': 11652, 'mackintosh': 9454, 'large80': 8908, 'polyester1x1': 11671, 'openingssplit': 10891, 'pocketswhit': 11635, 'drawcordswhit': 5732, 'nickel': 10457, 'fog': 6735, 'nconvert': 10312, 'ndoubl': 10318, 'nprincess': 10647, 'nlong': 10548, 'ninvert': 10489, 'ncent': 10304, 'nshell': 10661, 'nlin': 10546, 'pariswh': 11176, 'bus': 3740, 'jackpot': 8422, 'kia25191850': 8704, 'poof': 11718, 'coatspec': 4468, 'encount': 6086, 'motorbik': 10092, 'haul': 7664, 'bargain': 2785, 'thermomet': 14957, 'sharkskin': 13375, 'raccoon': 12390, 'cuffsremov': 5076, 'thermocloud': 14955, 'outerweardetach': 10977, 'hoodzip': 7907, 'frontzip': 6960, 'pocketsm': 11619, 'marvin': 9592, 'collez': 4548, 'ital': 8379, 'lsw280': 9343, 'ory': 10944, 'pocketsback': 11597, 'beltshel': 2948, 'plackettwo': 11513, 'pocketselast': 11604, 'hem600': 7752, 'braeton': 3500, 'macintosh': 9452, 'longest': 9280, 'chinchill': 4173, 'lum': 9361, 'jacketpack': 8414, 'stroll': 14386, 'comint': 4618, 'bolst': 3330, 'overhead': 11016, '1xproduct': 549, 'descriptionwh': 5391, 'iin': 8072, 'thiswom': 15003, 'outlook': 10988, 'osc': 10947, 'rent': 12641, 'mink': 9914, '44color': 1157, 'brownfabr': 3638, 'suedemeas': 14480, 'jwil': 8616, 'lkmred': 9243, 'fro': 6929, 'motto': 10097, 'cloak': 4352, 'busiest': 3742, 'acrossmed': 1909, 'acrosslarg': 1908, 'acrossx': 1910, 'sought': 13920, 'placketfront': 11505, 'pocketsinset': 11613, 'cuffspolyest': 5074, 'fillingapprox': 6538, 'blah': 3205, 'bland': 3209, 'rectangl': 12532, 'xpos': 16357, 'coatfo': 4465, 'pocket100': 11582, 'shearlingapprox': 13392, 'joemp260': 8553, 'intl': 8305, 'xct': 16342, 'assymet': 2537, 'cbl': 4006, 'chapstick': 4086, 'nil': 10474, '100g': 149, '60g': 1385, 'snozu': 13832, 'joewc222': 8554, 'pocketsfo': 11607, 'hemhid': 7754, 'cuffs600': 5069, 'epauletstwo': 6158, 'cuffsshel': 5077, 'closureeveryth': 4370, 'closuredrap': 4368, 'neckbeltedapprox': 10332, 'closurefront': 4373, 'hipsshel': 7824, 'peak': 11258, 'whim': 16084, 'burd': 3724, 'invas': 8317, 'dre': 5742, 'collarsleev': 4535, 'sleevenecklin': 13700, 'neckprint': 10355, 'solidembel': 13883, 'anumb': 2372, 'pocketslin': 11617, 'liningclos': 9188, 'closureaddit': 4365, 'reversiblebrown': 12737, 'linedlong': 9178, 'fitcom': 6586, 'belts': 2947, 'furmeas': 7001, 'nonesleev': 10583, 'sleevelessnecklin': 13698, 'crewneckprint': 4996, 'yesclos': 16394, 'natot': 10265, 'inl': 8232, 'perspir': 11355, 'modclo': 9977, 'anthropolog': 2360, 'peterp': 11363, 'cognac': 4489, '2122': 710, 'l16230': 8842, '5899': 1323, 'hydrotec': 8015, 'wj001': 16222, 'nippy': 10527, '2039': 683, 'nutr': 10722, 'concho': 4679, 'coyot': 4937, 'shearlingfront': 13393, 'pocketshoodapprox': 11611, 'spreadable': 14076, 'collartwo': 4536, 'vestth': 15785, 'transl': 15235, 'frontnotch': 6952, 'pocketswid': 11636, 'sleevesshel': 13711, 'gunflap': 7508, 'spig': 14019, 'adb4648690': 1983, 'wintertim': 16174, 'hearty': 7725, 'knol': 8793, 'inchhem': 8131, 'yarnsfunnel': 16381, 'collarcontrast': 4528, 'overlock': 11021, 'gloom': 7239, 'small80': 13760, 'colorhow': 4568, 'placekeep': 11502, 'hangerdo': 7607, 'baglet': 2727, 'broil': 3622, '2040': 684, 'l306': 8844, 'closureon': 4376, 'pocketspolyest': 11621, 'furapprox': 7000, 'longth': 9287, 'spree': 14080, 'trapunto': 15244, 'leatherlin': 8993, 'petiteproduc': 11365, 'gusty': 7520, 'cruel': 5040, 'pocketsconto': 11600, 'seamsapprox': 13233, 'surrey': 14561, '10009725': 137, 'rothschild': 12910, 'outlet': 10986, 'orangesnak': 10916, 'adb17078278': 1941, 'yessleev': 16396, 'longprint': 9284, 'detailnumb': 5434, 'frontaddit': 6942, 'coats': 4467, '40color': 1106, 'ivoryfabr': 8399, 'minkmeas': 9915, 'trimmedsleev': 15301, 'detailsnumb': 5447, 'chinchillameas': 4174, 'nwot': 10737, 'deatil': 5252, 'leathermeas': 8994, 'doldrum': 5668, 'apt': 2433, 'pocketsrollup': 11626, 'fitintery': 6591, 'violetproduc': 15828, 'pullupc': 12276, '884074018616sku': 1674, 'adb8128052': 2014, 'adb22972098': 1955, 'fingertip': 6559, 'aquaproduc': 2439, 'adb17078295': 1942, 'leatherstyl': 8996, '7f': 1590, '45f': 1175, '14c': 340, '7c': 1586, 'astrakh': 2541, '008': 20, '010': 30, '012': 34, '014': 37, '018': 46, '8481': 1649, 'iceberg': 8044, 'tasty': 14758, '8485': 1650, 'throug': 15029, 'cwj9810001': 5145, 'wc026': 16001, 'kia22972099': 8698, 'her': 7768, 'celeb': 4016, 'detroit': 5460, 'wj097': 16223, 'frontfaux': 6947, 'cuffstwo': 5080, 'sizeapprox': 13611, 'matern': 9631, 'pregn': 11830, 'placketfaux': 11504, 'shapetwo': 13369, 'grandios': 7361, 'bodyram': 3314, 'tink': 15081, 'trim600': 15299, 'ultraviolet': 15477, 'streamlines': 14327, 'defens': 5295, '350': 1008, 'bernardo': 2984, 'outerwearnotch': 10978, 'frontslit': 6955, 'permashel': 11342, 'pocketsprincess': 11622, 'shapeshel': 13368, 'cwk9871001': 5146, 'outershel': 10975, 'beav': 2893, 'pcbuonomo': 11245, 'clhred': 4337, '082010': 104, 'sleevesnecklin': 13707, 'printembel': 12149, 'sleevesnumb': 13708, 'blackclos': 3194, 'downaddit': 5703, 'skins': 13656, '8color': 1711, 'tanfabr': 14728, 'skinmeas': 13647, 'tabsasymmet': 14693, 'waistsl': 15910, '10kt': 188, 'lumin': 9364, '10k': 187, 'navet': 10282, '5x2': 1361, 'gemston': 7104, '18k': 454, 'fourteen': 6821, '12k': 287, 'solitair': 13886, '14k': 342, 'i1': 8037, 'i2': 8038, 'clar': 4276, 'aquamarin': 2438, 'sterl': 14227, 'cts': 5057, 'filigree': 6535, '9mm': 1801, 'tgw': 14914, 'ruby3': 12932, 'accentssterl': 1877, 'thew': 14966, '400': 1099, 'rajasthan': 12423, 'peacock': 11256, 'gf': 7155, 'bangkok': 2765, 'seventy': 13340, 'showel': 13487, '925': 1752, 'landstrom': 8890, 'dakot': 5180, 'amethyst': 2269, 'topaz': 15151, 'claddagh': 4269, 'di3008899': 5483, 'vvs1': 15882, 'accentsterl': 1878, '10x8mm': 203, '13ct': 315, 'cha': 4047, '6x4mm': 1479, 'kar': 8642, 'tril': 15296, '18ctw': 451, '46ctw': 1189, '8th': 1726, '11x15mm': 244, 'porcelain': 11736, 'cameo': 3839, 'angar': 2320, 'religy': 12614, 'truest': 15334, 'si1': 13514, 'si2': 13515, '60ct': 1384, '74ctw': 1525, 'handset': 7597, 'zircon': 16476, 'lary': 8916, 'honk003': 7892, 'kt': 8832, '1mm': 532, 'hershey': 7777, 'bronzo': 3628, 'tt': 15350, 'omeg': 10846, 'sis': 13599, '037': 64, 'melody': 9744, 'trumpet': 15338, '21ctw': 718, '14kt': 344, 'joan': 8545, 'escrich': 6192, 'now': 10639, 'citrin': 4261, 'decemb': 5266, 'juan': 8587, 'diego': 5518, '1531': 369, 'lec': 9003, 'mex': 9819, '7x5mm': 1603, 'pendantproject': 11296, 'afir': 2106, 'breathtak': 3577, 'prong': 12208, 'anklet': 2339, 'judi': 8588, 'ripk': 12809, 'diamon': 5495, '5ctw': 1335, 'trin': 15304, 'bail': 2731, 'verones': 15772, 'crucifix': 5039, 'kalo': 8632, 'sedon': 13262, 'hagit': 7550, 'ca': 3791, '75mm': 1540, 'clov': 4395, 'tdw': 14810, 'uncommon': 15500, 'interplay': 8292, '7x5': 1602, 'rhodolit': 12763, 'rhod': 12761, 'compuls': 4671, '6mm': 1466, 'katy': 8656, 'quatrefoil': 12346, 'di3008968': 5484, 'vvs2': 15883, 'pendantdiamond': 11294, 'cut10k': 5128, 'gold12k': 7281, 'accentspol': 1875, 'satinblack': 13079, 'plating10k': 11534, 'goldweig': 7303, 'gmlength': 7258, 'mmwidth': 9963, 'mmthis': 9962, 'scrolled': 13208, 'g8079lam': 7025, 'amythest': 2286, 'bezel': 3007, '2ctw': 881, 'necklacepolished14k': 10343, 'goldf': 7289, 'lobster14k': 9254, 'gmthis': 7262, 'enamel': 6077, 'starf': 14160, '36ctw': 1027, 'peridot': 11333, '19ct': 507, '66ctw': 1440, 'panth': 11138, 'ved': 15731, '03': 58, 'swath': 14595, '31ctw': 960, '5x3mm': 1364, '15x10': 384, 'freshw': 6912, 'faberg': 6353, 'eg': 5971, 'chal': 4061, 'cz': 5156, '18in': 453, 'necklacesterl': 10346, 'silverczf': 13560, 'lobstergold': 9255, 'platedsterl': 11531, 'silverweig': 13565, 'senty': 13294, 'lexington': 9102, 'christ': 4209, 'backround': 2696, 'remembr': 12624, 'shamrock': 13360, 'transfix': 15231, 'gaz': 7085, 'quartz': 12343, 'speck': 13988, 'bless': 3227, 'indee': 8162, 'pendant12k': 11292, 'accentspolishedweig': 1876, '05': 81, 'carolyn': 3933, 'pollack': 11660, 'harmon': 7642, 'cinderell': 4246, 'g8031am': 7024, '36mm': 1028, 'afric': 2111, 'conflict': 4699, 'michig': 9834, 'miam': 9828, 'hur': 7992, 'pomegr': 11709, 'vin': 15821, 'geometry': 7129, 'roth': 12908, 'cutpolished10k': 5138, 'goldclos': 7286, 'back12k': 2684, 'accents10k': 1873, 'chines': 4175, 'j330335': 8408, 'vend': 15750, 'repack': 12643, 'qvc': 12380, 'birthston': 3064, 'pendantmatch': 11295, 'lir': 9227, 'init': 8223, 'byzantin': 3777, 'handprint': 7596, '24k': 772, 'widesolidpolishedsatindy': 16124, 'struck14k': 14399, 'goldnot': 7294, 'mezuzah': 9821, 'scrolls': 13209, 'rand': 12435, 'pasek': 11193, 'pendant14k': 11293, 'goldcitrinepolishedweight': 7285, 'gmtotal': 7263, 'ctthis': 5058, 'licensedsilv': 9113, 'chain24': 4054, '2mm': 892, 'sizelobst': 13616, 'claspmad': 4284, '45ctw': 1174, 'sebast': 13248, 'locketenamelspr': 9261, 'ringgold': 12800, 'filled14k': 6536, 'paz': 11239, 'endear': 6093, 'g8081lsa': 7026, '90mm': 1743, 'clawq': 4294, 'goldchain': 7284, 'denv': 5341, 'bronco': 3624, 'pendantweig': 11297, 'goldhollowspr': 7292, 'ring14k': 12797, '13ctw': 316, '9x6mm': 1810, '32ctw': 977, 'ciao': 4236, 'vicenzasilv': 15801, 'astrolog': 2542, 'necklace10k': 10340, 'colorspr': 4579, 'ringtextured18': 12804, 'chain10k': 4053, 'journet': 8577, 'tranquil': 15226, 'feathery': 6449, 'rolo': 12870, 'g8094vl': 7027, 'vitrail': 15850, 'les': 9089, 'necklacespr': 10345, 'ringcrystalgold': 12799, 'tonefashionweig': 15133, 'inth': 8302, 'di3008748': 5482, 'frant': 6841, 'assis': 2531, 'namepl': 10238, 'strung': 14405, 'methodsmoo': 9807, 'amazonit': 2255, 'howlit': 7954, 'beadssign': 2872, 'beadsterl': 2873, 'patin': 11213, 'timedomest': 15069, 'minnesot': 9916, 'catherin': 3984, 'bologn': 3326, '04ctw': 75, 'footprint': 6764, 'ctw': 5060, 'brazil': 3522, 'concav': 4675, 'curb': 5107, 'inchesbril': 8125, 'amby': 2261, 'goldconcav': 7287, 'necklacehigh': 10342, 'finish20': 6560, 'inchesapproxim': 8123, 'gramsord': 7358, 'goldenmin': 7288, 'cathol': 3985, 'kentucky': 8676, 'mtg14k': 10143, 'goldweight': 7304, '20ct': 694, '015ct': 44, '10ct': 184, '11mm': 239, '9x7mm': 1811, 'garunt': 7060, 'hoop': 7912, 'necklacediamond': 10341, 'cutpolished14k': 5139, 'tonespr': 15135, 'toneweig': 15136, 'inwid': 8327, '007': 19, 'mystery': 10205, 'ryan': 12965, 'jonath': 8567, 'teardrop': 14822, '1cttw': 521, 'sideway': 13527, 'carol': 3930, '10mm': 194, 'anthony': 2359, '57449': 1312, '33ctw': 989, '10kwg': 189, 'aladdin': 2173, 'jasmin': 8443, 'afr': 2108, 'nfl': 10436, 'seahawk': 13228, 'czs': 5157, 'whitest': 16103, 'batell': 2825, 'vs1': 15881, 'gms': 7260, 'batik': 2832, 'j325086': 8407, '35ctw': 1018, 'murano': 10175, 'archangel': 2450, '1ct': 520, 'thrift': 15021, 'lowercas': 9335, 'bradley': 3498, 'font': 6752, 'rosy': 12905, 'jes': 8512, '55ct': 1301, 'mop': 10059, '18mm': 458, 'locketpolished14k': 9262, 'goldmoth': 7293, 'pearlhold': 11263, 'photos14k': 11402, 'vermeil': 15768, 'ohio': 10818, 'buckey': 3682, 'osu': 10953, 'desert': 5393, 'marcasit': 9550, '24in': 770, 'this2': 14998, 'cttw': 5059, '24inch': 771, 'thediamond': 14933, 'muck': 10146, 'stonespres': 14265, 'annivers': 2343, 'febru': 6457, 'greek': 7399, '00cttw': 23, 'overdo': 11011, 'overcrowd': 11010, 'metalwork': 9803, 'replic': 12651, 'horseho': 7924, '75ct': 1536, '00ct': 22, 'doggy': 5664, 'canin': 3862, 'tanzanit': 14736, '4ctw': 1217, '35ct': 1017, '50ct': 1255, 'figaro': 6530, 'modernth': 9980, 'transpir': 15239, 'matin': 9634, 'brightest': 3597, 'funkiest': 6993, 'everday': 6248, 'ablaz': 1831, 'bevy': 3002, 'revisit': 12741, 'occasionsnoth': 10782, 'unorna': 15573, 'occasionth': 10783, 'spous': 14067, 'steadfast': 14186, 'flank': 6617, 'baguet': 2729, 'shroud': 13501, 'resurrect': 12711, 'redston': 12548, 'loveth': 9331, 'colorless': 4569, 'bedazzl': 2900, 'recipy': 12517, 'awak': 2630, '5x5': 1365, 'appra': 2422, 'ann': 2340, 'perch': 11321, '9mmmodel': 1802, 'xecpslash002rhsterling': 16347, 'cp': 4940, 'slashmet': 13683, '9mmthis': 1803, 'sterlingcert': 14228, 'authenticityfr': 2600, 'box30': 3468, 'long10mm': 9278, 'beadsfl': 2871, 'tallno': 14720, 'reground': 12586, 'plasticnew': 11529, 'everlast': 6250, 'chainsmodel': 4058, 'xericemn002rgpsterling': 16350, '2mmthis': 894, 'brid': 3590, '8mmmodel': 1721, 'xecpjianzhi018rhsterling': 16344, 'lengthweight16': 9079, 'jianzhimet': 8528, '8mmthis': 1722, '20model': 699, 'xb8ch112': 16339, '20weight': 702, '12cm': 282, '8cm': 1710, 'beadsw': 2874, 'xejianzhi018rgpsterling': 16349, '3mmmodel': 1080, 'xecpmoon025rhsterling': 16346, '3mmthis': 1081, 'jianz': 8527, 'dispers': 5615, '2mmmodel': 893, 'xecpmoon002rhsterling': 16345, 'chainmodel': 4057, 'xedin00055rhsterling': 16348, 'chainmet': 4056, 'sparklemak': 13964, 'corrug': 4852, 'swarovsk': 14593, 'xebead220rhsterling': 16343, '950': 1766, 'gia': 7168, '04mjdt3s7st018396': 77, 'pellin': 11286, 'ubnkbk1600w14d': 15446, 'outth': 10998, 'outd': 10971, 'undo': 15532, 'ubnk17w14dr': 15445, 'occasionwom': 10784, 'conf': 4690, 'meow': 9766, 'granny': 7366, 'ailurophil': 2146, 'amr5m': 2283, '4999': 1210, 'venet': 15751, 'zeghan': 16450, 'lottery': 9318, 'millionair': 9893, 'nestl': 10395, 'accessory': 1883, 'jewelryfort': 8524, '00ctw': 24, 'dodg': 5658, 'corny': 4841, 'persev': 11350, 'manip': 9533, 'sunda': 14503, 'symmetry': 14654, 'tandem': 14727, 'ageless': 2120, 'tweteen': 15411, 'romanz': 12875, 'lord': 9308, 'tablet': 14690, 'chemotherapy': 4129, 'olaf': 10830, 'luxuryimport': 9388, 'kink': 8737, 'contend': 4743, 'stampato': 14146, 'bevel': 3001, 'steelfin': 14198, '1carat': 518, 'jewelryweb': 8525, 'bg9524y': 3013, 'eighteen': 5982, 'exhil': 6294, 'recognit': 12523, 'allaroundth': 2202, 'worldcometo': 16279, 'districtforhigh': 5628, 'district': 5627, 'nycd': 10742, 'collectionprovidesth': 4544, 'jewelryand': 8521, 'valueswithout': 15703, 'yourhom': 16422, 'diamondsexpert': 5497, 'selectedand': 13276, 'matchedby': 9625, 'gemolog': 7103, 'tricol': 15291, 'amb': 2257, 'adiamond': 2024, 'tassl': 14754, 'marin': 9562, 'bicol': 3024, 'poign': 11643, 'testimony': 14899, 'crystallin': 5053, 'refract': 12571, 'ser': 13304, '5x23mm': 1362, 'strands': 14294, 'knownpair': 8801, 'meek': 9728, 'clunky': 4401, 'bravado': 3519, 'brash': 3511, 'fumbl': 6985, 'piggy': 11441, 'witty': 16221, 'hoov': 7914, 'strengthening': 14336, 'gratitud': 7385, 'emot': 6071, 'flick': 6653, '4cttw': 1216, 'inchtripl': 8134, 'aip201616ss': 2150, 'veion': 15743, 'c16854zfeature': 3781, 'regard': 12581, 'intersect': 8295, 'rendit': 12636, 'converg': 4768, 'holy': 7863, 'gle': 7220, 'teardop': 14821, 'highlightsmet': 7801, 'finishweight': 6563, 'nojewelry': 10572, 'attributesdiamond': 2572, 'rhodiumgot': 12762, 'lucid': 9350, 'occass': 10785, '14kgold': 343, '6x4': 1478, '5x3': 1363, 'springlock': 14085, 'serp': 13306, 'peren': 11322, '31grams': 962, 'templ': 14864, 'catalog': 3975, '30series': 939, 'r41680': 12385, 'pourr': 11785, 'orchid': 10918, 'catchy': 3979, 'anop': 2349, 'supportal': 14543, 'interchangeable32': 8282, 'lengthfr': 9072, '10ctw': 185, 'rosebud': 12893, '3ct': 1066, 'dav': 5208, '33mm': 992, 'banana': 2753, 'heartfelt': 7720, 'dotson': 5691, 'dachshund': 5170, 'thirty': 14997, 'instinct': 8267, 'convey': 4772, 'attempt': 2565, 'sixteen': 13608, 'nugget': 10701, 'dazyl': 5230, '04mj47d3s7st045385': 76, '60mm': 1390, '35mm': 1019, '11mmantique': 240, 'finishsterl': 6562, 'silvermarcasiteagateblack': 13561, '3ctw': 1067, 'scatterjoy': 13126, 'colem': 4504, 'heartgenuin': 7721, 'sapphire18': 13062, 'uby14w21d1000': 15447, 'linkspolishedenamelstainless': 9201, 'steelstainless': 14200, 'steelweig': 14201, 'serpentin': 13307, 'faith': 6386, 'recit': 12518, 'whoev': 16109, 'espir': 6200, '299': 871, 'mrlpe1045': 10133, '105': 165, 'potato': 11765, 'ubyd750014p': 15448, 'mrlpe3252': 10134, '471': 1192, 'mounting14k': 10103, 'goldcastedpolishedprong': 7283, 'setweight': 13334, 'gmthe': 7261, 'halv': 7569, 'doing': 5666, 'pinwheel': 11476, 'tuter': 15394, '1oz': 534, 'scratches': 13189, 'singap': 13589, 'cabochon': 3798, 'deux': 5461, 'cr': 4944, 'everywhereth': 6261, 'smokey': 13783, 'overlaid': 11017, 'fedex': 6460, 'finetres': 6551, 'inexpend': 8186, 'carat0': 3901, 'jeenjewel': 8488, 'finet': 6549, 'wavy': 15995, 'si': 13513, 'notedmost': 10622, '2carat': 878, 'margarit': 9554, '7ctw': 1588, 'scream': 13192, 'angara': 2321, '65ct': 1432, '16mmx23mm': 403, 'provoc': 12241, 'inlin': 8233, '8x6mm': 1733, 'langu': 8893, 'eon': 6153, 'tro': 15320, 'eastern': 5901, '8ct': 1712, 'filligr': 6537, 'exhilir': 6295, 'yg': 16399, 'centerston': 4033, 'spilt': 14025, 'obtin': 10766, '92ct': 1755, '61ct': 1402, 'cathedr': 3983, '44ctw': 1158, '17ctw': 426, 'undy': 15534, '8x4mm': 1731, 'egl': 5974, 'upbr': 15613, '8x6': 1732, 'exel': 6288, 'nomin': 10574, '46683': 1187, '14kyg': 348, '5gms': 1339, '4gms': 1221, 'width': 16127, 'storefront': 14274, '51303': 1266, '06ctw': 90, 'marquy': 9578, 'centerst': 4032, 'kia23624649': 8699, 'morganit': 10068, 'ringpolishedop': 12801, 'back14k': 2685, 'goldprong': 7296, 'setmorganite14k': 13325, 'weig': 16035, '14kw': 345, '553592214kw': 1297, '67773': 1444, '10kyg': 191, 'moissanit': 9987, 'ipir': 8337, '011': 32, '20303': 682, '03ctw': 67, '1gms': 527, '8gms': 1716, 'told': 15124, '00x5': 28, '00mm': 26, 'src69706ov': 14125, '18ky': 455, 'aq': 2435, '45ct': 1173, '83ct': 1642, '78ct': 1584, '14ky': 347, 'cf71559314ky': 4046, '553592214ky': 1298, 'kia24084852': 8701, '88ctw': 1689, 'kia24085118': 8702, 'band10': 2755, 'jewelryclick': 8523, 'kia24021348': 8700, '075': 97, 'quat': 12344, 'lucido': 9351, 'milgrain': 9885, '005': 15, 'colm': 4552, '056': 83, '86ct': 1665, '01ct': 48, 'claddaugh': 4270, 'ameth': 2268, '63ctw': 1414, '9063': 1738, '14kwg': 346, 'chast': 4103, '48803': 1202, 'soliel': 13885, 'closeout': 4360, 'fineters': 6550, 'vjebt': 15857, '026': 54, 'sz10': 14675, 'titan': 15091, '18x13': 461, '49958': 1209, '25ctw': 800, 'alight': 2194, 'pierc': 11437, 'mozamb': 10121, '10ky': 190, 'mg': 9825, '97ct': 1785, '14ctw': 341, 'assch': 2524, '52ctw': 1280, '09ctw': 114, 'iphon': 8335, '3gs': 1070, '4s': 1235, 'ipod': 8339, 'io': 8328, 'radio': 12404, 'turbo': 15382, 'speech': 13996, 'voic': 15861, '32gb': 978, 'specificationss': 13984, 'weight1': 16038, '242': 762, '189': 448, 'widescreen': 16123, 'ip': 8331, '1024': 159, 'pixel': 11490, '132': 303, 'ppi': 11797, 'fingerprint': 6558, 'oleophob': 10839, 'coatingsupport': 4466, 'cellul': 4024, '802': 1610, '11a': 232, 'bluetoo': 3269, 'edr': 5955, 'boxipad': 3471, 'usb': 15655, '10w': 200, 'docu': 5657, 'retin': 12719, '5mp': 1347, 'isight': 8357, 'ultrafast': 15469, '4g': 1218, 'lte': 9347, 'bandw': 2762, 'c5': 3787, 'nois': 10570, 'isol': 8367, 'acoust': 1906, 'por': 11734, 'lifelik': 9126, 'unadult': 15487, 'brbr': 3524, 'c5s': 3789, 'tungst': 15379, 'mfi': 9824, 'microphon': 9850, 'brbrfeatures': 3531, 'intr': 8306, 'ohm': 10819, '10hz': 186, '20khz': 696, 'thd': 14926, 'sylvan': 14650, 'rf': 12754, 'disturb': 5629, 'tangl': 14731, 'stereo': 14218, 'comput': 4672, 'tweet': 15405, 'midrang': 9865, '15w': 383, 'subwoof': 14469, 'output': 10989, 'headset': 7703, 'jvc': 8614, 'neodym': 10384, '40mm': 1108, 'diam': 5492, 'nobl': 10562, '328': 974, '343': 997, 'gps': 7341, 'suppos': 14544, 'zaggfolio': 16439, 'folio': 6744, 'keyboard': 8685, 'si250': 13516, 'architect': 2452, 'magnetostrict': 9478, 'linx': 9205, 'trebl': 15262, 'recr': 12529, 'comfortfit': 4609, 'eartip': 5889, 'laptop': 8904, 'automot': 2608, 'electron': 6005, 'azbook': 2643, 'n516': 10212, 'firmw': 6573, 'ebook': 5921, 'hanvon': 7618, 'eread': 6176, 'mob': 9967, 'epub': 6162, 'fb2': 6436, 'boomerang': 3357, 'ihip': 8069, 'djz': 5643, 'hd': 7684, 'ben': 2951, 'roethlisberg': 12865, 'e3c': 5865, 'surveil': 14564, 'fps': 6825, 'digispy': 5533, 'fm': 6729, 'instal': 8265, 'cf': 4045, '4gb': 1219, 'playback': 11536, 'scheduled': 13151, 'preset': 11851, 'ccd': 4009, '112': 215, 'spy': 14108, 'nanny': 10244, 'covert': 4924, 'admit': 2069, 'guilt': 7496, 'fault': 6429, 'v10': 15685, 'enginetm': 6112, 'indestruct': 8164, 'republ': 12659, 'propriet': 12220, 'polym': 11696, 'flextech': 6650, 'comfortengin': 4608, 'systemnear': 14670, 'flextechtm': 6651, 'compoundequip': 4664, 'microphonetrack': 9851, 'eartrack': 5890, 'compatibilityaudio': 4643, 'jackmicrophon': 8421, 'android': 2310, 'phonesmicrophon': 11394, 'pickup': 11425, 'inand': 8116, 'nobless': 10563, 'vat': 15727, 'kindl': 8731, 'convo': 4775, 'nshipping': 10664, 'miveu': 9947, 'bmx': 3284, 'supercharg': 14521, 'soul': 13921, 'deceiv': 5265, 'hardwood': 7635, 'nshellcase': 10662, 'diabol': 5487, 'neasy': 10324, 'creepy': 4983, 'nthere': 10689, 'scary': 13124, 'thinkgeek': 14989, 'mindlab': 9902, 'devy': 5472, 'stimul': 14250, 'maz': 9659, 'parano': 11167, 'hov': 7949, 'eviltron': 6264, 'nthis': 10690, 'fiend': 6521, 'dorm': 5686, 'nyo': 10748, 'nsometh': 10675, 'creak': 4971, 'nunident': 10708, 'ngasp': 10442, 'nsin': 10666, 'neery': 10372, 'nrandom': 10653, 'nthe': 10688, 'nfiend': 10433, 'nsix': 10669, 'nbattery': 10293, 'nembed': 10381, 'nsingl': 10667, 'nplease': 10644, '80gb': 1619, '160gb': 389, '120gb': 254, 'javoedg': 8445, 'circuma': 4257, 'earcup': 5881, 'qwerty': 12381, 'nautom': 10279, 'n360': 10211, 'nbluetooth': 10298, 'nhard': 10445, 'chitown': 4187, 'woolfelt': 16261, 'aircard': 2154, 'screws': 13204, 'transfer': 15229, '1800s': 434, 'koss': 8823, 'stereophon': 14219, 'qz': 12382, 'iangl': 8040, 'itouch': 8391, 'thinkpad': 14990, 'x230t': 16330, 'peerless': 11282, 'sir': 13598, 'bearextend': 2886, 'microsoft': 9854, 'xp': 16355, 'vist': 15847, 'nbearextend': 10294, 'nwhat': 10734, 'download': 5704, 'n3': 10209, 'mac': 9442, 'macworld': 9456, 'engadget': 6110, 'tuaw': 15352, 'ntechn': 10686, 'n700': 10215, 'mw': 10195, 'n802': 10216, '11n': 241, '11g': 236, '11b': 233, 'nsupport': 10683, 'wep': 16058, 'wpa': 16291, 'wpa2': 16292, 'enterpr': 6135, 'wps': 16293, 'encrypt': 6089, 'n2': 10206, '4ghz': 1220, 'mbps': 9669, 'nusb': 10719, 'backward': 2705, 'nproprietary': 10651, 'monolith': 10020, 'mmic': 9960, 'nrp': 10657, 'roocas': 12881, 'netbook': 10397, 'bbr': 2849, 'justcas': 8610, 'putresc': 12315, 'rawhid': 12466, 'cattlehid': 3988, 'snuff': 13835, 'bbrbr': 2851, 'oem': 10802, 'kat': 8649, 'mould': 10099, 'checkpoint': 4112, 'packpack': 11073, 'airport': 2160, 'abuilt': 1861, 'recharg': 12513, 'lith': 9235, 'keystrok': 8689, 'multimed': 10159, 'macbook': 9448, 'pandigit': 11130, 'portfolio': 11745, 'valley': 15701, 'tarrytown': 14747, 'quaint': 12335, 'advert': 2085, 'hail': 7551, 'cab': 3792, 'xpad': 16356, 'cnet': 4456, 'heatshield': 7733, '3rd': 1088, 'lanyard': 8900, '1080p': 181, 'gb': 7086, 'touchpanel': 15180, 'k2': 8618, 'dashboard': 5205, 'mp4': 10126, 'vic': 15800, 'hz': 8036, 'targ': 14744, 'unlimit': 15561, 'forens': 6782, 'faraday': 6409, 'analys': 2289, 'examin': 6274, 'preview': 11867, 'nshielded': 10663, 'ntouch': 10693, 'nextern': 10428, 'report': 12654, 'pdf': 11249, 'ee': 5959, 'prototyp': 12235, 'leathery': 8998, 'armadillo': 2468, 'pred': 11818, 'ding': 5544, 'nfe': 10432, 'njust': 10536, '5starshine': 1354, 'nguarantee': 10443, 'submers': 14447, '15ft': 377, '5m': 1344, 'airtight': 2163, 'elago': 5989, 'p3': 11051, 'p2': 11050, 'clut': 4403, 'workspac': 16274, 'imit': 8087, 'ipad2': 8334, 'samsung': 13042, 'touchscreen': 15181, 'speedy': 14001, 'ghz': 7166, 'amol': 2276, 'cinem': 4247, 'nseamless': 10659, 'nnow': 10558, 'calend': 3817, 'nimprov': 10477, 'bing': 3045, 'zun': 16495, 'xbox': 16340, 'transist': 15233, '234': 745, 'flavo': 6633, 'ganach': 7046, 'ecuad': 5938, 'hazelnut': 7677, 'pralin': 11808, 'feuillantin': 6504, 'htc': 7965, 'evo': 6265, '1gb': 526, 'sprint': 14094, 'torch': 15163, '9800': 1787, '16gb': 401, 'verizon': 15766, 'pursu': 12309, '9000': 1736, 'corp': 4844, 'mailbox': 9484, 'bimonth': 3040, 'multilay': 10158, 'otterbox': 10960, '5s': 1352, 'slipcov': 13729, 'holst': 7861, 'kickstand': 8711, '33l': 991, '71w': 1506, '64d': 1426, '39l': 1059, '16w': 407, '33d': 990, 'papay': 11149, 'xtra': 16361, 'iphone4': 8336, 'mamd': 9513, 'crystal': 5052, 'ncharges': 10306, 'innocas': 8238, 'nremov': 10654, 'ncharge': 10305, 'nmount': 10555, 'nlarg': 10539, 'nbal': 10292, 'joint': 8560, 'nextend': 10427, 'nstabilizes': 10678, 'ncom': 10308, 'hazardsful': 7675, 'protectiontest': 12230, 'std': 14183, '810f': 1625, '516': 1269, '6ft': 1459, 'nlith': 10547, 'n3000': 10210, 'mah': 9479, 'nled': 10541, 'nblack': 10297, 'nweight': 10732, '105g': 167, 'nsiz': 10670, 'noutput': 10628, '5v': 1358, 'nestim': 10394, 'nstandby': 10679, 'ntalk': 10685, 'ninternet': 10488, 'nwi': 10735, 'naudio': 10275, 'nvideo': 10728, 'unprint': 15579, 'checkout': 4111, 'proc': 12173, 'nimh': 10475, 'modul': 9982, 'nex': 10425, 'ecosystem': 5934, 'addunnecessarybulk': 2020, 'desktop': 5421, 'moph': 10060, 'winng': 16169, 'ces': 4042, '2011': 638, 'ndon': 10317, 'nto': 10692, 'thinnest': 14992, 'strongest': 14393, 'lifeproof': 9128, '6s': 1472, 'ultrad': 15468, '600mah': 1375, 'outlast': 10985, 'backcountry': 2687, 'refuel': 12576, 'camera': 3842, 'windshield': 16154, 'bracketron': 3494, 'xtremegrip': 16363, 'chum': 4230, '75l': 1539, '5w': 1359, '25d': 801, '5l': 1343, '3w': 1092, '5d': 1336, '8900': 1698, 'wt': 16312, 'gooseneck': 7322, 'intrud': 8311, 'apc': 2387, 's4gear': 12974, 'jackkn': 8420, 'paintbal': 11100, 'upload': 15628, 'handgun': 7580, 'mama': 9511, 'ambidext': 2259, 'kahr': 8623, '380': 1040, 'lcp': 8970, 'hardwear': 7634, '75h': 1538, '2d': 882, '25h': 802, '75w': 1544, '25w': 812, 'ecoxgear': 5935, 'handleb': 7586, '3l': 1074, '9h': 1798, 'iz': 8401, 'ferry': 6497, '7h': 1592, '7w': 1599, '9d': 1797, 'vhb': 15789, 'socket': 13851, 'xvent': 16364, 'prox': 12246, 'tekgrip': 14853, 'clamp': 4275, 'landscap': 8889, '45mm': 1177, 'snowmobl': 13826, 'inconspicu': 8152, 'subcompact': 14442, 'semiautom': 13286, 'crossdraw': 5025, '4h': 1222, '4w': 1241, 'len': 9043, 'meh': 9732, 'cury': 5120, 'summit': 14496, 'freezeproof': 6899, 'weld': 16050, 'ipx8': 8341, '329': 975, '6l': 1462, 'ipx7': 8340, '8l': 1718, '8w': 1727, '7l': 1594, 'nd': 10313, 'screenless': 13197, 'dirtproof': 5559, 'snowproof': 13827, 'dropproof': 5784, '94h': 1763, '53d': 1283, 'hypalon': 8025, 'armband': 2471, 'curveym': 5117, 'superv': 14533, 'unru': 15583, 'ram': 12427, 'fiberglass': 6512, 'choppy': 4203, 'swel': 14627, 'plot': 11557, 'endors': 6099, 'garmin': 7055, 'oregon': 10922, 'endur': 6100, 'ifind': 8064, 'h2o': 7532, 'gopro': 7323, 'backs': 2697, 'cinemas': 4248, 'grippy': 7429, 'account': 1891, 'ht': 7964, '9l': 1799, '1w': 541, 'scuff': 13219, 's7': 12977, 'osaifon': 10946, 'moleskin': 9997, '1500mah': 359, 'nproject': 10649, 'nbuilt': 10302, 'nconnect': 10310, 'vga': 15788, 'ninclud': 10480, '240v': 760, 'nproduct': 10648, 'nli': 10544, '1v': 540, '1200mah': 250, 'ninput': 10485, '14v': 354, '2a': 875, '1a': 512, 'nprojection': 10650, '70inches': 1496, 'nresolv': 10655, '640x480': 1418, 'ncontrast': 10311, 'nbrightness': 10299, 'lco': 8969, 'rgb': 12756, '20000': 554, 'dvd': 5847, 'stb': 14182, 'ndimend': 10316, '148': 338, 'sandy': 13054, 'chilewich': 4165, 'easydock': 5905, 'chat': 4104, 'ultrathin': 15476, '93h': 1760, '09w': 117, '46d': 1190, 'avalanch': 2617, '2g': 884, 'nleicest': 10543, 'npractical': 10645, '125mm': 269, '70mm': 1497, 'frontsid': 6954, 'boneview': 3338, 'squirrel': 14121, 'eyepiec': 6340, 'scop': 13176, 'binocul': 3046, 'ultralightweight': 15472, 'ab': 1826, 'capacit': 3878, '16m': 402, '854': 1655, 'gorill': 7327, 'glar': 7215, 'input': 8241, 'proxim': 12247, 'acceleromet': 1872, 'ui': 15456, 'jun': 8602, '15th': 382, 'nlearn': 10540, '91l': 1749, '07w': 102, '47h': 1194, 'thermoplast': 14958, 'trid': 15293, '5h': 1340, '374': 1035, '399': 1058, 'rog': 12866, '429': 1129, 'lifeact': 9122, 'quickmount': 12360, 'dismount': 5604, '2w': 905, 'fund': 6989, '48pm': 1204, 'reef': 12551, 'poolsid': 11721, 'nwaterproof': 10730, 'nwe': 10731, 'degrad': 5305, 'nhelp': 10446, 'louv': 9325, 'navgrip': 10283, 'temporbond': 14866, 'texut': 14912, 'powergrip': 11793, '25l': 805, '69w': 1457, 'libr': 9109, 's6': 12976, 'portcov': 11744, 's4': 12973, 'thecal': 14930, 'ign': 8066, 'nsum': 10682, 'handsfr': 7599, 'speakerphon': 13972, 'phonebook': 11393, 'multipoint': 10163, 'a2dp': 1817, 'streaming': 14324, 'podcast': 11639, 'duplex': 5833, 'boom': 3356, 'noisy': 10571, '9w': 1807, '12l': 288, 'vhf': 15790, '6w': 1475, '4l': 1227, 's5': 12975, 'droid': 5776, 'maxx': 9650, '625d': 1405, 'shockproof': 13452, 'freemount': 6874, 'hobknob': 7838, '6061': 1379, 'selfy': 13279, '6h': 1461, 'invisibleshield': 8324, 'hyp': 8024, 'nok': 10573, '875d': 1669, '875w': 1670, 'overvieweo': 11029, '7d': 1589, 'megapixel': 9731, 'cmo': 4425, 'iso': 8362, '6400': 1417, 'dim': 5537, '126': 270, 'jpeg': 8582, 'udm': 15450, '1080': 180, '30p': 938, '24p': 777, '976': 1778, '25p': 809, '1280': 275, '720': 1508, '60p': 1391, '50p': 1259, '640': 1416, 'sd': 13222, 'viewfind': 15814, 'pentapr': 11306, 'ifc': 8063, 'magnes': 9475, 'bn013803117493': 3288, 'ultrawid': 15478, '24mm': 774, '200dg': 614, 'lp': 9341, 'e8': 5867, 'hdmi': 7688, 'slr': 13746, 'dslr': 5804, 'shutterbug': 13511, 'nikon': 10472, '8g': 1714, 'nikk': 10471, '2177': 716, '62mm': 1408, 'leash': 8986, 'kodak': 8805, 'camcord': 3835, 'gocharg': 7271, 'zi8': 16458, 'zi6': 16457, 'zx1': 16498, 'zxd': 16500, 'zx3': 16499, 'mino': 9918, 'ultrahd': 15471, 'minohd': 9919, 'slidehd': 13719, 'specificationsinput': 13981, '12v': 296, '24vbattery': 778, 'mahrecharg': 9481, 'hoursl': 7942, 'chargedimend': 4093, 'tripod': 15311, 'scb1450': 13128, 'scb14': 13127, 'mv800': 10193, 'd3100': 5164, 'br18': 3485, '55mmbr55': 1303, '200mmbrbrbrfilter': 617, 'brbrb3': 3525, 'cpl': 4941, 'sat': 13075, 'brfluorescent': 3586, 'lamp': 8882, 'brbrb4': 3526, 'macro': 9455, 'brhigh': 3587, 'diopt': 5551, 'brbrblens': 3527, 'lensesbr': 9083, 'capbrbrbsnap': 3881, '5725': 1311, 'zum': 16494, 'tamrac': 14725, 'mirrorless': 9933, 'zipshot': 16475, 'polytek': 11703, 'viabl': 15793, 'pthis': 12257, 'canon': 3869, 'eo': 6152, '550d': 1295, '600d': 1374, 't2i': 14681, 't3i': 14682, 'fe': 6441, 'bp': 3477, 'x105': 16325, 'x75': 16336, 'x3': 16332, '395g': 1055, 'bbr1x': 2850, 'br1x': 3486, 'panason': 11126, 'usd': 15656, 'asah': 2506, 'vegit': 15738, 'thic': 14971, 'hurt': 7996, 'lvf1': 9389, 'unwear': 15604, 'himej': 7813, 'hero2': 7773, 'argu': 2461, 'ef': 5962, 'hadley': 7546, 'w290': 15889, 'd120': 5158, 'h210mm': 7530, 'w11': 15887, 'd4': 5165, 'h8': 7539, '4ins': 1226, 'w260': 15888, 'd70': 5166, 'h185mm': 7529, 'w10': 15885, 'd2': 5159, 'h7': 7538, '7kg': 1593, 'manfrotto': 9524, '545b': 1289, 'spreader': 14077, 'payload': 11235, '25kg': 804, 'ninterfac': 10487, '100mm': 151, 'nrub': 10658, 'nfor': 10439, 'nmid': 10554, 'nan': 10240, '2mp': 895, 'dx': 5853, 'autofoc': 2604, 'usef': 15661, 'hdtv': 7689, '55mm': 1302, 'zoom': 16490, 'vr': 15878, 'sharpest': 13380, 'styledready': 14424, 'delay': 5312, '3200': 967, '12800': 276, '8010': 1607, '14mp': 351, 'a2400': 1816, 'silver16': 13559, 'mp': 10123, 'lcdsmart': 8967, 'predefin': 11819, 'situations720p': 13605, 'button16mp': 3758, 'c4': 3786, 'pe': 11250, 'disconnect': 5579, 'speedpro': 14000, 'beltpack': 2946, 'covertm': 4925, 'lumb': 9362, 'sliplocktm': 13730, 'feetl': 6475, 'flipsh': 6657, 'softw': 13871, 'sb': 13102, '910': 1744, 'speedlight': 13998, 'ttl': 15351, '4809': 1200, 'lumiquest': 9367, 'softbox': 13858, 'lowepro': 9334, 'periph': 11335, 'minidv': 9911, 'videograph': 15808, 'spont': 14055, 'd3': 5163, '400af': 1100, '4806': 1199, 'chroma': 4216, 'muslin': 10186, 'zeiko': 16451, 'bog': 3318, '190xdb': 466, '3001': 916, 'redesign': 12541, '146': 336, 'absb0001uq1k2technical': 1842, 'padproduc': 11086, 'monopod': 10021, 'absb0001uq1k2': 1841, 'nbtw': 10301, 'ni': 10450, '2500': 785, '2500nimh': 786, '2560': 793, '2590': 797, '2650': 827, '2600': 816, 'na': 10221, 'sam': 13035, '8aa': 1709, '4aaa': 1212, '850': 1653, '1650': 394, '1745': 419, '2100': 706, '1682': 398, 'nbef': 10295, 'prevy': 11868, 'souc': 13918, '2600mah': 817, '2700mah': 833, '1700mah': 413, 'nthat': 10687, 'strongly': 14397, 'bubo': 3678, 'slrs': 13747, '460mg': 1184, 'panoram': 11136, 't1i': 14679, 'speedlit': 13999, 'tvs': 15400, '1mp': 533, 'semiconduc': 13287, 't1is': 14680, 'unprec': 15577, 'bcanon': 2861, 'bg': 3012, 'e11': 5863, 'e6': 5866, 'sigm': 13535, '500mm': 1249, 'apo': 2394, 'telephoto': 14859, 'apert': 2389, 'teleconvert': 14856, '1000mm': 138, '750mm': 1530, '1500mm': 360, 's100': 12969, 'doubleup': 5695, 'chargerth': 4095, 'foldout': 6741, '60hz': 1386, '24vusb': 779, 'dc5v5': 5236, '5adimensions': 1329, 'amazonkindl': 2256, 'm31120b': 9411, 'm3160s': 9412, 'u32120': 15440, 'm2120m': 9403, 'u2120': 15439, 'steadepod': 14185, 'museum': 10182, 'l3': 8843, 'brthe': 3646, 'strong5793': 14391, 'strongfrom': 14395, 'strongtamrac': 14398, 'stern': 14230, '1280x720': 277, 'autosens': 2609, '4v': 1240, '1800mah': 433, 'itposs': 8392, 'tubul': 15362, 'wildl': 16134, 'fluorit': 6709, 'ud': 15449, 'usm': 15670, 'algorithm': 2193, '300mm': 920, 'adob': 2071, 'photoshop': 11403, 'album': 2181, 'photobook': 11398, 'scrapbook': 13183, 'os': 10945, '2gb': 885, 'shortcut': 13463, 'unclut': 15498, '3011': 922, '3021': 924, '3033': 927, 'underw': 15524, '455': 1166, 'discolo': 5573, 'gary': 7061, 'fong': 6751, 'gearguard': 7091, 'nbag': 10291, 'ongo': 10860, 'snatch': 13810, '1f': 524, 'new2': 10408, 'lockdown': 9259, 'nfoam': 10438, 'ndu': 10319, 'nnew': 10556, 'nwing': 10736, 'nquickclip': 10652, 'quickclip': 12356, 'biocurv': 3048, 'nm': 10549, 'nstrap': 10680, 'spidertab': 14016, '200mm': 616, 'absb001d9ayf8technical': 1845, '43cm': 1140, 'wxdxh': 16321, 'pocketproduc': 11591, 'vidpro': 15810, 'tc': 14785, 'absb001d9ayf8': 1844, 'nabout': 10224, 'ntak': 10684, 'nipad': 10491, 'nno': 10557, 'ndat': 10314, 'nprice': 10646, 'n250mb': 10207, 'nunlimit': 10709, 'nyou': 10749, 'cancel': 3856, '960x640p': 1773, 'facetim': 6373, 'a4': 1818, 'gyro': 7528, '720p': 1509, 'ip39': 8332, 'ihom': 8070, 'gobbl': 7269, 'capc': 3882, '750': 1529, '8gb': 1715, 'shuffl': 13507, 'eject': 5986, 'bmp': 3283, 'gif': 7175, 'tiff': 15060, 'psd': 12251, 'png': 11575, 'thunk': 15045, 'icoo': 8049, 'stubby': 14409, 'nfin': 10434, 'nspecially': 10676, 'nen': 10383, 'nmet': 10553, 'nsoft': 10674, 'ntip': 10691, 'incas': 8119, 'hideaway': 7794, 'nfastest': 10430, 'ndc': 10315, 'nac': 10225, 'nhideaway': 10447, 'n2a': 10208, 'wrenz': 16296, 'symphony': 14655, 'ultracompact': 15467, 'arb': 2443, 'forrestry': 6802, 'forrest': 6801, 'disast': 5564, 'infograph': 8204, 'rehab': 12588, 'somebody': 13891, 'soundtrack': 13927, 'myspac': 10203, 'smul': 13797, 'msn': 10140, 'googletalk': 7319, 'yahoo': 16372, 'icq': 8050, 'fling': 6655, 'upb': 15612, 'reset': 12673, 'mish': 9935, 'playl': 11540, 'nhttps': 10449, 'auxy': 2611, 'localmind': 9257, 'omniscy': 10850, 'jlab': 8539, '0how': 122, 'jbud': 8455, 'recraft': 12530, 'thrillsleek': 15027, 'reson': 12686, 'japanes': 8439, 'soundst': 13926, 'durabilityth': 5836, 'j2s': 8406, 'isolationforget': 8368, 'crash': 4963, 'konam': 8813, '1992': 499, 'arcad': 2447, 'cyclop': 5150, 'coloss': 4584, 'nightcrawl': 10463, 'sentinel': 13293, 'pyro': 12322, 'wendigo': 16055, 'nimrod': 10478, 'juggernaut': 8589, 'magneto': 9477, 'feint': 6478, 'leaderboard': 8974, 'beacon': 2869, 'dongl': 5678, 'sneez': 13814, 'sneezy': 13815, 'dropbox': 5779, 'linux': 9204, 'ia100': 8039, 'snooz': 13818, 'bongiov': 3339, 'circuitry': 4255, 'mp3s': 10125, 'subscriptionyo': 14461, 'priceth': 12091, 'weeknight': 16033, 'pricel': 12010, 'cholesterol': 4198, 'soup': 13928, 'hock': 7840, 'salt': 13032, 'insight': 8256, 'threatening': 15018, 'hypertend': 8028, 'pricetast': 12088, 'priceevery': 11958, 'rachael': 12393, 'pricefin': 11969, 'pricecook': 11928, 'aspir': 2522, 'chef': 4124, 'succ': 14470, 'cookbook': 4784, 'bolognes': 3328, 'mouss': 10106, 'pricepeopl': 12047, 'pricelos': 12014, 'eatingwel': 5915, 'hometown': 7877, 'spiderm': 14015, 'zoobook': 16487, 'cathy': 3986, 'crock': 5016, 'hardcov': 7627, 'setwh': 13335, 'skillet': 13634, 'saucep': 13087, 'casserol': 3961, 'stew': 14236, 'pork': 11742, 'shrimp': 13493, 'veggy': 15737, 'tetrazzin': 14905, 'spinach': 14027, 'tortellin': 15171, 'clam': 4274, 'chowd': 4207, 'spir': 14030, '128': 274, 'pricemad': 12018, 'pok': 11648, 'polit': 11658, 'foibl': 6736, 'satir': 13081, 'splitting': 14048, 'math': 9632, 'pricewi': 12114, 'catalyst': 3976, 'overcom': 11008, 'advers': 2084, 'shortcak': 13462, 'littlest': 9239, 'goblin': 7270, 'laught': 8938, 'zoodino': 16489, 'pricewom': 12118, 'behav': 2925, 'drug': 5790, 'priceget': 11978, 'birth': 3062, 'showb': 13485, 'gossip': 7331, 'babybug': 2665, 'pricepaul': 12046, 'steep': 14202, 'artic': 2495, 'gardeningdelivery': 7053, 'crockpot': 5017, 'mouthw': 10110, 'cookerus': 4795, 'pricetim': 12093, 'priceseventeen': 12070, 'seventeen': 13339, 'heartthrob': 7723, 'pricetv': 12102, 'authorit': 2601, 'newspap': 10419, 'crossword': 5029, 'pricecosmopolit': 11930, 'fearless': 6443, 'priceentertain': 11954, 'interview': 8299, 'zoobiess': 16486, 'geograph': 7127, 'pullout': 12273, 'trad': 15211, 'contest': 4747, 'pricefood': 11971, 'weal': 16003, 'subscrib': 14449, 'bree': 3578, 'giveaway': 7206, 'pricewin': 12116, 'spect': 13991, 'bordeaux': 3369, 'tuscany': 15390, 'discrimin': 5586, 'priceveget': 12105, 'herb': 7769, 'remedy': 12622, 'pricecelebr': 11910, 'lok': 9273, 'ultron': 15479, 'cuisin': 5082, 'tween': 15404, 'homeown': 7873, 'diy': 5641, 'hgtv': 7789, 'wholesom': 16112, 'fat': 6423, 'homey': 7881, 'cookw': 4807, 'glaz': 7218, 'cheesy': 4121, 'broccol': 3620, 'calzon': 3833, 'salad': 13018, 'kniv': 8789, 'muffin': 10150, 'tin': 15078, 'prequel': 11843, 'pricelog': 12013, 'problemssharp': 12171, 'deduc': 5283, 'inquisit': 8244, 'occupy': 10786, 'prefac': 11825, 'priceeveryth': 11960, 'preread': 11844, 'aspect': 2519, 'strategies': 14307, '86': 1660, 'pricesport': 12077, 'olymp': 10843, 'opin': 10900, '76': 1547, 'pricep': 12045, 'pricelov': 12015, 'unsurpass': 15598, 'passport': 11200, 'winfrey': 16162, 'fulfil': 6977, 'hurry': 7995, 'pricedel': 11939, 'pricechil': 11914, 'salsa': 13031, 'cajun': 3808, '0a': 118, 'pricefil': 11968, 'priceprev': 12052, 'libert': 9107, 'perspect': 11354, 'pricecookbook': 11929, 'culin': 5086, 'noodl': 10595, 'pricecuisin': 11937, 'pricerc': 12058, 'rc': 12474, '1985': 495, 'spectr': 13994, 'specsdelivery': 13990, 'texa': 14907, 'pricesav': 12068, 'genes': 7110, 'context': 4749, 'pricecraft': 11933, 'pricegood': 11980, 'housekeep': 7946, 'childc': 4161, 'price': 11873, 'veterin': 15787, 'pricemaxim': 12020, 'pricecountry': 11931, 'pricetravel': 12099, 'undiscov': 15531, 'seclud': 13252, '1973': 492, 'pricem': 12017, 'bicep': 3023, 'lovemak': 9329, 'educ': 5957, 'nonprofit': 10588, 'nwf': 10733, 'priceindulg': 12002, 'foreign': 6779, 'heck': 7737, 'priceconsum': 11926, 'wis': 16205, 'gur': 7513, 'wealthy': 16004, 'priceel': 11951, 'beachwear': 2867, 'viewpoint': 15815, 'dishevel': 5597, 'bread': 3536, 'condy': 4689, 'sandwich': 13052, 'pricepopul': 12050, 'chronicle': 4222, 'woodwork': 16258, 'feb': 6456, '2002': 559, 'thompson': 15007, 'pricesoap': 12073, 'trustworthy': 15341, 'tax': 14782, 'pricehors': 11992, 'annot': 2344, 'weekendauth': 16031, 'shortz': 13465, 'prpublication': 12248, '15number': 380, '240binding': 757, 'paperbacklibr': 11152, 'congress': 4705, 'lor': 9306, 'gracy': 7346, 'pricetradit': 12096, 'doabl': 5650, 'priceh': 11986, 'renov': 12639, 'remodel': 12627, 'azuregreen': 2646, 'bwitp26': 3770, 'nitro': 10530, 'divers': 5635, 'furn': 7002, 'maryland': 9595, 'pricef': 11964, 'revit': 12742, 'enlight': 6127, 'pricecrochet': 11935, 'tablecloth': 14687, 'priceteatim': 12089, 'teatim': 14828, 'gourmet': 7337, 'tearoom': 14824, 'cryptoquizz': 5050, 'priceameric': 11880, 'pricebird': 11897, 'priceon': 12040, 'grandkid': 7362, 'priceautomobl': 11888, 'automobl': 2607, 'pricekiw': 12009, 'kiw': 8764, 'safest': 12999, 'worldkiw': 16280, 'recipesauth': 12515, 'illustratedpubl': 8081, '01number': 49, '422binding': 1127, 'hardcoverlibr': 7628, '83': 1639, 'pricec': 11906, 'rod': 12861, '1949': 483, 'civil': 4265, 'emin': 6064, 'monu': 10050, 'pricealfr': 11877, 'hitchcock': 7830, 'alfr': 2190, 'novella': 10635, 'whodunit': 16108, 'hardboil': 7625, 'suspens': 14571, 'pricehumpty': 11996, 'dumpty': 5829, 'humpty': 7986, 'reb': 12500, 'storylin': 14279, 'cbs': 4007, 'restless': 12700, 'pricecoast': 11921, 'seafood': 13226, 'pricefrom': 11974, 'stylewatch': 14431, 'pricefamilyfun': 11965, 'familyfun': 6395, 'pricemarth': 12019, 'stewart': 14237, 'marth': 9587, 'pricerun': 12065, 'priceasimov': 11886, 'laud': 8935, 'asimov': 2516, 'novelet': 10634, 'poem': 11640, 'pricecru': 11936, 'vessel': 15780, 'casino': 3960, 'stateroom': 14175, 'shor': 13459, 'excurs': 6285, 'itin': 8388, 'lousy': 9324, 'lag': 8867, 'stout': 14282, 'pricediscov': 11945, 'essay': 6205, 'priceroad': 12062, 'hilton': 7811, 'spear': 13973, 'jen': 8499, 'aniston': 2334, 'brad': 3496, 'ashton': 2513, 'kutch': 8837, 'priceboy': 11902, 'wacky': 15891, 'pricewheth': 12113, 'nov': 10631, 'mediocr': 9721, 'pricezoobook': 12130, 'reptil': 12658, 'pricereminisc': 12060, 'priceyoung': 12129, 'pricediabet': 11941, 'encompass': 6085, '1993by': 501, 'jyl': 8617, 'steinback': 14205, 'clair': 4272, 'pricemot': 12029, 'priceyacht': 12125, 'powerbo': 11792, 'priceguit': 11984, 'redbook': 12538, 'priceart': 11883, '1986': 496, 'jury': 8608, 'fellow': 6483, 'pricecr': 11932, 'pickiest': 11422, 'subscriptiono': 14457, 'glassw': 7217, 'pricebasebal': 11894, 'rost': 12904, 'schedules': 13152, 'scout': 13181, 'disciplin': 5568, 'mathem': 9633, 'sudoku': 14478, 'priceavy': 11889, '17s': 430, 'steal': 14189, 'aircraft': 2155, 'infam': 8189, 'unsolv': 15592, 'pricesmithson': 12072, 'chronicles': 4223, 'homestyl': 7876, 'latino': 8932, 'pricewood': 12119, 'jig': 8530, 'entrepr': 6142, 'mindset': 9903, 'priceguidepost': 11983, 'guidepost': 7494, 'blog': 3244, 'pancak': 11127, 'cucin': 5062, 'italian': 8380, 'floorpl': 6667, 'baconunwrap': 2711, 'tidbit': 15054, 'retitl': 12725, 'baconauth': 2710, 'lau': 8934, 'heatherpubl': 7731, 'harpercollinspubl': 7645, '210binding': 707, '2009009691': 606, 'nsku': 10672, 'bkdb5087746': 3127, 'priceprovid': 12054, 'uncov': 15505, 'exhaust': 6292, 'priceanim': 11882, 'behalf': 2924, 'endang': 6092, 'pricemusc': 12034, 'ford': 6770, 'aftermarket': 2112, 'pricetoddl': 12095, 'aloud': 2229, 'priceconqu': 11925, 'pricetak': 12086, 'pricemodel': 12026, '80th': 1622, 'newsstand': 10420, '1929': 477, 'bibl': 3021, 'bipl': 3056, 'aerob': 2092, 'eventspl': 6247, 'primit': 12139, 'decoup': 5280, 'rewind': 12751, 'fost': 6812, 'priceverand': 12106, 'esquir': 6203, 'boxauth': 3469, 'hyam': 8003, 'ginapubl': 7187, 'mcmeel': 9684, 'pubpubl': 12264, '13number': 319, '80binding': 1616, 'pricewild': 12115, 'earliest': 5883, 'woodsmi': 16257, 'acclaim': 1885, 'peddl': 11272, 'gleem': 7222, 'guild': 7495, 'priceharvard': 11988, 'acknowledgedauth': 1904, 'managersrespons': 9520, 'hbr': 7681, 'pricequick': 12056, 'afgh': 2103, 'pricelatin': 12011, 'accult': 1893, 'hisp': 7826, 'flavorbut': 6634, 'dietit': 5522, 'chronicling': 4224, 'priceq': 12055, 'zoe': 16479, 'monlth': 10017, 'cardboard': 3909, 'rhym': 12765, 'priceintery': 12004, 'priceplayroom': 12048, 'georg': 7130, 'bob': 3300, 'caillou': 3807, 'arth': 2493, 'barney': 2789, 'wubbzy': 16314, 'workbook': 16265, '3a': 1062, 'pricetamp': 12087, 'firearm': 6567, 'tequil': 14880, 'colleen': 4545, 'shannon': 13363, 'pht': 11407, 'incpubl': 8154, '12number': 292, '128binding': 278, 'bl2012011037': 3175, 'pricepract': 12051, 'horsem': 7925, 'equit': 6171, '1c': 517, 'pricemoney': 12027, 'pricehot': 11993, 'davidson': 5210, 'priceback': 11890, 'nationwid': 10263, 'pricetranform': 12098, 'videomak': 15809, 'dvds': 5848, 'pricewestern': 12111, 'poetry': 11642, 'pricethread': 12092, 'firsthand': 6576, 'pricehyp': 11998, 'hairstyl': 7558, 'theirperson': 14937, 'priceacoust': 11875, 'transcrib': 15227, 'tackl': 14696, 'pas': 11192, 'vast': 15726, 'pricevictor': 12109, 'victor': 15803, 'hark': 7637, 'priceheal': 11989, 'pricesparkl': 12076, 'angelin': 2323, 'pricemetropol': 12022, 'interdisciplin': 8283, 'endeav': 6094, 'provok': 12242, 'subscriptionfrom': 14453, 'zootl': 16491, 'zooby': 16488, 'priceess': 11957, 'preemin': 11821, 'pricechirp': 11915, 'chirp': 4185, 'priceworld': 12122, 'cryptogram': 5049, 'pricelowrid': 12016, 'lowrid': 9338, 'tos': 15174, 'prud': 12249, 'pricedog': 11947, 'therapy': 14945, 'floss': 6676, 'quirky': 12372, 'equin': 6167, 'rackscol': 12398, 'pricebrew': 11903, 'homebrew': 7867, 'malt': 9507, 'kettl': 8681, 'yeast': 16388, 'pricerid': 12061, 'pricest': 12079, 'woodcarv': 16254, 'brewery': 3585, 'abroad': 1839, 'tribun': 15283, 'grandfath': 7360, 'priceeast': 11949, 'afflu': 2100, 'fairfield': 6383, 'westchest': 16062, 'pricedirt': 11944, 'decost': 5279, 'pricescy': 12069, 'rur': 12953, 'sphere': 14009, 'newsworthy': 10422, 'pricejack': 12005, 'jil': 8531, 'pricetrail': 12097, 'gruel': 7459, 'marathon': 9547, 'priceespn': 11956, 'predict': 11820, 'basketbal': 2815, 'hockey': 7841, 'pricearthrit': 11884, 'arthrit': 2494, 'warp': 15944, 'priceangel': 11881, 'god': 7272, 'profound': 12194, 'affirm': 2098, 'pricechalleng': 11911, 'curios': 5109, 'amphib': 2281, 'priceimbib': 11999, 'imbib': 8086, 'travelog': 15251, 'seg': 13270, 'pricesunset': 12083, 'northwest': 10609, 'southwest': 13936, 'rocky': 12860, 'hawai': 7670, 'pricebloomberg': 11898, 'businessweek': 3743, 'bloomberg': 3249, 'apptit': 2430, '2013author': 678, 'mowbray': 10118, 'copubl': 4822, '20number': 700, '416binding': 1120, 'bl2012043218': 3186, 'pricehopscotch': 11991, 'priceforb': 11972, 'forb': 6768, 'pricegam': 11976, 'triv': 15317, 'calesth': 3819, 'pricevet': 12108, 'corvet': 4855, 'pricediscovery': 11946, 'quizz': 12375, '1996': 504, 'drs': 5789, 'goldberg': 7282, 'embark': 6036, 'sift': 13531, 'soundest': 13924, 'monouns': 10022, 'dairy': 5178, 'obes': 10759, '272': 835, 'pagesmeas': 11091, 'inchesbook': 8124, 'paperbackcas': 11151, 'priceharp': 11987, 'baza': 2844, 'arbit': 2444, 'ceram': 4037, 'twentie': 15409, 'grilltitl': 7423, 'smokeauth': 13782, 'purvy': 12311, 'jamy': 8435, '03number': 68, '191binding': 472, 'bl2012010871': 3174, 'poultry': 11776, 'sonom': 13900, 'masterauth': 9617, 'kach': 8621, 'schusterpublication': 13163, '05number': 87, '224binding': 734, 'bl2011010183': 3157, 'emoc': 6068, 'chees': 4118, 'oakland': 10753, 'homeroom': 7874, 'macaron': 9443, 'prefab': 11824, 'mixesal': 9949, 'eaterywi': 5914, 'cheesenow': 4120, 'srirach': 14128, 'truffl': 15335, 'defy': 5302, 'brussel': 3665, 'peanut': 11259, 'pressp': 11856, 'yotam': 16413, 'ottolengh': 10961, 'realm': 12492, 'sharon': 13376, 'kram': 8827, 'hearn': 7718, 'virtu': 15835, 'dutch': 5843, 'creuset': 4992, 'stovetop': 14284, '2010author': 637, 'lightpubl': 9147, '24number': 775, '432binding': 1139, 'bl': 3134, '00002427': 2, 'taquer': 14741, 'fareinclud': 6410, 'taco': 14698, 'galorefrom': 7043, 'francisco': 6836, 'tacolicy': 14699, 'attest': 2567, 'familiarpork': 6393, 'carnita': 3928, 'verdeto': 15764, 'bistec': 3073, 'adobado': 2072, 'guajillo': 7471, 'chapt': 4087, 'mocktail': 9975, 'agu': 2133, 'fresc': 6902, 'presshardcov': 11855, 'pageslangu': 11090, 'englishdimend': 6116, 'paperback': 11150, 'blackbird': 3193, 'bakery': 2736, 'morg': 10067, 'blendsbiscuit': 3226, 'donut': 5681, 'frit': 6926, 'jarwi': 8442, 'debunk': 5259, 'dumpl': 5828, 'challah': 4063, 'somelik': 13892, 'qkc1003': 12325, 'featurestitl': 6455, 'cookbooksub': 4792, 'magazineg': 9466, 'cookingsubject': 4802, 'generalisbn': 7107, '1933615893isbn': 479, '9781933615899subject': 1784, 'cookingcountry': 4799, 'states': 14176, 'dimensionsoveral': 5539, 'erin': 6181, 'coopey': 4816, 'pantry': 11142, 'betty': 2998, 'nutcrack': 10721, 'tort': 15170, 'oftenhow': 10814, 'giad': 7170, 'laurenty': 8948, 'autograph': 2605, 'delv': 5320, 'giada': 7171, 'clarkson': 4281, 'potterlangu': 11768, 'englishbind': 6115, 'cookauth': 4783, 'quinl': 12367, 'giovanell': 7194, 'jacquelin': 8426, 'teres': 14883, 'river': 12825, 'jolin': 8565, '496binding': 1208, 'bl2009033785': 3148, 'browny': 3641, 'blissauth': 3235, 'saulsbury': 13090, 'camill': 3843, 'sourcebook': 13932, '2005': 575, '279binding': 839, '2005000753': 576, 'booklet': 3348, 'kititl': 8756, 'bookspubl': 3353, '393binding': 1052, '2011042556': 653, 'rotissery': 12911, 'adib000i82bym': 2031, 'knowledgefrom': 8799, 'yield': 16400, 'flatbread': 6627, 'loav': 9251, 'dunt': 5831, 'baird': 2732, 'publisherslangu': 12262, 'englishhardcov': 6117, 'pagesdimend': 11089, 'wolfgang': 16239, 'printingtitl': 12151, 'mealsauth': 9695, '395binding': 1054, '2010028513': 626, '59439': 1326, 'lol': 9274, 'miet': 9873, 'patissery': 11215, 'beribbon': 2976, 'gingersnap': 7190, 'gumbal': 7503, 'lku': 9244, 'leku': 9038, 'sloppy': 13739, 'tatin': 14776, 'greenp': 7402, 'nonstick': 10591, 'guiltthank': 7497, 'greenpanhardcov': 7403, 'skinnytast': 13653, 'gin': 7185, 'homolk': 7882, 'swear': 14598, 'gina': 7186, 'fettuccin': 6503, 'alfredo': 2191, '420': 1123, 'omelet': 10847, 'lunchtim': 9373, 'arom': 2477, 'gooseberry': 7321, 'm824p': 9436, 'sus': 14566, 'kom': 8811, 'bento': 2964, 'ittitl': 8394, 'beyondauth': 3006, 'sinclair': 13584, 'patpubl': 11216, 'pgwpublication': 11374, '310binding': 947, 'lebo': 9001, 'rhubarb': 12764, 'galet': 7038, 'rumin': 12948, 'pantheon': 11140, 'sasquatch': 13072, 'bookspaperback': 3352, 'porch': 11737, 'nonalcohol': 10577, 'den': 5329, 'gee': 7092, 'guidebook': 7491, 'tomatoesauth': 15129, 'laskin': 8920, 'avn': 2622, 'wein': 16045, 'dany': 5195, 'tweak': 15401, 'compil': 4650, 'health': 7711, 'preparatitl': 11840, '2009author': 612, '19number': 509, '464binding': 1185, 'resurg': 12710, 'holmberg': 7857, 'stockpot': 14261, 'saut': 13093, 'twinky': 15419, 'refry': 12575, 'bean': 2878, 'qoi1000': 12327, 'cookbookisbn': 4789, '1118038126isbn': 213, '9781118038123general': 1782, 'controllangu': 4762, 'englishsubject': 6121, 'ingedy': 8211, 'carrol': 3940, 'sau': 13085, 'anselm': 2352, 'how': 7950, 'why': 16116, 'bourbon': 3453, 'brin': 3602, 'garl': 7054, 'artisanhardcov': 2498, 'encyclop': 6090, 'nath': 10262, 'myhrvold': 10200, 'bilet': 3034, '456': 1167, 'reprint': 12656, 'hamburg': 7572, 'jerky': 8504, '230': 742, 'slipcas': 13728, 'cookand': 4782, 'stewartmodern': 14238, 'biscott': 3066, 'companionauth': 4636, 'norton': 10610, '30number': 937, '509binding': 1253, '2004050162': 571, 'kitauth': 8747, 'alwor': 2247, 'jeffpubl': 8493, 'llcpublication': 9246, '08number': 105, '48binding': 1203, 'parl': 11178, 'zoku': 16481, 'fudg': 6974, 'milkshak': 9889, 'recomtitl': 12525, 'bibleauth': 3022, 'dewit': 5475, 'gerlach': 7142, 'nancypubl': 10241, 'abram': 1837, '424binding': 1128, 'slic': 13716, 'ken': 8672, 'haedrich': 7548, 'afghan': 2104, 'cheesecak': 4119, 'nog': 10568, 'peders': 11273, 'stephany': 14212, 'ambrosino': 2260, 'nfdewey': 10431, '641': 1419, '383language': 1041, 'englishlibr': 6119, 'bl2014049340number': 3189, '95place': 1770, '01publish': 51, '02publisher': 57, 'sterlpubl': 14229, 'increturn': 8158, 'toddy': 15111, 'mul': 10152, 'cid': 4238, 'eggnog': 5973, 'ricott': 12781, 'rab': 12386, 'zucchin': 16493, 'caponat': 3888, 'greensauth': 7405, 'goodm': 7315, 'barbar': 2776, 'trovato': 15329, 'lizpubl': 9242, 'perse': 11349, 'grouppubl': 7451, 'bl2011013408': 3158, 'softcov': 13860, 'pgs': 11373, '2008author': 603, 'awhil': 2636, 'thant': 14921, 'chunk': 4231, 'magicauth': 9471, 'snid': 13817, 'jillpubl': 8532, 'firef': 6568, 'ltdpublication': 9346, '192binding': 478, 'bl2001013246': 3135, 'aristocr': 2465, 'pastry': 11207, 'meringu': 9776, 'gooey': 7317, 'grail': 7354, 'cookery': 4796, 'rtitl': 12927, 'macaronsauth': 9444, 'herm': 7771, 'winkelman': 16166, 'bernhard': 2985, 'casem': 3954, '29number': 873, '205binding': 687, 'doughnut': 5698, 'ging': 7188, 'steak': 14188, 'fulltitl': 6982, 'cooksauth': 4804, 'drummond': 5794, 'reepubl': 12554, '293binding': 865, 'bl2012005446': 3167, 'cookbookauth': 4785, 'olerud': 10840, 'wiley': 16135, '2003': 562, '11number': 242, '2003008728': 563, 'griffi': 7418, 'mayberry': 9654, 'lauderd': 8936, 'beck': 2895, 'jimpubl': 8533, '1991': 498, '91003047': 1745, 'unfussy': 15542, 'bartend': 2801, 'designlangu': 5406, 'englishpaperback': 6120, 'beard': 2885, 'rotitl': 12912, 'appetiteauth': 2403, 'melissapubl': 9741, '07number': 101, '444binding': 1152, '2010005760': 621, 'pretens': 11861, 'poppin': 11728, 'shepard': 13414, 'villa': 15819, 'grablewsk': 7344, 'andre': 2307, 'mendocino': 9758, 'fri': 6914, 'cracklin': 4951, 'biscuit': 3067, 'vi': 15791, 'dough': 5697, 'donn': 5679, 'rathmel': 12459, 'teriyak': 14884, 'tempur': 14869, 'tableauth': 14686, 'samuel': 13043, 'yamaguch': 16374, 'frw': 6968, 'robbin': 12843, 'hea': 7690, 'catrin': 3987, 'tuttl': 15395, '10number': 195, '176binding': 424, '2010054353': 634, 'meatless': 9711, '2003108766': 566, 'bmz1074': 3285, 'booksub': 3354, 'batchessubject': 2823, 'beerg': 2916, 'cookinglangu': 4800, 'englishisbn': 6118, '0307889203subject': 60, 'jo': 8543, 'frank': 6838, 'alk': 2198, 'manheim': 9529, 'quijano': 12363, 'leo': 9086, '101author': 157, 'perrin': 11346, '172binding': 417, '2011051912': 660, 'bookauth': 3347, 'hummel': 7985, 'georgepubl': 7132, '17number': 429, '456binding': 1169, 'oc2011018589': 10775, 'tran': 15225, 'forkitch': 6791, 'liqu': 9222, 'poppy': 11729, 'yogurt': 16406, 'sherry': 13416, 'zest': 16455, 'charleston': 4097, 'sour': 13930, 'yul': 16431, '175': 421, 'byrn': 3776, 'joachim': 8544, 'mastery': 9621, 'utitl': 15676, 'capon': 3887, 'marypubl': 9596, '31number': 963, '2010280188': 635, 'sq220': 14110, '310': 944, 'btu': 3673, 'gasgril': 7064, 'impressfamy': 8108, 'compactgril': 4635, 'comescomplet': 4596, 'andturn': 2315, 'ignt': 8068, 'notinclud': 10625, 'sq': 14109, 'zx': 16497, 'takeout': 14715, 'seawee': 13246, 'cecil': 4013, 'hae': 7547, 'jin': 8534, 'kimch': 8725, 'moos': 10058, 'bugn': 3695, 'cartwright': 3950, 'schurman': 13162, 'aysh': 2641, 'starchild': 14159, 'brul': 3649, 'tess': 14893, 'mastersak': 9620, 'girlsh': 7201, 'tesss': 14894, 'caes': 3803, 'chickpe': 4154, 'portobello': 11747, 'bun': 3714, 'concoct': 4680, 'kal': 8626, 'flourless': 6679, 'pec': 11269, 'pud': 12266, 'tastead': 14757, 'sprouting': 14099, 'dehydr': 5307, 'probiot': 12169, 'girlal': 7198, 'combbound': 4589, 'bisquick': 3072, 'bettycrock': 2999, 'rescueauth': 12667, '239binding': 750, '2010040945': 630, 'bakerellaauth': 2735, 'dudley': 5817, 'angiepubl': 2326, '159binding': 375, 'bl2010025572': 3153, 'qlt1011': 12326, 'molto': 9998, 'batalisub': 2820, 'yoursisbn': 16423, '0062095560isbn': 18, '9780062095565general': 1779, 'entertainingsubject': 6137, 'includedf': 8144, 'recipesinclud': 12516, 'buxton': 3766, 'deann': 5249, 'ireland': 8345, '317': 952, 'amaretto': 2253, 'ghirardell': 7161, 'haa': 7541, 'penny': 11303, 'jeff': 8490, 'matric': 9635, 'tcu': 14786, 'curricul': 5111, 'esteem': 6209, 'facul': 6377, 'afterward': 2115, 'kansa': 8639, 'mrs': 10136, 'anecdot': 2317, 'druk': 5791, 'mars': 9582, 'silverstein': 13563, 'clarapubl': 4277, '242binding': 763, '2007001361': 588, 'anny': 2347, 'pistachio': 11482, 'vol': 15864, 'pickley': 11424, 'reidy': 12592, 'leloup': 9039, 'geneviev': 7113, 'jenny': 8501, 'fifteen': 6527, 'forty': 6806, 'fromtitl': 6938, 'easyauth': 5904, '21number': 721, '216binding': 715, '2007011317': 589, 'ethn': 6222, '02number': 55, '722binding': 1511, 'bl2007021156': 3143, 'loveauth': 9328, 'koch': 8804, 'marlenepubl': 9574, '442binding': 1150, 'bl2010008063': 3149, 'kitchenaid': 8750, 'pizza': 11494, 'compend': 4646, 'handsign': 7600, 'coffin': 4486, 'sparerib': 13960, 'paddleford': 11085, 'clementin': 4333, 'neil': 10378, 'mol': 9993, 'alexand': 2187, '832binding': 1640, 'bl2011033809': 3165, 'foody': 6756, 'antipast': 2367, 'oeuvr': 10803, 'barist': 2786, 'espresso': 6202, 'browniesauth': 3639, 'bryn': 3669, 'conpubl': 4711, '14number': 352, '166binding': 395, '2010001332': 619, 'yearont': 16385, 'septemb': 13301, 'wellington': 16052, 'monic': 10013, 'parsnip': 11181, 'cousc': 4915, 'foodauth': 6754, 'eric': 6179, 'palmcrantzpubl': 11117, '143binding': 332, '2012019467sku': 667, 'bkdb25510158': 3094, 'frtitle': 6964, 'processorauth': 12176, 'lund': 9374, 'joann': 8546, 'alpert': 2231, 'barbarapubl': 2777, 'usapubl': 15651, '352binding': 1012, '2005056495sku': 581, 'bkdb1618834': 3083, 'nectarin': 10365, 'woody': 16259, 'olw': 10842, 'photitl': 11396, '28number': 855, '304binding': 929, 'nissenberg': 10528, 'sandr': 13049, 'bogl': 3319, 'margaret': 9553, 'wright': 16299, 'audrey': 2581, 'mesquit': 9784, 'dummiesauth': 5825, 'johnpubl': 8557, '364binding': 1024, 'bl2010011570sku': 3151, 'bkdb5132841': 3128, 'tomato': 15128, 'soupauth': 13929, 'bley': 3229, 'akiko': 2168, 'midpoint': 9863, '09number': 115, 'bl2007007000': 3141, 'coc': 4473, 'za': 16436, 'relev': 12610, 'scagl': 13114, 'frankeny': 6839, 'bren': 3582, 'georgean': 7131, 'macaroon': 9445, 'mn': 9964, 'edward': 5958, 'ryland': 12968, 'smallpubl': 13764, '64binding': 1421, '2010044807': 632, 'legato': 9015, '351binding': 1010, 'bl2012011170': 3176, 'mixolog': 9951, 'ree': 12550, 'hippest': 7819, 'ripest': 12808, 'freshest': 6907, 'rickey': 12778, 'minty': 9922, 'mojito': 9992, 'feisty': 6479, 'daiquir': 5177, 'cordon': 4829, 'bleu': 3228, 'belind': 2937, 'yorkshir': 16411, 'provend': 12239, 'meatbal': 9709, 'aiol': 2149, 'nosh': 10614, 'seafoodtitl': 13227, 'annek': 2342, '223binding': 732, 'oc2011036516': 10776, 'cookingauth': 4798, 'ridgaway': 12785, 'dwaynepubl': 5850, 'salespubl': 13021, 'bkdb8852269': 3131, 'mindy': 9904, 'nerd': 10388, 'brittl': 3612, 'shortbread': 13461, 'halvah': 7570, 'spritz': 14096, 'thumbprint': 15042, 'racy': 12399, 'centrefold': 4034, 'roly': 12871, 'booktitl': 3355, 'naughty': 10276, 'cakesauth': 3811, 'debbiepubl': 5254, '144binding': 334, 'bl2011032659': 3164, 'margarita': 9555, 'bes': 2988, 'masso': 9615, 'lingwood': 9186, 'ancest': 2293, '1000': 133, 'maktitl': 9500, 'corpubl': 4846, '27number': 844, '684binding': 1449, '2011009744': 642, 'bagel': 2725, 'audley': 2580, 'annabel': 2341, 'debauv': 5253, 'galla': 7040, 'chocolateauth': 4195, 'cuv': 5143, 'selen': 13277, 'nikoulin': 10473, 'natach': 10261, 'bundt': 3717, 'sweeet': 14619, 'delm': 5318, 'beforetitl': 2920, 'sandrapubl': 13050, '576binding': 1315, '2010025731': 624, 'cleg': 4331, 'putm': 12314, 'kunkel': 8834, 'crepesauth': 4987, 'avnerpubl': 2623, 'artspubl': 2500, 'valand': 15698, 'steph': 14211, 'deryck': 5363, 'rit': 12822, 'effecy': 5966, 'pasta': 11202, 'risotto': 12820, 'potluck': 11766, '237binding': 748, 'bl2007021555': 3144, 'slushy': 13753, 'dummy': 5826, 'cayen': 4000, 'oconnel': 10789, 'groundbreak': 7448, 'crab': 4946, 'veal': 15729, 'raviol': 12464, 'voiceth': 15862, 'hachet': 7544, 'grouphardcov': 7450, 'freetitl': 6891, 'mccann': 9673, 'jenniferpubl': 8500, '04number': 78, '280binding': 849, '2008004700': 595, 'veronic': 15773, 'jerusalem': 8510, 'thrilled': 15024, 'ribey': 12770, 'arab': 2442, 'bah': 2730, 'garam': 7050, 'masal': 9597, 'harvest': 7653, 'lanepubl': 8892, 'consort': 4723, 'distpubl': 5623, '23number': 754, '299binding': 872, 'bl2010031085': 3154, 'nottinghamshir': 10626, 'foray': 6767, 'artisin': 2499, '023': 53, 'delaney': 5310, 'schwob': 13164, 'quail': 12334, '184binding': 437, 'bkdb26130188': 3099, 'reinvig': 12600, 'generos': 7109, 'monica': 10014, 'huckleberry': 7971, '115': 221, 'flaky': 6611, 'scon': 13172, 'quich': 12354, 'flax': 6639, 'optionsand': 10910, 'bookshardcov': 3351, '288': 852, 'barefoot': 2782, 'contess': 4746, 'basicsauth': 2809, 'gart': 7059, 'quentin': 12349, '272binding': 836, '2008010658sku': 596, 'bkdb3990569': 3125, 'ingredientsauth': 8215, 'miram': 9930, 'crt': 5035, 'werl': 16060, 'loukiepubl': 9322, '384binding': 1043, 'oc2010065585': 10771, 'leftovtitl': 9010, 'editionauth': 5951, '658binding': 1430, 'bl2012000850': 3166, 'dishesauth': 5596, 'tonipubl': 15139, 'gib': 7173, 'smithpubl': 13776, '208binding': 690, '2011038788': 651, 'wilson': 16141, 'originatitl': 10933, 'flourpubl': 6680, '512binding': 1265, '2003046253': 564, '1913': 468, 'dodo': 5659, 'mcclure': 9677, '2author': 876, 'bl2007027151': 3145, 'beth': 2996, 'observ': 10762, 'classicsauth': 4287, '449binding': 1154, '2005048958': 579, 'episod': 6159, 'phottitl': 11404, 'eatsauth': 5917, 'altonpubl': 2242, '2009007148': 605, 'newlyw': 10416, 'robin': 12847, 'flan': 6614, 'strudels': 14403, '280': 848, 'atkinson': 2552, 'vandom': 15710, 'agn': 2129, 'mcbrewster': 9672, 'chocohol': 4193, 'phob': 11391, '3178177': 953, 'infr': 8208, 'premiumstainless': 11833, '4burner': 1214, 'sunbeam': 14500, 'features': 6450, 'tocirc': 15102, 'bast': 2818, 'ownju': 11035, 'meatfork': 9710, 'includedfit': 8145, 'anderson': 2299, 'pam': 11121, 'cranberry': 4960, '256binding': 794, 'storey': 14275, 'bulletin': 3707, 'honolulu': 7893, 'hawa': 7669, 'es': 6183, 'prun': 12250, 'lickin': 9114, 'lentil': 9084, 'houston': 7948, 'terrel': 14889, 'crestw': 4991, 'andcov': 2298, 'thicknesspress': 14976, 'bottomand': 3433, 'sidewal': 13525, 'thicknessto': 14977, 'kq': 8826, '1957': 485, 'charlot': 4098, 'pennsylvan': 11302, 'odess': 10796, 'torpey': 15166, 'timesbestsel': 15074, 'kitchenphob': 8752, 'telemarket': 14857, 'clueless': 4399, 'seinfeld': 13272, 'stressful': 14342, 'confidencebuild': 4695, 'pilaf': 11445, 'exac': 6271, 'venu': 15762, 'spritzers': 14097, 'entrtitl': 6143, 'beanauth': 2879, 'dragonwagon': 5721, 'crescentpubl': 4989, '370binding': 1034, 'bl2012025556': 3182, 'muppet': 10173, 'ironauth': 8350, 'aik': 2144, 'valery': 15700, '110binding': 209, 'bl2012037149sku': 3185, 'bkdb25509967': 3093, 'aainsid': 1823, 'induldg': 8178, 'crunchy': 5043, 'aand': 1824, 'ath': 2547, 'ainsid': 2148, 'aeach': 2089, 'anda20': 2297, 'jello': 8497, 'lebovitz': 9002, 'cooksmost': 4805, 'parisincorp': 11175, 'remast': 12621, 'loignon': 9272, 'cassoulet': 3963, 'coq': 4823, 'au': 2574, 'croqu': 5021, 'monsy': 10026, 'tagin': 14706, 'dukkah': 5821, 'cauliflow': 3992, 'radicchio': 12403, 'poundcak': 11778, 'quirk': 12371, '374binding': 1036, '2011028956': 649, 'oilf': 10823, 'elixir': 6017, 'losshelp': 9315, 'alzheim': 2248, 'deg': 5303, 'diseasesstrength': 5590, 'systemimprov': 14669, 'digestionprev': 5532, 'skinbeaut': 13640, 'hairdr': 7554, 'kliv': 8772, 'elin': 6015, 'stratton': 14310, 'vegeterraneanauth': 15736, 'simo': 13572, 'malu': 9508, 'musacchio': 10178, 'albertopubl': 2180, '294binding': 866, 'tortilla': 15172, 'minutesauth': 9924, 'ryberg': 12966, 'robenpubl': 12845, '170binding': 414, 'bl2011022571': 3159, '450': 1162, '615': 1395, '135': 309, 'mcfadden': 9679, 'christine': 4213, 'weis': 16047, 'vivy': 15855, 'hest': 7780, 'alex': 2186, 'viol': 15826, 'sacas': 12980, 'mint': 9920, 'julep': 8593, 'pia': 11416, 'colada': 4496, 'special': 13976, 'tomatillo': 15127, 'coriand': 4833, 'aurth': 2593, 'antioxid': 2366, 'myriad': 10202, 'patronit': 11221, 'raisfeld': 12421, 'robinbook': 12848, '636language': 1411, '2012035400number': 672, '220place': 726, '25publisher': 811, 'blrdrpublisher': 3259, 'usareturn': 15652, '1914': 469, '2000author': 556, 'compubl': 4670, '452binding': 1164, '2007299211': 591, '1001': 139, 'farmstand': 6413, 'memoir': 9754, 'melucc': 9750, 'giul': 7204, 'ching': 4177, 'huang': 7968, 'culturetitl': 5089, 'chineseauth': 4176, 'hepubl': 7767, '2011014430': 643, 'qth1042': 12331, 'cookersub': 4794, 'devourisbn': 5471, '1592334644isbn': 374, '9781592334643general': 1783, 'vegansubject': 15733, 'fondu': 6750, 'simmon': 13571, 'coleen': 4503, 'stuart': 14407, 'gyoz': 7526, 'samosa': 13039, 'nguy': 10444, 'savannah': 13095, 'reign': 12593, 'curd': 5108, 'dessertsauth': 5425, '180binding': 435, '2002017006': 560, 'ago': 2130, 'widow': 16126, 'irm': 8348, 'rombau': 12876, 'revid': 12739, 'cris': 5006, '75th': 1543, 'rediscovery': 12544, 'hubert': 7970, 'wisn': 16211, '5th': 1356, 'zism': 16477, 'fallon': 6389, 'peggy': 11284, 'contributitl': 4759, 'bl2005019127': 3138, 'theess': 14935, 'mccarthy': 9674, '2011042556sku': 654, 'bkdb24261701': 3088, 'wingsauth': 16164, 'beisch': 2932, 'leigh': 9035, '132binding': 306, 'bl2010016631': 3152, 'homeauth': 7866, '2006014257': 585, 'trov': 15328, 'ringbound': 12798, 'scheffel': 13153, 'mccosker': 9678, 'bermingham': 2980, 'lightauth': 9138, 'bl2007012615': 3142, 'nesbit': 10391, 'goldstein': 7300, 'joyc': 8581, 'eserky': 6194, 'poach': 11578, 'paleta': 11112, 'agua': 2134, 'fresca': 6903, 'gerson': 7150, 'fany': 6406, 'hanlon': 7614, 'bravo': 3520, 'enthusiasm': 6138, 'deeply': 5288, 'resu': 12704, 'verit': 15765, 'lind': 9171, 'keyston': 8688, 'volg': 15865, 'luka': 9357, 'heaston': 7726, 'christina': 4212, 'standspreserv': 14151, 'mcclellans': 9676, 'mustardy': 10190, 'chutney': 4234, 'sorrel': 13914, 'pesto': 11361, 'pickl': 11423, 'mostarda': 10081, 'speedysom': 14002, 'maris': 9565, 'mcclellan': 9675, 'rediscov': 12543, 'batchesmost': 2822, 'cropbut': 5020, 'bushel': 3741, 'dabbl': 5169, 'qoi1007': 12328, 'fixsub': 6604, 'healthyisbn': 7715, '0470603097isbn': 73, '9780470603093general': 1780, 'generalsubject': 7108, 'angelpubl': 2324, '16number': 404, '35binding': 1016, 'gleeson': 7224, 'dinnertim': 5548, 'ponzek': 11717, 'goodbody': 7313, 'paperbound': 11155, 'roadmap': 12836, '365': 1025, 'piesauth': 11438, 'maxin': 9648, '2012028792sku': 668, 'bkdb25739684': 3098, 'hoenig': 7842, '288binding': 853, 'bl2012009901': 3171, 'gatheringsauth': 7075, '261binding': 821, 'bl2006026775': 3140, 'spinello': 14028, 'cyrst': 5155, 'bloomfield': 3250, 'maly': 9509, 'ot': 10954, 'robinson': 12849, 'nant': 10248, 'hash': 7654, 'tuminel': 15373, 'rehberg': 12590, 'conway': 4776, 'loi': 9271, '9x13': 1809, 'karoff': 8644, 'rver': 12961, 'homemak': 7871, 'orloff': 10939, 'snick': 13816, 'rees': 12555, 'lyl': 9395, 'breakout': 3543, 'rachaelpubl': 12394, '2011002926': 639, 'emmy': 6067, 'adtitl': 2079, '238binding': 749, '2009029984': 609, 'bitterm': 3077, 'wrot': 16311, 'cookingand': 4797, 'himalay': 7812, 'sashim': 13070, 'slab': 13678, 'sush': 14568, 'carpaccio': 3937, 'shellf': 13406, 'tablesid': 14688, 'handpick': 7591, 'deposit': 5350, 'punjab': 12287, '320f': 970, '900f': 1737, 'unchart': 15496, 'baljek': 2740, 'mridul': 10132, 'lebanes': 9000, '170': 412, 'faqih': 6407, 'kam': 8633, 'cok': 4494, 'peps': 11315, 'nacho': 10226, 'rut': 12958, 'brook': 3630, 'skinnymom': 13652, 'kuch': 8833, 'krist': 8829, 'leftov': 9009, 'thanksgivingauth': 14920, 'pappa': 11157, 'seibert': 13271, 'lar': 8906, '18number': 459, '111binding': 214, 'bl2011030248': 3162, 'janepubl': 8437, 'octop': 10792, 'bl2012009395': 3170, 'esntl': 6195, 'stylesinclud': 14429, 'neapolit': 10321, 'sub': 14440, 'californianfrom': 3824, 'tony': 15141, 'gemignan': 7102, 'sicil': 13518, 'margherit': 9556, 'pizzer': 11497, 'pizzaiolo': 11495, 'fiducc': 6519, 'katepubl': 8651, '2012013172sku': 665, 'bkdb25319684': 3092, 'minutestitl': 9926, '2005921341': 582, 'sanchez': 13045, 'bruscino': 3652, 'denmark': 5338, 'casupe': 3972, 'kaupert': 8657, 'vibek': 15797, '2011002951': 640, '00002427sku': 3, 'bkdb4052256': 3126, 'clem': 4332, 'ruth': 12959, 'silviapril': 13567, 'gong': 7309, '102binding': 160, '2005025316': 577, 'godfath': 7275, 'heatitl': 7732, 'carluccio': 3925, 'antoniopubl': 2371, 'trafalg': 15214, 'squarepubl': 14114, 'oc2010084543': 10774, 'cilantro': 4241, 'oregano': 10921, 'basil': 2810, 'cumin': 5091, 'plaintitl': 11518, 'jeffrey': 8494, 'saad': 12978, 'kitchenauth': 8751, 'ollivy': 10841, 'herold': 7774, '2011044909': 656, 'lemonad': 9041, 'mango': 9527, 'sangr': 13055, 'popsauth': 11730, 'kaldunsk': 8627, 'burk': 3728, '94binding': 1762, 'kirdbud': 8740, 'seymo': 13346, '175binding': 422, 'hulin': 7980, 'kho': 8696, 'kian': 8708, 'lam': 8875, 'lies': 9120, 'pequot': 11317, '244binding': 764, '2009025978': 608, 'qigong': 12324, 'latk': 8933, 'blak': 3207, 'susannah': 14567, 'impl': 8099, 'theyl': 14967, 'landmark': 8888, 'filet': 6533, 'mignon': 9878, 'cookunderstand': 4806, 'burrel': 3734, 'techniqueslik': 14834, 'focacc': 6733, 'priceless': 12012, 'marinad': 9564, 'coax': 4471, 'carbonar': 3905, 'frittat': 6927, 'oilpoach': 10824, 'anchovy': 2295, 'andmayb': 2304, 'allhaway': 2208, 'cannellon': 3865, 'romain': 12873, 'crunch': 5042, 'raisin': 12422, 'crispy': 5009, 'bookpl': 3350, '262': 822, 'vollstedt': 15866, 'maryan': 9594, 'unoff': 15570, '187': 441, 'mockingjay': 9973, 'collin': 4550, 'suzan': 14577, 'sust': 14572, 'fititl': 6592, 'rudnick': 12936, 'kellypubl': 8671, '246binding': 765, '2012039957': 673, 'jambalay': 8434, 'pharo': 11380, 'cooney': 4814, 'treasury': 15257, 'grillmast': 7422, 'slav': 13684, 'einstein': 5984, 'everyoneauth': 6256, 'ji': 8526, 'sook': 13904, 'moriyam': 10069, 'yukikopubl': 16430, 'kodansh': 8806, '112binding': 216, 'pricegourmet': 11981, 'kitchenw': 8754, 'supermarket': 14529, 'housew': 7947, 'personnel': 11353, 'priceeveryday': 11959, 'buttermilk': 3753, 'cornbread': 4837, 'melb': 9739, 'yum': 16432, 'who': 16107, 'souffl': 13919, 'superbl': 14520, '2012376639sku': 675, 'bkdb24253074': 3087, 'cookboook': 4793, 'flay': 6640, 'cookbookdump': 4786, 'mein': 9733, 'priceenjoy': 11953, 'occasionschristma': 10779, 'goauth': 7268, 'sharronpubl': 13382, 'corppubl': 4845, '278binding': 838, '2004013273': 570, 'saladsauth': 13019, 'juliapubl': 8595, 'natl': 10264, 'networkpubl': 10400, '96binding': 1774, 'cookbooksku': 4790, 'bkdb26536967': 3120, 'cakeauth': 3810, 'castell': 3965, 'krystinapubl': 8830, '343binding': 999, '2010020752sku': 623, 'bkdb9340314': 3133, 'passov': 11199, 'avrutick': 2626, 'smackin': 13758, 'mfg': 9823, '7627': 1553, '2531': 791, 'burton': 3738, 'nel': 10379, 'newm': 10417, 'simplerecip': 13576, 'wok': 16237, 'siegel': 13528, 'vibbert': 15796, 'ilt': 8082, '95048231': 1767, 'alton': 2241, 'bl2008010712': 3146, 'pillsbury': 11449, 'mang': 9525, 'myculinarylab': 10199, 'codeauth': 4483, 'labensky': 8850, 'haus': 7665, 'martel': 9586, 'priscill': 12159, 'eddypubl': 5942, 'pearson': 11264, 'divpubl': 5640, 'bkdb26163686': 3104, 'williamsburg': 16138, '2011014430sku': 644, 'bkdb21237807': 3085, 'preparationauth': 11839, 'mcwilliams': 9687, '22number': 739, '398binding': 1057, '2011048705': 658, 'projectsauth': 12201, 'ingram': 8214, 'servicespubl': 13311, '2010038221': 628, 'timesav': 15073, 'pricechocolaty': 11916, 'gourmand': 7336, 'popsic': 11731, 'arestitl': 2459, 'zaid': 16440, 'emilypubl': 6063, '2012014631': 666, 'pharm': 11377, 'printtitl': 12157, 'handbookauth': 7577, 'layton': 8961, 'diannepubl': 5499, '286binding': 851, '2002074978': 561, 'aarp': 1825, 'facebookauth': 6369, 'marshapubl': 9583, 'bl2012019195': 3179, 'adopt': 2073, 'pun': 12282, 'advoc': 2087, '1950s': 484, '1960s': 487, 'babbleauth': 2652, 'rosemond': 12896, '220binding': 724, '2012936734': 676, 'portland': 11746, 'demonsttitl': 5327, 'yeastauth': 16389, '265binding': 828, '2012012080sku': 664, 'bkdb25527972': 3095, 'heston': 7781, 'preservingauth': 11850, '541binding': 1286, 'bl2012021040sku': 3181, 'bkdb25151619': 3090, 'prodtitl': 12180, 'guideauth': 7490, 'wittenberg': 16220, '2008003683': 594, 'armagnac': 2469, 'definitv': 5299, 'brandy': 3509, 'jul': 8592, 'chronological': 4225, 'bl2002009917': 3136, 'bkdb26539169': 3121, 'berk': 2977, 'annpubl': 2346, 'leventh': 9100, 'oc2007085045': 10769, 'mozzarell': 10122, 'tangy': 14732, 'vietnames': 15812, 'indones': 8174, 'curry': 5112, 'malays': 9502, 'samb': 13036, 'brissend': 3607, 'rosemarypubl': 12895, '567binding': 1307, 'herrmannpubl': 7776, '247binding': 766, '2009044019sku': 611, 'bkdb8808043': 3130, 'gulf': 7500, 'gumbo': 7504, 'kca': 8661, 'pbk': 11242, 'knopf': 8794, 'handbook': 7576, 'outsku': 10994, 'bkdb26428450': 3110, 'abuel': 1860, 'germain': 7144, 'daniellapubl': 5192, '125binding': 267, 'bl2012033098sku': 3183, 'bkdb25528312': 3096, 'onboard': 10855, 'swoon': 14646, 'kimpubl': 8727, '2011015317sku': 646, 'bkdb22854146': 3086, 'knowauth': 8797, 'harrison': 7646, '302binding': 926, '2008299158': 602, 'drumet': 5793, 'minestron': 9908, 'gravy': 7388, 'arroz': 2488, 'pollo': 11661, 'artichok': 2497, 'dil': 5536, 'custard': 5123, 'innkeep': 8236, 'paleolith': 11109, 'virginy': 15833, 'michelin': 9833, 'frittata': 6928, '375f': 1038, 'nsf': 10660, '3250': 973, 'electricsku': 6002, 'adib0016hn87s': 2035, 'cookbooksno': 4791, 'lovin': 9332, 'cookbookfifty': 4788, 'cookbookf': 4787, 'shiroauth': 13438, 'kashib': 8646, 'shiro': 13437, '315binding': 950, 'bl2012015402': 3177, 'tapa': 14738, 'spain': 13948, 'forem': 6780, 'seny': 13295, 'comeback': 4593, 'chery': 4134, 'calbom': 3814, '515130': 1268, 'matz': 9643, 'kdoshim': 8664, 'debby': 5255, 'webst': 16022, 'roget': 12867, 'thesaurusauth': 14961, 'houghton': 7937, 'mifflin': 9874, 'harcourtpubl': 7623, 'bl2008028220': 3147, 'funsku': 6998, 'bkdb26521944': 3116, 'quino': 12368, 'chipotl': 4180, 'demontitl': 5328, 'revolutionauth': 12745, 'carolynpubl': 3934, '211binding': 708, 'bl2013001615sku': 3187, 'bkdb26133312': 3101, 'techniquessom': 14836, 'ancientth': 2296, 'mosa': 10074, 'mosaicsauth': 10075, 'martinpubl': 9589, 'quaysid': 12347, 'bl2006011902': 3139, 'deacon': 5242, 'oftitl': 10816, 'carolpubl': 3932, 'bl2012007577': 3169, 'restaurantsku': 12698, 'bkdb26522077': 3117, 'schools': 13161, 'ker': 8678, 'swift': 14631, 'feingold': 6477, 'hyperact': 8026, 'vegetablesauth': 15735, 'shailypubl': 13356, 'bl2012020989': 3180, 'knead': 8778, 'breadauth': 3537, 'cassidy': 3962, '2012033044sku': 670, 'bkdb25739682': 3097, 'hippocr': 7820, 'trailblaz': 15217, 'rework': 12752, 'saffron': 13004, 'aust': 2594, 'subsequ': 14462, 'schnitzel': 13157, 'bologna': 3327, 'cq': 4943, 'productspubl': 12186, '60binding': 1382, 'gissl': 7203, '6th': 1473, 'mamm': 9514, 'castellano': 3966, 'stefano': 14203, 'parussolo': 11191, 'aidel': 2143, 'saus': 13092, 'porcin': 11738, 'tenderloin': 14874, 'prosciutto': 12223, 'folkl': 6746, 'doughnutsauth': 5699, 'ferron': 6496, '2010003612sku': 620, 'bkdb9249529': 3132, 'cupcakery': 5097, 'jerk': 8503, 'jama': 8433, 'patty': 11227, 'sting': 14251, 'bluevelvet': 3270, 'flamingo': 6613, 'hin': 7814, 'sideb': 13521, '1993': 500, 'breadmak': 3538, 'teaauth': 14812, 'carrarin': 3939, 'rosepubl': 12897, 'phaidon': 11376, '186binding': 440, 'crostin': 5031, 'tramezz': 15224, 'popcornauth': 11725, 'dymock': 5859, 'cymockpubl': 5153, '121binding': 261, '2011027641': 647, 'jewellery': 8518, 'schmuck': 13156, 'denkenauth': 5337, 'lindeman': 9173, 'wilhelm': 16136, '350binding': 1009, 'noodlesauth': 10596, 'ritz': 12823, 'sallet': 13025, 'shrewsbery': 13492, 'elizabeth': 6019, 'tavern': 14781, 'saloon': 13030, 'speakeasy': 13971, 'grog': 7438, 'catf': 3982, 'reidpubl': 12591, '00066358': 10, 'elv': 6029, 'alven': 2245, 'roytitl': 12924, 'kingauth': 8734, 'mckeon': 9681, 'gevirtz': 7154, 'bandy': 2763, 'juliepubl': 8596, '92025266': 1751, 'antitl': 2368, 'celebratoriauth': 4018, 'toripubl': 15164, '275binding': 837, '2012000605': 662, 'estef': 6210, 'bbq': 2848, 'specititl': 13987, 'raypubl': 12470, '308binding': 931, '2005054448': 580, 'sh': 13348, 'eighty': 5983, 'ming': 9909, 'tsa': 15346, 'boehm': 3317, 'achilleo': 1900, 'anton': 2370, 'bl2011000133': 3156, 'bkdb26530698': 3119, 'discuss': 5588, 'infertil': 8194, 'fertil': 6499, 'undergo': 15512, 'babyauth': 2664, 'fulgh': 6978, 'thatch': 14923, 'berg': 2975, 'brittpubl': 3614, '394binding': 1053, '2010485137': 636, 'dinnerstitl': 5547, 'krieg': 8828, '26number': 830, '2008056026': 601, 'charlesbridg': 4096, '2009032676': 610, 'yak': 16373, 'sob': 13846, 'wonton': 16251, 'udon': 15451, 'chen': 4130, 'wych': 16322, '2008055997': 600, 'toff': 15116, 'paprik': 11158, 'treatsauth': 15260, 'hannah': 7615, '2011044051': 655, 'trelo': 15266, 'brigidpubl': 3598, 'thititl': 15004, 'adultsauth': 2081, 'reginapubl': 12585, '2009025725': 607, 'breadsauth': 3539, 'phyl': 11412, 'pellm': 11287, 'bkdb1067095': 3082, 'jewelryauth': 8522, 'franchettipubl': 6835, '212binding': 711, 'oc2010072168': 10773, 'kirk': 8741, '575': 1313, 'baron': 2791, 'anj': 2336, 'indianauth': 8167, 'anand': 2290, 'anjumpubl': 2337, '2010028350': 625, 'jefferson': 8491, 'meatloaf': 9712, 'emeril': 6058, 'oyst': 11041, 'andtitl': 2314, 'emerilauth': 6059, 'lagass': 8868, 'emerilpubl': 6060, '2001030851': 558, 'dishauth': 5595, 'millang': 9890, 'theresapubl': 14948, 'pubnspubl': 12263, '1999': 506, 'fiesta': 6525, 'frid': 6916, 'recuerdo': 12534, 'receta': 12512, 'allergiesauth': 2206, 'coss': 4861, 'marienhoffpubl': 9559, 'plumt': 11566, '200binding': 613, '2003098036': 565, 'horac': 7917, 'compromiseauth': 4669, 'theod': 14941, '257binding': 795, '2004559154': 573, 'bl2013004537sku': 3188, 'bkdb26222559': 3109, 'pricekashr': 12007, 'burrito': 3735, 'enchilada': 6081, 'throwdown': 15033, 'planningsku': 11523, 'bkdb26517589': 3115, 'oreo': 10923, 'ftitl': 6972, 'scratchauthor': 13188, 'caseypubl': 3957, 'mabl': 9441, 'hoffm': 7843, 'stillmeadow': 14247, 'presid': 11853, 'itun': 8396, 'imovy': 8092, '290binding': 860, '2007932468': 592, 'qui': 12353, '126binding': 271, 'esteph': 6211, 'bernard': 2983, 'jessy': 8514, 'bur': 3722, 'bl2011030832': 3163, '221binding': 729, 'bl2012010091sku': 3172, 'bkdb24262907': 3089, 'dietsku': 5523, 'bkdb26516489': 3114, 'fundra': 6991, 'cancerauth': 3857, 'holt': 7862, 'gretch': 7410, 'sampson': 13041, 'schaeffer': 13149, '157binding': 372, '2010048202': 633, 'lumpy': 9369, 'katiepubl': 8654, '127binding': 273, 'bkdb26195444': 3106, 'chapm': 4085, 'balt': 2748, 'atla': 2554, 'tash': 14749, 'deserio': 5392, 'mealtitl': 9697, 'dinnerauth': 5546, 'tashapubl': 14750, '202binding': 681, '2011047708': 657, 'splenda': 14039, 'webauth': 16020, 'coorough': 4818, 'calleen': 3826, 'shum': 13508, 'ptrpublication': 12258, '554binding': 1299, 'oc2008075649': 10770, 'mastercook': 9618, 'techniquesauth': 14833, 'embery': 6042, 'prent': 11836, 'hallpubl': 7566, '1181binding': 228, 'bkdb26163664': 3103, 'kalmbach': 8631, 'stringing': 14366, '1995': 503, 'pintxatu': 11475, 'se': 13223, 'chilehead': 4164, 'noy': 10642, 'tamasinpubl': 14723, '209binding': 692, 'bl2010010211': 3150, 'cookingsku': 4801, 'bkdb26540154': 3122, 'napkin': 10252, 'crtitle': 5036, 'pancakesauth': 11128, 'normapubl': 10605, '185binding': 439, '2011009511': 641, 'paso': 11195, 'notessku': 10623, 'bkdb26507319': 3113, 'gado': 7030, 'origtitl': 10935, 'steamy': 14194, 'favoritesauth': 6434, '229binding': 736, '2012029987sku': 669, 'bkdb26202982': 3108, 'kitchensku': 8753, 'bkdb26500147': 3112, 'flavorssku': 6636, 'bkdb26456082': 3111, 'imtitl': 8113, 'photographyauth': 11400, 'macdonald': 9449, 'roderickpubl': 12863, '150binding': 361, 'bl2004000155': 3137, 'alask': 2175, 'eatauth': 5910, 'santor': 13059, 'nantucket': 10249, 'demarco': 5323, 'cocin': 4475, 'guia': 7488, 'vid': 15805, 'ecologic': 5930, 'truco': 15332, 'consejo': 4716, 'sp': 13941, 'korn': 8821, 'bloop': 3252, 'bkdb17621273': 3084, 'snyd': 13841, 'mik': 9880, 'faass': 6350, 'bul': 3700, 'loren': 9309, 'novak': 10632, '291binding': 861, 'bkdb8746204': 3129, '319binding': 959, 'bl2012015737': 3178, 'snacksauth': 13799, '124binding': 265, 'shenandoah': 13413, 'bry': 3668, 'cox': 4935, 'restaurantpubl': 12697, '2008037779': 598, 'priceflav': 11970, '25number': 807, '1183binding': 229, 'bkdb26133256': 3100, 'preservesauth': 11849, 'mayhew': 9658, 'maggiepubl': 9468, 'mattersauth': 9640, 'nagin': 10227, 'projectpubl': 12200, '129binding': 281, '2005032612': 578, 'antholog': 2358, 'welltitl': 16053, 'hay': 7673, 'poulo': 11775, '2004301840': 572, 'mallo': 9506, 'fillo': 6539, 'kataif': 8650, 'quak': 12336, 'paleo': 11108, 'cordain': 4826, 'eatintitl': 5916, 'stephenson': 14213, 'lorry': 9310, '2010044309': 631, 'cul': 5085, 'eatery': 5913, 'fenig': 6489, 'alg': 2192, 'kajs': 8625, 'lachm': 8854, 'liz': 9241, '2011041175': 652, 'dickpubl': 5512, '480binding': 1201, '2010040138': 629, 'tob': 15099, 'garret': 7058, 'techniquessku': 14835, 'bkdb26530353': 3118, '233binding': 744, '2012040590sku': 674, 'bkdb26158948': 3102, 'paleonutrit': 11110, 'foodway': 6755, 'archaeolog': 2449, 'brisket': 3606, 'pel': 11285, 'kirby': 8739, '2010031889': 627, 'murdoch': 10176, 'bkdb25180717': 3091, 'caveauth': 3996, 'mcgahren': 9680, '2012007238': 663, 'alabam': 2172, 'wurtzel': 16315, 'katrin': 8655, '160binding': 388, 'bl2012010236': 3173, 'jag': 8428, '309binding': 932, 'bl2011024963': 3160, 'waysku': 16000, 'bkdb26563688': 3123, 'flowerssku': 6688, 'bkdb26563832': 3124, 'cinnamon': 4250, 'szechu': 14676, 'morocc': 10071, 'cresc': 4988, 'fertig': 6498, 'piep': 11435, 'kahl': 8622, '93binding': 1759, 'bl2012035844': 3184, 'lightbulb': 9140, 'bkdb26172451': 3105, 'settingsauth': 13331, 'vivaldo': 15852, 'denisepubl': 5336, 'bl2010035558': 3155, 'macaroonsauth': 9446, 'marech': 9552, 'jos': 8572, '72binding': 1513, 'oc2010066066': 10772, 'technicsauth': 14832, 'rollin': 12869, 'markpubl': 9572, 'springer': 14083, 'verl': 15767, 'whoop': 16114, '2011015161': 645, 'choreograph': 4205, 'cleveland': 4336, 'ititl': 8389, 'weinstein': 16046, 'miriampubl': 9931, '260binding': 818, '2006285310': 586, 'ferr': 6495, '187binding': 444, '2011028171': 648, 'cheetitl': 4123, 'yarnel': 16380, 'elizabethpubl': 6020, '2008023029': 597, 'touchdown': 15178, 'foulsham': 6814, 'sandwichesauth': 13053, 'hendrickson': 7761, 'unitedpubl': 15555, 'comtitl': 4673, 'mineauth': 9905, '2012033950sku': 671, 'bkdb26200703': 3107, 'propos': 12218, 'query': 12350, 'nonfict': 10585, 'anybody': 2375, 'writeauth': 16308, 'lyon': 9399, '320binding': 969, '2003265945': 567, 'prat': 11810, 'norwood': 10612, '300binding': 917, 'manhat': 9528, 'nineteen': 10481, 'cupauth': 5094, 'haley': 7562, 'laurenpubl': 8947, '2010008335': 622, 'vineg': 15822, 'poblano': 11579, 'jalapetitl': 8431, 'trainerpubl': 15219, '2011051481': 659, 'tric': 15285, 'trickyknit': 15290, 'etsy': 6233, 'handknit': 7584, 'patttitl': 11226, 'wayauth': 15998, 'bl2011028941': 3161, 'nitty': 10533, 'gritty': 7435, '1911': 467, 'restino': 12699, 'scodella': 13171, 'scodell': 13170, 'hillm': 7809, 'viddl': 15806, 'ya': 16370, 'convalesc': 4766, 'mexico': 9820, 'uncork': 15504, 'iraq': 8344, 'mos': 10073, 'fingerfood': 6555, 'manfred': 9523, 'chewsw': 4145, 'assign': 2530, 'boulangery': 3445, 'kenney': 8675, 'matthew': 9641, 'meredithpubl': 9773, '2011032735': 650, 'zeal': 16447, 'pursuit': 12310, 'ofpleas': 10812, 'sobocinsk': 13847, 'connecticut': 4709, 'backst': 2701, 'jargon': 8441, 'hobby': 7837, 'sweets': 14626, 'wendypubl': 16056, 'bl2012006997': 3168, 'gastronom': 7071, 'homeopath': 7872, 'alt': 2237, 'yar': 16377, 'castro': 3969, 'richardpubl': 12776, '2008042798': 599, 'bakingauth': 2737, 'yong': 16409, 'mopubl': 10062, '2005923489': 583, 'sri': 14127, 'lank': 8894, 'bourguignon': 3454, 'louisian': 9321, 'ced': 4014, 'plank': 11522, 'redf': 12542, 'erato': 6175, 'pompano': 11710, 'bomc': 3334, 'qpb': 12329, 'cuisineauth': 5084, 'hoy': 7955, 'daniel': 5191, 'snort': 13820, 'marty': 9590, '2007033541': 590, 'midwestern': 9871, 'bc': 2857, 'onward': 10876, 'bochinsk': 3303, 'julian': 8594, 'blairpubl': 3206, 'sonspubl': 13901, '2004isbn': 574, '9780471273363isbn': 1781, '0471273368format': 74, 'paperbacknumb': 11153, '130shipping': 301, '64product': 1427, '42x0': 1134, '44x9': 1160, '44sku': 1159, 'tata29324213': 14775, 'afresh': 2110, '5x7': 1368, 'bookmark': 3349, '5x7shipping': 1369, 'antiuq': 2369, 'this5x7': 14999, 'techin': 14830, '16th': 406, 'hoof': 7908, 'tata27989822': 14773, 'genuine6x8': 7124, '3x5': 1094, 'moss': 10077, 'contrastingfuchs': 4756, 'leatherty': 8997, 'eccolo': 5922, 'calduccio': 3816, 'meadow': 9693, 'whimisc': 16085, '403218': 1103, 'theturquo': 14964, '6x8': 1480, 'fantiast': 6405, '6x8shipping': 1482, 'monarchy': 10008, 'flu': 6702, 'tata28432396': 14774, 'contrastingorang': 4757, 'tata27989445': 14772, '22lr': 738, '9842': 1788, 'journalin': 8576, 'sty': 14420, 'ish': 8356, '6x8journal': 1481, 'tata24481595': 14771, 'beeswax': 2917, 'shany': 13364, 'blush': 3274, 'kitindulg': 8755, 'cheeky': 4115, 'plastic7': 11528, 'hightwo': 7803, 'mascar': 9598, 'surg': 14556, 'thirst': 14995, 'cutic': 5134, 'cosmet': 4858, 'adib00kvni4gs': 2061, 'clog': 4356, 'acn': 1905, 'seborrh': 13249, 'shrinks': 13500, 'surgeon': 14557, 'aroma': 2478, 'arpel': 2483, 'supern': 14531, 'kohl': 8807, 'alph': 2232, 'hydroxy': 8018, 'safflow': 13003, '107': 170, 'blockbust': 3240, 'skinton': 13661, 'illuminatorrandom': 8079, 'daywearrandom': 5228, 'lipcol': 9208, 'rubellit': 12930, 'passionrandom': 11198, 'fresco': 6904, 'nocturn': 10565, 'moonperfect': 10056, 'detailsbeauty': 5436, 'giftinclud': 7178, 'eyeshadow1': 6342, 'compac': 4633, 'foundation8': 6816, 'mascaraswirl': 9605, 'applicatorssku': 2413, 'adib00jgzp0by': 2059, 'smold': 13786, 'adry': 2078, 'caps': 3894, 'eyecol': 6333, 'bagth': 2728, 'baremin': 2783, 'mai': 9482, 'tai': 14709, 'petun': 11369, 'lipgloss': 9210, 'nyx': 10750, 'aficionado': 2105, 'covergirl': 4920, 'dory': 5688, 'g1672': 7021, '24xe': 782, 'shdw': 13387, '1xe': 544, '4xblush': 1244, '2xpressed': 912, 'pwd': 12319, 'mist': 9942, '21g': 719, '74oz': 1527, 'crayol': 4966, 'brushedglam': 3655, 'unbox': 15493, 'boi': 3322, 'lacqu': 8857, '150g': 362, 'tuberos': 15358, 'moi': 9985, 'belg': 2935, 'brinclud': 3603, 'brchocolate': 3534, 'brsoothing': 3645, 'brmoisturizing': 3615, 'br7': 3489, 'brov': 3635, 'brbreach': 3530, 'bgift': 3014, 'brbrbwhen': 3529, 'bimport': 3041, 'multiply': 10162, 'fals': 6390, 'crossbon': 5024, 'slumb': 13751, 'kittwo': 8761, 'moxy': 10120, 'melon': 9745, 'complect': 4654, 'spf15': 14007, 'stroke': 14384, '120mlproduct': 256, 'kitproduc': 8758, 'uplift': 15627, 'regain': 12580, 'glowproduc': 7246, 'laneig': 8891, 'spf': 14006, '41product': 1121, '50ml1': 1258, 'upscr': 15633, 'styleal': 14423, 'lipcolo': 9209, 'applicatorid': 2412, 'giftproduc': 7179, 'setproduc': 13328, '23g': 752, '81oz': 1629, '592': 1325, '11055693714': 208, '4pcs': 1232, 'gg220': 7157, '25x': 813, 'applicatorwel': 2415, 'cameleon': 3837, 'gg220product': 7158, '45ml': 1176, '52oz': 1281, 'morphos': 10072, '30ml': 936, '20ml': 697, '68oz': 1453, 'namebrand': 10237, '100pcs': 153, 'unknown': 15557, 'adib005ukzajg': 2047, 'celluless': 4025, 'md': 9688, 'cellulit': 4026, 'therapeut': 14944, 'eyshadow': 6345, '24x': 781, 'bellapier': 2939, 'blond': 3245, 'mascara': 9599, '12033593714': 251, '6pcs': 1469, 'bareskin': 2784, 'talc': 14718, 'bindersso': 3044, 'mineralslook': 9907, 'skinwork': 13663, 'sephor': 13299, 'storylook': 14280, 'ped': 11270, 'girlz': 7202, 'tweez': 15406, 'readout': 12488, 'profus': 12195, 'moiton': 9991, 'zing': 16462, 'gusto': 7519, 'fluoro': 6710, 'budg': 3688, 'nar': 10255, '13217802614': 304, '1xeyeliner': 546, 'stylo': 14437, '1xvloumizing': 550, '1xeyelash': 545, '3pcs': 1086, 'spectac': 13992, 'eyebrow': 6332, 'stencil': 14209, 'c1': 3778, 'clarison': 4279, 'mia': 9827, 'misc': 9934, 'comedog': 4594, 'physiciansformul': 11414, 'stride': 14357, '12h': 286, '24w': 780, '11d': 235, 'blushbronz': 3275, '1applicatior': 514, 'dimin': 5541, 'dewy': 5476, 'aloneproduc': 2226, 'peau': 11267, 'goldproduc': 7295, '4ml': 1229, '09oz': 116, 'adib000oafbp0': 2032, 'debra': 5258, 'triplet': 15310, 'repairwear': 12645, 'jetset': 8516, 'iq': 8342, '6g': 1460, '5g': 1338, 'esthet': 6212, 'lf20': 9103, 'germanyf': 7146, 'attachementsreduc': 2563, 'callus': 3827, 'ingrown': 8220, 'nailsgr': 10232, 'womenom': 16243, 'luxry': 9384, 'emery': 6061, 'messless': 9795, 'originalf': 10932, 'fis': 6577, 'oed': 10800, 'powdery': 11791, 'tonesfo': 15134, 'themesshay': 14940, 'blackcom': 3195, 'caboodl': 3799, 'hperfect': 7958, 'blot': 3254, 'kitth': 8760, '138': 313, 'arg': 2460, 'includes7': 8148, 'belloccio': 2940, 'airbrush': 2152, 'bf004': 3009, 'underton': 15523, 'loofah': 9290, 'potpourr': 11767, 'paperboard': 11154, 'whitewash': 16105, 'bplease': 3482, 'fabalicy': 6352, '145497': 335, 'adib00n5jcp9m': 2062, 'shadowshad': 13354, 'winx': 16176, '221': 728, 'colonel': 4556, 'conk': 4707, 'mug': 10151, 'boar': 3291, 'bellpier': 2942, 'mask': 9609, 'salon': 13029, 'shopkin': 13458, 'bc001': 2858, 'bc002': 2859, 'marron': 9580, 'bc003': 2860, '12cosmetic': 283, 'hdb15561156': 7685, '20pc': 701, 'pix': 11489, 'nemo': 10382, 'hank': 7612, 'sharpenerglam': 13379, 'liscy': 9231, 'artsy': 2501, 'doggon': 5663, 'bwhat': 3769, 'brbrbwhat': 3528, 'bbrthis': 2856, '2min': 891, '3min': 1077, '8pc': 1724, 'plaidtab': 11516, 'mirror2': 9932, 'applicatorssleek': 2414, 'sunkiss': 14510, '1937': 480, 'yv': 16434, '12068781702': 253, 'roug': 12913, 'etrusqu': 6232, '13oz': 320, 'dioxid': 5553, 'applicationproduc': 2408, '82g': 1638, '21oz': 722, '14723768514': 337, '398': 1056, '72x': 1516, '161': 390, 'parfait': 11172, 'kyly': 8840, 'bourjo': 3455, 'spongetip': 14054, 'mascara9x': 9601, 'conta': 4733, 'shadows4': 13353, 'liners2': 9182, 'liners1': 9181, 'mascara3': 9600, 'bronzers3': 3627, 'blushes1': 3276, 'powder1': 11789, 'powder4': 11790, 'aplicators4': 2392, 'brbrincludes': 3532, 'pouf': 11774, 'hadak': 7545, 'kalencom': 8629, '88161753409': 1672, 'adib01dc36al4': 2063, 'shadowssev': 13355, 'blushperfect': 3277, 'beautyhol': 2892, 'confess': 4692, 'colorhol': 4567, '14x': 355, 'multius': 10168, 'multipurpos': 10164, 'bronzer10': 3626, 'applicationset': 2409, 'contentslarg': 4745, 'rdquomedium': 12483, 'rdquosmall': 12484, 'rdquoblending': 12477, 'rdquocontour': 12478, 'rdquoeyeshadow': 12482, 'rdquoeyeliner': 12481, 'rdquoeye': 12480, 'rdquocontourblending': 12479, 'rdquoapply': 12476, 'proov': 12211, 'applicationsynthet': 2411, 'creamswork': 4975, 'strobingbuild': 14383, 'cakeyleav': 3812, 'streakfree': 14320, 'finishinnov': 6561, 'designangul': 5398, 'applicationflex': 2407, 'stabilityergonom': 14131, 'uselow': 15663, 'cleaningproduc': 4309, 'doesnrsquot': 5660, 'quickdeep': 12357, 'isnrsquot': 8360, 'combinationl': 4591, 'oi': 10820, 'staircas': 14141, 'shelv': 13412, 'testedproduc': 14898, 'steppesproduc': 14214, '3oz': 1084, 'wapply': 15928, '1g': 525, 'sachet': 12981, 'asan': 2509, 'pixy': 11491, 'stix': 14258, 'kabuk': 8620, 'taklon': 14716, 'colleagu': 4539, 'stippl': 14253, 'hairlin': 7556, 'jawlin': 8447, 'smudgingproduc': 13795, 'ultraflesh': 15470, 'panther': 11141, 'mascaraproduc': 9604, '5ml': 1345, '29oz': 874, 'lightbrightest': 9139, 'blacklight8': 3199, 'dayglow': 5217, 'coloursdry': 4585, 'waterid': 15984, 'jc201': 8457, 'maybellin': 9653, 'eras': 6174, 'cologn': 4554, 's124': 12972, 'prefect': 11826, 'polybut': 11667, 'polyisobut': 11695, 'c12': 3780, 'alkyl': 2200, 'pentaerythrityl': 11305, 'tetraiso': 14902, 'stear': 14195, 'isopropyl': 8371, 'myr': 10201, 'isononyl': 8370, 'isononano': 8369, 'hydroxystear': 8021, 'capryliccapr': 3892, 'albabeeswax': 2177, 'fdc': 6439, 'ethylhexyl': 6227, 'palmit': 11118, 'ultramarin': 15474, 'caseth': 3955, 'aluminumbeauty': 2244, '100pc': 152, 'revlon': 12744, 'coverg': 4919, 'volumin': 15870, 'infall': 8188, 'adn': 2070, 'inclu': 8139, 'clarin': 4278, '13403380314': 308, 'bf005': 3010, 'micron': 9847, 'packingproduc': 11070, 'eyelinerproduc': 6339, '11oz': 243, '8pcs': 1725, 'dryproduc': 5798, 'glimmerproduc': 7227, '57g': 1319, '02oz': 56, 'oilsbrand': 10825, 'nowproduc': 10641, 'ozgend': 11045, 'fragil': 6829, 'spars': 13967, 'dayproduc': 5221, 'revitalash': 12743, 'conditionerproduc': 4686, '118oz': 231, 'paletteess': 11113, 'clothsstudio': 4390, 'mascaraess': 9602, 'tra': 15207, 'joeess': 8552, 'primeress': 12135, 'zit': 16478, 'intuitonetm': 8313, 'ophthalmolog': 10897, 'moxietm': 10119, 'voluptu': 15872, 'pout': 11786, 'abyssin': 1864, 'anythingand': 2379, 'fullnessr': 6980, '7cm': 1587, 'absolu': 1854, 'lancom': 8885, 'sunscreen': 14514, 'balsam': 2747, 'jojob': 8562, 'lookproduc': 9296, 'hr': 7960, '7g': 1591, 'lish': 9232, 'kooky': 8816, 'gho': 7162, 'bf002': 3008, 'wristlet': 16306, 'sunr': 14513, '605': 1377, 'adib002l6m068': 2041, 'hydrog': 8010, 'ci': 4235, '77891': 1577, '77499': 1572, '77492': 1571, '77491': 1569, 'manganes': 9526, '77742': 1574, 'ultram': 15473, '2cm': 879, 'biggerst': 3028, '3cm': 1065, '19gpackage': 508, 'brushingredy': 3658, 'mouseket': 10105, 'doorstep': 5684, 'rarelovejewelry': 12449, 'reservedcom': 12671, 'quad': 12332, 'splendours': 14043, 'quartet': 12342, 'matrix': 9637, 'traject': 15223, 'grav': 7386, 'mallet': 9505, 'goldshin': 7298, 'toot': 15145, 'flz': 6728, 'wearingproduc': 16010, 'creaseless': 4978, 'linerproduc': 9180, '16oz': 405, 'manufacturerwear': 9540, 'descriptionwear': 5390, 'cheekbon': 4114, 'typesproduc': 15435, 'ysl': 16429, 'blushproduc': 3278, '19oz': 510, 'teint': 14851, 'edp': 5954, '7ml': 1595, 'ur': 15640, 'parfum5ml': 11173, 'tweezerm': 15407, 'varn': 15720, '13pc': 321, 'wonk': 16249, 'laffy': 8866, 'taffy': 14704, 'razz': 12472, 'anywhereproduc': 2384, 'youngblood': 16419, 'radianceproduc': 12402, '335oz': 986, 'aromafloriabrand': 2479, 'lessproduc': 9092, 'sagegend': 13009, 'unisexfragr': 15549, 'anxy': 2374, '2003recommended': 568, 'puposk': 12294, '28oz': 856, 'pandor': 11131, 'cosmect': 4857, 'awsom': 2638, '400pcs': 1102, 'spur': 14107, 'calypso': 3831, 'smoothfin': 13791, 'glitterremov': 7231, '0g': 121, 'vanil': 15712, '1bag': 515, 'giordano': 7192, '268': 829, 'porefess': 11740, 'dandel': 5188, 'benetint': 2959, 'nerol': 10389, 'silic': 13540, 'spirulin': 14032, 'anastas': 2292, 'macy': 9457, 'luminos': 9366, 'hippy': 7821, 'vagabond': 15695, 'yan': 16375, 'vasny': 15725, 'cardamom': 3908, 'junip': 8604, 'calypson': 3832, 'molec': 9995, 'ozon': 11047, 'guaiac': 7470, 'sandalwood': 13047, 'kaj': 8624, 'cin': 4242, 'systemp': 14671, 'microdermabras': 9842, 'motionadv': 10087, 'creamdermatolog': 4973, 'approvedclinica': 2427, 'prac': 11802, 'effectsproduc': 5965, 'giorgio': 7193, 'maestro': 9462, 'colorsproduc': 4580, '06oz': 93, 'detailsuv': 5454, 'lightprem': 9145, 'quality8': 12338, 'lightingsku': 9143, 'adib00hyc264a': 2058, 'fibr': 6513, 'depil': 5349, 'leego': 9007, 'adib007n16lg6note': 2051, 'gingerbread': 7189, 'descriptionm': 5383, 'lifeless': 9125, 'adib000b9l68u': 2029, 'bag6': 2722, 'parfum6g': 11174, 'jem': 8498, 'collection3': 4542, 'daybaremin': 5214, 'kitbaremin': 8748, 'lipglossal': 9211, 'imiy': 8088, 'yx': 16435, 's11652x': 12970, '1xlip': 548, 'colorsew': 4573, 'ail': 2145, 'jml': 8542, 'v13014': 15686, 'jerom': 8505, 'nbsp': 10300, 'blant': 3213, 'keratin': 8679, 'reconstruct': 12526, 'dumb': 5824, 'abus': 1863, '259': 796, '8596': 1658, 'colorf': 4564, 'candiesth': 3859, 'treatsinclud': 15261, 'startedc': 14169, 'setchocol': 13321, '3pc': 1085, 'sharpn': 13381, 'emoj': 6069, '10pcs': 197, 'tie7': 15057, 'specialeasy': 13977, 'applyalso': 2419, 'adib008h42554': 2053, 'gswmichaelkorsbri2p1': 7465, 'banquet': 2769, 'pupl': 12293, 'somkey': 13897, 'tetraisostear': 14903, 'paraffin': 11164, 'microcristallinahydrog': 9839, 'microcrystallin': 9840, '420902': 1125, '1al': 513, '454102': 1165, '191401': 471, 'fd': 6437, 'cyellow': 5152, '77019mica': 1564, '77007': 1561, '16035': 387, 'fdcyellow': 6440, '77019': 1563, 'meand': 9699, 'sprayed': 14071, 'setth': 13329, 'cosmeticsch': 4859, 'organizedbrush': 10926, 'dyesproduc': 5857, 'shadowproduc': 13352, '28g': 854, '01oz': 50, 'kan': 8634, 'hazlenut': 7678, 'smooch': 13788, 'blem': 3221, 'kleancol': 8768, 'catty': 3989, 'kong': 8814, 'quicklin': 12359, 'chubby': 4226, 'pudgy': 12267, 'peony': 11308, 'brushmin': 3661, 'choocol': 4200, 'aphrodisiac': 2390, 'sparkplug': 13966, 'dusty': 5842, '5ozmoisture': 1349, 'cc': 4008, 'ozrins': 11048, 'ozlash': 11046, 'ozal': 11043, 'fairylight': 6385, 'frees': 6882, 'glo': 7236, 'photoready': 11401, 'undetect': 15530, 'chromatic': 4217, '77007ultramarine': 1562, '77742manganese': 1575, '77491red': 1570, '77499black': 1573, '420902fdc': 1126, '77891titanium': 1578, '77861tin': 1576, 'hc': 7682, 'hightech': 7802, 'extenderproduc': 6317, '13ml': 318, '43oz': 1143, 'treg': 15263, 'borghes': 3372, '5pcs': 1350, 'tono': 15140, 'saponett': 13060, 'gs': 7463, '1557': 371, '13x16': 324, 'jovan': 8579, '240pcs': 759, 'fimo': 6543, 'kevyn': 8683, 'aucoin': 2576, 'unclog': 15497, 'sunflow': 14506, 'nonabras': 10576, 'stripping': 14377, 'kit30': 8746, 'iclud': 8047, 'thebalm': 14928, '12068481702': 252, 'pourpr': 11784, 'magent': 9467, '15ml': 378, '72pc': 1515, 'baseco': 2805, '34pc': 1003, 'shu': 13506, 'uemur': 15452, 'marjoram': 9566, 'wellb': 16051, 'stresses': 14341, 'tisserand': 15088, '14oz': 353, '04oz': 79, 'pettico': 11368, '014oz': 38, 'lipsid': 9218, 'luk': 9356, 'paletteproduc': 11114, '09937403614': 113, 'mercy': 9772, '05870324702': 86, 'glac': 7207, 'lait': 8872, '159oz': 376, '11337631002': 219, 'featurescomplet': 6451, 'babyzip': 2681, 'youlabel': 16417, 'organizedhandy': 10927, 'extrasfrom': 6326, 'sciss': 13167, 'rattl': 12462, '8lx8': 1719, 'adib0000yvc4y': 2027, '11602203902': 224, '14027': 329, '35oz': 1020, 'casewi': 3956, 'demonstratedcas': 5326, '23l': 753, '19w': 511, 'bubalin': 3674, 'cb06l': 4002, 'turt': 15387, 'toiletry': 15121, 'musk': 10185, 'methoxycinnam': 9808, 'limon': 9168, 'octylacrylamid': 10794, 'copolym': 4821, 'linalool': 9170, 'butylphenyl': 3765, 'methylprop': 9812, 'salicyl': 13022, 'citronellol': 4262, 'butyl': 3764, 'methoxydibenzoylmeth': 9809, 'hydrolys': 8011, 'coumarin': 4895, 'hexyl': 7785, 'cinnam': 4249, 'geraniol': 7137, 'cinnamyl': 4251, 'bht': 3017, '19140': 470, '42090': 1124, 'ext': 6315, '60730': 1381, 'isobut': 8363, 'hydrofluorocarbon': 8009, '152a': 368, 'menthyl': 9764, 'pca': 11244, 'menth': 9762, 'carboxamid': 3906, 'vanillyl': 15714, 'cocamidopropyl': 4474, 'betain': 2995, 'cetyl': 4043, 'hydroxyethylcellulos': 8019, 'polyquatern': 11700, 'hydroxid': 8017, 'eb5': 5919, '210': 705, 'gav': 7082, 'eyeshaodw': 6343, 'orchard': 10917, 'starfruit': 14161, 'aubergin': 2575, 'mahogany': 9480, 'suz4414483': 14576, 'no7': 10559, '1includes': 528, 'creamheal': 4974, 'agingus': 2128, 'improvementf': 8111, 'neckproduc': 10356, 'serumcapac': 13309, 'retinyl': 12723, 'peptidessc': 11316, 'intrins': 8308, 'retinol': 12722, 'offect': 10805, 'textureb': 14910, 'spheresb': 14011, 'oss': 10952, 'skinb': 13639, '3b': 1063, 'oclips': 10788, 'melanin': 9738, 'brandt': 3508, 'poredermabras': 11739, 'darkest': 5200, 'concret': 4682, 'nymphet': 10747, 'strokes': 14385, 'piccadil': 11420, 'lorac': 9307, 'aer': 2090, 'adrien': 2077, 'meltdown': 9748, 'prolong': 12203, 'capisph': 3885, 'lashfus': 8919, '12g': 285, '42oz': 1133, 'masseus': 9614, 'brs': 3644, 'suz4414479': 14575, 'es001': 6184, '0006': 9, 'serum': 13308, 'wildest': 16133, '0005': 8, 'lippy': 9217, 'permaglaz': 11340, 'chateau': 4105, '316': 951, '49x': 1211, 'dna': 5646, 'declin': 5271, 'accum': 1894, 'nive': 10534, 'dnag': 5647, 'fol': 6738, 'creatin': 4979, 'ms': 10137, 'resurfac': 12709, 'occur': 10787, 'carot': 3935, 'zint': 16463, 'bilberry': 3033, 'flak': 6610, 'congest': 4704, 'ast': 2538, 'soleil': 13881, 'poreless': 11741, 'elys': 6033, 'es003': 6185, '0003': 6, 'ars': 2489, 'idealift': 8055, 'sederm': 13261, 'nulast': 10703, 'alzo': 2249, '65pcs': 1433, 'lipsurg': 9221, 'moody': 10052, 'achiot': 1901, 'honeysuckl': 7890, 'swank': 14590, 'panthenol': 11139, 'skinvig': 13662, 'lauryl': 8949, 'preciouspromisewonderthought': 11815, '0002': 5, 'blunt': 3271, 'lutein': 9380, 'marigold': 9560, 'napl': 10253, 'c20': 3784, 'chameleon': 4069, 'eiffel': 5980, 'es006': 6187, '0001': 4, 'ep006': 6155, 'matt': 9638, 'maiz': 9493, 'amino': 2272, 'plantbas': 11525, 'undercov': 15510, 'spongeth': 14053, '228': 735, 'pinksecond': 11465, 'acaithird': 1868, 'sagebottom': 13008, 'ecru': 5936, 'xr': 16358, 'iu': 8397, '80k': 1620, 'pinktig': 11466, 'glowsweet': 7247, 'pinkpeony': 11463, 'pbfunction': 11241, 'bbrbrcontents': 2852, 'treatmentbrbr1': 15258, 'firstbr2': 6575, 'br3': 3487, 'accessoriesbrbrbrbspec': 1882, 'bbrbrvoltage': 2854, '100v': 155, '120v': 259, '50hz': 1256, '220v': 727, '60hzbrpower': 1387, '22wbrpacking': 740, '20cmbrg': 693, '3kgbrbrbrbpackage': 1073, 'includedbr': 8142, 'bbrdiamond': 2855, 'dermabras': 5357, 'x1brpvc': 16326, 'x1brstainless': 16328, 'x2brdiamond': 16331, 'x9brcotton': 16337, 'brpower': 3643, 'x1brrubber': 16327, 'fusesbrful': 7010, 'instructionsbrbrbbrfunct': 8270, 'bbrbrthe': 2853, 'vacuum': 15691, 'microdemabras': 9841, 'derm': 5356, 'brbrthe': 3533, 'pls': 11558, 'screaming': 13193, 'electro': 6003, 'trix': 15318, 'octyl': 10793, 'chromium': 4220, '77288': 1566, '77289': 1567, 'terephth': 14882, 'isobutylphenoxy': 8364, 'fashlimit': 6420, 'reapply': 12496, 'es004': 6186, '3ml': 1078, 'stem': 14208, 'qusom': 12379, 'electrocharg': 6004, 'mastih': 9622, 'exuvy': 6330, 'chandelight': 4076, 'antarcticin': 2355, 'hyaluron': 8002, 'lipotec': 9216, 'pev': 11370, 'curtain': 5113, 'daz': 5229, 'eyet': 6344, 'resveratrol': 12712, 'drench': 5746, 'x5': 16334, 'maracuj': 9545, 'packcompact': 11067, 'packth': 11082, 'hdb4414479': 7687, 'dermawand': 5361, 'stream': 14323, 'oxyg': 11040, 'jc187': 8456, 'bioflavonoid': 3051, 'devit': 5469, 'shard': 13372, 'playful': 11538, 'upaficionado': 15610, 'gerd': 7141, 'spillman': 14023, 'avocado': 2624, 'porcel': 11735, 'mayfair': 9656, 'skinfood': 13644, 'coron': 4842, 'kie': 8719, '60single': 1393, 'weekendermakeup': 16032, 'pouchlarg': 11773, 'sectionlarg': 13260, 'sectiond': 13259, 'strapscoated': 14302, '0008': 11, '0004': 7, 'anew': 2318, 'perk': 11337, 'mel': 9735, 'uvb': 15683, 'retinoid': 12721, 'hpr': 7959, 'trisilox': 15313, 'methyl': 9810, 'perfluorobutyl': 11325, 'perfluoroisobutyl': 11326, 'ethoxydiglycol': 6224, 'tetrahexyldecyl': 14901, 'ascorb': 2510, 'hexyldecanol': 7786, 'hydroxypinacolon': 8020, 'retino': 12720, 'brassic': 3513, 'campest': 3850, 'rapesee': 12443, 'grapesee': 7371, 'camell': 3838, 'sinens': 13585, 'cetylhydroxyprolin': 4044, 'palmitamid': 11119, 'cyclopentasilox': 5151, 'taut': 14780, 'viv': 15851, 'wei': 16034, 'refirm': 12564, 'asam': 2508, 'vino': 15823, 'opc': 10884, 'nect': 10364, 'hiv': 7832, 'miel': 9872, 'oas': 10755, 'baobab': 2771, 'volulip': 15868, 'tryl': 15344, 'wonderstruck': 16247, 'coffret': 4487, '100ml': 150, '75g': 1537, 'q10': 12323, 'eucerin': 6236, 'coenzym': 4484, 'lightproduc': 9146, 'descriptioncont': 5374, '69oz': 1456, 'tis': 15087, 'stylelash': 14427, 'kend': 8673, '54face': 1291, 'hdb24205844': 7686, 'terracott': 14887, 'liday': 9117, 'j2': 8405, 'knurl': 8802, 'dpl': 5712, 'nuv': 10727, '415nm': 1119, 'otc': 10956, 'hairdry': 7555, 'pinpoint': 11470, '413': 1115, '12ml': 290, '27oz': 845, 'detailsspf': 5451, 'foundationsum': 6818, 'bisquemin': 3071, 'veilspf': 15742, 'foundationproduc': 6817, 'adib008kyb9u8': 2054, 'primerful': 12136, 'mascaraphoto': 9603, 'primerlip': 12137, 'illumelimitless': 8077, 'hans': 7616, 'dbp': 5233, 'tolu': 15125, 'formaldehyd': 6793, 'sinfulshin': 13587, 'inpink': 8240, '41055': 1114, 'sallyhans': 13026, 'crme': 5013, 'sinfulcol': 13586, 'essy': 6207, 'biotin': 3055, 'kwik': 8838, 'zoy': 16492, 'eff': 5963, 'rapidry': 12446, 'storyperfect': 14281, 'sparit': 13961, 'barberpub': 2780, 'sech': 13251, 'dibutyl': 5511, 'payoff': 11236, 'prowid': 12244, 'posess': 11752, 'kissnail': 8744, 'colorstay': 4582, 'coattm': 4469, 'zeagoom': 16446, 'acrylicsheet': 1915, '2inchsheet': 888, 'piecesstick': 11433, 'sheetvery': 13401, 'gondol': 7308, 'homeup': 7878, 'wearno': 16011, 'chipsmir': 4183, 'each50': 5871, 'setdisplay': 13322, 'duply': 5834, 'colorlong': 4570, 'shinevery': 13428, 'trendy6': 15277, 'machine1x': 9451, 'handpiece1x': 7593, 'cradle1x': 4953, 'pedal1x': 11271, 'brush1x': 3654, 'separator1x': 13298, 'wheel6x': 16076, 'bands20x': 2760, 'bands1x': 2759, '36w': 1029, '110v': 211, '365nm': 1026, '120secs': 258, '120s': 257, 'waveleng': 15994, 'um': 15480, 'harmless': 7641, '25cm': 798, '23cm': 751, '84inch': 1651, '06inch': 91, '74inch': 1526, 'crusy': 5047, 'boardwalkrid': 3295, 'lifeguardssun': 9124, 'surfin': 14555, 'flirtytankin': 6662, 'plumeria80437': 11563, '80448': 1613, 'decoratio2': 5277, 'useyou': 15667, 'home4': 7865, 'scraper': 13185, 'guideon': 7493, 'strobe': 14382, 'flexiglass': 6649, 'razzl': 12473, 'manualf': 9538, 'operationreplac': 10895, 'maintaininglight': 9490, 'handpiec': 7592, 'gripventil': 7432, 'handpiecefoot': 7594, 'switch6': 14643, 'each32': 5870, 'opialway': 10899, 'fingernail': 6557, 'gel1base1': 7097, 'top1': 15150, 'aid1': 2142, 'elf': 6012, '4pieces': 1233, 'positon': 11758, 'clawdeen': 4293, 'cleo': 4334, 'ghoul': 7165, 'skyfal': 13675, '899': 1708, '330': 983, 'prism': 12160, '190': 463, '895': 1704, '898': 1707, '189707732183': 449, 'microdiamond': 9843, 'nailsprovid': 10233, 'fadepromot': 6379, 'polishmad': 11657, 'usaavail': 15643, 'colorsno': 4578, 'dbpcolor': 5234, 'polisheasy': 11656, 'visitbright': 15846, 'toenailsno': 15115, 'coatbet': 4462, 'nailpol': 10230, 'bewild': 3003, 'gg10975': 7156, 'secondsfast': 13255, 'removalprov': 12631, 'asalon': 2507, 'asphyxy': 2521, 'holland': 7852, 'collectionnail': 4543, 'heady': 7707, 'glog': 7238, 'swed': 14618, 'norway': 10611, 'fjord': 6606, 'suz': 14574, 'northern': 10608, 'finland': 6564, 'nors': 10607, 'dogsl': 5665, 'moonlik': 10055, 'iceland': 8045, 'vonderland': 15874, 'holm': 7856, 'wheel300x': 16075, 'bands30x': 2761, 'bits6x': 3076, 'maintainingventil': 9491, '5000': 1248, 'blank': 3210, 'peep': 11280, 'freak': 6844, 'fret': 6913, 'aceton': 1897, 'shadelock': 13350, 'chipsno': 4184, 'timeflawless': 15070, 'shineno': 13425, 'nl': 10538, 'h50': 7534, 'laqu': 8905, 'elen': 6008, 'elan': 5990, 'limo': 9167, 'knightsbridg': 8785, 'invinc': 8322, 'espr': 6201, 'stranger': 14296, 'uabl': 15443, 'neverend': 10405, 'designspee': 5413, 'pendirect': 11298, 'around6': 2482, 'manicurefit': 9530, 'nailssuit': 10234, 'usemult': 15665, '240voutput': 761, '9v': 1806, '7wvariable': 1600, '12000rpmworking': 249, '300hsize': 918, 'a44': 1819, 'tasm': 14752, 'foruml': 6807, 'chicest': 4152, 'shinny': 13430, 'tacky': 14697, 'pcsblack': 11247, 'emflypink': 6062, 'fridaysav': 6918, 'luxeffect': 9383, 'sparklesshin': 13965, 'opalesc': 10882, 'aura': 2590, 'glitzp': 7234, 'iridescenceset': 8347, 'chao': 4082, 'gelcol': 7099, 'pompei': 11711, 'samo': 13038, 'beet': 2918, 'louvr': 9326, 'broch': 3621, 'glazechin': 7219, 'multidimend': 10156, 'adip': 2065, 'acidneopentyl': 1903, 'glycoltrimellit': 7255, 'anhydrid': 2331, 'nitrocellulos': 10531, 'styreneacryl': 14438, 'sucros': 14475, 'isobutyr': 8365, 'diethylhexyl': 5521, 'containpeut': 4740, 'contenir': 4744, '15850': 373, '77266': 1565, '60725': 1380, '774': 1568, 'toenail': 15114, 'bem': 2950, 'colorsgr': 4574, '11ml': 238, 'canvas': 3872, 'carmin': 3927, 'nouveau': 10629, 'colorsjust': 4576, 'jordan': 8571, 'benz': 2966, '18g': 452, '1622': 391, 'ing': 8210, 'brandywin': 3510, 'intruct': 8310, 'longlast': 9282, 'chipresist': 4181, 'quickdry': 12358, 'manicurv': 9531, 'wink': 16165, 'rimmel': 12793, 'wallw': 15922, '8in': 1717, '2in': 887, 'vaness': 15711, 'ciar': 4237, 'inky': 8231, 'ibiz': 8042, 'unabash': 15485, 'caly': 3830, 'uninhibit': 15544, 'toul': 15187, 'rcm': 12475, 'g180': 7022, 'holograph': 7860, '5fl': 1337, 'sweetest': 14623, 'oppenheim': 10901, 'palom': 11120, 'picasso': 11419, 'polishcol': 11655, 'reds': 12546, 'mlnew': 9955, '926': 1753, 'swab': 14583, 'starlight': 14164, 'unearth': 15535, 'omgel': 10848, 'mass3': 9612, 'levellingmain': 9099, 'properties3': 12215, 'gel4': 7098, 'vern': 15771, 'treatmentsmpn': 15259, 'opi17': 10898, 'hl': 7834, 'd27upc': 5160, '619828033468always': 1398, 'gc': 7087, 'g21upc': 7023, '619828033116always': 1397, 'materialrevolv': 9627, 'rackhold': 12397, 'bottlesdy': 3406, 'cosm': 4856, 'chalk': 4062, 'thatl': 14924, 'editionfrom': 5952, 'u03': 15438, '01335': 35, '1070': 171, '1071': 172, '1072': 173, '1073': 174, '1074': 176, '1075': 177, 'fect': 6458, 'prey': 11870, 'geluxy': 7100, 'multip': 10160, 'lookbeaut': 9294, 'handslimit': 7601, 'd29upc': 5162, '619828033482always': 1400, 'flirt': 6658, 'pacakg': 11054, '2b': 877, '296': 868, 'dpb': 5711, 'gunop': 7511, 'edition18k': 5950, 'goldtop': 7302, 'mig': 9875, 'bufferremov': 3692, 'removerlast': 12632, 'daysno': 5223, 'metallic': 9801, '468': 1188, 'colorblast': 4560, 'holo': 7858, 'catalin': 3974, 'splatter': 14037, '14ml': 349, 'd28upc': 5161, '619828033475always': 1399, 'chipskip': 4182, '970': 1776, 'rejuvacot': 12605, 'mend': 9757, 'metallicth': 9802, 'shinepro': 13427, 'b5': 2648, 'teadbp': 14814, 'pinkop': 11462, 'strengthener': 14334, 'wer': 16059, 'stepsapply': 14215, 'colorapl': 4559, 'coatc': 4463, 'polishavail': 11654, 'colorsmad': 4577, 'ahottest': 2138, 'nailsdiamond': 10231, 'r30': 12384, 'hansen404': 7617, 'greig': 7408, 'dutchess': 5844, 'flossy': 6677, 'ferg': 6492, 'fergy': 6493, 'phunky': 11410, 'vicy': 15804, 'chromes': 4219, 'shiniest': 13429, 'outshin': 10992, 'virusesremov': 15841, 'allergenskil': 2205, 'bacteriaprov': 2716, 'windex': 16148, 'eamanufact': 5875, 'clorox': 4358, 'companytot': 4638, '0post': 129, '0country': 120, 'swiff': 14630, 'pag68923': 11088, 'sludg': 13750, 'virusesbleach': 15838, 'bacteriakil': 2715, 'secondsclear': 13254, 'morevalu': 10066, 'mohawk': 9984, 'floorc': 6666, 'onth': 10871, 'wateract': 15978, 'basedus': 2807, 'surfact': 14553, 'surfaceph': 14550, 'skin10': 13638, 'tdb15412620': 14789, 'virus': 15837, 'norovir': 10606, 'calicivir': 3822, 'rotavir': 12907, 'hivth': 7833, 'availableform': 2616, 'peroxid': 11344, 'technologynon': 14840, 'fum': 6984, 'odorson': 10798, '155': 370, 'lysol': 9401, 'scum': 13221, 'vir': 15831, 'salmonell': 13028, 'staph': 14155, 'escherich': 6191, '0157': 40, 'germskil': 7148, 'coronavir': 4843, 'influenz': 8202, 'a2': 1815, 'wipelow': 16184, 'towelschrom': 15196, 'clothwheel': 4392, 'towelsurg': 15197, 'towelb': 15194, 'nonp': 10586, 'virucid': 15836, 'tuberculocid': 15357, 'pseudominicid': 12252, 'bactericid': 2718, 'keepswip': 8669, 'deodorizesprevy': 5344, 'purel': 12298, 'skinleav': 13646, 'goexcel': 7277, 'nursury': 10716, 'mopid': 10061, 'floorsextrem': 6669, 'durablec': 5837, 'timeslint': 15075, '77925': 1579, '4in1': 1225, 'dracb728072pk': 5715, 'reckit': 12519, 'benck': 2954, '91028': 1746, 'thecloroxcompany': 14931, 'inchesx12': 8130, 'clothstru': 4391, 'cleaningf': 4305, 'steelguarantee': 14199, 'washingsdu': 15966, 'electrost': 6006, 'wipesstreak': 16199, 'shinepack': 13426, 'moist28': 9989, 'wipes7': 16187, 'freetop': 6892, 'refillingfront': 12561, 'dispensingmeas': 5612, 'cough': 4893, 'schoolperfect': 13160, 'practicalconveny': 11804, 'pack48': 11059, 'countsth': 4906, 'ownperfect': 11036, 'shinyglass': 13432, 'cleaningtv': 4313, 'surfacesg': 14552, 'tabs3': 14692, 'bagcompact': 2723, 'applicationshigh': 2410, 'reusablelint': 12732, 'systemeasy': 14667, 'uselint': 15662, 'freewashableus': 6894, 'formulastrong': 6800, 'fabricrefillstreak': 6365, 'weim': 16044, '50cleans': 1254, 'greaseleav': 7395, 'fromres': 6937, 'tdb15410948': 14787, 'nonwov': 10594, 'container100': 4737, 'wipehigh': 16182, 'gradestrong': 7348, 'freemeas': 6872, 'tdb4220583': 14799, 'times100': 15072, 'replacementsgr': 12650, 'hardsurfac': 7631, '037000239987sku': 65, 'tdb9407865': 14807, 'wipesextend': 16190, 'inchesf': 8126, 'detergentappl': 5458, 'fabricchem': 6358, 'compound': 4663, 'benzenesulfon': 2967, 'c10': 3779, 'ethoxyl': 6225, 'c8': 3790, 'c18': 3782, 'unsaturatedm': 15586, 'soilssc': 13875, 'perfumedphys': 11331, 'liquidpack': 9224, 'bottlecapac': 3389, '133': 307, 'lbsdisclaimer': 8965, 'blacks': 3201, '7x8': 1604, 'requiredremov': 12664, 'morethes': 10065, 'etub': 6234, 'rv': 12960, 'homeus': 7879, 'cabinet': 3796, 'moreclass': 10064, 'fitprint': 6596, 'graphics60': 7374, 'washroom': 15969, '036000044423sku': 63, 'tdb7466638': 14805, 'dracket': 5716, 'cb214629ct': 4003, 'disinfectskil': 5602, 'scrubby': 13214, 'turk': 15383, 'tdb4428051': 14802, 'staphylococc': 14156, 'aure': 2591, 'enteric': 6134, 'tdb7466177': 14804, '65x33': 1434, 'clothsku': 4389, 'tdb28432248': 14795, 'offlu': 10808, 'cartonsku': 3947, 'gep48100': 7136, 'cavicid': 3998, 'tb': 14784, 'hepitit': 7766, 'bdur': 2863, 'decontamin': 5275, 'gep27385': 7135, 'packpop': 11074, 'packinst': 11071, 'stepsoft': 14216, 'ammon': 2273, 'consistentlyexcel': 4721, 'telephon': 14858, 'colorfast': 4565, 'tdb4212710': 14796, 'canistersku': 3864, 'rac88070': 12389, 'nonperf': 10587, '625ft': 1406, 'gep26200': 7134, '076828047039sku': 99, 'tdb9407890': 14808, 'stronggt': 14396, 'cdb04688lt': 4011, 'gt': 7466, 'nabisco': 10223, 'crackerslt': 4949, 'nutty': 10726, 'syrup': 14664, 'cox01761ealt': 4936, 'wipeskil': 16196, '01594ct': 43, 'cartonkil': 3946, 'seacho': 13225, '18711': 443, 'scp18711': 13182, 'pack40': 11058, 'canisterrefresh': 3863, 'microfibr': 9845, '16x16': 409, 'broom': 3632, 'backthick': 2702, 'grout': 7452, 'dirt1': 5557, 'scentcom': 13133, 'mmmcl610': 9961, 'diversey': 5636, 'drk': 5775, 'cb702271': 4004, '999': 1795, 'viruseslarg': 15840, 'floors50': 6668, 'alcoholth': 2183, '073852009866sku': 95, 'tdb4216381': 14797, 'gleen': 7223, 'packamazon': 11066, 'offerregul': 10807, '00limited': 25, 'offerno': 10806, 'wipingkil': 16202, 'bacteriawip': 2717, 'naturally99': 10270, 'formulabiodegrad': 6798, 'substratenot': 14466, '036000031355sku': 62, 'tdb4220576': 14798, '044600016542sku': 72, 'tdb5266620': 14803, '09060': 108, 'linole': 9202, 'tdb26854662': 14794, 'tdb4224976': 14801, 'tdb4220635': 14800, 'multisurfac': 10165, 'smp13351': 13793, 'twl': 15425, '75cnt': 1535, 'medaph': 9717, 'spillsc': 14024, 'resultsnon': 12707, 'surfacesabsorb': 14551, 'cordindust': 4827, 'buildingsid': 3697, 'strippinggood': 14378, 'absorbencyhang': 1858, 'hookpremo': 7911, 'pollut': 11662, 'sgs': 13347, 'tdb7568350': 14806, 'puretouch': 12300, 'hemorrhoid': 7757, 'menst': 9759, 'virusesdisinfect': 15839, 'bacteriableach': 2714, 'ultm': 15463, 'microscop': 9853, '16x': 408, 'asthm': 2539, 'stong': 14267, 'wipekil': 16183, 'secondsmo': 13256, 'wipesindivid': 16195, 'familiessingl': 6394, 'sheetshypoallergenicalcohol': 13400, 'freewi': 6896, 'aloesheet': 2222, '074887634009sku': 96, 'tdb24109031': 14791, '54621': 1290, 'absorbantsoftpolisheswash': 1857, '01594': 42, 'tdb25196530': 14793, '01593': 41, 'hydrox': 8016, 'quicky': 12361, 'tdb24109220': 14792, 'b66913': 2649, '12x35ct': 297, 'asphalt': 2520, 'hydra': 8007, 'fluidun': 6706, 'wipesquick': 16197, 'needspack': 10370, '5the': 1357, 'nonscratch': 10589, 'biofilm': 3050, '764769929919sku': 1554, 'tdb15412109': 14788, 'kinetron': 8732, '700001': 1485, '728429000011': 1512, 'ling': 9185, '749507989981sku': 1523, 'tdb24107348': 14790, 'strengtheners': 14335, 'tendr': 14875, 'guadalup': 7469, '5x5mm': 1366, 'priceyou': 12127, 'pricecollect': 11923, '1947': 482, 'bentley': 2963, 'drophead': 5781, 'coup': 4908, '1969': 489, 'hardtop': 7632, 'gmc': 7257, 'pricenew': 12036, 'pricead': 11876, 'invalu': 8316, 'sawy': 13099, 'pricetexa': 12090, 'priceatlant': 11887, 'atlant': 2555, 'pricestay': 12080, 'pricemit': 12025, 'massachuset': 9613, 'mittechnolog': 9946, 'priceentrepr': 11955, 'pricemustang': 12035, 'metabol': 9799, 'priceoutsid': 12043, 'thrills': 15026, 'armchair': 2472, 'escapad': 6190, 'kayak': 8659, 'helicopt': 7747, 'pricemus': 12033, 'price4': 11874, 'shootout': 13456, 'crossworld': 5030, 'vocab': 15859, 'pricemoviemak': 12032, 'moviemak': 10116, 'pricequilt': 12057, 'priceroadrun': 12063, 'roadrun': 12837, 'pricetuft': 12101, 'tuft': 15366, 'priceold': 12039, 'pricedigit': 11943, 'era': 6173, 'biograph': 3052, 'pricesouthern': 12075, 'pricekipl': 12008, 'kipl': 8738, 'pricedec': 11938, 'idl': 8058, 'pricemidwest': 12023, 'heartland': 7722, 'pricetimb': 12094, 'timb': 15067, 'espanol': 6197, 'mainstream': 9487, 'tinseltown': 15082, 'subscriptionwhisky': 14460, 'distillery': 5620, 'whisky': 16094, 'pricechevy': 11913, 'chevy': 4143, 'volunt': 15871, 'priceartnew': 11885, 'amc': 2262, '1901': 464, '1994': 502, 'yorktim': 16412, 'sco': 13169, 'pricewh': 12112, 'grief': 7417, 'candid': 3858, 'reloc': 12616, 'pricehobby': 11990, 'pricewinemak': 12117, 'merlot': 9779, 'cabernet': 3794, 'pinot': 11469, 'grigio': 7420, 'cell': 4022, 'pricecricket': 11934, 'pricehow': 11994, 'pricestreet': 12082, 'pricevietnam': 12110, 'vietnam': 15811, 'weaponry': 16007, 'priceus': 12103, 'pricemotorhom': 12031, 'motorhom': 10094, 'rvs': 12962, 'pricebrid': 11904, 'honeymoon': 7889, 'pricechronic': 11917, 'boc': 3302, 'raton': 12461, 'priceyoul': 12128, 'subscriptionequin': 14452, 'hoofc': 7909, 'ammunit': 2274, 'reload': 12615, 'pricesalt': 12067, 'utah': 15672, 'subscriptionam': 14450, 'disp': 5607, 'pricevac': 12104, 'idyl': 8061, 'saga': 13007, 'raid': 12408, 'campaign': 3848, 'bent': 2962, 'pricesportsm': 12078, 'shipboard': 13435, 'pricesound': 12074, 'pricefield': 11967, 'sportsm': 14062, 'priceexpl': 11963, 'smithson': 13777, 'homebuild': 7868, 'pricefun': 11975, 'kidz': 8718, 'ang': 2319, 'pricejust': 12006, 'crossstitch': 5028, 'hotspot': 7934, 'priceshotgun': 12071, 'trapshoot': 15243, 'skeet': 13626, 'pricebicyc': 11896, 'horoscop': 7921, 'priceebony': 11950, 'pricesup': 12084, 'motorsport': 10095, 'priceowl': 12044, 'pricedelaw': 11940, 'delaw': 5311, 'rodeo': 12862, 'horseback': 7923, 'priceam': 11879, 'cheerlead': 4116, 'pricealtern': 11878, 'ska': 13623, 'underground': 15514, 'artfor': 2492, 'priceoutdo': 12042, 'priceexpery': 11962, 'dwel': 5851, 'newslet': 10418, 'longshot': 9285, 'racetrack': 12392, 'horseplay': 7926, 'jazztim': 8451, 'pricecig': 11918, 'cig': 4239, 'earth': 5886, 'rewardsdelivery': 12749, 'priceyank': 12126, 'pricein': 12000, 'pricewoodwork': 12121, 'priceo': 12038, 'priceforeign': 11973, 'fp': 6824, 'pricemotorcyc': 12030, 'investig': 8320, 'legwork': 9032, 'pricerock': 12064, 'miniguid': 9912, 'crag': 4957, 'superguid': 14525, 'subscriptionth': 14459, 'workforc': 16267, 'recruit': 12531, 'pricegard': 11977, 'pricecathol': 11909, 'quip': 12370, 'bayard': 2842, 'fishery': 6580, 'priceorlando': 12041, 'inclin': 8138, 'orlando': 10938, 'biweek': 3080, 'femin': 6486, 'grassroot': 7383, 'malfeas': 9503, 'wrongdo': 16310, 'vivr': 15854, 'priceexpert': 11961, 'diecast': 5517, 'smalldelivery': 13762, 'pricegrand': 11982, 'metropolit': 9817, 'pricewrit': 12123, 'pricebass': 11895, 'bassist': 2817, 'pricegirl': 11979, 'theus': 14965, 'practicedelivery': 11805, 'simpleinform': 13575, 'priceellery': 11952, 'ellery': 6022, 'limerick': 9164, 'princeton': 12143, 'atl': 2553, 'pricecolorado': 11924, 'scotland': 13179, 'pricebaltim': 11892, 'baltim': 2749, '1907': 465, 'crabh': 4947, 'hardshel': 7630, 'pricewoodshop': 12120, 'subscriptionkitpl': 14455, 'homebuilt': 7869, 'kitpl': 8757, 'pilot': 11450, 'pricebackpack': 11891, 'pricereason': 12059, 'priceprofess': 12053, 'pwm': 12320, 'civ': 4264, 'pricemilit': 12024, 'warf': 15934, 'pricenor': 12037, 'whitetail': 16104, 'deerhunt': 5291, 'pricebook': 11900, 'excerpt': 6278, 'forthcom': 6804, 'merit': 9778, 'cano': 3868, 'wisconsin': 16206, 'iow': 8330, 'illino': 8075, 'indian': 8166, 'missour': 9940, 'pricedown': 11948, 'pricecontemp': 11927, 'ob': 10758, 'gyn': 7524, 'obstet': 10764, 'gynecolog': 7525, 'mds': 9690, 'subspecial': 14463, 'oncolog': 10856, 'endocrinolog': 6098, 'abroaddelivery': 1840, 'subscriptionm': 14456, 'pricememph': 12021, 'memph': 9755, 'pricecal': 11908, 'newsweek': 10421, 'pricemop': 12028, 'jok': 8563, 'pricegun': 11985, 'watermed': 15985, 'pricebrit': 11905, 'overlook': 11022, 'pricesurf': 12085, 'pricedig': 11942, 'cognit': 4490, 'priceint': 12003, 'pricehudson': 11995, 'albany': 2178, 'daytrip': 5226, 'pricecobbleston': 11922, 'subscriptionintern': 14454, 'priceclimb': 11920, 'bould': 3446, 'pricebowhunt': 11901, 'bowhunt': 3460, 'archery': 2451, 'lifestylemagazin': 9132, 'lifestylefil': 9131, 'nich': 10454, 'prestig': 11857, 'pricefast': 11966, 'encroach': 6087, 'boatyard': 3299, 'marina': 9563, 'priceclass': 11919, 'pricevermont': 12107, 'vermont': 15769, 'pricetruckin': 12100, 'pricepoet': 12049, 'larget': 8912, 'subscriptionteddy': 14458, 'pricebo': 11899, 'watersky': 15990, 'sizesfrom': 13619, 'scaleand': 13116, 'pricestrategy': 12081, 'subscriptionauto': 14451, 'pricebank': 11893, 'pricecabin': 11907, 'lakehom': 8874, 'pricechesapeak': 11912, 'chesapeak': 4135, 'pricehunt': 11997, 'pricesail': 12066, 'elk': 6021, 'consequ': 4717, 'elsewh': 6027, 'priceindianapol': 12001}\""
      ]
     },
     "execution_count": 29,
     "metadata": {},
     "output_type": "execute_result"
    }
   ],
   "source": [
    "vocab = format(vect.vocabulary_)\n",
    "vocab"
   ]
  },
  {
   "cell_type": "code",
   "execution_count": 30,
   "metadata": {},
   "outputs": [],
   "source": [
    "bow = vect.transform(text)"
   ]
  },
  {
   "cell_type": "code",
   "execution_count": 31,
   "metadata": {},
   "outputs": [
    {
     "data": {
      "text/plain": [
       "<10627x16502 sparse matrix of type '<class 'numpy.int64'>'\n",
       "\twith 297983 stored elements in Compressed Sparse Row format>"
      ]
     },
     "execution_count": 31,
     "metadata": {},
     "output_type": "execute_result"
    }
   ],
   "source": [
    "bow"
   ]
  },
  {
   "cell_type": "code",
   "execution_count": 32,
   "metadata": {},
   "outputs": [
    {
     "data": {
      "text/plain": [
       "16502"
      ]
     },
     "execution_count": 32,
     "metadata": {},
     "output_type": "execute_result"
    }
   ],
   "source": [
    "features = vect.get_feature_names()\n",
    "len(features)"
   ]
  },
  {
   "cell_type": "markdown",
   "metadata": {},
   "source": [
    "Now we can use .transform on our Bag-of-Words (bow) transformed object and transform the entire DataFrame of text file contents. Let's go ahead and check out how the bag-of-words counts for the entire corpus in a large, sparse matrix:"
   ]
  },
  {
   "cell_type": "markdown",
   "metadata": {},
   "source": [
    "## Apply to the Entire DataFrame"
   ]
  },
  {
   "cell_type": "code",
   "execution_count": 33,
   "metadata": {},
   "outputs": [],
   "source": [
    "# After that you pass the result of the previous step to sklearn's TfidfTransformer\n",
    "# which will convert them into a feature matrix\n",
    "# See here: https://scikit-learn.org/stable/modules/generated/sklearn.feature_extraction.text.TfidfTransformer.html"
   ]
  },
  {
   "cell_type": "code",
   "execution_count": 34,
   "metadata": {},
   "outputs": [],
   "source": [
    "# Make a copy of the df_clean DataFrame\n",
    "df = df_clean.copy()"
   ]
  },
  {
   "cell_type": "code",
   "execution_count": 35,
   "metadata": {},
   "outputs": [
    {
     "data": {
      "text/plain": [
       "(10627, 4)"
      ]
     },
     "execution_count": 35,
     "metadata": {},
     "output_type": "execute_result"
    }
   ],
   "source": [
    "df.shape"
   ]
  },
  {
   "cell_type": "code",
   "execution_count": 36,
   "metadata": {},
   "outputs": [
    {
     "name": "stdout",
     "output_type": "stream",
     "text": [
      "0        [gerb cap help, cap help keep, help keep littl...\n",
      "1        [newborn inf toddl, inf toddl boy, toddl boy h...\n",
      "2        [tut ballet anym, ballet anym leap, anym leap ...\n",
      "3        [newborn inf toddl, inf toddl boy, toddl boy h...\n",
      "4        [easy keep feel, keep feel warm, feel warm coz...\n",
      "                               ...                        \n",
      "10634    [term 10 issu, 10 issu on, issu on year, on ye...\n",
      "10635    [term 12 issu, 12 issu on, issu on year, on ye...\n",
      "10636    [term 9 issu, 9 issu on, issu on year, on year...\n",
      "10637    [term 26 issu, 26 issu on, issu on year, on ye...\n",
      "10638    [term 12 issu, 12 issu on, issu on year, on ye...\n",
      "Name: Description, Length: 10627, dtype: object\n"
     ]
    }
   ],
   "source": [
    "# Apply the process_text function to the DataFrame\n",
    "print(df.iloc[:,0].apply(process_text))"
   ]
  },
  {
   "cell_type": "code",
   "execution_count": 37,
   "metadata": {},
   "outputs": [
    {
     "data": {
      "text/plain": [
       "{'gerb cap help': 95297,\n",
       " 'cap help keep': 36261,\n",
       " 'help keep littl': 104677,\n",
       " 'keep littl on': 117199,\n",
       " 'littl on head': 127456,\n",
       " 'on head cov': 149745,\n",
       " 'head cov warm': 103320,\n",
       " 'cov warm day': 55180,\n",
       " 'warm day long': 226432,\n",
       " 'day long design': 59917,\n",
       " 'long design coordin': 128247,\n",
       " 'design coordin gerb': 62387,\n",
       " 'coordin gerb layet': 53176,\n",
       " 'gerb layet item': 95303,\n",
       " 'layet item gre': 121790,\n",
       " 'item gre item': 114051,\n",
       " 'gre item gift': 100379,\n",
       " 'item gift giv': 114049,\n",
       " 'newborn inf toddl': 145971,\n",
       " 'inf toddl boy': 111168,\n",
       " 'toddl boy hoody': 214483,\n",
       " 'boy hoody jacket': 31216,\n",
       " 'hoody jacket oshkosh': 107654,\n",
       " 'jacket oshkosh b': 114700,\n",
       " 'oshkosh b gosh': 151343,\n",
       " 'b gosh versatil': 20724,\n",
       " 'gosh versatil addit': 99431,\n",
       " 'versatil addit everyday': 223805,\n",
       " 'addit everyday cas': 13715,\n",
       " 'everyday cas wardrob': 76148,\n",
       " 'cas wardrob mad': 38008,\n",
       " 'wardrob mad comfy': 226186,\n",
       " 'mad comfy cotton': 131966,\n",
       " 'comfy cotton blend': 49389,\n",
       " 'cotton blend zip': 53691,\n",
       " 'blend zip front': 27586,\n",
       " 'zip front jacket': 237622,\n",
       " 'front jacket includ': 92454,\n",
       " 'jacket includ fleec': 114559,\n",
       " 'includ fleec lin': 110353,\n",
       " 'fleec lin help': 87800,\n",
       " 'lin help keep': 126143,\n",
       " 'help keep warm': 104687,\n",
       " 'keep warm weath': 117490,\n",
       " 'warm weath day': 226938,\n",
       " 'weath day rib': 228831,\n",
       " 'day rib knit': 60039,\n",
       " 'rib knit trim': 176534,\n",
       " 'knit trim ens': 119240,\n",
       " 'trim ens snug': 218402,\n",
       " 'ens snug fit': 74193,\n",
       " 'tut ballet anym': 219571,\n",
       " 'ballet anym leap': 23062,\n",
       " 'anym leap foxy': 17526,\n",
       " 'leap foxy fash': 122046,\n",
       " 'foxy fash ruffl': 90564,\n",
       " 'fash ruffl tul': 80206,\n",
       " 'ruffl tul toddl': 179131,\n",
       " 'tul toddl girl': 219169,\n",
       " 'toddl girl skirt': 214574,\n",
       " 'girl skirt toby': 96527,\n",
       " 'skirt toby adorn': 192505,\n",
       " 'toby adorn satin': 214349,\n",
       " 'adorn satin bow': 14097,\n",
       " 'satin bow pul': 180289,\n",
       " 'bow pul waist': 30894,\n",
       " 'pul waist cascad': 169667,\n",
       " 'waist cascad rippl': 225257,\n",
       " 'cascad rippl puffy': 38074,\n",
       " 'rippl puffy ruffl': 177475,\n",
       " 'puffy ruffl dant': 169565,\n",
       " 'ruffl dant beat': 179005,\n",
       " 'easy keep feel': 70779,\n",
       " 'keep feel warm': 117098,\n",
       " 'feel warm cozy': 83704,\n",
       " 'warm cozy inf': 226416,\n",
       " 'cozy inf toddl': 55528,\n",
       " 'inf toddl girl': 111172,\n",
       " 'toddl girl hoody': 214551,\n",
       " 'girl hoody jacket': 96371,\n",
       " 'hoody jacket toughskin': 107662,\n",
       " 'jacket toughskin design': 114861,\n",
       " 'toughskin design fleec': 216779,\n",
       " 'design fleec lin': 62626,\n",
       " 'fleec lin supery': 87820,\n",
       " 'lin supery soft': 126441,\n",
       " 'supery soft warm': 206776,\n",
       " 'soft warm jacket': 196680,\n",
       " 'warm jacket zip': 226581,\n",
       " 'jacket zip easy': 114936,\n",
       " 'zip easy quick': 237536,\n",
       " 'easy quick chang': 70935,\n",
       " 'quick chang flor': 170821,\n",
       " 'chang flor print': 39249,\n",
       " 'flor print ad': 88335,\n",
       " 'print ad col': 166802,\n",
       " 'ad col split': 12943,\n",
       " 'col split pouch': 46387,\n",
       " 'split pouch pocket': 199004,\n",
       " 'pouch pocket provid': 164698,\n",
       " 'pocket provid plac': 162442,\n",
       " 'provid plac carry': 169162,\n",
       " 'plac carry favorit': 160131,\n",
       " 'carry favorit tiny': 37349,\n",
       " 'favorit tiny toy': 81102,\n",
       " 'mit warm protect': 139168,\n",
       " 'warm protect real': 226759,\n",
       " 'protect real stay': 168693,\n",
       " 'real stay dainty': 172816,\n",
       " 'stay dainty littl': 200632,\n",
       " 'dainty littl hand': 59046,\n",
       " 'littl hand prev': 127338,\n",
       " 'hand prev baby': 102242,\n",
       " 'prev baby leav': 166022,\n",
       " 'baby leav scratch': 21381,\n",
       " 'leav scratch mark': 122484,\n",
       " 'scratch mark tend': 181378,\n",
       " 'mark tend skin': 134741,\n",
       " 'tend skin fac': 211172,\n",
       " 'skin fac thank': 191700,\n",
       " 'fac thank gentl': 79089,\n",
       " 'thank gentl gath': 211724,\n",
       " 'gentl gath band': 95120,\n",
       " 'gath band cut': 94528,\n",
       " 'band cut mit': 23183,\n",
       " 'cut mit keep': 58703,\n",
       " 'mit keep plac': 139149,\n",
       " 'fal back cozy': 79374,\n",
       " 'back cozy bas': 22029,\n",
       " 'cozy bas toughskin': 55451,\n",
       " 'bas toughskin inf': 23762,\n",
       " 'toughskin inf toddl': 216806,\n",
       " 'toddl girl microfleec': 214557,\n",
       " 'girl microfleec hoody': 96433,\n",
       " 'microfleec hoody jacket': 138077,\n",
       " 'hoody jacket perfect': 107656,\n",
       " 'jacket perfect day': 114713,\n",
       " 'perfect day requir': 157432,\n",
       " 'day requir extr': 60035,\n",
       " 'requir extr cov': 175297,\n",
       " 'extr cov lay': 77483,\n",
       " 'cov lay ad': 54667,\n",
       " 'lay ad soft': 121284,\n",
       " 'ad soft snug': 13450,\n",
       " 'soft snug ins': 196531,\n",
       " 'snug ins top': 195707,\n",
       " 'ins top cas': 111857,\n",
       " 'top cas cloth': 215298,\n",
       " 'cas cloth polk': 37544,\n",
       " 'cloth polk dot': 44221,\n",
       " 'polk dot fleec': 163389,\n",
       " 'dot fleec contrast': 67034,\n",
       " 'fleec contrast trim': 87700,\n",
       " 'contrast trim easy': 51932,\n",
       " 'trim easy coordin': 218399,\n",
       " 'easy coordin whatev': 70561,\n",
       " 'coordin whatev swe': 53231,\n",
       " 'whatev swe wear': 230003,\n",
       " 'ev smal lumberjack': 75586,\n",
       " 'smal lumberjack nee': 194683,\n",
       " 'lumberjack nee cozy': 131438,\n",
       " 'nee cozy look': 144761,\n",
       " 'cozy look cool': 55545,\n",
       " 'look cool newborn': 128891,\n",
       " 'cool newborn boy': 53019,\n",
       " 'newborn boy modern': 145938,\n",
       " 'boy modern plaid': 31236,\n",
       " 'modern plaid hoody': 139731,\n",
       " 'plaid hoody jacket': 160397,\n",
       " 'hoody jacket littl': 107649,\n",
       " 'jacket littl wond': 114610,\n",
       " 'littl wond feat': 127581,\n",
       " 'wond feat fleec': 234069,\n",
       " 'feat fleec intery': 81816,\n",
       " 'fleec intery keep': 87757,\n",
       " 'intery keep warm': 113056,\n",
       " 'keep warm deepest': 117453,\n",
       " 'warm deepest forest': 226437,\n",
       " 'deepest forest playroom': 60849,\n",
       " 'jacket toughskin fleec': 114863,\n",
       " 'toughskin fleec lin': 216790,\n",
       " 'quick chang solid': 170824,\n",
       " 'chang solid col': 39309,\n",
       " 'solid col design': 196878,\n",
       " 'col design mak': 45599,\n",
       " 'design mak easy': 62928,\n",
       " 'mak easy coordin': 133224,\n",
       " 'easy coordin top': 70559,\n",
       " 'coordin top tee': 53225,\n",
       " 'top tee split': 216065,\n",
       " 'tee split pouch': 210891,\n",
       " 'cas cloth solid': 37546,\n",
       " 'cloth solid col': 44239,\n",
       " 'solid col fleec': 196883,\n",
       " 'col fleec contrast': 45721,\n",
       " 'get much ad': 95637,\n",
       " 'much ad toddl': 141282,\n",
       " 'ad toddl boy': 13550,\n",
       " 'toddl boy sherp': 214501,\n",
       " 'boy sherp hoody': 31266,\n",
       " 'sherp hoody jacket': 185834,\n",
       " 'hoody jacket boy': 107638,\n",
       " 'jacket boy rock': 114293,\n",
       " 'boy rock construct': 31261,\n",
       " 'rock construct entir': 177842,\n",
       " 'construct entir soft': 50972,\n",
       " 'entir soft sherp': 74461,\n",
       " 'soft sherp mat': 196458,\n",
       " 'sherp mat hoody': 185859,\n",
       " 'mat hoody jacket': 135229,\n",
       " 'hoody jacket ens': 107645,\n",
       " 'jacket ens toddl': 114436,\n",
       " 'ens toddl stay': 74201,\n",
       " 'toddl stay warm': 214620,\n",
       " 'stay warm comfort': 200735,\n",
       " 'warm comfort attach': 226364,\n",
       " 'comfort attach hood': 48575,\n",
       " 'attach hood monst': 19778,\n",
       " 'hood monst ear': 107425,\n",
       " 'monst ear keep': 140353,\n",
       " 'ear keep head': 70169,\n",
       " 'keep head warm': 117147,\n",
       " 'head warm wel': 103403,\n",
       " 'warm wel complet': 226956,\n",
       " 'wel complet look': 229601,\n",
       " 'complet look cut': 50088,\n",
       " 'look cut hoody': 128923,\n",
       " 'cut hoody jacket': 58617,\n",
       " 'hoody jacket front': 107648,\n",
       " 'jacket front sport': 114521,\n",
       " 'front sport larg': 92759,\n",
       " 'sport larg clo': 199181,\n",
       " 'larg clo appl': 120482,\n",
       " 'clo appl feat': 43552,\n",
       " 'appl feat whims': 17957,\n",
       " 'feat whims monst': 82805,\n",
       " 'whims monst ful': 230283,\n",
       " 'monst ful leng': 140356,\n",
       " 'ful leng zip': 93231,\n",
       " 'leng zip mak': 123490,\n",
       " 'zip mak bundl': 237738,\n",
       " 'mak bundl easy': 133059,\n",
       " 'bundl easy zip': 34229,\n",
       " 'easy zip guard': 71196,\n",
       " 'zip guard protect': 237669,\n",
       " 'guard protect get': 101413,\n",
       " 'protect get pinch': 168579,\n",
       " 'get pinch help': 95688,\n",
       " 'pinch help keep': 159677,\n",
       " 'help keep wind': 104688,\n",
       " 'may seem lik': 135866,\n",
       " 'seem lik riddl': 182713,\n",
       " 'lik riddl inf': 125632,\n",
       " 'riddl inf toddl': 176913,\n",
       " 'jacket toughskin answ': 114859,\n",
       " 'toughskin answ quest': 216752,\n",
       " 'answ quest keep': 17340,\n",
       " 'quest keep boy': 170777,\n",
       " 'keep boy cool': 116886,\n",
       " 'boy cool warm': 31182,\n",
       " 'cool warm tim': 53096,\n",
       " 'warm tim dur': 226893,\n",
       " 'tim dur trendy': 213339,\n",
       " 'dur trendy hoody': 69790,\n",
       " 'trendy hoody lin': 218102,\n",
       " 'hoody lin thick': 107675,\n",
       " 'lin thick ins': 126451,\n",
       " 'thick ins faux': 212088,\n",
       " 'ins faux sherp': 111785,\n",
       " 'faux sherp cre': 80679,\n",
       " 'sherp cre perfect': 185818,\n",
       " 'cre perfect meld': 56185,\n",
       " 'perfect meld form': 157712,\n",
       " 'meld form funct': 136652,\n",
       " 'form funct zip': 89953,\n",
       " 'funct zip front': 93798,\n",
       " 'zip front rib': 237633,\n",
       " 'front rib cuff': 92663,\n",
       " 'rib cuff hem': 176451,\n",
       " 'cuff hem complet': 57540,\n",
       " 'hem complet hoody': 105035,\n",
       " 'complet hoody inspir': 50073,\n",
       " 'hoody inspir look': 107634,\n",
       " 'inspir look nifty': 112349,\n",
       " 'look nifty patch': 129601,\n",
       " 'nifty patch lapel': 146293,\n",
       " 'patch lapel ad': 155433,\n",
       " 'lapel ad extr': 120401,\n",
       " 'ad extr styl': 13104,\n",
       " 'cold hand wint': 46684,\n",
       " 'hand wint thank': 102352,\n",
       " 'wint thank three': 231837,\n",
       " 'thank three pair': 211764,\n",
       " 'three pair toddl': 212701,\n",
       " 'pair toddl girl': 153923,\n",
       " 'toddl girl mit': 214559,\n",
       " 'girl mit glov': 96435,\n",
       " 'mit glov toughskin': 139143,\n",
       " 'glov toughskin set': 97871,\n",
       " 'toughskin set includ': 216840,\n",
       " 'set includ two': 183949,\n",
       " 'includ two pair': 110695,\n",
       " 'two pair mit': 220035,\n",
       " 'pair mit on': 153824,\n",
       " 'mit on pair': 139153,\n",
       " 'on pair glov': 149904,\n",
       " 'pair glov construct': 153747,\n",
       " 'glov construct stretchy': 97848,\n",
       " 'construct stretchy knit': 51116,\n",
       " 'stretchy knit on': 203106,\n",
       " 'knit on pair': 118985,\n",
       " 'on pair mit': 149905,\n",
       " 'pair mit feat': 153823,\n",
       " 'mit feat text': 139141,\n",
       " 'feat text glit': 82677,\n",
       " 'text glit fox': 211536,\n",
       " 'glit fox dec': 97559,\n",
       " 'fox dec stripes': 90555,\n",
       " 'dec stripes glit': 60623,\n",
       " 'stripes glit star': 203482,\n",
       " 'glit star mix': 97606,\n",
       " 'star mix match': 200263,\n",
       " 'mix match lay': 139248,\n",
       " 'match lay mit': 135529,\n",
       " 'lay mit heart': 121558,\n",
       " 'mit heart print': 139146,\n",
       " 'heart print glov': 104040,\n",
       " 'print glov ens': 167031,\n",
       " 'glov ens warm': 97850,\n",
       " 'ens warm hand': 74206,\n",
       " 'warm hand fing': 226551,\n",
       " 'effortless styl start': 71865,\n",
       " 'styl start ad': 205326,\n",
       " 'start ad inf': 200341,\n",
       " 'ad inf girl': 13218,\n",
       " 'inf girl littl': 111130,\n",
       " 'girl littl wond': 96390,\n",
       " 'littl wond hood': 127583,\n",
       " 'wond hood design': 234083,\n",
       " 'hood design flow': 107286,\n",
       " 'design flow button': 62634,\n",
       " 'flow button front': 88535,\n",
       " 'button front allov': 34919,\n",
       " 'front allov flor': 92109,\n",
       " 'allov flor print': 15264,\n",
       " 'print ad fash': 166809,\n",
       " 'ad fash fun': 13115,\n",
       " 'fash fun long': 80081,\n",
       " 'fun long sleev': 93579,\n",
       " 'long sleev hoody': 128463,\n",
       " 'sleev hoody jacket': 193154,\n",
       " 'toasty day inf': 214299,\n",
       " 'day inf toddl': 59892,\n",
       " 'jacket toughskin sherp': 114871,\n",
       " 'toughskin sherp fleec': 216841,\n",
       " 'sherp fleec lin': 185823,\n",
       " 'fleec lin hood': 87801,\n",
       " 'lin hood cor': 126159,\n",
       " 'hood cor sweatshirt': 107279,\n",
       " 'cor sweatshirt sup': 53301,\n",
       " 'sweatshirt sup cozy': 208225,\n",
       " 'sup cozy soft': 206569,\n",
       " 'cozy soft rib': 55578,\n",
       " 'soft rib knit': 196434,\n",
       " 'rib knit cuff': 176503,\n",
       " 'knit cuff hem': 118729,\n",
       " 'cuff hem keep': 57552,\n",
       " 'hem keep stray': 105155,\n",
       " 'keep stray breez': 117370,\n",
       " 'stray breez colorblock': 202686,\n",
       " 'breez colorblock sleev': 32434,\n",
       " 'colorblock sleev ad': 47715,\n",
       " 'sleev ad trendy': 192853,\n",
       " 'ad trendy styl': 13578,\n",
       " 'trendy styl tourna': 218177,\n",
       " 'styl tourna champ': 205447,\n",
       " 'tourna champ front': 216901,\n",
       " 'champ front read': 39189,\n",
       " 'front read appl': 92656,\n",
       " 'read appl jersey': 172387,\n",
       " 'appl jersey numb': 17977,\n",
       " 'jersey numb warm': 115987,\n",
       " 'numb warm comfy': 148086,\n",
       " 'warm comfy awesom': 226386,\n",
       " 'comfy awesom athlet': 49377,\n",
       " 'awesom athlet look': 20652,\n",
       " 'lov lay lov': 130879,\n",
       " 'lay lov littl': 121540,\n",
       " 'lov littl lady': 130893,\n",
       " 'littl lady inf': 127367,\n",
       " 'lady inf toddl': 120130,\n",
       " 'jacket toughskin provid': 114869,\n",
       " 'toughskin provid wondr': 216829,\n",
       " 'provid wondr warm': 169320,\n",
       " 'wondr warm littl': 234171,\n",
       " 'warm littl on': 226619,\n",
       " 'littl on feat': 127445,\n",
       " 'on feat allov': 149676,\n",
       " 'feat allov sequin': 81329,\n",
       " 'allov sequin star': 15285,\n",
       " 'sequin star appl': 183365,\n",
       " 'star appl along': 200217,\n",
       " 'appl along front': 17913,\n",
       " 'along front sid': 15734,\n",
       " 'front sid zip': 92719,\n",
       " 'sid zip front': 188949,\n",
       " 'zip front sweatshirt': 237645,\n",
       " 'front sweatshirt gir': 92792,\n",
       " 'sweatshirt gir fash': 208183,\n",
       " 'gir fash finest': 96121,\n",
       " 'dol happy sweep': 66785,\n",
       " 'happy sweep back': 102791,\n",
       " 'sweep back hair': 208250,\n",
       " 'back hair back': 22107,\n",
       " 'hair back fun': 101885,\n",
       " 'back fun flap': 22095,\n",
       " 'fun flap gal': 93515,\n",
       " 'flap gal flo': 86930,\n",
       " 'gal flo toddl': 94125,\n",
       " 'flo toddl girl': 88191,\n",
       " 'toddl girl soft': 214576,\n",
       " 'girl soft knit': 96552,\n",
       " 'soft knit headband': 196252,\n",
       " 'knit headband toby': 118887,\n",
       " 'headband toby n': 103445,\n",
       " 'toby n c': 214351,\n",
       " 'n c boast': 141895,\n",
       " 'c boast polk': 35345,\n",
       " 'boast polk dot': 28456,\n",
       " 'polk dot bow': 163378,\n",
       " 'dot bow worn': 67000,\n",
       " 'bow worn front': 30962,\n",
       " 'worn front cent': 235137,\n",
       " 'front cent sid': 92227,\n",
       " 'cent sid ev': 38738,\n",
       " 'sid ev behind': 188709,\n",
       " 'ev behind ear': 75205,\n",
       " 'behind ear tru': 25218,\n",
       " 'ear tru saucy': 70203,\n",
       " 'tru saucy styl': 218859,\n",
       " 'littl guy look': 127322,\n",
       " 'guy look ad': 101731,\n",
       " 'look ad inf': 128647,\n",
       " 'ad inf toddl': 13219,\n",
       " 'toddl boy fleec': 214478,\n",
       " 'boy fleec hood': 31195,\n",
       " 'fleec hood jacket': 87736,\n",
       " 'hood jacket monkey': 107380,\n",
       " 'jacket monkey design': 114670,\n",
       " 'monkey design match': 140324,\n",
       " 'design match ear': 62963,\n",
       " 'match ear jacket': 135481,\n",
       " 'ear jacket mad': 70168,\n",
       " 'jacket mad sup': 114634,\n",
       " 'mad sup soft': 132275,\n",
       " 'sup soft fleec': 206655,\n",
       " 'soft fleec keep': 196158,\n",
       " 'fleec keep toasty': 87776,\n",
       " 'keep toasty pul': 117403,\n",
       " 'toasty pul hood': 214315,\n",
       " 'pul hood garn': 169592,\n",
       " 'hood garn plenty': 107346,\n",
       " 'garn plenty smil': 94414,\n",
       " 'plenty smil monkey': 161426,\n",
       " 'smil monkey ear': 194977,\n",
       " 'monkey ear sewn': 140325,\n",
       " 'ear sewn hood': 70191,\n",
       " 'sewn hood want': 184344,\n",
       " 'hood want snap': 107545,\n",
       " 'want snap photo': 226020,\n",
       " 'snap photo littl': 195470,\n",
       " 'photo littl dud': 158706,\n",
       " 'littl dud darl': 127210,\n",
       " 'dud darl jacket': 69517,\n",
       " 'ev cuddl monst': 75281,\n",
       " 'cuddl monst get': 57392,\n",
       " 'monst get cold': 140357,\n",
       " 'get cold littl': 95434,\n",
       " 'cold littl on': 46695,\n",
       " 'littl on exceiv': 127440,\n",
       " 'on exceiv keep': 149660,\n",
       " 'exceiv keep bundl': 76562,\n",
       " 'keep bundl inf': 116892,\n",
       " 'bundl inf boy': 34234,\n",
       " 'inf boy fleec': 111100,\n",
       " 'boy fleec hoody': 31196,\n",
       " 'fleec hoody jacket': 87740,\n",
       " 'hoody jacket smal': 107660,\n",
       " 'jacket smal wond': 114799,\n",
       " 'smal wond cud': 194770,\n",
       " 'wond cud soft': 234057,\n",
       " 'cud soft jacket': 57380,\n",
       " 'soft jacket feat': 196230,\n",
       " 'jacket feat attach': 114460,\n",
       " 'feat attach hood': 81360,\n",
       " 'attach hood zip': 19785,\n",
       " 'hood zip front': 107556,\n",
       " 'zip front keep': 237623,\n",
       " 'front keep cov': 92467,\n",
       " 'keep cov cas': 117014,\n",
       " 'cov cas cool': 54525,\n",
       " 'cas cool breez': 37587,\n",
       " 'cool breez rib': 52881,\n",
       " 'breez rib cuff': 32449,\n",
       " 'cuff hem ens': 57547,\n",
       " 'hem ens snug': 105086,\n",
       " 'ens snug yet': 74194,\n",
       " 'snug yet comfy': 195726,\n",
       " 'yet comfy fit': 236812,\n",
       " 'comfy fit solid': 49422,\n",
       " 'fit solid design': 86399,\n",
       " 'solid design hoody': 196917,\n",
       " 'design hoody giv': 62761,\n",
       " 'hoody giv splash': 107622,\n",
       " 'giv splash fun': 97099,\n",
       " 'splash fun chest': 198949,\n",
       " 'fun chest appl': 93445,\n",
       " 'chest appl happy': 40071,\n",
       " 'appl happy sil': 17968,\n",
       " 'happy sil littl': 102787,\n",
       " 'sil littl monst': 189079,\n",
       " 'littl monst sound': 127403,\n",
       " 'monst sound lik': 140370,\n",
       " 'sound lik anyon': 197515,\n",
       " 'lik anyon know': 125230,\n",
       " 'text glit pand': 211537,\n",
       " 'glit pand dec': 97575,\n",
       " 'pand dec multicol': 154219,\n",
       " 'dec multicol leopard': 60566,\n",
       " 'multicol leopard print': 141495,\n",
       " 'leopard print mix': 123604,\n",
       " 'print mix match': 167133,\n",
       " 'lay mit star': 121560,\n",
       " 'mit star print': 139164,\n",
       " 'star print glov': 200282,\n",
       " 'attach hood striped': 19782,\n",
       " 'hood striped jersey': 107508,\n",
       " 'striped jersey lin': 203326,\n",
       " 'jersey lin cov': 115977,\n",
       " 'lin cov clo': 126013,\n",
       " 'cov clo allig': 54535,\n",
       " 'clo allig scal': 43550,\n",
       " 'allig scal keep': 15232,\n",
       " 'scal keep head': 180710,\n",
       " 'feat whims allig': 82804,\n",
       " 'whims allig ful': 230273,\n",
       " 'allig ful leng': 15231,\n",
       " 'cozy comfort inf': 55481,\n",
       " 'comfort inf toddl': 48930,\n",
       " 'jacket toughskin rugby': 114870,\n",
       " 'toughskin rugby striped': 216837,\n",
       " 'rugby striped hoody': 179216,\n",
       " 'striped hoody feat': 203323,\n",
       " 'hoody feat vars': 107611,\n",
       " 'feat vars styl': 82774,\n",
       " 'vars styl fabr': 223154,\n",
       " 'styl fabr appl': 204564,\n",
       " 'fabr appl numb': 78497,\n",
       " 'appl numb 3': 17997,\n",
       " 'numb 3 chest': 148000,\n",
       " '3 chest mess': 5976,\n",
       " 'chest mess read': 40137,\n",
       " 'mess read phy': 137530,\n",
       " 'read phy ed': 172490,\n",
       " 'phy ed sint': 158940,\n",
       " 'ed sint 1983': 71379,\n",
       " 'sint 1983 sporty': 190425,\n",
       " '1983 sporty look': 3616,\n",
       " 'sporty look perfect': 199275,\n",
       " 'look perfect playtim': 129662,\n",
       " 'perfect playtim dur': 157820,\n",
       " 'playtim dur seam': 161086,\n",
       " 'dur seam mak': 69757,\n",
       " 'seam mak built': 181836,\n",
       " 'mak built last': 133058,\n",
       " 'built last fit': 34058,\n",
       " 'last fit soft': 120767,\n",
       " 'fit soft fleec': 86395,\n",
       " 'soft fleec lin': 196160,\n",
       " 'fleec lin body': 87783,\n",
       " 'lin body sleev': 125943,\n",
       " 'body sleev split': 28802,\n",
       " 'sleev split pouch': 193500,\n",
       " 'pouch pocket zip': 164708,\n",
       " 'pocket zip front': 162743,\n",
       " 'zip front hoody': 237620,\n",
       " 'front hoody jacket': 92433,\n",
       " 'hoody jacket mak': 107651,\n",
       " 'jacket mak warm': 114643,\n",
       " 'mak warm lay': 133945,\n",
       " 'warm lay opt': 226600,\n",
       " 'toddl boy dinosa': 214474,\n",
       " 'boy dinosa hoody': 31186,\n",
       " 'dinosa hoody jacket': 65721,\n",
       " 'entir soft faux': 74460,\n",
       " 'soft faux sherp': 196120,\n",
       " 'faux sherp mat': 80686,\n",
       " 'warm comfort look': 226375,\n",
       " 'comfort look lik': 48979,\n",
       " 'look lik dinosa': 129465,\n",
       " 'lik dinosa attach': 125342,\n",
       " 'dinosa attach hood': 65713,\n",
       " 'attach hood dino': 19766,\n",
       " 'hood dino spik': 107290,\n",
       " 'dino spik appl': 65711,\n",
       " 'spik appl front': 198768,\n",
       " 'appl front sport': 17965,\n",
       " 'sport larg embroid': 199182,\n",
       " 'larg embroid dino': 120497,\n",
       " 'embroid dino fac': 72869,\n",
       " 'dino fac complet': 65706,\n",
       " 'fac complet dino': 78957,\n",
       " 'complet dino look': 50030,\n",
       " 'dino look ful': 65708,\n",
       " 'look ful leng': 129189,\n",
       " 'littl tyk already': 127569,\n",
       " 'tyk already lov': 220244,\n",
       " 'already lov fun': 15894,\n",
       " 'lov fun pretend': 130808,\n",
       " 'fun pretend alway': 93623,\n",
       " 'pretend alway crack': 165823,\n",
       " 'alway crack everyon': 16350,\n",
       " 'crack everyon sil': 55628,\n",
       " 'everyon sil feel': 76292,\n",
       " 'sil feel lik': 189077,\n",
       " 'feel lik real': 83548,\n",
       " 'lik real anim': 125619,\n",
       " 'real anim cuddl': 172712,\n",
       " 'anim cuddl inf': 17149,\n",
       " 'cuddl inf toddl': 57391,\n",
       " 'fleec hoody boy': 87737,\n",
       " 'hoody boy rock': 107584,\n",
       " 'boy rock plush': 31262,\n",
       " 'rock plush fleec': 177856,\n",
       " 'plush fleec design': 161741,\n",
       " 'fleec design mak': 87709,\n",
       " 'design mak hoody': 62933,\n",
       " 'mak hoody unbeliev': 133441,\n",
       " 'hoody unbeliev soft': 107719,\n",
       " 'unbeliev soft comfy': 221041,\n",
       " 'soft comfy front': 196012,\n",
       " 'comfy front zip': 49430,\n",
       " 'front zip com': 92874,\n",
       " 'zip com togeth': 237515,\n",
       " 'com togeth rev': 48239,\n",
       " 'togeth rev fac': 214767,\n",
       " 'rev fac happy': 176091,\n",
       " 'fac happy dog': 79013,\n",
       " 'happy dog show': 102738,\n",
       " 'dog show on': 66768,\n",
       " 'show on too': 188277,\n",
       " 'on too chil': 150137,\n",
       " 'too chil outsid': 215105,\n",
       " 'chil outsid boy': 40728,\n",
       " 'outsid boy pul': 151953,\n",
       " 'boy pul knit': 31256,\n",
       " 'pul knit lin': 169601,\n",
       " 'knit lin hood': 118937,\n",
       " 'lin hood rev': 126174,\n",
       " 'hood rev set': 107477,\n",
       " 'rev set puppy': 176115,\n",
       " 'set puppy ear': 184083,\n",
       " 'snug ad newborn': 195680,\n",
       " 'ad newborn inf': 13312,\n",
       " 'newborn inf boy': 145968,\n",
       " 'inf boy hoody': 111102,\n",
       " 'littl wond soft': 127585,\n",
       " 'wond soft fleec': 234113,\n",
       " 'fleec lin zip': 87827,\n",
       " 'lin zip front': 126533,\n",
       " 'front sweatshirt feat': 92791,\n",
       " 'sweatshirt feat appl': 208169,\n",
       " 'feat appl smil': 81346,\n",
       " 'appl smil husky': 18022,\n",
       " 'smil husky dog': 194973,\n",
       " 'husky dog attach': 108570,\n",
       " 'dog attach hood': 66742,\n",
       " 'attach hood lin': 19777,\n",
       " 'hood lin faux': 107407,\n",
       " 'lin faux sherp': 126093,\n",
       " 'faux sherp fleec': 80680,\n",
       " 'sherp fleec keep': 185822,\n",
       " 'fleec keep littl': 87775,\n",
       " 'on head cozy': 149746,\n",
       " 'keep rug littl': 117317,\n",
       " 'rug littl guy': 179170,\n",
       " 'littl guy warm': 127330,\n",
       " 'guy warm inf': 101759,\n",
       " 'warm inf toddl': 226574,\n",
       " 'toddl boy ragl': 214500,\n",
       " 'boy ragl hoody': 31260,\n",
       " 'ragl hoody jacket': 171787,\n",
       " 'jacket toughskin id': 114864,\n",
       " 'toughskin id cho': 216802,\n",
       " 'id cho chil': 108876,\n",
       " 'cho chil afternoon': 41151,\n",
       " 'chil afternoon jacket': 40653,\n",
       " 'afternoon jacket sporty': 14515,\n",
       " 'jacket sporty design': 114814,\n",
       " 'sporty design ragl': 199261,\n",
       " 'design ragl styl': 63142,\n",
       " 'ragl styl long': 171806,\n",
       " 'styl long sleev': 204875,\n",
       " 'long sleev star': 128514,\n",
       " 'sleev star writ': 193505,\n",
       " 'star writ across': 200327,\n",
       " 'writ across front': 235652,\n",
       " 'across front appl': 12513,\n",
       " 'front appl let': 92120,\n",
       " 'appl let fleec': 17981,\n",
       " 'let fleec lin': 123797,\n",
       " 'fleec lin ens': 87793,\n",
       " 'lin ens comfort': 126079,\n",
       " 'ens comfort fit': 74103,\n",
       " 'comfort fit right': 48834,\n",
       " 'fit right amount': 86301,\n",
       " 'right amount warm': 176961,\n",
       " 'keep plenty warm': 117296,\n",
       " 'plenty warm wint': 161446,\n",
       " 'warm wint mit': 226970,\n",
       " 'wint mit hand': 231782,\n",
       " 'mit hand littl': 139145,\n",
       " 'hand littl on': 102203,\n",
       " 'littl on toddl': 127481,\n",
       " 'on toddl boy': 150136,\n",
       " 'toddl boy stretch': 214506,\n",
       " 'boy stretch knit': 31280,\n",
       " 'stretch knit mit': 202957,\n",
       " 'knit mit wonderkid': 118977,\n",
       " 'mit wonderkid craft': 139169,\n",
       " 'wonderkid craft cozy': 234146,\n",
       " 'craft cozy acryl': 55700,\n",
       " 'cozy acryl knit': 55447,\n",
       " 'acryl knit blend': 12572,\n",
       " 'knit blend clos': 118575,\n",
       " 'blend clos fit': 27375,\n",
       " 'clos fit rib': 43740,\n",
       " 'fit rib cuff': 86300,\n",
       " 'rib cuff com': 176446,\n",
       " 'cuff com two': 57467,\n",
       " 'com two pair': 48259,\n",
       " 'two pair pack': 220036,\n",
       " 'pair pack col': 153832,\n",
       " 'pack col coordin': 152906,\n",
       " 'col coordin wint': 45541,\n",
       " 'coordin wint coat': 53232,\n",
       " 'wint coat hat': 231666,\n",
       " 'long sleev play': 128486,\n",
       " 'sleev play decad': 193305,\n",
       " 'play decad writ': 160838,\n",
       " 'decad writ across': 60667,\n",
       " 'across front combin': 12515,\n",
       " 'front combin appl': 92282,\n",
       " 'combin appl screen': 48323,\n",
       " 'appl screen print': 18014,\n",
       " 'screen print let': 181461,\n",
       " 'print let fleec': 167089,\n",
       " 'keep littl head': 117197,\n",
       " 'littl head tiny': 127341,\n",
       " 'head tiny hand': 103378,\n",
       " 'tiny hand cov': 213776,\n",
       " 'hand cov comfy': 102095,\n",
       " 'cov comfy cut': 54545,\n",
       " 'comfy cut inf': 49402,\n",
       " 'cut inf girl': 58620,\n",
       " 'inf girl beany': 111123,\n",
       " 'girl beany hat': 96187,\n",
       " 'beany hat mit': 24348,\n",
       " 'hat mit wonderkid': 103198,\n",
       " 'mit wonderkid metal': 139170,\n",
       " 'wonderkid metal threading': 234161,\n",
       " 'metal threading bow': 137760,\n",
       " 'threading bow shap': 212570,\n",
       " 'bow shap cuff': 30909,\n",
       " 'shap cuff striped': 184839,\n",
       " 'cuff striped wint': 57682,\n",
       " 'striped wint cap': 203426,\n",
       " 'wint cap burst': 231645,\n",
       " 'cap burst gir': 36221,\n",
       " 'burst gir good': 34344,\n",
       " 'gir good coordin': 96130,\n",
       " 'good coordin mit': 99114,\n",
       " 'coordin mit smart': 53194,\n",
       " 'mit smart styl': 139161,\n",
       " 'smart styl rib': 194855,\n",
       " 'styl rib knit': 205149,\n",
       " 'knit cuff craft': 118726,\n",
       " 'cuff craft soft': 57477,\n",
       " 'craft soft acryl': 55762,\n",
       " 'soft acryl knit': 195916,\n",
       " 'acryl knit cozy': 12574,\n",
       " 'knit cozy combo': 118715,\n",
       " 'cozy combo keep': 55477,\n",
       " 'combo keep spec': 48522,\n",
       " 'keep spec swe': 117360,\n",
       " 'spec swe feel': 198495,\n",
       " 'swe feel warm': 207703,\n",
       " 'feel warm look': 83707,\n",
       " 'warm look wond': 226635,\n",
       " 'look wond day': 130192,\n",
       " 'keep warm look': 117466,\n",
       " 'warm look cool': 226627,\n",
       " 'look cool inf': 128888,\n",
       " 'cool inf toddl': 52979,\n",
       " 'toddl boy camo': 214471,\n",
       " 'boy camo hoody': 31170,\n",
       " 'camo hoody jacket': 35957,\n",
       " 'jacket toughskin class': 114860,\n",
       " 'toughskin class zip': 216760,\n",
       " 'class zip hoody': 42558,\n",
       " 'zip hoody jacket': 237701,\n",
       " 'hoody jacket design': 107644,\n",
       " 'jacket design fleec': 114392,\n",
       " 'design fleec top': 62627,\n",
       " 'fleec top camoufl': 87884,\n",
       " 'top camoufl pattern': 215285,\n",
       " 'camoufl pattern throughout': 35994,\n",
       " 'pattern throughout look': 155794,\n",
       " 'throughout look lik': 212809,\n",
       " 'look lik ready': 129491,\n",
       " 'lik ready go': 125616,\n",
       " 'ready go hunt': 172602,\n",
       " 'dur trendy striped': 69791,\n",
       " 'trendy striped hoody': 218164,\n",
       " 'striped hoody lin': 203325,\n",
       " 'lin thick faux': 126450,\n",
       " 'thick faux sherp': 212070,\n",
       " 'hem complet transform': 105036,\n",
       " 'complet transform hoody': 50186,\n",
       " 'transform hoody hoody': 217389,\n",
       " 'hoody hoody jacket': 107630,\n",
       " 'hoody jacket nifty': 107653,\n",
       " 'jacket nifty patch': 114678,\n",
       " 'nifty patch ad': 146292,\n",
       " 'patch ad onto': 155406,\n",
       " 'ad onto breast': 13322,\n",
       " 'onto breast addit': 150266,\n",
       " 'breast addit touch': 31930,\n",
       " 'addit touch styl': 13799,\n",
       " 'bow mak outfit': 30881,\n",
       " 'mak outfit pretty': 133614,\n",
       " 'outfit pretty inf': 151863,\n",
       " 'pretty inf toddl': 165897,\n",
       " 'jacket toughskin feat': 114862,\n",
       " 'toughskin feat sparkl': 216785,\n",
       " 'feat sparkl sequin': 82555,\n",
       " 'sparkl sequin bow': 198093,\n",
       " 'sequin bow chest': 183282,\n",
       " 'bow chest lin': 30845,\n",
       " 'chest lin pretty': 40120,\n",
       " 'lin pretty bow': 126332,\n",
       " 'pretty bow print': 165841,\n",
       " 'bow print fabr': 30891,\n",
       " 'print fabr hood': 166977,\n",
       " 'fabr hood keep': 78678,\n",
       " 'hood keep littl': 107392,\n",
       " 'on head nic': 149748,\n",
       " 'head nic toasty': 103354,\n",
       " 'nic toasty fleec': 146211,\n",
       " 'toasty fleec lin': 214302,\n",
       " 'fleec lin rest': 87815,\n",
       " 'lin rest sweatshirt': 126358,\n",
       " 'rest sweatshirt envelop': 175719,\n",
       " 'sweatshirt envelop warm': 208168,\n",
       " 'envelop warm rib': 74497,\n",
       " 'warm rib knit': 226776,\n",
       " 'hem keep breez': 105153,\n",
       " 'keep breez away': 116888,\n",
       " 'breez away body': 32428,\n",
       " 'away body split': 20574,\n",
       " 'body split pouch': 28807,\n",
       " 'pouch pocket ad': 164686,\n",
       " 'pocket ad sweet': 161853,\n",
       " 'ad sweet grown': 13525,\n",
       " 'sweet grown detail': 208317,\n",
       " 'pretty sparkl hem': 165996,\n",
       " 'sparkl hem sleev': 198021,\n",
       " 'hem sleev mak': 105257,\n",
       " 'sleev mak dress': 193240,\n",
       " 'mak dress perfect': 133200,\n",
       " 'dress perfect party': 68442,\n",
       " 'perfect party pict': 157785,\n",
       " 'party pict tak': 155149,\n",
       " 'pict tak fabr': 159098,\n",
       " 'tak fabr cotton': 209370,\n",
       " 'fabr cotton jersey': 78573,\n",
       " 'cotton jersey knit': 53865,\n",
       " 'jersey knit last': 115946,\n",
       " 'knit last wash': 118922,\n",
       " 'last wash wash': 120850,\n",
       " 'wash wash sweet': 227378,\n",
       " 'wash sweet simpl': 227345,\n",
       " 'sweet simpl lin': 208383,\n",
       " 'simpl lin shap': 190035,\n",
       " 'lin shap guar': 126381,\n",
       " 'shap guar shel': 184935,\n",
       " 'guar shel look': 101357,\n",
       " 'shel look best': 185700,\n",
       " 'look best feel': 128724,\n",
       " 'best feel comfiest': 25858,\n",
       " 'feel comfiest celebr': 83343,\n",
       " 'fleec scarf siz': 87858,\n",
       " 'scarf siz right': 180796,\n",
       " 'siz right kid': 191249,\n",
       " 'right kid bit': 177048,\n",
       " 'kid bit narrow': 117784,\n",
       " 'bit narrow adult': 26773,\n",
       " 'narrow adult siz': 142703,\n",
       " 'adult siz scarv': 14147,\n",
       " 'siz scarv mak': 191262,\n",
       " 'scarv mak bet': 180820,\n",
       " 'mak bet wrap': 133035,\n",
       " 'bet wrap around': 26242,\n",
       " 'wrap around littl': 235451,\n",
       " 'around littl on': 18820,\n",
       " 'littl on wont': 127485,\n",
       " 'on wont hear': 150198,\n",
       " 'wont hear complain': 234177,\n",
       " 'hear complain itchy': 103789,\n",
       " 'complain itchy eith': 49939,\n",
       " 'itchy eith noth': 113989,\n",
       " 'eith noth could': 71951,\n",
       " 'noth could soft': 147725,\n",
       " 'could soft thermacheck': 54229,\n",
       " 'soft thermacheck fleec': 196628,\n",
       " 'thermacheck fleec brush': 211986,\n",
       " 'fleec brush sid': 87684,\n",
       " 'brush sid best': 33699,\n",
       " 'sid best snow': 188645,\n",
       " 'best snow day': 26026,\n",
       " 'snow day ev': 195586,\n",
       " 'day ev plu': 59838,\n",
       " 'ev plu ant': 75525,\n",
       " 'plu ant pil': 161478,\n",
       " 'ant pil fin': 17431,\n",
       " 'pil fin keep': 159601,\n",
       " 'fin keep look': 84885,\n",
       " 'keep look good': 117215,\n",
       " 'look good throughout': 129251,\n",
       " 'good throughout sled': 99259,\n",
       " 'throughout sled season': 212824,\n",
       " 'sled season 100': 192638,\n",
       " 'season 100 polyest': 182016,\n",
       " '100 polyest fleec': 1920,\n",
       " 'flor embroidery cov': 88278,\n",
       " 'embroidery cov form': 72964,\n",
       " 'cov form dress': 54618,\n",
       " 'form dress striking': 89907,\n",
       " 'dress striking mad': 68683,\n",
       " 'striking mad 100': 203176,\n",
       " 'mad 100 polyest': 131879,\n",
       " '100 polyest sleeveless': 1940,\n",
       " 'polyest sleeveless scoop': 163825,\n",
       " 'sleeveless scoop neck': 193822,\n",
       " 'scoop neck conveny': 181116,\n",
       " 'neck conveny back': 143646,\n",
       " 'conveny back zipit': 52079,\n",
       " 'back zipit also': 22481,\n",
       " 'zipit also beauty': 237950,\n",
       " 'also beauty ros': 15939,\n",
       " 'beauty ros sash': 24845,\n",
       " 'ros sash tie': 178313,\n",
       " 'sash tie back': 180215,\n",
       " 'tie back show': 212935,\n",
       " 'back show gorg': 22364,\n",
       " 'show gorg bowth': 188223,\n",
       " 'gorg bowth sweet': 99325,\n",
       " 'bowth sweet littl': 30997,\n",
       " 'sweet littl dress': 208330,\n",
       " 'littl dress com': 127206,\n",
       " 'dress com 4': 67900,\n",
       " 'com 4 col': 47790,\n",
       " '4 col ros': 7400,\n",
       " 'col ros purpl': 46266,\n",
       " 'ros purpl ivy': 178308,\n",
       " 'purpl ivy blacksh': 170078,\n",
       " 'ivy blacksh ready': 114180,\n",
       " 'blacksh ready ev': 27230,\n",
       " 'dress class chic': 67884,\n",
       " 'class chic styl': 42025,\n",
       " 'chic styl girl': 40465,\n",
       " 'styl girl tripl': 204695,\n",
       " 'girl tripl strap': 96615,\n",
       " 'tripl strap dot': 218654,\n",
       " 'strap dot butterf': 202478,\n",
       " 'dot butterf dress': 67001,\n",
       " 'butterf dress ashley': 34634,\n",
       " 'dress ashley an': 67774,\n",
       " 'ashley an sleeveless': 19299,\n",
       " 'an sleeveless tripl': 16946,\n",
       " 'sleeveless tripl straps': 193879,\n",
       " 'tripl straps squ': 218657,\n",
       " 'straps squ neck': 202599,\n",
       " 'squ neck boast': 199605,\n",
       " 'neck boast dot': 143581,\n",
       " 'boast dot print': 28417,\n",
       " 'dot print cut': 67076,\n",
       " 'print cut col': 166911,\n",
       " 'cut col styl': 58431,\n",
       " 'col styl bow': 46425,\n",
       " ...}"
      ]
     },
     "execution_count": 37,
     "metadata": {},
     "output_type": "execute_result"
    }
   ],
   "source": [
    "# Create a 'bag of words' with CountVectorizer() using the process_text function\n",
    "# fit to the Description column\n",
    "# print the 'bag of words' vocabularly count from Description column\n",
    "bow_transformer = CountVectorizer(analyzer = process_text).fit(df['Description'])\n",
    "bow_transformer.vocabulary_"
   ]
  },
  {
   "cell_type": "code",
   "execution_count": 38,
   "metadata": {},
   "outputs": [],
   "source": [
    "# Transform the Description column with the bag of words \n",
    "description_bow = bow_transformer.transform(df['Description'])"
   ]
  },
  {
   "cell_type": "code",
   "execution_count": 39,
   "metadata": {},
   "outputs": [],
   "source": [
    "# Fit the tfidf with the bag of words\n",
    "from sklearn.feature_extraction.text import TfidfTransformer\n",
    "transformer = TfidfTransformer()\n",
    "text_tfidf = transformer.fit(description_bow)"
   ]
  },
  {
   "cell_type": "code",
   "execution_count": 40,
   "metadata": {},
   "outputs": [],
   "source": [
    "# Transform the tfidf with the bag of words\n",
    "text_tfidf = transformer.transform(description_bow)"
   ]
  },
  {
   "cell_type": "code",
   "execution_count": 41,
   "metadata": {},
   "outputs": [],
   "source": [
    "# The resulting matrix is in sparse format, we can transform it into dense\n",
    "# Code prepared for you so you can see what results look like\n",
    "\n",
    "# Create an array from the transformed 'bag of words' Description column\n",
    "\n",
    "text_tfidf = pd.DataFrame(text_tfidf.toarray())"
   ]
  },
  {
   "cell_type": "code",
   "execution_count": 42,
   "metadata": {},
   "outputs": [
    {
     "data": {
      "text/html": [
       "<div>\n",
       "<style scoped>\n",
       "    .dataframe tbody tr th:only-of-type {\n",
       "        vertical-align: middle;\n",
       "    }\n",
       "\n",
       "    .dataframe tbody tr th {\n",
       "        vertical-align: top;\n",
       "    }\n",
       "\n",
       "    .dataframe thead th {\n",
       "        text-align: right;\n",
       "    }\n",
       "</style>\n",
       "<table border=\"1\" class=\"dataframe\">\n",
       "  <thead>\n",
       "    <tr style=\"text-align: right;\">\n",
       "      <th></th>\n",
       "      <th>0</th>\n",
       "      <th>1</th>\n",
       "      <th>2</th>\n",
       "      <th>3</th>\n",
       "      <th>4</th>\n",
       "      <th>5</th>\n",
       "      <th>6</th>\n",
       "      <th>7</th>\n",
       "      <th>8</th>\n",
       "      <th>9</th>\n",
       "      <th>...</th>\n",
       "      <th>238050</th>\n",
       "      <th>238051</th>\n",
       "      <th>238052</th>\n",
       "      <th>238053</th>\n",
       "      <th>238054</th>\n",
       "      <th>238055</th>\n",
       "      <th>238056</th>\n",
       "      <th>238057</th>\n",
       "      <th>238058</th>\n",
       "      <th>238059</th>\n",
       "    </tr>\n",
       "  </thead>\n",
       "  <tbody>\n",
       "    <tr>\n",
       "      <th>0</th>\n",
       "      <td>0.0</td>\n",
       "      <td>0.0</td>\n",
       "      <td>0.0</td>\n",
       "      <td>0.0</td>\n",
       "      <td>0.0</td>\n",
       "      <td>0.0</td>\n",
       "      <td>0.0</td>\n",
       "      <td>0.0</td>\n",
       "      <td>0.0</td>\n",
       "      <td>0.0</td>\n",
       "      <td>...</td>\n",
       "      <td>0.0</td>\n",
       "      <td>0.0</td>\n",
       "      <td>0.0</td>\n",
       "      <td>0.0</td>\n",
       "      <td>0.0</td>\n",
       "      <td>0.0</td>\n",
       "      <td>0.0</td>\n",
       "      <td>0.0</td>\n",
       "      <td>0.0</td>\n",
       "      <td>0.0</td>\n",
       "    </tr>\n",
       "    <tr>\n",
       "      <th>1</th>\n",
       "      <td>0.0</td>\n",
       "      <td>0.0</td>\n",
       "      <td>0.0</td>\n",
       "      <td>0.0</td>\n",
       "      <td>0.0</td>\n",
       "      <td>0.0</td>\n",
       "      <td>0.0</td>\n",
       "      <td>0.0</td>\n",
       "      <td>0.0</td>\n",
       "      <td>0.0</td>\n",
       "      <td>...</td>\n",
       "      <td>0.0</td>\n",
       "      <td>0.0</td>\n",
       "      <td>0.0</td>\n",
       "      <td>0.0</td>\n",
       "      <td>0.0</td>\n",
       "      <td>0.0</td>\n",
       "      <td>0.0</td>\n",
       "      <td>0.0</td>\n",
       "      <td>0.0</td>\n",
       "      <td>0.0</td>\n",
       "    </tr>\n",
       "    <tr>\n",
       "      <th>2</th>\n",
       "      <td>0.0</td>\n",
       "      <td>0.0</td>\n",
       "      <td>0.0</td>\n",
       "      <td>0.0</td>\n",
       "      <td>0.0</td>\n",
       "      <td>0.0</td>\n",
       "      <td>0.0</td>\n",
       "      <td>0.0</td>\n",
       "      <td>0.0</td>\n",
       "      <td>0.0</td>\n",
       "      <td>...</td>\n",
       "      <td>0.0</td>\n",
       "      <td>0.0</td>\n",
       "      <td>0.0</td>\n",
       "      <td>0.0</td>\n",
       "      <td>0.0</td>\n",
       "      <td>0.0</td>\n",
       "      <td>0.0</td>\n",
       "      <td>0.0</td>\n",
       "      <td>0.0</td>\n",
       "      <td>0.0</td>\n",
       "    </tr>\n",
       "    <tr>\n",
       "      <th>3</th>\n",
       "      <td>0.0</td>\n",
       "      <td>0.0</td>\n",
       "      <td>0.0</td>\n",
       "      <td>0.0</td>\n",
       "      <td>0.0</td>\n",
       "      <td>0.0</td>\n",
       "      <td>0.0</td>\n",
       "      <td>0.0</td>\n",
       "      <td>0.0</td>\n",
       "      <td>0.0</td>\n",
       "      <td>...</td>\n",
       "      <td>0.0</td>\n",
       "      <td>0.0</td>\n",
       "      <td>0.0</td>\n",
       "      <td>0.0</td>\n",
       "      <td>0.0</td>\n",
       "      <td>0.0</td>\n",
       "      <td>0.0</td>\n",
       "      <td>0.0</td>\n",
       "      <td>0.0</td>\n",
       "      <td>0.0</td>\n",
       "    </tr>\n",
       "    <tr>\n",
       "      <th>4</th>\n",
       "      <td>0.0</td>\n",
       "      <td>0.0</td>\n",
       "      <td>0.0</td>\n",
       "      <td>0.0</td>\n",
       "      <td>0.0</td>\n",
       "      <td>0.0</td>\n",
       "      <td>0.0</td>\n",
       "      <td>0.0</td>\n",
       "      <td>0.0</td>\n",
       "      <td>0.0</td>\n",
       "      <td>...</td>\n",
       "      <td>0.0</td>\n",
       "      <td>0.0</td>\n",
       "      <td>0.0</td>\n",
       "      <td>0.0</td>\n",
       "      <td>0.0</td>\n",
       "      <td>0.0</td>\n",
       "      <td>0.0</td>\n",
       "      <td>0.0</td>\n",
       "      <td>0.0</td>\n",
       "      <td>0.0</td>\n",
       "    </tr>\n",
       "  </tbody>\n",
       "</table>\n",
       "<p>5 rows × 238060 columns</p>\n",
       "</div>"
      ],
      "text/plain": [
       "   0       1       2       3       4       5       6       7       8       \\\n",
       "0     0.0     0.0     0.0     0.0     0.0     0.0     0.0     0.0     0.0   \n",
       "1     0.0     0.0     0.0     0.0     0.0     0.0     0.0     0.0     0.0   \n",
       "2     0.0     0.0     0.0     0.0     0.0     0.0     0.0     0.0     0.0   \n",
       "3     0.0     0.0     0.0     0.0     0.0     0.0     0.0     0.0     0.0   \n",
       "4     0.0     0.0     0.0     0.0     0.0     0.0     0.0     0.0     0.0   \n",
       "\n",
       "   9       ...  238050  238051  238052  238053  238054  238055  238056  \\\n",
       "0     0.0  ...     0.0     0.0     0.0     0.0     0.0     0.0     0.0   \n",
       "1     0.0  ...     0.0     0.0     0.0     0.0     0.0     0.0     0.0   \n",
       "2     0.0  ...     0.0     0.0     0.0     0.0     0.0     0.0     0.0   \n",
       "3     0.0  ...     0.0     0.0     0.0     0.0     0.0     0.0     0.0   \n",
       "4     0.0  ...     0.0     0.0     0.0     0.0     0.0     0.0     0.0   \n",
       "\n",
       "   238057  238058  238059  \n",
       "0     0.0     0.0     0.0  \n",
       "1     0.0     0.0     0.0  \n",
       "2     0.0     0.0     0.0  \n",
       "3     0.0     0.0     0.0  \n",
       "4     0.0     0.0     0.0  \n",
       "\n",
       "[5 rows x 238060 columns]"
      ]
     },
     "execution_count": 42,
     "metadata": {},
     "output_type": "execute_result"
    }
   ],
   "source": [
    "# This is an example result, the matrix will contain lots of zero values, that is expected\n",
    "# Some values will be non-zero\n",
    "text_tfidf.head()"
   ]
  },
  {
   "cell_type": "markdown",
   "metadata": {},
   "source": [
    "### Split Data into Train and Test sets (4 marks)"
   ]
  },
  {
   "cell_type": "code",
   "execution_count": 43,
   "metadata": {},
   "outputs": [],
   "source": [
    "X = text_tfidf"
   ]
  },
  {
   "cell_type": "markdown",
   "metadata": {},
   "source": [
    "# Now the Data is Ready for Classifier Usage"
   ]
  },
  {
   "cell_type": "code",
   "execution_count": 46,
   "metadata": {},
   "outputs": [],
   "source": [
    "df_new = df.copy()"
   ]
  },
  {
   "cell_type": "code",
   "execution_count": 98,
   "metadata": {},
   "outputs": [
    {
     "data": {
      "text/html": [
       "<div>\n",
       "<style scoped>\n",
       "    .dataframe tbody tr th:only-of-type {\n",
       "        vertical-align: middle;\n",
       "    }\n",
       "\n",
       "    .dataframe tbody tr th {\n",
       "        vertical-align: top;\n",
       "    }\n",
       "\n",
       "    .dataframe thead th {\n",
       "        text-align: right;\n",
       "    }\n",
       "</style>\n",
       "<table border=\"1\" class=\"dataframe\">\n",
       "  <thead>\n",
       "    <tr style=\"text-align: right;\">\n",
       "      <th></th>\n",
       "      <th>Description</th>\n",
       "      <th>Level_1</th>\n",
       "      <th>Level_2</th>\n",
       "      <th>Level_3</th>\n",
       "      <th>le_description</th>\n",
       "      <th>le_level1</th>\n",
       "      <th>le_level2</th>\n",
       "      <th>le_level3</th>\n",
       "    </tr>\n",
       "  </thead>\n",
       "  <tbody>\n",
       "    <tr>\n",
       "      <th>0</th>\n",
       "      <td>gerb cap help keep littl on head cov warm day ...</td>\n",
       "      <td>09BF5150</td>\n",
       "      <td>C7E19</td>\n",
       "      <td>FDCF</td>\n",
       "      <td>3624</td>\n",
       "      <td>1</td>\n",
       "      <td>29</td>\n",
       "      <td>93</td>\n",
       "    </tr>\n",
       "    <tr>\n",
       "      <th>1</th>\n",
       "      <td>newborn inf toddl boy hoody jacket oshkosh b g...</td>\n",
       "      <td>2CEC27F1</td>\n",
       "      <td>ADAD6</td>\n",
       "      <td>ED0D</td>\n",
       "      <td>6006</td>\n",
       "      <td>2</td>\n",
       "      <td>24</td>\n",
       "      <td>87</td>\n",
       "    </tr>\n",
       "    <tr>\n",
       "      <th>2</th>\n",
       "      <td>tut ballet anym leap foxy fash ruffl tul toddl...</td>\n",
       "      <td>09BF5150</td>\n",
       "      <td>C7E19</td>\n",
       "      <td>D06E</td>\n",
       "      <td>9021</td>\n",
       "      <td>1</td>\n",
       "      <td>29</td>\n",
       "      <td>77</td>\n",
       "    </tr>\n",
       "    <tr>\n",
       "      <th>3</th>\n",
       "      <td>newborn inf toddl boy hoody jacket oshkosh b g...</td>\n",
       "      <td>2CEC27F1</td>\n",
       "      <td>ADAD6</td>\n",
       "      <td>98CF</td>\n",
       "      <td>6006</td>\n",
       "      <td>2</td>\n",
       "      <td>24</td>\n",
       "      <td>61</td>\n",
       "    </tr>\n",
       "    <tr>\n",
       "      <th>4</th>\n",
       "      <td>easy keep feel warm cozy inf toddl girl hoody ...</td>\n",
       "      <td>2CEC27F1</td>\n",
       "      <td>ADAD6</td>\n",
       "      <td>3918</td>\n",
       "      <td>2593</td>\n",
       "      <td>2</td>\n",
       "      <td>24</td>\n",
       "      <td>28</td>\n",
       "    </tr>\n",
       "    <tr>\n",
       "      <th>...</th>\n",
       "      <td>...</td>\n",
       "      <td>...</td>\n",
       "      <td>...</td>\n",
       "      <td>...</td>\n",
       "      <td>...</td>\n",
       "      <td>...</td>\n",
       "      <td>...</td>\n",
       "      <td>...</td>\n",
       "    </tr>\n",
       "    <tr>\n",
       "      <th>10634</th>\n",
       "      <td>term 10 issu on year subscriptionyo sav 75 cov...</td>\n",
       "      <td>90A8B052</td>\n",
       "      <td>C719A</td>\n",
       "      <td>1BE5</td>\n",
       "      <td>8402</td>\n",
       "      <td>9</td>\n",
       "      <td>28</td>\n",
       "      <td>12</td>\n",
       "    </tr>\n",
       "    <tr>\n",
       "      <th>10635</th>\n",
       "      <td>term 12 issu on year subscriptionyo sav 86 cov...</td>\n",
       "      <td>90A8B052</td>\n",
       "      <td>C719A</td>\n",
       "      <td>F45B</td>\n",
       "      <td>8540</td>\n",
       "      <td>9</td>\n",
       "      <td>28</td>\n",
       "      <td>90</td>\n",
       "    </tr>\n",
       "    <tr>\n",
       "      <th>10636</th>\n",
       "      <td>term 9 issu on year subscriptionyo sav 64 cov ...</td>\n",
       "      <td>90A8B052</td>\n",
       "      <td>C719A</td>\n",
       "      <td>A0E2</td>\n",
       "      <td>8768</td>\n",
       "      <td>9</td>\n",
       "      <td>28</td>\n",
       "      <td>62</td>\n",
       "    </tr>\n",
       "    <tr>\n",
       "      <th>10637</th>\n",
       "      <td>term 26 issu on year subscriptionyo sav 54 cov...</td>\n",
       "      <td>90A8B052</td>\n",
       "      <td>C719A</td>\n",
       "      <td>1BE5</td>\n",
       "      <td>8558</td>\n",
       "      <td>9</td>\n",
       "      <td>28</td>\n",
       "      <td>12</td>\n",
       "    </tr>\n",
       "    <tr>\n",
       "      <th>10638</th>\n",
       "      <td>term 12 issu on year subscriptionyo sav 60 cov...</td>\n",
       "      <td>90A8B052</td>\n",
       "      <td>C719A</td>\n",
       "      <td>A0E2</td>\n",
       "      <td>8467</td>\n",
       "      <td>9</td>\n",
       "      <td>28</td>\n",
       "      <td>62</td>\n",
       "    </tr>\n",
       "  </tbody>\n",
       "</table>\n",
       "<p>10627 rows × 8 columns</p>\n",
       "</div>"
      ],
      "text/plain": [
       "                                             Description   Level_1 Level_2  \\\n",
       "0      gerb cap help keep littl on head cov warm day ...  09BF5150   C7E19   \n",
       "1      newborn inf toddl boy hoody jacket oshkosh b g...  2CEC27F1   ADAD6   \n",
       "2      tut ballet anym leap foxy fash ruffl tul toddl...  09BF5150   C7E19   \n",
       "3      newborn inf toddl boy hoody jacket oshkosh b g...  2CEC27F1   ADAD6   \n",
       "4      easy keep feel warm cozy inf toddl girl hoody ...  2CEC27F1   ADAD6   \n",
       "...                                                  ...       ...     ...   \n",
       "10634  term 10 issu on year subscriptionyo sav 75 cov...  90A8B052   C719A   \n",
       "10635  term 12 issu on year subscriptionyo sav 86 cov...  90A8B052   C719A   \n",
       "10636  term 9 issu on year subscriptionyo sav 64 cov ...  90A8B052   C719A   \n",
       "10637  term 26 issu on year subscriptionyo sav 54 cov...  90A8B052   C719A   \n",
       "10638  term 12 issu on year subscriptionyo sav 60 cov...  90A8B052   C719A   \n",
       "\n",
       "      Level_3  le_description  le_level1  le_level2  le_level3  \n",
       "0        FDCF            3624          1         29         93  \n",
       "1        ED0D            6006          2         24         87  \n",
       "2        D06E            9021          1         29         77  \n",
       "3        98CF            6006          2         24         61  \n",
       "4        3918            2593          2         24         28  \n",
       "...       ...             ...        ...        ...        ...  \n",
       "10634    1BE5            8402          9         28         12  \n",
       "10635    F45B            8540          9         28         90  \n",
       "10636    A0E2            8768          9         28         62  \n",
       "10637    1BE5            8558          9         28         12  \n",
       "10638    A0E2            8467          9         28         62  \n",
       "\n",
       "[10627 rows x 8 columns]"
      ]
     },
     "execution_count": 98,
     "metadata": {},
     "output_type": "execute_result"
    }
   ],
   "source": [
    "le = preprocessing.LabelEncoder()\n",
    "df_new['le_description'] = le.fit_transform(df.Description.values)\n",
    "df_new['le_level1'] = le.fit_transform(df.Level_1.values)\n",
    "df_new['le_level2'] = le.fit_transform(df.Level_2.values)\n",
    "df_new['le_level3'] = le.fit_transform(df.Level_3.values)\n",
    "df_new"
   ]
  },
  {
   "cell_type": "code",
   "execution_count": 99,
   "metadata": {},
   "outputs": [],
   "source": [
    "#X = df_new[['le_description', 'le_level1', 'le_level2','le_level3']]"
   ]
  },
  {
   "cell_type": "code",
   "execution_count": 47,
   "metadata": {},
   "outputs": [],
   "source": [
    "y = df_new[['Level_1', 'Level_2', 'Level_3']]"
   ]
  },
  {
   "cell_type": "code",
   "execution_count": 48,
   "metadata": {},
   "outputs": [
    {
     "data": {
      "text/plain": [
       "(10627, 3)"
      ]
     },
     "execution_count": 48,
     "metadata": {},
     "output_type": "execute_result"
    }
   ],
   "source": [
    "y.shape"
   ]
  },
  {
   "cell_type": "code",
   "execution_count": 49,
   "metadata": {},
   "outputs": [
    {
     "data": {
      "text/plain": [
       "['Level_1', 'Level_2', 'Level_3']"
      ]
     },
     "execution_count": 49,
     "metadata": {},
     "output_type": "execute_result"
    }
   ],
   "source": [
    "y.columns.values.tolist()"
   ]
  },
  {
   "cell_type": "code",
   "execution_count": 50,
   "metadata": {},
   "outputs": [],
   "source": [
    "X_train, X_test, y_train, y_test = train_test_split(X,y, test_size = 0.20, random_state = 42)"
   ]
  },
  {
   "cell_type": "code",
   "execution_count": 51,
   "metadata": {},
   "outputs": [],
   "source": [
    "# You might need to reset index in each dataframe (depends on you how you do things)\n",
    "# done for you to make it clearer\n",
    "X_train.reset_index(inplace=True, drop=True)\n",
    "X_test.reset_index(inplace=True, drop=True)\n",
    "y_train.reset_index(inplace=True, drop=True)\n",
    "y_test.reset_index(inplace=True, drop=True)"
   ]
  },
  {
   "cell_type": "code",
   "execution_count": 52,
   "metadata": {},
   "outputs": [
    {
     "data": {
      "text/plain": [
       "(8501, 238060)"
      ]
     },
     "execution_count": 52,
     "metadata": {},
     "output_type": "execute_result"
    }
   ],
   "source": [
    "X_train.shape"
   ]
  },
  {
   "cell_type": "code",
   "execution_count": 53,
   "metadata": {},
   "outputs": [
    {
     "data": {
      "text/plain": [
       "(8501, 3)"
      ]
     },
     "execution_count": 53,
     "metadata": {},
     "output_type": "execute_result"
    }
   ],
   "source": [
    "y_train.shape"
   ]
  },
  {
   "cell_type": "code",
   "execution_count": 54,
   "metadata": {},
   "outputs": [
    {
     "name": "stdout",
     "output_type": "stream",
     "text": [
      "<class 'pandas.core.frame.DataFrame'>\n",
      "RangeIndex: 8501 entries, 0 to 8500\n",
      "Columns: 238060 entries, 0 to 238059\n",
      "dtypes: float64(238060)\n",
      "memory usage: 15.1 GB\n"
     ]
    }
   ],
   "source": [
    "X_train.info()"
   ]
  },
  {
   "cell_type": "code",
   "execution_count": 55,
   "metadata": {},
   "outputs": [
    {
     "data": {
      "text/plain": [
       "(2126, 238060)"
      ]
     },
     "execution_count": 55,
     "metadata": {},
     "output_type": "execute_result"
    }
   ],
   "source": [
    "X_test.shape"
   ]
  },
  {
   "cell_type": "code",
   "execution_count": 56,
   "metadata": {},
   "outputs": [
    {
     "data": {
      "text/plain": [
       "(2126, 3)"
      ]
     },
     "execution_count": 56,
     "metadata": {},
     "output_type": "execute_result"
    }
   ],
   "source": [
    "y_test.shape"
   ]
  },
  {
   "cell_type": "code",
   "execution_count": 59,
   "metadata": {},
   "outputs": [
    {
     "data": {
      "text/html": [
       "<div>\n",
       "<style scoped>\n",
       "    .dataframe tbody tr th:only-of-type {\n",
       "        vertical-align: middle;\n",
       "    }\n",
       "\n",
       "    .dataframe tbody tr th {\n",
       "        vertical-align: top;\n",
       "    }\n",
       "\n",
       "    .dataframe thead th {\n",
       "        text-align: right;\n",
       "    }\n",
       "</style>\n",
       "<table border=\"1\" class=\"dataframe\">\n",
       "  <thead>\n",
       "    <tr style=\"text-align: right;\">\n",
       "      <th></th>\n",
       "      <th>0</th>\n",
       "      <th>1</th>\n",
       "      <th>2</th>\n",
       "      <th>3</th>\n",
       "      <th>4</th>\n",
       "      <th>5</th>\n",
       "      <th>6</th>\n",
       "      <th>7</th>\n",
       "      <th>8</th>\n",
       "      <th>9</th>\n",
       "      <th>...</th>\n",
       "      <th>238050</th>\n",
       "      <th>238051</th>\n",
       "      <th>238052</th>\n",
       "      <th>238053</th>\n",
       "      <th>238054</th>\n",
       "      <th>238055</th>\n",
       "      <th>238056</th>\n",
       "      <th>238057</th>\n",
       "      <th>238058</th>\n",
       "      <th>238059</th>\n",
       "    </tr>\n",
       "  </thead>\n",
       "  <tbody>\n",
       "    <tr>\n",
       "      <th>0</th>\n",
       "      <td>0.0</td>\n",
       "      <td>0.0</td>\n",
       "      <td>0.0</td>\n",
       "      <td>0.0</td>\n",
       "      <td>0.0</td>\n",
       "      <td>0.0</td>\n",
       "      <td>0.0</td>\n",
       "      <td>0.0</td>\n",
       "      <td>0.0</td>\n",
       "      <td>0.0</td>\n",
       "      <td>...</td>\n",
       "      <td>0.0</td>\n",
       "      <td>0.0</td>\n",
       "      <td>0.0</td>\n",
       "      <td>0.0</td>\n",
       "      <td>0.0</td>\n",
       "      <td>0.0</td>\n",
       "      <td>0.0</td>\n",
       "      <td>0.0</td>\n",
       "      <td>0.0</td>\n",
       "      <td>0.0</td>\n",
       "    </tr>\n",
       "    <tr>\n",
       "      <th>1</th>\n",
       "      <td>0.0</td>\n",
       "      <td>0.0</td>\n",
       "      <td>0.0</td>\n",
       "      <td>0.0</td>\n",
       "      <td>0.0</td>\n",
       "      <td>0.0</td>\n",
       "      <td>0.0</td>\n",
       "      <td>0.0</td>\n",
       "      <td>0.0</td>\n",
       "      <td>0.0</td>\n",
       "      <td>...</td>\n",
       "      <td>0.0</td>\n",
       "      <td>0.0</td>\n",
       "      <td>0.0</td>\n",
       "      <td>0.0</td>\n",
       "      <td>0.0</td>\n",
       "      <td>0.0</td>\n",
       "      <td>0.0</td>\n",
       "      <td>0.0</td>\n",
       "      <td>0.0</td>\n",
       "      <td>0.0</td>\n",
       "    </tr>\n",
       "    <tr>\n",
       "      <th>2</th>\n",
       "      <td>0.0</td>\n",
       "      <td>0.0</td>\n",
       "      <td>0.0</td>\n",
       "      <td>0.0</td>\n",
       "      <td>0.0</td>\n",
       "      <td>0.0</td>\n",
       "      <td>0.0</td>\n",
       "      <td>0.0</td>\n",
       "      <td>0.0</td>\n",
       "      <td>0.0</td>\n",
       "      <td>...</td>\n",
       "      <td>0.0</td>\n",
       "      <td>0.0</td>\n",
       "      <td>0.0</td>\n",
       "      <td>0.0</td>\n",
       "      <td>0.0</td>\n",
       "      <td>0.0</td>\n",
       "      <td>0.0</td>\n",
       "      <td>0.0</td>\n",
       "      <td>0.0</td>\n",
       "      <td>0.0</td>\n",
       "    </tr>\n",
       "    <tr>\n",
       "      <th>3</th>\n",
       "      <td>0.0</td>\n",
       "      <td>0.0</td>\n",
       "      <td>0.0</td>\n",
       "      <td>0.0</td>\n",
       "      <td>0.0</td>\n",
       "      <td>0.0</td>\n",
       "      <td>0.0</td>\n",
       "      <td>0.0</td>\n",
       "      <td>0.0</td>\n",
       "      <td>0.0</td>\n",
       "      <td>...</td>\n",
       "      <td>0.0</td>\n",
       "      <td>0.0</td>\n",
       "      <td>0.0</td>\n",
       "      <td>0.0</td>\n",
       "      <td>0.0</td>\n",
       "      <td>0.0</td>\n",
       "      <td>0.0</td>\n",
       "      <td>0.0</td>\n",
       "      <td>0.0</td>\n",
       "      <td>0.0</td>\n",
       "    </tr>\n",
       "    <tr>\n",
       "      <th>4</th>\n",
       "      <td>0.0</td>\n",
       "      <td>0.0</td>\n",
       "      <td>0.0</td>\n",
       "      <td>0.0</td>\n",
       "      <td>0.0</td>\n",
       "      <td>0.0</td>\n",
       "      <td>0.0</td>\n",
       "      <td>0.0</td>\n",
       "      <td>0.0</td>\n",
       "      <td>0.0</td>\n",
       "      <td>...</td>\n",
       "      <td>0.0</td>\n",
       "      <td>0.0</td>\n",
       "      <td>0.0</td>\n",
       "      <td>0.0</td>\n",
       "      <td>0.0</td>\n",
       "      <td>0.0</td>\n",
       "      <td>0.0</td>\n",
       "      <td>0.0</td>\n",
       "      <td>0.0</td>\n",
       "      <td>0.0</td>\n",
       "    </tr>\n",
       "    <tr>\n",
       "      <th>...</th>\n",
       "      <td>...</td>\n",
       "      <td>...</td>\n",
       "      <td>...</td>\n",
       "      <td>...</td>\n",
       "      <td>...</td>\n",
       "      <td>...</td>\n",
       "      <td>...</td>\n",
       "      <td>...</td>\n",
       "      <td>...</td>\n",
       "      <td>...</td>\n",
       "      <td>...</td>\n",
       "      <td>...</td>\n",
       "      <td>...</td>\n",
       "      <td>...</td>\n",
       "      <td>...</td>\n",
       "      <td>...</td>\n",
       "      <td>...</td>\n",
       "      <td>...</td>\n",
       "      <td>...</td>\n",
       "      <td>...</td>\n",
       "      <td>...</td>\n",
       "    </tr>\n",
       "    <tr>\n",
       "      <th>8496</th>\n",
       "      <td>0.0</td>\n",
       "      <td>0.0</td>\n",
       "      <td>0.0</td>\n",
       "      <td>0.0</td>\n",
       "      <td>0.0</td>\n",
       "      <td>0.0</td>\n",
       "      <td>0.0</td>\n",
       "      <td>0.0</td>\n",
       "      <td>0.0</td>\n",
       "      <td>0.0</td>\n",
       "      <td>...</td>\n",
       "      <td>0.0</td>\n",
       "      <td>0.0</td>\n",
       "      <td>0.0</td>\n",
       "      <td>0.0</td>\n",
       "      <td>0.0</td>\n",
       "      <td>0.0</td>\n",
       "      <td>0.0</td>\n",
       "      <td>0.0</td>\n",
       "      <td>0.0</td>\n",
       "      <td>0.0</td>\n",
       "    </tr>\n",
       "    <tr>\n",
       "      <th>8497</th>\n",
       "      <td>0.0</td>\n",
       "      <td>0.0</td>\n",
       "      <td>0.0</td>\n",
       "      <td>0.0</td>\n",
       "      <td>0.0</td>\n",
       "      <td>0.0</td>\n",
       "      <td>0.0</td>\n",
       "      <td>0.0</td>\n",
       "      <td>0.0</td>\n",
       "      <td>0.0</td>\n",
       "      <td>...</td>\n",
       "      <td>0.0</td>\n",
       "      <td>0.0</td>\n",
       "      <td>0.0</td>\n",
       "      <td>0.0</td>\n",
       "      <td>0.0</td>\n",
       "      <td>0.0</td>\n",
       "      <td>0.0</td>\n",
       "      <td>0.0</td>\n",
       "      <td>0.0</td>\n",
       "      <td>0.0</td>\n",
       "    </tr>\n",
       "    <tr>\n",
       "      <th>8498</th>\n",
       "      <td>0.0</td>\n",
       "      <td>0.0</td>\n",
       "      <td>0.0</td>\n",
       "      <td>0.0</td>\n",
       "      <td>0.0</td>\n",
       "      <td>0.0</td>\n",
       "      <td>0.0</td>\n",
       "      <td>0.0</td>\n",
       "      <td>0.0</td>\n",
       "      <td>0.0</td>\n",
       "      <td>...</td>\n",
       "      <td>0.0</td>\n",
       "      <td>0.0</td>\n",
       "      <td>0.0</td>\n",
       "      <td>0.0</td>\n",
       "      <td>0.0</td>\n",
       "      <td>0.0</td>\n",
       "      <td>0.0</td>\n",
       "      <td>0.0</td>\n",
       "      <td>0.0</td>\n",
       "      <td>0.0</td>\n",
       "    </tr>\n",
       "    <tr>\n",
       "      <th>8499</th>\n",
       "      <td>0.0</td>\n",
       "      <td>0.0</td>\n",
       "      <td>0.0</td>\n",
       "      <td>0.0</td>\n",
       "      <td>0.0</td>\n",
       "      <td>0.0</td>\n",
       "      <td>0.0</td>\n",
       "      <td>0.0</td>\n",
       "      <td>0.0</td>\n",
       "      <td>0.0</td>\n",
       "      <td>...</td>\n",
       "      <td>0.0</td>\n",
       "      <td>0.0</td>\n",
       "      <td>0.0</td>\n",
       "      <td>0.0</td>\n",
       "      <td>0.0</td>\n",
       "      <td>0.0</td>\n",
       "      <td>0.0</td>\n",
       "      <td>0.0</td>\n",
       "      <td>0.0</td>\n",
       "      <td>0.0</td>\n",
       "    </tr>\n",
       "    <tr>\n",
       "      <th>8500</th>\n",
       "      <td>0.0</td>\n",
       "      <td>0.0</td>\n",
       "      <td>0.0</td>\n",
       "      <td>0.0</td>\n",
       "      <td>0.0</td>\n",
       "      <td>0.0</td>\n",
       "      <td>0.0</td>\n",
       "      <td>0.0</td>\n",
       "      <td>0.0</td>\n",
       "      <td>0.0</td>\n",
       "      <td>...</td>\n",
       "      <td>0.0</td>\n",
       "      <td>0.0</td>\n",
       "      <td>0.0</td>\n",
       "      <td>0.0</td>\n",
       "      <td>0.0</td>\n",
       "      <td>0.0</td>\n",
       "      <td>0.0</td>\n",
       "      <td>0.0</td>\n",
       "      <td>0.0</td>\n",
       "      <td>0.0</td>\n",
       "    </tr>\n",
       "  </tbody>\n",
       "</table>\n",
       "<p>8501 rows × 238060 columns</p>\n",
       "</div>"
      ],
      "text/plain": [
       "      0       1       2       3       4       5       6       7       8       \\\n",
       "0        0.0     0.0     0.0     0.0     0.0     0.0     0.0     0.0     0.0   \n",
       "1        0.0     0.0     0.0     0.0     0.0     0.0     0.0     0.0     0.0   \n",
       "2        0.0     0.0     0.0     0.0     0.0     0.0     0.0     0.0     0.0   \n",
       "3        0.0     0.0     0.0     0.0     0.0     0.0     0.0     0.0     0.0   \n",
       "4        0.0     0.0     0.0     0.0     0.0     0.0     0.0     0.0     0.0   \n",
       "...      ...     ...     ...     ...     ...     ...     ...     ...     ...   \n",
       "8496     0.0     0.0     0.0     0.0     0.0     0.0     0.0     0.0     0.0   \n",
       "8497     0.0     0.0     0.0     0.0     0.0     0.0     0.0     0.0     0.0   \n",
       "8498     0.0     0.0     0.0     0.0     0.0     0.0     0.0     0.0     0.0   \n",
       "8499     0.0     0.0     0.0     0.0     0.0     0.0     0.0     0.0     0.0   \n",
       "8500     0.0     0.0     0.0     0.0     0.0     0.0     0.0     0.0     0.0   \n",
       "\n",
       "      9       ...  238050  238051  238052  238053  238054  238055  238056  \\\n",
       "0        0.0  ...     0.0     0.0     0.0     0.0     0.0     0.0     0.0   \n",
       "1        0.0  ...     0.0     0.0     0.0     0.0     0.0     0.0     0.0   \n",
       "2        0.0  ...     0.0     0.0     0.0     0.0     0.0     0.0     0.0   \n",
       "3        0.0  ...     0.0     0.0     0.0     0.0     0.0     0.0     0.0   \n",
       "4        0.0  ...     0.0     0.0     0.0     0.0     0.0     0.0     0.0   \n",
       "...      ...  ...     ...     ...     ...     ...     ...     ...     ...   \n",
       "8496     0.0  ...     0.0     0.0     0.0     0.0     0.0     0.0     0.0   \n",
       "8497     0.0  ...     0.0     0.0     0.0     0.0     0.0     0.0     0.0   \n",
       "8498     0.0  ...     0.0     0.0     0.0     0.0     0.0     0.0     0.0   \n",
       "8499     0.0  ...     0.0     0.0     0.0     0.0     0.0     0.0     0.0   \n",
       "8500     0.0  ...     0.0     0.0     0.0     0.0     0.0     0.0     0.0   \n",
       "\n",
       "      238057  238058  238059  \n",
       "0        0.0     0.0     0.0  \n",
       "1        0.0     0.0     0.0  \n",
       "2        0.0     0.0     0.0  \n",
       "3        0.0     0.0     0.0  \n",
       "4        0.0     0.0     0.0  \n",
       "...      ...     ...     ...  \n",
       "8496     0.0     0.0     0.0  \n",
       "8497     0.0     0.0     0.0  \n",
       "8498     0.0     0.0     0.0  \n",
       "8499     0.0     0.0     0.0  \n",
       "8500     0.0     0.0     0.0  \n",
       "\n",
       "[8501 rows x 238060 columns]"
      ]
     },
     "execution_count": 59,
     "metadata": {},
     "output_type": "execute_result"
    }
   ],
   "source": [
    "X_train"
   ]
  },
  {
   "cell_type": "markdown",
   "metadata": {},
   "source": [
    "## Model training for the three levels (8 marks)"
   ]
  },
  {
   "cell_type": "code",
   "execution_count": 63,
   "metadata": {},
   "outputs": [],
   "source": [
    "# classes for the different levels : y_train\n",
    "# for some reason assigning the class names to the non-spilt version didn't work\n",
    "# so assigned classes separately to y_train and y_test\n",
    "class1 = y_train['Level_1'].astype(str)\n",
    "class2 = y_train['Level_2'].astype(str)\n",
    "class3 = y_train['Level_3'].astype(str)"
   ]
  },
  {
   "cell_type": "code",
   "execution_count": 64,
   "metadata": {},
   "outputs": [
    {
     "data": {
      "text/plain": [
       "array(['90A8B052', 'B092BA29', '3E1E0D78', '4C3D8686', 'AAC8EE56',\n",
       "       '57164AC1', '4513C920', '69286F45', '2CEC27F1', '35E04739',\n",
       "       '09BF5150', 'EFEF723B', '96F95EEC', '014303D1', 'D410C91A'],\n",
       "      dtype=object)"
      ]
     },
     "execution_count": 64,
     "metadata": {},
     "output_type": "execute_result"
    }
   ],
   "source": [
    "class1.unique()"
   ]
  },
  {
   "cell_type": "code",
   "execution_count": 65,
   "metadata": {},
   "outputs": [],
   "source": [
    "# classes for the different levels : y_test\n",
    "class1_te = y_test['Level_1'].astype(str)\n",
    "class2_te = y_test['Level_2'].astype(str)\n",
    "class3_te = y_test['Level_3'].astype(str)"
   ]
  },
  {
   "cell_type": "code",
   "execution_count": 66,
   "metadata": {},
   "outputs": [
    {
     "data": {
      "text/plain": [
       "array(['D410C91A', '09BF5150', '2CEC27F1', '57164AC1', '69286F45',\n",
       "       'AAC8EE56', '3E1E0D78', '4C3D8686', '35E04739', '4513C920',\n",
       "       'B092BA29', 'EFEF723B', '014303D1', '96F95EEC', '90A8B052'],\n",
       "      dtype=object)"
      ]
     },
     "execution_count": 66,
     "metadata": {},
     "output_type": "execute_result"
    }
   ],
   "source": [
    "class1_te.unique()"
   ]
  },
  {
   "cell_type": "markdown",
   "metadata": {},
   "source": [
    "## Create and save model level 1"
   ]
  },
  {
   "cell_type": "code",
   "execution_count": 383,
   "metadata": {},
   "outputs": [
    {
     "data": {
      "text/plain": [
       "MultinomialNB()"
      ]
     },
     "execution_count": 383,
     "metadata": {},
     "output_type": "execute_result"
    }
   ],
   "source": [
    "model = MultinomialNB()\n",
    "model.fit(X_train, class1)"
   ]
  },
  {
   "cell_type": "code",
   "execution_count": 384,
   "metadata": {},
   "outputs": [],
   "source": [
    "# save level 1 classifier\n",
    "with open('level1.pk', 'wb') as cls:\n",
    "    pickle.dump(model, cls)"
   ]
  },
  {
   "cell_type": "code",
   "execution_count": 385,
   "metadata": {},
   "outputs": [],
   "source": [
    "## Here we reload the saved models and use them to predict the levels\n",
    "# load model for level 1 (done for you)\n",
    "with open('level1.pk', 'rb') as nb:\n",
    "    model = pickle.load(nb)"
   ]
  },
  {
   "cell_type": "code",
   "execution_count": 386,
   "metadata": {},
   "outputs": [],
   "source": [
    "pred_level1 = model.predict(X_test)"
   ]
  },
  {
   "cell_type": "code",
   "execution_count": 387,
   "metadata": {},
   "outputs": [
    {
     "data": {
      "text/plain": [
       "0.6792097836312324"
      ]
     },
     "execution_count": 387,
     "metadata": {},
     "output_type": "execute_result"
    }
   ],
   "source": [
    "#(test[['level_1']], level1_pred)\n",
    "accuracy_level1 = accuracy_score(class1_te, pred_level1)\n",
    "accuracy_level1"
   ]
  },
  {
   "cell_type": "code",
   "execution_count": 388,
   "metadata": {},
   "outputs": [
    {
     "data": {
      "text/plain": [
       "array(['B092BA29', '09BF5150', '2CEC27F1', ..., 'AAC8EE56', '35E04739',\n",
       "       '2CEC27F1'], dtype='<U8')"
      ]
     },
     "execution_count": 388,
     "metadata": {},
     "output_type": "execute_result"
    }
   ],
   "source": [
    "pred_level1"
   ]
  },
  {
   "cell_type": "code",
   "execution_count": 389,
   "metadata": {},
   "outputs": [
    {
     "data": {
      "text/plain": [
       "array(['014303D1', '09BF5150', '2CEC27F1', '35E04739', '3E1E0D78',\n",
       "       '4513C920', '4C3D8686', '57164AC1', '69286F45', '90A8B052',\n",
       "       '96F95EEC', 'AAC8EE56', 'B092BA29', 'D410C91A', 'EFEF723B'],\n",
       "      dtype='<U8')"
      ]
     },
     "execution_count": 389,
     "metadata": {},
     "output_type": "execute_result"
    }
   ],
   "source": [
    "np.unique(pred_level1)"
   ]
  },
  {
   "cell_type": "markdown",
   "metadata": {},
   "source": [
    "## Create and save models for level 2"
   ]
  },
  {
   "cell_type": "code",
   "execution_count": 126,
   "metadata": {},
   "outputs": [],
   "source": [
    "# Split the test data into categories for level2 predictions : models c1_0 - c1_14\n",
    "\n",
    "c1_0 = list(class1[class1 == '014303D1'].index)\n",
    "c1_1 = list(class1[class1 == '09BF5150'].index)\n",
    "c1_2 = list(class1[class1 == '2CEC27F1'].index)\n",
    "c1_3 = list(class1[class1 == '35E04739'].index)\n",
    "c1_4 = list(class1[class1 == '3E1E0D78'].index)\n",
    "c1_5 = list(class1[class1 == '4513C920'].index)\n",
    "c1_6 = list(class1[class1 == '4C3D8686'].index)\n",
    "c1_7 = list(class1[class1 == '57164AC1'].index) \n",
    "c1_8 = list(class1[class1 == '69286F45'].index) \n",
    "c1_9 = list(class1[class1 == '90A8B052'].index) \n",
    "c1_10 = list(class1[class1 == '96F95EEC'].index)\n",
    "c1_11 = list(class1[class1 == 'AAC8EE56'].index) \n",
    "c1_12 = list(class1[class1 == 'B092BA29'].index)\n",
    "c1_13 = list(class1[class1 == 'D410C91A'].index) \n",
    "c1_14 = list(class1[class1 == 'EFEF723B'].index)"
   ]
  },
  {
   "cell_type": "code",
   "execution_count": 75,
   "metadata": {},
   "outputs": [
    {
     "data": {
      "text/plain": [
       "[2,\n",
       " 14,\n",
       " 18,\n",
       " 35,\n",
       " 47,\n",
       " 85,\n",
       " 93,\n",
       " 107,\n",
       " 124,\n",
       " 145,\n",
       " 189,\n",
       " 208,\n",
       " 220,\n",
       " 238,\n",
       " 277,\n",
       " 299,\n",
       " 310,\n",
       " 324,\n",
       " 338,\n",
       " 349,\n",
       " 366,\n",
       " 371,\n",
       " 385,\n",
       " 392,\n",
       " 407,\n",
       " 408,\n",
       " 415,\n",
       " 461,\n",
       " 486,\n",
       " 487,\n",
       " 489,\n",
       " 503,\n",
       " 505,\n",
       " 510,\n",
       " 521,\n",
       " 564,\n",
       " 600,\n",
       " 610,\n",
       " 625,\n",
       " 632,\n",
       " 654,\n",
       " 662,\n",
       " 683,\n",
       " 696,\n",
       " 701,\n",
       " 735,\n",
       " 760,\n",
       " 764,\n",
       " 768,\n",
       " 780,\n",
       " 805,\n",
       " 865,\n",
       " 890,\n",
       " 905,\n",
       " 906,\n",
       " 910,\n",
       " 987,\n",
       " 990,\n",
       " 1019,\n",
       " 1025,\n",
       " 1051,\n",
       " 1052,\n",
       " 1076,\n",
       " 1077,\n",
       " 1115,\n",
       " 1165,\n",
       " 1166,\n",
       " 1183,\n",
       " 1184,\n",
       " 1209,\n",
       " 1258,\n",
       " 1288,\n",
       " 1335,\n",
       " 1373,\n",
       " 1386,\n",
       " 1396,\n",
       " 1416,\n",
       " 1421,\n",
       " 1435,\n",
       " 1441,\n",
       " 1451,\n",
       " 1455,\n",
       " 1467,\n",
       " 1498,\n",
       " 1507,\n",
       " 1525,\n",
       " 1542,\n",
       " 1550,\n",
       " 1558,\n",
       " 1562,\n",
       " 1606,\n",
       " 1619,\n",
       " 1634,\n",
       " 1653,\n",
       " 1655,\n",
       " 1657,\n",
       " 1722,\n",
       " 1751,\n",
       " 1767,\n",
       " 1821,\n",
       " 1823,\n",
       " 1827,\n",
       " 1865,\n",
       " 1879,\n",
       " 1880,\n",
       " 1888,\n",
       " 1910,\n",
       " 1912,\n",
       " 1917,\n",
       " 1920,\n",
       " 1939,\n",
       " 1966,\n",
       " 1973,\n",
       " 1980,\n",
       " 2008,\n",
       " 2030,\n",
       " 2041,\n",
       " 2044,\n",
       " 2059,\n",
       " 2065,\n",
       " 2072,\n",
       " 2076,\n",
       " 2099,\n",
       " 2117,\n",
       " 2154,\n",
       " 2184,\n",
       " 2194,\n",
       " 2206,\n",
       " 2217,\n",
       " 2237,\n",
       " 2247,\n",
       " 2248,\n",
       " 2254,\n",
       " 2280,\n",
       " 2330,\n",
       " 2335,\n",
       " 2336,\n",
       " 2382,\n",
       " 2386,\n",
       " 2390,\n",
       " 2424,\n",
       " 2427,\n",
       " 2431,\n",
       " 2438,\n",
       " 2505,\n",
       " 2521,\n",
       " 2547,\n",
       " 2554,\n",
       " 2557,\n",
       " 2569,\n",
       " 2571,\n",
       " 2579,\n",
       " 2606,\n",
       " 2650,\n",
       " 2653,\n",
       " 2711,\n",
       " 2720,\n",
       " 2725,\n",
       " 2730,\n",
       " 2733,\n",
       " 2759,\n",
       " 2806,\n",
       " 2894,\n",
       " 2895,\n",
       " 2898,\n",
       " 2906,\n",
       " 2932,\n",
       " 2990,\n",
       " 3028,\n",
       " 3044,\n",
       " 3054,\n",
       " 3057,\n",
       " 3081,\n",
       " 3086,\n",
       " 3087,\n",
       " 3092,\n",
       " 3099,\n",
       " 3109,\n",
       " 3133,\n",
       " 3150,\n",
       " 3155,\n",
       " 3172,\n",
       " 3191,\n",
       " 3256,\n",
       " 3292,\n",
       " 3318,\n",
       " 3381,\n",
       " 3402,\n",
       " 3419,\n",
       " 3454,\n",
       " 3457,\n",
       " 3461,\n",
       " 3473,\n",
       " 3478,\n",
       " 3500,\n",
       " 3505,\n",
       " 3515,\n",
       " 3528,\n",
       " 3546,\n",
       " 3549,\n",
       " 3577,\n",
       " 3622,\n",
       " 3653,\n",
       " 3659,\n",
       " 3679,\n",
       " 3692,\n",
       " 3711,\n",
       " 3732,\n",
       " 3749,\n",
       " 3754,\n",
       " 3772,\n",
       " 3809,\n",
       " 3811,\n",
       " 3821,\n",
       " 3825,\n",
       " 3851,\n",
       " 3890,\n",
       " 3892,\n",
       " 3904,\n",
       " 3916,\n",
       " 3927,\n",
       " 3932,\n",
       " 3960,\n",
       " 3961,\n",
       " 3971,\n",
       " 3976,\n",
       " 3996,\n",
       " 4014,\n",
       " 4043,\n",
       " 4057,\n",
       " 4061,\n",
       " 4063,\n",
       " 4065,\n",
       " 4075,\n",
       " 4077,\n",
       " 4081,\n",
       " 4084,\n",
       " 4085,\n",
       " 4089,\n",
       " 4100,\n",
       " 4153,\n",
       " 4161,\n",
       " 4169,\n",
       " 4180,\n",
       " 4220,\n",
       " 4235,\n",
       " 4246,\n",
       " 4317,\n",
       " 4325,\n",
       " 4360,\n",
       " 4388,\n",
       " 4406,\n",
       " 4437,\n",
       " 4449,\n",
       " 4456,\n",
       " 4467,\n",
       " 4484,\n",
       " 4519,\n",
       " 4525,\n",
       " 4540,\n",
       " 4555,\n",
       " 4581,\n",
       " 4587,\n",
       " 4589,\n",
       " 4619,\n",
       " 4628,\n",
       " 4635,\n",
       " 4637,\n",
       " 4658,\n",
       " 4670,\n",
       " 4683,\n",
       " 4688,\n",
       " 4713,\n",
       " 4723,\n",
       " 4749,\n",
       " 4763,\n",
       " 4773,\n",
       " 4777,\n",
       " 4789,\n",
       " 4795,\n",
       " 4797,\n",
       " 4799,\n",
       " 4817,\n",
       " 4860,\n",
       " 4863,\n",
       " 4886,\n",
       " 4888,\n",
       " 4889,\n",
       " 4906,\n",
       " 4909,\n",
       " 4915,\n",
       " 4941,\n",
       " 4949,\n",
       " 4966,\n",
       " 4968,\n",
       " 4980,\n",
       " 4991,\n",
       " 5003,\n",
       " 5010,\n",
       " 5027,\n",
       " 5030,\n",
       " 5041,\n",
       " 5061,\n",
       " 5073,\n",
       " 5085,\n",
       " 5087,\n",
       " 5096,\n",
       " 5198,\n",
       " 5206,\n",
       " 5210,\n",
       " 5214,\n",
       " 5259,\n",
       " 5261,\n",
       " 5303,\n",
       " 5331,\n",
       " 5343,\n",
       " 5359,\n",
       " 5397,\n",
       " 5399,\n",
       " 5411,\n",
       " 5422,\n",
       " 5424,\n",
       " 5464,\n",
       " 5510,\n",
       " 5515,\n",
       " 5556,\n",
       " 5586,\n",
       " 5626,\n",
       " 5652,\n",
       " 5694,\n",
       " 5703,\n",
       " 5705,\n",
       " 5711,\n",
       " 5712,\n",
       " 5733,\n",
       " 5742,\n",
       " 5755,\n",
       " 5772,\n",
       " 5784,\n",
       " 5802,\n",
       " 5818,\n",
       " 5835,\n",
       " 5867,\n",
       " 5869,\n",
       " 5900,\n",
       " 5910,\n",
       " 5925,\n",
       " 5930,\n",
       " 5953,\n",
       " 5954,\n",
       " 5979,\n",
       " 6018,\n",
       " 6046,\n",
       " 6126,\n",
       " 6127,\n",
       " 6150,\n",
       " 6172,\n",
       " 6192,\n",
       " 6200,\n",
       " 6220,\n",
       " 6253,\n",
       " 6288,\n",
       " 6290,\n",
       " 6310,\n",
       " 6331,\n",
       " 6399,\n",
       " 6406,\n",
       " 6473,\n",
       " 6488,\n",
       " 6498,\n",
       " 6507,\n",
       " 6527,\n",
       " 6532,\n",
       " 6539,\n",
       " 6550,\n",
       " 6586,\n",
       " 6592,\n",
       " 6596,\n",
       " 6604,\n",
       " 6607,\n",
       " 6623,\n",
       " 6638,\n",
       " 6652,\n",
       " 6673,\n",
       " 6679,\n",
       " 6681,\n",
       " 6688,\n",
       " 6695,\n",
       " 6713,\n",
       " 6742,\n",
       " 6746,\n",
       " 6751,\n",
       " 6757,\n",
       " 6773,\n",
       " 6775,\n",
       " 6776,\n",
       " 6810,\n",
       " 6812,\n",
       " 6927,\n",
       " 6937,\n",
       " 6943,\n",
       " 6953,\n",
       " 6955,\n",
       " 6976,\n",
       " 7048,\n",
       " 7059,\n",
       " 7144,\n",
       " 7145,\n",
       " 7151,\n",
       " 7159,\n",
       " 7166,\n",
       " 7185,\n",
       " 7212,\n",
       " 7236,\n",
       " 7245,\n",
       " 7257,\n",
       " 7277,\n",
       " 7286,\n",
       " 7289,\n",
       " 7293,\n",
       " 7299,\n",
       " 7302,\n",
       " 7332,\n",
       " 7343,\n",
       " 7377,\n",
       " 7458,\n",
       " 7469,\n",
       " 7512,\n",
       " 7526,\n",
       " 7553,\n",
       " 7563,\n",
       " 7566,\n",
       " 7583,\n",
       " 7611,\n",
       " 7631,\n",
       " 7640,\n",
       " 7650,\n",
       " 7653,\n",
       " 7760,\n",
       " 7764,\n",
       " 7784,\n",
       " 7852,\n",
       " 7865,\n",
       " 7872,\n",
       " 7890,\n",
       " 7894,\n",
       " 7911,\n",
       " 7919,\n",
       " 7923,\n",
       " 7942,\n",
       " 8001,\n",
       " 8029,\n",
       " 8041,\n",
       " 8069,\n",
       " 8126,\n",
       " 8175,\n",
       " 8187,\n",
       " 8215,\n",
       " 8218,\n",
       " 8234,\n",
       " 8274,\n",
       " 8282,\n",
       " 8333,\n",
       " 8341,\n",
       " 8348,\n",
       " 8384,\n",
       " 8402,\n",
       " 8417,\n",
       " 8426,\n",
       " 8434,\n",
       " 8446,\n",
       " 8450,\n",
       " 8477]"
      ]
     },
     "execution_count": 75,
     "metadata": {},
     "output_type": "execute_result"
    }
   ],
   "source": [
    "c1_4"
   ]
  },
  {
   "cell_type": "code",
   "execution_count": 76,
   "metadata": {},
   "outputs": [
    {
     "data": {
      "text/html": [
       "<div>\n",
       "<style scoped>\n",
       "    .dataframe tbody tr th:only-of-type {\n",
       "        vertical-align: middle;\n",
       "    }\n",
       "\n",
       "    .dataframe tbody tr th {\n",
       "        vertical-align: top;\n",
       "    }\n",
       "\n",
       "    .dataframe thead th {\n",
       "        text-align: right;\n",
       "    }\n",
       "</style>\n",
       "<table border=\"1\" class=\"dataframe\">\n",
       "  <thead>\n",
       "    <tr style=\"text-align: right;\">\n",
       "      <th></th>\n",
       "      <th>0</th>\n",
       "      <th>1</th>\n",
       "      <th>2</th>\n",
       "      <th>3</th>\n",
       "      <th>4</th>\n",
       "      <th>5</th>\n",
       "      <th>6</th>\n",
       "      <th>7</th>\n",
       "      <th>8</th>\n",
       "      <th>9</th>\n",
       "      <th>...</th>\n",
       "      <th>238050</th>\n",
       "      <th>238051</th>\n",
       "      <th>238052</th>\n",
       "      <th>238053</th>\n",
       "      <th>238054</th>\n",
       "      <th>238055</th>\n",
       "      <th>238056</th>\n",
       "      <th>238057</th>\n",
       "      <th>238058</th>\n",
       "      <th>238059</th>\n",
       "    </tr>\n",
       "  </thead>\n",
       "  <tbody>\n",
       "    <tr>\n",
       "      <th>2</th>\n",
       "      <td>0.0</td>\n",
       "      <td>0.0</td>\n",
       "      <td>0.0</td>\n",
       "      <td>0.0</td>\n",
       "      <td>0.0</td>\n",
       "      <td>0.0</td>\n",
       "      <td>0.0</td>\n",
       "      <td>0.0</td>\n",
       "      <td>0.0</td>\n",
       "      <td>0.0</td>\n",
       "      <td>...</td>\n",
       "      <td>0.0</td>\n",
       "      <td>0.0</td>\n",
       "      <td>0.0</td>\n",
       "      <td>0.0</td>\n",
       "      <td>0.0</td>\n",
       "      <td>0.0</td>\n",
       "      <td>0.0</td>\n",
       "      <td>0.0</td>\n",
       "      <td>0.0</td>\n",
       "      <td>0.0</td>\n",
       "    </tr>\n",
       "    <tr>\n",
       "      <th>14</th>\n",
       "      <td>0.0</td>\n",
       "      <td>0.0</td>\n",
       "      <td>0.0</td>\n",
       "      <td>0.0</td>\n",
       "      <td>0.0</td>\n",
       "      <td>0.0</td>\n",
       "      <td>0.0</td>\n",
       "      <td>0.0</td>\n",
       "      <td>0.0</td>\n",
       "      <td>0.0</td>\n",
       "      <td>...</td>\n",
       "      <td>0.0</td>\n",
       "      <td>0.0</td>\n",
       "      <td>0.0</td>\n",
       "      <td>0.0</td>\n",
       "      <td>0.0</td>\n",
       "      <td>0.0</td>\n",
       "      <td>0.0</td>\n",
       "      <td>0.0</td>\n",
       "      <td>0.0</td>\n",
       "      <td>0.0</td>\n",
       "    </tr>\n",
       "    <tr>\n",
       "      <th>18</th>\n",
       "      <td>0.0</td>\n",
       "      <td>0.0</td>\n",
       "      <td>0.0</td>\n",
       "      <td>0.0</td>\n",
       "      <td>0.0</td>\n",
       "      <td>0.0</td>\n",
       "      <td>0.0</td>\n",
       "      <td>0.0</td>\n",
       "      <td>0.0</td>\n",
       "      <td>0.0</td>\n",
       "      <td>...</td>\n",
       "      <td>0.0</td>\n",
       "      <td>0.0</td>\n",
       "      <td>0.0</td>\n",
       "      <td>0.0</td>\n",
       "      <td>0.0</td>\n",
       "      <td>0.0</td>\n",
       "      <td>0.0</td>\n",
       "      <td>0.0</td>\n",
       "      <td>0.0</td>\n",
       "      <td>0.0</td>\n",
       "    </tr>\n",
       "    <tr>\n",
       "      <th>35</th>\n",
       "      <td>0.0</td>\n",
       "      <td>0.0</td>\n",
       "      <td>0.0</td>\n",
       "      <td>0.0</td>\n",
       "      <td>0.0</td>\n",
       "      <td>0.0</td>\n",
       "      <td>0.0</td>\n",
       "      <td>0.0</td>\n",
       "      <td>0.0</td>\n",
       "      <td>0.0</td>\n",
       "      <td>...</td>\n",
       "      <td>0.0</td>\n",
       "      <td>0.0</td>\n",
       "      <td>0.0</td>\n",
       "      <td>0.0</td>\n",
       "      <td>0.0</td>\n",
       "      <td>0.0</td>\n",
       "      <td>0.0</td>\n",
       "      <td>0.0</td>\n",
       "      <td>0.0</td>\n",
       "      <td>0.0</td>\n",
       "    </tr>\n",
       "    <tr>\n",
       "      <th>47</th>\n",
       "      <td>0.0</td>\n",
       "      <td>0.0</td>\n",
       "      <td>0.0</td>\n",
       "      <td>0.0</td>\n",
       "      <td>0.0</td>\n",
       "      <td>0.0</td>\n",
       "      <td>0.0</td>\n",
       "      <td>0.0</td>\n",
       "      <td>0.0</td>\n",
       "      <td>0.0</td>\n",
       "      <td>...</td>\n",
       "      <td>0.0</td>\n",
       "      <td>0.0</td>\n",
       "      <td>0.0</td>\n",
       "      <td>0.0</td>\n",
       "      <td>0.0</td>\n",
       "      <td>0.0</td>\n",
       "      <td>0.0</td>\n",
       "      <td>0.0</td>\n",
       "      <td>0.0</td>\n",
       "      <td>0.0</td>\n",
       "    </tr>\n",
       "    <tr>\n",
       "      <th>...</th>\n",
       "      <td>...</td>\n",
       "      <td>...</td>\n",
       "      <td>...</td>\n",
       "      <td>...</td>\n",
       "      <td>...</td>\n",
       "      <td>...</td>\n",
       "      <td>...</td>\n",
       "      <td>...</td>\n",
       "      <td>...</td>\n",
       "      <td>...</td>\n",
       "      <td>...</td>\n",
       "      <td>...</td>\n",
       "      <td>...</td>\n",
       "      <td>...</td>\n",
       "      <td>...</td>\n",
       "      <td>...</td>\n",
       "      <td>...</td>\n",
       "      <td>...</td>\n",
       "      <td>...</td>\n",
       "      <td>...</td>\n",
       "      <td>...</td>\n",
       "    </tr>\n",
       "    <tr>\n",
       "      <th>8426</th>\n",
       "      <td>0.0</td>\n",
       "      <td>0.0</td>\n",
       "      <td>0.0</td>\n",
       "      <td>0.0</td>\n",
       "      <td>0.0</td>\n",
       "      <td>0.0</td>\n",
       "      <td>0.0</td>\n",
       "      <td>0.0</td>\n",
       "      <td>0.0</td>\n",
       "      <td>0.0</td>\n",
       "      <td>...</td>\n",
       "      <td>0.0</td>\n",
       "      <td>0.0</td>\n",
       "      <td>0.0</td>\n",
       "      <td>0.0</td>\n",
       "      <td>0.0</td>\n",
       "      <td>0.0</td>\n",
       "      <td>0.0</td>\n",
       "      <td>0.0</td>\n",
       "      <td>0.0</td>\n",
       "      <td>0.0</td>\n",
       "    </tr>\n",
       "    <tr>\n",
       "      <th>8434</th>\n",
       "      <td>0.0</td>\n",
       "      <td>0.0</td>\n",
       "      <td>0.0</td>\n",
       "      <td>0.0</td>\n",
       "      <td>0.0</td>\n",
       "      <td>0.0</td>\n",
       "      <td>0.0</td>\n",
       "      <td>0.0</td>\n",
       "      <td>0.0</td>\n",
       "      <td>0.0</td>\n",
       "      <td>...</td>\n",
       "      <td>0.0</td>\n",
       "      <td>0.0</td>\n",
       "      <td>0.0</td>\n",
       "      <td>0.0</td>\n",
       "      <td>0.0</td>\n",
       "      <td>0.0</td>\n",
       "      <td>0.0</td>\n",
       "      <td>0.0</td>\n",
       "      <td>0.0</td>\n",
       "      <td>0.0</td>\n",
       "    </tr>\n",
       "    <tr>\n",
       "      <th>8446</th>\n",
       "      <td>0.0</td>\n",
       "      <td>0.0</td>\n",
       "      <td>0.0</td>\n",
       "      <td>0.0</td>\n",
       "      <td>0.0</td>\n",
       "      <td>0.0</td>\n",
       "      <td>0.0</td>\n",
       "      <td>0.0</td>\n",
       "      <td>0.0</td>\n",
       "      <td>0.0</td>\n",
       "      <td>...</td>\n",
       "      <td>0.0</td>\n",
       "      <td>0.0</td>\n",
       "      <td>0.0</td>\n",
       "      <td>0.0</td>\n",
       "      <td>0.0</td>\n",
       "      <td>0.0</td>\n",
       "      <td>0.0</td>\n",
       "      <td>0.0</td>\n",
       "      <td>0.0</td>\n",
       "      <td>0.0</td>\n",
       "    </tr>\n",
       "    <tr>\n",
       "      <th>8450</th>\n",
       "      <td>0.0</td>\n",
       "      <td>0.0</td>\n",
       "      <td>0.0</td>\n",
       "      <td>0.0</td>\n",
       "      <td>0.0</td>\n",
       "      <td>0.0</td>\n",
       "      <td>0.0</td>\n",
       "      <td>0.0</td>\n",
       "      <td>0.0</td>\n",
       "      <td>0.0</td>\n",
       "      <td>...</td>\n",
       "      <td>0.0</td>\n",
       "      <td>0.0</td>\n",
       "      <td>0.0</td>\n",
       "      <td>0.0</td>\n",
       "      <td>0.0</td>\n",
       "      <td>0.0</td>\n",
       "      <td>0.0</td>\n",
       "      <td>0.0</td>\n",
       "      <td>0.0</td>\n",
       "      <td>0.0</td>\n",
       "    </tr>\n",
       "    <tr>\n",
       "      <th>8477</th>\n",
       "      <td>0.0</td>\n",
       "      <td>0.0</td>\n",
       "      <td>0.0</td>\n",
       "      <td>0.0</td>\n",
       "      <td>0.0</td>\n",
       "      <td>0.0</td>\n",
       "      <td>0.0</td>\n",
       "      <td>0.0</td>\n",
       "      <td>0.0</td>\n",
       "      <td>0.0</td>\n",
       "      <td>...</td>\n",
       "      <td>0.0</td>\n",
       "      <td>0.0</td>\n",
       "      <td>0.0</td>\n",
       "      <td>0.0</td>\n",
       "      <td>0.0</td>\n",
       "      <td>0.0</td>\n",
       "      <td>0.0</td>\n",
       "      <td>0.0</td>\n",
       "      <td>0.0</td>\n",
       "      <td>0.0</td>\n",
       "    </tr>\n",
       "  </tbody>\n",
       "</table>\n",
       "<p>473 rows × 238060 columns</p>\n",
       "</div>"
      ],
      "text/plain": [
       "      0       1       2       3       4       5       6       7       8       \\\n",
       "2        0.0     0.0     0.0     0.0     0.0     0.0     0.0     0.0     0.0   \n",
       "14       0.0     0.0     0.0     0.0     0.0     0.0     0.0     0.0     0.0   \n",
       "18       0.0     0.0     0.0     0.0     0.0     0.0     0.0     0.0     0.0   \n",
       "35       0.0     0.0     0.0     0.0     0.0     0.0     0.0     0.0     0.0   \n",
       "47       0.0     0.0     0.0     0.0     0.0     0.0     0.0     0.0     0.0   \n",
       "...      ...     ...     ...     ...     ...     ...     ...     ...     ...   \n",
       "8426     0.0     0.0     0.0     0.0     0.0     0.0     0.0     0.0     0.0   \n",
       "8434     0.0     0.0     0.0     0.0     0.0     0.0     0.0     0.0     0.0   \n",
       "8446     0.0     0.0     0.0     0.0     0.0     0.0     0.0     0.0     0.0   \n",
       "8450     0.0     0.0     0.0     0.0     0.0     0.0     0.0     0.0     0.0   \n",
       "8477     0.0     0.0     0.0     0.0     0.0     0.0     0.0     0.0     0.0   \n",
       "\n",
       "      9       ...  238050  238051  238052  238053  238054  238055  238056  \\\n",
       "2        0.0  ...     0.0     0.0     0.0     0.0     0.0     0.0     0.0   \n",
       "14       0.0  ...     0.0     0.0     0.0     0.0     0.0     0.0     0.0   \n",
       "18       0.0  ...     0.0     0.0     0.0     0.0     0.0     0.0     0.0   \n",
       "35       0.0  ...     0.0     0.0     0.0     0.0     0.0     0.0     0.0   \n",
       "47       0.0  ...     0.0     0.0     0.0     0.0     0.0     0.0     0.0   \n",
       "...      ...  ...     ...     ...     ...     ...     ...     ...     ...   \n",
       "8426     0.0  ...     0.0     0.0     0.0     0.0     0.0     0.0     0.0   \n",
       "8434     0.0  ...     0.0     0.0     0.0     0.0     0.0     0.0     0.0   \n",
       "8446     0.0  ...     0.0     0.0     0.0     0.0     0.0     0.0     0.0   \n",
       "8450     0.0  ...     0.0     0.0     0.0     0.0     0.0     0.0     0.0   \n",
       "8477     0.0  ...     0.0     0.0     0.0     0.0     0.0     0.0     0.0   \n",
       "\n",
       "      238057  238058  238059  \n",
       "2        0.0     0.0     0.0  \n",
       "14       0.0     0.0     0.0  \n",
       "18       0.0     0.0     0.0  \n",
       "35       0.0     0.0     0.0  \n",
       "47       0.0     0.0     0.0  \n",
       "...      ...     ...     ...  \n",
       "8426     0.0     0.0     0.0  \n",
       "8434     0.0     0.0     0.0  \n",
       "8446     0.0     0.0     0.0  \n",
       "8450     0.0     0.0     0.0  \n",
       "8477     0.0     0.0     0.0  \n",
       "\n",
       "[473 rows x 238060 columns]"
      ]
     },
     "execution_count": 76,
     "metadata": {},
     "output_type": "execute_result"
    }
   ],
   "source": [
    "X_train.loc[c1_4]"
   ]
  },
  {
   "cell_type": "code",
   "execution_count": 77,
   "metadata": {},
   "outputs": [
    {
     "data": {
      "text/plain": [
       "2       9D9EE\n",
       "14      9D9EE\n",
       "18      E6162\n",
       "35      9D9EE\n",
       "47      9D9EE\n",
       "        ...  \n",
       "8426    9D9EE\n",
       "8434    E6162\n",
       "8446    E6162\n",
       "8450    9D9EE\n",
       "8477    9D9EE\n",
       "Name: Level_2, Length: 473, dtype: object"
      ]
     },
     "execution_count": 77,
     "metadata": {},
     "output_type": "execute_result"
    }
   ],
   "source": [
    "class2[c1_4]"
   ]
  },
  {
   "cell_type": "code",
   "execution_count": 78,
   "metadata": {},
   "outputs": [
    {
     "data": {
      "text/plain": [
       "(      0       1       2       3       4       5       6       7       8       \\\n",
       " 2        0.0     0.0     0.0     0.0     0.0     0.0     0.0     0.0     0.0   \n",
       " 14       0.0     0.0     0.0     0.0     0.0     0.0     0.0     0.0     0.0   \n",
       " 18       0.0     0.0     0.0     0.0     0.0     0.0     0.0     0.0     0.0   \n",
       " 35       0.0     0.0     0.0     0.0     0.0     0.0     0.0     0.0     0.0   \n",
       " 47       0.0     0.0     0.0     0.0     0.0     0.0     0.0     0.0     0.0   \n",
       " ...      ...     ...     ...     ...     ...     ...     ...     ...     ...   \n",
       " 8426     0.0     0.0     0.0     0.0     0.0     0.0     0.0     0.0     0.0   \n",
       " 8434     0.0     0.0     0.0     0.0     0.0     0.0     0.0     0.0     0.0   \n",
       " 8446     0.0     0.0     0.0     0.0     0.0     0.0     0.0     0.0     0.0   \n",
       " 8450     0.0     0.0     0.0     0.0     0.0     0.0     0.0     0.0     0.0   \n",
       " 8477     0.0     0.0     0.0     0.0     0.0     0.0     0.0     0.0     0.0   \n",
       " \n",
       "       9       ...  238050  238051  238052  238053  238054  238055  238056  \\\n",
       " 2        0.0  ...     0.0     0.0     0.0     0.0     0.0     0.0     0.0   \n",
       " 14       0.0  ...     0.0     0.0     0.0     0.0     0.0     0.0     0.0   \n",
       " 18       0.0  ...     0.0     0.0     0.0     0.0     0.0     0.0     0.0   \n",
       " 35       0.0  ...     0.0     0.0     0.0     0.0     0.0     0.0     0.0   \n",
       " 47       0.0  ...     0.0     0.0     0.0     0.0     0.0     0.0     0.0   \n",
       " ...      ...  ...     ...     ...     ...     ...     ...     ...     ...   \n",
       " 8426     0.0  ...     0.0     0.0     0.0     0.0     0.0     0.0     0.0   \n",
       " 8434     0.0  ...     0.0     0.0     0.0     0.0     0.0     0.0     0.0   \n",
       " 8446     0.0  ...     0.0     0.0     0.0     0.0     0.0     0.0     0.0   \n",
       " 8450     0.0  ...     0.0     0.0     0.0     0.0     0.0     0.0     0.0   \n",
       " 8477     0.0  ...     0.0     0.0     0.0     0.0     0.0     0.0     0.0   \n",
       " \n",
       "       238057  238058  238059  \n",
       " 2        0.0     0.0     0.0  \n",
       " 14       0.0     0.0     0.0  \n",
       " 18       0.0     0.0     0.0  \n",
       " 35       0.0     0.0     0.0  \n",
       " 47       0.0     0.0     0.0  \n",
       " ...      ...     ...     ...  \n",
       " 8426     0.0     0.0     0.0  \n",
       " 8434     0.0     0.0     0.0  \n",
       " 8446     0.0     0.0     0.0  \n",
       " 8450     0.0     0.0     0.0  \n",
       " 8477     0.0     0.0     0.0  \n",
       " \n",
       " [473 rows x 238060 columns],\n",
       " 2       9D9EE\n",
       " 14      9D9EE\n",
       " 18      E6162\n",
       " 35      9D9EE\n",
       " 47      9D9EE\n",
       "         ...  \n",
       " 8426    9D9EE\n",
       " 8434    E6162\n",
       " 8446    E6162\n",
       " 8450    9D9EE\n",
       " 8477    9D9EE\n",
       " Name: Level_2, Length: 473, dtype: object)"
      ]
     },
     "execution_count": 78,
     "metadata": {},
     "output_type": "execute_result"
    }
   ],
   "source": [
    "X_train.loc[c1_4], class2[c1_4]"
   ]
  },
  {
   "cell_type": "code",
   "execution_count": 84,
   "metadata": {},
   "outputs": [
    {
     "data": {
      "text/plain": [
       "MultinomialNB()"
      ]
     },
     "execution_count": 84,
     "metadata": {},
     "output_type": "execute_result"
    }
   ],
   "source": [
    "# model2: c1_0\n",
    "#tree.fit(train.loc[x,['x', 'xx','xxx','xxxx','xxxxx']], class2[x])\n",
    "model.fit(X_train.loc[c1_0], class2[c1_0])"
   ]
  },
  {
   "cell_type": "code",
   "execution_count": 85,
   "metadata": {},
   "outputs": [],
   "source": [
    "# model2: c1_0:  \n",
    "with open('c1_0.pk', 'wb') as cls:  \n",
    "    pickle.dump(model, cls)"
   ]
  },
  {
   "cell_type": "code",
   "execution_count": 86,
   "metadata": {},
   "outputs": [],
   "source": [
    "with open('c1_0.pk', 'rb') as nb:\n",
    "    model = pickle.load(nb)"
   ]
  },
  {
   "cell_type": "code",
   "execution_count": 87,
   "metadata": {},
   "outputs": [
    {
     "data": {
      "text/plain": [
       "array(['77F62', '7AED7'], dtype='<U5')"
      ]
     },
     "execution_count": 87,
     "metadata": {},
     "output_type": "execute_result"
    }
   ],
   "source": [
    "# predict level 2 using level1 (pred_level2)\n",
    "pred_level2a = model.predict(X_test)\n",
    "np.unique(pred_level2a)"
   ]
  },
  {
   "cell_type": "code",
   "execution_count": 88,
   "metadata": {},
   "outputs": [
    {
     "data": {
      "text/plain": [
       "0.03386641580432737"
      ]
     },
     "execution_count": 88,
     "metadata": {},
     "output_type": "execute_result"
    }
   ],
   "source": [
    "# Level 2 accuracy \n",
    "accuracy_level2a = accuracy_score(class2_te, pred_level2a)\n",
    "accuracy_level2a"
   ]
  },
  {
   "cell_type": "code",
   "execution_count": 90,
   "metadata": {},
   "outputs": [
    {
     "data": {
      "text/plain": [
       "MultinomialNB()"
      ]
     },
     "execution_count": 90,
     "metadata": {},
     "output_type": "execute_result"
    }
   ],
   "source": [
    "# c1_1:\n",
    "model.fit(X_train.loc[c1_1], class2[c1_1])"
   ]
  },
  {
   "cell_type": "code",
   "execution_count": 91,
   "metadata": {},
   "outputs": [],
   "source": [
    "# c1_1:  \n",
    "with open('c1_1.pk', 'wb') as cls:  \n",
    "    pickle.dump(model, cls)"
   ]
  },
  {
   "cell_type": "code",
   "execution_count": 92,
   "metadata": {},
   "outputs": [],
   "source": [
    "with open('c1_1.pk', 'rb') as nb:\n",
    "    model = pickle.load(nb)"
   ]
  },
  {
   "cell_type": "code",
   "execution_count": 93,
   "metadata": {},
   "outputs": [
    {
     "data": {
      "text/plain": [
       "array(['5E038', 'AF6B9', 'C7E19'], dtype='<U5')"
      ]
     },
     "execution_count": 93,
     "metadata": {},
     "output_type": "execute_result"
    }
   ],
   "source": [
    "# predict level 2 using level1 (pred_level2)\n",
    "pred_level2b = model.predict(X_test)\n",
    "np.unique(pred_level2b)"
   ]
  },
  {
   "cell_type": "code",
   "execution_count": 94,
   "metadata": {},
   "outputs": [
    {
     "data": {
      "text/plain": [
       "0.043273753527751646"
      ]
     },
     "execution_count": 94,
     "metadata": {},
     "output_type": "execute_result"
    }
   ],
   "source": [
    "# Level 2 accuracy \n",
    "accuracy_level2b = accuracy_score(class2_te, pred_level2b)\n",
    "accuracy_level2b"
   ]
  },
  {
   "cell_type": "code",
   "execution_count": 95,
   "metadata": {},
   "outputs": [
    {
     "data": {
      "text/plain": [
       "MultinomialNB()"
      ]
     },
     "execution_count": 95,
     "metadata": {},
     "output_type": "execute_result"
    }
   ],
   "source": [
    "#c1_2:\n",
    "model.fit(X_train.loc[c1_2], class2[c1_2])"
   ]
  },
  {
   "cell_type": "code",
   "execution_count": 96,
   "metadata": {},
   "outputs": [],
   "source": [
    "# c1_2\n",
    "with open('c1_2.pk', 'wb') as cls:\n",
    "    pickle.dump(model, cls)"
   ]
  },
  {
   "cell_type": "code",
   "execution_count": 97,
   "metadata": {},
   "outputs": [],
   "source": [
    "with open('c1_2.pk', 'rb') as nb:\n",
    "    model = pickle.load(nb)"
   ]
  },
  {
   "cell_type": "code",
   "execution_count": 98,
   "metadata": {},
   "outputs": [
    {
     "data": {
      "text/plain": [
       "array(['ADAD6', 'BAE8A'], dtype='<U5')"
      ]
     },
     "execution_count": 98,
     "metadata": {},
     "output_type": "execute_result"
    }
   ],
   "source": [
    "# predict level 2 using level1 (pred_level2)\n",
    "pred_level2c = model.predict(X_test)\n",
    "np.unique(pred_level2c)"
   ]
  },
  {
   "cell_type": "code",
   "execution_count": 99,
   "metadata": {},
   "outputs": [
    {
     "data": {
      "text/plain": [
       "0.07572906867356538"
      ]
     },
     "execution_count": 99,
     "metadata": {},
     "output_type": "execute_result"
    }
   ],
   "source": [
    "accuracy_level2c = accuracy_score(class2_te, pred_level2c)\n",
    "accuracy_level2c"
   ]
  },
  {
   "cell_type": "code",
   "execution_count": 100,
   "metadata": {},
   "outputs": [
    {
     "data": {
      "text/plain": [
       "MultinomialNB()"
      ]
     },
     "execution_count": 100,
     "metadata": {},
     "output_type": "execute_result"
    }
   ],
   "source": [
    "# c1_3 \n",
    "model.fit(X_train.loc[c1_3], class2[c1_3])"
   ]
  },
  {
   "cell_type": "code",
   "execution_count": 101,
   "metadata": {},
   "outputs": [],
   "source": [
    "# c1_3\n",
    "with open('c1_3.pk', 'wb') as cls:\n",
    "    pickle.dump(model, cls)"
   ]
  },
  {
   "cell_type": "code",
   "execution_count": 102,
   "metadata": {},
   "outputs": [],
   "source": [
    "with open('c1_3.pk', 'rb') as nb:\n",
    "    model = pickle.load(nb)"
   ]
  },
  {
   "cell_type": "code",
   "execution_count": 103,
   "metadata": {},
   "outputs": [
    {
     "data": {
      "text/plain": [
       "array(['390F1', 'B2DB4'], dtype='<U5')"
      ]
     },
     "execution_count": 103,
     "metadata": {},
     "output_type": "execute_result"
    }
   ],
   "source": [
    "# predict level 2 using level1 (pred_level2)\n",
    "pred_level2d = model.predict(X_test)\n",
    "np.unique(pred_level2d)"
   ]
  },
  {
   "cell_type": "code",
   "execution_count": 104,
   "metadata": {},
   "outputs": [
    {
     "data": {
      "text/plain": [
       "0.07243650047036689"
      ]
     },
     "execution_count": 104,
     "metadata": {},
     "output_type": "execute_result"
    }
   ],
   "source": [
    "accuracy_level2d = accuracy_score(class2_te, pred_level2d)\n",
    "accuracy_level2d"
   ]
  },
  {
   "cell_type": "code",
   "execution_count": 105,
   "metadata": {},
   "outputs": [
    {
     "data": {
      "text/plain": [
       "MultinomialNB()"
      ]
     },
     "execution_count": 105,
     "metadata": {},
     "output_type": "execute_result"
    }
   ],
   "source": [
    "# c1_4\n",
    "model.fit(X_train.loc[c1_4], class2[c1_4])"
   ]
  },
  {
   "cell_type": "code",
   "execution_count": 106,
   "metadata": {},
   "outputs": [],
   "source": [
    "# c1_4\n",
    "with open('c1_4.pk', 'wb') as cls:\n",
    "    pickle.dump(model, cls)"
   ]
  },
  {
   "cell_type": "code",
   "execution_count": 107,
   "metadata": {},
   "outputs": [],
   "source": [
    "with open('c1_4.pk', 'rb') as nb:\n",
    "    model = pickle.load(nb)"
   ]
  },
  {
   "cell_type": "code",
   "execution_count": 108,
   "metadata": {},
   "outputs": [
    {
     "data": {
      "text/plain": [
       "array(['9D9EE'], dtype='<U5')"
      ]
     },
     "execution_count": 108,
     "metadata": {},
     "output_type": "execute_result"
    }
   ],
   "source": [
    "# predict level 2 using level1 (pred_level2)\n",
    "pred_level2e = model.predict(X_test)\n",
    "np.unique(pred_level2e)"
   ]
  },
  {
   "cell_type": "code",
   "execution_count": 109,
   "metadata": {},
   "outputs": [
    {
     "data": {
      "text/plain": [
       "0.040921919096895576"
      ]
     },
     "execution_count": 109,
     "metadata": {},
     "output_type": "execute_result"
    }
   ],
   "source": [
    "accuracy_level2e = accuracy_score(class2_te, pred_level2e)\n",
    "accuracy_level2e"
   ]
  },
  {
   "cell_type": "code",
   "execution_count": 110,
   "metadata": {},
   "outputs": [
    {
     "data": {
      "text/plain": [
       "MultinomialNB()"
      ]
     },
     "execution_count": 110,
     "metadata": {},
     "output_type": "execute_result"
    }
   ],
   "source": [
    "# c1_5\n",
    "model.fit(X_train.loc[c1_5], class2[c1_5])"
   ]
  },
  {
   "cell_type": "code",
   "execution_count": 111,
   "metadata": {},
   "outputs": [],
   "source": [
    "# c1_5\n",
    "with open('c1_5.pk', 'wb') as cls:\n",
    "    pickle.dump(model, cls)"
   ]
  },
  {
   "cell_type": "code",
   "execution_count": 112,
   "metadata": {},
   "outputs": [],
   "source": [
    "with open('c1_5.pk', 'rb') as nb:\n",
    "    model = pickle.load(nb)"
   ]
  },
  {
   "cell_type": "code",
   "execution_count": 113,
   "metadata": {},
   "outputs": [
    {
     "data": {
      "text/plain": [
       "array(['31FED', 'E69F5', 'F4055'], dtype='<U5')"
      ]
     },
     "execution_count": 113,
     "metadata": {},
     "output_type": "execute_result"
    }
   ],
   "source": [
    "# predict level 2 using level1 (pred_level2)\n",
    "pred_level2f = model.predict(X_test)\n",
    "np.unique(pred_level2f)"
   ]
  },
  {
   "cell_type": "code",
   "execution_count": 114,
   "metadata": {},
   "outputs": [
    {
     "data": {
      "text/plain": [
       "0.04374412041392286"
      ]
     },
     "execution_count": 114,
     "metadata": {},
     "output_type": "execute_result"
    }
   ],
   "source": [
    "accuracy_level2f = accuracy_score(class2_te, pred_level2f)\n",
    "accuracy_level2f"
   ]
  },
  {
   "cell_type": "code",
   "execution_count": 115,
   "metadata": {},
   "outputs": [
    {
     "data": {
      "text/plain": [
       "MultinomialNB()"
      ]
     },
     "execution_count": 115,
     "metadata": {},
     "output_type": "execute_result"
    }
   ],
   "source": [
    "# c1_6\n",
    "model.fit(X_train.loc[c1_6], class2[c1_6])"
   ]
  },
  {
   "cell_type": "code",
   "execution_count": 116,
   "metadata": {},
   "outputs": [],
   "source": [
    "# c1_6\n",
    "with open('c1_6.pk', 'wb') as cls:\n",
    "    pickle.dump(model, cls)"
   ]
  },
  {
   "cell_type": "code",
   "execution_count": 117,
   "metadata": {},
   "outputs": [],
   "source": [
    "with open('c1_6.pk', 'rb') as nb:\n",
    "    model = pickle.load(nb)"
   ]
  },
  {
   "cell_type": "code",
   "execution_count": 118,
   "metadata": {},
   "outputs": [
    {
     "data": {
      "text/plain": [
       "array(['74974'], dtype='<U5')"
      ]
     },
     "execution_count": 118,
     "metadata": {},
     "output_type": "execute_result"
    }
   ],
   "source": [
    "# predict level 2 using level1 (pred_level2)\n",
    "pred_level2g = model.predict(X_test)\n",
    "np.unique(pred_level2g)"
   ]
  },
  {
   "cell_type": "code",
   "execution_count": 119,
   "metadata": {},
   "outputs": [
    {
     "data": {
      "text/plain": [
       "0.03621825023518344"
      ]
     },
     "execution_count": 119,
     "metadata": {},
     "output_type": "execute_result"
    }
   ],
   "source": [
    "accuracy_level2g = accuracy_score(class2_te, pred_level2g)\n",
    "accuracy_level2g"
   ]
  },
  {
   "cell_type": "code",
   "execution_count": 120,
   "metadata": {},
   "outputs": [
    {
     "data": {
      "text/plain": [
       "MultinomialNB()"
      ]
     },
     "execution_count": 120,
     "metadata": {},
     "output_type": "execute_result"
    }
   ],
   "source": [
    "# c1_7\n",
    "model.fit(X_train.loc[c1_7], class2[c1_7])"
   ]
  },
  {
   "cell_type": "code",
   "execution_count": 121,
   "metadata": {},
   "outputs": [],
   "source": [
    "# c1_7\n",
    "with open('c1_7.pk', 'wb') as cls:\n",
    "    pickle.dump(model, cls)"
   ]
  },
  {
   "cell_type": "code",
   "execution_count": 122,
   "metadata": {},
   "outputs": [],
   "source": [
    "with open('c1_7.pk', 'rb') as nb:\n",
    "    model = pickle.load(nb)"
   ]
  },
  {
   "cell_type": "code",
   "execution_count": 123,
   "metadata": {},
   "outputs": [
    {
     "data": {
      "text/plain": [
       "array(['7B638', '94728'], dtype='<U5')"
      ]
     },
     "execution_count": 123,
     "metadata": {},
     "output_type": "execute_result"
    }
   ],
   "source": [
    "# predict level 2 using level1 (pred_level2)\n",
    "pred_level2h = model.predict(X_test)\n",
    "np.unique(pred_level2h)"
   ]
  },
  {
   "cell_type": "code",
   "execution_count": 124,
   "metadata": {},
   "outputs": [
    {
     "data": {
      "text/plain": [
       "0.06632173095014111"
      ]
     },
     "execution_count": 124,
     "metadata": {},
     "output_type": "execute_result"
    }
   ],
   "source": [
    "accuracy_level2h = accuracy_score(class2_te, pred_level2h)\n",
    "accuracy_level2h"
   ]
  },
  {
   "cell_type": "code",
   "execution_count": null,
   "metadata": {},
   "outputs": [],
   "source": [
    "pd.get_dummies(class1)"
   ]
  },
  {
   "cell_type": "code",
   "execution_count": 442,
   "metadata": {},
   "outputs": [],
   "source": [
    "# c1_8 Model 8 has a problem converting string to float : couldn't fix it\n",
    "#model.fit(y_train.loc[c1_8], class2[c1_8])"
   ]
  },
  {
   "cell_type": "code",
   "execution_count": 167,
   "metadata": {},
   "outputs": [],
   "source": [
    "# c1_8\n",
    "#with open('c1_8.pk', 'wb') as cls:\n",
    "#    pickle.dump(model, cls)"
   ]
  },
  {
   "cell_type": "code",
   "execution_count": 168,
   "metadata": {},
   "outputs": [],
   "source": [
    "#with open('c1_8.pk', 'rb') as nb:\n",
    "#    model = pickle.load(nb)"
   ]
  },
  {
   "cell_type": "code",
   "execution_count": 169,
   "metadata": {},
   "outputs": [
    {
     "data": {
      "text/plain": [
       "array(['5'], dtype='<U1')"
      ]
     },
     "execution_count": 169,
     "metadata": {},
     "output_type": "execute_result"
    }
   ],
   "source": [
    "# predict level 2 using level1 (pred_level2)\n",
    "#pred_level2i = model.predict(X_test[['le_level1']])\n",
    "#np.unique(pred_level2i)"
   ]
  },
  {
   "cell_type": "code",
   "execution_count": 170,
   "metadata": {},
   "outputs": [
    {
     "data": {
      "text/plain": [
       "0.07243650047036689"
      ]
     },
     "execution_count": 170,
     "metadata": {},
     "output_type": "execute_result"
    }
   ],
   "source": [
    "#accuracy_level2i = accuracy_score(class2_te, pred_level2i)\n",
    "#accuracy_level2i"
   ]
  },
  {
   "cell_type": "code",
   "execution_count": 128,
   "metadata": {},
   "outputs": [
    {
     "data": {
      "text/plain": [
       "MultinomialNB()"
      ]
     },
     "execution_count": 128,
     "metadata": {},
     "output_type": "execute_result"
    }
   ],
   "source": [
    "# c1_9\n",
    "model.fit(X_train.loc[c1_9], class2[c1_9])"
   ]
  },
  {
   "cell_type": "code",
   "execution_count": 129,
   "metadata": {},
   "outputs": [],
   "source": [
    "# c1_9\n",
    "with open('c1_9.pk', 'wb') as cls:\n",
    "    pickle.dump(model, cls)"
   ]
  },
  {
   "cell_type": "code",
   "execution_count": 130,
   "metadata": {},
   "outputs": [],
   "source": [
    "with open('c1_9.pk', 'rb') as nb:\n",
    "    model = pickle.load(nb)"
   ]
  },
  {
   "cell_type": "code",
   "execution_count": 131,
   "metadata": {},
   "outputs": [
    {
     "data": {
      "text/plain": [
       "array(['C719A'], dtype='<U5')"
      ]
     },
     "execution_count": 131,
     "metadata": {},
     "output_type": "execute_result"
    }
   ],
   "source": [
    "# predict level 2 using level1 (pred_level2)\n",
    "pred_level2j = model.predict(X_test)\n",
    "np.unique(pred_level2j)"
   ]
  },
  {
   "cell_type": "code",
   "execution_count": 132,
   "metadata": {},
   "outputs": [
    {
     "data": {
      "text/plain": [
       "0.04421448730009407"
      ]
     },
     "execution_count": 132,
     "metadata": {},
     "output_type": "execute_result"
    }
   ],
   "source": [
    "accuracy_level2j = accuracy_score(class2_te, pred_level2j)\n",
    "accuracy_level2j"
   ]
  },
  {
   "cell_type": "code",
   "execution_count": 133,
   "metadata": {},
   "outputs": [
    {
     "data": {
      "text/plain": [
       "MultinomialNB()"
      ]
     },
     "execution_count": 133,
     "metadata": {},
     "output_type": "execute_result"
    }
   ],
   "source": [
    "# c1_10\n",
    "model.fit(X_train.loc[c1_10], class2[c1_10])"
   ]
  },
  {
   "cell_type": "code",
   "execution_count": 134,
   "metadata": {},
   "outputs": [],
   "source": [
    "# c1_10\n",
    "with open('c1_10.pk', 'wb') as cls:\n",
    "    pickle.dump(model, cls)"
   ]
  },
  {
   "cell_type": "code",
   "execution_count": 135,
   "metadata": {},
   "outputs": [],
   "source": [
    "with open('c1_10.pk', 'rb') as nb:\n",
    "    model = pickle.load(nb)"
   ]
  },
  {
   "cell_type": "code",
   "execution_count": 136,
   "metadata": {},
   "outputs": [
    {
     "data": {
      "text/plain": [
       "array(['36080', 'A04D3'], dtype='<U5')"
      ]
     },
     "execution_count": 136,
     "metadata": {},
     "output_type": "execute_result"
    }
   ],
   "source": [
    "# predict level 2 using level1 (pred_level2)\n",
    "pred_level2k = model.predict(X_test)\n",
    "np.unique(pred_level2k)"
   ]
  },
  {
   "cell_type": "code",
   "execution_count": 137,
   "metadata": {},
   "outputs": [
    {
     "data": {
      "text/plain": [
       "0.04374412041392286"
      ]
     },
     "execution_count": 137,
     "metadata": {},
     "output_type": "execute_result"
    }
   ],
   "source": [
    "accuracy_level2k = accuracy_score(class2_te, pred_level2k)\n",
    "accuracy_level2k"
   ]
  },
  {
   "cell_type": "code",
   "execution_count": 138,
   "metadata": {},
   "outputs": [
    {
     "data": {
      "text/plain": [
       "MultinomialNB()"
      ]
     },
     "execution_count": 138,
     "metadata": {},
     "output_type": "execute_result"
    }
   ],
   "source": [
    "# c1_11\n",
    "model.fit(X_train.loc[c1_11], class2[c1_11])"
   ]
  },
  {
   "cell_type": "code",
   "execution_count": 139,
   "metadata": {},
   "outputs": [],
   "source": [
    "# c1_11\n",
    "with open('c1_11.pk', 'wb') as cls:\n",
    "    pickle.dump(model, cls)"
   ]
  },
  {
   "cell_type": "code",
   "execution_count": 140,
   "metadata": {},
   "outputs": [],
   "source": [
    "with open('c1_11.pk', 'rb') as nb:\n",
    "    model = pickle.load(nb)"
   ]
  },
  {
   "cell_type": "code",
   "execution_count": 141,
   "metadata": {},
   "outputs": [
    {
     "data": {
      "text/plain": [
       "array(['914A1', '9B69F'], dtype='<U5')"
      ]
     },
     "execution_count": 141,
     "metadata": {},
     "output_type": "execute_result"
    }
   ],
   "source": [
    "# predict level 2 using level1 (pred_level2)\n",
    "pred_level2l = model.predict(X_test)\n",
    "np.unique(pred_level2l)"
   ]
  },
  {
   "cell_type": "code",
   "execution_count": 142,
   "metadata": {},
   "outputs": [
    {
     "data": {
      "text/plain": [
       "0.07149576669802446"
      ]
     },
     "execution_count": 142,
     "metadata": {},
     "output_type": "execute_result"
    }
   ],
   "source": [
    "accuracy_level2l = accuracy_score(class2_te, pred_level2l)\n",
    "accuracy_level2l"
   ]
  },
  {
   "cell_type": "code",
   "execution_count": 143,
   "metadata": {},
   "outputs": [
    {
     "data": {
      "text/plain": [
       "MultinomialNB()"
      ]
     },
     "execution_count": 143,
     "metadata": {},
     "output_type": "execute_result"
    }
   ],
   "source": [
    "# c1_12\n",
    "model.fit(X_train.loc[c1_12], class2[c1_12])"
   ]
  },
  {
   "cell_type": "code",
   "execution_count": 144,
   "metadata": {},
   "outputs": [],
   "source": [
    "# c1_12\n",
    "with open('c1_12.pk', 'wb') as cls:\n",
    "    pickle.dump(model, cls)"
   ]
  },
  {
   "cell_type": "code",
   "execution_count": 145,
   "metadata": {},
   "outputs": [],
   "source": [
    "with open('c1_12.pk', 'rb') as nb:\n",
    "    model = pickle.load(nb)"
   ]
  },
  {
   "cell_type": "code",
   "execution_count": 146,
   "metadata": {},
   "outputs": [
    {
     "data": {
      "text/plain": [
       "array(['375FE', '5A8AB'], dtype='<U5')"
      ]
     },
     "execution_count": 146,
     "metadata": {},
     "output_type": "execute_result"
    }
   ],
   "source": [
    "# predict level 2 using level1 (pred_level2)\n",
    "pred_level2m = model.predict(X_test)\n",
    "np.unique(pred_level2m)"
   ]
  },
  {
   "cell_type": "code",
   "execution_count": 147,
   "metadata": {},
   "outputs": [
    {
     "data": {
      "text/plain": [
       "0.045625587958607716"
      ]
     },
     "execution_count": 147,
     "metadata": {},
     "output_type": "execute_result"
    }
   ],
   "source": [
    "accuracy_level2m = accuracy_score(class2_te, pred_level2m)\n",
    "accuracy_level2m"
   ]
  },
  {
   "cell_type": "code",
   "execution_count": 148,
   "metadata": {},
   "outputs": [
    {
     "data": {
      "text/plain": [
       "MultinomialNB()"
      ]
     },
     "execution_count": 148,
     "metadata": {},
     "output_type": "execute_result"
    }
   ],
   "source": [
    "# c1_13\n",
    "model.fit(X_train.loc[c1_13], class2[c1_13])"
   ]
  },
  {
   "cell_type": "code",
   "execution_count": 149,
   "metadata": {},
   "outputs": [],
   "source": [
    "# c1_13\n",
    "with open('c1_13.pk', 'wb') as cls:\n",
    "    pickle.dump(model, cls)"
   ]
  },
  {
   "cell_type": "code",
   "execution_count": 150,
   "metadata": {},
   "outputs": [],
   "source": [
    "with open('c1_13.pk', 'rb') as nb:\n",
    "    model = pickle.load(nb)"
   ]
  },
  {
   "cell_type": "code",
   "execution_count": 151,
   "metadata": {},
   "outputs": [
    {
     "data": {
      "text/plain": [
       "array(['ACD06'], dtype='<U5')"
      ]
     },
     "execution_count": 151,
     "metadata": {},
     "output_type": "execute_result"
    }
   ],
   "source": [
    "# predict level 2 using level1 (pred_level2)\n",
    "pred_level2n = model.predict(X_test)\n",
    "np.unique(pred_level2n)"
   ]
  },
  {
   "cell_type": "code",
   "execution_count": 152,
   "metadata": {},
   "outputs": [
    {
     "data": {
      "text/plain": [
       "0.04421448730009407"
      ]
     },
     "execution_count": 152,
     "metadata": {},
     "output_type": "execute_result"
    }
   ],
   "source": [
    "accuracy_level2n = accuracy_score(class2_te, pred_level2n)\n",
    "accuracy_level2n"
   ]
  },
  {
   "cell_type": "code",
   "execution_count": 153,
   "metadata": {},
   "outputs": [
    {
     "data": {
      "text/plain": [
       "MultinomialNB()"
      ]
     },
     "execution_count": 153,
     "metadata": {},
     "output_type": "execute_result"
    }
   ],
   "source": [
    "# c1_14\n",
    "model.fit(X_train.loc[c1_14], class2[c1_14])"
   ]
  },
  {
   "cell_type": "code",
   "execution_count": 154,
   "metadata": {},
   "outputs": [],
   "source": [
    "# c1_14\n",
    "with open('c1_14.pk', 'wb') as cls:\n",
    "    pickle.dump(model, cls)"
   ]
  },
  {
   "cell_type": "code",
   "execution_count": 155,
   "metadata": {},
   "outputs": [],
   "source": [
    "with open('c1_14.pk', 'rb') as nb:\n",
    "    model = pickle.load(nb)"
   ]
  },
  {
   "cell_type": "code",
   "execution_count": 156,
   "metadata": {},
   "outputs": [
    {
     "data": {
      "text/plain": [
       "array(['02FA0', 'CB803'], dtype='<U5')"
      ]
     },
     "execution_count": 156,
     "metadata": {},
     "output_type": "execute_result"
    }
   ],
   "source": [
    "# predict level 2 using level1 (pred_level2)\n",
    "pred_level2o = model.predict(X_test)\n",
    "np.unique(pred_level2o)"
   ]
  },
  {
   "cell_type": "code",
   "execution_count": 157,
   "metadata": {},
   "outputs": [
    {
     "data": {
      "text/plain": [
       "0.061618062088428974"
      ]
     },
     "execution_count": 157,
     "metadata": {},
     "output_type": "execute_result"
    }
   ],
   "source": [
    "accuracy_level2o = accuracy_score(class2_te, pred_level2o)\n",
    "accuracy_level2o"
   ]
  },
  {
   "cell_type": "markdown",
   "metadata": {},
   "source": [
    "## Create and save models for level 3\n"
   ]
  },
  {
   "cell_type": "code",
   "execution_count": 163,
   "metadata": {},
   "outputs": [
    {
     "data": {
      "text/html": [
       "<div>\n",
       "<style scoped>\n",
       "    .dataframe tbody tr th:only-of-type {\n",
       "        vertical-align: middle;\n",
       "    }\n",
       "\n",
       "    .dataframe tbody tr th {\n",
       "        vertical-align: top;\n",
       "    }\n",
       "\n",
       "    .dataframe thead th {\n",
       "        text-align: right;\n",
       "    }\n",
       "</style>\n",
       "<table border=\"1\" class=\"dataframe\">\n",
       "  <thead>\n",
       "    <tr style=\"text-align: right;\">\n",
       "      <th></th>\n",
       "      <th>Level_1</th>\n",
       "      <th>Level_2</th>\n",
       "      <th>count</th>\n",
       "    </tr>\n",
       "  </thead>\n",
       "  <tbody>\n",
       "    <tr>\n",
       "      <th>0</th>\n",
       "      <td>014303D1</td>\n",
       "      <td>77F62</td>\n",
       "      <td>199</td>\n",
       "    </tr>\n",
       "    <tr>\n",
       "      <th>1</th>\n",
       "      <td>014303D1</td>\n",
       "      <td>7AED7</td>\n",
       "      <td>224</td>\n",
       "    </tr>\n",
       "    <tr>\n",
       "      <th>2</th>\n",
       "      <td>09BF5150</td>\n",
       "      <td>262E7</td>\n",
       "      <td>46</td>\n",
       "    </tr>\n",
       "    <tr>\n",
       "      <th>3</th>\n",
       "      <td>09BF5150</td>\n",
       "      <td>5E038</td>\n",
       "      <td>93</td>\n",
       "    </tr>\n",
       "    <tr>\n",
       "      <th>4</th>\n",
       "      <td>09BF5150</td>\n",
       "      <td>6C6B1</td>\n",
       "      <td>26</td>\n",
       "    </tr>\n",
       "    <tr>\n",
       "      <th>5</th>\n",
       "      <td>09BF5150</td>\n",
       "      <td>915D4</td>\n",
       "      <td>37</td>\n",
       "    </tr>\n",
       "    <tr>\n",
       "      <th>6</th>\n",
       "      <td>09BF5150</td>\n",
       "      <td>AF6B9</td>\n",
       "      <td>33</td>\n",
       "    </tr>\n",
       "    <tr>\n",
       "      <th>7</th>\n",
       "      <td>09BF5150</td>\n",
       "      <td>C7E19</td>\n",
       "      <td>343</td>\n",
       "    </tr>\n",
       "    <tr>\n",
       "      <th>8</th>\n",
       "      <td>09BF5150</td>\n",
       "      <td>F824F</td>\n",
       "      <td>51</td>\n",
       "    </tr>\n",
       "    <tr>\n",
       "      <th>9</th>\n",
       "      <td>2CEC27F1</td>\n",
       "      <td>ADAD6</td>\n",
       "      <td>321</td>\n",
       "    </tr>\n",
       "    <tr>\n",
       "      <th>10</th>\n",
       "      <td>2CEC27F1</td>\n",
       "      <td>BAE8A</td>\n",
       "      <td>362</td>\n",
       "    </tr>\n",
       "    <tr>\n",
       "      <th>11</th>\n",
       "      <td>35E04739</td>\n",
       "      <td>390F1</td>\n",
       "      <td>352</td>\n",
       "    </tr>\n",
       "    <tr>\n",
       "      <th>12</th>\n",
       "      <td>35E04739</td>\n",
       "      <td>B2DB4</td>\n",
       "      <td>356</td>\n",
       "    </tr>\n",
       "    <tr>\n",
       "      <th>13</th>\n",
       "      <td>3E1E0D78</td>\n",
       "      <td>9D9EE</td>\n",
       "      <td>375</td>\n",
       "    </tr>\n",
       "    <tr>\n",
       "      <th>14</th>\n",
       "      <td>3E1E0D78</td>\n",
       "      <td>E6162</td>\n",
       "      <td>98</td>\n",
       "    </tr>\n",
       "    <tr>\n",
       "      <th>15</th>\n",
       "      <td>4513C920</td>\n",
       "      <td>31FED</td>\n",
       "      <td>64</td>\n",
       "    </tr>\n",
       "    <tr>\n",
       "      <th>16</th>\n",
       "      <td>4513C920</td>\n",
       "      <td>E69F5</td>\n",
       "      <td>84</td>\n",
       "    </tr>\n",
       "    <tr>\n",
       "      <th>17</th>\n",
       "      <td>4513C920</td>\n",
       "      <td>F4055</td>\n",
       "      <td>281</td>\n",
       "    </tr>\n",
       "    <tr>\n",
       "      <th>18</th>\n",
       "      <td>4C3D8686</td>\n",
       "      <td>223B2</td>\n",
       "      <td>103</td>\n",
       "    </tr>\n",
       "    <tr>\n",
       "      <th>19</th>\n",
       "      <td>4C3D8686</td>\n",
       "      <td>74974</td>\n",
       "      <td>369</td>\n",
       "    </tr>\n",
       "    <tr>\n",
       "      <th>20</th>\n",
       "      <td>57164AC1</td>\n",
       "      <td>0864A</td>\n",
       "      <td>14</td>\n",
       "    </tr>\n",
       "    <tr>\n",
       "      <th>21</th>\n",
       "      <td>57164AC1</td>\n",
       "      <td>7B638</td>\n",
       "      <td>340</td>\n",
       "    </tr>\n",
       "    <tr>\n",
       "      <th>22</th>\n",
       "      <td>57164AC1</td>\n",
       "      <td>94728</td>\n",
       "      <td>347</td>\n",
       "    </tr>\n",
       "    <tr>\n",
       "      <th>23</th>\n",
       "      <td>69286F45</td>\n",
       "      <td>2D5A3</td>\n",
       "      <td>643</td>\n",
       "    </tr>\n",
       "    <tr>\n",
       "      <th>24</th>\n",
       "      <td>90A8B052</td>\n",
       "      <td>08960</td>\n",
       "      <td>16</td>\n",
       "    </tr>\n",
       "    <tr>\n",
       "      <th>25</th>\n",
       "      <td>90A8B052</td>\n",
       "      <td>C719A</td>\n",
       "      <td>388</td>\n",
       "    </tr>\n",
       "    <tr>\n",
       "      <th>26</th>\n",
       "      <td>96F95EEC</td>\n",
       "      <td>36080</td>\n",
       "      <td>147</td>\n",
       "    </tr>\n",
       "    <tr>\n",
       "      <th>27</th>\n",
       "      <td>96F95EEC</td>\n",
       "      <td>A04D3</td>\n",
       "      <td>323</td>\n",
       "    </tr>\n",
       "    <tr>\n",
       "      <th>28</th>\n",
       "      <td>AAC8EE56</td>\n",
       "      <td>914A1</td>\n",
       "      <td>350</td>\n",
       "    </tr>\n",
       "    <tr>\n",
       "      <th>29</th>\n",
       "      <td>AAC8EE56</td>\n",
       "      <td>9B69F</td>\n",
       "      <td>366</td>\n",
       "    </tr>\n",
       "    <tr>\n",
       "      <th>30</th>\n",
       "      <td>B092BA29</td>\n",
       "      <td>375FE</td>\n",
       "      <td>366</td>\n",
       "    </tr>\n",
       "    <tr>\n",
       "      <th>31</th>\n",
       "      <td>B092BA29</td>\n",
       "      <td>5A8AB</td>\n",
       "      <td>347</td>\n",
       "    </tr>\n",
       "    <tr>\n",
       "      <th>32</th>\n",
       "      <td>D410C91A</td>\n",
       "      <td>ACD06</td>\n",
       "      <td>410</td>\n",
       "    </tr>\n",
       "    <tr>\n",
       "      <th>33</th>\n",
       "      <td>EFEF723B</td>\n",
       "      <td>02FA0</td>\n",
       "      <td>199</td>\n",
       "    </tr>\n",
       "    <tr>\n",
       "      <th>34</th>\n",
       "      <td>EFEF723B</td>\n",
       "      <td>CB803</td>\n",
       "      <td>356</td>\n",
       "    </tr>\n",
       "    <tr>\n",
       "      <th>35</th>\n",
       "      <td>EFEF723B</td>\n",
       "      <td>D5531</td>\n",
       "      <td>72</td>\n",
       "    </tr>\n",
       "  </tbody>\n",
       "</table>\n",
       "</div>"
      ],
      "text/plain": [
       "     Level_1 Level_2  count\n",
       "0   014303D1   77F62    199\n",
       "1   014303D1   7AED7    224\n",
       "2   09BF5150   262E7     46\n",
       "3   09BF5150   5E038     93\n",
       "4   09BF5150   6C6B1     26\n",
       "5   09BF5150   915D4     37\n",
       "6   09BF5150   AF6B9     33\n",
       "7   09BF5150   C7E19    343\n",
       "8   09BF5150   F824F     51\n",
       "9   2CEC27F1   ADAD6    321\n",
       "10  2CEC27F1   BAE8A    362\n",
       "11  35E04739   390F1    352\n",
       "12  35E04739   B2DB4    356\n",
       "13  3E1E0D78   9D9EE    375\n",
       "14  3E1E0D78   E6162     98\n",
       "15  4513C920   31FED     64\n",
       "16  4513C920   E69F5     84\n",
       "17  4513C920   F4055    281\n",
       "18  4C3D8686   223B2    103\n",
       "19  4C3D8686   74974    369\n",
       "20  57164AC1   0864A     14\n",
       "21  57164AC1   7B638    340\n",
       "22  57164AC1   94728    347\n",
       "23  69286F45   2D5A3    643\n",
       "24  90A8B052   08960     16\n",
       "25  90A8B052   C719A    388\n",
       "26  96F95EEC   36080    147\n",
       "27  96F95EEC   A04D3    323\n",
       "28  AAC8EE56   914A1    350\n",
       "29  AAC8EE56   9B69F    366\n",
       "30  B092BA29   375FE    366\n",
       "31  B092BA29   5A8AB    347\n",
       "32  D410C91A   ACD06    410\n",
       "33  EFEF723B   02FA0    199\n",
       "34  EFEF723B   CB803    356\n",
       "35  EFEF723B   D5531     72"
      ]
     },
     "execution_count": 163,
     "metadata": {},
     "output_type": "execute_result"
    }
   ],
   "source": [
    "# Combined unique combinations of level1 and level2 to predict level3 - all combinations\n",
    "y_train.groupby(['Level_1','Level_2']).size().reset_index().rename(columns={0:'count'})"
   ]
  },
  {
   "cell_type": "code",
   "execution_count": 164,
   "metadata": {},
   "outputs": [],
   "source": [
    "c2_1 = list(class1[class1 == '014303D1'].index & class2[class2 == '77F62'] .index)\n",
    "c2_2 = list(class1[class1 == '014303D1'].index & class2[class2 == '7AED7'] .index)\n",
    "c2_3 = list(class1[class1 == '09BF5150'].index & class2[class2 == '262E7'] .index)\n",
    "c2_4 = list(class1[class1 == '09BF5150'].index & class2[class2 == '5E038'] .index)\n",
    "c2_5 = list(class1[class1 == '09BF5150'].index & class2[class2 == '6C6B1'] .index)\n",
    "c2_6 = list(class1[class1 == '09BF5150'].index & class2[class2 == '915D4'] .index)\n",
    "c2_7 = list(class1[class1 == '09BF5150'].index & class2[class2 == 'AF6B9'] .index)\n",
    "c2_8 = list(class1[class1 == '09BF5150'].index & class2[class2 == 'C7E19'] .index)\n",
    "c2_9 = list(class1[class1 == '09BF5150'].index & class2[class2 == 'F824F'] .index)\n",
    "c2_10 = list(class1[class1 == '2CEC27F1'].index & class2[class2 == 'ADAD6'] .index)\n",
    "c2_11 = list(class1[class1 == '2CEC27F1'].index & class2[class2 == 'BAE8A'] .index)\n",
    "c2_12 = list(class1[class1 == '35E04739'].index & class2[class2 == '390F1'] .index)\n",
    "c2_13 = list(class1[class1 == '35E04739'].index & class2[class2 == 'B2DB4'] .index)\n",
    "c2_14 = list(class1[class1 == '3E1E0D78'].index & class2[class2 == '9D9EE'] .index)\n",
    "c2_15 = list(class1[class1 == '3E1E0D78'].index & class2[class2 == 'E6162'] .index)\n",
    "c2_16 = list(class1[class1 == '4513C920'].index & class2[class2 == '31FED'] .index)\n",
    "c2_17 = list(class1[class1 == '4513C920'].index & class2[class2 == 'E69F5'] .index)\n",
    "c2_18 = list(class1[class1 == '4513C920'].index & class2[class2 == 'F4055'] .index)\n",
    "c2_19 = list(class1[class1 == '4C3D8686'].index & class2[class2 == '223B2'] .index)\n",
    "c2_20 = list(class1[class1 == '4C3D8686'].index & class2[class2 == '74974'] .index)\n",
    "c2_21 = list(class1[class1 == '57164AC1'].index & class2[class2 == '0864A'] .index)\n",
    "c2_22 = list(class1[class1 == '57164AC1'].index & class2[class2 == '7B638'] .index)\n",
    "c2_23 = list(class1[class1 == '57164AC1'].index & class2[class2 == '94728'] .index)\n",
    "c2_24 = list(class1[class1 == '69286F45'].index & class2[class2 == '2D5A3'] .index)\n",
    "c2_25 = list(class1[class1 == '90A8B052'].index & class2[class2 == '08960'] .index)\n",
    "c2_26 = list(class1[class1 == '90A8B052'].index & class2[class2 == 'C719A'] .index)\n",
    "c2_27 = list(class1[class1 == '96F95EEC'].index & class2[class2 == '36080'] .index)\n",
    "c2_28 = list(class1[class1 == '96F95EEC'].index & class2[class2 == 'A04D3'] .index)\n",
    "c2_29 = list(class1[class1 == 'AAC8EE56'].index & class2[class2 == '914A1'] .index)\n",
    "c2_30 = list(class1[class1 == 'AAC8EE56'].index & class2[class2 == '9B69F'] .index)\n",
    "c2_31 = list(class1[class1 == 'B092BA29'].index & class2[class2 == '375FE'] .index)\n",
    "c2_32 = list(class1[class1 == 'B092BA29'].index & class2[class2 == '5A8AB'] .index)\n",
    "c2_33 = list(class1[class1 == 'D410C91A'].index & class2[class2 == 'ACD06'] .index)\n",
    "c2_34 = list(class1[class1 == 'EFEF723B'].index & class2[class2 == '02FA0'] .index)\n",
    "c2_35 = list(class1[class1 == 'EFEF723B'].index & class2[class2 == 'CB803'] .index) \n",
    "c2_36 = list(class1[class1 == 'EFEF723B'].index & class2[class2 == 'D5531'] .index)"
   ]
  },
  {
   "cell_type": "code",
   "execution_count": 165,
   "metadata": {},
   "outputs": [
    {
     "data": {
      "text/html": [
       "<div>\n",
       "<style scoped>\n",
       "    .dataframe tbody tr th:only-of-type {\n",
       "        vertical-align: middle;\n",
       "    }\n",
       "\n",
       "    .dataframe tbody tr th {\n",
       "        vertical-align: top;\n",
       "    }\n",
       "\n",
       "    .dataframe thead th {\n",
       "        text-align: right;\n",
       "    }\n",
       "</style>\n",
       "<table border=\"1\" class=\"dataframe\">\n",
       "  <thead>\n",
       "    <tr style=\"text-align: right;\">\n",
       "      <th></th>\n",
       "      <th>Level_1</th>\n",
       "      <th>Level_2</th>\n",
       "      <th>Level_3</th>\n",
       "    </tr>\n",
       "  </thead>\n",
       "  <tbody>\n",
       "    <tr>\n",
       "      <th>128</th>\n",
       "      <td>014303D1</td>\n",
       "      <td>77F62</td>\n",
       "      <td>E8E0</td>\n",
       "    </tr>\n",
       "    <tr>\n",
       "      <th>143</th>\n",
       "      <td>014303D1</td>\n",
       "      <td>77F62</td>\n",
       "      <td>E8E0</td>\n",
       "    </tr>\n",
       "    <tr>\n",
       "      <th>144</th>\n",
       "      <td>014303D1</td>\n",
       "      <td>77F62</td>\n",
       "      <td>E8E0</td>\n",
       "    </tr>\n",
       "    <tr>\n",
       "      <th>153</th>\n",
       "      <td>014303D1</td>\n",
       "      <td>77F62</td>\n",
       "      <td>5AE1</td>\n",
       "    </tr>\n",
       "    <tr>\n",
       "      <th>174</th>\n",
       "      <td>014303D1</td>\n",
       "      <td>77F62</td>\n",
       "      <td>5AE1</td>\n",
       "    </tr>\n",
       "    <tr>\n",
       "      <th>...</th>\n",
       "      <td>...</td>\n",
       "      <td>...</td>\n",
       "      <td>...</td>\n",
       "    </tr>\n",
       "    <tr>\n",
       "      <th>8337</th>\n",
       "      <td>014303D1</td>\n",
       "      <td>77F62</td>\n",
       "      <td>5AE1</td>\n",
       "    </tr>\n",
       "    <tr>\n",
       "      <th>8357</th>\n",
       "      <td>014303D1</td>\n",
       "      <td>77F62</td>\n",
       "      <td>5AE1</td>\n",
       "    </tr>\n",
       "    <tr>\n",
       "      <th>8377</th>\n",
       "      <td>014303D1</td>\n",
       "      <td>77F62</td>\n",
       "      <td>0ED4</td>\n",
       "    </tr>\n",
       "    <tr>\n",
       "      <th>8433</th>\n",
       "      <td>014303D1</td>\n",
       "      <td>77F62</td>\n",
       "      <td>0ED4</td>\n",
       "    </tr>\n",
       "    <tr>\n",
       "      <th>8487</th>\n",
       "      <td>014303D1</td>\n",
       "      <td>77F62</td>\n",
       "      <td>0EBC</td>\n",
       "    </tr>\n",
       "  </tbody>\n",
       "</table>\n",
       "<p>199 rows × 3 columns</p>\n",
       "</div>"
      ],
      "text/plain": [
       "       Level_1 Level_2 Level_3\n",
       "128   014303D1   77F62    E8E0\n",
       "143   014303D1   77F62    E8E0\n",
       "144   014303D1   77F62    E8E0\n",
       "153   014303D1   77F62    5AE1\n",
       "174   014303D1   77F62    5AE1\n",
       "...        ...     ...     ...\n",
       "8337  014303D1   77F62    5AE1\n",
       "8357  014303D1   77F62    5AE1\n",
       "8377  014303D1   77F62    0ED4\n",
       "8433  014303D1   77F62    0ED4\n",
       "8487  014303D1   77F62    0EBC\n",
       "\n",
       "[199 rows x 3 columns]"
      ]
     },
     "execution_count": 165,
     "metadata": {},
     "output_type": "execute_result"
    }
   ],
   "source": [
    "y_train.loc[c2_1,['Level_1','Level_2','Level_3']]"
   ]
  },
  {
   "cell_type": "code",
   "execution_count": 166,
   "metadata": {},
   "outputs": [
    {
     "data": {
      "text/plain": [
       "128     E8E0\n",
       "143     E8E0\n",
       "144     E8E0\n",
       "153     5AE1\n",
       "174     5AE1\n",
       "        ... \n",
       "8337    5AE1\n",
       "8357    5AE1\n",
       "8377    0ED4\n",
       "8433    0ED4\n",
       "8487    0EBC\n",
       "Name: Level_3, Length: 199, dtype: object"
      ]
     },
     "execution_count": 166,
     "metadata": {},
     "output_type": "execute_result"
    }
   ],
   "source": [
    "class3[c2_1]"
   ]
  },
  {
   "cell_type": "code",
   "execution_count": 167,
   "metadata": {},
   "outputs": [
    {
     "data": {
      "text/plain": [
       "MultinomialNB()"
      ]
     },
     "execution_count": 167,
     "metadata": {},
     "output_type": "execute_result"
    }
   ],
   "source": [
    "# c2_1: \n",
    "model.fit(X_train.loc[c2_1], class3[c2_1])"
   ]
  },
  {
   "cell_type": "code",
   "execution_count": 168,
   "metadata": {},
   "outputs": [],
   "source": [
    "# c2_1\n",
    "with open('c2_1.pk', 'wb') as cls:\n",
    "    pickle.dump(model, cls)"
   ]
  },
  {
   "cell_type": "code",
   "execution_count": 169,
   "metadata": {},
   "outputs": [],
   "source": [
    "with open('c2_1.pk', 'rb') as nb:\n",
    "    model = pickle.load(nb)"
   ]
  },
  {
   "cell_type": "code",
   "execution_count": 170,
   "metadata": {},
   "outputs": [
    {
     "data": {
      "text/plain": [
       "array(['0EBC', '5AE1'], dtype='<U4')"
      ]
     },
     "execution_count": 170,
     "metadata": {},
     "output_type": "execute_result"
    }
   ],
   "source": [
    "# predict level 3 using level2 \n",
    "pred_level3a = model.predict(X_test)\n",
    "np.unique(pred_level3a)"
   ]
  },
  {
   "cell_type": "code",
   "execution_count": 171,
   "metadata": {},
   "outputs": [
    {
     "data": {
      "text/plain": [
       "0.0061147695202257765"
      ]
     },
     "execution_count": 171,
     "metadata": {},
     "output_type": "execute_result"
    }
   ],
   "source": [
    "accuracy_level3a = accuracy_score(class3_te, pred_level3a)\n",
    "accuracy_level3a"
   ]
  },
  {
   "cell_type": "code",
   "execution_count": 172,
   "metadata": {},
   "outputs": [
    {
     "data": {
      "text/plain": [
       "MultinomialNB()"
      ]
     },
     "execution_count": 172,
     "metadata": {},
     "output_type": "execute_result"
    }
   ],
   "source": [
    "# c2_2: \n",
    "model.fit(X_train.loc[c2_2], class3[c2_2])"
   ]
  },
  {
   "cell_type": "code",
   "execution_count": 173,
   "metadata": {},
   "outputs": [],
   "source": [
    "# c2_2\n",
    "with open('c2_2.pk', 'wb') as cls:\n",
    "    pickle.dump(model, cls)"
   ]
  },
  {
   "cell_type": "code",
   "execution_count": 174,
   "metadata": {},
   "outputs": [],
   "source": [
    "with open('c2_2.pk', 'rb') as nb:\n",
    "    model = pickle.load(nb)"
   ]
  },
  {
   "cell_type": "code",
   "execution_count": 175,
   "metadata": {},
   "outputs": [
    {
     "data": {
      "text/plain": [
       "array(['16BD', '6539', 'BBA5'], dtype='<U4')"
      ]
     },
     "execution_count": 175,
     "metadata": {},
     "output_type": "execute_result"
    }
   ],
   "source": [
    "# predict level 3 using level2 \n",
    "pred_level3b = model.predict(X_test)\n",
    "np.unique(pred_level3b)"
   ]
  },
  {
   "cell_type": "code",
   "execution_count": 176,
   "metadata": {},
   "outputs": [
    {
     "data": {
      "text/plain": [
       "0.013640639698965193"
      ]
     },
     "execution_count": 176,
     "metadata": {},
     "output_type": "execute_result"
    }
   ],
   "source": [
    "accuracy_level3b = accuracy_score(class3_te, pred_level3b)\n",
    "accuracy_level3b"
   ]
  },
  {
   "cell_type": "code",
   "execution_count": 177,
   "metadata": {},
   "outputs": [
    {
     "data": {
      "text/plain": [
       "MultinomialNB()"
      ]
     },
     "execution_count": 177,
     "metadata": {},
     "output_type": "execute_result"
    }
   ],
   "source": [
    "# c2_3: \n",
    "model.fit(X_train.loc[c2_3], class3[c2_3])"
   ]
  },
  {
   "cell_type": "code",
   "execution_count": 178,
   "metadata": {},
   "outputs": [],
   "source": [
    "# c2_3\n",
    "with open('c2_3.pk', 'wb') as cls:\n",
    "    pickle.dump(model, cls)"
   ]
  },
  {
   "cell_type": "code",
   "execution_count": 179,
   "metadata": {},
   "outputs": [],
   "source": [
    "with open('c2_3.pk', 'rb') as nb:\n",
    "    model = pickle.load(nb)"
   ]
  },
  {
   "cell_type": "code",
   "execution_count": 180,
   "metadata": {},
   "outputs": [
    {
     "data": {
      "text/plain": [
       "array(['29B3'], dtype='<U4')"
      ]
     },
     "execution_count": 180,
     "metadata": {},
     "output_type": "execute_result"
    }
   ],
   "source": [
    "# predict level 3 using level2 \n",
    "pred_level3c = model.predict(X_test)\n",
    "np.unique(pred_level3c)"
   ]
  },
  {
   "cell_type": "code",
   "execution_count": 181,
   "metadata": {},
   "outputs": [
    {
     "data": {
      "text/plain": [
       "0.00799623706491063"
      ]
     },
     "execution_count": 181,
     "metadata": {},
     "output_type": "execute_result"
    }
   ],
   "source": [
    "accuracy_level3c = accuracy_score(class3_te, pred_level3c)\n",
    "accuracy_level3c"
   ]
  },
  {
   "cell_type": "code",
   "execution_count": 182,
   "metadata": {},
   "outputs": [
    {
     "data": {
      "text/plain": [
       "MultinomialNB()"
      ]
     },
     "execution_count": 182,
     "metadata": {},
     "output_type": "execute_result"
    }
   ],
   "source": [
    "# c2_4: \n",
    "model.fit(X_train.loc[c2_4], class3[c2_4])"
   ]
  },
  {
   "cell_type": "code",
   "execution_count": 183,
   "metadata": {},
   "outputs": [],
   "source": [
    "# c2_4\n",
    "with open('c2_4.pk', 'wb') as cls:\n",
    "    pickle.dump(model, cls)"
   ]
  },
  {
   "cell_type": "code",
   "execution_count": 184,
   "metadata": {},
   "outputs": [],
   "source": [
    "with open('c2_4.pk', 'rb') as nb:\n",
    "    model = pickle.load(nb)"
   ]
  },
  {
   "cell_type": "code",
   "execution_count": 185,
   "metadata": {},
   "outputs": [
    {
     "data": {
      "text/plain": [
       "array(['6BE5'], dtype='<U4')"
      ]
     },
     "execution_count": 185,
     "metadata": {},
     "output_type": "execute_result"
    }
   ],
   "source": [
    "# predict level 3 using level2 \n",
    "pred_level3d = model.predict(X_test)\n",
    "np.unique(pred_level3d)"
   ]
  },
  {
   "cell_type": "code",
   "execution_count": 186,
   "metadata": {},
   "outputs": [
    {
     "data": {
      "text/plain": [
       "0.010348071495766699"
      ]
     },
     "execution_count": 186,
     "metadata": {},
     "output_type": "execute_result"
    }
   ],
   "source": [
    "accuracy_level3d = accuracy_score(class3_te, pred_level3d)\n",
    "accuracy_level3d"
   ]
  },
  {
   "cell_type": "code",
   "execution_count": 187,
   "metadata": {},
   "outputs": [
    {
     "data": {
      "text/plain": [
       "MultinomialNB()"
      ]
     },
     "execution_count": 187,
     "metadata": {},
     "output_type": "execute_result"
    }
   ],
   "source": [
    "# c2_5: \n",
    "model.fit(X_train.loc[c2_5], class3[c2_5])"
   ]
  },
  {
   "cell_type": "code",
   "execution_count": 188,
   "metadata": {},
   "outputs": [],
   "source": [
    "# c2_5\n",
    "with open('c2_5.pk', 'wb') as cls:\n",
    "    pickle.dump(model, cls)"
   ]
  },
  {
   "cell_type": "code",
   "execution_count": 189,
   "metadata": {},
   "outputs": [],
   "source": [
    "with open('c2_5.pk', 'rb') as nb:\n",
    "    model = pickle.load(nb)"
   ]
  },
  {
   "cell_type": "code",
   "execution_count": 190,
   "metadata": {},
   "outputs": [
    {
     "data": {
      "text/plain": [
       "array(['3AAD'], dtype='<U4')"
      ]
     },
     "execution_count": 190,
     "metadata": {},
     "output_type": "execute_result"
    }
   ],
   "source": [
    "# predict level 3 using level2 \n",
    "pred_level3e = model.predict(X_test)\n",
    "np.unique(pred_level3e)"
   ]
  },
  {
   "cell_type": "code",
   "execution_count": 191,
   "metadata": {},
   "outputs": [
    {
     "data": {
      "text/plain": [
       "0.004703668861712135"
      ]
     },
     "execution_count": 191,
     "metadata": {},
     "output_type": "execute_result"
    }
   ],
   "source": [
    "accuracy_level3e = accuracy_score(class3_te, pred_level3e)\n",
    "accuracy_level3e"
   ]
  },
  {
   "cell_type": "code",
   "execution_count": 192,
   "metadata": {},
   "outputs": [
    {
     "data": {
      "text/plain": [
       "MultinomialNB()"
      ]
     },
     "execution_count": 192,
     "metadata": {},
     "output_type": "execute_result"
    }
   ],
   "source": [
    "# c2_6: \n",
    "model.fit(X_train.loc[c2_6], class3[c2_6])"
   ]
  },
  {
   "cell_type": "code",
   "execution_count": 193,
   "metadata": {},
   "outputs": [],
   "source": [
    "# c2_6\n",
    "with open('c2_6.pk', 'wb') as cls:\n",
    "    pickle.dump(model, cls)"
   ]
  },
  {
   "cell_type": "code",
   "execution_count": 194,
   "metadata": {},
   "outputs": [],
   "source": [
    "with open('c2_6.pk', 'rb') as nb:\n",
    "    model = pickle.load(nb)"
   ]
  },
  {
   "cell_type": "code",
   "execution_count": 195,
   "metadata": {},
   "outputs": [
    {
     "data": {
      "text/plain": [
       "array(['A2FA'], dtype='<U4')"
      ]
     },
     "execution_count": 195,
     "metadata": {},
     "output_type": "execute_result"
    }
   ],
   "source": [
    "# predict level 3 using level2 \n",
    "pred_level3f = model.predict(X_test)\n",
    "np.unique(pred_level3f)"
   ]
  },
  {
   "cell_type": "code",
   "execution_count": 196,
   "metadata": {},
   "outputs": [
    {
     "data": {
      "text/plain": [
       "0.004703668861712135"
      ]
     },
     "execution_count": 196,
     "metadata": {},
     "output_type": "execute_result"
    }
   ],
   "source": [
    "accuracy_level3f = accuracy_score(class3_te, pred_level3f)\n",
    "accuracy_level3f"
   ]
  },
  {
   "cell_type": "code",
   "execution_count": 197,
   "metadata": {},
   "outputs": [
    {
     "data": {
      "text/plain": [
       "MultinomialNB()"
      ]
     },
     "execution_count": 197,
     "metadata": {},
     "output_type": "execute_result"
    }
   ],
   "source": [
    "# c2_7: \n",
    "model.fit(X_train.loc[c2_7], class3[c2_7])"
   ]
  },
  {
   "cell_type": "code",
   "execution_count": 198,
   "metadata": {},
   "outputs": [],
   "source": [
    "# c2_7\n",
    "with open('c2_7.pk', 'wb') as cls:\n",
    "    pickle.dump(model, cls)"
   ]
  },
  {
   "cell_type": "code",
   "execution_count": 199,
   "metadata": {},
   "outputs": [],
   "source": [
    "with open('c2_7.pk', 'rb') as nb:\n",
    "    model = pickle.load(nb)"
   ]
  },
  {
   "cell_type": "code",
   "execution_count": 200,
   "metadata": {},
   "outputs": [
    {
     "data": {
      "text/plain": [
       "array(['A104'], dtype='<U4')"
      ]
     },
     "execution_count": 200,
     "metadata": {},
     "output_type": "execute_result"
    }
   ],
   "source": [
    "# predict level 3 using level2 \n",
    "pred_level3g = model.predict(X_test)\n",
    "np.unique(pred_level3g)"
   ]
  },
  {
   "cell_type": "code",
   "execution_count": 201,
   "metadata": {},
   "outputs": [
    {
     "data": {
      "text/plain": [
       "0.0014111006585136407"
      ]
     },
     "execution_count": 201,
     "metadata": {},
     "output_type": "execute_result"
    }
   ],
   "source": [
    "accuracy_level3g = accuracy_score(class3_te, pred_level3g)\n",
    "accuracy_level3g"
   ]
  },
  {
   "cell_type": "code",
   "execution_count": 202,
   "metadata": {},
   "outputs": [
    {
     "data": {
      "text/plain": [
       "MultinomialNB()"
      ]
     },
     "execution_count": 202,
     "metadata": {},
     "output_type": "execute_result"
    }
   ],
   "source": [
    "# c2_8: \n",
    "model.fit(X_train.loc[c2_8], class3[c2_8])"
   ]
  },
  {
   "cell_type": "code",
   "execution_count": 203,
   "metadata": {},
   "outputs": [],
   "source": [
    "# c2_8\n",
    "with open('c2_8.pk', 'wb') as cls:\n",
    "    pickle.dump(model, cls)"
   ]
  },
  {
   "cell_type": "code",
   "execution_count": 204,
   "metadata": {},
   "outputs": [],
   "source": [
    "with open('c2_8.pk', 'rb') as nb:\n",
    "    model = pickle.load(nb)"
   ]
  },
  {
   "cell_type": "code",
   "execution_count": 205,
   "metadata": {},
   "outputs": [
    {
     "data": {
      "text/plain": [
       "array(['D06E', 'FDCF'], dtype='<U4')"
      ]
     },
     "execution_count": 205,
     "metadata": {},
     "output_type": "execute_result"
    }
   ],
   "source": [
    "# predict level 3 using level2 \n",
    "pred_level3h = model.predict(X_test)\n",
    "np.unique(pred_level3h)"
   ]
  },
  {
   "cell_type": "code",
   "execution_count": 206,
   "metadata": {},
   "outputs": [
    {
     "data": {
      "text/plain": [
       "0.015522107243650047"
      ]
     },
     "execution_count": 206,
     "metadata": {},
     "output_type": "execute_result"
    }
   ],
   "source": [
    "accuracy_level3h = accuracy_score(class3_te, pred_level3h)\n",
    "accuracy_level3h"
   ]
  },
  {
   "cell_type": "code",
   "execution_count": 207,
   "metadata": {},
   "outputs": [
    {
     "data": {
      "text/plain": [
       "MultinomialNB()"
      ]
     },
     "execution_count": 207,
     "metadata": {},
     "output_type": "execute_result"
    }
   ],
   "source": [
    "# c2_9: \n",
    "model.fit(X_train.loc[c2_9], class3[c2_9])"
   ]
  },
  {
   "cell_type": "code",
   "execution_count": 208,
   "metadata": {},
   "outputs": [],
   "source": [
    "# c2_9\n",
    "with open('c2_9.pk', 'wb') as cls:\n",
    "    pickle.dump(model, cls)"
   ]
  },
  {
   "cell_type": "code",
   "execution_count": 209,
   "metadata": {},
   "outputs": [],
   "source": [
    "with open('c2_9.pk', 'rb') as nb:\n",
    "    model = pickle.load(nb)"
   ]
  },
  {
   "cell_type": "code",
   "execution_count": 210,
   "metadata": {},
   "outputs": [
    {
     "data": {
      "text/plain": [
       "array(['7288'], dtype='<U4')"
      ]
     },
     "execution_count": 210,
     "metadata": {},
     "output_type": "execute_result"
    }
   ],
   "source": [
    "# predict level 3 using level2 \n",
    "pred_level3i = model.predict(X_test)\n",
    "np.unique(pred_level3i)"
   ]
  },
  {
   "cell_type": "code",
   "execution_count": 211,
   "metadata": {},
   "outputs": [
    {
     "data": {
      "text/plain": [
       "0.009877704609595485"
      ]
     },
     "execution_count": 211,
     "metadata": {},
     "output_type": "execute_result"
    }
   ],
   "source": [
    "accuracy_level3i = accuracy_score(class3_te, pred_level3i)\n",
    "accuracy_level3i"
   ]
  },
  {
   "cell_type": "code",
   "execution_count": 212,
   "metadata": {},
   "outputs": [
    {
     "data": {
      "text/plain": [
       "MultinomialNB()"
      ]
     },
     "execution_count": 212,
     "metadata": {},
     "output_type": "execute_result"
    }
   ],
   "source": [
    "# c2_10: \n",
    "model.fit(X_train.loc[c2_10], class3[c2_10])"
   ]
  },
  {
   "cell_type": "code",
   "execution_count": 213,
   "metadata": {},
   "outputs": [],
   "source": [
    "# c2_10\n",
    "with open('c2_10.pk', 'wb') as cls:\n",
    "    pickle.dump(model, cls)"
   ]
  },
  {
   "cell_type": "code",
   "execution_count": 214,
   "metadata": {},
   "outputs": [],
   "source": [
    "with open('c2_10.pk', 'rb') as nb:\n",
    "    model = pickle.load(nb)"
   ]
  },
  {
   "cell_type": "code",
   "execution_count": 215,
   "metadata": {},
   "outputs": [
    {
     "data": {
      "text/plain": [
       "array(['3918', '98CF', 'ED0D'], dtype='<U4')"
      ]
     },
     "execution_count": 215,
     "metadata": {},
     "output_type": "execute_result"
    }
   ],
   "source": [
    "# predict level 3 using level2 \n",
    "pred_level3j = model.predict(X_test)\n",
    "np.unique(pred_level3j)"
   ]
  },
  {
   "cell_type": "code",
   "execution_count": 216,
   "metadata": {},
   "outputs": [
    {
     "data": {
      "text/plain": [
       "0.022107243650047036"
      ]
     },
     "execution_count": 216,
     "metadata": {},
     "output_type": "execute_result"
    }
   ],
   "source": [
    "accuracy_level3j = accuracy_score(class3_te, pred_level3j)\n",
    "accuracy_level3j"
   ]
  },
  {
   "cell_type": "code",
   "execution_count": 217,
   "metadata": {},
   "outputs": [
    {
     "data": {
      "text/plain": [
       "MultinomialNB()"
      ]
     },
     "execution_count": 217,
     "metadata": {},
     "output_type": "execute_result"
    }
   ],
   "source": [
    "# c2_11: \n",
    "model.fit(X_train.loc[c2_11], class3[c2_11])"
   ]
  },
  {
   "cell_type": "code",
   "execution_count": 218,
   "metadata": {},
   "outputs": [],
   "source": [
    "# c2_11\n",
    "with open('c2_11.pk', 'wb') as cls:\n",
    "    pickle.dump(model, cls)"
   ]
  },
  {
   "cell_type": "code",
   "execution_count": 219,
   "metadata": {},
   "outputs": [],
   "source": [
    "with open('c2_11.pk', 'rb') as nb:\n",
    "    model = pickle.load(nb)"
   ]
  },
  {
   "cell_type": "code",
   "execution_count": 220,
   "metadata": {},
   "outputs": [
    {
     "data": {
      "text/plain": [
       "array(['20C0', '2ABA', '3E82'], dtype='<U4')"
      ]
     },
     "execution_count": 220,
     "metadata": {},
     "output_type": "execute_result"
    }
   ],
   "source": [
    "# predict level 3 using level2 \n",
    "pred_level3k = model.predict(X_test)\n",
    "np.unique(pred_level3k)"
   ]
  },
  {
   "cell_type": "code",
   "execution_count": 221,
   "metadata": {},
   "outputs": [
    {
     "data": {
      "text/plain": [
       "0.016933207902163686"
      ]
     },
     "execution_count": 221,
     "metadata": {},
     "output_type": "execute_result"
    }
   ],
   "source": [
    "accuracy_level3k = accuracy_score(class3_te, pred_level3k)\n",
    "accuracy_level3k"
   ]
  },
  {
   "cell_type": "code",
   "execution_count": 222,
   "metadata": {},
   "outputs": [
    {
     "data": {
      "text/plain": [
       "MultinomialNB()"
      ]
     },
     "execution_count": 222,
     "metadata": {},
     "output_type": "execute_result"
    }
   ],
   "source": [
    "# c2_12: \n",
    "model.fit(X_train.loc[c2_12], class3[c2_12])"
   ]
  },
  {
   "cell_type": "code",
   "execution_count": 223,
   "metadata": {},
   "outputs": [],
   "source": [
    "# c2_12\n",
    "with open('c2_12.pk', 'wb') as cls:\n",
    "    pickle.dump(model, cls)"
   ]
  },
  {
   "cell_type": "code",
   "execution_count": 224,
   "metadata": {},
   "outputs": [],
   "source": [
    "with open('c2_12.pk', 'rb') as nb:\n",
    "    model = pickle.load(nb)"
   ]
  },
  {
   "cell_type": "code",
   "execution_count": 225,
   "metadata": {},
   "outputs": [
    {
     "data": {
      "text/plain": [
       "array(['6856', '695D', '8B36', '8C88'], dtype='<U4')"
      ]
     },
     "execution_count": 225,
     "metadata": {},
     "output_type": "execute_result"
    }
   ],
   "source": [
    "# predict level 3 using level2 \n",
    "pred_level3l = model.predict(X_test)\n",
    "np.unique(pred_level3l)"
   ]
  },
  {
   "cell_type": "code",
   "execution_count": 226,
   "metadata": {},
   "outputs": [
    {
     "data": {
      "text/plain": [
       "0.015522107243650047"
      ]
     },
     "execution_count": 226,
     "metadata": {},
     "output_type": "execute_result"
    }
   ],
   "source": [
    "accuracy_level3l = accuracy_score(class3_te, pred_level3l)\n",
    "accuracy_level3l"
   ]
  },
  {
   "cell_type": "code",
   "execution_count": 227,
   "metadata": {},
   "outputs": [
    {
     "data": {
      "text/plain": [
       "MultinomialNB()"
      ]
     },
     "execution_count": 227,
     "metadata": {},
     "output_type": "execute_result"
    }
   ],
   "source": [
    "# c2_13: \n",
    "model.fit(X_train.loc[c2_13], class3[c2_13])"
   ]
  },
  {
   "cell_type": "code",
   "execution_count": 228,
   "metadata": {},
   "outputs": [],
   "source": [
    "# c2_13\n",
    "with open('c2_13.pk', 'wb') as cls:\n",
    "    pickle.dump(model, cls)"
   ]
  },
  {
   "cell_type": "code",
   "execution_count": 229,
   "metadata": {},
   "outputs": [],
   "source": [
    "with open('c2_13.pk', 'rb') as nb:\n",
    "    model = pickle.load(nb)"
   ]
  },
  {
   "cell_type": "code",
   "execution_count": 230,
   "metadata": {},
   "outputs": [
    {
     "data": {
      "text/plain": [
       "array(['21DA', 'AE8B', 'D436'], dtype='<U4')"
      ]
     },
     "execution_count": 230,
     "metadata": {},
     "output_type": "execute_result"
    }
   ],
   "source": [
    "# predict level 3 using level2 \n",
    "pred_level3m = model.predict(X_test)\n",
    "np.unique(pred_level3m)"
   ]
  },
  {
   "cell_type": "code",
   "execution_count": 231,
   "metadata": {},
   "outputs": [
    {
     "data": {
      "text/plain": [
       "0.01975540921919097"
      ]
     },
     "execution_count": 231,
     "metadata": {},
     "output_type": "execute_result"
    }
   ],
   "source": [
    "accuracy_level3m = accuracy_score(class3_te, pred_level3m)\n",
    "accuracy_level3m"
   ]
  },
  {
   "cell_type": "code",
   "execution_count": 232,
   "metadata": {},
   "outputs": [
    {
     "data": {
      "text/plain": [
       "MultinomialNB()"
      ]
     },
     "execution_count": 232,
     "metadata": {},
     "output_type": "execute_result"
    }
   ],
   "source": [
    "# c2_14: \n",
    "model.fit(X_train.loc[c2_14], class3[c2_14])"
   ]
  },
  {
   "cell_type": "code",
   "execution_count": 233,
   "metadata": {},
   "outputs": [],
   "source": [
    "# c2_14\n",
    "with open('c2_14.pk', 'wb') as cls:\n",
    "    pickle.dump(model, cls)"
   ]
  },
  {
   "cell_type": "code",
   "execution_count": 234,
   "metadata": {},
   "outputs": [],
   "source": [
    "with open('c2_14.pk', 'rb') as nb:\n",
    "    model = pickle.load(nb)"
   ]
  },
  {
   "cell_type": "code",
   "execution_count": 235,
   "metadata": {},
   "outputs": [
    {
     "data": {
      "text/plain": [
       "array(['05A0', '818C', 'E3E0'], dtype='<U4')"
      ]
     },
     "execution_count": 235,
     "metadata": {},
     "output_type": "execute_result"
    }
   ],
   "source": [
    "# predict level 3 using level2 \n",
    "pred_level3n = model.predict(X_test)\n",
    "np.unique(pred_level3n)"
   ]
  },
  {
   "cell_type": "code",
   "execution_count": 236,
   "metadata": {},
   "outputs": [
    {
     "data": {
      "text/plain": [
       "0.014111006585136407"
      ]
     },
     "execution_count": 236,
     "metadata": {},
     "output_type": "execute_result"
    }
   ],
   "source": [
    "accuracy_level3n = accuracy_score(class3_te, pred_level3n)\n",
    "accuracy_level3n"
   ]
  },
  {
   "cell_type": "code",
   "execution_count": 237,
   "metadata": {},
   "outputs": [
    {
     "data": {
      "text/plain": [
       "MultinomialNB()"
      ]
     },
     "execution_count": 237,
     "metadata": {},
     "output_type": "execute_result"
    }
   ],
   "source": [
    "# c2_15: \n",
    "model.fit(X_train.loc[c2_15], class3[c2_15])"
   ]
  },
  {
   "cell_type": "code",
   "execution_count": 238,
   "metadata": {},
   "outputs": [],
   "source": [
    "# c2_15\n",
    "with open('c2_15.pk', 'wb') as cls:\n",
    "    pickle.dump(model, cls)"
   ]
  },
  {
   "cell_type": "code",
   "execution_count": 239,
   "metadata": {},
   "outputs": [],
   "source": [
    "with open('c2_15.pk', 'rb') as nb:\n",
    "    model = pickle.load(nb)"
   ]
  },
  {
   "cell_type": "code",
   "execution_count": 240,
   "metadata": {},
   "outputs": [
    {
     "data": {
      "text/plain": [
       "array(['2E14'], dtype='<U4')"
      ]
     },
     "execution_count": 240,
     "metadata": {},
     "output_type": "execute_result"
    }
   ],
   "source": [
    "# predict level 3 using level2 \n",
    "pred_level3o = model.predict(X_test)\n",
    "np.unique(pred_level3o)"
   ]
  },
  {
   "cell_type": "code",
   "execution_count": 241,
   "metadata": {},
   "outputs": [
    {
     "data": {
      "text/plain": [
       "0.008936970837253057"
      ]
     },
     "execution_count": 241,
     "metadata": {},
     "output_type": "execute_result"
    }
   ],
   "source": [
    "accuracy_level3o = accuracy_score(class3_te, pred_level3o)\n",
    "accuracy_level3o"
   ]
  },
  {
   "cell_type": "code",
   "execution_count": 242,
   "metadata": {},
   "outputs": [
    {
     "data": {
      "text/plain": [
       "MultinomialNB()"
      ]
     },
     "execution_count": 242,
     "metadata": {},
     "output_type": "execute_result"
    }
   ],
   "source": [
    "# c2_16: \n",
    "model.fit(X_train.loc[c2_16], class3[c2_16])"
   ]
  },
  {
   "cell_type": "code",
   "execution_count": 243,
   "metadata": {},
   "outputs": [],
   "source": [
    "# c2_16\n",
    "with open('c2_16.pk', 'wb') as cls:\n",
    "    pickle.dump(model, cls)"
   ]
  },
  {
   "cell_type": "code",
   "execution_count": 244,
   "metadata": {},
   "outputs": [],
   "source": [
    "with open('c2_16.pk', 'rb') as nb:\n",
    "    model = pickle.load(nb)"
   ]
  },
  {
   "cell_type": "code",
   "execution_count": 245,
   "metadata": {},
   "outputs": [
    {
     "data": {
      "text/plain": [
       "array(['3DD3'], dtype='<U4')"
      ]
     },
     "execution_count": 245,
     "metadata": {},
     "output_type": "execute_result"
    }
   ],
   "source": [
    "# predict level 3 using level2 \n",
    "pred_level3p = model.predict(X_test)\n",
    "np.unique(pred_level3p)"
   ]
  },
  {
   "cell_type": "code",
   "execution_count": 246,
   "metadata": {},
   "outputs": [
    {
     "data": {
      "text/plain": [
       "0.0051740357478833494"
      ]
     },
     "execution_count": 246,
     "metadata": {},
     "output_type": "execute_result"
    }
   ],
   "source": [
    "accuracy_level3p = accuracy_score(class3_te, pred_level3p)\n",
    "accuracy_level3p"
   ]
  },
  {
   "cell_type": "code",
   "execution_count": 247,
   "metadata": {},
   "outputs": [
    {
     "data": {
      "text/plain": [
       "MultinomialNB()"
      ]
     },
     "execution_count": 247,
     "metadata": {},
     "output_type": "execute_result"
    }
   ],
   "source": [
    "# c2_17: \n",
    "model.fit(X_train.loc[c2_17], class3[c2_17])"
   ]
  },
  {
   "cell_type": "code",
   "execution_count": 248,
   "metadata": {},
   "outputs": [],
   "source": [
    "# c2_17\n",
    "with open('c2_17.pk', 'wb') as cls:\n",
    "    pickle.dump(model, cls)"
   ]
  },
  {
   "cell_type": "code",
   "execution_count": 249,
   "metadata": {},
   "outputs": [],
   "source": [
    "with open('c2_17.pk', 'rb') as nb:\n",
    "    model = pickle.load(nb)"
   ]
  },
  {
   "cell_type": "code",
   "execution_count": 250,
   "metadata": {},
   "outputs": [
    {
     "data": {
      "text/plain": [
       "array(['DDD5'], dtype='<U4')"
      ]
     },
     "execution_count": 250,
     "metadata": {},
     "output_type": "execute_result"
    }
   ],
   "source": [
    "# predict level 3 using level2 \n",
    "pred_level3q = model.predict(X_test)\n",
    "np.unique(pred_level3q)"
   ]
  },
  {
   "cell_type": "code",
   "execution_count": 251,
   "metadata": {},
   "outputs": [
    {
     "data": {
      "text/plain": [
       "0.011759172154280339"
      ]
     },
     "execution_count": 251,
     "metadata": {},
     "output_type": "execute_result"
    }
   ],
   "source": [
    "accuracy_level3q = accuracy_score(class3_te, pred_level3q)\n",
    "accuracy_level3q"
   ]
  },
  {
   "cell_type": "code",
   "execution_count": 252,
   "metadata": {},
   "outputs": [
    {
     "data": {
      "text/plain": [
       "MultinomialNB()"
      ]
     },
     "execution_count": 252,
     "metadata": {},
     "output_type": "execute_result"
    }
   ],
   "source": [
    "# c2_18: \n",
    "model.fit(X_train.loc[c2_18], class3[c2_18])"
   ]
  },
  {
   "cell_type": "code",
   "execution_count": 253,
   "metadata": {},
   "outputs": [],
   "source": [
    "# c2_18\n",
    "with open('c2_18.pk', 'wb') as cls:\n",
    "    pickle.dump(model, cls)"
   ]
  },
  {
   "cell_type": "code",
   "execution_count": 254,
   "metadata": {},
   "outputs": [],
   "source": [
    "with open('c2_18.pk', 'rb') as nb:\n",
    "    model = pickle.load(nb)"
   ]
  },
  {
   "cell_type": "code",
   "execution_count": 255,
   "metadata": {},
   "outputs": [
    {
     "data": {
      "text/plain": [
       "array(['1F75', '5B02', '7C00', 'B183'], dtype='<U4')"
      ]
     },
     "execution_count": 255,
     "metadata": {},
     "output_type": "execute_result"
    }
   ],
   "source": [
    "# predict level 3 using level2 \n",
    "pred_level3r = model.predict(X_test)\n",
    "np.unique(pred_level3r)"
   ]
  },
  {
   "cell_type": "code",
   "execution_count": 256,
   "metadata": {},
   "outputs": [
    {
     "data": {
      "text/plain": [
       "0.01317027281279398"
      ]
     },
     "execution_count": 256,
     "metadata": {},
     "output_type": "execute_result"
    }
   ],
   "source": [
    "accuracy_level3r = accuracy_score(class3_te, pred_level3r)\n",
    "accuracy_level3r"
   ]
  },
  {
   "cell_type": "code",
   "execution_count": 257,
   "metadata": {},
   "outputs": [
    {
     "data": {
      "text/plain": [
       "MultinomialNB()"
      ]
     },
     "execution_count": 257,
     "metadata": {},
     "output_type": "execute_result"
    }
   ],
   "source": [
    "# c2_19: \n",
    "model.fit(X_train.loc[c2_19], class3[c2_19])"
   ]
  },
  {
   "cell_type": "code",
   "execution_count": 258,
   "metadata": {},
   "outputs": [],
   "source": [
    "# c2_19\n",
    "with open('c2_19.pk', 'wb') as cls:\n",
    "    pickle.dump(model, cls)"
   ]
  },
  {
   "cell_type": "code",
   "execution_count": 259,
   "metadata": {},
   "outputs": [],
   "source": [
    "# c2_19\n",
    "with open('c2_19.pk', 'rb') as nb:\n",
    "    model = pickle.load(nb)"
   ]
  },
  {
   "cell_type": "code",
   "execution_count": 260,
   "metadata": {},
   "outputs": [
    {
     "data": {
      "text/plain": [
       "array(['F213'], dtype='<U4')"
      ]
     },
     "execution_count": 260,
     "metadata": {},
     "output_type": "execute_result"
    }
   ],
   "source": [
    "# predict level 3 using level2 \n",
    "pred_level3s = model.predict(X_test)\n",
    "np.unique(pred_level3s)"
   ]
  },
  {
   "cell_type": "code",
   "execution_count": 261,
   "metadata": {},
   "outputs": [
    {
     "data": {
      "text/plain": [
       "0.0051740357478833494"
      ]
     },
     "execution_count": 261,
     "metadata": {},
     "output_type": "execute_result"
    }
   ],
   "source": [
    "accuracy_level3s = accuracy_score(class3_te, pred_level3s)\n",
    "accuracy_level3s"
   ]
  },
  {
   "cell_type": "code",
   "execution_count": null,
   "metadata": {},
   "outputs": [],
   "source": [
    "# c2_20: \n",
    "model.fit(X_train.loc[c2_20], class3[c2_20])"
   ]
  },
  {
   "cell_type": "code",
   "execution_count": 262,
   "metadata": {},
   "outputs": [],
   "source": [
    "# c2_20\n",
    "with open('c2_20.pk', 'wb') as cls:\n",
    "    pickle.dump(model, cls)"
   ]
  },
  {
   "cell_type": "code",
   "execution_count": 263,
   "metadata": {},
   "outputs": [],
   "source": [
    "# c2_20\n",
    "with open('c2_20.pk', 'rb') as nb:\n",
    "    model = pickle.load(nb)"
   ]
  },
  {
   "cell_type": "code",
   "execution_count": 264,
   "metadata": {},
   "outputs": [
    {
     "data": {
      "text/plain": [
       "array(['F213'], dtype='<U4')"
      ]
     },
     "execution_count": 264,
     "metadata": {},
     "output_type": "execute_result"
    }
   ],
   "source": [
    "# predict level 3 using level2 \n",
    "pred_level3t = model.predict(X_test)\n",
    "np.unique(pred_level3t)"
   ]
  },
  {
   "cell_type": "code",
   "execution_count": 265,
   "metadata": {},
   "outputs": [
    {
     "data": {
      "text/plain": [
       "0.0051740357478833494"
      ]
     },
     "execution_count": 265,
     "metadata": {},
     "output_type": "execute_result"
    }
   ],
   "source": [
    "accuracy_level3t = accuracy_score(class3_te, pred_level3t)\n",
    "accuracy_level3t"
   ]
  },
  {
   "cell_type": "code",
   "execution_count": 266,
   "metadata": {},
   "outputs": [
    {
     "data": {
      "text/plain": [
       "MultinomialNB()"
      ]
     },
     "execution_count": 266,
     "metadata": {},
     "output_type": "execute_result"
    }
   ],
   "source": [
    "# c2_21: \n",
    "model.fit(X_train.loc[c2_21], class3[c2_21])"
   ]
  },
  {
   "cell_type": "code",
   "execution_count": 267,
   "metadata": {},
   "outputs": [],
   "source": [
    "# c2_21\n",
    "with open('c2_21.pk', 'wb') as cls:\n",
    "    pickle.dump(model, cls)"
   ]
  },
  {
   "cell_type": "code",
   "execution_count": 268,
   "metadata": {},
   "outputs": [],
   "source": [
    "# c2_21\n",
    "with open('c2_21.pk', 'rb') as nb:\n",
    "    model = pickle.load(nb)"
   ]
  },
  {
   "cell_type": "code",
   "execution_count": 269,
   "metadata": {},
   "outputs": [
    {
     "data": {
      "text/plain": [
       "array(['96B8'], dtype='<U4')"
      ]
     },
     "execution_count": 269,
     "metadata": {},
     "output_type": "execute_result"
    }
   ],
   "source": [
    "# predict level 3 using level2 \n",
    "pred_level3u = model.predict(X_test)\n",
    "np.unique(pred_level3u)"
   ]
  },
  {
   "cell_type": "code",
   "execution_count": 270,
   "metadata": {},
   "outputs": [
    {
     "data": {
      "text/plain": [
       "0.0009407337723424271"
      ]
     },
     "execution_count": 270,
     "metadata": {},
     "output_type": "execute_result"
    }
   ],
   "source": [
    "accuracy_level3u = accuracy_score(class3_te, pred_level3u)\n",
    "accuracy_level3u"
   ]
  },
  {
   "cell_type": "code",
   "execution_count": 271,
   "metadata": {},
   "outputs": [
    {
     "data": {
      "text/plain": [
       "MultinomialNB()"
      ]
     },
     "execution_count": 271,
     "metadata": {},
     "output_type": "execute_result"
    }
   ],
   "source": [
    "# c2_22: \n",
    "model.fit(X_train.loc[c2_22], class3[c2_22])"
   ]
  },
  {
   "cell_type": "code",
   "execution_count": 272,
   "metadata": {},
   "outputs": [],
   "source": [
    "# c2_22\n",
    "with open('c2_22.pk', 'wb') as cls:\n",
    "    pickle.dump(model, cls)"
   ]
  },
  {
   "cell_type": "code",
   "execution_count": 273,
   "metadata": {},
   "outputs": [],
   "source": [
    "# c2_22\n",
    "with open('c2_22.pk', 'rb') as nb:\n",
    "    model = pickle.load(nb)"
   ]
  },
  {
   "cell_type": "code",
   "execution_count": 274,
   "metadata": {},
   "outputs": [
    {
     "data": {
      "text/plain": [
       "array(['0F8B', '2C26'], dtype='<U4')"
      ]
     },
     "execution_count": 274,
     "metadata": {},
     "output_type": "execute_result"
    }
   ],
   "source": [
    "# predict level 3 using level2 \n",
    "pred_level3v = model.predict(X_test)\n",
    "np.unique(pred_level3v)"
   ]
  },
  {
   "cell_type": "code",
   "execution_count": 275,
   "metadata": {},
   "outputs": [
    {
     "data": {
      "text/plain": [
       "0.01975540921919097"
      ]
     },
     "execution_count": 275,
     "metadata": {},
     "output_type": "execute_result"
    }
   ],
   "source": [
    "accuracy_level3v = accuracy_score(class3_te, pred_level3v)\n",
    "accuracy_level3v"
   ]
  },
  {
   "cell_type": "code",
   "execution_count": 276,
   "metadata": {},
   "outputs": [
    {
     "data": {
      "text/plain": [
       "MultinomialNB()"
      ]
     },
     "execution_count": 276,
     "metadata": {},
     "output_type": "execute_result"
    }
   ],
   "source": [
    "# c2_23: \n",
    "model.fit(X_train.loc[c2_23], class3[c2_23])"
   ]
  },
  {
   "cell_type": "code",
   "execution_count": 277,
   "metadata": {},
   "outputs": [],
   "source": [
    "# c2_23\n",
    "with open('c2_23.pk', 'wb') as cls:\n",
    "    pickle.dump(model, cls)"
   ]
  },
  {
   "cell_type": "code",
   "execution_count": 278,
   "metadata": {},
   "outputs": [],
   "source": [
    "# c2_23\n",
    "with open('c2_23.pk', 'rb') as nb:\n",
    "    model = pickle.load(nb)"
   ]
  },
  {
   "cell_type": "code",
   "execution_count": 279,
   "metadata": {},
   "outputs": [
    {
     "data": {
      "text/plain": [
       "array(['5912', 'BB6B'], dtype='<U4')"
      ]
     },
     "execution_count": 279,
     "metadata": {},
     "output_type": "execute_result"
    }
   ],
   "source": [
    "# predict level 3 using level2 \n",
    "pred_level3w = model.predict(X_test)\n",
    "np.unique(pred_level3w)"
   ]
  },
  {
   "cell_type": "code",
   "execution_count": 280,
   "metadata": {},
   "outputs": [
    {
     "data": {
      "text/plain": [
       "0.017873941674506115"
      ]
     },
     "execution_count": 280,
     "metadata": {},
     "output_type": "execute_result"
    }
   ],
   "source": [
    "accuracy_level3w = accuracy_score(class3_te, pred_level3w)\n",
    "accuracy_level3w"
   ]
  },
  {
   "cell_type": "code",
   "execution_count": 281,
   "metadata": {},
   "outputs": [
    {
     "data": {
      "text/plain": [
       "MultinomialNB()"
      ]
     },
     "execution_count": 281,
     "metadata": {},
     "output_type": "execute_result"
    }
   ],
   "source": [
    "# c2_24: \n",
    "model.fit(X_train.loc[c2_24], class3[c2_24])"
   ]
  },
  {
   "cell_type": "code",
   "execution_count": 282,
   "metadata": {},
   "outputs": [],
   "source": [
    "# c2_24\n",
    "with open('c2_24.pk', 'wb') as cls:\n",
    "    pickle.dump(model, cls)"
   ]
  },
  {
   "cell_type": "code",
   "execution_count": 283,
   "metadata": {},
   "outputs": [],
   "source": [
    "# c2_24\n",
    "with open('c2_24.pk', 'rb') as nb:\n",
    "    model = pickle.load(nb)"
   ]
  },
  {
   "cell_type": "code",
   "execution_count": 284,
   "metadata": {},
   "outputs": [
    {
     "data": {
      "text/plain": [
       "array(['0CB9', '28A7', '4A72'], dtype='<U4')"
      ]
     },
     "execution_count": 284,
     "metadata": {},
     "output_type": "execute_result"
    }
   ],
   "source": [
    "# predict level 3 using level2 \n",
    "pred_level3x = model.predict(X_test)\n",
    "np.unique(pred_level3x)"
   ]
  },
  {
   "cell_type": "code",
   "execution_count": 285,
   "metadata": {},
   "outputs": [
    {
     "data": {
      "text/plain": [
       "0.02916274694261524"
      ]
     },
     "execution_count": 285,
     "metadata": {},
     "output_type": "execute_result"
    }
   ],
   "source": [
    "accuracy_level3x = accuracy_score(class3_te, pred_level3x)\n",
    "accuracy_level3x"
   ]
  },
  {
   "cell_type": "code",
   "execution_count": 286,
   "metadata": {},
   "outputs": [
    {
     "data": {
      "text/plain": [
       "MultinomialNB()"
      ]
     },
     "execution_count": 286,
     "metadata": {},
     "output_type": "execute_result"
    }
   ],
   "source": [
    "# c2_25: \n",
    "model.fit(X_train.loc[c2_25], class3[c2_25])"
   ]
  },
  {
   "cell_type": "code",
   "execution_count": 287,
   "metadata": {},
   "outputs": [],
   "source": [
    "# c2_25\n",
    "with open('c2_25.pk', 'wb') as cls:\n",
    "    pickle.dump(model, cls)"
   ]
  },
  {
   "cell_type": "code",
   "execution_count": 288,
   "metadata": {},
   "outputs": [],
   "source": [
    "# c2_25\n",
    "with open('c2_25.pk', 'rb') as nb:\n",
    "    model = pickle.load(nb)"
   ]
  },
  {
   "cell_type": "code",
   "execution_count": 289,
   "metadata": {},
   "outputs": [
    {
     "data": {
      "text/plain": [
       "array(['1000'], dtype='<U4')"
      ]
     },
     "execution_count": 289,
     "metadata": {},
     "output_type": "execute_result"
    }
   ],
   "source": [
    "# predict level 3 using level2 \n",
    "pred_level3y = model.predict(X_test)\n",
    "np.unique(pred_level3y)"
   ]
  },
  {
   "cell_type": "code",
   "execution_count": 290,
   "metadata": {},
   "outputs": [
    {
     "data": {
      "text/plain": [
       "0.0037629350893697085"
      ]
     },
     "execution_count": 290,
     "metadata": {},
     "output_type": "execute_result"
    }
   ],
   "source": [
    "accuracy_level3y = accuracy_score(class3_te, pred_level3y)\n",
    "accuracy_level3y"
   ]
  },
  {
   "cell_type": "code",
   "execution_count": 291,
   "metadata": {},
   "outputs": [
    {
     "data": {
      "text/plain": [
       "MultinomialNB()"
      ]
     },
     "execution_count": 291,
     "metadata": {},
     "output_type": "execute_result"
    }
   ],
   "source": [
    "# c2_26: \n",
    "model.fit(X_train.loc[c2_26], class3[c2_26])"
   ]
  },
  {
   "cell_type": "code",
   "execution_count": 292,
   "metadata": {},
   "outputs": [],
   "source": [
    "# c2_26\n",
    "with open('c2_26.pk', 'wb') as cls:\n",
    "    pickle.dump(model, cls)"
   ]
  },
  {
   "cell_type": "code",
   "execution_count": 293,
   "metadata": {},
   "outputs": [],
   "source": [
    "# c2_26\n",
    "with open('c2_26.pk', 'rb') as nb:\n",
    "    model = pickle.load(nb)"
   ]
  },
  {
   "cell_type": "code",
   "execution_count": 294,
   "metadata": {},
   "outputs": [
    {
     "data": {
      "text/plain": [
       "array(['A0E2'], dtype='<U4')"
      ]
     },
     "execution_count": 294,
     "metadata": {},
     "output_type": "execute_result"
    }
   ],
   "source": [
    "# predict level 3 using level2 \n",
    "pred_level3z = model.predict(X_test)\n",
    "np.unique(pred_level3z)"
   ]
  },
  {
   "cell_type": "code",
   "execution_count": 295,
   "metadata": {},
   "outputs": [
    {
     "data": {
      "text/plain": [
       "0.023047977422389464"
      ]
     },
     "execution_count": 295,
     "metadata": {},
     "output_type": "execute_result"
    }
   ],
   "source": [
    "accuracy_level3z = accuracy_score(class3_te, pred_level3z)\n",
    "accuracy_level3z"
   ]
  },
  {
   "cell_type": "code",
   "execution_count": 296,
   "metadata": {},
   "outputs": [
    {
     "data": {
      "text/plain": [
       "MultinomialNB()"
      ]
     },
     "execution_count": 296,
     "metadata": {},
     "output_type": "execute_result"
    }
   ],
   "source": [
    "# c2_27: \n",
    "model.fit(X_train.loc[c2_27], class3[c2_27])"
   ]
  },
  {
   "cell_type": "code",
   "execution_count": 297,
   "metadata": {},
   "outputs": [],
   "source": [
    "# c2_27\n",
    "with open('c2_27.pk', 'wb') as cls:\n",
    "    pickle.dump(model, cls)"
   ]
  },
  {
   "cell_type": "code",
   "execution_count": 298,
   "metadata": {},
   "outputs": [],
   "source": [
    "# c2_27\n",
    "with open('c2_27.pk', 'rb') as nb:\n",
    "    model = pickle.load(nb)"
   ]
  },
  {
   "cell_type": "code",
   "execution_count": 299,
   "metadata": {},
   "outputs": [
    {
     "data": {
      "text/plain": [
       "array(['5F7C', 'C563'], dtype='<U4')"
      ]
     },
     "execution_count": 299,
     "metadata": {},
     "output_type": "execute_result"
    }
   ],
   "source": [
    "# predict level 3 using level2 \n",
    "pred_level3aa = model.predict(X_test)\n",
    "np.unique(pred_level3aa)"
   ]
  },
  {
   "cell_type": "code",
   "execution_count": 300,
   "metadata": {},
   "outputs": [
    {
     "data": {
      "text/plain": [
       "0.00658513640639699"
      ]
     },
     "execution_count": 300,
     "metadata": {},
     "output_type": "execute_result"
    }
   ],
   "source": [
    "accuracy_level3aa = accuracy_score(class3_te, pred_level3aa)\n",
    "accuracy_level3aa"
   ]
  },
  {
   "cell_type": "code",
   "execution_count": 301,
   "metadata": {},
   "outputs": [
    {
     "data": {
      "text/plain": [
       "MultinomialNB()"
      ]
     },
     "execution_count": 301,
     "metadata": {},
     "output_type": "execute_result"
    }
   ],
   "source": [
    "# c2_28: \n",
    "model.fit(X_train.loc[c2_28], class3[c2_28])"
   ]
  },
  {
   "cell_type": "code",
   "execution_count": 302,
   "metadata": {},
   "outputs": [],
   "source": [
    "# c2_28\n",
    "with open('c2_28.pk', 'wb') as cls:\n",
    "    pickle.dump(model, cls)"
   ]
  },
  {
   "cell_type": "code",
   "execution_count": 303,
   "metadata": {},
   "outputs": [],
   "source": [
    "# c2_28\n",
    "with open('c2_28.pk', 'rb') as nb:\n",
    "    model = pickle.load(nb)"
   ]
  },
  {
   "cell_type": "code",
   "execution_count": 304,
   "metadata": {},
   "outputs": [
    {
     "data": {
      "text/plain": [
       "array(['3E60', 'C5B4'], dtype='<U4')"
      ]
     },
     "execution_count": 304,
     "metadata": {},
     "output_type": "execute_result"
    }
   ],
   "source": [
    "# predict level 3 using level2 \n",
    "pred_level3bb = model.predict(X_test)\n",
    "np.unique(pred_level3bb)"
   ]
  },
  {
   "cell_type": "code",
   "execution_count": 305,
   "metadata": {},
   "outputs": [
    {
     "data": {
      "text/plain": [
       "0.021636876763875823"
      ]
     },
     "execution_count": 305,
     "metadata": {},
     "output_type": "execute_result"
    }
   ],
   "source": [
    "accuracy_level3bb = accuracy_score(class3_te, pred_level3bb)\n",
    "accuracy_level3bb"
   ]
  },
  {
   "cell_type": "code",
   "execution_count": 306,
   "metadata": {},
   "outputs": [
    {
     "data": {
      "text/plain": [
       "MultinomialNB()"
      ]
     },
     "execution_count": 306,
     "metadata": {},
     "output_type": "execute_result"
    }
   ],
   "source": [
    "# c2_29: \n",
    "model.fit(X_train.loc[c2_29], class3[c2_29])"
   ]
  },
  {
   "cell_type": "code",
   "execution_count": 307,
   "metadata": {},
   "outputs": [],
   "source": [
    "# c2_29\n",
    "with open('c2_29.pk', 'wb') as cls:\n",
    "    pickle.dump(model, cls)"
   ]
  },
  {
   "cell_type": "code",
   "execution_count": 308,
   "metadata": {},
   "outputs": [],
   "source": [
    "# c2_29\n",
    "with open('c2_29.pk', 'rb') as nb:\n",
    "    model = pickle.load(nb)"
   ]
  },
  {
   "cell_type": "code",
   "execution_count": 309,
   "metadata": {},
   "outputs": [
    {
     "data": {
      "text/plain": [
       "array(['D97D', 'F72B'], dtype='<U4')"
      ]
     },
     "execution_count": 309,
     "metadata": {},
     "output_type": "execute_result"
    }
   ],
   "source": [
    "# predict level 3 using level2 \n",
    "pred_level3cc = model.predict(X_test)\n",
    "np.unique(pred_level3cc)"
   ]
  },
  {
   "cell_type": "code",
   "execution_count": 310,
   "metadata": {},
   "outputs": [
    {
     "data": {
      "text/plain": [
       "0.015522107243650047"
      ]
     },
     "execution_count": 310,
     "metadata": {},
     "output_type": "execute_result"
    }
   ],
   "source": [
    "accuracy_level3cc = accuracy_score(class3_te, pred_level3cc)\n",
    "accuracy_level3cc"
   ]
  },
  {
   "cell_type": "code",
   "execution_count": 311,
   "metadata": {},
   "outputs": [
    {
     "data": {
      "text/plain": [
       "MultinomialNB()"
      ]
     },
     "execution_count": 311,
     "metadata": {},
     "output_type": "execute_result"
    }
   ],
   "source": [
    "# c2_30: \n",
    "model.fit(X_train.loc[c2_30], class3[c2_30])"
   ]
  },
  {
   "cell_type": "code",
   "execution_count": 312,
   "metadata": {},
   "outputs": [],
   "source": [
    "# c2_30\n",
    "with open('c2_30.pk', 'wb') as cls:\n",
    "    pickle.dump(model, cls)"
   ]
  },
  {
   "cell_type": "code",
   "execution_count": 313,
   "metadata": {},
   "outputs": [],
   "source": [
    "# c2_30\n",
    "with open('c2_30.pk', 'rb') as nb:\n",
    "    model = pickle.load(nb)"
   ]
  },
  {
   "cell_type": "code",
   "execution_count": 314,
   "metadata": {},
   "outputs": [
    {
     "data": {
      "text/plain": [
       "array(['80C4', 'D579'], dtype='<U4')"
      ]
     },
     "execution_count": 314,
     "metadata": {},
     "output_type": "execute_result"
    }
   ],
   "source": [
    "# predict level 3 using level2 \n",
    "pred_level3dd = model.predict(X_test)\n",
    "np.unique(pred_level3dd)"
   ]
  },
  {
   "cell_type": "code",
   "execution_count": 315,
   "metadata": {},
   "outputs": [
    {
     "data": {
      "text/plain": [
       "0.01458137347130762"
      ]
     },
     "execution_count": 315,
     "metadata": {},
     "output_type": "execute_result"
    }
   ],
   "source": [
    "accuracy_level3dd = accuracy_score(class3_te, pred_level3dd)\n",
    "accuracy_level3dd"
   ]
  },
  {
   "cell_type": "code",
   "execution_count": 316,
   "metadata": {},
   "outputs": [
    {
     "data": {
      "text/plain": [
       "MultinomialNB()"
      ]
     },
     "execution_count": 316,
     "metadata": {},
     "output_type": "execute_result"
    }
   ],
   "source": [
    "# c2_31: \n",
    "model.fit(X_train.loc[c2_31], class3[c2_31])"
   ]
  },
  {
   "cell_type": "code",
   "execution_count": 317,
   "metadata": {},
   "outputs": [],
   "source": [
    "# c2_31\n",
    "with open('c2_31.pk', 'wb') as cls:\n",
    "    pickle.dump(model, cls)"
   ]
  },
  {
   "cell_type": "code",
   "execution_count": 318,
   "metadata": {},
   "outputs": [],
   "source": [
    "# c2_31\n",
    "with open('c2_31.pk', 'rb') as nb:\n",
    "    model = pickle.load(nb)"
   ]
  },
  {
   "cell_type": "code",
   "execution_count": 319,
   "metadata": {},
   "outputs": [
    {
     "data": {
      "text/plain": [
       "array(['1F61'], dtype='<U4')"
      ]
     },
     "execution_count": 319,
     "metadata": {},
     "output_type": "execute_result"
    }
   ],
   "source": [
    "# predict level 3 using level2 \n",
    "pred_level3ee = model.predict(X_test)\n",
    "np.unique(pred_level3ee)"
   ]
  },
  {
   "cell_type": "code",
   "execution_count": 320,
   "metadata": {},
   "outputs": [
    {
     "data": {
      "text/plain": [
       "0.016462841015992474"
      ]
     },
     "execution_count": 320,
     "metadata": {},
     "output_type": "execute_result"
    }
   ],
   "source": [
    "accuracy_level3ee = accuracy_score(class3_te, pred_level3ee)\n",
    "accuracy_level3ee"
   ]
  },
  {
   "cell_type": "code",
   "execution_count": 321,
   "metadata": {},
   "outputs": [
    {
     "data": {
      "text/plain": [
       "MultinomialNB()"
      ]
     },
     "execution_count": 321,
     "metadata": {},
     "output_type": "execute_result"
    }
   ],
   "source": [
    "# c2_32: \n",
    "model.fit(X_train.loc[c2_32], class3[c2_32])"
   ]
  },
  {
   "cell_type": "code",
   "execution_count": 322,
   "metadata": {},
   "outputs": [],
   "source": [
    "# c2_32\n",
    "with open('c2_32.pk', 'wb') as cls:\n",
    "    pickle.dump(model, cls)"
   ]
  },
  {
   "cell_type": "code",
   "execution_count": 323,
   "metadata": {},
   "outputs": [],
   "source": [
    "# c2_32\n",
    "with open('c2_32.pk', 'rb') as nb:\n",
    "    model = pickle.load(nb)"
   ]
  },
  {
   "cell_type": "code",
   "execution_count": 324,
   "metadata": {},
   "outputs": [
    {
     "data": {
      "text/plain": [
       "array(['2CFE', 'AA6B'], dtype='<U4')"
      ]
     },
     "execution_count": 324,
     "metadata": {},
     "output_type": "execute_result"
    }
   ],
   "source": [
    "# predict level 3 using level2 \n",
    "pred_level3ff = model.predict(X_test)\n",
    "np.unique(pred_level3ff)"
   ]
  },
  {
   "cell_type": "code",
   "execution_count": 325,
   "metadata": {},
   "outputs": [
    {
     "data": {
      "text/plain": [
       "0.02634054562558796"
      ]
     },
     "execution_count": 325,
     "metadata": {},
     "output_type": "execute_result"
    }
   ],
   "source": [
    "accuracy_level3ff = accuracy_score(class3_te, pred_level3ff)\n",
    "accuracy_level3ff"
   ]
  },
  {
   "cell_type": "code",
   "execution_count": 326,
   "metadata": {},
   "outputs": [
    {
     "data": {
      "text/plain": [
       "MultinomialNB()"
      ]
     },
     "execution_count": 326,
     "metadata": {},
     "output_type": "execute_result"
    }
   ],
   "source": [
    "# c2_33: \n",
    "model.fit(X_train.loc[c2_33], class3[c2_33])"
   ]
  },
  {
   "cell_type": "code",
   "execution_count": 327,
   "metadata": {},
   "outputs": [],
   "source": [
    "# c2_33\n",
    "with open('c2_33.pk', 'wb') as cls:\n",
    "    pickle.dump(model, cls)"
   ]
  },
  {
   "cell_type": "code",
   "execution_count": 328,
   "metadata": {},
   "outputs": [],
   "source": [
    "# c2_33\n",
    "with open('c2_33.pk', 'rb') as nb:\n",
    "    model = pickle.load(nb)"
   ]
  },
  {
   "cell_type": "code",
   "execution_count": 329,
   "metadata": {},
   "outputs": [
    {
     "data": {
      "text/plain": [
       "array(['33D1', '9203'], dtype='<U4')"
      ]
     },
     "execution_count": 329,
     "metadata": {},
     "output_type": "execute_result"
    }
   ],
   "source": [
    "# predict level 3 using level2 \n",
    "pred_level3gg = model.predict(X_test)\n",
    "np.unique(pred_level3gg)"
   ]
  },
  {
   "cell_type": "code",
   "execution_count": 330,
   "metadata": {},
   "outputs": [
    {
     "data": {
      "text/plain": [
       "0.01975540921919097"
      ]
     },
     "execution_count": 330,
     "metadata": {},
     "output_type": "execute_result"
    }
   ],
   "source": [
    "accuracy_level3gg = accuracy_score(class3_te, pred_level3gg)\n",
    "accuracy_level3gg"
   ]
  },
  {
   "cell_type": "code",
   "execution_count": 331,
   "metadata": {},
   "outputs": [
    {
     "data": {
      "text/plain": [
       "MultinomialNB()"
      ]
     },
     "execution_count": 331,
     "metadata": {},
     "output_type": "execute_result"
    }
   ],
   "source": [
    "# c2_34: \n",
    "model.fit(X_train.loc[c2_34], class3[c2_34])"
   ]
  },
  {
   "cell_type": "code",
   "execution_count": 332,
   "metadata": {},
   "outputs": [],
   "source": [
    "# c2_34\n",
    "with open('c2_34.pk', 'wb') as cls:\n",
    "    pickle.dump(model, cls)"
   ]
  },
  {
   "cell_type": "code",
   "execution_count": 333,
   "metadata": {},
   "outputs": [],
   "source": [
    "# c2_34\n",
    "with open('c2_34.pk', 'rb') as nb:\n",
    "    model = pickle.load(nb)"
   ]
  },
  {
   "cell_type": "code",
   "execution_count": 334,
   "metadata": {},
   "outputs": [
    {
     "data": {
      "text/plain": [
       "array(['02B3', '078B'], dtype='<U4')"
      ]
     },
     "execution_count": 334,
     "metadata": {},
     "output_type": "execute_result"
    }
   ],
   "source": [
    "# predict level 3 using level2 \n",
    "pred_level3hh = model.predict(X_test)\n",
    "np.unique(pred_level3hh)"
   ]
  },
  {
   "cell_type": "code",
   "execution_count": 335,
   "metadata": {},
   "outputs": [
    {
     "data": {
      "text/plain": [
       "0.013640639698965193"
      ]
     },
     "execution_count": 335,
     "metadata": {},
     "output_type": "execute_result"
    }
   ],
   "source": [
    "accuracy_level3hh = accuracy_score(class3_te, pred_level3hh)\n",
    "accuracy_level3hh"
   ]
  },
  {
   "cell_type": "code",
   "execution_count": 336,
   "metadata": {},
   "outputs": [
    {
     "data": {
      "text/plain": [
       "MultinomialNB()"
      ]
     },
     "execution_count": 336,
     "metadata": {},
     "output_type": "execute_result"
    }
   ],
   "source": [
    "# c2_35: \n",
    "model.fit(X_train.loc[c2_35], class3[c2_35])"
   ]
  },
  {
   "cell_type": "code",
   "execution_count": 337,
   "metadata": {},
   "outputs": [],
   "source": [
    "# c2_35\n",
    "with open('c2_35.pk', 'wb') as cls:\n",
    "    pickle.dump(model, cls)"
   ]
  },
  {
   "cell_type": "code",
   "execution_count": 338,
   "metadata": {},
   "outputs": [],
   "source": [
    "# c2_35\n",
    "with open('c2_35.pk', 'rb') as nb:\n",
    "    model = pickle.load(nb)"
   ]
  },
  {
   "cell_type": "code",
   "execution_count": 339,
   "metadata": {},
   "outputs": [
    {
     "data": {
      "text/plain": [
       "array(['2C15', '5BE9', '627D', 'FA9E'], dtype='<U4')"
      ]
     },
     "execution_count": 339,
     "metadata": {},
     "output_type": "execute_result"
    }
   ],
   "source": [
    "# predict level 3 using level2 \n",
    "pred_level3ii = model.predict(X_test)\n",
    "np.unique(pred_level3ii)"
   ]
  },
  {
   "cell_type": "code",
   "execution_count": 340,
   "metadata": {},
   "outputs": [
    {
     "data": {
      "text/plain": [
       "0.017873941674506115"
      ]
     },
     "execution_count": 340,
     "metadata": {},
     "output_type": "execute_result"
    }
   ],
   "source": [
    "accuracy_level3ii = accuracy_score(class3_te, pred_level3ii)\n",
    "accuracy_level3ii"
   ]
  },
  {
   "cell_type": "code",
   "execution_count": 341,
   "metadata": {},
   "outputs": [
    {
     "data": {
      "text/plain": [
       "MultinomialNB()"
      ]
     },
     "execution_count": 341,
     "metadata": {},
     "output_type": "execute_result"
    }
   ],
   "source": [
    "# c2_36: \n",
    "model.fit(X_train.loc[c2_36], class3[c2_36])"
   ]
  },
  {
   "cell_type": "code",
   "execution_count": 342,
   "metadata": {},
   "outputs": [],
   "source": [
    "# c2_36\n",
    "with open('c2_36.pk', 'wb') as cls:\n",
    "    pickle.dump(model, cls)"
   ]
  },
  {
   "cell_type": "code",
   "execution_count": 343,
   "metadata": {},
   "outputs": [],
   "source": [
    "# c2_36\n",
    "with open('c2_36.pk', 'rb') as nb:\n",
    "    model = pickle.load(nb)"
   ]
  },
  {
   "cell_type": "code",
   "execution_count": 344,
   "metadata": {},
   "outputs": [
    {
     "data": {
      "text/plain": [
       "array(['6253'], dtype='<U4')"
      ]
     },
     "execution_count": 344,
     "metadata": {},
     "output_type": "execute_result"
    }
   ],
   "source": [
    "# predict level 3 using level2 \n",
    "pred_level3jj = model.predict(X_test)\n",
    "np.unique(pred_level3jj)"
   ]
  },
  {
   "cell_type": "code",
   "execution_count": 345,
   "metadata": {},
   "outputs": [
    {
     "data": {
      "text/plain": [
       "0.007525870178739417"
      ]
     },
     "execution_count": 345,
     "metadata": {},
     "output_type": "execute_result"
    }
   ],
   "source": [
    "accuracy_level3jj = accuracy_score(class3_te, pred_level3jj)\n",
    "accuracy_level3jj"
   ]
  },
  {
   "cell_type": "markdown",
   "metadata": {},
   "source": [
    "## Predict the test set (8 marks)"
   ]
  },
  {
   "cell_type": "code",
   "execution_count": 281,
   "metadata": {},
   "outputs": [],
   "source": [
    "# Creating an empty Dataframe with column names only (depends on you how you do things)\n",
    "#results = pd.DataFrame(columns=['Level1_Pred', 'Level2_Pred', 'Level3_Pred'])\n",
    "\n",
    "## loop through the test data, predict level 1, then based on that predict level 2\n",
    "## and based on level 2 predict level 3 (you need to load saved models accordingly)\n",
    "#with open('level1.pk', 'rb') as nb:\n",
    "#    model = pickle.load(nb)\n"
   ]
  },
  {
   "cell_type": "code",
   "execution_count": 390,
   "metadata": {},
   "outputs": [
    {
     "data": {
      "text/html": [
       "<div>\n",
       "<style scoped>\n",
       "    .dataframe tbody tr th:only-of-type {\n",
       "        vertical-align: middle;\n",
       "    }\n",
       "\n",
       "    .dataframe tbody tr th {\n",
       "        vertical-align: top;\n",
       "    }\n",
       "\n",
       "    .dataframe thead th {\n",
       "        text-align: right;\n",
       "    }\n",
       "</style>\n",
       "<table border=\"1\" class=\"dataframe\">\n",
       "  <thead>\n",
       "    <tr style=\"text-align: right;\">\n",
       "      <th></th>\n",
       "      <th>Pred_Level1</th>\n",
       "    </tr>\n",
       "  </thead>\n",
       "  <tbody>\n",
       "    <tr>\n",
       "      <th>0</th>\n",
       "      <td>B092BA29</td>\n",
       "    </tr>\n",
       "    <tr>\n",
       "      <th>1</th>\n",
       "      <td>09BF5150</td>\n",
       "    </tr>\n",
       "    <tr>\n",
       "      <th>2</th>\n",
       "      <td>2CEC27F1</td>\n",
       "    </tr>\n",
       "    <tr>\n",
       "      <th>3</th>\n",
       "      <td>57164AC1</td>\n",
       "    </tr>\n",
       "    <tr>\n",
       "      <th>4</th>\n",
       "      <td>57164AC1</td>\n",
       "    </tr>\n",
       "    <tr>\n",
       "      <th>...</th>\n",
       "      <td>...</td>\n",
       "    </tr>\n",
       "    <tr>\n",
       "      <th>2121</th>\n",
       "      <td>35E04739</td>\n",
       "    </tr>\n",
       "    <tr>\n",
       "      <th>2122</th>\n",
       "      <td>B092BA29</td>\n",
       "    </tr>\n",
       "    <tr>\n",
       "      <th>2123</th>\n",
       "      <td>AAC8EE56</td>\n",
       "    </tr>\n",
       "    <tr>\n",
       "      <th>2124</th>\n",
       "      <td>35E04739</td>\n",
       "    </tr>\n",
       "    <tr>\n",
       "      <th>2125</th>\n",
       "      <td>2CEC27F1</td>\n",
       "    </tr>\n",
       "  </tbody>\n",
       "</table>\n",
       "<p>2126 rows × 1 columns</p>\n",
       "</div>"
      ],
      "text/plain": [
       "     Pred_Level1\n",
       "0       B092BA29\n",
       "1       09BF5150\n",
       "2       2CEC27F1\n",
       "3       57164AC1\n",
       "4       57164AC1\n",
       "...          ...\n",
       "2121    35E04739\n",
       "2122    B092BA29\n",
       "2123    AAC8EE56\n",
       "2124    35E04739\n",
       "2125    2CEC27F1\n",
       "\n",
       "[2126 rows x 1 columns]"
      ]
     },
     "execution_count": 390,
     "metadata": {},
     "output_type": "execute_result"
    }
   ],
   "source": [
    "predict_level1 = pd.DataFrame((pred_level1),columns = ['Pred_Level1'])\n",
    "predict_level1"
   ]
  },
  {
   "cell_type": "code",
   "execution_count": 419,
   "metadata": {},
   "outputs": [],
   "source": [
    "pred_level2 = pd.DataFrame (np.stack((pred_level2a, pred_level2b, pred_level2c, pred_level2d, pred_level2e, pred_level2f,\n",
    "               pred_level2g, pred_level2h, pred_level2j, pred_level2k,\n",
    "               pred_level2l, pred_level2m, pred_level2n, pred_level2o), axis = 1))"
   ]
  },
  {
   "cell_type": "code",
   "execution_count": 420,
   "metadata": {},
   "outputs": [],
   "source": [
    "pred_level2 = pd.DataFrame((pred_level2a), columns = ['Pred_Level2'])"
   ]
  },
  {
   "cell_type": "code",
   "execution_count": 421,
   "metadata": {},
   "outputs": [
    {
     "data": {
      "text/plain": [
       "array(['77F62', '7AED7'], dtype=object)"
      ]
     },
     "execution_count": 421,
     "metadata": {},
     "output_type": "execute_result"
    }
   ],
   "source": [
    "np.unique(pred_level2)"
   ]
  },
  {
   "cell_type": "code",
   "execution_count": 422,
   "metadata": {},
   "outputs": [],
   "source": [
    "pred_level3 = pd.DataFrame(np.stack((pred_level3a, pred_level3b, pred_level3c, pred_level3d, pred_level3e,\n",
    "                        pred_level3f, pred_level3g, pred_level3h, pred_level3i, pred_level3j,\n",
    "                        pred_level3k, pred_level3l, pred_level3m, pred_level3n, pred_level3o), axis = 1))"
   ]
  },
  {
   "cell_type": "code",
   "execution_count": 433,
   "metadata": {},
   "outputs": [],
   "source": [
    "results = pd.DataFrame(np.stack((pred_level1, pred_level2a, pred_level3a), axis = 1))"
   ]
  },
  {
   "cell_type": "code",
   "execution_count": 436,
   "metadata": {},
   "outputs": [
    {
     "data": {
      "text/html": [
       "<div>\n",
       "<style scoped>\n",
       "    .dataframe tbody tr th:only-of-type {\n",
       "        vertical-align: middle;\n",
       "    }\n",
       "\n",
       "    .dataframe tbody tr th {\n",
       "        vertical-align: top;\n",
       "    }\n",
       "\n",
       "    .dataframe thead th {\n",
       "        text-align: right;\n",
       "    }\n",
       "</style>\n",
       "<table border=\"1\" class=\"dataframe\">\n",
       "  <thead>\n",
       "    <tr style=\"text-align: right;\">\n",
       "      <th></th>\n",
       "      <th>0</th>\n",
       "      <th>1</th>\n",
       "      <th>2</th>\n",
       "    </tr>\n",
       "  </thead>\n",
       "  <tbody>\n",
       "    <tr>\n",
       "      <th>0</th>\n",
       "      <td>B092BA29</td>\n",
       "      <td>7AED7</td>\n",
       "      <td>5AE1</td>\n",
       "    </tr>\n",
       "    <tr>\n",
       "      <th>1</th>\n",
       "      <td>09BF5150</td>\n",
       "      <td>7AED7</td>\n",
       "      <td>5AE1</td>\n",
       "    </tr>\n",
       "    <tr>\n",
       "      <th>2</th>\n",
       "      <td>2CEC27F1</td>\n",
       "      <td>7AED7</td>\n",
       "      <td>5AE1</td>\n",
       "    </tr>\n",
       "    <tr>\n",
       "      <th>3</th>\n",
       "      <td>57164AC1</td>\n",
       "      <td>7AED7</td>\n",
       "      <td>5AE1</td>\n",
       "    </tr>\n",
       "    <tr>\n",
       "      <th>4</th>\n",
       "      <td>57164AC1</td>\n",
       "      <td>7AED7</td>\n",
       "      <td>5AE1</td>\n",
       "    </tr>\n",
       "    <tr>\n",
       "      <th>...</th>\n",
       "      <td>...</td>\n",
       "      <td>...</td>\n",
       "      <td>...</td>\n",
       "    </tr>\n",
       "    <tr>\n",
       "      <th>2121</th>\n",
       "      <td>35E04739</td>\n",
       "      <td>7AED7</td>\n",
       "      <td>5AE1</td>\n",
       "    </tr>\n",
       "    <tr>\n",
       "      <th>2122</th>\n",
       "      <td>B092BA29</td>\n",
       "      <td>7AED7</td>\n",
       "      <td>5AE1</td>\n",
       "    </tr>\n",
       "    <tr>\n",
       "      <th>2123</th>\n",
       "      <td>AAC8EE56</td>\n",
       "      <td>7AED7</td>\n",
       "      <td>5AE1</td>\n",
       "    </tr>\n",
       "    <tr>\n",
       "      <th>2124</th>\n",
       "      <td>35E04739</td>\n",
       "      <td>7AED7</td>\n",
       "      <td>5AE1</td>\n",
       "    </tr>\n",
       "    <tr>\n",
       "      <th>2125</th>\n",
       "      <td>2CEC27F1</td>\n",
       "      <td>7AED7</td>\n",
       "      <td>5AE1</td>\n",
       "    </tr>\n",
       "  </tbody>\n",
       "</table>\n",
       "<p>2126 rows × 3 columns</p>\n",
       "</div>"
      ],
      "text/plain": [
       "             0      1     2\n",
       "0     B092BA29  7AED7  5AE1\n",
       "1     09BF5150  7AED7  5AE1\n",
       "2     2CEC27F1  7AED7  5AE1\n",
       "3     57164AC1  7AED7  5AE1\n",
       "4     57164AC1  7AED7  5AE1\n",
       "...        ...    ...   ...\n",
       "2121  35E04739  7AED7  5AE1\n",
       "2122  B092BA29  7AED7  5AE1\n",
       "2123  AAC8EE56  7AED7  5AE1\n",
       "2124  35E04739  7AED7  5AE1\n",
       "2125  2CEC27F1  7AED7  5AE1\n",
       "\n",
       "[2126 rows x 3 columns]"
      ]
     },
     "execution_count": 436,
     "metadata": {},
     "output_type": "execute_result"
    }
   ],
   "source": [
    "results"
   ]
  },
  {
   "cell_type": "markdown",
   "metadata": {},
   "source": [
    "## Compute Accuracy on each level (4 marks)\n",
    "Now you have the predictions for each level (in the test data), and you also have the actual levels, you can compute the accurcay"
   ]
  },
  {
   "cell_type": "code",
   "execution_count": 437,
   "metadata": {},
   "outputs": [
    {
     "data": {
      "text/plain": [
       "0.6792097836312324"
      ]
     },
     "execution_count": 437,
     "metadata": {},
     "output_type": "execute_result"
    }
   ],
   "source": [
    "# Level 1 accuracy\n",
    "accuracy_level1 = accuracy_score(class1_te, pred_level1)\n",
    "accuracy_level1"
   ]
  },
  {
   "cell_type": "code",
   "execution_count": 439,
   "metadata": {},
   "outputs": [],
   "source": [
    "# Level 2 accuracy \n",
    "accuracy_level2 = pd.DataFrame(np.stack((accuracy_level2a, accuracy_level2b, accuracy_level2c, accuracy_level2d, accuracy_level2e,\n",
    "                        accuracy_level2f, accuracy_level2g, accuracy_level2h, accuracy_level2j,\n",
    "                        accuracy_level2k, accuracy_level2l, accuracy_level2m, accuracy_level2n, accuracy_level2o)),columns = ['accuracy_level2'])"
   ]
  },
  {
   "cell_type": "code",
   "execution_count": 297,
   "metadata": {},
   "outputs": [
    {
     "data": {
      "text/html": [
       "<div>\n",
       "<style scoped>\n",
       "    .dataframe tbody tr th:only-of-type {\n",
       "        vertical-align: middle;\n",
       "    }\n",
       "\n",
       "    .dataframe tbody tr th {\n",
       "        vertical-align: top;\n",
       "    }\n",
       "\n",
       "    .dataframe thead th {\n",
       "        text-align: right;\n",
       "    }\n",
       "</style>\n",
       "<table border=\"1\" class=\"dataframe\">\n",
       "  <thead>\n",
       "    <tr style=\"text-align: right;\">\n",
       "      <th></th>\n",
       "      <th>accuracy_level2</th>\n",
       "    </tr>\n",
       "  </thead>\n",
       "  <tbody>\n",
       "    <tr>\n",
       "      <th>0</th>\n",
       "      <td>0.027281</td>\n",
       "    </tr>\n",
       "    <tr>\n",
       "      <th>1</th>\n",
       "      <td>0.040452</td>\n",
       "    </tr>\n",
       "    <tr>\n",
       "      <th>2</th>\n",
       "      <td>0.040452</td>\n",
       "    </tr>\n",
       "    <tr>\n",
       "      <th>3</th>\n",
       "      <td>0.043744</td>\n",
       "    </tr>\n",
       "    <tr>\n",
       "      <th>4</th>\n",
       "      <td>0.040922</td>\n",
       "    </tr>\n",
       "    <tr>\n",
       "      <th>5</th>\n",
       "      <td>0.038570</td>\n",
       "    </tr>\n",
       "    <tr>\n",
       "      <th>6</th>\n",
       "      <td>0.036218</td>\n",
       "    </tr>\n",
       "    <tr>\n",
       "      <th>7</th>\n",
       "      <td>0.043274</td>\n",
       "    </tr>\n",
       "    <tr>\n",
       "      <th>8</th>\n",
       "      <td>0.072437</td>\n",
       "    </tr>\n",
       "    <tr>\n",
       "      <th>9</th>\n",
       "      <td>0.044214</td>\n",
       "    </tr>\n",
       "    <tr>\n",
       "      <th>10</th>\n",
       "      <td>0.041392</td>\n",
       "    </tr>\n",
       "    <tr>\n",
       "      <th>11</th>\n",
       "      <td>0.038100</td>\n",
       "    </tr>\n",
       "    <tr>\n",
       "      <th>12</th>\n",
       "      <td>0.039511</td>\n",
       "    </tr>\n",
       "    <tr>\n",
       "      <th>13</th>\n",
       "      <td>0.044214</td>\n",
       "    </tr>\n",
       "    <tr>\n",
       "      <th>14</th>\n",
       "      <td>0.043274</td>\n",
       "    </tr>\n",
       "  </tbody>\n",
       "</table>\n",
       "</div>"
      ],
      "text/plain": [
       "    accuracy_level2\n",
       "0          0.027281\n",
       "1          0.040452\n",
       "2          0.040452\n",
       "3          0.043744\n",
       "4          0.040922\n",
       "5          0.038570\n",
       "6          0.036218\n",
       "7          0.043274\n",
       "8          0.072437\n",
       "9          0.044214\n",
       "10         0.041392\n",
       "11         0.038100\n",
       "12         0.039511\n",
       "13         0.044214\n",
       "14         0.043274"
      ]
     },
     "execution_count": 297,
     "metadata": {},
     "output_type": "execute_result"
    }
   ],
   "source": [
    "accuracy_level2"
   ]
  },
  {
   "cell_type": "code",
   "execution_count": 440,
   "metadata": {},
   "outputs": [],
   "source": [
    "# Level 3 accuracy \n",
    "accuracy_level3 = pd.DataFrame(np.stack((accuracy_level3a, accuracy_level3b, accuracy_level3c, accuracy_level3d, accuracy_level3e,\n",
    "                        accuracy_level3f, accuracy_level3g, accuracy_level3h, accuracy_level3i, accuracy_level3j,\n",
    "                        accuracy_level3k, accuracy_level3l, accuracy_level3m, accuracy_level3n, accuracy_level3o)),columns = ['accuracy_level3'])"
   ]
  },
  {
   "cell_type": "code",
   "execution_count": 441,
   "metadata": {},
   "outputs": [
    {
     "data": {
      "text/html": [
       "<div>\n",
       "<style scoped>\n",
       "    .dataframe tbody tr th:only-of-type {\n",
       "        vertical-align: middle;\n",
       "    }\n",
       "\n",
       "    .dataframe tbody tr th {\n",
       "        vertical-align: top;\n",
       "    }\n",
       "\n",
       "    .dataframe thead th {\n",
       "        text-align: right;\n",
       "    }\n",
       "</style>\n",
       "<table border=\"1\" class=\"dataframe\">\n",
       "  <thead>\n",
       "    <tr style=\"text-align: right;\">\n",
       "      <th></th>\n",
       "      <th>accuracy_level3</th>\n",
       "    </tr>\n",
       "  </thead>\n",
       "  <tbody>\n",
       "    <tr>\n",
       "      <th>0</th>\n",
       "      <td>0.006115</td>\n",
       "    </tr>\n",
       "    <tr>\n",
       "      <th>1</th>\n",
       "      <td>0.013641</td>\n",
       "    </tr>\n",
       "    <tr>\n",
       "      <th>2</th>\n",
       "      <td>0.007996</td>\n",
       "    </tr>\n",
       "    <tr>\n",
       "      <th>3</th>\n",
       "      <td>0.010348</td>\n",
       "    </tr>\n",
       "    <tr>\n",
       "      <th>4</th>\n",
       "      <td>0.004704</td>\n",
       "    </tr>\n",
       "    <tr>\n",
       "      <th>5</th>\n",
       "      <td>0.004704</td>\n",
       "    </tr>\n",
       "    <tr>\n",
       "      <th>6</th>\n",
       "      <td>0.001411</td>\n",
       "    </tr>\n",
       "    <tr>\n",
       "      <th>7</th>\n",
       "      <td>0.015522</td>\n",
       "    </tr>\n",
       "    <tr>\n",
       "      <th>8</th>\n",
       "      <td>0.009878</td>\n",
       "    </tr>\n",
       "    <tr>\n",
       "      <th>9</th>\n",
       "      <td>0.022107</td>\n",
       "    </tr>\n",
       "    <tr>\n",
       "      <th>10</th>\n",
       "      <td>0.016933</td>\n",
       "    </tr>\n",
       "    <tr>\n",
       "      <th>11</th>\n",
       "      <td>0.015522</td>\n",
       "    </tr>\n",
       "    <tr>\n",
       "      <th>12</th>\n",
       "      <td>0.019755</td>\n",
       "    </tr>\n",
       "    <tr>\n",
       "      <th>13</th>\n",
       "      <td>0.014111</td>\n",
       "    </tr>\n",
       "    <tr>\n",
       "      <th>14</th>\n",
       "      <td>0.008937</td>\n",
       "    </tr>\n",
       "  </tbody>\n",
       "</table>\n",
       "</div>"
      ],
      "text/plain": [
       "    accuracy_level3\n",
       "0          0.006115\n",
       "1          0.013641\n",
       "2          0.007996\n",
       "3          0.010348\n",
       "4          0.004704\n",
       "5          0.004704\n",
       "6          0.001411\n",
       "7          0.015522\n",
       "8          0.009878\n",
       "9          0.022107\n",
       "10         0.016933\n",
       "11         0.015522\n",
       "12         0.019755\n",
       "13         0.014111\n",
       "14         0.008937"
      ]
     },
     "execution_count": 441,
     "metadata": {},
     "output_type": "execute_result"
    }
   ],
   "source": [
    "accuracy_level3"
   ]
  },
  {
   "cell_type": "markdown",
   "metadata": {},
   "source": [
    "## Well done!"
   ]
  }
 ],
 "metadata": {
  "kernelspec": {
   "display_name": "Python 3 (ipykernel)",
   "language": "python",
   "name": "python3"
  },
  "language_info": {
   "codemirror_mode": {
    "name": "ipython",
    "version": 3
   },
   "file_extension": ".py",
   "mimetype": "text/x-python",
   "name": "python",
   "nbconvert_exporter": "python",
   "pygments_lexer": "ipython3",
   "version": "3.11.5"
  },
  "nbTranslate": {
   "displayLangs": [
    "*"
   ],
   "hotkey": "alt-t",
   "langInMainMenu": true,
   "sourceLang": "en",
   "targetLang": "fr",
   "useGoogleTranslate": true
  }
 },
 "nbformat": 4,
 "nbformat_minor": 4
}
